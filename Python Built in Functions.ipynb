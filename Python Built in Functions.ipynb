{
 "cells": [
  {
   "cell_type": "markdown",
   "metadata": {},
   "source": [
    "# abs()"
   ]
  },
  {
   "cell_type": "code",
   "execution_count": 4,
   "metadata": {},
   "outputs": [
    {
     "name": "stdout",
     "output_type": "stream",
     "text": [
      "4\n",
      "4\n"
     ]
    }
   ],
   "source": [
    "def sub(a,b):\n",
    "    return abs(a-b)\n",
    "\n",
    "print(sub(1,5))\n",
    "print(sub(5,1))"
   ]
  },
  {
   "cell_type": "markdown",
   "metadata": {},
   "source": [
    "# all()"
   ]
  },
  {
   "cell_type": "markdown",
   "metadata": {},
   "source": [
    "Returns True if all items in an iterable object are true"
   ]
  },
  {
   "cell_type": "code",
   "execution_count": 6,
   "metadata": {},
   "outputs": [
    {
     "name": "stdout",
     "output_type": "stream",
     "text": [
      "True\n"
     ]
    }
   ],
   "source": [
    "list_a = [1,2,3]\n",
    "print(all(list_a))"
   ]
  },
  {
   "cell_type": "code",
   "execution_count": 7,
   "metadata": {},
   "outputs": [
    {
     "name": "stdout",
     "output_type": "stream",
     "text": [
      "True\n"
     ]
    }
   ],
   "source": [
    "list_a = [1,2,3,\"ahsgdjh\"]\n",
    "print(all(list_a))"
   ]
  },
  {
   "cell_type": "code",
   "execution_count": 8,
   "metadata": {},
   "outputs": [
    {
     "name": "stdout",
     "output_type": "stream",
     "text": [
      "False\n"
     ]
    }
   ],
   "source": [
    "list_a = [0,2,3]\n",
    "print(all(list_a))"
   ]
  },
  {
   "cell_type": "code",
   "execution_count": 10,
   "metadata": {},
   "outputs": [
    {
     "name": "stdout",
     "output_type": "stream",
     "text": [
      "False\n"
     ]
    }
   ],
   "source": [
    "list_a = [\"True\",1,2,3,0]\n",
    "print(all(list_a))"
   ]
  },
  {
   "cell_type": "code",
   "execution_count": 11,
   "metadata": {},
   "outputs": [
    {
     "name": "stdout",
     "output_type": "stream",
     "text": [
      "False\n"
     ]
    }
   ],
   "source": [
    "list_a = [1,2,3,False]\n",
    "print(all(list_a))"
   ]
  },
  {
   "cell_type": "code",
   "execution_count": 12,
   "metadata": {},
   "outputs": [
    {
     "name": "stdout",
     "output_type": "stream",
     "text": [
      "True\n"
     ]
    }
   ],
   "source": [
    "set_a={1,2,3,4}\n",
    "print(all(set_a))"
   ]
  },
  {
   "cell_type": "code",
   "execution_count": 13,
   "metadata": {},
   "outputs": [
    {
     "name": "stdout",
     "output_type": "stream",
     "text": [
      "False\n"
     ]
    }
   ],
   "source": [
    "set_a={1,2,3,4,0}\n",
    "print(all(set_a))"
   ]
  },
  {
   "cell_type": "code",
   "execution_count": 14,
   "metadata": {},
   "outputs": [
    {
     "name": "stdout",
     "output_type": "stream",
     "text": [
      "False\n"
     ]
    }
   ],
   "source": [
    "set_a={1,2,3,4,False}\n",
    "print(all(set_a))"
   ]
  },
  {
   "cell_type": "markdown",
   "metadata": {},
   "source": [
    "When used on a dictionary, the all() function checks if all the keys are true, not the values."
   ]
  },
  {
   "cell_type": "code",
   "execution_count": 17,
   "metadata": {},
   "outputs": [
    {
     "name": "stdout",
     "output_type": "stream",
     "text": [
      "False\n"
     ]
    }
   ],
   "source": [
    "mydict = {0 : \"Apple\", 1 : \"Orange\"}\n",
    "print(all(mydict))"
   ]
  },
  {
   "cell_type": "markdown",
   "metadata": {},
   "source": [
    "# any()\t"
   ]
  },
  {
   "cell_type": "markdown",
   "metadata": {},
   "source": [
    "Returns True if any item in an iterable object is true"
   ]
  },
  {
   "cell_type": "code",
   "execution_count": 23,
   "metadata": {},
   "outputs": [
    {
     "name": "stdout",
     "output_type": "stream",
     "text": [
      "True\n"
     ]
    }
   ],
   "source": [
    "set_a={False,1}\n",
    "print(any(set_a))"
   ]
  },
  {
   "cell_type": "markdown",
   "metadata": {},
   "source": [
    "# ascii()"
   ]
  },
  {
   "cell_type": "markdown",
   "metadata": {},
   "source": [
    "The ascii() function returns a readable version of any object (Strings, Tuples, Lists, etc)."
   ]
  },
  {
   "cell_type": "code",
   "execution_count": 25,
   "metadata": {},
   "outputs": [
    {
     "name": "stdout",
     "output_type": "stream",
     "text": [
      "'My name is St\\xe5le'\n"
     ]
    }
   ],
   "source": [
    "x = ascii(\"My name is Ståle\")\n",
    "print(x)"
   ]
  },
  {
   "cell_type": "markdown",
   "metadata": {},
   "source": [
    "# bin()"
   ]
  },
  {
   "cell_type": "code",
   "execution_count": 26,
   "metadata": {},
   "outputs": [
    {
     "name": "stdout",
     "output_type": "stream",
     "text": [
      "0b1010\n"
     ]
    }
   ],
   "source": [
    "print(bin(10))"
   ]
  },
  {
   "cell_type": "markdown",
   "metadata": {},
   "source": [
    "# bytearray()"
   ]
  },
  {
   "cell_type": "code",
   "execution_count": 18,
   "metadata": {},
   "outputs": [
    {
     "name": "stdout",
     "output_type": "stream",
     "text": [
      "a\n",
      "s\n",
      "d\n",
      "a\n",
      "s\n",
      "d\n",
      "b\n"
     ]
    }
   ],
   "source": [
    "x = bytearray(\"asdasd\",\"utf-8\")\n",
    "for i in x:\n",
    "    print(chr(i))\n",
    "    \n",
    "\n",
    "x[0] = 98\n",
    "\n",
    "\n",
    "print(chr(x[0]))"
   ]
  },
  {
   "cell_type": "code",
   "execution_count": 6,
   "metadata": {},
   "outputs": [
    {
     "name": "stdout",
     "output_type": "stream",
     "text": [
      "97\n",
      "115\n",
      "100\n",
      "97\n",
      "115\n",
      "100\n"
     ]
    },
    {
     "ename": "TypeError",
     "evalue": "'bytes' object does not support item assignment",
     "output_type": "error",
     "traceback": [
      "\u001b[1;31m---------------------------------------------------------------------------\u001b[0m",
      "\u001b[1;31mTypeError\u001b[0m                                 Traceback (most recent call last)",
      "\u001b[1;32m<ipython-input-6-f8dba37f2d47>\u001b[0m in \u001b[0;36m<module>\u001b[1;34m\u001b[0m\n\u001b[0;32m      3\u001b[0m     \u001b[0mprint\u001b[0m\u001b[1;33m(\u001b[0m\u001b[1;33m(\u001b[0m\u001b[0mi\u001b[0m\u001b[1;33m)\u001b[0m\u001b[1;33m)\u001b[0m\u001b[1;33m\u001b[0m\u001b[1;33m\u001b[0m\u001b[0m\n\u001b[0;32m      4\u001b[0m \u001b[1;33m\u001b[0m\u001b[0m\n\u001b[1;32m----> 5\u001b[1;33m \u001b[0mx\u001b[0m\u001b[1;33m[\u001b[0m\u001b[1;36m0\u001b[0m\u001b[1;33m]\u001b[0m \u001b[1;33m=\u001b[0m \u001b[1;36m98\u001b[0m\u001b[1;33m\u001b[0m\u001b[1;33m\u001b[0m\u001b[0m\n\u001b[0m",
      "\u001b[1;31mTypeError\u001b[0m: 'bytes' object does not support item assignment"
     ]
    }
   ],
   "source": [
    "x = bytes(\"asdasd\",\"utf-8\")\n",
    "for i in x:\n",
    "    print((i))\n",
    "    \n",
    "#x[0] = 98 # bytes' object does not support item assignment"
   ]
  },
  {
   "cell_type": "markdown",
   "metadata": {},
   "source": [
    "# callable()"
   ]
  },
  {
   "cell_type": "code",
   "execution_count": null,
   "metadata": {},
   "outputs": [],
   "source": [
    "def x():\n",
    "  a = 5\n",
    "\n",
    "print(callable(x))\n"
   ]
  },
  {
   "cell_type": "code",
   "execution_count": 7,
   "metadata": {},
   "outputs": [
    {
     "name": "stdout",
     "output_type": "stream",
     "text": [
      "False\n"
     ]
    }
   ],
   "source": [
    "x = 5\n",
    "print(callable(x))"
   ]
  },
  {
   "cell_type": "markdown",
   "metadata": {},
   "source": [
    "# chr ()"
   ]
  },
  {
   "cell_type": "code",
   "execution_count": 9,
   "metadata": {},
   "outputs": [
    {
     "name": "stdout",
     "output_type": "stream",
     "text": [
      "a\n"
     ]
    }
   ],
   "source": [
    "print(chr(97))"
   ]
  },
  {
   "cell_type": "markdown",
   "metadata": {},
   "source": [
    "# classmethod()"
   ]
  },
  {
   "cell_type": "code",
   "execution_count": 28,
   "metadata": {},
   "outputs": [
    {
     "name": "stdout",
     "output_type": "stream",
     "text": [
      "The age is: 25\n",
      "The age is: 25\n",
      "The age is: 30\n"
     ]
    }
   ],
   "source": [
    "class Person:\n",
    "    age = 25\n",
    "    \n",
    "    def __init__(self,x):\n",
    "        self.age = x\n",
    "    \n",
    "    def printAge(cls):\n",
    "        print('The age is:', cls.age)\n",
    "    \n",
    "    def printAge1(cls):\n",
    "        print('The age is:', cls.age)\n",
    "\n",
    "# create printAge class method\n",
    "Person.printAge = classmethod(Person.printAge)\n",
    "Person.printAge()\n",
    "p = Person(30)\n",
    "p.printAge()\n",
    "p.printAge1()"
   ]
  },
  {
   "cell_type": "markdown",
   "metadata": {},
   "source": [
    "\n",
    "# complex()\n",
    "    "
   ]
  },
  {
   "cell_type": "code",
   "execution_count": 30,
   "metadata": {},
   "outputs": [
    {
     "name": "stdout",
     "output_type": "stream",
     "text": [
      "(3+5j)\n"
     ]
    }
   ],
   "source": [
    "x = complex(3, 5)\n",
    "print(x)"
   ]
  },
  {
   "cell_type": "markdown",
   "metadata": {},
   "source": [
    "# delattr(object, attribute)"
   ]
  },
  {
   "cell_type": "code",
   "execution_count": 32,
   "metadata": {},
   "outputs": [],
   "source": [
    "class Person:\n",
    "    \n",
    "    name = \"John\"\n",
    "    age = 36\n",
    "    country = \"Norway\"\n",
    "\n",
    "delattr(Person, 'age')"
   ]
  },
  {
   "cell_type": "code",
   "execution_count": 33,
   "metadata": {},
   "outputs": [
    {
     "data": {
      "text/plain": [
       "'John'"
      ]
     },
     "execution_count": 33,
     "metadata": {},
     "output_type": "execute_result"
    }
   ],
   "source": [
    "Person.name"
   ]
  },
  {
   "cell_type": "code",
   "execution_count": 34,
   "metadata": {},
   "outputs": [
    {
     "ename": "AttributeError",
     "evalue": "type object 'Person' has no attribute 'age'",
     "output_type": "error",
     "traceback": [
      "\u001b[1;31m---------------------------------------------------------------------------\u001b[0m",
      "\u001b[1;31mAttributeError\u001b[0m                            Traceback (most recent call last)",
      "\u001b[1;32m<ipython-input-34-0837781aa700>\u001b[0m in \u001b[0;36m<module>\u001b[1;34m\u001b[0m\n\u001b[1;32m----> 1\u001b[1;33m \u001b[0mPerson\u001b[0m\u001b[1;33m.\u001b[0m\u001b[0mage\u001b[0m\u001b[1;33m\u001b[0m\u001b[1;33m\u001b[0m\u001b[0m\n\u001b[0m",
      "\u001b[1;31mAttributeError\u001b[0m: type object 'Person' has no attribute 'age'"
     ]
    }
   ],
   "source": [
    "Person.age"
   ]
  },
  {
   "cell_type": "markdown",
   "metadata": {},
   "source": [
    "# dict()"
   ]
  },
  {
   "cell_type": "code",
   "execution_count": 35,
   "metadata": {},
   "outputs": [
    {
     "name": "stdout",
     "output_type": "stream",
     "text": [
      "{'name': 'John', 'age': 36, 'country': 'Norway'}\n"
     ]
    }
   ],
   "source": [
    "x = dict(name = \"John\", age = 36, country = \"Norway\")\n",
    "print(x)"
   ]
  },
  {
   "cell_type": "markdown",
   "metadata": {},
   "source": [
    "# dir()"
   ]
  },
  {
   "cell_type": "code",
   "execution_count": 36,
   "metadata": {},
   "outputs": [
    {
     "data": {
      "text/plain": [
       "['__class__',\n",
       " '__delattr__',\n",
       " '__dict__',\n",
       " '__dir__',\n",
       " '__doc__',\n",
       " '__eq__',\n",
       " '__format__',\n",
       " '__ge__',\n",
       " '__getattribute__',\n",
       " '__gt__',\n",
       " '__hash__',\n",
       " '__init__',\n",
       " '__init_subclass__',\n",
       " '__le__',\n",
       " '__lt__',\n",
       " '__module__',\n",
       " '__ne__',\n",
       " '__new__',\n",
       " '__reduce__',\n",
       " '__reduce_ex__',\n",
       " '__repr__',\n",
       " '__setattr__',\n",
       " '__sizeof__',\n",
       " '__str__',\n",
       " '__subclasshook__',\n",
       " '__weakref__',\n",
       " 'country',\n",
       " 'name']"
      ]
     },
     "execution_count": 36,
     "metadata": {},
     "output_type": "execute_result"
    }
   ],
   "source": [
    "dir(Person)"
   ]
  },
  {
   "cell_type": "markdown",
   "metadata": {},
   "source": [
    "# divmod()"
   ]
  },
  {
   "cell_type": "markdown",
   "metadata": {},
   "source": [
    "divmod(dividend, divisor)"
   ]
  },
  {
   "cell_type": "code",
   "execution_count": 38,
   "metadata": {},
   "outputs": [
    {
     "data": {
      "text/plain": [
       "(5, 1)"
      ]
     },
     "execution_count": 38,
     "metadata": {},
     "output_type": "execute_result"
    }
   ],
   "source": [
    "divmod(11,2)"
   ]
  },
  {
   "cell_type": "markdown",
   "metadata": {},
   "source": [
    "# enumerate()\n",
    "The enumerate() function takes a collection (e.g. a tuple) and returns it as an enumerate object.\n",
    "\n",
    "The enumerate() function adds a counter as the key of the enumerate object."
   ]
  },
  {
   "cell_type": "code",
   "execution_count": 39,
   "metadata": {},
   "outputs": [
    {
     "data": {
      "text/plain": [
       "7"
      ]
     },
     "execution_count": 39,
     "metadata": {},
     "output_type": "execute_result"
    }
   ],
   "source": [
    "eval(\"5+2\")"
   ]
  },
  {
   "cell_type": "code",
   "execution_count": 41,
   "metadata": {},
   "outputs": [
    {
     "name": "stdout",
     "output_type": "stream",
     "text": [
      "hi\n"
     ]
    }
   ],
   "source": [
    "exec(\"print('hi')\")"
   ]
  },
  {
   "cell_type": "code",
   "execution_count": 42,
   "metadata": {},
   "outputs": [
    {
     "data": {
      "text/plain": [
       "5.0"
      ]
     },
     "execution_count": 42,
     "metadata": {},
     "output_type": "execute_result"
    }
   ],
   "source": [
    "float(5)"
   ]
  },
  {
   "cell_type": "code",
   "execution_count": 44,
   "metadata": {},
   "outputs": [
    {
     "data": {
      "text/plain": [
       "'50.000000%'"
      ]
     },
     "execution_count": 44,
     "metadata": {},
     "output_type": "execute_result"
    }
   ],
   "source": [
    "# format(value, format)\n",
    "format(0.5,'%')"
   ]
  },
  {
   "cell_type": "code",
   "execution_count": 48,
   "metadata": {},
   "outputs": [
    {
     "data": {
      "text/plain": [
       "'1010'"
      ]
     },
     "execution_count": 48,
     "metadata": {},
     "output_type": "execute_result"
    }
   ],
   "source": [
    "format(10,'b')"
   ]
  },
  {
   "cell_type": "code",
   "execution_count": 49,
   "metadata": {},
   "outputs": [
    {
     "data": {
      "text/plain": [
       "'12'"
      ]
     },
     "execution_count": 49,
     "metadata": {},
     "output_type": "execute_result"
    }
   ],
   "source": [
    "format(10,'o')"
   ]
  },
  {
   "cell_type": "code",
   "execution_count": 53,
   "metadata": {},
   "outputs": [
    {
     "name": "stdout",
     "output_type": "stream",
     "text": [
      "frozenset({'banana', 'cherry', 'apple'})\n",
      "{'banana', 'cherry', 'apple'}\n"
     ]
    }
   ],
   "source": [
    "mylist = ['apple', 'banana', 'cherry']\n",
    "x = frozenset(mylist)\n",
    "y = set(mylist)\n",
    "print(x)\n",
    "print(y)\n"
   ]
  },
  {
   "cell_type": "code",
   "execution_count": 54,
   "metadata": {},
   "outputs": [
    {
     "ename": "TypeError",
     "evalue": "'frozenset' object does not support item assignment",
     "output_type": "error",
     "traceback": [
      "\u001b[1;31m---------------------------------------------------------------------------\u001b[0m",
      "\u001b[1;31mTypeError\u001b[0m                                 Traceback (most recent call last)",
      "\u001b[1;32m<ipython-input-54-62e779ca9df5>\u001b[0m in \u001b[0;36m<module>\u001b[1;34m\u001b[0m\n\u001b[0;32m      1\u001b[0m \u001b[0mmylist\u001b[0m \u001b[1;33m=\u001b[0m \u001b[1;33m[\u001b[0m\u001b[1;34m'apple'\u001b[0m\u001b[1;33m,\u001b[0m \u001b[1;34m'banana'\u001b[0m\u001b[1;33m,\u001b[0m \u001b[1;34m'cherry'\u001b[0m\u001b[1;33m]\u001b[0m\u001b[1;33m\u001b[0m\u001b[1;33m\u001b[0m\u001b[0m\n\u001b[0;32m      2\u001b[0m \u001b[0mx\u001b[0m \u001b[1;33m=\u001b[0m \u001b[0mfrozenset\u001b[0m\u001b[1;33m(\u001b[0m\u001b[0mmylist\u001b[0m\u001b[1;33m)\u001b[0m\u001b[1;33m\u001b[0m\u001b[1;33m\u001b[0m\u001b[0m\n\u001b[1;32m----> 3\u001b[1;33m \u001b[0mx\u001b[0m\u001b[1;33m[\u001b[0m\u001b[1;36m1\u001b[0m\u001b[1;33m]\u001b[0m \u001b[1;33m=\u001b[0m \u001b[1;34m\"strawberry\"\u001b[0m\u001b[1;33m\u001b[0m\u001b[1;33m\u001b[0m\u001b[0m\n\u001b[0m\u001b[0;32m      4\u001b[0m \u001b[0mprint\u001b[0m\u001b[1;33m(\u001b[0m\u001b[0mx\u001b[0m\u001b[1;33m)\u001b[0m\u001b[1;33m\u001b[0m\u001b[1;33m\u001b[0m\u001b[0m\n",
      "\u001b[1;31mTypeError\u001b[0m: 'frozenset' object does not support item assignment"
     ]
    }
   ],
   "source": [
    "mylist = ['apple', 'banana', 'cherry']\n",
    "x = frozenset(mylist)\n",
    "#x[1] = \"strawberry\" \n",
    "# TypeError: 'frozenset' object does not support item assignment\n",
    "print(x)"
   ]
  },
  {
   "cell_type": "markdown",
   "metadata": {},
   "source": [
    "getattr(object, attribute, default)"
   ]
  },
  {
   "cell_type": "code",
   "execution_count": 56,
   "metadata": {},
   "outputs": [
    {
     "data": {
      "text/plain": [
       "'John'"
      ]
     },
     "execution_count": 56,
     "metadata": {},
     "output_type": "execute_result"
    }
   ],
   "source": [
    "getattr(Person, \"name\", \"xyz\")"
   ]
  },
  {
   "cell_type": "code",
   "execution_count": 57,
   "metadata": {},
   "outputs": [
    {
     "data": {
      "text/plain": [
       "'xyz'"
      ]
     },
     "execution_count": 57,
     "metadata": {},
     "output_type": "execute_result"
    }
   ],
   "source": [
    "getattr(Person, \"age\", \"xyz\")"
   ]
  },
  {
   "cell_type": "markdown",
   "metadata": {},
   "source": [
    "The globals() function returns the global symbol table as a dictionary."
   ]
  },
  {
   "cell_type": "code",
   "execution_count": 58,
   "metadata": {},
   "outputs": [
    {
     "name": "stdout",
     "output_type": "stream",
     "text": [
      "{'__name__': '__main__', '__doc__': 'Automatically created module for IPython interactive environment', '__package__': None, '__loader__': None, '__spec__': None, '__builtin__': <module 'builtins' (built-in)>, '__builtins__': <module 'builtins' (built-in)>, '_ih': ['', 'x = bytearray(\"asdasd\",\"utf-8\")\\nfor i in x:\\n\\n\\tprint((i))', '# bytearray()', 'x = bytearray(\"asdasd\",\"utf-8\")\\nfor i in x:\\n    print((i))', 'x = bytes(\"asdasd\",\"utf-8\")\\nfor i in x:\\n    print((i))', 'x = bytearray(\"asdasd\",\"utf-8\")\\nfor i in x:\\n    print((i))\\n    \\n\\nx[0] = 98', 'x = bytes(\"asdasd\",\"utf-8\")\\nfor i in x:\\n    print((i))\\n    \\nx[0] = 98', 'x = 5\\nprint(callable(x))', '# chr ()', 'print(chr(97))', 'x = bytearray(\"asdasd\",\"utf-8\")\\nfor i in x:\\n    print(chr(i))\\n    \\n\\n# x[0] = 98 ', 'x = bytearray(\"asdasd\",\"utf-8\")\\nfor i in x:\\n    print(chr(i))\\n    \\n\\n x[0] = b', 'x = bytearray(\"asdasd\",\"utf-8\")\\nfor i in x:\\n    print(chr(i))\\n    \\n\\nx[0] = b', 'x = bytearray(\"asdasd\",\"utf-8\")\\nfor i in x:\\n    print(chr(i))\\n    \\n\\nx[0] = \"b\"', 'x = bytearray(\"asdasd\",\"utf-8\")\\nfor i in x:\\n    print(chr(i))\\n    \\n\\nx[0] = \\'b\\'', 'x = bytearray(\"asdasd\",\"utf-8\")\\nfor i in x:\\n    print(chr(i))\\n    \\n\\nx[0] = 98', 'x = bytearray(\"asdasd\",\"utf-8\")\\nfor i in x:\\n    print(chr(i))\\n    \\n\\nx[0] = 98\\n\\nfor i in x:\\n    print(chr(i))', 'x = bytearray(\"asdasd\",\"utf-8\")\\nfor i in x:\\n    print(chr(i))\\n    \\n\\nx[0] = 98\\n\\n\\nprint(chr(x[0]))', '# classmethod()', \"class Person:\\n    age = 25\\n\\n    def printAge(cls):\\n        print('The age is:', cls.age)\\n\\n# create printAge class method\\nPerson.printAge = classmethod(Person.printAge)\\n\\nPerson.printAge()\", \"class Person:\\n    age = 25\\n\\n    def printAge(cls):\\n        print('The age is:', cls.age)\\n\\n# create printAge class method\\nPerson.printAge = classmethod(Person.printAge)\\n\\nPerson.printAge()\\n\\np = Person()\\np.age\", \"class Person:\\n    age = 25\\n\\n    def printAge(cls):\\n        print('The age is:', cls.age)\\n\\n# create printAge class method\\nPerson.printAge = classmethod(Person.printAge)\\n\\nPerson.printAge()\\n\\np = Person()\\np.printage()\", \"class Person:\\n    age = 25\\n\\n    def printAge(cls):\\n        print('The age is:', cls.age)\\n\\n# create printAge class method\\nPerson.printAge = classmethod(Person.printAge)\\n\\nPerson.printAge()\\n\\np = Person()\\np.printAge()\", \"class Person:\\n    age = 25\\n    \\n    def __init__(self,x):\\n        self.age = x\\n    def printAge(cls):\\n        print('The age is:', cls.age)\\n\\n# create printAge class method\\nPerson.printAge = classmethod(Person.printAge)\\nPerson.printAge(30)\\np = Person()\\np.printAge()\", \"class Person:\\n    age = 25\\n    \\n    def __init__(self,x):\\n        self.age = x\\n    def printAge(cls):\\n        print('The age is:', cls.age)\\n\\n# create printAge class method\\nPerson.printAge = classmethod(Person.printAge)\\nPerson.printAge()\\np = Person(30)\\np.printAge()\", \"class Person:\\n    age = 25\\n    \\n    def __init__(self,x):\\n        self.age = x\\n    def printAge(cls):\\n        print('The age is:', cls.age)\\n    def printAge1(cls):\\n        print('The age is:', cls.age)\\n\\n# create printAge class method\\nPerson.printAge = classmethod(Person.printAge)\\nPerson.printAge()\\np = Person(30)\\np.printAge()\\np.printAge1()\", \"class Person:\\n    age \\n    \\n    def __init__(self,x):\\n        self.age = x\\n    \\n    def printAge(cls):\\n        print('The age is:', cls.age)\\n    \\n    def printAge1(cls):\\n        print('The age is:', cls.age)\\n\\n# create printAge class method\\nPerson.printAge = classmethod(Person.printAge)\\nPerson.printAge()\\np = Person(30)\\np.printAge()\\np.printAge1()\", \"class Person:\\n    age = 25\\n    \\n    def __init__(self,x):\\n        self.age = x\\n    \\n    def printAge(cls):\\n        print('The age is:', cls.age)\\n    \\n    def printAge1(cls):\\n        print('The age is:', cls.age)\\n\\n# create printAge class method\\nPerson.printAge = classmethod(Person.printAge)\\nPerson.printAge()\\np = Person(30)\\np.printAge()\\np.printAge1()\", 'x = complex(3, 5)', 'x = complex(3, 5)\\nprint(x)', 'class Person:\\n  name = \"John\"\\n  age = 36\\n  country = \"Norway\"\\n\\ndelattr(Person, \\'age\\')', 'class Person:\\n    \\n    name = \"John\"\\n    age = 36\\n    country = \"Norway\"\\n\\ndelattr(Person, \\'age\\')', 'Person.name', 'Person.age', 'x = dict(name = \"John\", age = 36, country = \"Norway\")\\nprint(x)', 'dir(Person)', 'divmod(10,2)', 'divmod(11,2)', 'eval(\"5+2\")', 'exec(\"print(\"hi\")\")', 'exec(\"print(\\'hi\\')\")', 'float(5)', '# format(value, format)\\nformat(0.5,%)', \"# format(value, format)\\nformat(0.5,'%')\", \"format(0.5,'<')\", \"format(0.5,'>')\", \"format(0.5,'+')\", \"format(10,'b')\", \"format(10,'o')\", \"mylist = ['apple', 'banana', 'cherry']\\nx = frozenset(mylist)\\nprint(x)\", \"mylist = ['apple', 'banana', 'cherry']\\nx = frozenset(mylist)\\ny = set(mylist)\\nprint(x)\\nprint(y)\", 'mylist = [\\'apple\\', \\'banana\\', \\'cherry\\']\\nx = frozenset(mylist)\\ny = set(mylist)\\nprint(x)\\nprint(y)\\ny[0] = \"10\"', \"mylist = ['apple', 'banana', 'cherry']\\nx = frozenset(mylist)\\ny = set(mylist)\\nprint(x)\\nprint(y)\", 'mylist = [\\'apple\\', \\'banana\\', \\'cherry\\']\\nx = frozenset(mylist)\\nx[1] = \"strawberry\"\\nprint(x)', 'getattr(Person, \"name\", default)', 'getattr(Person, \"name\", \"xyz\")', 'getattr(Person, \"age\", \"xyz\")', 'x = globals()\\nprint(x)'], '_oh': {21: 25, 33: 'John', 36: ['__class__', '__delattr__', '__dict__', '__dir__', '__doc__', '__eq__', '__format__', '__ge__', '__getattribute__', '__gt__', '__hash__', '__init__', '__init_subclass__', '__le__', '__lt__', '__module__', '__ne__', '__new__', '__reduce__', '__reduce_ex__', '__repr__', '__setattr__', '__sizeof__', '__str__', '__subclasshook__', '__weakref__', 'country', 'name'], 37: (5, 0), 38: (5, 1), 39: 7, 42: 5.0, 44: '50.000000%', 45: '0.5', 46: '0.5', 47: '+0.5', 48: '1010', 49: '12', 56: 'John', 57: 'xyz'}, '_dh': ['C:\\\\Users\\\\NCS\\\\Documents\\\\Python'], 'In': ['', 'x = bytearray(\"asdasd\",\"utf-8\")\\nfor i in x:\\n\\n\\tprint((i))', '# bytearray()', 'x = bytearray(\"asdasd\",\"utf-8\")\\nfor i in x:\\n    print((i))', 'x = bytes(\"asdasd\",\"utf-8\")\\nfor i in x:\\n    print((i))', 'x = bytearray(\"asdasd\",\"utf-8\")\\nfor i in x:\\n    print((i))\\n    \\n\\nx[0] = 98', 'x = bytes(\"asdasd\",\"utf-8\")\\nfor i in x:\\n    print((i))\\n    \\nx[0] = 98', 'x = 5\\nprint(callable(x))', '# chr ()', 'print(chr(97))', 'x = bytearray(\"asdasd\",\"utf-8\")\\nfor i in x:\\n    print(chr(i))\\n    \\n\\n# x[0] = 98 ', 'x = bytearray(\"asdasd\",\"utf-8\")\\nfor i in x:\\n    print(chr(i))\\n    \\n\\n x[0] = b', 'x = bytearray(\"asdasd\",\"utf-8\")\\nfor i in x:\\n    print(chr(i))\\n    \\n\\nx[0] = b', 'x = bytearray(\"asdasd\",\"utf-8\")\\nfor i in x:\\n    print(chr(i))\\n    \\n\\nx[0] = \"b\"', 'x = bytearray(\"asdasd\",\"utf-8\")\\nfor i in x:\\n    print(chr(i))\\n    \\n\\nx[0] = \\'b\\'', 'x = bytearray(\"asdasd\",\"utf-8\")\\nfor i in x:\\n    print(chr(i))\\n    \\n\\nx[0] = 98', 'x = bytearray(\"asdasd\",\"utf-8\")\\nfor i in x:\\n    print(chr(i))\\n    \\n\\nx[0] = 98\\n\\nfor i in x:\\n    print(chr(i))', 'x = bytearray(\"asdasd\",\"utf-8\")\\nfor i in x:\\n    print(chr(i))\\n    \\n\\nx[0] = 98\\n\\n\\nprint(chr(x[0]))', '# classmethod()', \"class Person:\\n    age = 25\\n\\n    def printAge(cls):\\n        print('The age is:', cls.age)\\n\\n# create printAge class method\\nPerson.printAge = classmethod(Person.printAge)\\n\\nPerson.printAge()\", \"class Person:\\n    age = 25\\n\\n    def printAge(cls):\\n        print('The age is:', cls.age)\\n\\n# create printAge class method\\nPerson.printAge = classmethod(Person.printAge)\\n\\nPerson.printAge()\\n\\np = Person()\\np.age\", \"class Person:\\n    age = 25\\n\\n    def printAge(cls):\\n        print('The age is:', cls.age)\\n\\n# create printAge class method\\nPerson.printAge = classmethod(Person.printAge)\\n\\nPerson.printAge()\\n\\np = Person()\\np.printage()\", \"class Person:\\n    age = 25\\n\\n    def printAge(cls):\\n        print('The age is:', cls.age)\\n\\n# create printAge class method\\nPerson.printAge = classmethod(Person.printAge)\\n\\nPerson.printAge()\\n\\np = Person()\\np.printAge()\", \"class Person:\\n    age = 25\\n    \\n    def __init__(self,x):\\n        self.age = x\\n    def printAge(cls):\\n        print('The age is:', cls.age)\\n\\n# create printAge class method\\nPerson.printAge = classmethod(Person.printAge)\\nPerson.printAge(30)\\np = Person()\\np.printAge()\", \"class Person:\\n    age = 25\\n    \\n    def __init__(self,x):\\n        self.age = x\\n    def printAge(cls):\\n        print('The age is:', cls.age)\\n\\n# create printAge class method\\nPerson.printAge = classmethod(Person.printAge)\\nPerson.printAge()\\np = Person(30)\\np.printAge()\", \"class Person:\\n    age = 25\\n    \\n    def __init__(self,x):\\n        self.age = x\\n    def printAge(cls):\\n        print('The age is:', cls.age)\\n    def printAge1(cls):\\n        print('The age is:', cls.age)\\n\\n# create printAge class method\\nPerson.printAge = classmethod(Person.printAge)\\nPerson.printAge()\\np = Person(30)\\np.printAge()\\np.printAge1()\", \"class Person:\\n    age \\n    \\n    def __init__(self,x):\\n        self.age = x\\n    \\n    def printAge(cls):\\n        print('The age is:', cls.age)\\n    \\n    def printAge1(cls):\\n        print('The age is:', cls.age)\\n\\n# create printAge class method\\nPerson.printAge = classmethod(Person.printAge)\\nPerson.printAge()\\np = Person(30)\\np.printAge()\\np.printAge1()\", \"class Person:\\n    age = 25\\n    \\n    def __init__(self,x):\\n        self.age = x\\n    \\n    def printAge(cls):\\n        print('The age is:', cls.age)\\n    \\n    def printAge1(cls):\\n        print('The age is:', cls.age)\\n\\n# create printAge class method\\nPerson.printAge = classmethod(Person.printAge)\\nPerson.printAge()\\np = Person(30)\\np.printAge()\\np.printAge1()\", 'x = complex(3, 5)', 'x = complex(3, 5)\\nprint(x)', 'class Person:\\n  name = \"John\"\\n  age = 36\\n  country = \"Norway\"\\n\\ndelattr(Person, \\'age\\')', 'class Person:\\n    \\n    name = \"John\"\\n    age = 36\\n    country = \"Norway\"\\n\\ndelattr(Person, \\'age\\')', 'Person.name', 'Person.age', 'x = dict(name = \"John\", age = 36, country = \"Norway\")\\nprint(x)', 'dir(Person)', 'divmod(10,2)', 'divmod(11,2)', 'eval(\"5+2\")', 'exec(\"print(\"hi\")\")', 'exec(\"print(\\'hi\\')\")', 'float(5)', '# format(value, format)\\nformat(0.5,%)', \"# format(value, format)\\nformat(0.5,'%')\", \"format(0.5,'<')\", \"format(0.5,'>')\", \"format(0.5,'+')\", \"format(10,'b')\", \"format(10,'o')\", \"mylist = ['apple', 'banana', 'cherry']\\nx = frozenset(mylist)\\nprint(x)\", \"mylist = ['apple', 'banana', 'cherry']\\nx = frozenset(mylist)\\ny = set(mylist)\\nprint(x)\\nprint(y)\", 'mylist = [\\'apple\\', \\'banana\\', \\'cherry\\']\\nx = frozenset(mylist)\\ny = set(mylist)\\nprint(x)\\nprint(y)\\ny[0] = \"10\"', \"mylist = ['apple', 'banana', 'cherry']\\nx = frozenset(mylist)\\ny = set(mylist)\\nprint(x)\\nprint(y)\", 'mylist = [\\'apple\\', \\'banana\\', \\'cherry\\']\\nx = frozenset(mylist)\\nx[1] = \"strawberry\"\\nprint(x)', 'getattr(Person, \"name\", default)', 'getattr(Person, \"name\", \"xyz\")', 'getattr(Person, \"age\", \"xyz\")', 'x = globals()\\nprint(x)'], 'Out': {21: 25, 33: 'John', 36: ['__class__', '__delattr__', '__dict__', '__dir__', '__doc__', '__eq__', '__format__', '__ge__', '__getattribute__', '__gt__', '__hash__', '__init__', '__init_subclass__', '__le__', '__lt__', '__module__', '__ne__', '__new__', '__reduce__', '__reduce_ex__', '__repr__', '__setattr__', '__sizeof__', '__str__', '__subclasshook__', '__weakref__', 'country', 'name'], 37: (5, 0), 38: (5, 1), 39: 7, 42: 5.0, 44: '50.000000%', 45: '0.5', 46: '0.5', 47: '+0.5', 48: '1010', 49: '12', 56: 'John', 57: 'xyz'}, 'get_ipython': <bound method InteractiveShell.get_ipython of <ipykernel.zmqshell.ZMQInteractiveShell object at 0x000002625AD790A0>>, 'exit': <IPython.core.autocall.ZMQExitAutocall object at 0x000002625AE01D60>, 'quit': <IPython.core.autocall.ZMQExitAutocall object at 0x000002625AE01D60>, '_': 'xyz', '__': 'John', '___': '12', '_i': 'getattr(Person, \"age\", \"xyz\")', '_ii': 'getattr(Person, \"name\", \"xyz\")', '_iii': 'getattr(Person, \"name\", default)', '_i1': 'x = bytearray(\"asdasd\",\"utf-8\")\\nfor i in x:\\n\\n\\tprint((i))', 'x': {...}, 'i': 100, '_i2': '# bytearray()', '_i3': 'x = bytearray(\"asdasd\",\"utf-8\")\\nfor i in x:\\n    print((i))', '_i4': 'x = bytes(\"asdasd\",\"utf-8\")\\nfor i in x:\\n    print((i))', '_i5': 'x = bytearray(\"asdasd\",\"utf-8\")\\nfor i in x:\\n    print((i))\\n    \\n\\nx[0] = 98', '_i6': 'x = bytes(\"asdasd\",\"utf-8\")\\nfor i in x:\\n    print((i))\\n    \\nx[0] = 98', '_i7': 'x = 5\\nprint(callable(x))', '_i8': '# chr ()', '_i9': 'print(chr(97))', '_i10': 'x = bytearray(\"asdasd\",\"utf-8\")\\nfor i in x:\\n    print(chr(i))\\n    \\n\\n# x[0] = 98 ', '_i11': 'x = bytearray(\"asdasd\",\"utf-8\")\\nfor i in x:\\n    print(chr(i))\\n    \\n\\n x[0] = b', '_i13': 'x = bytearray(\"asdasd\",\"utf-8\")\\nfor i in x:\\n    print(chr(i))\\n    \\n\\nx[0] = b', '_i14': 'x = bytearray(\"asdasd\",\"utf-8\")\\nfor i in x:\\n    print(chr(i))\\n    \\n\\nx[0] = \"b\"', '_i15': 'x = bytearray(\"asdasd\",\"utf-8\")\\nfor i in x:\\n    print(chr(i))\\n    \\n\\nx[0] = \\'b\\'', '_i16': 'x = bytearray(\"asdasd\",\"utf-8\")\\nfor i in x:\\n    print(chr(i))\\n    \\n\\nx[0] = 98', '_i17': 'x = bytearray(\"asdasd\",\"utf-8\")\\nfor i in x:\\n    print(chr(i))\\n    \\n\\nx[0] = 98\\n\\nfor i in x:\\n    print(chr(i))', '_i18': 'x = bytearray(\"asdasd\",\"utf-8\")\\nfor i in x:\\n    print(chr(i))\\n    \\n\\nx[0] = 98\\n\\n\\nprint(chr(x[0]))', '_i19': '# classmethod()', '_i20': \"class Person:\\n    age = 25\\n\\n    def printAge(cls):\\n        print('The age is:', cls.age)\\n\\n# create printAge class method\\nPerson.printAge = classmethod(Person.printAge)\\n\\nPerson.printAge()\", 'Person': <class '__main__.Person'>, '_i21': \"class Person:\\n    age = 25\\n\\n    def printAge(cls):\\n        print('The age is:', cls.age)\\n\\n# create printAge class method\\nPerson.printAge = classmethod(Person.printAge)\\n\\nPerson.printAge()\\n\\np = Person()\\np.age\", 'p': <__main__.Person object at 0x000002625AE54730>, '_21': 25, '_i22': \"class Person:\\n    age = 25\\n\\n    def printAge(cls):\\n        print('The age is:', cls.age)\\n\\n# create printAge class method\\nPerson.printAge = classmethod(Person.printAge)\\n\\nPerson.printAge()\\n\\np = Person()\\np.printage()\", '_i23': \"class Person:\\n    age = 25\\n\\n    def printAge(cls):\\n        print('The age is:', cls.age)\\n\\n# create printAge class method\\nPerson.printAge = classmethod(Person.printAge)\\n\\nPerson.printAge()\\n\\np = Person()\\np.printAge()\", '_i24': \"class Person:\\n    age = 25\\n    \\n    def __init__(self,x):\\n        self.age = x\\n    def printAge(cls):\\n        print('The age is:', cls.age)\\n\\n# create printAge class method\\nPerson.printAge = classmethod(Person.printAge)\\nPerson.printAge(30)\\np = Person()\\np.printAge()\", '_i25': \"class Person:\\n    age = 25\\n    \\n    def __init__(self,x):\\n        self.age = x\\n    def printAge(cls):\\n        print('The age is:', cls.age)\\n\\n# create printAge class method\\nPerson.printAge = classmethod(Person.printAge)\\nPerson.printAge()\\np = Person(30)\\np.printAge()\", '_i26': \"class Person:\\n    age = 25\\n    \\n    def __init__(self,x):\\n        self.age = x\\n    def printAge(cls):\\n        print('The age is:', cls.age)\\n    def printAge1(cls):\\n        print('The age is:', cls.age)\\n\\n# create printAge class method\\nPerson.printAge = classmethod(Person.printAge)\\nPerson.printAge()\\np = Person(30)\\np.printAge()\\np.printAge1()\", '_i27': \"class Person:\\n    age \\n    \\n    def __init__(self,x):\\n        self.age = x\\n    \\n    def printAge(cls):\\n        print('The age is:', cls.age)\\n    \\n    def printAge1(cls):\\n        print('The age is:', cls.age)\\n\\n# create printAge class method\\nPerson.printAge = classmethod(Person.printAge)\\nPerson.printAge()\\np = Person(30)\\np.printAge()\\np.printAge1()\", '_i28': \"class Person:\\n    age = 25\\n    \\n    def __init__(self,x):\\n        self.age = x\\n    \\n    def printAge(cls):\\n        print('The age is:', cls.age)\\n    \\n    def printAge1(cls):\\n        print('The age is:', cls.age)\\n\\n# create printAge class method\\nPerson.printAge = classmethod(Person.printAge)\\nPerson.printAge()\\np = Person(30)\\np.printAge()\\np.printAge1()\", '_i29': 'x = complex(3, 5)', '_i30': 'x = complex(3, 5)\\nprint(x)', '_i31': 'class Person:\\n  name = \"John\"\\n  age = 36\\n  country = \"Norway\"\\n\\ndelattr(Person, \\'age\\')', '_i32': 'class Person:\\n    \\n    name = \"John\"\\n    age = 36\\n    country = \"Norway\"\\n\\ndelattr(Person, \\'age\\')', '_i33': 'Person.name', '_33': 'John', '_i34': 'Person.age', '_i35': 'x = dict(name = \"John\", age = 36, country = \"Norway\")\\nprint(x)', '_i36': 'dir(Person)', '_36': ['__class__', '__delattr__', '__dict__', '__dir__', '__doc__', '__eq__', '__format__', '__ge__', '__getattribute__', '__gt__', '__hash__', '__init__', '__init_subclass__', '__le__', '__lt__', '__module__', '__ne__', '__new__', '__reduce__', '__reduce_ex__', '__repr__', '__setattr__', '__sizeof__', '__str__', '__subclasshook__', '__weakref__', 'country', 'name'], '_i37': 'divmod(10,2)', '_37': (5, 0), '_i38': 'divmod(11,2)', '_38': (5, 1), '_i39': 'eval(\"5+2\")', '_39': 7, '_i40': 'exec(\"print(\"hi\")\")', '_i41': 'exec(\"print(\\'hi\\')\")', '_i42': 'float(5)', '_42': 5.0, '_i43': '# format(value, format)\\nformat(0.5,%)', '_i44': \"# format(value, format)\\nformat(0.5,'%')\", '_44': '50.000000%', '_i45': \"format(0.5,'<')\", '_45': '0.5', '_i46': \"format(0.5,'>')\", '_46': '0.5', '_i47': \"format(0.5,'+')\", '_47': '+0.5', '_i48': \"format(10,'b')\", '_48': '1010', '_i49': \"format(10,'o')\", '_49': '12', '_i50': \"mylist = ['apple', 'banana', 'cherry']\\nx = frozenset(mylist)\\nprint(x)\", 'mylist': ['apple', 'banana', 'cherry'], '_i51': \"mylist = ['apple', 'banana', 'cherry']\\nx = frozenset(mylist)\\ny = set(mylist)\\nprint(x)\\nprint(y)\", 'y': {'banana', 'cherry', 'apple'}, '_i52': 'mylist = [\\'apple\\', \\'banana\\', \\'cherry\\']\\nx = frozenset(mylist)\\ny = set(mylist)\\nprint(x)\\nprint(y)\\ny[0] = \"10\"', '_i53': \"mylist = ['apple', 'banana', 'cherry']\\nx = frozenset(mylist)\\ny = set(mylist)\\nprint(x)\\nprint(y)\", '_i54': 'mylist = [\\'apple\\', \\'banana\\', \\'cherry\\']\\nx = frozenset(mylist)\\nx[1] = \"strawberry\"\\nprint(x)', '_i55': 'getattr(Person, \"name\", default)', '_i56': 'getattr(Person, \"name\", \"xyz\")', '_56': 'John', '_i57': 'getattr(Person, \"age\", \"xyz\")', '_57': 'xyz', '_i58': 'x = globals()\\nprint(x)'}\n"
     ]
    }
   ],
   "source": [
    "x = globals()\n",
    "print(x)"
   ]
  },
  {
   "cell_type": "markdown",
   "metadata": {},
   "source": [
    "# hasattr()"
   ]
  },
  {
   "cell_type": "code",
   "execution_count": 60,
   "metadata": {},
   "outputs": [
    {
     "name": "stdout",
     "output_type": "stream",
     "text": [
      "True\n"
     ]
    }
   ],
   "source": [
    "class Person:\n",
    "    name = \"John\"\n",
    "    age = 36\n",
    "    country = \"Norway\"\n",
    "\n",
    "x = hasattr(Person, 'age')\n",
    "print(x)"
   ]
  },
  {
   "cell_type": "markdown",
   "metadata": {},
   "source": [
    "# hash()"
   ]
  },
  {
   "cell_type": "code",
   "execution_count": 61,
   "metadata": {},
   "outputs": [
    {
     "data": {
      "text/plain": [
       "163840260079"
      ]
     },
     "execution_count": 61,
     "metadata": {},
     "output_type": "execute_result"
    }
   ],
   "source": [
    "hash(Person)"
   ]
  },
  {
   "cell_type": "code",
   "execution_count": 63,
   "metadata": {},
   "outputs": [
    {
     "name": "stdout",
     "output_type": "stream",
     "text": [
      "\n",
      "Welcome to Python 3.8's help utility!\n",
      "\n",
      "If this is your first time using Python, you should definitely check out\n",
      "the tutorial on the Internet at https://docs.python.org/3.8/tutorial/.\n",
      "\n",
      "Enter the name of any module, keyword, or topic to get help on writing\n",
      "Python programs and using Python modules.  To quit this help utility and\n",
      "return to the interpreter, just type \"quit\".\n",
      "\n",
      "To get a list of available modules, keywords, symbols, or topics, type\n",
      "\"modules\", \"keywords\", \"symbols\", or \"topics\".  Each module also comes\n",
      "with a one-line summary of what it does; to list the modules whose name\n",
      "or summary contain a given string such as \"spam\", type \"modules spam\".\n",
      "\n",
      "help> pandas\n",
      "Help on package pandas:\n",
      "\n",
      "NAME\n",
      "    pandas\n",
      "\n",
      "DESCRIPTION\n",
      "    pandas - a powerful data analysis and manipulation library for Python\n",
      "    =====================================================================\n",
      "    \n",
      "    **pandas** is a Python package providing fast, flexible, and expressive data\n",
      "    structures designed to make working with \"relational\" or \"labeled\" data both\n",
      "    easy and intuitive. It aims to be the fundamental high-level building block for\n",
      "    doing practical, **real world** data analysis in Python. Additionally, it has\n",
      "    the broader goal of becoming **the most powerful and flexible open source data\n",
      "    analysis / manipulation tool available in any language**. It is already well on\n",
      "    its way toward this goal.\n",
      "    \n",
      "    Main Features\n",
      "    -------------\n",
      "    Here are just a few of the things that pandas does well:\n",
      "    \n",
      "      - Easy handling of missing data in floating point as well as non-floating\n",
      "        point data.\n",
      "      - Size mutability: columns can be inserted and deleted from DataFrame and\n",
      "        higher dimensional objects\n",
      "      - Automatic and explicit data alignment: objects can be explicitly aligned\n",
      "        to a set of labels, or the user can simply ignore the labels and let\n",
      "        `Series`, `DataFrame`, etc. automatically align the data for you in\n",
      "        computations.\n",
      "      - Powerful, flexible group by functionality to perform split-apply-combine\n",
      "        operations on data sets, for both aggregating and transforming data.\n",
      "      - Make it easy to convert ragged, differently-indexed data in other Python\n",
      "        and NumPy data structures into DataFrame objects.\n",
      "      - Intelligent label-based slicing, fancy indexing, and subsetting of large\n",
      "        data sets.\n",
      "      - Intuitive merging and joining data sets.\n",
      "      - Flexible reshaping and pivoting of data sets.\n",
      "      - Hierarchical labeling of axes (possible to have multiple labels per tick).\n",
      "      - Robust IO tools for loading data from flat files (CSV and delimited),\n",
      "        Excel files, databases, and saving/loading data from the ultrafast HDF5\n",
      "        format.\n",
      "      - Time series-specific functionality: date range generation and frequency\n",
      "        conversion, moving window statistics, date shifting and lagging.\n",
      "\n",
      "PACKAGE CONTENTS\n",
      "    _config (package)\n",
      "    _libs (package)\n",
      "    _testing\n",
      "    _typing\n",
      "    _version\n",
      "    api (package)\n",
      "    arrays (package)\n",
      "    compat (package)\n",
      "    conftest\n",
      "    core (package)\n",
      "    errors (package)\n",
      "    io (package)\n",
      "    plotting (package)\n",
      "    testing\n",
      "    tests (package)\n",
      "    tseries (package)\n",
      "    util (package)\n",
      "\n",
      "SUBMODULES\n",
      "    _hashtable\n",
      "    _lib\n",
      "    _tslib\n",
      "    offsets\n",
      "\n",
      "FUNCTIONS\n",
      "    __getattr__(name)\n",
      "\n",
      "DATA\n",
      "    IndexSlice = <pandas.core.indexing._IndexSlice object>\n",
      "    NA = <NA>\n",
      "    NaT = NaT\n",
      "    __docformat__ = 'restructuredtext'\n",
      "    __git_version__ = 'b687cd4d9e520666a956a60849568a98dd00c672'\n",
      "    describe_option = <pandas._config.config.CallableDynamicDoc object>\n",
      "    get_option = <pandas._config.config.CallableDynamicDoc object>\n",
      "    options = <pandas._config.config.DictWrapper object>\n",
      "    reset_option = <pandas._config.config.CallableDynamicDoc object>\n",
      "    set_option = <pandas._config.config.CallableDynamicDoc object>\n",
      "\n",
      "VERSION\n",
      "    1.0.5\n",
      "\n",
      "FILE\n",
      "    c:\\programdata\\anaconda3\\lib\\site-packages\\pandas\\__init__.py\n",
      "\n",
      "\n",
      "\n",
      "You are now leaving help and returning to the Python interpreter.\n",
      "If you want to ask for help on a particular object directly from the\n",
      "interpreter, you can type \"help(object)\".  Executing \"help('string')\"\n",
      "has the same effect as typing a particular string at the help> prompt.\n"
     ]
    }
   ],
   "source": [
    "help()"
   ]
  },
  {
   "cell_type": "code",
   "execution_count": 64,
   "metadata": {},
   "outputs": [
    {
     "data": {
      "text/plain": [
       "'0x11cc'"
      ]
     },
     "execution_count": 64,
     "metadata": {},
     "output_type": "execute_result"
    }
   ],
   "source": [
    "hex(4556)"
   ]
  },
  {
   "cell_type": "code",
   "execution_count": 65,
   "metadata": {},
   "outputs": [
    {
     "data": {
      "text/plain": [
       "2621455026304"
      ]
     },
     "execution_count": 65,
     "metadata": {},
     "output_type": "execute_result"
    }
   ],
   "source": [
    "p = Person()\n",
    "id(p)"
   ]
  },
  {
   "cell_type": "code",
   "execution_count": 66,
   "metadata": {},
   "outputs": [
    {
     "data": {
      "text/plain": [
       "54"
      ]
     },
     "execution_count": 66,
     "metadata": {},
     "output_type": "execute_result"
    }
   ],
   "source": [
    "int(\"54\")"
   ]
  },
  {
   "cell_type": "code",
   "execution_count": 69,
   "metadata": {},
   "outputs": [
    {
     "name": "stdout",
     "output_type": "stream",
     "text": [
      "True\n"
     ]
    }
   ],
   "source": [
    "x = isinstance(\"Hello\", (float, int, str, list, dict, tuple))\n",
    "print(x)"
   ]
  },
  {
   "cell_type": "code",
   "execution_count": 70,
   "metadata": {},
   "outputs": [
    {
     "name": "stdout",
     "output_type": "stream",
     "text": [
      "True\n"
     ]
    }
   ],
   "source": [
    "x = isinstance(p, Person)\n",
    "print(x)"
   ]
  },
  {
   "cell_type": "markdown",
   "metadata": {},
   "source": [
    "next()"
   ]
  },
  {
   "cell_type": "code",
   "execution_count": 71,
   "metadata": {},
   "outputs": [
    {
     "name": "stdout",
     "output_type": "stream",
     "text": [
      "apple\n",
      "banana\n",
      "cherry\n"
     ]
    }
   ],
   "source": [
    "mylist = iter([\"apple\", \"banana\", \"cherry\"])\n",
    "x = next(mylist)\n",
    "print(x)\n",
    "x = next(mylist)\n",
    "print(x)\n",
    "x = next(mylist)\n",
    "print(x)"
   ]
  },
  {
   "cell_type": "markdown",
   "metadata": {},
   "source": [
    " object()"
   ]
  },
  {
   "cell_type": "code",
   "execution_count": 74,
   "metadata": {},
   "outputs": [
    {
     "name": "stdout",
     "output_type": "stream",
     "text": [
      "['__class__', '__delattr__', '__dir__', '__doc__', '__eq__', '__format__', '__ge__', '__getattribute__', '__gt__', '__hash__', '__init__', '__init_subclass__', '__le__', '__lt__', '__ne__', '__new__', '__reduce__', '__reduce_ex__', '__repr__', '__setattr__', '__sizeof__', '__str__', '__subclasshook__']\n"
     ]
    }
   ],
   "source": [
    "x =  object()\n",
    "print(dir(x))"
   ]
  },
  {
   "cell_type": "code",
   "execution_count": 77,
   "metadata": {},
   "outputs": [
    {
     "ename": "SyntaxError",
     "evalue": "invalid syntax (<ipython-input-77-4892b308a082>, line 1)",
     "output_type": "error",
     "traceback": [
      "\u001b[1;36m  File \u001b[1;32m\"<ipython-input-77-4892b308a082>\"\u001b[1;36m, line \u001b[1;32m1\u001b[0m\n\u001b[1;33m    Convert an integer representing the Unicode of the specified character\u001b[0m\n\u001b[1;37m            ^\u001b[0m\n\u001b[1;31mSyntaxError\u001b[0m\u001b[1;31m:\u001b[0m invalid syntax\n"
     ]
    }
   ],
   "source": [
    "Convert an integer representing the Unicode of the specified character"
   ]
  },
  {
   "cell_type": "code",
   "execution_count": 76,
   "metadata": {},
   "outputs": [
    {
     "name": "stdout",
     "output_type": "stream",
     "text": [
      "97\n"
     ]
    }
   ],
   "source": [
    "x = ord(\"a\")\n",
    "print(x)"
   ]
  },
  {
   "cell_type": "markdown",
   "metadata": {},
   "source": [
    "# reversed()\tReturns a reversed iterator"
   ]
  },
  {
   "cell_type": "code",
   "execution_count": 79,
   "metadata": {},
   "outputs": [
    {
     "name": "stdout",
     "output_type": "stream",
     "text": [
      "d\n",
      "c\n",
      "b\n",
      "a\n"
     ]
    }
   ],
   "source": [
    "mylist = [\"a\", \"b\", \"c\", \"d\"]\n",
    "myrevlist = reversed(mylist)\n",
    "for x in myrevlist:\n",
    "  print(x)"
   ]
  },
  {
   "cell_type": "code",
   "execution_count": 80,
   "metadata": {},
   "outputs": [
    {
     "data": {
      "text/plain": [
       "5.77"
      ]
     },
     "execution_count": 80,
     "metadata": {},
     "output_type": "execute_result"
    }
   ],
   "source": [
    " round(5.76543, 2)"
   ]
  },
  {
   "cell_type": "code",
   "execution_count": 81,
   "metadata": {},
   "outputs": [
    {
     "data": {
      "text/plain": [
       "6"
      ]
     },
     "execution_count": 81,
     "metadata": {},
     "output_type": "execute_result"
    }
   ],
   "source": [
    " round(5.76543)"
   ]
  },
  {
   "cell_type": "code",
   "execution_count": 83,
   "metadata": {},
   "outputs": [
    {
     "name": "stdout",
     "output_type": "stream",
     "text": [
      "40\n"
     ]
    }
   ],
   "source": [
    "class Person:\n",
    "  name = \"John\"\n",
    "  age = 36\n",
    "  country = \"Norway\"\n",
    "\n",
    "setattr(Person, 'age', 40)\n",
    "print(Person.age)"
   ]
  },
  {
   "cell_type": "code",
   "execution_count": 87,
   "metadata": {},
   "outputs": [
    {
     "name": "stdout",
     "output_type": "stream",
     "text": [
      "('c', 'd', 'e')\n"
     ]
    }
   ],
   "source": [
    "a = (\"a\", \"b\", \"c\", \"d\", \"e\", \"f\", \"g\", \"h\")\n",
    "x = slice(2,5)\n",
    "print(a[x])"
   ]
  },
  {
   "cell_type": "markdown",
   "metadata": {},
   "source": [
    "str()"
   ]
  },
  {
   "cell_type": "code",
   "execution_count": 88,
   "metadata": {},
   "outputs": [
    {
     "data": {
      "text/plain": [
       "'56464sdf'"
      ]
     },
     "execution_count": 88,
     "metadata": {},
     "output_type": "execute_result"
    }
   ],
   "source": [
    "str(\"56464sdf\")"
   ]
  },
  {
   "cell_type": "code",
   "execution_count": 89,
   "metadata": {},
   "outputs": [
    {
     "data": {
      "text/plain": [
       "12"
      ]
     },
     "execution_count": 89,
     "metadata": {},
     "output_type": "execute_result"
    }
   ],
   "source": [
    "a = [5,2,5,]\n",
    "sum(a)"
   ]
  },
  {
   "cell_type": "code",
   "execution_count": 90,
   "metadata": {},
   "outputs": [
    {
     "data": {
      "text/plain": [
       "list"
      ]
     },
     "execution_count": 90,
     "metadata": {},
     "output_type": "execute_result"
    }
   ],
   "source": [
    "type(a)"
   ]
  },
  {
   "cell_type": "code",
   "execution_count": 99,
   "metadata": {},
   "outputs": [
    {
     "name": "stdout",
     "output_type": "stream",
     "text": [
      "('John', 'Jenny')\n",
      "('Charles', 'Christy')\n",
      "('Mike', 'Monica')\n"
     ]
    }
   ],
   "source": [
    "a = (\"John\", \"Charles\", \"Mike\")\n",
    "b = (\"Jenny\", \"Christy\", \"Monica\", \"Vicky\")\n",
    "\n",
    "x = zip(a, b)\n",
    "for i in x:\n",
    "    print(i)"
   ]
  },
  {
   "cell_type": "code",
   "execution_count": 101,
   "metadata": {},
   "outputs": [
    {
     "name": "stdout",
     "output_type": "stream",
     "text": [
      "{'__module__': '__main__', 'name': 'John', 'age': 40, 'country': 'Norway', '__dict__': <attribute '__dict__' of 'Person' objects>, '__weakref__': <attribute '__weakref__' of 'Person' objects>, '__doc__': None}\n"
     ]
    }
   ],
   "source": [
    "x = vars(Person)\n",
    "print(x)"
   ]
  },
  {
   "cell_type": "code",
   "execution_count": 102,
   "metadata": {},
   "outputs": [
    {
     "data": {
      "text/plain": [
       "mappingproxy({'__module__': '__main__',\n",
       "              'name': 'John',\n",
       "              'age': 40,\n",
       "              'country': 'Norway',\n",
       "              '__dict__': <attribute '__dict__' of 'Person' objects>,\n",
       "              '__weakref__': <attribute '__weakref__' of 'Person' objects>,\n",
       "              '__doc__': None})"
      ]
     },
     "execution_count": 102,
     "metadata": {},
     "output_type": "execute_result"
    }
   ],
   "source": [
    "Person.__dict__"
   ]
  },
  {
   "cell_type": "code",
   "execution_count": 113,
   "metadata": {},
   "outputs": [
    {
     "name": "stdout",
     "output_type": "stream",
     "text": [
      "Enter ip12,15,15\n"
     ]
    }
   ],
   "source": [
    "x = input(\"Enter ip\")"
   ]
  },
  {
   "cell_type": "code",
   "execution_count": 124,
   "metadata": {},
   "outputs": [
    {
     "name": "stdout",
     "output_type": "stream",
     "text": [
      "['12', '15']\n"
     ]
    }
   ],
   "source": [
    "x = \"12,15\"\n",
    "x = x.split(\",\")\n",
    "print(x)"
   ]
  },
  {
   "cell_type": "code",
   "execution_count": 109,
   "metadata": {},
   "outputs": [
    {
     "name": "stdout",
     "output_type": "stream",
     "text": [
      "['12', '456']\n"
     ]
    }
   ],
   "source": []
  },
  {
   "cell_type": "code",
   "execution_count": 110,
   "metadata": {},
   "outputs": [
    {
     "data": {
      "text/plain": [
       "str"
      ]
     },
     "execution_count": 110,
     "metadata": {},
     "output_type": "execute_result"
    }
   ],
   "source": [
    "type(x[0])"
   ]
  },
  {
   "cell_type": "code",
   "execution_count": null,
   "metadata": {},
   "outputs": [],
   "source": []
  }
 ],
 "metadata": {
  "kernelspec": {
   "display_name": "Python 3",
   "language": "python",
   "name": "python3"
  },
  "language_info": {
   "codemirror_mode": {
    "name": "ipython",
    "version": 3
   },
   "file_extension": ".py",
   "mimetype": "text/x-python",
   "name": "python",
   "nbconvert_exporter": "python",
   "pygments_lexer": "ipython3",
   "version": "3.8.3"
  }
 },
 "nbformat": 4,
 "nbformat_minor": 4
}

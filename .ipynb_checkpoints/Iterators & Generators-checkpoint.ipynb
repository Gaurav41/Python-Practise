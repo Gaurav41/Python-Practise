{
 "cells": [
  {
   "cell_type": "markdown",
   "metadata": {},
   "source": [
    "# Iterators"
   ]
  },
  {
   "cell_type": "markdown",
   "metadata": {},
   "source": [
    "Problem 1: Write an iterator class reverse_iter, that takes a list and iterates it from the reverse direction. ::"
   ]
  },
  {
   "cell_type": "code",
   "execution_count": 5,
   "metadata": {},
   "outputs": [
    {
     "name": "stdout",
     "output_type": "stream",
     "text": [
      "4\n",
      "3\n",
      "2\n",
      "1\n"
     ]
    }
   ],
   "source": [
    "class reverse_iter:\n",
    "    def __init__(self, l):\n",
    "        self.l = l[::-1]\n",
    "        self.i = 0\n",
    "\n",
    "    def __iter__(self):\n",
    "        return self\n",
    "\n",
    "    def __next__(self):\n",
    "        if self.i < len(self.l):\n",
    "            i = self.i\n",
    "            self.i += 1\n",
    "            return self.l[i]\n",
    "        else:\n",
    "            raise StopIteration()\n",
    "    def next(self):\n",
    "        return self.__next__()\n",
    "    \n",
    "    \n",
    "it = reverse_iter([1, 2, 3, 4])\n",
    "print(it.next())\n",
    "print(it.next())\n",
    "print(it.next())\n",
    "print(it.next())\n"
   ]
  },
  {
   "cell_type": "markdown",
   "metadata": {},
   "source": [
    "# Generators"
   ]
  },
  {
   "cell_type": "code",
   "execution_count": null,
   "metadata": {},
   "outputs": [],
   "source": [
    "Write a program that takes one or more filenames as arguments and prints all the lines which are longer than 40 characters."
   ]
  },
  {
   "cell_type": "code",
   "execution_count": 19,
   "metadata": {},
   "outputs": [],
   "source": [
    "import re\n",
    "def readfiles(filenames):\n",
    "    for f in filenames:\n",
    "        for line in open(f):\n",
    "            yield line\n",
    "\n",
    "def grep(pattern, lines):\n",
    "    return (line for line in lines if re.match(pattern, line) )\n",
    "    \n",
    "\n",
    "def printlines(lines):\n",
    "    for line in lines:\n",
    "        print(line, end=\"\")\n",
    "\n",
    "def main(pattern, filenames):\n",
    "    lines = readfiles(filenames)\n",
    "   # for i in lines:\n",
    "    #    print(i)\n",
    "    lines = grep(pattern, lines)\n",
    "    for i in lines:\n",
    "        print(i)    \n",
    "    printlines(lines)\n",
    "    \n",
    "filenames = [\"file1.txt\",\"foo.txt\"]\n",
    "main(\"\\s+\",filenames)"
   ]
  },
  {
   "cell_type": "code",
   "execution_count": null,
   "metadata": {},
   "outputs": [],
   "source": []
  }
 ],
 "metadata": {
  "kernelspec": {
   "display_name": "Python 3",
   "language": "python",
   "name": "python3"
  },
  "language_info": {
   "codemirror_mode": {
    "name": "ipython",
    "version": 3
   },
   "file_extension": ".py",
   "mimetype": "text/x-python",
   "name": "python",
   "nbconvert_exporter": "python",
   "pygments_lexer": "ipython3",
   "version": "3.8.3"
  }
 },
 "nbformat": 4,
 "nbformat_minor": 4
}

{
 "cells": [
  {
   "cell_type": "markdown",
   "metadata": {},
   "source": [
    "Problem 1:\n",
    "Write a function named mid that takes a string as its parameter. Your function should extract and return the middle letter. If there is no middle letter, your function should return the empty string.\n",
    "For example, mid(\"abc\") should return \"b\" and mid(\"aaaa\") should return \"\"."
   ]
  },
  {
   "cell_type": "code",
   "execution_count": 12,
   "metadata": {},
   "outputs": [
    {
     "name": "stdout",
     "output_type": "stream",
     "text": [
      "\n"
     ]
    }
   ],
   "source": [
    "def mid(string):\n",
    "    length = len(string)\n",
    "    if length % 2 !=0:\n",
    "        return(string[length//2])\n",
    "    else:\n",
    "        return \"\"\n",
    "    \n",
    "print(mid(\"abaa\"))"
   ]
  },
  {
   "cell_type": "markdown",
   "metadata": {},
   "source": [
    "Problem 2:\n",
    "Given a dictionary of people's online status, to count the number of people who are online.\n",
    "eg:\n",
    "statuses = {\n",
    "    \"Alice\": \"online\",\n",
    "    \"Bob\": \"offline\",\n",
    "    \"Eve\": \"online\",\n",
    "}\n",
    "\n"
   ]
  },
  {
   "cell_type": "code",
   "execution_count": 20,
   "metadata": {},
   "outputs": [
    {
     "name": "stdout",
     "output_type": "stream",
     "text": [
      "2\n"
     ]
    }
   ],
   "source": [
    "\n",
    "def online_count(statuses):\n",
    "    count = 0\n",
    "    for k,v in statuses.items():\n",
    "        if v == \"online\":\n",
    "            count += 1\n",
    "    return (count)\n",
    "\n",
    "statuses = {\n",
    "    \"Alice\": \"online\",\n",
    "    \"Bob\": \"offline\",\n",
    "    \"Eve\": \"online\",\n",
    "}\n",
    "\n",
    "print(online_count(statuses))"
   ]
  },
  {
   "cell_type": "markdown",
   "metadata": {},
   "source": []
  },
  {
   "cell_type": "markdown",
   "metadata": {},
   "source": [
    "Problem 3:\n",
    "Write a function named only_ints that takes two parameters. Your function should return True if both parameters are integers, and False otherwise.\n",
    "For example, calling only_ints(1, 2) should return True, while calling only_ints(\"a\", 1) should return False.\n"
   ]
  },
  {
   "cell_type": "code",
   "execution_count": 26,
   "metadata": {},
   "outputs": [
    {
     "name": "stdout",
     "output_type": "stream",
     "text": [
      "False\n",
      "True\n"
     ]
    }
   ],
   "source": [
    "def only_ints(a,b):\n",
    "    try:\n",
    "        int(a)\n",
    "        int(b)\n",
    "        return True\n",
    "    except ValueError:\n",
    "        return False\n",
    "\n",
    "print(only_ints(2,\"f\"))\n",
    "print(only_ints(2,5))"
   ]
  },
  {
   "cell_type": "markdown",
   "metadata": {},
   "source": [
    "Problem 4 :\n",
    "Define a function named largest_difference that takes a list of numbers as its only parameter.\n",
    "Your function should compute and return the difference between the largest and smallest number in the list.\n",
    "For example, the call largest_difference([1, 2, 3]) should return 2 because 3 - 1 is 2.\n",
    "You may assume that no numbers are smaller or larger than -100 and 100.\n"
   ]
  },
  {
   "cell_type": "code",
   "execution_count": 29,
   "metadata": {},
   "outputs": [
    {
     "name": "stdout",
     "output_type": "stream",
     "text": [
      "5\n"
     ]
    }
   ],
   "source": [
    "def largest_difference(li):\n",
    "    return max(li)- min(li)\n",
    "\n",
    "li=[1,2,3,4,5,6]\n",
    "print(largest_difference(li)) "
   ]
  },
  {
   "cell_type": "markdown",
   "metadata": {},
   "source": [
    "Problem 5:\n",
    "The built-in zip function \"zips\" two lists. Write your own implementation of this function.\n",
    "Define a function named zap. The function takes two parameters, a and b. These are lists.\n",
    "Your function should return a list of tuples. Each tuple should contain one item from the a list and one from b.\n",
    "You may assume a and b have equal lengths.\n",
    "If you don't get it, think of a zipper.\n",
    "For example:\n",
    "zap(\n",
    "    [0, 1, 2, 3],\n",
    "    [5, 6, 7, 8]\n",
    ")\n",
    "Should return:\n",
    "[(0, 5),\n",
    " (1, 6),\n",
    " (2, 7),\n",
    " (3, 8)]\n"
   ]
  },
  {
   "cell_type": "code",
   "execution_count": 32,
   "metadata": {},
   "outputs": [
    {
     "name": "stdout",
     "output_type": "stream",
     "text": [
      "[(0, 5), (1, 6), (2, 7), (3, 8)]\n"
     ]
    }
   ],
   "source": [
    "def zip(list_a,list_b):\n",
    "    result = []\n",
    "    j = 0\n",
    "    for i in list_a:\n",
    "        result.append((i,list_b[j]))\n",
    "        j +=1\n",
    "    return result\n",
    "\n",
    "print(zip( [0, 1, 2, 3], [5, 6, 7, 8] ))"
   ]
  },
  {
   "cell_type": "markdown",
   "metadata": {},
   "source": [
    "Problem 6:\n",
    "\n",
    "Display Fibonacci series up to 10 terms\n",
    "Expected output:\n",
    "Fibonacci sequence:\n",
    "0  1  1  2  3  5  8  13  21  34\n"
   ]
  },
  {
   "cell_type": "code",
   "execution_count": 39,
   "metadata": {},
   "outputs": [
    {
     "name": "stdout",
     "output_type": "stream",
     "text": [
      "0 1 1 2 3 5 8 13 21 34 "
     ]
    }
   ],
   "source": [
    "def fibonacci(n):\n",
    "    i = 0; n1 = -1; n2 = 1;\n",
    "   \n",
    "    while(i < n):\n",
    "        c = n1 + n2\n",
    "        print(c, end=\" \")\n",
    "        n1 = n2\n",
    "        n2 = c\n",
    "        i += 1\n",
    "\n",
    "fibonacci(10)\n",
    "        "
   ]
  },
  {
   "cell_type": "code",
   "execution_count": null,
   "metadata": {},
   "outputs": [],
   "source": []
  }
 ],
 "metadata": {
  "kernelspec": {
   "display_name": "Python 3",
   "language": "python",
   "name": "python3"
  },
  "language_info": {
   "codemirror_mode": {
    "name": "ipython",
    "version": 3
   },
   "file_extension": ".py",
   "mimetype": "text/x-python",
   "name": "python",
   "nbconvert_exporter": "python",
   "pygments_lexer": "ipython3",
   "version": "3.8.3"
  }
 },
 "nbformat": 4,
 "nbformat_minor": 4
}

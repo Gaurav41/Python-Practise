{
 "cells": [
  {
   "cell_type": "markdown",
   "metadata": {},
   "source": [
    "# Getting Started"
   ]
  },
  {
   "cell_type": "markdown",
   "metadata": {},
   "source": [
    "What will be the output of the following program?"
   ]
  },
  {
   "cell_type": "code",
   "execution_count": 1,
   "metadata": {},
   "outputs": [
    {
     "name": "stdout",
     "output_type": "stream",
     "text": [
      "1\n",
      "1\n"
     ]
    }
   ],
   "source": [
    "x = 1\n",
    "def f():\n",
    "    return x\n",
    "print(x)\n",
    "print(f())\n"
   ]
  },
  {
   "cell_type": "markdown",
   "metadata": {},
   "source": [
    "What will be the output of the following program?"
   ]
  },
  {
   "cell_type": "markdown",
   "metadata": {},
   "source": [
    "What will be the output of the following program?"
   ]
  },
  {
   "cell_type": "code",
   "execution_count": 5,
   "metadata": {},
   "outputs": [
    {
     "name": "stdout",
     "output_type": "stream",
     "text": [
      "4 4\n"
     ]
    }
   ],
   "source": [
    "x = 2\n",
    "def f(a):\n",
    "    global x\n",
    "    x= x*2\n",
    "    return x\n",
    "y = f(3)\n",
    "print(x, y)"
   ]
  },
  {
   "cell_type": "code",
   "execution_count": 3,
   "metadata": {},
   "outputs": [],
   "source": [
    "# x = 1\n",
    "# def f():\n",
    "#     y = x\n",
    "#     x = 2\n",
    "#     return x + y\n",
    "# print(x)\n",
    "# print(f())\n",
    "# print(x)"
   ]
  },
  {
   "cell_type": "code",
   "execution_count": null,
   "metadata": {},
   "outputs": [],
   "source": []
  },
  {
   "cell_type": "code",
   "execution_count": 4,
   "metadata": {},
   "outputs": [
    {
     "name": "stdout",
     "output_type": "stream",
     "text": [
      "2 9\n"
     ]
    }
   ],
   "source": [
    "x = 2\n",
    "def f(a):\n",
    "    x = a * a\n",
    "    return x\n",
    "y = f(3)\n",
    "print(x, y)"
   ]
  },
  {
   "cell_type": "code",
   "execution_count": 2,
   "metadata": {},
   "outputs": [
    {
     "name": "stdout",
     "output_type": "stream",
     "text": [
      "1\n",
      "2\n",
      "1\n"
     ]
    }
   ],
   "source": [
    "x = 1\n",
    "def f():\n",
    "    x = 2\n",
    "    return x\n",
    "print(x)\n",
    "print(f())\n",
    "print(x)"
   ]
  },
  {
   "cell_type": "code",
   "execution_count": null,
   "metadata": {},
   "outputs": [],
   "source": []
  },
  {
   "cell_type": "markdown",
   "metadata": {},
   "source": [
    "\n",
    "Problem 7: Write a function count_digits to find number of digits in the given number."
   ]
  },
  {
   "cell_type": "code",
   "execution_count": 6,
   "metadata": {},
   "outputs": [
    {
     "name": "stdout",
     "output_type": "stream",
     "text": [
      "5\n"
     ]
    }
   ],
   "source": [
    "def count_digits(number):\n",
    "    return len(str(number))\n",
    "\n",
    "\n",
    "print(count_digits(12345))"
   ]
  },
  {
   "cell_type": "markdown",
   "metadata": {},
   "source": [
    "Problem 8: Write a function istrcmp to compare two strings, ignoring the case."
   ]
  },
  {
   "cell_type": "code",
   "execution_count": 7,
   "metadata": {},
   "outputs": [
    {
     "name": "stdout",
     "output_type": "stream",
     "text": [
      "True\n",
      "True\n",
      "False\n"
     ]
    }
   ],
   "source": [
    "def istrcmp(str1,str2):\n",
    "    if(str1.upper() == str2.upper()):\n",
    "        return True\n",
    "    else:\n",
    "        return False\n",
    "\n",
    "print(istrcmp('python', 'Python'))\n",
    "print(istrcmp('LaTeX', 'Latex'))\n",
    "print(istrcmp('a', 'b'))"
   ]
  },
  {
   "cell_type": "markdown",
   "metadata": {},
   "source": [
    "Problem 9: What will be output of the following program?"
   ]
  },
  {
   "cell_type": "code",
   "execution_count": 8,
   "metadata": {},
   "outputs": [
    {
     "name": "stdout",
     "output_type": "stream",
     "text": [
      "True\n",
      "True\n",
      "True\n",
      "False\n"
     ]
    }
   ],
   "source": [
    "print( 2 < 3 and 3 > 1)\n",
    "print( 2 < 3 or 3 > 1)\n",
    "print( 2 < 3 or not 3 > 1)\n",
    "print( 2 < 3 and not 3 > 1)"
   ]
  },
  {
   "cell_type": "markdown",
   "metadata": {},
   "source": [
    "Problem 10: What will be output of the following program?"
   ]
  },
  {
   "cell_type": "code",
   "execution_count": 9,
   "metadata": {},
   "outputs": [
    {
     "name": "stdout",
     "output_type": "stream",
     "text": [
      "True\n"
     ]
    }
   ],
   "source": [
    "x = 4\n",
    "y = 5\n",
    "p = x < y or x < z\n",
    "print(p)"
   ]
  },
  {
   "cell_type": "markdown",
   "metadata": {},
   "source": [
    "Problem 11: What happens when the following code is executed? Will it give any error? Explain the reasons."
   ]
  },
  {
   "cell_type": "code",
   "execution_count": 10,
   "metadata": {},
   "outputs": [
    {
     "name": "stdout",
     "output_type": "stream",
     "text": [
      "2\n"
     ]
    }
   ],
   "source": [
    "x = 2\n",
    "if x == 2:\n",
    "    print(x)\n",
    "else:\n",
    "    print(y)"
   ]
  },
  {
   "cell_type": "markdown",
   "metadata": {},
   "source": [
    "Problem 12: What happens the following code is executed? Will it give any error? Explain the reasons."
   ]
  },
  {
   "cell_type": "code",
   "execution_count": 11,
   "metadata": {},
   "outputs": [
    {
     "name": "stdout",
     "output_type": "stream",
     "text": [
      "6\n"
     ]
    }
   ],
   "source": [
    "x = 3\n",
    "if x == 2:\n",
    "    print(x)\n",
    "else:\n",
    "    x=x*2\n",
    "    print(x)"
   ]
  },
  {
   "cell_type": "code",
   "execution_count": 12,
   "metadata": {},
   "outputs": [
    {
     "data": {
      "text/plain": [
       "'Thu Apr 29 20:22:05 2021'"
      ]
     },
     "execution_count": 12,
     "metadata": {},
     "output_type": "execute_result"
    }
   ],
   "source": [
    "import time\n",
    "time.asctime()"
   ]
  },
  {
   "cell_type": "code",
   "execution_count": 13,
   "metadata": {},
   "outputs": [
    {
     "data": {
      "text/plain": [
       "7"
      ]
     },
     "execution_count": 13,
     "metadata": {},
     "output_type": "execute_result"
    }
   ],
   "source": [
    "import add \n",
    "import imp\n",
    "imp.reload(add)\n",
    "add.addition(5,2)\n"
   ]
  },
  {
   "cell_type": "code",
   "execution_count": null,
   "metadata": {},
   "outputs": [],
   "source": []
  },
  {
   "cell_type": "code",
   "execution_count": 14,
   "metadata": {},
   "outputs": [
    {
     "name": "stdout",
     "output_type": "stream",
     "text": [
      "<zip object at 0x000001F764756480>\n"
     ]
    }
   ],
   "source": [
    "#The built-in function zip takes two lists and returns list of pairs.\n",
    "print(zip([\"a\", \"b\", \"c\"], [1, 2, 3]))"
   ]
  },
  {
   "cell_type": "code",
   "execution_count": 15,
   "metadata": {},
   "outputs": [
    {
     "name": "stdout",
     "output_type": "stream",
     "text": [
      "range(0, 10)\n",
      "range(5, 10)\n"
     ]
    }
   ],
   "source": [
    "print(range(10))\n",
    "#range(0, 10)\n",
    "print(range(5,10))\n",
    "#range(5, 10)\n",
    "\n"
   ]
  },
  {
   "cell_type": "markdown",
   "metadata": {},
   "source": [
    "# List\n"
   ]
  },
  {
   "cell_type": "markdown",
   "metadata": {},
   "source": [
    "Problem 1: What will be the output of the following program?"
   ]
  },
  {
   "cell_type": "code",
   "execution_count": 16,
   "metadata": {},
   "outputs": [
    {
     "name": "stdout",
     "output_type": "stream",
     "text": [
      "[0, 1, [3]]\n",
      "[0, 1, [3, 4]]\n",
      "[0, 1, 2]\n"
     ]
    }
   ],
   "source": [
    "x = [0, 1, [2]]\n",
    "x[2][0] = 3\n",
    "print(x)\n",
    "x[2].append(4)\n",
    "print(x)\n",
    "x[2] = 2\n",
    "print(x)"
   ]
  },
  {
   "cell_type": "markdown",
   "metadata": {},
   "source": [
    "Problem 2: Python has a built-in function sum to find sum of all elements of a list. Provide an implementation for sum."
   ]
  },
  {
   "cell_type": "code",
   "execution_count": 17,
   "metadata": {},
   "outputs": [
    {
     "name": "stdout",
     "output_type": "stream",
     "text": [
      "15\n"
     ]
    }
   ],
   "source": [
    "def sum(a):\n",
    "    total=0\n",
    "    for item in a:\n",
    "        total = total + item\n",
    "    return total\n",
    "\n",
    "a = [1,2,3,4,5]\n",
    "print(sum(a))"
   ]
  },
  {
   "cell_type": "markdown",
   "metadata": {},
   "source": [
    "Problem 3: What happens when the above sum function is called with a list of strings? Can you make your sum function work for a list of strings as well."
   ]
  },
  {
   "cell_type": "code",
   "execution_count": 18,
   "metadata": {},
   "outputs": [
    {
     "name": "stdout",
     "output_type": "stream",
     "text": [
      "helloworld\n",
      "aabbcc\n"
     ]
    }
   ],
   "source": [
    "def sum(a):\n",
    "    total=\"\"\n",
    "    for item in a:\n",
    "        total = total + item\n",
    "    return total\n",
    "print(sum([\"hello\", \"world\"]))\n",
    "print(sum([\"aa\", \"bb\", \"cc\"]))"
   ]
  },
  {
   "cell_type": "markdown",
   "metadata": {},
   "source": [
    "Problem 4: Implement a function product, to compute product of a list of numbers."
   ]
  },
  {
   "cell_type": "code",
   "execution_count": 19,
   "metadata": {},
   "outputs": [
    {
     "name": "stdout",
     "output_type": "stream",
     "text": [
      "6\n"
     ]
    }
   ],
   "source": [
    "def product(a):\n",
    "    pro = 1\n",
    "    for i in a:\n",
    "        pro *= i\n",
    "    return pro\n",
    "print(product([1, 2, 3]))"
   ]
  },
  {
   "cell_type": "markdown",
   "metadata": {},
   "source": [
    "Problem 5: Write a function factorial to compute factorial of a number. Can you use the product function defined in the previous example to compute factorial?"
   ]
  },
  {
   "cell_type": "code",
   "execution_count": 20,
   "metadata": {},
   "outputs": [
    {
     "name": "stdout",
     "output_type": "stream",
     "text": [
      "120\n"
     ]
    }
   ],
   "source": [
    "a = [5,4,3,2,1]\n",
    "print(product(a))"
   ]
  },
  {
   "cell_type": "markdown",
   "metadata": {},
   "source": [
    "Problem 6: Write a function reverse to reverse a list. Can you do this without using list slicing?"
   ]
  },
  {
   "cell_type": "code",
   "execution_count": 21,
   "metadata": {},
   "outputs": [
    {
     "name": "stdout",
     "output_type": "stream",
     "text": [
      "None\n",
      "[5, 4, 3, 2, 1]\n"
     ]
    }
   ],
   "source": [
    "a = [1,2,3,4,5]\n",
    "print(a.reverse())\n",
    "print(a)"
   ]
  },
  {
   "cell_type": "markdown",
   "metadata": {},
   "source": [
    "Problem 7: Python has built-in functions min and max to compute minimum and maximum of a given list. Provide an implementation for these functions. What happens when you call your min and max functions with a list of strings?"
   ]
  },
  {
   "cell_type": "code",
   "execution_count": 22,
   "metadata": {},
   "outputs": [
    {
     "name": "stdout",
     "output_type": "stream",
     "text": [
      "1\n",
      "5\n"
     ]
    }
   ],
   "source": [
    "print(min(a))\n",
    "print(max(a))"
   ]
  },
  {
   "cell_type": "code",
   "execution_count": 23,
   "metadata": {},
   "outputs": [
    {
     "name": "stdout",
     "output_type": "stream",
     "text": [
      "abc\n",
      "xybz\n"
     ]
    }
   ],
   "source": [
    "s =[\"abc\",\"def\",\"ghi\",\"xya\",\"xyb\",\"xybz\",\"uvw\"]\n",
    "print(min(s))\n",
    "print(max(s))"
   ]
  },
  {
   "cell_type": "markdown",
   "metadata": {},
   "source": [
    "Problem 8: Cumulative sum of a list [a, b, c, ...] is defined as [a, a+b, a+b+c, ...]. Write a function cumulative_sum to compute cumulative sum of a list. Does your implementation work for a list of strings?"
   ]
  },
  {
   "cell_type": "code",
   "execution_count": 24,
   "metadata": {},
   "outputs": [
    {
     "data": {
      "text/plain": [
       "[1, 3, 6, 10]"
      ]
     },
     "execution_count": 24,
     "metadata": {},
     "output_type": "execute_result"
    }
   ],
   "source": [
    "def cumulative_sum(l):\n",
    "    sum=0\n",
    "    result = []\n",
    "    for i in l:\n",
    "        sum += i \n",
    "        result.append(sum)\n",
    "    return result\n",
    "            \n",
    "\n",
    "\n",
    "cumulative_sum([1, 2, 3, 4])"
   ]
  },
  {
   "cell_type": "markdown",
   "metadata": {},
   "source": [
    "Problem 9: Write a function cumulative_product to compute cumulative product of a list of numbers."
   ]
  },
  {
   "cell_type": "code",
   "execution_count": 25,
   "metadata": {},
   "outputs": [
    {
     "name": "stdout",
     "output_type": "stream",
     "text": [
      "[1, 2, 6, 24]\n"
     ]
    }
   ],
   "source": [
    "def cumulative_product(l):\n",
    "    product = 1\n",
    "    result = []\n",
    "    for i in l:\n",
    "        product *= i \n",
    "        result.append(product)\n",
    "    return result\n",
    "            \n",
    "\n",
    "\n",
    "print(cumulative_product([1, 2, 3, 4]))"
   ]
  },
  {
   "cell_type": "markdown",
   "metadata": {},
   "source": [
    "Problem 10: Write a function unique to find all the unique elements of a list."
   ]
  },
  {
   "cell_type": "code",
   "execution_count": 26,
   "metadata": {},
   "outputs": [
    {
     "name": "stdout",
     "output_type": "stream",
     "text": [
      "[1, 2, 3, 4, 5, 8, 9, 10]\n"
     ]
    }
   ],
   "source": [
    "def unique(l):\n",
    "    result = []\n",
    "    for n in l:\n",
    "        if n not in result:\n",
    "            result.append(n)\n",
    "    return result\n",
    "\n",
    "print(unique([1,2,3,4,5,4,3,5,8,9,10]))"
   ]
  },
  {
   "cell_type": "markdown",
   "metadata": {},
   "source": [
    "Problem 11: Write a function dups to find all duplicates in the list."
   ]
  },
  {
   "cell_type": "code",
   "execution_count": 27,
   "metadata": {},
   "outputs": [
    {
     "name": "stdout",
     "output_type": "stream",
     "text": [
      "[1, 2]\n"
     ]
    }
   ],
   "source": [
    "def dups(l):\n",
    "    result = []\n",
    "    for n in l:\n",
    "        if l.count(n) > 1 and n not in result:\n",
    "            result.append(n)\n",
    "    return result\n",
    "\n",
    "print(dups([1, 2, 1, 3, 2, 5]))"
   ]
  },
  {
   "cell_type": "markdown",
   "metadata": {},
   "source": [
    "Problem 12: Write a function group(list, size) that take a list and splits into smaller lists of given size."
   ]
  },
  {
   "cell_type": "code",
   "execution_count": 28,
   "metadata": {},
   "outputs": [
    {
     "data": {
      "text/plain": [
       "[[1, 2, 3], [4, 5, 6], [7, 8, 9]]"
      ]
     },
     "execution_count": 28,
     "metadata": {},
     "output_type": "execute_result"
    }
   ],
   "source": [
    "def group(li,size):\n",
    "    result = []\n",
    "    sub_list = []\n",
    "    counter = 0\n",
    "    for i in li:\n",
    "        if len(sub_list) < size:\n",
    "            sub_list.append(i)\n",
    "          \n",
    "        else:\n",
    "            result.append(sub_list)\n",
    "            sub_list = []\n",
    "            sub_list.append(i)\n",
    "            \n",
    "            \n",
    "    result.append(sub_list)\n",
    "    return result\n",
    "\n",
    "group([1, 2, 3, 4, 5, 6, 7, 8, 9], 3)"
   ]
  },
  {
   "cell_type": "code",
   "execution_count": 29,
   "metadata": {},
   "outputs": [
    {
     "name": "stdout",
     "output_type": "stream",
     "text": [
      "[[1, 2, 3], [4, 5, 6], [7, 8, 9]]\n"
     ]
    }
   ],
   "source": [
    "def group(li,size):\n",
    "    result = []\n",
    "    sub_list = []\n",
    "    i = 0\n",
    "    while i < len(li):\n",
    "            if len(sub_list) < size:\n",
    "                sub_list.append(li[i])\n",
    "                i += 1  \n",
    "          \n",
    "            else:\n",
    "                result.append(sub_list)\n",
    "                sub_list = []\n",
    "    \n",
    "    result.append(sub_list)\n",
    "    return result\n",
    "        \n",
    "\n",
    "print(group([1, 2, 3, 4, 5, 6, 7, 8, 9], 3))"
   ]
  },
  {
   "cell_type": "markdown",
   "metadata": {},
   "source": [
    "Problem 13: Write a function lensort to sort a list of strings based on length"
   ]
  },
  {
   "cell_type": "code",
   "execution_count": 30,
   "metadata": {},
   "outputs": [
    {
     "name": "stdout",
     "output_type": "stream",
     "text": [
      "['c', 'perl', 'java', 'ruby', 'python', 'haskell']\n"
     ]
    }
   ],
   "source": [
    "def lensort(li):\n",
    "    li.sort(key=len)\n",
    "    return li\n",
    "        \n",
    "\n",
    "print(lensort(['python', 'perl', 'java', 'c', 'haskell', 'ruby']))"
   ]
  },
  {
   "cell_type": "markdown",
   "metadata": {},
   "source": [
    "Problem 14: Improve the unique function written in previous problems to take an optional key function as argument and use the return value of the key function to check for uniqueness."
   ]
  },
  {
   "cell_type": "code",
   "execution_count": 31,
   "metadata": {},
   "outputs": [
    {
     "name": "stdout",
     "output_type": "stream",
     "text": [
      "['python', 'java']\n"
     ]
    }
   ],
   "source": [
    "def unique(l,key):\n",
    "    result = []      \n",
    "    for i in l:\n",
    "        if i == key(i):\n",
    "            result.append(i)\n",
    "    return result\n",
    "\n",
    "\n",
    "print(unique([\"python\", \"java\", \"Python\", \"Java\"], key=lambda s: s.lower()))"
   ]
  },
  {
   "cell_type": "markdown",
   "metadata": {},
   "source": [
    "# String"
   ]
  },
  {
   "cell_type": "code",
   "execution_count": 32,
   "metadata": {},
   "outputs": [
    {
     "data": {
      "text/plain": [
       "'a,b,c'"
      ]
     },
     "execution_count": 32,
     "metadata": {},
     "output_type": "execute_result"
    }
   ],
   "source": [
    "\" \".join(['hello', 'world'])\n",
    "#'hello world'\n",
    "','.join(['a', 'b', 'c'])\n",
    "#'a,b,c'"
   ]
  },
  {
   "cell_type": "code",
   "execution_count": 33,
   "metadata": {},
   "outputs": [
    {
     "name": "stdout",
     "output_type": "stream",
     "text": [
      "hello world\n",
      "cdefg\n"
     ]
    }
   ],
   "source": [
    "str =' hello world\\n'.strip() #remove whitespaces\n",
    "print(str)\n",
    "str = 'abcdefgh'.strip('abdh') #removes char\n",
    "print(str)"
   ]
  },
  {
   "cell_type": "markdown",
   "metadata": {},
   "source": [
    "Problem 16: Write a function extsort to sort a list of files based on extension."
   ]
  },
  {
   "cell_type": "code",
   "execution_count": 34,
   "metadata": {},
   "outputs": [
    {
     "name": "stdout",
     "output_type": "stream",
     "text": [
      "['a.c', 'x.c', 'a.py', 'b.py', 'bar.txt', 'foo.txt']\n"
     ]
    }
   ],
   "source": [
    "def extsort(l):\n",
    "    l.sort(key=lambda x: x.split(\".\")[1])\n",
    "    return l\n",
    "\n",
    "print(extsort(['a.c', 'a.py', 'b.py', 'bar.txt', 'foo.txt', 'x.c']))"
   ]
  },
  {
   "cell_type": "markdown",
   "metadata": {},
   "source": [
    "# Working With Files\n",
    "\n"
   ]
  },
  {
   "cell_type": "code",
   "execution_count": 35,
   "metadata": {},
   "outputs": [],
   "source": [
    "f = open('foo.txt', 'r') # open a file in read mode\n",
    "f = open('foo.txt', 'w') # open a file in write mode\n",
    "f = open('foo.txt', 'a') # open a file in append mode"
   ]
  },
  {
   "cell_type": "code",
   "execution_count": null,
   "metadata": {},
   "outputs": [],
   "source": []
  },
  {
   "cell_type": "code",
   "execution_count": 36,
   "metadata": {},
   "outputs": [
    {
     "data": {
      "text/plain": [
       "['hello Python \\n', ' Python is easy \\n', ' as well as popular']"
      ]
     },
     "execution_count": 36,
     "metadata": {},
     "output_type": "execute_result"
    }
   ],
   "source": [
    "f = open('foo.txt', 'w')\n",
    "f.write(\"hello Python \\n Python is easy \\n as well as popular\")\n",
    "f.close()\n",
    "\n",
    "f = open('foo.txt', 'r')\n",
    "#f.readline() \n",
    "#'hello Python \\n'\n",
    "f.readlines()"
   ]
  },
  {
   "cell_type": "code",
   "execution_count": 37,
   "metadata": {},
   "outputs": [
    {
     "data": {
      "text/plain": [
       "['hello Python \\n', ' Python is easy \\n', ' as well as popular']"
      ]
     },
     "execution_count": 37,
     "metadata": {},
     "output_type": "execute_result"
    }
   ],
   "source": [
    "f = open('foo.txt', 'w')\n",
    "f.writelines(['hello Python \\n', ' Python is easy \\n', ' as well as popular'])\n",
    "f.close()\n",
    "\n",
    "f = open('foo.txt', 'r')\n",
    "#'hello Python \\n'\n",
    "f.readlines()"
   ]
  },
  {
   "cell_type": "markdown",
   "metadata": {},
   "source": [
    "Number of characters in a file is same as the length of its contents."
   ]
  },
  {
   "cell_type": "code",
   "execution_count": 38,
   "metadata": {},
   "outputs": [
    {
     "data": {
      "text/plain": [
       "50"
      ]
     },
     "execution_count": 38,
     "metadata": {},
     "output_type": "execute_result"
    }
   ],
   "source": [
    "def charcount(filename):\n",
    "    return len(open(filename).read())\n",
    "charcount('foo.txt')"
   ]
  },
  {
   "cell_type": "markdown",
   "metadata": {},
   "source": [
    " Number of words in a file can be found by splitting the contents of the file."
   ]
  },
  {
   "cell_type": "code",
   "execution_count": 39,
   "metadata": {},
   "outputs": [
    {
     "data": {
      "text/plain": [
       "9"
      ]
     },
     "execution_count": 39,
     "metadata": {},
     "output_type": "execute_result"
    }
   ],
   "source": [
    "def wordcount(filename):\n",
    "    return len(open(filename,\"r\").read().split())\n",
    "\n",
    "wordcount(\"foo.txt\")"
   ]
  },
  {
   "cell_type": "markdown",
   "metadata": {},
   "source": [
    "Number of lines in a file can be found from readlines method."
   ]
  },
  {
   "cell_type": "code",
   "execution_count": 40,
   "metadata": {},
   "outputs": [
    {
     "data": {
      "text/plain": [
       "3"
      ]
     },
     "execution_count": 40,
     "metadata": {},
     "output_type": "execute_result"
    }
   ],
   "source": [
    "def linecount(filename):\n",
    "    return len(open(filename).readlines())\n",
    "\n",
    "linecount(\"foo.txt\")"
   ]
  },
  {
   "cell_type": "markdown",
   "metadata": {},
   "source": [
    "Problem 17: Write a program reverse.py to print lines of a file in reverse order."
   ]
  },
  {
   "cell_type": "code",
   "execution_count": 41,
   "metadata": {},
   "outputs": [
    {
     "name": "stdout",
     "output_type": "stream",
     "text": [
      " as well as popular\n",
      " Python is easy \n",
      "\n",
      "hello Python \n",
      "\n"
     ]
    }
   ],
   "source": [
    "lines = open('foo.txt').readlines()\n",
    "lines = lines[-1::-1]\n",
    "for l in lines:\n",
    "    print(l)"
   ]
  },
  {
   "cell_type": "markdown",
   "metadata": {},
   "source": [
    "Problem 18: Write a program to print each line of a file in reverse order.\n",
    "\n"
   ]
  },
  {
   "cell_type": "code",
   "execution_count": 42,
   "metadata": {},
   "outputs": [
    {
     "name": "stdout",
     "output_type": "stream",
     "text": [
      "\n",
      " nohtyP olleh\n",
      "\n",
      " ysae si nohtyP \n",
      "ralupop sa llew sa \n"
     ]
    }
   ],
   "source": [
    "lines = open('foo.txt').readlines()\n",
    "for l in lines:\n",
    "    print(l[::-1])"
   ]
  },
  {
   "cell_type": "code",
   "execution_count": 71,
   "metadata": {},
   "outputs": [],
   "source": [
    "f = open('.txt', 'w')\n",
    "f.writelines(['It is used for:\\n', 'web development (server-side) \\n', 'software development,\\n',\"mathematics \\n\",\n",
    "\"system scripting. \\n\",\n",
    "\"What can Python do? \\n\",\n",
    "\"Python can be used on a server to create web applications. \\n\",\n",
    "\"Python can be used alongside software to create workflows. \\n\",\n",
    "\"Python can connect to database systems. It can also read and modify files. \\n\",\n",
    "\"Python can be used to handle big data and perform complex mathematics. \\n\",\n",
    "\"Python can be used for rapid prototyping, or for production-ready software development. \\n\",\n",
    "\"Why Python? \\n\",\n",
    "\"Python works on different platforms (Windows, Mac, Linux, Raspberry Pi, etc). \\n\",\n",
    "\"Python has a simple syntax similar to the English language. \\n\",\n",
    "\"Python has syntax that allows developers to write programs with fewer lines than some other programming languages. \\n\",\n",
    "\"Python runs on an interpreter system, meaning that code can be executed as soon as it is written. This means that prototyping can be very quick. \\n\",\n",
    "\"Python can be treated in a procedural way, an object-oriented way or a functional way.\"])\n",
    "f.close()"
   ]
  },
  {
   "cell_type": "markdown",
   "metadata": {},
   "source": [
    "Problem 19: Implement unix commands head and tail. The head and tail commands take a file as argument and prints its first and last 10 lines of the file respectively."
   ]
  },
  {
   "cell_type": "code",
   "execution_count": 72,
   "metadata": {},
   "outputs": [
    {
     "name": "stdout",
     "output_type": "stream",
     "text": [
      "It is used for:\n",
      "\n",
      "\n",
      "\n",
      "web development (server-side),\n",
      "\n",
      "software development,\n",
      "\n",
      "mathematics,\n",
      "\n",
      "system scripting.\n",
      "\n",
      "What can Python do?\n",
      "\n",
      "Python can be used on a server to create web applications.\n",
      "\n",
      "Python can be used alongside software to create workflows.\n",
      "\n",
      "Python can connect to database systems. It can also read and modify files.\n",
      "\n"
     ]
    }
   ],
   "source": [
    "def head(file_name):\n",
    "    lines = open(file_name).readlines()\n",
    "    i=0\n",
    "    while i < 10:\n",
    "        print(lines[i])\n",
    "        i += 1\n",
    "        \n",
    "head(\"python.txt\")"
   ]
  },
  {
   "cell_type": "code",
   "execution_count": 51,
   "metadata": {},
   "outputs": [
    {
     "name": "stdout",
     "output_type": "stream",
     "text": [
      "Python can connect to database systems. It can also read and modify files.\n",
      "\n",
      "Python can be used to handle big data and perform complex mathematics.\n",
      "\n",
      "Python can be used for rapid prototyping, or for production-ready software development.\n",
      "\n",
      "\n",
      "\n",
      "Why Python?\n",
      "\n",
      "Python works on different platforms (Windows, Mac, Linux, Raspberry Pi, etc).\n",
      "\n",
      "Python has a simple syntax similar to the English language.\n",
      "\n",
      "Python has syntax that allows developers to write programs with fewer lines than some other programming languages.\n",
      "\n",
      "Python runs on an interpreter system, meaning that code can be executed as soon as it is written. This means that prototyping can be very quick.\n",
      "\n",
      "Python can be treated in a procedural way, an object-oriented way or a functional way.\n"
     ]
    }
   ],
   "source": [
    "def head(file_name):\n",
    "    lines = open(file_name).readlines()\n",
    "    i=1\n",
    "    controller = len(lines)-10\n",
    "    while i <= 10:\n",
    "        print(lines[controller])\n",
    "        controller += 1\n",
    "        i += 1\n",
    "        \n",
    "head(\"python.txt\")"
   ]
  },
  {
   "cell_type": "markdown",
   "metadata": {},
   "source": [
    "Problem 20: Implement unix command grep. The grep command takes a string and a file as arguments and prints all lines in the file which contain the specified string."
   ]
  },
  {
   "cell_type": "code",
   "execution_count": 52,
   "metadata": {},
   "outputs": [
    {
     "name": "stdout",
     "output_type": "stream",
     "text": [
      "What can Python do?\n",
      "\n",
      "Python can be used on a server to create web applications.\n",
      "\n",
      "Python can be used alongside software to create workflows.\n",
      "\n",
      "Python can connect to database systems. It can also read and modify files.\n",
      "\n",
      "Python can be used to handle big data and perform complex mathematics.\n",
      "\n",
      "Python can be used for rapid prototyping, or for production-ready software development.\n",
      "\n",
      "Why Python?\n",
      "\n",
      "Python works on different platforms (Windows, Mac, Linux, Raspberry Pi, etc).\n",
      "\n",
      "Python has a simple syntax similar to the English language.\n",
      "\n",
      "Python has syntax that allows developers to write programs with fewer lines than some other programming languages.\n",
      "\n",
      "Python runs on an interpreter system, meaning that code can be executed as soon as it is written. This means that prototyping can be very quick.\n",
      "\n",
      "Python can be treated in a procedural way, an object-oriented way or a functional way.\n"
     ]
    }
   ],
   "source": [
    "def grep(file_name,str):\n",
    "    lines = open(file_name).readlines()\n",
    "    for line in lines:\n",
    "        if str in line:\n",
    "            print(line)\n",
    "   \n",
    "    \n",
    "grep(\"python.txt\",\"Python\")"
   ]
  },
  {
   "cell_type": "markdown",
   "metadata": {},
   "source": [
    "Problem 21: Write a program wrap.py that takes filename and width as aruguments and wraps the lines longer than width."
   ]
  },
  {
   "cell_type": "code",
   "execution_count": 53,
   "metadata": {},
   "outputs": [
    {
     "name": "stdout",
     "output_type": "stream",
     "text": [
      "It is used for:\n",
      "\n",
      "\n",
      "\n",
      "web development (server-side),\n",
      "\n",
      "\n",
      "software development,\n",
      "\n",
      "mathematics,\n",
      "\n",
      "system scripting.\n",
      "\n",
      "What can Python do?\n",
      "\n",
      "Python can be used on a server\n",
      " to create web applications.\n",
      "\n",
      "Python can be used alongside s\n",
      "oftware to create workflows.\n",
      "\n",
      "Python can connect to database\n",
      " systems. It can also read and modify files.\n",
      "\n",
      "Python can be used to handle b\n",
      "ig data and perform complex mathematics.\n",
      "\n",
      "Python can be used for rapid p\n",
      "rototyping, or for production-ready software development.\n",
      "\n",
      "\n",
      "\n",
      "Why Python?\n",
      "\n",
      "Python works on different plat\n",
      "forms (Windows, Mac, Linux, Raspberry Pi, etc).\n",
      "\n",
      "Python has a simple syntax sim\n",
      "ilar to the English language.\n",
      "\n",
      "Python has syntax that allows \n",
      "developers to write programs with fewer lines than some other programming languages.\n",
      "\n",
      "Python runs on an interpreter \n",
      "system, meaning that code can be executed as soon as it is written. This means that prototyping can be very quick.\n",
      "\n",
      "Python can be treated in a pro\n",
      "cedural way, an object-oriented way or a functional way.\n"
     ]
    }
   ],
   "source": [
    "def wrap(file_name,width):\n",
    "    lines = open(file_name).readlines()\n",
    "    for line in lines:\n",
    "        if(len(line) < width):\n",
    "            print(line)\n",
    "        else:\n",
    "            print(line[0:width]+\"\\n\"+line[width:])\n",
    "    \n",
    "wrap(\"python.txt\",30)    "
   ]
  },
  {
   "cell_type": "markdown",
   "metadata": {},
   "source": [
    "Problem 22: The above wrap program is not so nice because it is breaking the line at middle of any word. Can you write a new program wordwrap.py that works like wrap.py, but breaks the line only at the word boundaries?"
   ]
  },
  {
   "cell_type": "code",
   "execution_count": 54,
   "metadata": {},
   "outputs": [
    {
     "name": "stdout",
     "output_type": "stream",
     "text": [
      "It is used for:\n",
      "\n",
      "\n",
      "\n",
      "web development (server-side),\n",
      "\n",
      "\n",
      "software development,\n",
      "\n",
      "mathematics,\n",
      "\n",
      "system scripting.\n",
      "\n",
      "What can Python do?\n",
      "\n",
      "Python can be used on a server\n",
      " to create web applications.\n",
      "\n",
      "Python can be used alongside s\n",
      "oftware to create workflows.\n",
      "\n",
      "Python can connect to database\n",
      " systems. It can also read and modify files.\n",
      "\n",
      "Python can be used to handle b\n",
      "ig data and perform complex mathematics.\n",
      "\n",
      "Python can be used for rapid p\n",
      "rototyping, or for production-ready software development.\n",
      "\n",
      "\n",
      "\n",
      "Why Python?\n",
      "\n",
      "Python works on different plat\n",
      "forms (Windows, Mac, Linux, Raspberry Pi, etc).\n",
      "\n",
      "Python has a simple syntax sim\n",
      "ilar to the English language.\n",
      "\n",
      "Python has syntax that allows \n",
      "developers to write programs with fewer lines than some other programming languages.\n",
      "\n",
      "Python runs on an interpreter \n",
      "system, meaning that code can be executed as soon as it is written. This means that prototyping can be very quick.\n",
      "\n",
      "Python can be treated in a pro\n",
      "cedural way, an object-oriented way or a functional way.\n"
     ]
    }
   ],
   "source": [
    "def wrap(file_name,width):\n",
    "    lines = open(file_name).readlines()\n",
    "    for line in lines:\n",
    "        if(len(line) < width):\n",
    "            print(line)\n",
    "        else:\n",
    "            print(line[0:width]+\"\\n\"+line[width:])\n",
    "    \n",
    "wrap(\"python.txt\",30)    "
   ]
  },
  {
   "cell_type": "markdown",
   "metadata": {},
   "source": [
    "# List Comprehensions"
   ]
  },
  {
   "cell_type": "markdown",
   "metadata": {},
   "source": [
    "Problem 24: Provide an implementation for zip function using list comprehensions."
   ]
  },
  {
   "cell_type": "code",
   "execution_count": 55,
   "metadata": {},
   "outputs": [
    {
     "name": "stdout",
     "output_type": "stream",
     "text": [
      "[(1, 'b'), (2, 'c')]\n"
     ]
    }
   ],
   "source": [
    "def zip(l1,l2):\n",
    "    result = []\n",
    "    i=0;\n",
    "    for i in l1:\n",
    "        if i < len(l2):\n",
    "            tup = i, l2[i]\n",
    "            result.append(tup)\n",
    "    return result\n",
    "        \n",
    "print(zip([1, 2, 3], [\"a\", \"b\", \"c\"]))"
   ]
  },
  {
   "cell_type": "markdown",
   "metadata": {},
   "source": [
    "Problem 25: Python provides a built-in function map that applies a function to each element of a list. Provide an implementation for map using list comprehensions."
   ]
  },
  {
   "cell_type": "code",
   "execution_count": 56,
   "metadata": {},
   "outputs": [
    {
     "name": "stdout",
     "output_type": "stream",
     "text": [
      "[0, 1, 4, 9, 16]\n"
     ]
    }
   ],
   "source": [
    "def square(x): return x * x\n",
    "\n",
    "def map(fun, r):\n",
    "    result = []\n",
    "    for i in r:\n",
    "        result.append(fun(i))\n",
    "    \n",
    "    return result\n",
    "\n",
    "\n",
    "print(map(square, range(5)))"
   ]
  },
  {
   "cell_type": "markdown",
   "metadata": {},
   "source": [
    "Problem 26: Python provides a built-in function filter(f, a) that returns items of the list a for which f(item) returns true. Provide an implementation for filter using list comprehensions."
   ]
  },
  {
   "cell_type": "code",
   "execution_count": 57,
   "metadata": {},
   "outputs": [
    {
     "name": "stdout",
     "output_type": "stream",
     "text": [
      "[0, 2, 4, 6, 8]\n"
     ]
    }
   ],
   "source": [
    "def even(x): return x%2 == 0\n",
    "\n",
    "def filter(fun, r):\n",
    "    result = []\n",
    "    for i in r:\n",
    "        if fun(i):\n",
    "            result.append(i)\n",
    "    \n",
    "    return result\n",
    "\n",
    "\n",
    "print(filter(even, range(10)))"
   ]
  },
  {
   "cell_type": "markdown",
   "metadata": {},
   "source": [
    "Problem 27: Write a function triplets that takes a number n as argument and returns a list of triplets such that sum of first two elements of the triplet equals the third element using numbers below n. Please note that (a, b, c) and (b, a, c) represent same triplet."
   ]
  },
  {
   "cell_type": "code",
   "execution_count": 58,
   "metadata": {},
   "outputs": [
    {
     "name": "stdout",
     "output_type": "stream",
     "text": [
      "[(1, 1, 2), (1, 2, 3), (1, 3, 4), (2, 2, 4)]\n"
     ]
    }
   ],
   "source": [
    "def triplets(n):\n",
    "    result = []\n",
    "    for i in range(1,n):\n",
    "        for j in range(1,n):\n",
    "            \n",
    "            if(i+j < n):\n",
    "                tup = i,j,i+j\n",
    "                tup2 = j,i,i+j\n",
    "                if(tup2 not in result):\n",
    "                    result.append(tup)\n",
    "    return (result)\n",
    "\n",
    "\n",
    "print(triplets(5))"
   ]
  },
  {
   "cell_type": "markdown",
   "metadata": {},
   "source": [
    "Problem 28: Write a function enumerate that takes a list and returns a list of tuples containing (index,item) for each item in the list."
   ]
  },
  {
   "cell_type": "code",
   "execution_count": 59,
   "metadata": {},
   "outputs": [
    {
     "name": "stdout",
     "output_type": "stream",
     "text": [
      "[(0, 'a'), (1, 'b'), (2, 'c')]\n"
     ]
    }
   ],
   "source": [
    "def enumerate(l):\n",
    "    n = 0\n",
    "    result = []\n",
    "    for i in l:\n",
    "        tup = n, f\"{i}\" \n",
    "        n +=1\n",
    "        result.append(tup)\n",
    "    return result\n",
    "\n",
    "print(enumerate([\"a\", \"b\", \"c\"]))"
   ]
  },
  {
   "cell_type": "markdown",
   "metadata": {},
   "source": [
    "Problem 29: Write a function array to create an 2-dimensional array. The function should take both dimensions as arguments. Value of each element can be initialized to None"
   ]
  },
  {
   "cell_type": "code",
   "execution_count": 60,
   "metadata": {},
   "outputs": [
    {
     "name": "stdout",
     "output_type": "stream",
     "text": [
      "[[None, None, None], [None, None, None]]\n"
     ]
    }
   ],
   "source": [
    "def array(row,col):\n",
    "    result = []\n",
    "    temp = []\n",
    "    for i in range(row):\n",
    "        for j in range(col):\n",
    "            temp.append(None)\n",
    "        result.append(temp)\n",
    "        temp = []\n",
    "    return result\n",
    "\n",
    "a = array(2, 3)\n",
    "print(a)"
   ]
  },
  {
   "cell_type": "markdown",
   "metadata": {},
   "source": [
    "Problem 30: Write a python function parse_csv to parse csv (comma separated values) files."
   ]
  },
  {
   "cell_type": "code",
   "execution_count": 1,
   "metadata": {},
   "outputs": [
    {
     "name": "stdout",
     "output_type": "stream",
     "text": [
      "['Name', 'E mail', 'College', 'Gender', 'Mobile No', 'Branch', '10th YOP', '10th Score', '12th YOP', '12th Score', 'Diploma YOP', 'Diploma Score', 'Degree YOP', 'Degree Score', 'TPO Name', 'TPO Email', 'TPO Contact no']\n",
      "['Shraddha Vhanmane', 'shraddhavh123@gmail.com', 'NK Orchid College of Engineering & Technology, Solapur', 'Female', '9607563070', 'CS/IT', '2015', '78', '0', '0', '2018', '83.06', '2021', '80', 'Ravindra Patil', 'tpo@orchidengg.ac.in', '9767107293']\n",
      "['Namratakshi Dikonda', 'namratadikonda53@gmail.com', 'NK Orchid College of Engineering & Technology, Solapur', 'Female', '7219339332', 'CS/IT', '2015', '76', '0', '0', '2018', '78', '2021', '81', 'Ravindra Patil', 'tpo@orchidengg.ac.in', '9767107293']\n",
      "['LAXMI MALI', 'ashumali20898@gmail.com', 'NK Orchid College of Engineering & Technology, Solapur', 'Female', '7028920898', 'CS/IT', '2014', '66.4', '0', '0', '2017', '72', '2021', '78.47', 'Ravindra Patil', 'tpo@orchidengg.ac.in', '9767107293']\n",
      "['Swarada Lele', 'leleswarada@gmail.com', 'NK Orchid College of Engineering & Technology, Solapur', 'Female', '8793292203', 'CS/IT', '2013', '78.8', '2015', '63.69', '2017', '79.88', '2022', '63.81', 'Ravindra Patil', 'tpo@orchidengg.ac.in', '9767107293']\n",
      "['Sonali Boddhul', 'sonaliboddhul@gmail.com', 'NK Orchid College of Engineering & Technology, Solapur', 'Female', '8668342508', 'CS/IT', '2015', '92.8', '2017', '79.8', '0', '0', '2021', '87.68', 'Ravindra Patil', 'tpo@orchidengg.ac.in', '9767107293']\n",
      "['Shreyas Mirajkar', 'shreyasrmirajkar98@gmail.com', 'NK Orchid College of Engineering & Technology, Solapur', 'Male', '8421035886', 'CS/IT', '2014', '60', '0', '0', '2017', '78', '2020', '73', 'Ravindra Patil', 'tpo@orchidengg.ac.in', '9767107293']\n",
      "['Balchandra Samleti', 'balsamleti@gmail.com', 'NK Orchid College of Engineering & Technology, Solapur', 'Male', '9175416700', 'CS/IT', '2015', '75.2', '2017', '75.69', '0', '0', '2021', '78.39', 'Ravindra Patil', 'tpo@orchidengg.ac.in', '9767107293']\n",
      "['Rakesh Boddul', 'rakeshboddul18@gmail.com', 'NK Orchid College of Engineering & Technology, Solapur', 'Male', '9834206138', 'CS/IT', '2015', '81.8', '2017', '65.81', '0', '0', '2021', '73.15', 'Ravindra Patil', 'tpo@orchidengg.ac.in', '9767107293']\n",
      "['RAGEBALEEM SHAIKH', 'ragebaleem99@gmail.com', 'NK Orchid College of Engineering & Technology, Solapur', 'Male', '8668276232', 'CS/IT', '2015', '85.4', '2017', '60.77', '0', '0', '2021', '69.35', 'Ravindra Patil', 'tpo@orchidengg.ac.in', '9767107293']\n",
      "['Anand Gaikwad', 'anand.g4121999@gmail.com', 'NK Orchid College of Engineering & Technology, Solapur', 'Male', '9822306457', 'CS/IT', '2014', '60', '0', '0', '2018', '73', '2021', '73.4', 'Ravindra Patil', 'tpo@orchidengg.ac.in', '9767107293']\n",
      "['Uzefa Soudagar', 'uzefasoudager95@gmail.com', 'NK Orchid College of Engineering & Technology, Solapur', 'Female', '8956265205', 'CS/IT', '2015', '63.64', '0', '0', '2018', '79.69', '2021', '74.29', 'Ravindra Patil', 'tpo@orchidengg.ac.in', '9767107293']\n",
      "['Mayuri Rathod', 'mayurirathod619@gmail.com', 'NK Orchid College of Engineering & Technology, Solapur', 'Female', '9309917770', 'CS/IT', '2015', '80.8', '2018', '67.37', '0', '0', '2022', '83.87', 'Ravindra Patil', 'tpo@orchidengg.ac.in', '9767107293']\n",
      "['Komal Khandare', 'komalkhandare9@gmail.com', 'NK Orchid College of Engineering & Technology, Solapur', 'Female', '9767883838', 'CS/IT', '2014', '80.18', '0', '0', '2017', '72.12', '2021', '73', 'Ravindra Patil', 'tpo@orchidengg.ac.in', '9767107293']\n",
      "['Sucheta Bhaskar', 'spbhaskar2000@gmail.com', 'NK Orchid College of Engineering & Technology, Solapur', 'Female', '9363739329', 'CS/IT', '2015', '79.4', '0', '0', '2018', '69', '2021', '80.18', 'Ravindra Patil', 'tpo@orchidengg.ac.in', '9767107293']\n",
      "['Deepak Mench', 'deepakmench18@gmail.com', 'NK Orchid College of Engineering & Technology, Solapur', 'Male', '7038716093', 'EnTC', '2015', '72.6', '0', '0', '2018', '63.6', '2021', '74', 'Ravindra Patil', 'tpo@orchidengg.ac.in', '9767107293']\n",
      "['Nivedita Shripuram', 'shrinivu@gmail.com', 'NK Orchid College of Engineering & Technology, Solapur', 'Female', '9765561002', 'EnTC', '2015', '89', '0', '0', '2018', '80.06', '2021', '78.56', 'Ravindra Patil', 'tpo@orchidengg.ac.in', '9767107293']\n",
      "['Vanishka Jain', 'vanishka57@gmail.com', 'Walchand Institute of Technology, Solapur', 'Female', '7024506050', 'CS/IT', '2015', '95', '2017', '82', '0', '0', '2021', '84', 'Dr Satish Lakde', 'tpo@witsolapur.org', '7798250677']\n",
      "['Mohrish Bitla', 'bitlamohrish@gmail.com', 'Walchand Institute of Technology, Solapur', 'Male', '8625902830', 'CS/IT', '2015', '87.2', '2017', '74.62', '0', '0', '2021', '80', 'Dr Satish Lakde', 'tpo@witsolapur.org', '7798250677']\n",
      "['Priyanka Donaj', 'priyankadonaj11@gmail.com', 'Walchand Institute of Technology, Solapur', 'Female', '9834374121', 'CS/IT', '2015', '93', '2017', '83', '0', '0', '2021', '89', 'Dr Satish Lakde', 'tpo@witsolapur.org', '7798250677']\n",
      "['Keyur Sawot', 'keyurjain2000@gmail.com', 'Walchand Institute of Technology, Solapur', 'Male', '9680946535', 'CS/IT', '2015', '77.7', '2017', '65.4', '0', '0', '2021', '60.9', 'Dr Satish Lakde', 'tpo@witsolapur.org', '7798250677']\n",
      "['Ashish Kulkarni', 'ashishkulkarni612@gmail.com', 'Walchand Institute of Technology, Solapur', 'Male', '8669070065', 'EnTC', '2015', '84', '0', '0', '2017', '69.94', '2021', '61.5', 'Dr Satish Lakde', 'tpo@witsolapur.org', '7798250677']\n",
      "['Priyadarshani Rachha', 'priyarachha123@gmail.com', 'Walchand Institute of Technology, Solapur', 'Female', '9372728293', 'EnTC', '2015', '67', '0', '0', '2018', '72', '2019', '65', 'Dr Satish Lakde', 'tpo@witsolapur.org', '7798250677']\n",
      "['Balaji Dyavanpalli', 'balajidyavanpalli@gmail.com', 'Walchand Institute of Technology, Solapur', 'Male', '7030683072', 'EnTC', '2015', '84', '2017', '62', '0', '0', '2021', '75', 'Dr Satish Lakde', 'tpo@witsolapur.org', '7798250677']\n",
      "['Bhagyashri Hingmire', 'hingmirebhagyashri@gmail.com', 'Walchand Institute of Technology, Solapur', 'Female', '9552672321', 'EnTC', '2015', '86.8', '2017', '69.5', '0', '0', '2021', '73.1', 'Dr Satish Lakde', 'tpo@witsolapur.org', '7798250677']\n",
      "['Neha Madkar', 'nehamadkar40@gmail.com', 'Walchand Institute of Technology, Solapur', 'Female', '7776072588', 'EnTC', '2015', '91.8', '2017', '74.2', '0', '0', '2021', '74.56', 'Dr Satish Lakde', 'tpo@witsolapur.org', '7798250677']\n",
      "['Akshita Shindore', 'akshishindore@gmail.com', 'KK Wagh', 'Female', '7083669291', 'CS/IT', '2015', '87', '2018', '70', '0', '0', '2021', '62.76', 'Prof. Shahbadkar', 'tpo-engg@kkwagh.edu.in', '9822907468']\n",
      "['Riya Mahajan', 'riyarmahajannsk@gmail.com', 'KK Wagh', 'Female', '7588674117', 'CS/IT', '2015', '95', '2017', '88', '0', '0', '2021', '83', 'Prof. Shahbadkar', 'tpo-engg@kkwagh.edu.in', '9822907468']\n",
      "['ANIKET KAMBLE', 'aniket231298kamble@gmail.com', \"NDMVP's Karmaveer Baburao Thakare College of Engineering, Nashik\", 'Male', '7774810236', 'CS/IT', '2014', '85.6', '2016', '60.26', '', '', '2021', '60.72', 'Vineet Deore', 'tpo.ndmvpcoe@gmail.com', '9987377436']\n",
      "['Kajal Ahire', 'kajalahire2511@gmail.com', \"NDMVP's Karmaveer Baburao Thakare College of Engineering, Nashik\", 'Female', '7722073526', 'CS/IT', '2015', '81', '2017', '60', '', '', '2021', '63.77', 'Vineet Deore', 'tpo.ndmvpcoe@gmail.com', '9987377436']\n",
      "['Shubham Borse', 'shubhamborse2011@gmail.com', \"NDMVP's Karmaveer Baburao Thakare College of Engineering, Nashik\", 'Male', '7038736443', 'CS/IT', '2015', '84.4', '2017', '72.46', '', '', '2021', '60', 'Vineet Deore', 'tpo.ndmvpcoe@gmail.com', '9987377436']\n",
      "['Smrutika Bhawsar', 'smruti.bhawsar@gmail.com', \"NDMVP's Karmaveer Baburao Thakare College of Engineering, Nashik\", 'Female', '9075888506', 'CS/IT', '2015', '91', '2017', '78.92', '', '', '2021', '75.5', 'Vineet Deore', 'tpo.ndmvpcoe@gmail.com', '9987377436']\n",
      "['SHRUTIKA KINGE', 'shrutikakinge123@gmail.com', \"NDMVP's Karmaveer Baburao Thakare College of Engineering, Nashik\", 'Female', '9119452186', 'CS/IT', '2015', '92', '2017', '76', '', '', '2021', '68.33', 'Vineet Deore', 'tpo.ndmvpcoe@gmail.com', '9987377436']\n",
      "['Shivani Rashinkar', 'rashinkarshivani173@gmail.com', \"NDMVP's Karmaveer Baburao Thakare College of Engineering, Nashik\", 'Female', '8805871670', 'CS/IT', '2014', '84.6', '2016', '70', '', '', '2021', '59.56', 'Vineet Deore', 'tpo.ndmvpcoe@gmail.com', '9987377436']\n",
      "['Aniket Chaudhari', 'www.aidx500@gmail.com', \"NDMVP's Karmaveer Baburao Thakare College of Engineering, Nashik\", 'Male', '9552699022', 'CS/IT', '2015', '90.2', '2017', '78.15', '', '', '2021', '65.22', 'Vineet Deore', 'tpo.ndmvpcoe@gmail.com', '9987377436']\n",
      "['Nidhi Goda', 'nidhigoda99@gmail.com', \"NDMVP's Karmaveer Baburao Thakare College of Engineering, Nashik\", 'Female', '9834933358', 'CS/IT', '2015', '94.6', '2017', '78.68', '', '', '2021', '75.57', 'Vineet Deore', 'tpo.ndmvpcoe@gmail.com', '9987377436']\n",
      "['Piyush Sonar', 'psonar816@gmail.com', \"NDMVP's Karmaveer Baburao Thakare College of Engineering, Nashik\", 'Male', '9075774008', 'CS/IT', '2015', '88.2', '2017', '62', '', '', '2021', '59.2', 'Vineet Deore', 'tpo.ndmvpcoe@gmail.com', '9987377436']\n",
      "['Disha Bhavsar', 'dishabhavsar1504@gmail.com', \"NDMVP's Karmaveer Baburao Thakare College of Engineering, Nashik\", 'Female', '9922560722', 'CS/IT', '2015', '93.6', '2017', '70.3', '', '', '2021', '65.88', 'Vineet Deore', 'tpo.ndmvpcoe@gmail.com', '9987377436']\n",
      "['Shweta Pingale', 'shwetapingale1999@gmail.com', \"NDMVP's Karmaveer Baburao Thakare College of Engineering, Nashik\", 'Female', '9763430995', 'CS/IT', '2015', '91', '', '', '2018', '82.51', '2021', '71', 'Vineet Deore', 'tpo.ndmvpcoe@gmail.com', '9987377436']\n",
      "['Lokesh Bhavsar', 'lokeshbhavsar127@gmail.com', \"NDMVP's Karmaveer Baburao Thakare College of Engineering, Nashik\", 'Male', '9669975909', 'CS/IT', '2015', '95', '2017', '68.8', '', '', '2021', '67.52', 'Vineet Deore', 'tpo.ndmvpcoe@gmail.com', '9987377436']\n",
      "['Rishikesh Dawalkar', 'rishi8975dawalkar@gmail.com', \"NDMVP's Karmaveer Baburao Thakare College of Engineering, Nashik\", 'Male', '7507907737', 'CS/IT', '2015', '78.2', '2017', '68.31', '', '', '2021', '61.85', 'Vineet Deore', 'tpo.ndmvpcoe@gmail.com', '9987377436']\n",
      "['Yogesh Kale', 'yogeshkale2699@gmail.com', 'GES R.H. Sapat College of Engineering, Management Studies and Research, Nashik', 'Male', '7499397684', 'CS/IT', '2015', '70.4', '0', '0', '2018', '78.75', '2021', '64.5', 'Dhanraj Deshpande', 'dhanraj.deshpande@ges-coengg.org', '8329586331']\n",
      "['Dhanashree Sali', 'dhanashree.sali26@gmail.com', 'GES R.H. Sapat College of Engineering, Management Studies and Research, Nashik', 'Female', '7057284981', 'CS/IT', '2015', '87', '0', '0', '2018', '79.38', '2021', '67.73', 'Dhanraj Deshpande', 'dhanraj.deshpande@ges-coengg.org', '8329586331']\n",
      "['Parth Suryawanshi', 'suryawanshi.parth4@gmail.com', 'GES R.H. Sapat College of Engineering, Management Studies and Research, Nashik', 'Male', '9284505408', 'CS/IT', '2015', '84.37', '2017', '68.3', '0', '0', '2021', '73.2', 'Dhanraj Deshpande', 'dhanraj.deshpande@ges-coengg.org', '8329586331']\n",
      "['Sakshi Aher', 'sakshiaher03@gmail.com', 'GES R.H. Sapat College of Engineering, Management Studies and Research, Nashik', 'Female', '9172840222', 'CS/IT', '2015', '93', '2017', '76', '0', '0', '2021', '68', 'Dhanraj Deshpande', 'dhanraj.deshpande@ges-coengg.org', '8329586331']\n",
      "['Sakshi Mande', 'mandesakshi98@gmail.com', 'GES R.H. Sapat College of Engineering, Management Studies and Research, Nashik', 'Female', '8208635815', 'CS/IT', '2014', '89.6', '0', '0', '2018', '79.6', '2021', '58', 'Dhanraj Deshpande', 'dhanraj.deshpande@ges-coengg.org', '8329586331']\n",
      "['Anjali Ghodke', 'ghodkeaanjali@gmail.com', 'GES R.H. Sapat College of Engineering, Management Studies and Research, Nashik', 'Female', '7588138731', 'CS/IT', '2015', '90.4', '2017', '74', '0', '0', '2021', '71.89', 'Dhanraj Deshpande', 'dhanraj.deshpande@ges-coengg.org', '8329586331']\n",
      "['Vivek Sonawane', 'viveksonawane2050@gmail.com', 'GES R.H. Sapat College of Engineering, Management Studies and Research, Nashik', 'Male', '7887922685', 'CS/IT', '2015', '88.4', '2017', '71.2', '0', '0', '2021', '72.47', 'Dhanraj Deshpande', 'dhanraj.deshpande@ges-coengg.org', '8329586331']\n",
      "['Snehal Sakhala', 'snehalgsakhala@gmail.com', 'GES R.H. Sapat College of Engineering, Management Studies and Research, Nashik', 'Female', '7741009537', 'CS/IT', '2015', '89', '2017', '71', '0', '0', '2021', '65.05', 'Dhanraj Deshpande', 'dhanraj.deshpande@ges-coengg.org', '8329586331']\n",
      "['Nishigandha Dahe', 'nishigandhad3540@gmail.com', 'GES R.H. Sapat College of Engineering, Management Studies and Research, Nashik', 'Female', '9689095111', 'CS/IT', '2015', '67.71', '2017', '69.58', '0', '0', '2021', '62.95', 'Dhanraj Deshpande', 'dhanraj.deshpande@ges-coengg.org', '8329586331']\n",
      "['Kirti Ahire', 'ahire.kirti22@gmail.com', 'GES R.H. Sapat College of Engineering, Management Studies and Research, Nashik', 'Female', '7517829085', 'CS/IT', '2015', '92', '2017', '70', '0', '0', '2021', '62.3', 'Dhanraj Deshpande', 'dhanraj.deshpande@ges-coengg.org', '8329586331']\n",
      "['Vaidehi Dusane', 'dusanevaidehi2000@gmail.com', 'GES R.H. Sapat College of Engineering, Management Studies and Research, Nashik', 'Female', '7218844279', 'CS/IT', '2015', '87.4', '0', '0', '2018', '78', '2021', '60.93', 'Dhanraj Deshpande', 'dhanraj.deshpande@ges-coengg.org', '8329586331']\n",
      "['Jidnyasa Bharambe', 'jidnyasa1999@gmail.com', 'GES R.H. Sapat College of Engineering, Management Studies and Research, Nashik', 'Female', '9890548783', 'CS/IT', '2014', '78', '2016', '69.22', '0', '0', '2021', '58', 'Dhanraj Deshpande', 'dhanraj.deshpande@ges-coengg.org', '8329586331']\n",
      "['Mayuri Deore', 'deoremayuri09@gmail.com', 'GES R.H. Sapat College of Engineering, Management Studies and Research, Nashik', 'Female', '7083349407', 'CS/IT', '2015', '93.2', '2017', '75', '0', '0', '2021', '84.14', 'Dhanraj Deshpande', 'dhanraj.deshpande@ges-coengg.org', '8329586331']\n",
      "['Tejashree Ahire', 'tejuahire28@gmail.com', 'GES R.H. Sapat College of Engineering, Management Studies and Research, Nashik', 'Female', '7887441272', 'CS/IT', '2015', '84.2', '0', '0', '2018', '67.5', '2021', '66.61', 'Dhanraj Deshpande', 'dhanraj.deshpande@ges-coengg.org', '8329586331']\n",
      "['Pranjal Borale', 'pranjalborale1999@gmail.com', 'GES R.H. Sapat College of Engineering, Management Studies and Research, Nashik', 'Female', '8087749297', 'CS/IT', '2015', '86.4', '0', '0', '2018', '80.24', '2021', '67.71', 'Dhanraj Deshpande', 'dhanraj.deshpande@ges-coengg.org', '8329586331']\n",
      "['Nikita Birari', 'nikitabirari09@gmail.com', 'GES R.H. Sapat College of Engineering, Management Studies and Research, Nashik', 'Female', '8698421927', 'CS/IT', '2015', '92.4', '2017', '69.08', '0', '0', '2021', '76.28', 'Dhanraj Deshpande', 'dhanraj.deshpande@ges-coengg.org', '8329586331']\n",
      "['Mansi Shirore', 'mansishirore29@gmail.com', 'GES R.H. Sapat College of Engineering, Management Studies and Research, Nashik', 'Female', '9022227037', 'CS/IT', '2015', '89', '2017', '68', '0', '0', '2021', '66.33', 'Dhanraj Deshpande', 'dhanraj.deshpande@ges-coengg.org', '8329586331']\n",
      "['Kirti Sagare', 'kirtip.sagare178@gmail.com', 'MET BKC Institute of Engineering, Nashik', 'Female', '9284745618', 'CS/IT', '2014', '80.6', '2016', '60.38', '0', '0', '2021', '61.27', 'Prof.Shailendra Vidhate', 'shailendrav_ioe@bkc.met.edu', '9372938921']\n",
      "['Pratik Bharade', 'pratikbharade400@gmail.com', 'MET BKC Institute of Engineering, Nashik', 'Male', '9527377484', 'CS/IT', '2014', '82.2', '2016', '62.77', '0', '0', '2021', '58.71', 'Prof.Shailendra Vidhate', 'shailendrav_ioe@bkc.met.edu', '9372938921']\n",
      "['Mohit Patil', 'mohitpatil443@gmail.com', 'MET BKC Institute of Engineering, Nashik', 'Male', '9511803814', 'CS/IT', '2015', '90.8', '2017', '80.15', '0', '0', '2021', '77.25', 'Prof.Shailendra Vidhate', 'shailendrav_ioe@bkc.met.edu', '9372938921']\n",
      "['Bharat Ahire', 'bharatahire785@gmail.com', 'MET BKC Institute of Engineering, Nashik', 'Male', '8108415860', 'CS/IT', '2013', '63', '2015', '54.15', '2018', '80.31', '2021', '61.94', 'Prof.Shailendra Vidhate', 'shailendrav_ioe@bkc.met.edu', '9372938921']\n",
      "['Rushikesh Thakare', 'rtrushi2441@gmail.com', 'MET BKC Institute of Engineering, Nashik', 'Male', '9595112215', 'CS/IT', '2015', '92.8', '2017', '77.69', '0', '0', '2021', '70.25', 'Prof.Shailendra Vidhate', 'shailendrav_ioe@bkc.met.edu', '9372938921']\n",
      "['Priyanka Mule', 'piyumule18@gmail.com', 'MET BKC Institute of Engineering, Nashik', 'Female', '9112881257', 'CS/IT', '2015', '85.4', '2017', '64.92', '0', '0', '2021', '68.72', 'Prof.Shailendra Vidhate', 'shailendrav_ioe@bkc.met.edu', '9372938921']\n",
      "['Harshal Borade', 'iamharshalb@gmail.com', 'MET BKC Institute of Engineering, Nashik', 'Male', '8380910020', 'CS/IT', '2015', '85.8', '2017', '69.85', '0', '0', '2021', '65.46', 'Prof.Shailendra Vidhate', 'shailendrav_ioe@bkc.met.edu', '9372938921']\n",
      "['Vishal Wani', 'wanivishal1899@gmail.com', 'MET BKC Institute of Engineering, Nashik', 'Male', '9657976078', 'CS/IT', '2015', '87.6', '2017', '68.31', '0', '0', '2021', '60.81', 'Prof.Shailendra Vidhate', 'shailendrav_ioe@bkc.met.edu', '9372938921']\n",
      "['Samyak Badjate', 'badjatesamyak8888@gmail.com', 'MET BKC Institute of Engineering, Nashik', 'Male', '8888645321', 'CS/IT', '2015', '94.6', '2017', '77.08', '0', '0', '2021', '62.7', 'Prof.Shailendra Vidhate', 'shailendrav_ioe@bkc.met.edu', '9372938921']\n",
      "['Prashant Sonawane', 'sonawaneprashant2015@gmail.com', 'MET BKC Institute of Engineering, Nashik', 'Male', '7620853400', 'CS/IT', '2013', '61', '2015', '60', '0', '0', '2021', '60.6', 'Prof.Shailendra Vidhate', 'shailendrav_ioe@bkc.met.edu', '9372938921']\n",
      "['Nishant Nair', 'nnnnishu123@gmail.com', 'Sandip Institute of Technology and Research Centre, Nashik', 'Male', '7875581865', 'CS/IT', '2015', '91.2', '2017', '79.39', '0', '0', '2021', '75.48', 'Nagma Shaikh', 'placements@sandipuniversity.edu.in', '959552255/7720933822']\n",
      "['Saqlein Shaikh', 'saqleinsheikh43@gmail.com', 'Sandip Institute of Technology and Research Centre, Nashik', 'Male', '8237644836', 'CS/IT', '2015', '87.2', '2017', '69.69', '0', '0', '2021', '67.23', 'Nagma Shaikh', 'placements@sandipuniversity.edu.in', '959552255/7720933822']\n",
      "['PRATHAMESH GIRI', 'prathameshgiri9@gmail.com', 'Sandip Institute of Technology and Research Centre, Nashik', 'Male', '8669033100', 'CS/IT', '2015', '98.6', '2017', '79.54', '0', '0', '2021', '78.71', 'Nagma Shaikh', 'placements@sandipuniversity.edu.in', '959552255/7720933822']\n",
      "['Mayur Mahajan', 'mayurn1999@gmail.com', 'Sandip Institute of Technology and Research Centre, Nashik', 'Male', '9867941976', 'CS/IT', '2015', '78.6', '2017', '71.69', '0', '0', '2021', '67.41', 'Nagma Shaikh', 'placements@sandipuniversity.edu.in', '959552255/7720933822']\n",
      "['Purva Mahajan', 'purvamahajan07@gmail.com', 'Sandip Institute of Technology and Research Centre, Nashik', 'Female', '9685153398', 'CS/IT', '2015', '83.59', '2017', '69.89', '0', '0', '2021', '67.49', 'Nagma Shaikh', 'placements@sandipuniversity.edu.in', '959552255/7720933822']\n",
      "['Onkar Chaudhari', 'onkarchaudhari16@gmail.com', 'Sandip Institute of Technology and Research Centre, Nashik', 'Male', '9765146346', 'CS/IT', '2015', '80', '2017', '65.38', '0', '0', '2021', '67.27', 'Nagma Shaikh', 'placements@sandipuniversity.edu.in', '959552255/7720933822']\n",
      "['Prathamesh Jadhav', 'jadhavprathamesh237@gmail.com', 'Sandip Institute of Technology and Research Centre, Nashik', 'Male', '8446851531', 'CS/IT', '2015', '83', '2017', '70', '0', '0', '2021', '60', 'Nagma Shaikh', 'placements@sandipuniversity.edu.in', '959552255/7720933822']\n",
      "['Srushti Patil', 'srushtipatil038@gmail.com', 'Sandip Institute of Technology and Research Centre, Nashik', 'Female', '9146231993', 'CS/IT', '2015', '88.2', '2017', '67.54', '0', '0', '2021', '72.42', 'Nagma Shaikh', 'placements@sandipuniversity.edu.in', '959552255/7720933822']\n",
      "['Sahil Sanghavi', 's1999sahil@gmail.com', 'Sandip Institute of Technology and Research Centre, Nashik', 'Male', '8237031611', 'CS/IT', '2015', '87.6', '0', '0', '2018', '82', '2021', '73.04', 'Nagma Shaikh', 'placements@sandipuniversity.edu.in', '959552255/7720933822']\n",
      "['Mansi Mahajan', 'mansimahajankkw@gmail.com', 'Sandip Institute of Technology and Research Centre, Nashik', 'Female', '9405177084', 'CS/IT', '2015', '85', '0', '0', '2018', '80.12', '2021', '64', 'Nagma Shaikh', 'placements@sandipuniversity.edu.in', '959552255/7720933822']\n",
      "['Swami Kasar', 'swamikasar8910@gmail.com', 'Sandip Institute of Technology and Research Centre, Nashik', 'Male', '8623825861', 'CS/IT', '2015', '83.6', '2017', '70.77', '0', '0', '2021', '67.93', 'Nagma Shaikh', 'placements@sandipuniversity.edu.in', '959552255/7720933822']\n",
      "['Jidnyasa Zambare', 'jidnyasazambare11@gmail.com', 'Sandip Institute of Technology and Research Centre, Nashik', 'Female', '9765303282', 'CS/IT', '2015', '95.2', '2017', '78.62', '0', '0', '2021', '63.62', 'Nagma Shaikh', 'placements@sandipuniversity.edu.in', '959552255/7720933822']\n",
      "['Pushkar Thakur', 'pushkar.thakur28@gmail.com', 'Sandip Institute of Technology and Research Centre, Nashik', 'Male', '8856847140', 'CS/IT', '2014', '85.2', '2016', '70.01', '0', '0', '2021', '61.02', 'Nagma Shaikh', 'placements@sandipuniversity.edu.in', '959552255/7720933822']\n",
      "['Raj Shinde', 'rajshinde2534@gmail.com', 'Sandip Institute of Technology and Research Centre, Nashik', 'Male', '9423166189', 'CS/IT', '2015', '81.6', '0', '0', '2018', '75', '2021', '62.62', 'Nagma Shaikh', 'placements@sandipuniversity.edu.in', '959552255/7720933822']\n",
      "['Alquama Sayyed', 'sayyedalquama@gmail.com', 'Sandip Institute of Technology and Research Centre, Nashik', 'Male', '8983268556', 'CS/IT', '2014', '88.8', '2016', '78.48', '0', '0', '2021', '80.04', 'Nagma Shaikh', 'placements@sandipuniversity.edu.in', '959552255/7720933822']\n",
      "['PRIYA PATIL', 'priyapatil737@gmail.com', 'Sandip Institute of Technology and Research Centre, Nashik', 'Female', '7387923981', 'CS/IT', '2015', '86', '2017', '70', '0', '0', '2021', '63.44', 'Nagma Shaikh', 'placements@sandipuniversity.edu.in', '959552255/7720933822']\n",
      "['Shivesh Kumar', 'shiveshkr01999@gmail.com', 'Sandip Institute of Technology and Research Centre, Nashik', 'Male', '8434662315', 'CS/IT', '2015', '89.4', '2017', '67.4', '0', '0', '2021', '65', 'Nagma Shaikh', 'placements@sandipuniversity.edu.in', '959552255/7720933822']\n",
      "['Swapnil Khairnar', 'swapnilkhairnar.78@gmail.com', 'Sandip Institute of Technology and Research Centre, Nashik', 'Male', '8320501915', 'CS/IT', '2015', '79.8', '2017', '68.4', '0', '0', '2021', '69.34', 'Nagma Shaikh', 'placements@sandipuniversity.edu.in', '959552255/7720933822']\n",
      "['Shantanu Patil', 'snpatil1310@gmail.com', 'Sandip Institute of Technology and Research Centre, Nashik', 'Male', '8668478808', 'CS/IT', '2015', '79.8', '0', '0', '2018', '75.29', '2021', '60', 'Nagma Shaikh', 'placements@sandipuniversity.edu.in', '959552255/7720933822']\n",
      "['Tanaya Bhagde', 'tanayabhagde7249@gmail.com', 'Sandip Institute of Technology and Research Centre, Nashik', 'Female', '9689609544', 'CS/IT', '2015', '70.3', '2017', '68.92', '0', '0', '2021', '62.08', 'Nagma Shaikh', 'placements@sandipuniversity.edu.in', '959552255/7720933822']\n",
      "['Neha Tiwari', 'nehatiwari4105@gmail.com', 'Sandip Institute of Technology and Research Centre, Nashik', 'Female', '9890496714', 'CS/IT', '2015', '83.6', '2017', '85.4', '0', '0', '2021', '74.44', 'Nagma Shaikh', 'placements@sandipuniversity.edu.in', '959552255/7720933822']\n",
      "['Neha Chavan', 'nehac3635@gmail.com', 'Sandip Institute of Technology and Research Centre, Nashik', 'Female', '9158693586', 'CS/IT', '2015', '79.6', '0', '0', '2018', '79', '2021', '59.67', 'Nagma Shaikh', 'placements@sandipuniversity.edu.in', '959552255/7720933822']\n",
      "['Aditi Upadhyay', 'uaditi21@gmail.com', 'Sandip Institute of Technology and Research Centre, Nashik', 'Female', '9420573638', 'CS/IT', '2015', '94.8', '2017', '74.62', '0', '0', '2021', '77', 'Nagma Shaikh', 'placements@sandipuniversity.edu.in', '959552255/7720933822']\n",
      "['Gauri Mandlik', 'gaurimandlik1999@gmail.com', 'Sandip Institute of Technology and Research Centre, Nashik', 'Female', '8208460234', 'CS/IT', '2015', '86.6', '2017', '64.62', '0', '0', '2021', '67.05', 'Nagma Shaikh', 'placements@sandipuniversity.edu.in', '959552255/7720933822']\n",
      "['Rahul Shewale', 'rahulrajendrashewale@gmail.com', 'Sandip Institute of Technology and Research Centre, Nashik', 'Male', '9823454153', 'CS/IT', '2015', '93', '2017', '77.38', '0', '0', '2021', '65.9', 'Nagma Shaikh', 'placements@sandipuniversity.edu.in', '959552255/7720933822']\n",
      "['Mahima Patel', 'mahima99patel@gmail.com', 'Sandip Institute of Technology and Research Centre, Nashik', 'Female', '8805655359', 'CS/IT', '2015', '83', '2017', '69', '0', '0', '2021', '59', 'Nagma Shaikh', 'placements@sandipuniversity.edu.in', '959552255/7720933822']\n",
      "['Nutan Pandey', 'nutanpandey742@gmail.com', 'Sandip Institute of Technology and Research Centre, Nashik', 'Female', '9890648827', 'CS/IT', '2014', '83', '2016', '72.77', '0', '0', '2021', '68.99', 'Nagma Shaikh', 'placements@sandipuniversity.edu.in', '959552255/7720933822']\n",
      "['Siddhant Jadhav', 'siddhantjadhav2000@gmail.com', 'Sandip Institute of Technology and Research Centre, Nashik', 'Male', '8554823731', 'CS/IT', '2015', '78', '2017', '70.15', '0', '0', '2021', '73.13', 'Nagma Shaikh', 'placements@sandipuniversity.edu.in', '959552255/7720933822']\n",
      "['Ganesh Shinde', 'ganeshmarathe01@gmail.com', 'Sandip Institute of Technology and Research Centre, Nashik', 'Male', '8888047066', 'CS/IT', '2015', '77.9', '0', '0', '2018', '76.5', '2021', '64.39', 'Nagma Shaikh', 'placements@sandipuniversity.edu.in', '959552255/7720933822']\n",
      "['Mansi Godse', 'mansigodse2000@gmail.com', 'Sandip Institute of Technology and Research Centre, Nashik', 'Female', '8788569003', 'CS/IT', '2015', '90.6', '2017', '63.69', '0', '0', '2021', '58.1', 'Nagma Shaikh', 'placements@sandipuniversity.edu.in', '959552255/7720933822']\n",
      "['Shivani Bhutada', 'shivanibhutada21@gmail.com', 'Sandip Institute of Technology and Research Centre, Nashik', 'Female', '7744069201', 'CS/IT', '2015', '87.2', '0', '0', '2018', '80.29', '2021', '69.96', 'Nagma Shaikh', 'placements@sandipuniversity.edu.in', '959552255/7720933822']\n",
      "['Charushila Bhadane', 'bhadanecharu7741@gmail.com', 'Sandip Institute of Technology and Research Centre, Nashik', 'Female', '9422788631', 'CS/IT', '2015', '81.4', '0', '0', '2018', '75.76', '2021', '60.39', 'Nagma Shaikh', 'placements@sandipuniversity.edu.in', '959552255/7720933822']\n",
      "['Nandini Sonawane', 'nandinigsonawane84@gmail.com', 'Sandip Institute of Technology and Research Centre, Nashik', 'Female', '9552409937', 'CS/IT', '2015', '86.4', '2017', '62.2', '0', '0', '2021', '60.17', 'Nagma Shaikh', 'placements@sandipuniversity.edu.in', '959552255/7720933822']\n",
      "['Sharmil Adroja', 'sharmiladroja17@gmail.com', 'Sandip Institute of Technology and Research Centre, Nashik', 'Male', '8805929891', 'CS/IT', '2015', '84.48', '2017', '74', '0', '0', '2021', '69.1', 'Nagma Shaikh', 'placements@sandipuniversity.edu.in', '959552255/7720933822']\n",
      "['Harshada Patel', 'harashada08@gmail.com', 'Sandip Institute of Technology and Research Centre, Nashik', 'Female', '8390556441', 'CS/IT', '2015', '91.8', '2017', '74.6', '0', '0', '2021', '73.62', 'Nagma Shaikh', 'placements@sandipuniversity.edu.in', '959552255/7720933822']\n",
      "['Sapana Medhane', 'sapanabmedhane@gmail.com', \"SNJB's College of Engineering, Nashik\", 'Female', '8329532783', 'CS/IT', '2015', '80.6', '0', '0', '2018', '78.56', '2021', '62', 'Pankaj Kapse', 'placementsnjb@gmail.com', '8149529587']\n",
      "['Pratik Manjare', 'pratikmanjarekar21@gmail.com', 'Pimpri Chinchwad College of Engineering and Research Ravet, Pune', 'Male', '8805388974', 'CS/IT', '2014', '76', '2016', '64', '0', '0', '2021', '68.11', 'Sonali Lunawat', 'sonali.lunawat@pccoer.in', '8087472177']\n",
      "['ISHA SAWANT', 'ishasawant6822@gmail.com', 'Pimpri Chinchwad College of Engineering and Research Ravet, Pune', 'Female', '7888047192', 'CS/IT', '2015', '91.06', '2017', '85.08', '0', '0', '2021', '73.87', 'Sonali Lunawat', 'sonali.lunawat@pccoer.in', '8087472177']\n",
      "['Gauri Basutkar', 'basutkargauri@gmail.com', 'Pimpri Chinchwad College of Engineering and Research Ravet, Pune', 'Female', '7066224588', 'CS/IT', '2015', '82', '0', '0', '2018', '85.63', '2021', '76.92', 'Sonali Lunawat', 'sonali.lunawat@pccoer.in', '8087472177']\n",
      "['SHUBHAM RAUT', 'shubhamraut5090.srsr@gmail.com', 'Pimpri Chinchwad College of Engineering and Research Ravet, Pune', 'Male', '7083405565', 'CS/IT', '2014', '76.6', '2016', '61', '0', '0', '2021', '64.7', 'Sonali Lunawat', 'sonali.lunawat@pccoer.in', '8087472177']\n",
      "['Akash Gangule', 'akashgangule18@gmail.com', 'Pimpri Chinchwad College of Engineering and Research Ravet, Pune', 'Male', '8149760954', 'CS/IT', '2015', '76', '2017', '65', '0', '0', '2021', '62.02', 'Sonali Lunawat', 'sonali.lunawat@pccoer.in', '8087472177']\n",
      "['Kalyani Patil', 'patil.n.kalyani@gmail.com', 'Pimpri Chinchwad College of Engineering and Research Ravet, Pune', 'Female', '9130091798', 'CS/IT', '2015', '76.8', '0', '0', '2018', '85.19', '2021', '72.68', 'Sonali Lunawat', 'sonali.lunawat@pccoer.in', '8087472177']\n",
      "['Akash Shinde', 'shindeakash1013@gmail.com', 'Pimpri Chinchwad College of Engineering and Research Ravet, Pune', 'Male', '9689880871', 'CS/IT', '2015', '91.6', '2017', '67', '0', '0', '2021', '76.38', 'Sonali Lunawat', 'sonali.lunawat@pccoer.in', '8087472177']\n",
      "['Sachin Patekar', 'sachinpatekar17@gmail.com', 'Pimpri Chinchwad College of Engineering and Research Ravet, Pune', 'Male', '7744036352', 'CS/IT', '2015', '88', '2017', '73.2', '0', '0', '2021', '78.23', 'Sonali Lunawat', 'sonali.lunawat@pccoer.in', '8087472177']\n",
      "['Dharmesh Chaudhari', 'cdharmesh1999@gmail.com', 'Pimpri Chinchwad College of Engineering and Research Ravet, Pune', 'Male', '9730770957', 'EnTC', '2015', '74.1', '2017', '74.2', '0', '0', '2021', '66.82', 'Sonali Lunawat', 'sonali.lunawat@pccoer.in', '8087472177']\n",
      "['Dnyaneshwari Jagtap', 'piyajagtap11@gmail.com', 'Pimpri Chinchwad College of Engineering and Research Ravet, Pune', 'Female', '8379988741', 'EnTC', '2014', '83.8', '0', '0', '2018', '87.8', '2021', '66', 'Sonali Lunawat', 'sonali.lunawat@pccoer.in', '8087472177']\n",
      "['Gunjan Sali', 'gunjan.sali5300@gmail.com', 'Pimpri Chinchwad College of Engineering and Research Ravet, Pune', 'Female', '7776026582', 'EnTC', '2015', '85.8', '0', '0', '2018', '80.35', '2021', '58.96', 'Sonali Lunawat', 'sonali.lunawat@pccoer.in', '8087472177']\n",
      "['Anshul Singh', 'anshulsingh1042440@gmail.com', 'Dr. D.Y. Patil Institute of Technology, Pimpri', 'Male', '9665147614', 'CS/IT', '2015', '91.2', '2017', '97.5', '0', '0', '2021', '80.08', 'Dheeraj Agrawal', 'dypiet.tpo@gmail.com', '8600219510']\n",
      "['Priya Mhamunkar', 'priyamhamunkaradi@gmail.com', 'Dr. D.Y. Patil Institute of Technology, Pimpri', 'Female', '9623379052', 'CS/IT', '2015', '96.2', '2017', '91', '0', '0', '2021', '84.48', 'Dheeraj Agrawal', 'dypiet.tpo@gmail.com', '8600219510']\n",
      "['Bishal Anand', 'anandbishal16@gmail.com', 'Dr. D.Y. Patil Institute of Technology, Pimpri', 'Male', '9304088188', 'CS/IT', '2015', '95', '2017', '69.52', '0', '0', '2021', '66.7', 'Dheeraj Agrawal', 'dypiet.tpo@gmail.com', '8600219510']\n",
      "['Sejal Jain', 'sejal_j@yahoo.com', 'Dr. D.Y. Patil Institute of Technology, Pimpri', 'Female', '7397861855', 'CS/IT', '2014', '95', '2016', '82.4', '0', '0', '2021', '71.5', 'Dheeraj Agrawal', 'dypiet.tpo@gmail.com', '8600219510']\n",
      "['Rohit Pillai', 'rohitpillai.100@gmail.com', 'Dr. D.Y. Patil Institute of Technology, Pimpri', 'Male', '8888619058', 'CS/IT', '2015', '94', '2017', '82.6', '0', '0', '2021', '68.73', 'Dheeraj Agrawal', 'dypiet.tpo@gmail.com', '8600219510']\n",
      "['Trilok Kumar', 'trilokk61@gmail.com', 'Dr. D.Y. Patil Institute of Technology, Pimpri', 'Male', '7219596397', 'CS/IT', '2015', '87.4', '2017', '66', '0', '0', '2021', '73.04', 'Dheeraj Agrawal', 'dypiet.tpo@gmail.com', '8600219510']\n",
      "['Rohit Rathore', 'rohitsinghrathore24@gmail.com', 'Dr. D.Y. Patil Institute of Technology, Pimpri', 'Male', '9765992742', 'CS/IT', '2015', '95', '2017', '91.6', '0', '0', '2021', '68.9', 'Dheeraj Agrawal', 'dypiet.tpo@gmail.com', '8600219510']\n",
      "['Shailesh Gore', 'goreshailesh98@gmail.com', 'Dr. D.Y. Patil Institute of Technology, Pimpri', 'Male', '7057401880', 'CS/IT', '2015', '84.2', '2017', '70.15', '0', '0', '2021', '60.54', 'Dheeraj Agrawal', 'dypiet.tpo@gmail.com', '8600219510']\n",
      "['Sara Nawghare', 'saranawghare@gmail.com', 'Dr. D.Y. Patil Institute of Technology, Pimpri', 'Female', '9767107882', 'CS/IT', '2015', '82.2', '2017', '67.7', '0', '0', '2021', '71.1', 'Dheeraj Agrawal', 'dypiet.tpo@gmail.com', '8600219510']\n",
      "['Vaishnavi Mahadik', 'mahadikvaishnavi1999@gmail.com', 'Dr. D.Y. Patil Institute of Technology, Pimpri', 'Female', '7218390253', 'CS/IT', '2015', '94.8', '2017', '87.69', '0', '0', '2021', '83.95', 'Dheeraj Agrawal', 'dypiet.tpo@gmail.com', '8600219510']\n",
      "['Varun Gyanchandani', 'varun.gyanchandani@gmail.com', 'Dr. D.Y. Patil Institute of Technology, Pimpri', 'Male', '7007679372', 'CS/IT', '2015', '77.9', '2017', '72.4', '0', '0', '2021', '72.6', 'Dheeraj Agrawal', 'dypiet.tpo@gmail.com', '8600219510']\n",
      "['Adarsh Kumar', 'akloachn143@gmail.com', 'Dr. D.Y. Patil Institute of Technology, Pimpri', 'Male', '9622025016', 'CS/IT', '2015', '84', '2017', '89', '0', '0', '2021', '62.48', 'Dheeraj Agrawal', 'dypiet.tpo@gmail.com', '8600219510']\n",
      "['Pratiksha Chouhan', 'pratikshachouhan902@gmail.com', 'Dr. D.Y. Patil Institute of Technology, Pimpri', 'Female', '9673988465', 'CS/IT', '2015', '82.3', '0', '0', '2018', '86.5', '2021', '62', 'Dheeraj Agrawal', 'dypiet.tpo@gmail.com', '8600219510']\n",
      "['Mahesh Rathod', 'maheshrathod1951999@gmail.com', 'Dr. D.Y. Patil Institute of Technology, Pimpri', 'Male', '7774808326', 'CS/IT', '2015', '89.4', '2017', '70', '0', '0', '2021', '74.45', 'Dheeraj Agrawal', 'dypiet.tpo@gmail.com', '8600219510']\n",
      "['Rutuja Ambhore', 'rutujambhore2112@gmail.com', 'Dr. D.Y. Patil Institute of Technology, Pimpri', 'Female', '7620506402', 'EnTC', '2015', '85', '2017', '66', '0', '0', '2021', '62.74', 'Dheeraj Agrawal', 'dypiet.tpo@gmail.com', '8600219510']\n",
      "['Syed Danish', 'syeddanishn21@gmail.com', 'Dr. D.Y. Patil Institute of Technology, Pimpri', 'Male', '7030917984', 'EnTC', '2014', '81.7', '2016', '67', '0', '0', '2021', '64.24', 'Dheeraj Agrawal', 'dypiet.tpo@gmail.com', '8600219510']\n",
      "['Shanu Mishra', 'shanu99mishra@gmail.com', 'Dr. D.Y. Patil Institute of Technology, Pimpri', 'Female', '9110903556', 'EnTC', '2014', '83', '2016', '66', '0', '0', '2021', '62.92', 'Dheeraj Agrawal', 'dypiet.tpo@gmail.com', '8600219510']\n",
      "['Amruta Nakod', 'amrutanakod@gmail.com', 'Dr. D.Y. Patil Institute of Technology, Pimpri', 'Female', '7397861097', 'EnTC', '2015', '80.8', '2017', '60', '0', '0', '2021', '60.81', 'Dheeraj Agrawal', 'dypiet.tpo@gmail.com', '8600219510']\n",
      "['Sumit Wagh', 'sumitwagh274@gmail.com', 'Dr. D.Y. Patil Institute of Technology, Pimpri', 'Male', '9607106548', 'EnTC', '2014', '80', '2016', '83', '0', '0', '2021', '58.96', 'Dheeraj Agrawal', 'dypiet.tpo@gmail.com', '8600219510']\n",
      "['Swapnil Tembhurnikar', 'swapniltembhurnikar26@gmail.com', 'Dr. D.Y. Patil Institute of Technology, Pimpri', 'Male', '9921514261', 'EnTC', '2015', '91.2', '2017', '73.69', '0', '0', '2021', '62.56', 'Dheeraj Agrawal', 'dypiet.tpo@gmail.com', '8600219510']\n",
      "['Shruti Chaudhari', 'shrutic279@gmail.com', 'Dr. D.Y. Patil Institute of Technology, Pimpri', 'Female', '9623268756', 'EnTC', '2015', '93.2', '0', '0', '2018', '77.47', '2021', '65.9', 'Dheeraj Agrawal', 'dypiet.tpo@gmail.com', '8600219510']\n",
      "['Prajakta Thombre', 'prajaktathombre3570@gmail.com', 'Dr. D.Y. Patil Institute of Technology, Pimpri', 'Female', '8482804112', 'EnTC', '2015', '89.2', '0', '0', '2018', '68.82', '2021', '57.9', 'Dheeraj Agrawal', 'dypiet.tpo@gmail.com', '8600219510']\n",
      "['Mohitrao Pathru', 'mohitraopathru123@gmail.com', 'Dr. D.Y. Patil Institute of Technology, Pimpri', 'Male', '9765188967', 'EnTC', '2014', '71.8', '2016', '66.46', '2018', '73.53', '2021', '59.31', 'Dheeraj Agrawal', 'dypiet.tpo@gmail.com', '8600219510']\n",
      "['Rishima Kumari', 'dubeyrishima@gmail.com', 'Dr. D.Y. Patil Institute of Technology, Pimpri', 'Female', '7028649243', 'EnTC', '2013', '78', '2015', '66.67', '0', '0', '2021', '62.21', 'Dheeraj Agrawal', 'dypiet.tpo@gmail.com', '8600219510']\n",
      "['Pooja Bhor', 'pbhor1607@gmail.com', 'Dr. D.Y. Patil Institute of Technology, Pimpri', 'Female', '9975498311', 'EnTC', '2014', '80.8', '2016', '60', '0', '0', '2021', '59.26', 'Dheeraj Agrawal', 'dypiet.tpo@gmail.com', '8600219510']\n",
      "['Rohit Pawar', 'pawarrohit20499@gmail.com', 'Keystone School of Engineering, Pune', 'Male', '9834611702', 'CS/IT', '2015', '86', '2017', '80.48', '0', '0', '2021', '68.97', 'Bharat Bhushan', 'bbsud1@gmail.com', '9822038944']\n",
      "['Sandip Gaikwad', 'sandipgaikwad1598@gmail.com', 'Keystone School of Engineering, Pune', 'Male', '8805774790', 'CS/IT', '2014', '73', '2016', '58', '0', '0', '2021', '56', 'Bharat Bhushan', 'bbsud1@gmail.com', '9822038944']\n",
      "['Deepak Patil', 'deepakpatil244201@gmail.com', 'Keystone School of Engineering, Pune', 'Male', '9766495577', 'CS/IT', '2015', '78.8', '2017', '67.09', '0', '0', '2021', '61.77', 'Bharat Bhushan', 'bbsud1@gmail.com', '9822038944']\n",
      "['Yash Garole', 'yash.garole99@gmail.com', 'Keystone School of Engineering, Pune', 'Male', '9922745160', 'CS/IT', '2015', '86.4', '2017', '67.38', '0', '0', '2021', '60.38', 'Bharat Bhushan', 'bbsud1@gmail.com', '9822038944']\n",
      "['Vinayak Navghane', 'vinayak.navghane12@gmail.com', 'Keystone School of Engineering, Pune', 'Male', '8411015091', 'CS/IT', '2014', '70', '0', '0', '2018', '63.08', '2021', '55', 'Bharat Bhushan', 'bbsud1@gmail.com', '9822038944']\n",
      "['Sunil Dhodmani', 'sunildhodmani143@gmail.com', 'Keystone School of Engineering, Pune', 'Male', '9552406671', 'CS/IT', '2015', '79.6', '2017', '56.54', '0', '0', '2021', '60', 'Bharat Bhushan', 'bbsud1@gmail.com', '9822038944']\n",
      "['Azaruddin Mujawar', 'azaruddinmujawar9898@gmail.com', 'Keystone School of Engineering, Pune', 'Male', '9637181392', 'CS/IT', '2014', '64.6', '0', '0', '2018', '76.76', '2021', '60', 'Bharat Bhushan', 'bbsud1@gmail.com', '9822038944']\n",
      "['SHREEYASH KARANDE', 'shriyash.karande6183@gmail.com', 'Keystone School of Engineering, Pune', 'Male', '8411888180', 'CS/IT', '2015', '64.99', '2017', '57', '0', '0', '2021', '57.81', 'Bharat Bhushan', 'bbsud1@gmail.com', '9822038944']\n",
      "['Abhishek Barde', 'abhibarade37@gmail.com', 'Keystone School of Engineering, Pune', 'Male', '9834793091', 'CS/IT', '2015', '77', '2017', '68', '0', '0', '2021', '60.89', 'Bharat Bhushan', 'bbsud1@gmail.com', '9822038944']\n",
      "['Tarini Chouhan', 'cktarini18@gmail.com', 'Keystone School of Engineering, Pune', 'Female', '9762639316', 'CS/IT', '2015', '80', '2017', '60', '0', '0', '2021', '69', 'Bharat Bhushan', 'bbsud1@gmail.com', '9822038944']\n",
      "['Sagar Ghadage', 'sdghadage96@gmail.com', 'Keystone School of Engineering, Pune', 'Male', '9096954575', 'CS/IT', '2015', '83', '2017', '70.46', '0', '0', '2021', '60', 'Bharat Bhushan', 'bbsud1@gmail.com', '9822038944']\n",
      "['Priyadarshan Ladkat', 'ladkatpriyadarshan@gmail.com', 'Keystone School of Engineering, Pune', 'Male', '7350022549', 'CS/IT', '2013', '60', '0', '0', '2018', '67.75', '2021', '65', 'Bharat Bhushan', 'bbsud1@gmail.com', '9822038944']\n",
      "['Kirti Swami', 'kirtiswami27@gmail.com', 'Keystone School of Engineering, Pune', 'Female', '8830254789', 'CS/IT', '2015', '80.2', '2017', '60', '0', '0', '2021', '70', 'Bharat Bhushan', 'bbsud1@gmail.com', '9822038944']\n",
      "['Jay Dhamale', 'jaydhamale3@gmail.com', 'Keystone School of Engineering, Pune', 'Male', '9561733322', 'CS/IT', '2015', '66', '2017', '73', '0', '0', '2021', '68', 'Bharat Bhushan', 'bbsud1@gmail.com', '9822038944']\n",
      "['HARSHADA NANAWARE', 'harshadananaware266@gmail.com', 'Keystone School of Engineering, Pune', 'Female', '9823068153', 'CS/IT', '2015', '81.65', '2017', '60.3', '0', '0', '2021', '60.65', 'Bharat Bhushan', 'bbsud1@gmail.com', '9822038944']\n",
      "['Aaquib Shaikh', 'aaquibshaikh8833@gmail.com', 'Trinity College of Engineering and Research, Pune', 'Male', '8390948846', 'CS/IT', '2014', '69', '0', '0', '2018', '66', '2021', '62', 'Anil S. Agrawal', 'asagrawal@yahoo.com', '9422287243']\n",
      "['Sohel Shaikh', 'ssohel110@gmail.com', 'Trinity Academy of Engineering, Pune', 'Male', '8149484430', 'CS/IT', '2014', '56.8', '2016', '53.08', '2018', '82.56', '2021', '65.82', 'Anil S. Agrawal', 'asagrawal@yahoo.com', '9422287243']\n",
      "['Rohan Bhapkar', 'rohanbhapkar99@gmail.com', 'K. J. College of Engineering and Management Research, Pune', 'Male', '9172023373', 'CS/IT', '2014', '87.2', '2016', '62.07', '0', '0', '2021', '62.2', 'Anil S. Agrawal', 'asagrawal@yahoo.com', '9422287243']\n",
      "['Omkar Zende', 'omkarzende897@gmail.com', 'Trinity College of Engineering and Research, Pune', 'Male', '7058888766', 'CS/IT', '2012', '76', '0', '0', '2015', '67', '2021', '65', 'Anil S. Agrawal', 'asagrawal@yahoo.com', '9422287243']\n",
      "['Shahid Khan', 'shahidk0028@gmail.com', 'Trinity Academy of Engineering, Pune', 'Male', '8793390790', 'CS/IT', '2015', '91.8', '2017', '78.9', '0', '0', '2021', '73.3', 'Anil S. Agrawal', 'asagrawal@yahoo.com', '9422287243']\n",
      "['Prashant Shinde', 'prashantshindeaz3@gmail.com', 'K. J. College of Engineering and Management Research, Pune', 'Male', '7038936797', 'CS/IT', '2015', '77.6', '2017', '69.6', '0', '0', '2021', '56.5', 'Anil S. Agrawal', 'asagrawal@yahoo.com', '9422287243']\n",
      "['Chetna Jeena', 'chetujeena@gmail.com', 'Trinity College of Engineering and Research, Pune', 'Female', '7773982680', 'CS/IT', '2014', '75', '2016', '60', '0', '0', '2021', '61', 'Anil S. Agrawal', 'asagrawal@yahoo.com', '9422287243']\n",
      "['Shraddha Sonawane', 'shraddhasonawane1099@gmail.com', 'Trinity College of Engineering and Research, Pune', 'Female', '7447228193', 'CS/IT', '2015', '85.8', '2017', '76.66', '0', '0', '2021', '61', 'Anil S. Agrawal', 'asagrawal@yahoo.com', '9422287243']\n",
      "['Tejal Raskar', 'tejal.raskar123@gmail.com', 'Trinity College of Engineering and Research, Pune', 'Female', '9527135114', 'CS/IT', '2014', '72.8', '2016', '60', '0', '0', '2021', '61', 'Anil S. Agrawal', 'asagrawal@yahoo.com', '9422287243']\n",
      "['Ravindra Vasave', 'ravindravasave71@gmail.com', 'Trinity Academy of Engineering, Pune', 'Male', '7385747624', 'CS/IT', '2014', '78.75', '2016', '58.95', '0', '0', '2021', '67', 'Anil S. Agrawal', 'asagrawal@yahoo.com', '9422287243']\n",
      "['Pranav Kavishwar', 'pranavgk99@gmail.com', 'Dr. D.Y. Patil Institute of Engineering, Management and Research, Akurdi, Pune', 'Male', '9975208623', 'CS/IT', '2015', '92.4', '2017', '72.92', '0', '0', '2021', '59', 'Heeresh Khatri', 'tpo@dypcoeakurdi.ac.in', '9923963332']\n",
      "['Om Kale', 'kaleom410@gmail.com', 'Dr. D.Y. Patil Institute of Engineering, Management and Research, Akurdi, Pune', 'Male', '7249215813', 'CS/IT', '2015', '91', '2017', '76', '0', '0', '2021', '64', 'Heeresh Khatri', 'tpo@dypcoeakurdi.ac.in', '9923963332']\n",
      "['Vanshica Koul', 'koulvanshica@gmail.com', 'D.Y. Patil College of Engineering, Akurdi, Pune', 'Female', '7028430035', 'CS/IT', '2015', '91.2', '2017', '81.6', '0', '0', '2021', '76.99', 'Heeresh Khatri', 'tpo@dypcoeakurdi.ac.in', '9923963332']\n",
      "['Vishakha Nikumbh', 'vishakhanikumbh730@gmail.com', 'D.Y. Patil College of Engineering, Akurdi, Pune', 'Female', '7219559448', 'CS/IT', '2015', '94.4', '2017', '75.85', '0', '0', '2021', '71.34', 'Heeresh Khatri', 'tpo@dypcoeakurdi.ac.in', '9923963332']\n",
      "['Saifulla Ansari', 'ansarisaifulla7@gmail.com', 'Dr. D.Y. Patil Institute of Engineering, Management and Research, Akurdi, Pune', 'Male', '8983533142', 'CS/IT', '2015', '86.2', '2017', '85.54', '0', '0', '2021', '76', 'Heeresh Khatri', 'tpo@dypcoeakurdi.ac.in', '9923963332']\n",
      "['Aditi Singh', 'divaaadi@gmail.com', 'D.Y. Patil College of Engineering, Akurdi, Pune', 'Female', '9619449242', 'CS/IT', '2015', '80', '2017', '70', '0', '0', '2021', '63.36', 'Heeresh Khatri', 'tpo@dypcoeakurdi.ac.in', '9923963332']\n",
      "['Vaishnavi Rahane', 'vaishnavi.04rahane@gmail.com', 'D.Y. Patil College of Engineering, Akurdi, Pune', 'Female', '7387519141', 'CS/IT', '2015', '93', '2017', '77.08', '0', '0', '2021', '68.97', 'Heeresh Khatri', 'tpo@dypcoeakurdi.ac.in', '9923963332']\n",
      "['Deeba Shahab', 'deebashahab0817@gmail.com', 'Dr. D.Y. Patil Institute of Engineering, Management and Research, Akurdi, Pune', 'Female', '7743986371', 'CS/IT', '2015', '94', '2017', '88', '0', '0', '2021', '76.4', 'Heeresh Khatri', 'tpo@dypcoeakurdi.ac.in', '9923963332']\n",
      "['MANJEET SINGH', 'manje6641@gmail.com', 'D.Y. Patil College of Engineering, Akurdi, Pune', 'Male', '7014018029', 'CS/IT', '2014', '89.6', '2016', '73.6', '0', '0', '2021', '78.21', 'Heeresh Khatri', 'tpo@dypcoeakurdi.ac.in', '9923963332']\n",
      "['SAURABH PAWAR', 'saurabhpawar.sp1000@gmail.com', 'Dr. D.Y. Patil Institute of Engineering, Management and Research, Akurdi, Pune', 'Male', '7038866790', 'CS/IT', '2015', '96.4', '2017', '74.76', '0', '0', '2021', '70.62', 'Heeresh Khatri', 'tpo@dypcoeakurdi.ac.in', '9923963332']\n",
      "['Shubham Aher', 'aher.shubham11@gmail.com', 'D.Y. Patil College of Engineering, Akurdi, Pune', 'Male', '7387263929', 'CS/IT', '2015', '87.8', '2017', '62.78', '0', '0', '2021', '66.8', 'Heeresh Khatri', 'tpo@dypcoeakurdi.ac.in', '9923963332']\n",
      "['Divya Sukhiya', 'divyasukhiya@gmail.com', 'Dr. D.Y. Patil Institute of Engineering, Management and Research, Akurdi, Pune', 'Female', '7447757078', 'CS/IT', '2015', '89', '2017', '78.93', '0', '0', '2021', '64', 'Heeresh Khatri', 'tpo@dypcoeakurdi.ac.in', '9923963332']\n",
      "['Kedar Kshatriya', 'kshatriyakedar@gmail.com', 'Dr. D.Y. Patil Institute of Engineering, Management and Research, Akurdi, Pune', 'Male', '9890408102', 'CS/IT', '2015', '87', '2017', '79', '0', '0', '2021', '75.68', 'Heeresh Khatri', 'tpo@dypcoeakurdi.ac.in', '9923963332']\n",
      "['Kushagra Garg', 'kushgarg415@gmail.com', 'D.Y. Patil College of Engineering, Akurdi, Pune', 'Male', '9762674775', 'EnTC', '2014', '87.67', '2016', '79.6', '0', '0', '2021', '68', 'Heeresh Khatri', 'tpo@dypcoeakurdi.ac.in', '9923963332']\n",
      "['Rohit Mali', 'rohitmali72667@gmail.com', 'Dr. D.Y. Patil Institute of Engineering, Management and Research, Akurdi, Pune', 'Male', '9834277453', 'EnTC', '2015', '89', '2017', '73.21', '0', '0', '2021', '68', 'Heeresh Khatri', 'tpo@dypcoeakurdi.ac.in', '9923963332']\n",
      "['Keshav Kumar', 'keshavkrishnamurti33@gmail.com', 'D.Y. Patil College of Engineering, Akurdi, Pune', 'Male', '9534325043', 'EnTC', '2015', '91.2', '2017', '81.8', '0', '0', '2021', '85.7', 'Heeresh Khatri', 'tpo@dypcoeakurdi.ac.in', '9923963332']\n",
      "['Dibyanshu Sharma', 'dibyanshusharma16@gmail.com', 'D.Y. Patil College of Engineering, Akurdi, Pune', 'Male', '7979858941', 'EnTC', '2015', '79.6', '2017', '76.45', '0', '0', '2021', '76.46', 'Heeresh Khatri', 'tpo@dypcoeakurdi.ac.in', '9923963332']\n",
      "['Toleshwari Deotale', 'toleshwari.deotale@gmail.com', 'D.Y. Patil College of Engineering, Akurdi, Pune', 'Female', '9518724481', 'EnTC', '2015', '92', '2017', '75', '0', '0', '2021', '69.87', 'Heeresh Khatri', 'tpo@dypcoeakurdi.ac.in', '9923963332']\n",
      "['YOGESH DESHMUKH', 'princeyvd3286@gmail.com', 'D.Y. Patil College of Engineering, Akurdi, Pune', 'Male', '8793067650', 'EnTC', '2014', '91.6', '2016', '70', '0', '0', '2021', '73', 'Heeresh Khatri', 'tpo@dypcoeakurdi.ac.in', '9923963332']\n",
      "['Sanket Kale', 'kalesanket99@gmail.com', 'Dr. D.Y. Patil Institute of Engineering, Management and Research, Akurdi, Pune', 'Male', '7720060699', 'EnTC', '2015', '93.8', '2017', '93.59', '0', '0', '2021', '65', 'Heeresh Khatri', 'tpo@dypcoeakurdi.ac.in', '9923963332']\n",
      "['CHETAN NIRADWAR', 'chetanniradwar@gmail.com', 'D.Y. Patil College of Engineering, Akurdi, Pune', 'Male', '9834257524', 'EnTC', '2015', '91.6', '2017', '82.3', '0', '0', '2021', '83.58', 'Heeresh Khatri', 'tpo@dypcoeakurdi.ac.in', '9923963332']\n",
      "['RISHIKA SHARMA', 'rishikasharma082@gmail.com', \"Bharati Vidyapeeth's College of Engineering for Women, Dhankawadi, Pune\", 'Female', '8279427349', 'CS/IT', '2015', '85.5', '2017', '79.8', '0', '0', '2021', '70.84', 'Prof. Kale Pranoti', 'kpranoti2005@yahoo.com', '9890164361']\n",
      "['Harshada Panhalkar', 'harsha14j99@gmail.com', \"Bharati Vidyapeeth's College of Engineering for Women, Dhankawadi, Pune\", 'Female', '8237676893', 'CS/IT', '2015', '87.87', '2017', '66.92', '0', '0', '2021', '60.78', 'Prof. Kale Pranoti', 'kpranoti2005@yahoo.com', '9890164361']\n",
      "['Aditi Raina', 'aditi.raina.968@gmail.com', \"Bharati Vidyapeeth's College of Engineering for Women, Dhankawadi, Pune\", 'Female', '9682547623', 'CS/IT', '2015', '96', '2017', '67', '0', '0', '2021', '71.72', 'Prof. Kale Pranoti', 'kpranoti2005@yahoo.com', '9890164361']\n",
      "['Ritika Andhare', 'ritikaandhare@gmail.com', \"Bharati Vidyapeeth's College of Engineering for Women, Dhankawadi, Pune\", 'Female', '8668319264', 'CS/IT', '2015', '85', '2017', '83', '0', '0', '2021', '64', 'Prof. Kale Pranoti', 'kpranoti2005@yahoo.com', '9890164361']\n",
      "['Omkar Mahajan', 'omkarmahajan987@gmail.com', \"Bharati Vidyapeeth's College Of Engineering Lavale, Pune\", 'Male', '8149221441', 'CS/IT', '2013', '76.2', '2015', '63.69', '0', '0', '2020', '60', 'Ajay Katkar', 'ajayakatkar@gmail.com', '9920699090 / 9226337736']\n",
      "['Swapnil Shreerame', 'swapnilshreerame@gmail.com', \"Bharati Vidyapeeth's College Of Engineering Lavale, Pune\", 'Male', '9309875623', 'CS/IT', '2015', '91', '2017', '70', '0', '0', '2021', '58.82', 'Ajay Katkar', 'ajayakatkar@gmail.com', '9920699090 / 9226337736']\n",
      "['Ashlesha Gharge', 'ashleshagharge149@gmail.com', \"Bharati Vidyapeeth's College Of Engineering Lavale, Pune\", 'Female', '7218646558', 'CS/IT', '2015', '87.6', '0', '0', '2018', '78', '2021', '57.3', 'Ajay Katkar', 'ajayakatkar@gmail.com', '9920699090 / 9226337736']\n",
      "['Rohansh Yaldandi', 'rohanshyaldandi@gmail.com', \"Bharati Vidyapeeth's College Of Engineering Lavale, Pune\", 'Male', '9112012069', 'CS/IT', '2015', '69.7', '0', '0', '2018', '72.29', '2021', '60', 'Ajay Katkar', 'ajayakatkar@gmail.com', '9920699090 / 9226337736']\n",
      "['Bhushan Wani', 'falgunewani@gmail.com', \"Bharati Vidyapeeth's College Of Engineering Lavale, Pune\", 'Male', '7709745004', 'CS/IT', '2015', '90.2', '2017', '72.6', '0', '0', '2021', '58.6', 'Ajay Katkar', 'ajayakatkar@gmail.com', '9920699090 / 9226337736']\n",
      "['Tushar Gouda', 'goudatushar78@gmail.com', \"Bharati Vidyapeeth's College Of Engineering Lavale, Pune\", 'Male', '9106991366', 'CS/IT', '2014', '80.5', '2016', '69', '0', '0', '2021', '65', 'Ajay Katkar', 'ajayakatkar@gmail.com', '9920699090 / 9226337736']\n",
      "['Yashraj Tandon', 'yashrajtandon7@gmail.com', 'Bharati Vidyapeeth, Katraj, Pune', 'Male', '7007215585', 'CS/IT', '2014', '74', '2016', '64.5', '0', '0', '2021', '67.9', 'Prof. Nachiket Kulkarni', 'tpo@bvucoep.edu.in', '7558630861']\n",
      "['Sarthak Raj', 'sarthak.hts@gmail.com', 'Bharati Vidyapeeth, Katraj, Pune', 'Male', '8896076817', 'CS/IT', '2015', '82', '2017', '80.02', '0', '0', '2021', '82.7', 'Prof. Nachiket Kulkarni', 'tpo@bvucoep.edu.in', '7558630861']\n",
      "['Tripti Anand', 'triptianand83@gmail.com', 'Bharati Vidyapeeth, Katraj, Pune', 'Female', '7060084230', 'CS/IT', '2015', '72', '2017', '67', '0', '0', '2021', '70.2', 'Prof. Nachiket Kulkarni', 'tpo@bvucoep.edu.in', '7558630861']\n",
      "['Aditi Kansal', 'aditikansal123@gmail.com', 'Bharati Vidyapeeth, Katraj, Pune', 'Female', '9673448495', 'CS/IT', '2011', '73.06', '0', '0', 'Computer science', '0', '2021', '66', 'Prof. Nachiket Kulkarni', 'tpo@bvucoep.edu.in', '7558630861']\n",
      "['Mritunjay Kumar', 'mritunjay50299@gmail.com', 'Bharati Vidyapeeth, Katraj, Pune', 'Male', '8208816825', 'CS/IT', '2013', '72', '2016', '74', '0', '0', '2021', '68.2', 'Prof. Nachiket Kulkarni', 'tpo@bvucoep.edu.in', '7558630861']\n",
      "['Nehil Jain', 'nehiljain1805@gmail.com', 'Bharati Vidyapeeth, Katraj, Pune', 'Male', '9413056275', 'CS/IT', '2014', '78', '2017', '55', '0', '0', '2021', '66', 'Prof. Nachiket Kulkarni', 'tpo@bvucoep.edu.in', '7558630861']\n",
      "['Akhil Aditya', 'akhil.aditya.90@gmail.com', 'Bharati Vidyapeeth, Katraj, Pune', 'Male', '8102661438', 'CS/IT', '2013', '69', '2016', '69', '0', '0', '2021', '71', 'Prof. Nachiket Kulkarni', 'tpo@bvucoep.edu.in', '7558630861']\n",
      "['SamarthRajSingh Chouhan', 'samarthrajsinghchouhan@gmail.com', 'Bharati Vidyapeeth, Katraj, Pune', 'Male', '7772857700', 'CS/IT', '2014', '79.8', '2016', '81', '0', '0', '2021', '79.5', 'Prof. Nachiket Kulkarni', 'tpo@bvucoep.edu.in', '7558630861']\n",
      "['Dhananjay Batra', 'mithoo439@rediffmail.com', 'Bharati Vidyapeeth, Katraj, Pune', 'Male', '9657366379', 'CS/IT', '2015', '95', '2017', '85.6', '0', '0', '2021', '82', 'Prof. Nachiket Kulkarni', 'tpo@bvucoep.edu.in', '7558630861']\n",
      "['Saksham Agrawal', 'sakshamag550@gmail.com', 'Bharati Vidyapeeth, Katraj, Pune', 'Male', '9199008377', 'CS/IT', '2014', '85.5', '2016', '62.4', '0', '0', '2021', '71.5', 'Prof. Nachiket Kulkarni', 'tpo@bvucoep.edu.in', '7558630861']\n",
      "['Ashutosh Srivastava', 'ashutosh141016@gmail.com', 'Bharati Vidyapeeth, Katraj, Pune', 'Male', '8853429737', 'CS/IT', '2014', '80.2', '2016', '82.3', '0', '0', '2019', '63.3', 'Prof. Nachiket Kulkarni', 'tpo@bvucoep.edu.in', '7558630861']\n",
      "['Shivani Mishra', 'mishrashivani2301@gmail.com', 'Bharati Vidyapeeth, Katraj, Pune', 'Female', '8839486236', 'CS/IT', '2015', '83.9', '2017', '64.07', '0', '0', '2021', '74', 'Prof. Nachiket Kulkarni', 'tpo@bvucoep.edu.in', '7558630861']\n",
      "['Siddhi Khanna', 'siddhirocks2012@gmail.com', 'Bharati Vidyapeeth, Katraj, Pune', 'Female', '8179858793', 'CS/IT', '2015', '70', '2017', '65', '0', '0', '2021', '65', 'Prof. Nachiket Kulkarni', 'tpo@bvucoep.edu.in', '7558630861']\n",
      "['Shashank Tripathi', 'shashanktripathi99@outlook.com', 'Bharati Vidyapeeth, Katraj, Pune', 'Male', '8788062819', 'EnTC', '2014', '89', '2016', '85', '0', '0', '2021', '80', 'Prof. Nachiket Kulkarni', 'tpo@bvucoep.edu.in', '7558630861']\n",
      "['Anshuman Bhadauria', 'anshumanbhadauria2908@gmail.com', 'Bharati Vidyapeeth, Katraj, Pune', 'Male', '9453586694', 'EnTC', '2014', '85.2', '2016', '90.8', '0', '0', '2021', '70.4', 'Prof. Nachiket Kulkarni', 'tpo@bvucoep.edu.in', '7558630861']\n",
      "['Kuldeep Mahto', 'kuldeepmpop@gmail.com', 'Bharati Vidyapeeth, Katraj, Pune', 'Male', '8007228369', 'EnTC', '2014', '95', '2016', '89.4', '0', '0', '2021', '80', 'Prof. Nachiket Kulkarni', 'tpo@bvucoep.edu.in', '7558630861']\n",
      "['Yash Kumar', 'yash.kumar45@yahoo.com', 'Bharati Vidyapeeth, Katraj, Pune', 'Male', '9067188684', 'EnTC', '2014', '95', '2016', '85.8', '0', '0', '2021', '78.4', 'Prof. Nachiket Kulkarni', 'tpo@bvucoep.edu.in', '7558630861']\n",
      "['Varij Shukla', 'varij.12vj@gmail.com', 'Bharati Vidyapeeth, Katraj, Pune', 'Male', '8574614542', 'EnTC', '2014', '80', '2016', '88', '0', '0', '2021', '87', 'Prof. Nachiket Kulkarni', 'tpo@bvucoep.edu.in', '7558630861']\n",
      "['Divyansh Singh', 'ddivyanshsingh@gmail.com', 'Bharati Vidyapeeth, Katraj, Pune', 'Male', '7860092065', 'EnTC', '2015', '71', '2017', '73', '0', '0', '2021', '68.32', 'Prof. Nachiket Kulkarni', 'tpo@bvucoep.edu.in', '7558630861']\n",
      "['SURABHI JAIN', 'surabhijain1110@gmail.com', 'Bharati Vidyapeeth, Katraj, Pune', 'Female', '9131920767', 'EnTC', '2015', '83', '2017', '86.7', '0', '0', '2021', '78', 'Prof. Nachiket Kulkarni', 'tpo@bvucoep.edu.in', '7558630861']\n",
      "['Chaitanya Kewadkar', 'chaitanyakewadkar11@gmail.com', 'Zeal College of Engineering and Research, Pune', 'Male', '9511891668', 'CS/IT', '2015', '92', '2017', '83.85', '0', '0', '2021', '70.84', 'Prof.Viraj Barge', 'placement.dcoer@zealeducation.com', '-9763108251']\n",
      "['Neha Karadkar', 'nehakaradkar2000@gmail.com', 'Zeal College of Engineering and Research, Pune', 'Female', '7030994920', 'CS/IT', '2015', '89.4', '2017', '62.92', '0', '0', '2021', '66.44', 'Prof.Viraj Barge', 'placement.dcoer@zealeducation.com', '-9763108251']\n",
      "['Vaishnavi Shinde', 'vaishnavi.shinde4188@gmail.com', 'Zeal College of Engineering and Research, Pune', 'Female', '9702734188', 'CS/IT', '2015', '92.6', '2017', '72.62', '0', '0', '2021', '67.58', 'Prof.Viraj Barge', 'placement.dcoer@zealeducation.com', '-9763108251']\n",
      "['Abhay Patil', 'abhayspatil1998@gmail.com', 'Zeal College of Engineering and Research, Pune', 'Male', '7620613205', 'CS/IT', '2014', '91.8', '2016', '75.08', '0', '0', '2021', '63', 'Prof.Viraj Barge', 'placement.dcoer@zealeducation.com', '-9763108251']\n",
      "['Shivangi Singh', 'shivangi1701singh@gmail.com', 'Zeal College of Engineering and Research, Pune', 'Female', '9067658146', 'CS/IT', '2015', '85.5', '2017', '75.6', '0', '0', '2021', '74.18', 'Prof.Viraj Barge', 'placement.dcoer@zealeducation.com', '-9763108251']\n",
      "['Rutik Ursal', 'rutikursal10@gmail.com', 'Zeal College of Engineering and Research, Pune', 'Male', '8329699613', 'CS/IT', '2015', '87.6', '2017', '66.77', '0', '0', '2021', '73.04', 'Prof.Viraj Barge', 'placement.dcoer@zealeducation.com', '-9763108251']\n",
      "['Adarsh Dubey', 'adarshdubey03021999@gmail.com', 'Zeal College of Engineering and Research, Pune', 'Male', '7984524591', 'CS/IT', '2015', '79.16', '2017', '71.06', '0', '0', '2021', '74.53', 'Prof.Viraj Barge', 'placement.dcoer@zealeducation.com', '-9763108251']\n",
      "['Swapnil Bansude', 'swapbansude26@gmail.com', 'Zeal College of Engineering and Research, Pune', 'Male', '9049266058', 'CS/IT', '2015', '92.4', '2017', '73.54', '0', '0', '2021', '73.74', 'Prof.Viraj Barge', 'placement.dcoer@zealeducation.com', '-9763108251']\n",
      "['Sanyukta Gogawale', 'sanyuktagogawale1999@gmail.com', 'Zeal College of Engineering and Research, Pune', 'Female', '8983829917', 'CS/IT', '2015', '92.2', '2017', '70', '0', '0', '2021', '64.5', 'Prof.Viraj Barge', 'placement.dcoer@zealeducation.com', '-9763108251']\n",
      "['Gouri Ghanwat', 'gghanwat1999@gmail.com', 'Zeal College of Engineering and Research, Pune', 'Female', '9373673309', 'CS/IT', '2015', '92.4', '0', '0', '2018', '83.81', '2020', '66', 'Prof.Viraj Barge', 'placement.dcoer@zealeducation.com', '-9763108251']\n",
      "['Devendra Ghadge', 'devenghadge13@gmail.com', 'Zeal College of Engineering and Research, Pune', 'Male', '8412807007', 'CS/IT', '2015', '79.2', '0', '0', '2018', '78.38', '2021', '62.13', 'Prof.Viraj Barge', 'placement.dcoer@zealeducation.com', '-9763108251']\n",
      "['Roshani Chandak', 'roshanichandak196@gmail.com', 'Rajiv Gandhi College of Engineering and Research, Nagpur', 'Female', '9511869510', 'CS/IT', '2015', '77', '2017', '69', '0', '0', '2021', '61.75', 'Mr Jaykar', 'rgcertpo@gmail.com', '9975775632']\n",
      "['Vaibhav Didmise', 'vaibhavdidmise1799sd@gmail.com', 'Rajiv Gandhi College of Engineering and Research, Nagpur', 'Male', '7972434378', 'CS/IT', '2015', '80', '2017', '62', '0', '0', '2021', '61', 'Mr Jaykar', 'rgcertpo@gmail.com', '9975775632']\n",
      "['Sakshi Shegokar', 'sakshijshegokar@gmail.com', 'Rajiv Gandhi College of Engineering and Research, Nagpur', 'Female', '7378620163', 'CS/IT', '2015', '85.5', '2017', '76.15', '0', '0', '2021', '64.45', 'Mr Jaykar', 'rgcertpo@gmail.com', '9975775632']\n",
      "['Tanmay Walke', 'tanmaywalke301@gmail.com', 'Rajiv Gandhi College of Engineering and Research, Nagpur', 'Male', '7020751783', 'CS/IT', '2014', '80.4', '2017', '64.31', '0', '0', '2021', '66.06', 'Mr Jaykar', 'rgcertpo@gmail.com', '9975775632']\n",
      "['Rasika Ghonge', 'ghongerasika007@gmail.com', 'Rajiv Gandhi College of Engineering and Research, Nagpur', 'Female', '7507290808', 'CS/IT', '2015', '91.4', '0', '0', '2017', '83.69', '2021', '71.38', 'Mr Jaykar', 'rgcertpo@gmail.com', '9975775632']\n",
      "['Arpit Menghre', 'menghre15@gmail.com', 'Rajiv Gandhi College of Engineering and Research, Nagpur', 'Male', '9145307453', 'CS/IT', '2015', '79', '2017', '76', '0', '0', '2021', '63', 'Mr Jaykar', 'rgcertpo@gmail.com', '9975775632']\n",
      "['Jayashri Zilpe', 'jayashrizilpe300@gmail.com', 'Rajiv Gandhi College of Engineering and Research, Nagpur', 'Female', '7218677323', 'CS/IT', '2015', '88.16', '2017', '73.69', '0', '0', '2021', '74.29', 'Mr Jaykar', 'rgcertpo@gmail.com', '9975775632']\n",
      "['Sakshi Gulhane', 'sakshigulhane22@gmail.com', 'Rajiv Gandhi College of Engineering and Research, Nagpur', 'Female', '7218975235', 'CS/IT', '2015', '75.6', '2017', '60.31', '0', '0', '2021', '62.5', 'Mr Jaykar', 'rgcertpo@gmail.com', '9975775632']\n",
      "['Neha Dahare', 'nehadahare1@gmail.com', 'Rajiv Gandhi College of Engineering and Research, Nagpur', 'Female', '7588764678', 'CS/IT', '2015', '84.6', '2017', '61', '0', '0', '2021', '65.32', 'Mr Jaykar', 'rgcertpo@gmail.com', '9975775632']\n",
      "['Vaishnobi Gogoi', 'vaishnobi.70@gmail.com', 'Cummins College of Engineering for Women, Nagpur', 'Female', '7086439719', 'CS/IT', '2014', '90', '2016', '83.4', '0', '0', '2021', '80.4', 'Mr Manish Raut', 'manish.raut@cumminscollege.edu.in', '8411915585']\n",
      "['Ashwini Kapgate', 'ashwinikapgate145@gmail.com', 'Cummins College of Engineering for Women, Nagpur', 'Female', '9623347414', 'CS/IT', '2015', '77', '2017', '65.23', '0', '0', '2021', '70.72', 'Mr Manish Raut', 'manish.raut@cumminscollege.edu.in', '8411915585']\n",
      "['Raksha Singhal', 'raksha.singhal230398@gmail.com', 'Cummins College of Engineering for Women, Nagpur', 'Female', '7972307788', 'CS/IT', '2015', '83.2', '2017', '61.08', '0', '0', '2021', '63.87', 'Mr Manish Raut', 'manish.raut@cumminscollege.edu.in', '8411915585']\n",
      "['Nandini Menjoge', 'nsmenjoge522@gmail.com', 'Cummins College of Engineering for Women, Nagpur', 'Female', '7249434844', 'CS/IT', '2015', '93.4', '2017', '80.5', '0', '0', '2021', '78.9', 'Mr Manish Raut', 'manish.raut@cumminscollege.edu.in', '8411915585']\n",
      "['Prajakta Bhakare', 'prajakta.bhakare1998@gmail.com', 'Cummins College of Engineering for Women, Nagpur', 'Female', '9284232173', 'CS/IT', '2015', '76.8', '2017', '61.69', '0', '0', '2021', '60.69', 'Mr Manish Raut', 'manish.raut@cumminscollege.edu.in', '8411915585']\n",
      "['Sakshi Ubhal', 'sakshii.ubhal@gmail.com', 'Cummins College of Engineering for Women, Nagpur', 'Female', '9130971067', 'CS/IT', '2015', '72.04', '2017', '64.94', '0', '0', '2021', '63', 'Mr Manish Raut', 'manish.raut@cumminscollege.edu.in', '8411915585']\n",
      "['Navdeep Ajmani', 'navdeepajmani1@gmail.com', 'Chameli Devi Group of Institutions, Indore', 'Male', '9340303314', 'CS/IT', '2015', '68.4', '2017', '70.2', '0', '0', '2021', '70', 'Aishwary Mendke', 'aishwary.mendke@cdgi.edu.in', '7879833468']\n",
      "['Sarang Pal', 'saranng@gmail.com', 'Chameli Devi Group of Institutions, Indore', 'Male', '9993171180', 'CS/IT', '2015', '89.3', '2017', '74.8', '0', '0', '2021', '79', 'Aishwary Mendke', 'aishwary.mendke@cdgi.edu.in', '7879833468']\n",
      "['Himanshu Mishra', 'hm39076@gmail.com', 'Chameli Devi Group of Institutions, Indore', 'Male', '7354091988', 'CS/IT', '2015', '75.83', '2017', '73.88', '0', '0', '2021', '79.8', 'Aishwary Mendke', 'aishwary.mendke@cdgi.edu.in', '7879833468']\n",
      "['Bhumika Tikyani', 'bhumikatikyani109@gmail.com', 'Chameli Devi Group of Institutions, Indore', 'Female', '9669823773', 'CS/IT', '2015', '72.2', '2017', '67.8', '0', '0', '2021', '77.4', 'Aishwary Mendke', 'aishwary.mendke@cdgi.edu.in', '7879833468']\n",
      "['Rohit Agrawal', 'arohit362@gmail.com', 'Chameli Devi Group of Institutions, Indore', 'Male', '9752294671', 'CS/IT', '2015', '62.4', '2017', '62', '0', '0', '2021', '75', 'Aishwary Mendke', 'aishwary.mendke@cdgi.edu.in', '7879833468']\n",
      "['Anirudh Sadh', 'anirudhsadh179@gmail.com', 'Chameli Devi Group of Institutions, Indore', 'Male', '8463077834', 'CS/IT', '2015', '66.5', '2017', '61.6', '0', '0', '2021', '72', 'Aishwary Mendke', 'aishwary.mendke@cdgi.edu.in', '7879833468']\n",
      "['Avani Shrivastava', 'avanishrivastava16@gmail.com', 'Chameli Devi Group of Institutions, Indore', 'Female', '8839748745', 'CS/IT', '2015', '76', '2017', '69', '0', '0', '2021', '69', 'Aishwary Mendke', 'aishwary.mendke@cdgi.edu.in', '7879833468']\n",
      "['Suraj Rathore', 'cool.suraj2607@gmail.com', 'Chameli Devi Group of Institutions, Indore', 'Male', '9009729620', 'CS/IT', '2015', '74.1', '2017', '65.8', '0', '0', '2021', '74.7', 'Aishwary Mendke', 'aishwary.mendke@cdgi.edu.in', '7879833468']\n",
      "['Anshika Jain', 'anshikajain280@gmail.com', 'Chameli Devi Group of Institutions, Indore', 'Female', '9977918812', 'CS/IT', '2014', '77.9', '2016', '77.2', '0', '0', '2021', '76.3', 'Aishwary Mendke', 'aishwary.mendke@cdgi.edu.in', '7879833468']\n",
      "['Kajal Bhardwaj', 'kajalsharma7688@gmail.com', 'Chameli Devi Group of Institutions, Indore', 'Female', '8435014489', 'CS/IT', '2015', '74', '2017', '69', '0', '0', '2021', '60', 'Aishwary Mendke', 'aishwary.mendke@cdgi.edu.in', '7879833468']\n",
      "['Kamini Yadav', 'kamini24699@gmail.com', 'Chameli Devi Group of Institutions, Indore', 'Female', '7970123712', 'CS/IT', '2015', '84.6', '2017', '82', '0', '0', '2021', '75.9', 'Aishwary Mendke', 'aishwary.mendke@cdgi.edu.in', '7879833468']\n",
      "['Ayushi Verma', 'ayushiverma1041@gmail.com', 'Chameli Devi Group of Institutions, Indore', 'Female', '9340184194', 'CS/IT', '2015', '77.9', '2017', '73.6', '0', '0', '2021', '75.2', 'Aishwary Mendke', 'aishwary.mendke@cdgi.edu.in', '7879833468']\n",
      "['ADITYA KARDILE', 'adi.kardile1599@gmail.com', \"JSPM's Imperial College of Engineering and Research Wagholi, Pune\", 'Male', '8788660996', 'CS/IT', '2015', '73.6', '2017', '68.46', '', '', '2021', '69.06', 'Amol Baviskar', 'baviskar.amol06@gmail.com', '9970842072']\n",
      "['Santosh Punde', 'santoshpunde1999@gmail.com', \"JSPM's Imperial College of Engineering and Research Wagholi, Pune\", 'Male', '8605383261', 'CS/IT', '2015', '73.8', '', '', '2018', '75', '2021', '60.39', 'Amol Baviskar', 'baviskar.amol06@gmail.com', '9970842072']\n",
      "['Yash Kolapkar', 'yashkolapkar7@gmail.com', \"JSPM's Imperial College of Engineering and Research Wagholi, Pune\", 'Male', '9552217663', 'CS/IT', '2015', '87.2', '2017', '69.69', '', '', '2021', '70.99', 'Amol Baviskar', 'baviskar.amol06@gmail.com', '9970842072']\n",
      "['Sourabh Kumbhar', 'skumbhar125@gmail.com', \"JSPM's Bhivarabai Sawant Institute of Technology and Research Wagholi, Pune\", 'Male', '9595251595', 'CS/IT', '2015', '82.2', '2017', '60.77', '', '', '2021', '60.89', 'Amol Baviskar', 'baviskar.amol06@gmail.com', '9970842072']\n",
      "['Tejaswini Landge', 'landgetejaswini24@gmail.com', \"JSPM's Bhivarabai Sawant Institute of Technology and Research Wagholi, Pune\", 'Female', '8600176781', 'CS/IT', '2015', '87', '', '', '2018', '89.13', '2021', '69.52', 'Amol Baviskar', 'baviskar.amol06@gmail.com', '9970842072']\n",
      "['Sapana Supekar', 'supekar.sapana16@gmail.com', \"JSPM's Imperial College of Engineering and Research Wagholi, Pune\", 'Female', '7798793524', 'CS/IT', '2015', '85.8', '2017', '62.46', '', '', '2021', '64.06', 'Amol Baviskar', 'baviskar.amol06@gmail.com', '9970842072']\n",
      "['Rutuja Bhandare', 'rutujabhandare7438@gmail.com', \"JSPM's Imperial College of Engineering and Research Wagholi, Pune\", 'Female', '7057520748', 'CS/IT', '2015', '87.6', '2017', '73.56', '', '', '2021', '71.45', 'Amol Baviskar', 'baviskar.amol06@gmail.com', '9970842072']\n",
      "['Rohit Sav', 'rohitsav1305@gmail.com', \"JSPM's Imperial College of Engineering and Research Wagholi, Pune\", 'Male', '8208753086', 'CS/IT', '2015', '71', '2017', '64.15', '', '', '2021', '61.33', 'Amol Baviskar', 'baviskar.amol06@gmail.com', '9970842072']\n",
      "['Pallavi Patil', 'patilpallavi183@gmail.com', \"JSPM's Imperial College of Engineering and Research Wagholi, Pune\", 'Female', '9665916597', 'CS/IT', '2014', '88', '2016', '60.77', '', '', '2021', '58.39', 'Amol Baviskar', 'baviskar.amol06@gmail.com', '9970842072']\n",
      "['Saniya Shaikh', 'shaikhsaniya9906@gmail.com', \"JSPM's Jayawantrao Sawant College of Engineering Hadapsar, Pune\", 'Female', '7507526982', 'CS/IT', '2015', '85.4', '2017', '78', '0', '0', '2021', '60', 'Sachin Kangutkar', 's.kangutkar@gmail.com', '9822646293']\n",
      "['Avadhoot Dhere', 'avadhootd99@gmail.com', \"JSPM's Narhe Technical Campus, Pune\", 'Male', '9130455613', 'CS/IT', '2015', '92.8', '2017', '77.54', '0', '0', '2021', '82.54', 'Sachin Kangutkar', 's.kangutkar@gmail.com', '9822646293']\n",
      "['SAHIL BAJARE', 'sahilbajare25@gmail.com', \"JSPM's Narhe Technical Campus, Pune\", 'Male', '8975202579', 'CS/IT', '2014', '88.6', '2016', '64.4', '0', '0', '2021', '59.47', 'Sachin Kangutkar', 's.kangutkar@gmail.com', '9822646293']\n",
      "['Komal Mhaske', 'komalmhaske338@gmail.com', \"JSPM's Jayawantrao Sawant College of Engineering Hadapsar, Pune\", 'Female', '7517781392', 'CS/IT', '2015', '90', '0', '0', '2018', '68.8', '2021', '63.24', 'Sachin Kangutkar', 's.kangutkar@gmail.com', '9822646293']\n",
      "['Gayatri Inamdar', 'inamdargs14@gmail.com', \"TSSM's Bhivarabai Sawant College of Engineering and Research Narhe, Pune\", 'Female', '9130232622', 'CS/IT', '2015', '90', '0', '0', '2018', '69', '2021', '61.6', 'Sachin Kangutkar', 's.kangutkar@gmail.com', '9822646293']\n",
      "['Yash Kalwani', 'yashkalwani948@gmail.com', \"JSPM's Narhe Technical Campus, Pune\", 'Male', '9689559168', 'CS/IT', '2015', '81', '2017', '66.15', '0', '0', '2021', '76.11', 'Sachin Kangutkar', 's.kangutkar@gmail.com', '9822646293']\n",
      "['SANA MULANI', 'sanamulani45@gmail.com', \"TSSM's Bhivarabai Sawant College of Engineering and Research Narhe, Pune\", 'Female', '7030571999', 'CS/IT', '2015', '84.2', '2017', '71.38', '0', '0', '2021', '61.37', 'Sachin Kangutkar', 's.kangutkar@gmail.com', '9822646293']\n",
      "['NIKITA RAWOOL', 'nikira8086@gmail.com', \"JSPM's Rajarshi Shahu College of Engineering Tathawade, Pune\", 'Female', '7517558311', 'CS/IT', '2015', '89.2', '2017', '76.4', '', '', '2021', '72.36', 'Radhika Modi', 'modi.tpo@gmail.com', '7755933085']\n",
      "['Aditya Chavan', 'adityachavan2019@gmail.com', \"JSPM's Rajarshi Shahu College of Engineering Tathawade, Pune\", 'Male', '9588614157', 'CS/IT', '2015', '85', '2017', '69.23', '', '', '2021', '66.44', 'Radhika Modi', 'modi.tpo@gmail.com', '7755933085']\n",
      "['Shreya Gandhi', 'shreyagandhi1234@gmail.com', \"JSPM's Rajarshi Shahu College of Engineering Tathawade, Pune\", 'Female', '7775082211', 'CS/IT', '2015', '88.4', '2017', '80.46', '', '', '2021', '70.57', 'Radhika Modi', 'modi.tpo@gmail.com', '7755933085']\n",
      "['Vishwajeet Patil', 'svishpatil@gmail.com', \"JSPM's Rajarshi Shahu College of Engineering Tathawade, Pune\", 'Male', '9156755854', 'CS/IT', '2015', '95', '2017', '76.62', '', '', '2021', '80.63', 'Radhika Modi', 'modi.tpo@gmail.com', '7755933085']\n",
      "['Sanket Vetal', 'sanketv570@gmail.com', \"JSPM's Rajarshi Shahu College of Engineering Tathawade, Pune\", 'Male', '9834408935', 'CS/IT', '2015', '79', '2017', '70', '', '', '2021', '75', 'Radhika Modi', 'modi.tpo@gmail.com', '7755933085']\n",
      "['Astha Kubavat', 'asthakubavat16@gmail.com', \"JSPM's Rajarshi Shahu College of Engineering Tathawade, Pune\", 'Female', '7405526423', 'CS/IT', '2015', '81.66', '2017', '79.69', '', '', '2021', '78.67', 'Radhika Modi', 'modi.tpo@gmail.com', '7755933085']\n",
      "['Surekha Pardeshi', 'surekhapardeshi26@gmail.com', \"JSPM's Rajarshi Shahu College of Engineering Tathawade, Pune\", 'Female', '7387960919', 'CS/IT', '2015', '82', '2017', '60.15', '', '', '2021', '59.82', 'Radhika Modi', 'modi.tpo@gmail.com', '7755933085']\n",
      "['Gautami Kharul', 'gautamikharulyolo22@gmail.com', \"JSPM's Rajarshi Shahu College of Engineering Tathawade, Pune\", 'Female', '7559398560', 'CS/IT', '2015', '84.2', '2017', '67.38', '', '', '2021', '71.63', 'Radhika Modi', 'modi.tpo@gmail.com', '7755933085']\n",
      "['Harish Kalshetty', 'kalshettyh@gmail.com', \"JSPM's Rajarshi Shahu College of Engineering Tathawade, Pune\", 'Male', '8605151743', 'CS/IT', '2015', '83', '2017', '66', '', '', '2021', '62.3', 'Radhika Modi', 'modi.tpo@gmail.com', '7755933085']\n",
      "['Ketaki Joshi', 'ketakipj4@gmail.com', \"JSPM's Rajarshi Shahu College of Engineering Tathawade, Pune\", 'Female', '8208649399', 'CS/IT', '2015', '90.6', '2017', '74.92', '', '', '2021', '72.95', 'Radhika Modi', 'modi.tpo@gmail.com', '7755933085']\n",
      "['Monali Panchal', 'panchalmonali504@gmail.com', \"JSPM's Rajarshi Shahu College of Engineering Tathawade, Pune\", 'Female', '9172804570', 'CS/IT', '2015', '88.4', '2017', '78.76', '', '', '2021', '77.6', 'Radhika Modi', 'modi.tpo@gmail.com', '7755933085']\n",
      "['Ravina Lodha', 'ravinalodha1999@gmail.com', \"JSPM's Rajarshi Shahu College of Engineering Tathawade, Pune\", 'Female', '7218315969', 'CS/IT', '2015', '91.4', '2017', '73.23', '', '', '2021', '73.29', 'Radhika Modi', 'modi.tpo@gmail.com', '7755933085']\n",
      "['Rashmi Kodgire', 'rashmirk30599@gmail.com', \"JSPM's Rajarshi Shahu College of Engineering Tathawade, Pune\", 'Female', '7774929497', 'CS/IT', '2015', '94.8', '2017', '69.38', '', '', '2021', '65.78', 'Radhika Modi', 'modi.tpo@gmail.com', '7755933085']\n",
      "['Divya Bafna', 'divyabafna9@gmail.com', \"JSPM's Rajarshi Shahu College of Engineering Tathawade, Pune\", 'Female', '7888260318', 'CS/IT', '2015', '93.2', '2017', '80', '', '', '2021', '72.68', 'Radhika Modi', 'modi.tpo@gmail.com', '7755933085']\n",
      "['Shraddha Khedkar', 'khedkarshraddha10@gmail.com', \"JSPM's Rajarshi Shahu College of Engineering Tathawade, Pune\", 'Female', '9921848846', 'CS/IT', '2015', '91.2', '2017', '68.62', '', '', '2021', '67.32', 'Radhika Modi', 'modi.tpo@gmail.com', '7755933085']\n",
      "['Kshitija Jawale', 'kshitijajawale1999@gmail.com', \"JSPM's Rajarshi Shahu College of Engineering Tathawade, Pune\", 'Female', '9518301580', 'EnTC', '2015', '83.6', '2017', '63.23', '', '', '2021', '60.8', 'Radhika Modi', 'modi.tpo@gmail.com', '7755933085']\n",
      "['Vaishnavi Raut', 'rautvaishnavi6063@gmail.com', \"JSPM's Rajarshi Shahu College of Engineering Tathawade, Pune\", 'Female', '9823815021', 'EnTC', '2015', '88.8', '2017', '75.69', '', '', '2021', '64', 'Radhika Modi', 'modi.tpo@gmail.com', '7755933085']\n",
      "['Shivani Ligade', 'shivaniligade15@gmail.com', \"JSPM's Rajarshi Shahu College of Engineering Tathawade, Pune\", 'Female', '8668265729', 'EnTC', '2015', '88', '2017', '73.54', '', '', '2021', '77.26', 'Radhika Modi', 'modi.tpo@gmail.com', '7755933085']\n",
      "['NALAMKULANGARA RAHULKRISHNA', 'krishrahul121@gmail.com', 'CMR Engineering College (CMREC), Hyderabad', 'Male', '9550683735', 'CS/IT', '2015', '92', '2017', '95.9', '0', '0', '2021', '78', 'Himabindu', 'placements@cmrgroup.org', '9704409222']\n",
      "['Mediboyina Manikanta', 'chintuyadav80509@gmail.com', 'CMR Engineering College (CMREC), Hyderabad', 'Male', '9182718564', 'CS/IT', '2015', '83', '2017', '70', '0', '0', '2021', '67', 'Himabindu', 'placements@cmrgroup.org', '9704409222']\n",
      "['Kaushik Kumar', 'kaushikkumar004@gmail.com', 'CMR College of Engineering and Technology (CMRCET), Hyderabad', 'Male', '7903153097', 'CS/IT', '2015', '81.7', '2017', '92', '0', '0', '2021', '83.69', 'Himabindu', 'placements@cmrgroup.org', '9704409222']\n",
      "['ALLE RAHUL', 'rahulalle55@gmail.com', 'CMR College of Engineering and Technology (CMRCET), Hyderabad', 'Male', '9492236251', 'CS/IT', '2015', '92', '2017', '98', '0', '0', '2021', '73', 'Himabindu', 'placements@cmrgroup.org', '9704409222']\n",
      "['DIVAKARUNI SANDEEP', 'sandeep1505199@gmail.com', 'CMR College of Engineering and Technology (CMRCET), Hyderabad', 'Male', '9963295948', 'CS/IT', '2015', '92', '2017', '98', '0', '0', '2021', '80', 'Himabindu', 'placements@cmrgroup.org', '9704409222']\n",
      "['Tejaswini Samala', 'saitejaswinisamala03@gmail.com', 'CMR College of Engineering and Technology (CMRCET), Hyderabad', 'Female', '8341148259', 'CS/IT', '2015', '90', '2017', '93', '0', '0', '2021', '83', 'Himabindu', 'placements@cmrgroup.org', '9704409222']\n",
      "['Upputuri Ganesh', 'ganeshupputuri16@gmail.com', 'CMR College of Engineering and Technology (CMRCET), Hyderabad', 'Male', '8465011658', 'CS/IT', '2015', '93', '2017', '94', '0', '0', '2021', '86', 'Himabindu', 'placements@cmrgroup.org', '9704409222']\n",
      "['Vangala Shanthan', 'shanthanreddyvangala@gmail.com', 'CMR College of Engineering and Technology (CMRCET), Hyderabad', 'Male', '9100205060', 'CS/IT', '2015', '86', '2017', '94', '0', '0', '2021', '83', 'Himabindu', 'placements@cmrgroup.org', '9704409222']\n",
      "['Medapati Reshma', 'mnvreshma@gmail.com', 'CMR College of Engineering and Technology (CMRCET), Hyderabad', 'Female', '9849783555', 'CS/IT', '2015', '93', '2017', '95', '0', '0', '2021', '95', 'Himabindu', 'placements@cmrgroup.org', '9704409222']\n",
      "['Mounika Kalakonda', 'mounikakalakonda98@gmail.com', 'CMR College of Engineering and Technology (CMRCET), Hyderabad', 'Female', '9849199422', 'CS/IT', '2015', '95', '2017', '96', '0', '0', '2021', '89', 'Himabindu', 'placements@cmrgroup.org', '9704409222']\n",
      "['Gumastha Aishwraya', 'aishwaryagumastha18@gmail.com', 'CMR College of Engineering and Technology (CMRCET), Hyderabad', 'Female', '9666564411', 'CS/IT', '2015', '87.4', '2017', '97.8', '0', '0', '2021', '89.77', 'Himabindu', 'placements@cmrgroup.org', '9704409222']\n",
      "['Nomula Nandini', 'nandinireddynomula@gmail.com', 'CMR College of Engineering and Technology (CMRCET), Hyderabad', 'Female', '9440882065', 'CS/IT', '2014', '97', '2017', '92', '0', '0', '2020', '85', 'Himabindu', 'placements@cmrgroup.org', '9704409222']\n",
      "['Rohith Tatamsetty', '177r1a05b3@gmail.com', 'CMR Technical Campus (CMRTC), Hyderabad', 'Male', '9700113203', 'CS/IT', '2015', '88', '2017', '91.7', '0', '0', '2021', '78', 'Himabindu', 'placements@cmrgroup.org', '9704409222']\n",
      "['Alex Abrahim', '177r1a0561@cmrtc.ac.in', 'CMR Technical Campus (CMRTC), Hyderabad', 'Male', '7095824555', 'CS/IT', '2015', '75', '2017', '77.4', '0', '0', '2021', '66.4', 'Himabindu', 'placements@cmrgroup.org', '9704409222']\n",
      "['MAGANTI Prathyusha', 'prathyu889@gmail.com', 'CMR Technical Campus (CMRTC), Hyderabad', 'Female', '8897411064', 'CS/IT', '2015', '98', '2017', '97', '0', '0', '2021', '70', 'Himabindu', 'placements@cmrgroup.org', '9704409222']\n",
      "['Ramayanam SaiVeerSuvesith', 'suvesith.ramayanam@gmail.com', \"St. Martin's Engineering College, Hyderabad\", 'Male', '9652283588', 'CS/IT', '2015', '92', '2017', '96.8', '0', '0', '2021', '78.85', 'P Sridevi', 'tpo.smec@gmail.com', '9121345666 /9705133339']\n",
      "['Aishwarya Chennam', 'aishwaryachennam@gmail.com', \"St. Martin's Engineering College, Hyderabad\", 'Female', '7382396846', 'CS/IT', '2015', '90.25', '2017', '97.2', '0', '0', '2021', '79', 'P Sridevi', 'tpo.smec@gmail.com', '9121345666 /9705133339']\n",
      "['Vallandas Ramya', 'ramyavallandas34@gmail.com', \"St. Martin's Engineering College, Hyderabad\", 'Female', '9652119246', 'CS/IT', '2015', '75', '2017', '93', '0', '0', '2021', '76', 'P Sridevi', 'tpo.smec@gmail.com', '9121345666 /9705133339']\n",
      "['Vardhan CM', 'cmvardhan@gmail.com', \"St. Martin's Engineering College, Hyderabad\", 'Male', '9573079972', 'CS/IT', '2015', '90', '2017', '91.9', '0', '0', '2021', '66', 'P Sridevi', 'tpo.smec@gmail.com', '9121345666 /9705133339']\n",
      "['Parvatam PavanKumar', 'pavankumar41299@gmail.com', \"St. Martin's Engineering College, Hyderabad\", 'Male', '9704565246', 'CS/IT', '2015', '95', '2017', '91.4', '0', '0', '2021', '67', 'P Sridevi', 'tpo.smec@gmail.com', '9121345666 /9705133339']\n",
      "['Monika Kalaskar', 'monikakalaskar51@gmail.com', \"Vidya Pratishthan's Kamalnayan Bajaj Institute of Engineering and Technology, Baramati\", 'Female', '7385630853', 'CS/IT', '2015', '87.2', '0', '0', '2018', '72.4', '2021', '68', 'Vishal Kore', 'tpo@vpkbiet.org', '8605254254']\n",
      "['OMKAR KHOT', 'omkar.khot.comp.2017@vpkbiet.org', \"Vidya Pratishthan's Kamalnayan Bajaj Institute of Engineering and Technology, Baramati\", 'Male', '8975391235', 'CS/IT', '2015', '93.8', '2017', '69.8', '0', '0', '2022', '70', 'Vishal Kore', 'tpo@vpkbiet.org', '8605254254']\n",
      "['Rohit Jadhav', 'rohit2244jadhav@gmail.com', \"Vidya Pratishthan's Kamalnayan Bajaj Institute of Engineering and Technology, Baramati\", 'Male', '9673636464', 'CS/IT', '2015', '88.8', '2017', '72', '0', '0', '2021', '65', 'Vishal Kore', 'tpo@vpkbiet.org', '8605254254']\n",
      "['Bharati Jadhav', 'bharatijadhav342@gmail.com', \"Vidya Pratishthan's Kamalnayan Bajaj Institute of Engineering and Technology, Baramati\", 'Female', '9067514516', 'CS/IT', '2015', '88.6', '2017', '76.92', '0', '0', '2021', '72.9', 'Vishal Kore', 'tpo@vpkbiet.org', '8605254254']\n",
      "['Rajeshwari Atole', 'rajeshwariatole002@gmail.com', \"Vidya Pratishthan's Kamalnayan Bajaj Institute of Engineering and Technology, Baramati\", 'Female', '7057153707', 'CS/IT', '2014', '90.6', '2016', '62.77', '2018', '85.5', '2021', '65.1', 'Vishal Kore', 'tpo@vpkbiet.org', '8605254254']\n",
      "['Sanika Patale', 'sanikapatale3535@gmail.com', \"Vidya Pratishthan's Kamalnayan Bajaj Institute of Engineering and Technology, Baramati\", 'Female', '9158743945', 'CS/IT', '2015', '90.2', '2017', '79.85', '0', '0', '2021', '71.89', 'Vishal Kore', 'tpo@vpkbiet.org', '8605254254']\n",
      "['Yashshree Gadekar', 'yashashree.gadekar.it.2017@vpkbiet.org', \"Vidya Pratishthan's Kamalnayan Bajaj Institute of Engineering and Technology, Baramati\", 'Female', '9403317913', 'CS/IT', '2015', '92.2', '2017', '75.69', '0', '0', '2021', '63', 'Vishal Kore', 'tpo@vpkbiet.org', '8605254254']\n",
      "['Shubham Bhosale', 'shubham22898b@gmail.com', \"Vidya Pratishthan's Kamalnayan Bajaj Institute of Engineering and Technology, Baramati\", 'Male', '7378982965', 'CS/IT', '2015', '85.4', '2017', '67.84', '0', '0', '2021', '61', 'Vishal Kore', 'tpo@vpkbiet.org', '8605254254']\n",
      "['Trupti Jadhav', 'jadhavtrupti046@gmail.com', \"Vidya Pratishthan's Kamalnayan Bajaj Institute of Engineering and Technology, Baramati\", 'Female', '8637756401', 'CS/IT', '2015', '88.8', '2017', '80', '0', '0', '2021', '69', 'Vishal Kore', 'tpo@vpkbiet.org', '8605254254']\n",
      "['Shivani Sul', 'shivani.sul123@gmail.com', \"Vidya Pratishthan's Kamalnayan Bajaj Institute of Engineering and Technology, Baramati\", 'Female', '9665696198', 'CS/IT', '2015', '82', '0', '0', '2018', '82.39', '2021', '66.7', 'Vishal Kore', 'tpo@vpkbiet.org', '8605254254']\n",
      "['Shivkanya Kadam', 'shivkanya.kadam.it.2018@vpkbiet.org', \"Vidya Pratishthan's Kamalnayan Bajaj Institute of Engineering and Technology, Baramati\", 'Female', '7058380664', 'CS/IT', '2014', '75', '0', '0', '2018', '75.38', '2021', '59.86', 'Vishal Kore', 'tpo@vpkbiet.org', '8605254254']\n",
      "['Aniket Goture', 'aniket.goture.comp.2017@vpkbiet.org', \"Vidya Pratishthan's Kamalnayan Bajaj Institute of Engineering and Technology, Baramati\", 'Male', '9657360961', 'EnTC', '2015', '87', '2017', '67.68', '0', '0', '2021', '64', 'Vishal Kore', 'tpo@vpkbiet.org', '8605254254']\n",
      "['Sneha Navale', 'sneha.navale.entc.2017@vpkbiet.org', \"Vidya Pratishthan's Kamalnayan Bajaj Institute of Engineering and Technology, Baramati\", 'Female', '9834985311', 'EnTC', '2015', '92.6', '2017', '70.46', '0', '0', '2021', '60', 'Vishal Kore', 'tpo@vpkbiet.org', '8605254254']\n",
      "['Vaishnavi Kanade', 'vaishnavi.kanade.entc.2017@vpkbiet.org', \"Vidya Pratishthan's Kamalnayan Bajaj Institute of Engineering and Technology, Baramati\", 'Female', '9503138774', 'EnTC', '2015', '92', '2017', '71.69', '0', '0', '2021', '74.95', 'Vishal Kore', 'tpo@vpkbiet.org', '8605254254']\n",
      "['Harshada Ambale', 'ambleharshada2013@gmail.com', \"Vidya Pratishthan's Kamalnayan Bajaj Institute of Engineering and Technology, Baramati\", 'Female', '9.01E+09', 'CS/IT', '2015', '80.8', '0', '0', '2018', '83.5', '2021', '61.77', 'Vishal Kore', 'tpo@vpkbiet.org', '8605254254']\n",
      "['Kajal Lambhate', 'kajallambhate143@gmail.com', \"Vidya Pratishthan's Kamalnayan Bajaj Institute of Engineering and Technology, Baramati\", 'Female', '8.55E+09', 'CS/IT', '2014', '69', '0', '0', '2017', '72.92', '2021', '59.84', 'Vishal Kore', 'tpo@vpkbiet.org', '8605254254']\n",
      "['Tejaswinee Vetal', 'tejaswinee.vetal.it.2017@vpkbiet.org', \"Vidya Pratishthan's Kamalnayan Bajaj Institute of Engineering and Technology, Baramati\", 'Female', '9.10E+09', 'CS/IT', '2015', '94.8', '2017', '73.23', '0', '0', '2021', '72.2', 'Vishal Kore', 'tpo@vpkbiet.org', '8605254254']\n",
      "['Samuel Salvi', 'samuelsalvi195@gmail.com', \"Vidya Pratishthan's Kamalnayan Bajaj Institute of Engineering and Technology, Baramati\", 'Male', '9.28E+09', 'CS/IT', '2015', '92.5', '2017', '72.15', '0', '0', '2021', '62.5', 'Vishal Kore', 'tpo@vpkbiet.org', '8605254254']\n",
      "['Harshada Devadhe', 'harshada.devadhe.it.2017@vpkbiet.org', \"Vidya Pratishthan's Kamalnayan Bajaj Institute of Engineering and Technology, Baramati\", 'Female', '8.33E+09', 'CS/IT', '2015', '93.4', '2017', '83.08', '0', '0', '2021', '67.06', 'Vishal Kore', 'tpo@vpkbiet.org', '8605254254']\n",
      "['SIMRAN SARKALE', 'simran.sarkale.it.2017@vpkbiet.org', \"Vidya Pratishthan's Kamalnayan Bajaj Institute of Engineering and Technology, Baramati\", 'Female', '7.40E+09', 'CS/IT', '2015', '88.4', '2017', '69.09', '0', '0', '2021', '70.57', 'Vishal Kore', 'tpo@vpkbiet.org', '8605254254']\n",
      "['Snehal Godase', 'snehalgodase99@gmail.com', \"Vidya Pratishthan's Kamalnayan Bajaj Institute of Engineering and Technology, Baramati\", 'Female', '7.74E+09', 'CS/IT', '2013', '80', '0', '0', '2017', '73.18', '2021', '60.83', 'Vishal Kore', 'tpo@vpkbiet.org', '8605254254']\n",
      "['Vaishnavi Gaikwad', 'vaishnaviig08@gmail.com', \"Vidya Pratishthan's Kamalnayan Bajaj Institute of Engineering and Technology, Baramati\", 'Female', '7.26E+09', 'CS/IT', '2015', '85.8', '0', '0', '2018', '83.13', '2021', '60.36', 'Vishal Kore', 'tpo@vpkbiet.org', '8605254254']\n",
      "['Vishwa Akolkar', 'vishwa.akolkar.it.2017@vpkbiet.org', \"Vidya Pratishthan's Kamalnayan Bajaj Institute of Engineering and Technology, Baramati\", 'Female', '9.83E+09', 'CS/IT', '2015', '87', '2017', '63.08', '0', '0', '2021', '60.67', 'Vishal Kore', 'tpo@vpkbiet.org', '8605254254']\n",
      "['Shubhangi Shinde', 'shubhangishinde291999@gmail.com', \"Vidya Pratishthan's Kamalnayan Bajaj Institute of Engineering and Technology, Baramati\", 'Female', '8.81E+09', 'CS/IT', '2015', '79.8', '0', '0', '2018', '86.94', '2021', '68.09', 'Vishal Kore', 'tpo@vpkbiet.org', '8605254254']\n",
      "['Akshata Chaudhari', 'akshatachaudhari5699@gmail.com', \"Vidya Pratishthan's Kamalnayan Bajaj Institute of Engineering and Technology, Baramati\", 'Female', '8.81E+09', 'CS/IT', '2015', '89', '2017', '79', '0', '0', '2021', '71.63', 'Vishal Kore', 'tpo@vpkbiet.org', '8605254254']\n",
      "['Namrata Gapat', 'namratagapat20@gmail.com', \"Vidya Pratishthan's Kamalnayan Bajaj Institute of Engineering and Technology, Baramati\", 'Female', '9.92E+09', 'CS/IT', '2015', '92.6', '2017', '74.31', '0', '0', '2021', '72.8', 'Vishal Kore', 'tpo@vpkbiet.org', '8605254254']\n",
      "['PRASHANT MALUSARE', 'prashant.malusare.comp.2017@vpkbiet.org', \"Vidya Pratishthan's Kamalnayan Bajaj Institute of Engineering and Technology, Baramati\", 'Male', '8.81E+09', 'CS/IT', '2015', '81.8', '2017', '75.23', '0', '0', '2021', '71', 'Vishal Kore', 'tpo@vpkbiet.org', '8605254254']\n",
      "['Amit Verma', 'amitpth028@gmail.com', \"Vidya Pratishthan's Kamalnayan Bajaj Institute of Engineering and Technology, Baramati\", 'Male', '9.15E+09', 'CS/IT', '2015', '87', '2017', '74', '0', '0', '2021', '60', 'Vishal Kore', 'tpo@vpkbiet.org', '8605254254']\n",
      "['Abhishek Kulkarni', 'kulkarniabhi004@gmail.com', \"Vidya Pratishthan's Kamalnayan Bajaj Institute of Engineering and Technology, Baramati\", 'Male', '8.81E+09', 'CS/IT', '2015', '87', '2017', '68', '0', '0', '2021', '68', 'Vishal Kore', 'tpo@vpkbiet.org', '8605254254']\n",
      "['Bhakti Dunakhe', 'bhakti.dunakhe.it.2017@vpkbiet.org', \"Vidya Pratishthan's Kamalnayan Bajaj Institute of Engineering and Technology, Baramati\", 'Female', '7.56E+09', 'CS/IT', '2015', '91.45', '2017', '74', '0', '0', '2021', '68.9', 'Vishal Kore', 'tpo@vpkbiet.org', '8605254254']\n",
      "['Pradnya Katkar', 'katkarpradnya98@gmail.com', \"Vidya Pratishthan's Kamalnayan Bajaj Institute of Engineering and Technology, Baramati\", 'Female', '8.70E+09', 'CS/IT', '2014', '90.2', '0', '0', '2018', '81.59', '2021', '58.96', 'Vishal Kore', 'tpo@vpkbiet.org', '8605254254']\n",
      "['Sourabh Vadje', 'sourabhvadje999@gmail.com', \"Vidya Pratishthan's Kamalnayan Bajaj Institute of Engineering and Technology, Baramati\", 'Male', '8.18E+09', 'CS/IT', '2015', '83.2', '2017', '62.4', '0', '0', '2021', '63.03', 'Vishal Kore', 'tpo@vpkbiet.org', '8605254254']\n",
      "['SWARANJALI ADSUL', 'swaranjaliadsul@gmail.com', \"Vidya Pratishthan's Kamalnayan Bajaj Institute of Engineering and Technology, Baramati\", 'Female', '9.69E+09', 'CS/IT', '2015', '95.56', '2017', '78.26', '0', '0', '2021', '75.07', 'Vishal Kore', 'tpo@vpkbiet.org', '8605254254']\n",
      "['Gaurav Jagtap', 'gauravjagtap034@gmail.com', \"Vidya Pratishthan's Kamalnayan Bajaj Institute of Engineering and Technology, Baramati\", 'Male', '8.89E+09', 'CS/IT', '2015', '91', '2017', '81.34', '0', '0', '2021', '69.89', 'Vishal Kore', 'tpo@vpkbiet.org', '8605254254']\n",
      "['Sanket Morgaonkar', 'sanketmorgaonkar444@gmail.com', \"Vidya Pratishthan's Kamalnayan Bajaj Institute of Engineering and Technology, Baramati\", 'Male', '9.85E+09', 'CS/IT', '2015', '90.2', '2017', '72.64', '0', '0', '2021', '64', 'Vishal Kore', 'tpo@vpkbiet.org', '8605254254']\n",
      "['Sonali Kolape', 'sonalikolape0123@gmail.com', \"Vidya Pratishthan's Kamalnayan Bajaj Institute of Engineering and Technology, Baramati\", 'Female', '7.51E+09', 'CS/IT', '2015', '85.8', '0', '0', '2018', '76', '2021', '59', 'Vishal Kore', 'tpo@vpkbiet.org', '8605254254']\n",
      "['Anuradha Shelar', 'anuradha.shelar.it.2017@vpkbiet.org', \"Vidya Pratishthan's Kamalnayan Bajaj Institute of Engineering and Technology, Baramati\", 'Female', '9.28E+09', 'CS/IT', '2015', '90.6', '2017', '78.23', '0', '0', '2021', '60', 'Vishal Kore', 'tpo@vpkbiet.org', '8605254254']\n",
      "['Shivpriya Yadav', 'shivpriya.yadav.entc.2017@vpkbiet.org', \"Vidya Pratishthan's Kamalnayan Bajaj Institute of Engineering and Technology, Baramati\", 'Female', '7.38E+09', 'EnTC', '2015', '92.8', '2017', '83.69', '0', '0', '2021', '66', 'Vishal Kore', 'tpo@vpkbiet.org', '8605254254']\n",
      "['Mayur Shinde', 'mayurshinde13899@gmail.com', \"Vidya Pratishthan's Kamalnayan Bajaj Institute of Engineering and Technology, Baramati\", 'Male', '9.15E+09', 'EnTC', '2015', '88', '2017', '70.46', '0', '0', '2021', '58.96', 'Vishal Kore', 'tpo@vpkbiet.org', '8605254254']\n",
      "['Nikita Nawale', 'nikitanawale4@gmail.com', \"Vidya Pratishthan's Kamalnayan Bajaj Institute of Engineering and Technology, Baramati\", 'Female', '9.08E+09', 'EnTC', '2015', '84.8', '2017', '67.38', '0', '0', '2021', '59.75', 'Vishal Kore', 'tpo@vpkbiet.org', '8605254254']\n",
      "['Komal Dhaygude', 'komal.dhaygude.entc.2018@vpkbiet.org', \"Vidya Pratishthan's Kamalnayan Bajaj Institute of Engineering and Technology, Baramati\", 'Female', '9.51E+09', 'EnTC', '2015', '81.2', '0', '0', '2018', '75.43', '2021', '60', 'Vishal Kore', 'tpo@vpkbiet.org', '8605254254']\n",
      "['Swanand Khaladkar', 'khaladkarswanand@gmail.com', \"Vidya Pratishthan's Kamalnayan Bajaj Institute of Engineering and Technology, Baramati\", 'Male', '9.42E+09', 'EnTC', '2015', '86.6', '2017', '71.3', '0', '0', '2021', '63.6', 'Vishal Kore', 'tpo@vpkbiet.org', '8605254254']\n",
      "['Shivanjali Bhosale', 'shivanjalibhosale185@gmail.com', \"Vidya Pratishthan's Kamalnayan Bajaj Institute of Engineering and Technology, Baramati\", 'Female', '9.50E+09', 'EnTC', '2015', '82.21', '0', '0', '2018', '83.68', '2020', '61.22', 'Vishal Kore', 'tpo@vpkbiet.org', '8605254254']\n",
      "['Pradnya Lokhande', 'pradnya.lokhande.entc.2018@vpkbiet.org', \"Vidya Pratishthan's Kamalnayan Bajaj Institute of Engineering and Technology, Baramati\", 'Female', '9.83E+09', 'EnTC', '2015', '73.6', '0', '0', '2018', '84.65', '2021', '64.28', 'Vishal Kore', 'tpo@vpkbiet.org', '8605254254']\n",
      "['Shivani Khilari', 'shivani.khilari.entc.2017@vpkbiet.org', \"Vidya Pratishthan's Kamalnayan Bajaj Institute of Engineering and Technology, Baramati\", 'Female', '9.76E+09', 'EnTC', '2015', '91.2', '2017', '68.39', '0', '0', '2021', '70', 'Vishal Kore', 'tpo@vpkbiet.org', '8605254254']\n",
      "['Shubham Nale', 'naleshubham@gmail.com', \"Vidya Pratishthan's Kamalnayan Bajaj Institute of Engineering and Technology, Baramati\", 'Male', '9.88E+09', 'EnTC', '2014', '83.4', '2016', '66.46', '0', '0', '2021', '64.22', 'Vishal Kore', 'tpo@vpkbiet.org', '8605254254']\n",
      "['AKSHADA BHOITE', 'akshada.bhoite.entc.2019@vokbiet.org', \"Vidya Pratishthan's Kamalnayan Bajaj Institute of Engineering and Technology, Baramati\", 'Female', '9.64E+09', 'EnTC', '2014', '88.4', '2016', '62.62', '2018', '78', '2021', '57.52', 'Vishal Kore', 'tpo@vpkbiet.org', '8605254254']\n",
      "['Vishal Jadhav', 'vmjadhav152@gmail.com', \"Vidya Pratishthan's Kamalnayan Bajaj Institute of Engineering and Technology, Baramati\", 'Male', '8.81E+09', 'EnTC', '2014', '83.8', '2016', '76', '0', '0', '2021', '66.79', 'Vishal Kore', 'tpo@vpkbiet.org', '8605254254']\n",
      "['Poonam Jadhav', 'poonamjadhav22111999@gmail.com', \"Vidya Pratishthan's Kamalnayan Bajaj Institute of Engineering and Technology, Baramati\", 'Female', '7.75E+09', 'EnTC', '2015', '95.2', '2017', '83.85', '0', '0', '2021', '75.97', 'Vishal Kore', 'tpo@vpkbiet.org', '8605254254']\n",
      "['Mauli Shinde', 'mvshinde21@gmail.com', \"Vidya Pratishthan's Kamalnayan Bajaj Institute of Engineering and Technology, Baramati\", 'Male', '8.79E+09', 'EnTC', '2015', '82.4', '2017', '68.4', '0', '0', '2021', '61', 'Vishal Kore', 'tpo@vpkbiet.org', '8605254254']\n",
      "['Swapnil Jadhav', 'swapnil.jadhav.entc.2017@vpkbiet.org', \"Vidya Pratishthan's Kamalnayan Bajaj Institute of Engineering and Technology, Baramati\", 'Male', '8.33E+09', 'EnTC', '2015', '88.2', '2017', '75.85', '0', '0', '2021', '73.56', 'Vishal Kore', 'tpo@vpkbiet.org', '8605254254']\n",
      "['Prachi Kulkarni', 'prachi.kulkarni.entc.2017@vpkbiet.org', \"Vidya Pratishthan's Kamalnayan Bajaj Institute of Engineering and Technology, Baramati\", 'Female', '9.83E+09', 'EnTC', '2015', '89.99', '2017', '72', '0', '0', '2021', '61.76', 'Vishal Kore', 'tpo@vpkbiet.org', '8605254254']\n",
      "['Nikita Khapale', 'nikita.khapale.entc.2018@vpkbiet.org', \"Vidya Pratishthan's Kamalnayan Bajaj Institute of Engineering and Technology, Baramati\", 'Female', '7.62E+09', 'EnTC', '2013', '71', '0', '0', '2018', '85.84', '2021', '64', 'Vishal Kore', 'tpo@vpkbiet.org', '8605254254']\n",
      "['Shubham Nandkhile', 'shubhamnandkhile7@gmail.com', \"Vidya Pratishthan's Kamalnayan Bajaj Institute of Engineering and Technology, Baramati\", 'Male', '9.42E+09', 'EnTC', '2015', '90.8', '2017', '70.15', '0', '0', '2021', '65.74', 'Vishal Kore', 'tpo@vpkbiet.org', '8605254254']\n",
      "['Suyash Powar', 'suyashpowar393@gmail.com', \"Vidya Pratishthan's Kamalnayan Bajaj Institute of Engineering and Technology, Baramati\", 'Male', '9.56E+09', 'EnTC', '2015', '73', '2017', '60', '0', '0', '2021', '60.72', 'Vishal Kore', 'tpo@vpkbiet.org', '8605254254']\n",
      "['Shivani Divekar', 'shivanidivekar1@gmail.com', \"Vidya Pratishthan's Kamalnayan Bajaj Institute of Engineering and Technology, Baramati\", 'Female', '9.83E+09', 'EnTC', '2015', '93.4', '2017', '81.08', '0', '0', '2021', '70.22', 'Vishal Kore', 'tpo@vpkbiet.org', '8605254254']\n",
      "['Pratidnya Harke', 'pratidnyaharke2@gmail.com', \"Vidya Pratishthan's Kamalnayan Bajaj Institute of Engineering and Technology, Baramati\", 'Female', '7.39E+09', 'EnTC', '2015', '83.4', '0', '0', '2018', '79.35', '2021', '64.24', 'Vishal Kore', 'tpo@vpkbiet.org', '8605254254']\n",
      "['Divya Jawale', 'divya.jawale.comp.2018@vpkbiet.org', \"Vidya Pratishthan's Kamalnayan Bajaj Institute of Engineering and Technology, Baramati\", 'Female', '9.67E+09', 'EnTC', '2015', '72.6', '0', '0', '2018', '68', '2021', '58.33', 'Vishal Kore', 'tpo@vpkbiet.org', '8605254254']\n",
      "['Shruti Dagade', 'sdagade10@gmail.com', \"Vidya Pratishthan's Kamalnayan Bajaj Institute of Engineering and Technology, Baramati\", 'Female', '9.28E+09', 'EnTC', '2015', '90.8', '2017', '76.15', '0', '0', '2021', '77.48', 'Vishal Kore', 'tpo@vpkbiet.org', '8605254254']\n",
      "['ANKITA JAGTAP', 'ankitajagtap3344@gmail.com', \"Vidya Pratishthan's Kamalnayan Bajaj Institute of Engineering and Technology, Baramati\", 'Female', '9.88E+09', 'EnTC', '2015', '87.4', '2017', '66.62', '0', '0', '2021', '66.62', 'Vishal Kore', 'tpo@vpkbiet.org', '8605254254']\n",
      "['Mayuri Gurav', 'mayurigurav2179@gmail.com', \"Vidya Pratishthan's Kamalnayan Bajaj Institute of Engineering and Technology, Baramati\", 'Female', '7.52E+09', 'EnTC', '2015', '81.2', '0', '0', '2018', '75.18', '2021', '59', 'Vishal Kore', 'tpo@vpkbiet.org', '8605254254']\n",
      "['Swati Awale', 'swatiawale1999@gmail.com', \"Vidya Pratishthan's Kamalnayan Bajaj Institute of Engineering and Technology, Baramati\", 'Female', '7.06E+09', 'EnTC', '2015', '79.8', '0', '0', '2018', '82.06', '2021', '70.22', 'Vishal Kore', 'tpo@vpkbiet.org', '8605254254']\n",
      "['Divya Sree', 'psdivyasree143@gmail.com', 'Geethanjali College of Engineering and Technology, Hyderabad', 'Female', '8.01E+09', 'CS/IT', '2015', '87', '2017', '94.6', '0', '0', '2021', '83.57', 'Prashanth', 'prashanthgctc@gmail.com', '9849961322']\n",
      "['Sarabudla VidyaReddy', 'vidyareddy2662@gmail.com', 'Geethanjali College of Engineering and Technology, Hyderabad', 'Female', '9.12E+09', 'CS/IT', '2015', '93', '2017', '97', '0', '0', '2021', '88', 'Abhilash', 'gcet2005placements@gmail.com', '9391312121']\n",
      "['SATYAGAAYATHRI BRAHMANAPALLY', 'sat3vi@gmail.com', 'Geethanjali College of Engineering and Technology, Hyderabad', 'Female', '7.78E+09', 'CS/IT', '2015', '93', '2017', '97.2', '0', '0', '2021', '84.6', 'Abhilash', 'gcet2005placements@gmail.com', '9391312121']\n",
      "['Saketh Ram', 'saketh.tipparthi@gmail.com', 'Geethanjali College of Engineering and Technology, Hyderabad', 'Male', '9.97E+09', 'CS/IT', '2015', '64', '2017', '75.5', '0', '0', '2021', '69', 'Abhilash', 'gcet2005placements@gmail.com', '9391312121']\n",
      "['Bharadwaj Varma', 'bharadwajvarma1999@gmail.com', 'Geethanjali College of Engineering and Technology, Hyderabad', 'Male', '8.80E+09', 'CS/IT', '2015', '92.1', '2017', '92.8', '0', '0', '2021', '85.7', 'Abhilash', 'gcet2005placements@gmail.com', '9391312121']\n",
      "['Sivani Chekuri', 'shivanichekuri546@gmail.com', 'Geethanjali College of Engineering and Technology, Hyderabad', 'Female', '7.03E+09', 'CS/IT', '2015', '80', '2017', '69.9', '0', '0', '2021', '66.5', 'Abhilash', 'gcet2005placements@gmail.com', '9391312121']\n",
      "['Saigopal Cheela', 'cheelasaigopal@gmail.com', 'Geethanjali College of Engineering and Technology, Hyderabad', 'Male', '9.11E+09', 'CS/IT', '2015', '97', '2017', '95.4', '0', '0', '2021', '82.9', 'Abhilash', 'gcet2005placements@gmail.com', '9391312121']\n",
      "['Sindhu Hanumanthu', 'sindhuhanumanthu16@gmail.com', 'Geethanjali College of Engineering and Technology, Hyderabad', 'Female', '9.10E+09', 'CS/IT', '2015', '98', '2017', '90.2', '0', '0', '2021', '89.2', 'Abhilash', 'gcet2005placements@gmail.com', '9391312121']\n",
      "['Girish Allam', 'girish10rockz@gmail.com', 'Geethanjali College of Engineering and Technology, Hyderabad', 'Male', '8.47E+09', 'CS/IT', '2015', '93.1', '2017', '95', '0', '0', '2021', '88.16', 'Abhilash', 'gcet2005placements@gmail.com', '9391312121']\n",
      "['Yamsani Rachna', 'rachnamili@gmail.com', 'Geethanjali College of Engineering and Technology, Hyderabad', 'Female', '7.70E+09', 'CS/IT', '2015', '88', '2017', '98', '0', '0', '2021', '86.09', 'Abhilash', 'gcet2005placements@gmail.com', '9391312121']\n",
      "['Cheemakurthi LakshmiKavya', 'kavyali1107@gmail.com', 'Geethanjali College of Engineering and Technology, Hyderabad', 'Female', '7.67E+09', 'CS/IT', '2015', '95', '2017', '93.3', '0', '0', '2021', '83.03', 'Abhilash', 'gcet2005placements@gmail.com', '9391312121']\n",
      "['Gayathri Chitumadugula', 'ch.gayathri234@gmail.com', 'Geethanjali College of Engineering and Technology, Hyderabad', 'Female', '9.18E+09', 'CS/IT', '2015', '97', '2017', '95.7', '0', '0', '2021', '81.13', 'Abhilash', 'gcet2005placements@gmail.com', '9391312121']\n",
      "['Pranathi Kola', 'pranathikola2016@gmail.com', 'Geethanjali College of Engineering and Technology, Hyderabad', 'Female', '8.00E+09', 'CS/IT', '2015', '98', '2017', '94', '0', '0', '2021', '81.51', 'Abhilash', 'gcet2005placements@gmail.com', '9391312121']\n",
      "['KANDIKONDA VEERAMANIKANTAN', 'kkmani5399@gmail.com', 'Geethanjali College of Engineering and Technology, Hyderabad', 'Male', '9.40E+09', 'CS/IT', '2015', '92', '2017', '97', '0', '0', '2021', '88.92', 'Abhilash', 'gcet2005placements@gmail.com', '9391312121']\n",
      "['OMKAR RAYALA', 'omkar.rayala@gmail.com', 'Geethanjali College of Engineering and Technology, Hyderabad', 'Male', '9.49E+09', 'CS/IT', '2014', '90.25', '2016', '95.7', '0', '0', '2021', '75', 'Abhilash', 'gcet2005placements@gmail.com', '9391312121']\n",
      "['Rohit NSS', 'nssrohit44@gmail.com', 'Geethanjali College of Engineering and Technology, Hyderabad', 'Male', '8.98E+09', 'CS/IT', '2015', '97', '2017', '95.7', '0', '0', '2021', '83.6', 'Abhilash', 'gcet2005placements@gmail.com', '9391312121']\n",
      "['Vineeth Datta', 'k.v.datta.3091999@gmail.com', 'Geethanjali College of Engineering and Technology, Hyderabad', 'Male', '9.70E+09', 'CS/IT', '2015', '82.6', '2017', '86.5', '0', '0', '2021', '76.4', 'Abhilash', 'gcet2005placements@gmail.com', '9391312121']\n",
      "['Sahithya Gade', 'sahithya.kirani@gmail.com', 'Geethanjali College of Engineering and Technology, Hyderabad', 'Female', '9.58E+09', 'CS/IT', '2015', '97', '2017', '93.8', '0', '0', '2021', '85.21', 'Abhilash', 'gcet2005placements@gmail.com', '9391312121']\n",
      "['Sravyasri Sirikonda', 'srvsirikonda@gmail.com', 'Geethanjali College of Engineering and Technology, Hyderabad', 'Female', '6.30E+09', 'CS/IT', '2015', '90', '2017', '91', '0', '0', '2021', '77', 'Abhilash', 'gcet2005placements@gmail.com', '9391312121']\n",
      "['Harsha Vardhan', 'harshavardhanrebba@gmail.com', 'Geethanjali College of Engineering and Technology, Hyderabad', 'Male', '8.64E+09', 'CS/IT', '2015', '88', '2017', '96', '0', '0', '2021', '78.09', 'Abhilash', 'gcet2005placements@gmail.com', '9391312121']\n",
      "['Aniudh Chowdary', 'anirudhchowdary123@gmail.com', 'Geethanjali College of Engineering and Technology, Hyderabad', 'Male', '7.21E+09', 'CS/IT', '2014', '97', '2016', '90', '0', '0', '2021', '87', 'Abhilash', 'gcet2005placements@gmail.com', '9391312121']\n",
      "['Kartheek Bayyapuneedi', 'muralikartheek23@gmail.com', 'Geethanjali College of Engineering and Technology, Hyderabad', 'Male', '8.18E+09', 'CS/IT', '2015', '85.5', '2017', '89.4', '0', '0', '2021', '80', 'Abhilash', 'gcet2005placements@gmail.com', '9391312121']\n",
      "['Vishnu Vardhan', 'vishnuvardhan9183@gmail.com', 'Geethanjali College of Engineering and Technology, Hyderabad', 'Male', '9.38E+09', 'CS/IT', '2015', '96', '2017', '96.1', '0', '0', '2021', '86.26', 'Abhilash', 'gcet2005placements@gmail.com', '9391312121']\n",
      "['Abhinav Reddy', 'abhinav669901@gmail.com', 'Geethanjali College of Engineering and Technology, Hyderabad', 'Male', '8.69E+09', 'CS/IT', '2015', '88', '2017', '97', '0', '0', '2021', '76.7', 'Abhilash', 'gcet2005placements@gmail.com', '9391312121']\n",
      "['Vainala Anooshma', 'anooshmavainala@gmail.com', 'Geethanjali College of Engineering and Technology, Hyderabad', 'Female', '9.68E+09', 'CS/IT', '2015', '93', '2017', '90.6', '0', '0', '2021', '77', 'Abhilash', 'gcet2005placements@gmail.com', '9391312121']\n",
      "['Tarun Sowrikar', 'tarun.sowrikar@gmail.com', 'Geethanjali College of Engineering and Technology, Hyderabad', 'Male', '9.12E+09', 'CS/IT', '2015', '97', '2017', '97.5', '0', '0', '2021', '89.2', 'Abhilash', 'gcet2005placements@gmail.com', '9391312121']\n",
      "['Sanjana Reddy', 'sanjana.singireddy@gmail.com', 'Geethanjali College of Engineering and Technology, Hyderabad', 'Female', '9.70E+09', 'CS/IT', '2015', '91', '2017', '86.7', '0', '0', '2021', '76.07', 'Abhilash', 'gcet2005placements@gmail.com', '9391312121']\n",
      "['Ghais Rahman', 'ghaiss5@yahoo.com', 'Geethanjali College of Engineering and Technology, Hyderabad', 'Male', '8.14E+09', 'CS/IT', '2015', '78', '2017', '80.6', '0', '0', '2021', '62.1', 'Abhilash', 'gcet2005placements@gmail.com', '9391312121']\n",
      "['LaxmiMeghana Bharthipudi', 'meghanabharthipudi14@gmail.com', 'Geethanjali College of Engineering and Technology, Hyderabad', 'Female', '8.25E+09', 'CS/IT', '2015', '78', '2017', '85', '0', '0', '2021', '78.3', 'Abhilash', 'gcet2005placements@gmail.com', '9391312121']\n",
      "['Rohith Shetty', 'prohithshetty@gmail.com', \"St. Martin's Engineering College, Hyderabad\", 'Male', '7.10E+09', 'CS/IT', '2015', '88.35', '2017', '96.7', '0', '0', '2021', '71.63', 'P Sridevi', 'tpo.smec@gmail.com', '9121345666 /9705133339']\n",
      "['ROHITH REDDY', 'rohith.kashireddy@gmail.com', \"St. Martin's Engineering College, Hyderabad\", 'Male', '9.10E+09', 'CS/IT', '2015', '93', '2017', '97.4', '0', '0', '2021', '76.47', 'P Sridevi', 'tpo.smec@gmail.com', '9121345666 /9705133339']\n",
      "['Ashwitha Talakokkula', 'ashwithatalakokkula@gmail.com', \"St. Martin's Engineering College, Hyderabad\", 'Female', '8.90E+09', 'CS/IT', '2015', '80.75', '2017', '94', '0', '0', '2021', '70', 'P Sridevi', 'tpo.smec@gmail.com', '9121345666 /9705133339']\n",
      "['Amith Krishna', 'amithkrish555@gmail.com', \"St. Martin's Engineering College, Hyderabad\", 'Male', '7.21E+09', 'CS/IT', '2015', '85', '2017', '95.4', '0', '0', '2021', '68.6', 'P Sridevi', 'tpo.smec@gmail.com', '9121345666 /9705133339']\n",
      "['Vemula Bhoomika', 'bhoomikavemula@gmail.com', \"St. Martin's Engineering College, Hyderabad\", 'Female', '6.30E+09', 'CS/IT', '2015', '92', '2017', '94.4', '0', '0', '2021', '70', 'P Sridevi', 'tpo.smec@gmail.com', '9121345666 /9705133339']\n",
      "['KOTHAPALLI SAISRIRAM', 'saisriramkothapalli007@gmail.com', \"St. Martin's Engineering College, Hyderabad\", 'Male', '7.98E+09', 'CS/IT', '2015', '85', '2017', '95.6', '0', '0', '2021', '71.82', 'P Sridevi', 'tpo.smec@gmail.com', '9121345666 /9705133339']\n",
      "['Singam Maneesha', 'singam.maneesha232@gmail.com', \"St. Martin's Engineering College, Hyderabad\", 'Female', '9.62E+09', 'CS/IT', '2015', '92', '2017', '97.9', '0', '0', '2021', '72.77', 'P Sridevi', 'tpo.smec@gmail.com', '9121345666 /9705133339']\n",
      "['Rohan Katkam', 'rohankatkam1698@gmail.com', \"St. Martin's Engineering College, Hyderabad\", 'Male', '9.62E+09', 'CS/IT', '2015', '66', '0', '0', '2017', '77', '2021', '65.8', 'P Sridevi', 'tpo.smec@gmail.com', '9121345666 /9705133339']\n",
      "['Sripriya Sri', 'dandamrajusrirpiya07@gmail.com', \"St. Martin's Engineering College, Hyderabad\", 'Female', '8.25E+09', 'CS/IT', '2015', '98', '2017', '97', '0', '0', '2021', '73', 'P Sridevi', 'tpo.smec@gmail.com', '9121345666 /9705133339']\n",
      "['Akanksha Garipelli', 'garipellivenkatlaxmi@gmail.com', \"St. Martin's Engineering College, Hyderabad\", 'Female', '6.28E+09', 'CS/IT', '2015', '93', '2017', '94.5', '0', '0', '2021', '72', 'P Sridevi', 'tpo.smec@gmail.com', '9121345666 /9705133339']\n",
      "['LOHAN VADDEPALLY', 'lohanvaddepally777@gmail.com', \"St. Martin's Engineering College, Hyderabad\", 'Male', '7.99E+09', 'CS/IT', '2015', '94', '2017', '92.7', '0', '0', '2021', '61', 'P Sridevi', 'tpo.smec@gmail.com', '9121345666 /9705133339']\n",
      "['Ponnala RajeshKumar', 'rajeshkumarponnala.1999@gmail.com', \"St. Martin's Engineering College, Hyderabad\", 'Male', '7.80E+09', 'CS/IT', '2015', '90', '2017', '92.3', '0', '0', '2021', '67.45', 'P Sridevi', 'tpo.smec@gmail.com', '9121345666 /9705133339']\n",
      "['Akanksha Velanky', 'aakulu99@gmail.com', \"St. Martin's Engineering College, Hyderabad\", 'Female', '9.91E+09', 'CS/IT', '2015', '93', '2017', '93', '0', '0', '2021', '64.6', 'P Sridevi', 'tpo.smec@gmail.com', '9121345666 /9705133339']\n",
      "['Akash Rawat', 'rawatakash678@gmail.com', \"St. Martin's Engineering College, Hyderabad\", 'Male', '7.78E+09', 'CS/IT', '2015', '81.7', '2017', '74.56', '0', '0', '2021', '70.1', 'P Sridevi', 'tpo.smec@gmail.com', '9121345666 /9705133339']\n",
      "['ARVIND CHARY', 'arvind.chary1999@gmail.com', \"St. Martin's Engineering College, Hyderabad\", 'Male', '9.11E+09', 'CS/IT', '2015', '95', '2017', '94', '0', '0', '2021', '72', 'P Sridevi', 'tpo.smec@gmail.com', '9121345666 /9705133339']\n",
      "['Terala Ramya', 'ramyaterala31@gmail.com', \"St. Martin's Engineering College, Hyderabad\", 'Female', '9.52E+09', 'CS/IT', '2015', '92', '2017', '95.7', '0', '0', '2021', '78.7', 'P Sridevi', 'tpo.smec@gmail.com', '9121345666 /9705133339']\n",
      "['Raja Shekar', 'rajashekar04798@gmail.com', \"St. Martin's Engineering College, Hyderabad\", 'Male', '9.99E+09', 'CS/IT', '2015', '92.15', '2017', '92.9', '0', '0', '2021', '67.45', 'P Sridevi', 'tpo.smec@gmail.com', '9121345666 /9705133339']\n",
      "['Sana Naaz', 'sana08naaz@gmail.com', \"St. Martin's Engineering College, Hyderabad\", 'Female', '6.30E+09', 'CS/IT', '2015', '92.15', '2017', '90', '0', '0', '2021', '60', 'P Sridevi', 'tpo.smec@gmail.com', '9121345666 /9705133339']\n",
      "['Venkat Snehith', 'venkatsnehith@gmail.com', \"St. Martin's Engineering College, Hyderabad\", 'Male', '8.33E+09', 'CS/IT', '2015', '85', '2017', '78', '0', '0', '2021', '60.42', 'P Sridevi', 'tpo.smec@gmail.com', '9121345666 /9705133339']\n",
      "['Medida Harshini', 'sriharshini0606@gmail.com', \"St. Martin's Engineering College, Hyderabad\", 'Female', '9.12E+09', 'CS/IT', '2015', '83', '2017', '90', '0', '0', '2021', '58.9', 'P Sridevi', 'tpo.smec@gmail.com', '9121345666 /9705133339']\n",
      "['Sheela Dusa', 'sheeladusa9@gmail.com', \"St. Martin's Engineering College, Hyderabad\", 'Female', '6.30E+09', 'CS/IT', '2015', '88', '2017', '89.5', '0', '0', '2021', '68', 'P Sridevi', 'tpo.smec@gmail.com', '9121345666 /9705133339']\n",
      "['Saba Sowmya', 'sowmyapatel1999@gmail.com', \"St. Martin's Engineering College, Hyderabad\", 'Female', '9.10E+09', 'CS/IT', '2015', '88.35', '2017', '96', '0', '0', '2021', '67.43', 'P Sridevi', 'tpo.smec@gmail.com', '9121345666 /9705133339']\n",
      "['Vedha Kalyan', 'vedhakalyan20145@gmail.com', \"St. Martin's Engineering College, Hyderabad\", 'Male', '9.13E+09', 'CS/IT', '2015', '85.5', '2017', '92.1', '0', '0', '2021', '60', 'P Sridevi', 'tpo.smec@gmail.com', '9121345666 /9705133339']\n",
      "['Rohan Raj', 'rohanraj6810@gmail.com', \"St. Martin's Engineering College, Hyderabad\", 'Male', '9.12E+09', 'CS/IT', '2015', '78.85', '2017', '90.6', '0', '0', '2021', '62.03', 'P Sridevi', 'tpo.smec@gmail.com', '9121345666 /9705133339']\n",
      "['SINDHUJA R', 'ranipetsindhujareddy@gmail.com', \"St. Martin's Engineering College, Hyderabad\", 'Female', '8.10E+09', 'CS/IT', '2015', '68.4', '2017', '96', '0', '0', '2021', '69.35', 'P Sridevi', 'tpo.smec@gmail.com', '9121345666 /9705133339']\n",
      "['Venkannagari Athiksha', 'athiksha08@gmail.com', \"St. Martin's Engineering College, Hyderabad\", 'Female', '9.60E+09', 'CS/IT', '2015', '87', '2017', '95.1', '0', '0', '2021', '71', 'P Sridevi', 'tpo.smec@gmail.com', '9121345666 /9705133339']\n",
      "['Mohith Bundey', 'mohithbundey@gmail.com', \"St. Martin's Engineering College, Hyderabad\", 'Male', '8.37E+09', 'CS/IT', '2014', '85', '2017', '84.6', '0', '0', '2021', '59.85', 'P Sridevi', 'tpo.smec@gmail.com', '9121345666 /9705133339']\n",
      "['Odnam Chakradhar', 'chakra0500@gmail.com', \"St. Martin's Engineering College, Hyderabad\", 'Male', '9.95E+09', 'CS/IT', '2015', '75', '2017', '70', '0', '0', '2021', '60', 'P Sridevi', 'tpo.smec@gmail.com', '9121345666 /9705133339']\n",
      "['SHIKAKOLLI SANDEEP', 'shikakollisandeep645@gmail.com', \"St. Martin's Engineering College, Hyderabad\", 'Male', '9.67E+09', 'CS/IT', '2015', '68', '2017', '84.3', '0', '0', '2021', '63.08', 'P Sridevi', 'tpo.smec@gmail.com', '9121345666 /9705133339']\n",
      "['Rajeshwar Adarla', 'adarlanani01@gmail.com', \"St. Martin's Engineering College, Hyderabad\", 'Male', '8.37E+09', 'CS/IT', '2015', '83', '2017', '87', '0', '0', '2021', '69.72', 'P Sridevi', 'tpo.smec@gmail.com', '9121345666 /9705133339']\n",
      "['NIKHIL REDDY', 'nikhilreddy0803@gmail.com', \"St. Martin's Engineering College, Hyderabad\", 'Male', '8.14E+09', 'CS/IT', '2015', '87.4', '2017', '97.5', '0', '0', '2021', '81.7', 'P Sridevi', 'tpo.smec@gmail.com', '9121345666 /9705133339']\n",
      "['Abhishek Jena', 'abhishekjena93@gmail.com', \"St. Martin's Engineering College, Hyderabad\", 'Male', '8.18E+09', 'CS/IT', '2014', '87.4', '2016', '87.6', '0', '0', '2021', '66.56', 'P Sridevi', 'tpo.smec@gmail.com', '9121345666 /9705133339']\n",
      "['J Pravalika', 'pravalikasri599@gmail.com', \"St. Martin's Engineering College, Hyderabad\", 'Female', '9.06E+09', 'CS/IT', '2015', '83', '2017', '96.5', '0', '0', '2021', '73', 'P Sridevi', 'tpo.smec@gmail.com', '9121345666 /9705133339']\n",
      "['Jahnavi Reddy', 'mattajahnavireddy@gmail.com', \"St. Martin's Engineering College, Hyderabad\", 'Female', '9.91E+09', 'CS/IT', '2015', '88.35', '2017', '96.2', '0', '0', '2021', '67.5', 'P Sridevi', 'tpo.smec@gmail.com', '9121345666 /9705133339']\n",
      "['LAVANYA PRODDUTURI', 'prodduturilavanya699@gmail.com', \"St. Martin's Engineering College, Hyderabad\", 'Female', '9.12E+09', 'CS/IT', '2015', '91', '2017', '95', '0', '0', '2021', '73.53', 'P Sridevi', 'tpo.smec@gmail.com', '9121345666 /9705133339']\n",
      "['PALUTLA HARISH', 'palutlaharish555@gmail.com', 'CMR Engineering College (CMREC), Hyderabad', 'Male', '7.33E+09', 'CS/IT', '2015', '85', '2017', '95', '0', '0', '2021', '70', 'Himabindu', 'placements@cmrgroup.org', '9704409222']\n",
      "['Deekshith Kumar', '178r1a1203@gmail.com', 'CMR Engineering College (CMREC), Hyderabad', 'Male', '6.31E+09', 'CS/IT', '2015', '73', '2017', '85', '0', '0', '2021', '65', 'Himabindu', 'placements@cmrgroup.org', '9704409222']\n",
      "['Sreekar Etekela', 'etekelasreekar@gmail.com', 'CMR Engineering College (CMREC), Hyderabad', 'Male', '7.70E+09', 'CS/IT', '2015', '80', '2017', '72', '0', '0', '2021', '78', 'Himabindu', 'placements@cmrgroup.org', '9704409222']\n",
      "['Singireddy Nikithareddy', 'singireddynikitha38@gmail.com', 'CMR Engineering College (CMREC), Hyderabad', 'Female', '8.00E+09', 'CS/IT', '2015', '92', '2017', '93', '0', '0', '2021', '70', 'Himabindu', 'placements@cmrgroup.org', '9704409222']\n",
      "['Tankasala Saiteja', 'tankasalateja@gmail.com', 'CMR Engineering College (CMREC), Hyderabad', 'Male', '7.03E+09', 'CS/IT', '2015', '89', '2017', '83', '0', '0', '2021', '65', 'Himabindu', 'placements@cmrgroup.org', '9704409222']\n",
      "['ChinthaMahitha Reddy', 'mahithareddy7529@gmail.com', 'CMR Engineering College (CMREC), Hyderabad', 'Female', '8.00E+09', 'CS/IT', '2015', '90', '2017', '93', '0', '0', '2021', '65', 'Himabindu', 'placements@cmrgroup.org', '9704409222']\n",
      "['Pegallapatinagasai Akhil', 'pnagasai11@gmail.com', 'CMR Engineering College (CMREC), Hyderabad', 'Male', '8.79E+09', 'CS/IT', '2015', '90', '2017', '89.8', '0', '0', '2021', '70', 'Himabindu', 'placements@cmrgroup.org', '9704409222']\n",
      "['Biradhar Kavyareddy', 'kavyareddy96419@gmail.com', 'CMR Engineering College (CMREC), Hyderabad', 'Female', '8.31E+09', 'CS/IT', '2015', '72', '2017', '78', '0', '0', '2021', '65', 'Himabindu', 'placements@cmrgroup.org', '9704409222']\n",
      "['Keesari Nithinkumar', 'keesarinithinkumar@gmail.com', 'CMR Engineering College (CMREC), Hyderabad', 'Male', '9.53E+09', 'CS/IT', '2014', '87', '2016', '70', '0', '0', '2021', '64.99', 'Himabindu', 'placements@cmrgroup.org', '9704409222']\n",
      "['Keshav Jha', 'jhakeshav610@gmail.com', 'CMR Engineering College (CMREC), Hyderabad', 'Male', '8.52E+09', 'CS/IT', '2014', '97', '2016', '95', '0', '0', '2021', '70', 'Himabindu', 'placements@cmrgroup.org', '9704409222']\n",
      "['MaheshRao Kokkirala', 'maheshrao2508@gmail.com', 'CMR Engineering College (CMREC), Hyderabad', 'Male', '9.70E+09', 'CS/IT', '2015', '81', '2017', '92', '0', '0', '2021', '65', 'Himabindu', 'placements@cmrgroup.org', '9704409222']\n",
      "['Dhyuthi Sirigiri', 'dhyuthisirigiri99@gmail.com', 'CMR Engineering College (CMREC), Hyderabad', 'Female', '8.25E+09', 'CS/IT', '2015', '79.1', '2017', '67.26', '0', '0', '2021', '69.05', 'Himabindu', 'placements@cmrgroup.org', '9704409222']\n",
      "['Monica Dantu', 'monicadantu@gmail.com', 'CMR Engineering College (CMREC), Hyderabad', 'Female', '9.85E+09', 'CS/IT', '2015', '90', '2017', '70', '0', '0', '2021', '60', 'Himabindu', 'placements@cmrgroup.org', '9704409222']\n",
      "['VenkataSaiRaviTeja Pakanati', 'pvsrteja77@gmail.com', 'CMR Engineering College (CMREC), Hyderabad', 'Male', '9.49E+09', 'CS/IT', '2015', '83', '2017', '88', '0', '0', '2021', '70', 'Himabindu', 'placements@cmrgroup.org', '9704409222']\n",
      "['Hemanth Kanneti', 'kanni0712@gmail.com', 'CMR Engineering College (CMREC), Hyderabad', 'Male', '9.40E+09', 'CS/IT', '2015', '90', '2017', '96', '0', '0', '2021', '77', 'Himabindu', 'placements@cmrgroup.org', '9704409222']\n",
      "['Akaash Pandey', 'akashpandey4557@gmail.com', 'CMR College of Engineering and Technology (CMRCET), Hyderabad', 'Male', '8.00E+09', 'CS/IT', '2014', '70', '2016', '78', '0', '0', '2021', '65', 'Himabindu', 'placements@cmrgroup.org', '9704409222']\n",
      "['SAIMANIKANTA MANGEENA', 'manikantamani5566@gmail.com', 'CMR College of Engineering and Technology (CMRCET), Hyderabad', 'Male', '7.09E+09', 'CS/IT', '2015', '90', '2017', '91', '0', '0', '2021', '78', 'Himabindu', 'placements@cmrgroup.org', '9704409222']\n",
      "['Sagar Gangani', 'ganganisagar33@gmail.com', 'CMR College of Engineering and Technology (CMRCET), Hyderabad', 'Male', '8.46E+09', 'CS/IT', '2015', '79', '2017', '85', '0', '0', '2021', '81', 'Himabindu', 'placements@cmrgroup.org', '9704409222']\n",
      "['Shivasai Yembari', 'shivasaiyembari@gmail.com', 'CMR College of Engineering and Technology (CMRCET), Hyderabad', 'Male', '7.80E+09', 'CS/IT', '2015', '95', '2017', '95', '0', '0', '2021', '75', 'Himabindu', 'placements@cmrgroup.org', '9704409222']\n",
      "['Goparapu VamshiKrishna', 'vamshik661@gmail.com', 'CMR Institute of Technology (CMRIT), Hyderabad', 'Male', '9.85E+09', 'CS/IT', '2015', '90.25', '2017', '95.8', '0', '0', '2021', '80', 'Himabindu', 'placements@cmrgroup.org', '9704409222']\n",
      "['Kalakonda Haripriya', 'kalakondaharipriya@gmail.com', 'CMR Institute of Technology (CMRIT), Hyderabad', 'Female', '9.95E+09', 'CS/IT', '2015', '87', '2017', '74.9', '0', '0', '2021', '70', 'Himabindu', 'placements@cmrgroup.org', '9704409222']\n",
      "['MAKTHALA SAIARJUN', 'makthala.arjun@gmail.com', 'CMR Institute of Technology (CMRIT), Hyderabad', 'Male', '8.64E+09', 'CS/IT', '2015', '92.15', '2017', '93', '0', '0', '2021', '74.44', 'Himabindu', 'placements@cmrgroup.org', '9704409222']\n",
      "['Koppulavenkat Suhashanreddy', 'laddu99899@gmail.com', 'CMR Institute of Technology (CMRIT), Hyderabad', 'Male', '9.99E+09', 'CS/IT', '2015', '90', '2017', '70', '0', '0', '2021', '65', 'Himabindu', 'placements@cmrgroup.org', '9704409222']\n",
      "['APURVA VIKRAMA', 'apurvamaddikera@gmail.com', 'CMR Institute of Technology (CMRIT), Hyderabad', 'Female', '8.11E+09', 'CS/IT', '2015', '93', '2017', '80', '0', '0', '2021', '70', 'Himabindu', 'placements@cmrgroup.org', '9704409222']\n",
      "['Sai Sriram', 'saisriram17@gmail.com', 'CMR Institute of Technology (CMRIT), Hyderabad', 'Male', '7.42E+09', 'CS/IT', '2015', '77', '2017', '60', '0', '0', '2021', '60', 'Himabindu', 'placements@cmrgroup.org', '9704409222']\n",
      "['Devidas Jadhav', 'jadhavdevidas777@gmail.com', 'CMR Institute of Technology (CMRIT), Hyderabad', 'Male', '8.01E+09', 'CS/IT', '2015', '74.1', '2017', '92.6', '0', '0', '2021', '72.4', 'Himabindu', 'placements@cmrgroup.org', '9704409222']\n",
      "['Revanth Goud', 'revanthgoud315@gmail.com', 'CMR Institute of Technology (CMRIT), Hyderabad', 'Male', '9.96E+09', 'CS/IT', '2015', '83.6', '2017', '95.3', '0', '0', '2021', '68.4', 'Himabindu', 'placements@cmrgroup.org', '9704409222']\n",
      "['Bollam Pranay', 'pranaybollam.99@gmail.com', 'CMR Institute of Technology (CMRIT), Hyderabad', 'Male', '8.98E+09', 'CS/IT', '2015', '82', '2017', '84', '0', '0', '2021', '71', 'Himabindu', 'placements@cmrgroup.org', '9704409222']\n",
      "['THIPPARAPU NAGARAJU', '17r01a05h0@gmail.com', 'CMR Institute of Technology (CMRIT), Hyderabad', 'Male', '9.70E+09', 'CS/IT', '2015', '88.35', '2017', '88.4', '0', '0', '2021', '74.9', 'Himabindu', 'placements@cmrgroup.org', '9704409222']\n",
      "['Kandukuri Aravind', 'kandukuriaravind99@gmail.com', 'CMR Institute of Technology (CMRIT), Hyderabad', 'Male', '9.68E+09', 'CS/IT', '2015', '80', '2017', '88.1', '0', '0', '2021', '70', 'Himabindu', 'placements@cmrgroup.org', '9704409222']\n",
      "['Varun Kalyan', 'vkgot95@gmail.com', 'CMR Institute of Technology (CMRIT), Hyderabad', 'Male', '9.49E+09', 'CS/IT', '2015', '85.5', '2017', '74', '0', '0', '2021', '63', 'Himabindu', 'placements@cmrgroup.org', '9704409222']\n",
      "['RAKESH DEVARAKONDA', 'rakeshr402@gmail.com', 'CMR Institute of Technology (CMRIT), Hyderabad', 'Male', '8.71E+09', 'CS/IT', '2015', '82.6', '2017', '92.4', '0', '0', '2021', '76', 'Himabindu', 'placements@cmrgroup.org', '9704409222']\n",
      "['Harshanand Halwale', 'halwaleharshanand@gmail.com', 'CMR Institute of Technology (CMRIT), Hyderabad', 'Male', '9.64E+09', 'CS/IT', '2015', '90', '2017', '88', '0', '0', '2021', '64', 'Himabindu', 'placements@cmrgroup.org', '9704409222']\n",
      "['Sampath Reddy', 'ksreddy1602@gmail.com', 'CMR Institute of Technology (CMRIT), Hyderabad', 'Male', '8.01E+09', 'CS/IT', '2015', '75', '0', '0', '2018', '78', '2021', '66', 'Himabindu', 'placements@cmrgroup.org', '9704409222']\n",
      "['Vara Prasad', 'nvaraprasad234@gmail.com', 'CMR Institute of Technology (CMRIT), Hyderabad', 'Male', '9.49E+09', 'CS/IT', '2015', '92.15', '2017', '96.2', '0', '0', '2021', '78', 'Himabindu', 'placements@cmrgroup.org', '9704409222']\n",
      "['ANNAM AKSHITHA', 'annamakshitha2@gmail.com', 'CMR Institute of Technology (CMRIT), Hyderabad', 'Female', '9.10E+09', 'CS/IT', '2015', '93', '2017', '93', '0', '0', '2021', '76', 'Himabindu', 'placements@cmrgroup.org', '9704409222']\n",
      "['Sai Pratham', 'prathamsai071@gmail.com', 'CMR Institute of Technology (CMRIT), Hyderabad', 'Male', '8.79E+09', 'CS/IT', '2015', '93', '2017', '92.3', '0', '0', '2021', '81', 'Himabindu', 'placements@cmrgroup.org', '9704409222']\n",
      "['Saishakrithika Culli', 'saishaculli@gmail.com', 'CMR Technical Campus (CMRTC), Hyderabad', 'Female', '8.64E+09', 'CS/IT', '2015', '93.1', '2017', '91.9', '0', '0', '2021', '70', 'Himabindu', 'placements@cmrgroup.org', '9704409222']\n",
      "['SAIKRISHNA MANNEPALLI', '177r1a05f9@gmail.com', 'CMR Technical Campus (CMRTC), Hyderabad', 'Male', '9.01E+09', 'CS/IT', '2015', '85', '2017', '82.1', '0', '0', '2021', '65', 'Himabindu', 'placements@cmrgroup.org', '9704409222']\n",
      "['VARANGANTI SHIVAKUMAR', '177r1a05h2@gmail.com', 'CMR Technical Campus (CMRTC), Hyderabad', 'Male', '8.19E+09', 'CS/IT', '2015', '87', '2017', '94', '0', '0', '2021', '70', 'Himabindu', 'placements@cmrgroup.org', '9704409222']\n",
      "['C Sairam', 'sairam170505@gmail.com', 'CMR Technical Campus (CMRTC), Hyderabad', 'Male', '9.12E+09', 'CS/IT', '2015', '90', '2017', '95', '0', '0', '2021', '70', 'Himabindu', 'placements@cmrgroup.org', '9704409222']\n",
      "['Pramod Reddy', 'pramodreddy170515@gmail.com', 'CMR Technical Campus (CMRTC), Hyderabad', 'Male', '9.39E+09', 'CS/IT', '2015', '95', '2017', '72', '0', '0', '2021', '70', 'Himabindu', 'placements@cmrgroup.org', '9704409222']\n",
      "['Anshika Nill', 'vermaanshika599@gmail.com', 'CMR Technical Campus (CMRTC), Hyderabad', 'Female', '8.33E+09', 'CS/IT', '2015', '90', '2017', '70.04', '0', '0', '2021', '70', 'Himabindu', 'placements@cmrgroup.org', '9704409222']\n",
      "['Ashish Dalal', 'ashish1705d2@gmail.com', 'CMR Technical Campus (CMRTC), Hyderabad', 'Male', '9.68E+09', 'CS/IT', '2015', '72', '2017', '75', '0', '0', '2021', '69', 'Himabindu', 'placements@cmrgroup.org', '9704409222']\n",
      "['Sneha Chilla', '177r1a0569@gmail.com', 'CMR Technical Campus (CMRTC), Hyderabad', 'Female', '8.79E+09', 'CS/IT', '2015', '96', '2017', '67', '0', '0', '2021', '65', 'Himabindu', 'placements@cmrgroup.org', '9704409222']\n",
      "['Bhavana Goud', 'bhavanagoudr@gmail.com', 'CMR Technical Campus (CMRTC), Hyderabad', 'Female', '9.85E+09', 'CS/IT', '2015', '92', '2017', '96', '0', '0', '2021', '73.5', 'Himabindu', 'placements@cmrgroup.org', '9704409222']\n",
      "['Prathik Reddy', 'prathikreddyc11@gmail.com', 'CMR Technical Campus (CMRTC), Hyderabad', 'Male', '9.87E+09', 'CS/IT', '2015', '85', '2017', '89', '0', '0', '2021', '70', 'Himabindu', 'placements@cmrgroup.org', '9704409222']\n",
      "['Anirudh Ankem', 'anirudh171201@gmail.com', 'CMR Technical Campus (CMRTC), Hyderabad', 'Male', '9.99E+09', 'CS/IT', '2015', '87.4', '2017', '84', '0', '0', '2021', '67', 'Himabindu', 'placements@cmrgroup.org', '9704409222']\n",
      "['Razzak Abdul', 'abdulrazzak17o5g7@gmail.com', 'CMR Technical Campus (CMRTC), Hyderabad', 'Male', '7.84E+09', 'CS/IT', '2015', '75', '2017', '92', '0', '0', '2021', '61', 'Himabindu', 'placements@cmrgroup.org', '9704409222']\n",
      "['Gampala Ramlikhith', 'ramlikhithgampala@gmail.com', 'CMR Technical Campus (CMRTC), Hyderabad', 'Male', '9.01E+09', 'CS/IT', '2015', '90', '2017', '84', '0', '0', '2021', '68', 'Himabindu', 'placements@cmrgroup.org', '9704409222']\n",
      "['Vantari Akhila', '177r1a05c0@gmail.com', 'CMR Technical Campus (CMRTC), Hyderabad', 'Female', '8.37E+09', 'CS/IT', '2015', '82', '2017', '71.5', '0', '0', '2021', '60', 'Himabindu', 'placements@cmrgroup.org', '9704409222']\n",
      "['Shivani Gutti', 'shivani171210@gmail.com', 'CMR Technical Campus (CMRTC), Hyderabad', 'Female', '9.68E+09', 'CS/IT', '2015', '92', '2017', '94', '0', '0', '2021', '64', 'Himabindu', 'placements@cmrgroup.org', '9704409222']\n",
      "['GODALA SAIKIRAN', '177r1a05e2@gmail.com', 'CMR Technical Campus (CMRTC), Hyderabad', 'Male', '9.71E+09', 'CS/IT', '2015', '92', '2017', '96', '0', '0', '2021', '81', 'Himabindu', 'placements@cmrgroup.org', '9704409222']\n",
      "['BODDUPALLY PRANEETH', 'rockpraneeth1999@gmail.com', 'CMR College of Engineering and Technology (CMRCET), Hyderabad', 'Male', '7.03E+09', 'CS/IT', '2015', '83', '2017', '81.8', '0', '0', '2021', '60', 'Himabindu', 'placements@cmrgroup.org', '9704409222']\n",
      "['Porika Dhanrajnath', 'porikadhanrajnath@gmail.com', 'CMR College of Engineering and Technology (CMRCET), Hyderabad', 'Male', '7.99E+09', 'CS/IT', '2015', '87.03', '2017', '89.77', '0', '0', '2021', '83.3', 'Himabindu', 'placements@cmrgroup.org', '9704409222']\n",
      "['Shazia Sultana', 'shazi.smart09@gmail.com', 'CMR Institute of Technology (CMRIT), Hyderabad', 'Female', '9.55E+09', 'CS/IT', '2015', '90.25', '2017', '84.4', '0', '0', '2021', '63.5', 'Himabindu', 'placements@cmrgroup.org', '9704409222']\n",
      "['Vamsi Munjuluri', 'nagavamsi694@gmail.com', 'CMR Institute of Technology (CMRIT), Hyderabad', 'Male', '8.89E+09', 'CS/IT', '2015', '87.5', '2017', '79', '0', '0', '2021', '73', 'Himabindu', 'placements@cmrgroup.org', '9704409222']\n",
      "['Vallakati Kalyan', 'kalyansam224@gmail.com', 'CMR Institute of Technology (CMRIT), Hyderabad', 'Male', '9.00E+09', 'CS/IT', '2015', '88', '2017', '88.8', '0', '0', '2021', '74', 'Himabindu', 'placements@cmrgroup.org', '9704409222']\n",
      "['Aravakantha Harikrishna', 'krishnahari195@gmail.com', 'CMR Institute of Technology (CMRIT), Hyderabad', 'Male', '9.55E+09', 'CS/IT', '2015', '80', '2017', '95.4', '0', '0', '2021', '75', 'Himabindu', 'placements@cmrgroup.org', '9704409222']\n",
      "['Yashwanth Kumar', 'yashwanth.415@gmail.com', 'CMR Institute of Technology (CMRIT), Hyderabad', 'Male', '7.80E+09', 'CS/IT', '2015', '78', '2017', '61', '0', '0', '2021', '64', 'Himabindu', 'placements@cmrgroup.org', '9704409222']\n",
      "['Likitha Jupally', 'jupallylikitha99999@gmail.com', 'CMR Institute of Technology (CMRIT), Hyderabad', 'Female', '9.50E+09', 'CS/IT', '2015', '85', '2017', '80', '0', '0', '2021', '70', 'Himabindu', 'placements@cmrgroup.org', '9704409222']\n",
      "['KADECHURI VISHALADIVYA', 'vishaladivya7@gmail.com', 'CMR Institute of Technology (CMRIT), Hyderabad', 'Female', '9.44E+09', 'CS/IT', '2015', '90.25', '0', '0', '2018', '88.76', '2021', '80.6', 'Himabindu', 'placements@cmrgroup.org', '9704409222']\n",
      "['Rajeshwari Ravikumar', 'rlily792@gmail.com', 'CMR Technical Campus (CMRTC), Hyderabad', 'Female', '8.79E+09', 'CS/IT', '2015', '74', '2017', '81', '0', '0', '2021', '65', 'Himabindu', 'placements@cmrgroup.org', '9704409222']\n",
      "['Sumanth Kothamasu', 'sumanthkothamasu@gmail.com', 'CMR Technical Campus (CMRTC), Hyderabad', 'Male', '9.70E+09', 'CS/IT', '2015', '95', '2017', '96', '0', '0', '2021', '75', 'Himabindu', 'placements@cmrgroup.org', '9704409222']\n",
      "['Suraj Jadhav', 'suraj.business0704@gmail.com', \"JSPM's Rajarshi Shahu College of Engineering Tathawade, Pune\", 'Male', '8.98E+09', 'EnTC', '2015', '93.6', '2017', '70.15', '', '', '2021', '68.12', 'Radhika Modi', 'modi.tpo@gmail.com', '7755933085']\n",
      "['Vijaykumar Mahajan', 'vijaykumar316591@gmail.com', \"JSPM's Rajarshi Shahu College of Engineering Tathawade, Pune\", 'Male', '9.97E+09', 'EnTC', '2015', '88.8', '2017', '76.31', '', '', '2021', '78.14', 'Radhika Modi', 'modi.tpo@gmail.com', '7755933085']\n",
      "['Ankita Jagtap', 'ankita.jagtap136@gmail.com', \"JSPM's Rajarshi Shahu College of Engineering Tathawade, Pune\", 'Female', '9.37E+09', 'EnTC', '2015', '90', '2017', '71', '', '', '2021', '67.76', 'Radhika Modi', 'modi.tpo@gmail.com', '7755933085']\n",
      "['Shubhangi Joshi', 'shubhangijoshi510@gmail.com', \"JSPM's Rajarshi Shahu College of Engineering Tathawade, Pune\", 'Female', '7.74E+09', 'EnTC', '2015', '95', '2017', '67.38', '', '', '2021', '69.8', 'Radhika Modi', 'modi.tpo@gmail.com', '7755933085']\n",
      "['Vaishnavi Jadhav', 'vaishnavijadhav67@gmail.com', \"JSPM's Rajarshi Shahu College of Engineering Tathawade, Pune\", 'Female', '9.02E+09', 'EnTC', '2015', '87.4', '2017', '66.67', '', '', '2021', '60.47', 'Radhika Modi', 'modi.tpo@gmail.com', '7755933085']\n",
      "['Anjali Chavan', 'anjalichavan7799@gmail.com', \"JSPM's Rajarshi Shahu College of Engineering Tathawade, Pune\", 'Female', '7.06E+09', 'EnTC', '2015', '84.2', '2017', '66.46', '', '', '2021', '75.41', 'Radhika Modi', 'modi.tpo@gmail.com', '7755933085']\n",
      "['Shubham Selukar', 'shubh98.ss@gmail.com', \"JSPM's Rajarshi Shahu College of Engineering Tathawade, Pune\", 'Male', '7.28E+09', 'EnTC', '2015', '89.7', '', '', '2018', '74.67', '2021', '67.68', 'Radhika Modi', 'modi.tpo@gmail.com', '7755933085']\n",
      "['Yuga Ugle', 'ugleyuga@gmail.com', \"JSPM's Rajarshi Shahu College of Engineering Tathawade, Pune\", 'Female', '9.83E+09', 'EnTC', '2015', '78', '2017', '67.69', '', '', '2021', '66.4', 'Radhika Modi', 'modi.tpo@gmail.com', '7755933085']\n",
      "['Nilesh Kulkarni', 'nileshkulkarni52839@gmail.com', \"JSPM's Rajarshi Shahu College of Engineering Tathawade, Pune\", 'Male', '9.50E+09', 'EnTC', '2015', '95', '2017', '70.15', '', '', '2021', '70.66', 'Radhika Modi', 'modi.tpo@gmail.com', '7755933085']\n",
      "['Shraddha Mundlik', 'shraddhamundlik1999@gmail.com', \"JSPM's Rajarshi Shahu College of Engineering Tathawade, Pune\", 'Female', '8.31E+09', 'EnTC', '2015', '85.4', '', '', '2018', '77.04', '2021', '73.04', 'Radhika Modi', 'modi.tpo@gmail.com', '7755933085']\n",
      "['Samruddhi Mahale', 'mahalesamruddhi7@gmail.com', \"JSPM's Rajarshi Shahu College of Engineering Tathawade, Pune\", 'Female', '9.28E+09', 'EnTC', '2015', '85', '2017', '60', '', '', '2021', '60.72', 'Radhika Modi', 'modi.tpo@gmail.com', '7755933085']\n",
      "['Aditi Patil', 'aditipatil4500@gmail.com', \"JSPM's Rajarshi Shahu College of Engineering Tathawade, Pune\", 'Female', '9.83E+09', 'EnTC', '2015', '88.2', '2017', '90.9', '', '', '2021', '65.11', 'Radhika Modi', 'modi.tpo@gmail.com', '7755933085']\n",
      "['ROHIT BADE', 'rohitbade24@gmail.com', \"JSPM's Rajarshi Shahu College of Engineering Tathawade, Pune\", 'Male', '9.76E+09', 'EnTC', '2015', '80.6', '2017', '66.77', '', '', '2021', '65.34', 'Radhika Modi', 'modi.tpo@gmail.com', '7755933085']\n",
      "['POOJA CHAMLE', 'chamlepooja1999@gmail.com', \"JSPM's Rajarshi Shahu College of Engineering Tathawade, Pune\", 'Female', '9.16E+09', 'EnTC', '2015', '78.6', '', '', '2018', '78.56', '2021', '70.04', 'Radhika Modi', 'modi.tpo@gmail.com', '7755933085']\n",
      "['OMKAR BHOPI', 'omkarbhopi2005@gmail.com', \"JSPM's Rajarshi Shahu College of Engineering Tathawade, Pune\", 'Male', '9.36E+09', 'CS/IT', '2015', '83.4', '2017', '70.77', '', '', '2021', '75.16', 'Radhika Modi', 'modi.tpo@gmail.com', '7755933085']\n",
      "['Vaibhav Patil', 'pvaibhav1999@gmail.com', \"JSPM's Rajarshi Shahu College of Engineering Tathawade, Pune\", 'Male', '7.04E+09', 'CS/IT', '2015', '86.8', '2017', '78.92', '', '', '2021', '79', 'Radhika Modi', 'modi.tpo@gmail.com', '7755933085']\n",
      "['Ankita Manjare', 'ankitamanjare16@gmail.com', \"JSPM's Rajarshi Shahu College of Engineering Tathawade, Pune\", 'Female', '8.18E+09', 'CS/IT', '2014', '90.8', '2017', '71.23', '', '', '2021', '67.87', 'Radhika Modi', 'modi.tpo@gmail.com', '7755933085']\n",
      "['Shubham Sonawane', 'shubham.v.sonawane@gmail.com', \"JSPM's Rajarshi Shahu College of Engineering Tathawade, Pune\", 'Male', '7.06E+09', 'CS/IT', '2015', '66.5', '2017', '60', '', '', '2021', '60', 'Radhika Modi', 'modi.tpo@gmail.com', '7755933085']\n",
      "['Shruti Shinde', 'shrutimukundshinde@gmail.com', \"JSPM's Rajarshi Shahu College of Engineering Tathawade, Pune\", 'Female', '8.61E+09', 'CS/IT', '2015', '78.2', '2017', '71.08', '', '', '2021', '65.12', 'Radhika Modi', 'modi.tpo@gmail.com', '7755933085']\n",
      "['Pranjali Gaikwad', 'pranjalikg1012000@gmail.com', \"JSPM's Rajarshi Shahu College of Engineering Tathawade, Pune\", 'Female', '8.67E+09', 'CS/IT', '2015', '91.2', '2017', '81.23', '', '', '2021', '76.21', 'Radhika Modi', 'modi.tpo@gmail.com', '7755933085']\n",
      "['PREM MAMADGE', 'premmamadge999@gmail.com', \"JSPM's Rajarshi Shahu College of Engineering Tathawade, Pune\", 'Male', '7.35E+09', 'CS/IT', '2015', '91', '2017', '75.85', '', '', '2021', '63', 'Radhika Modi', 'modi.tpo@gmail.com', '7755933085']\n",
      "['Pratiksha Khandagale', 'pratikshakhandagale68@gmail.com', \"JSPM's Rajarshi Shahu College of Engineering Tathawade, Pune\", 'Female', '9.51E+09', 'CS/IT', '2015', '86.8', '2017', '60.92', '', '', '2021', '62.3', 'Radhika Modi', 'modi.tpo@gmail.com', '7755933085']\n",
      "['Payal Waghole', 'payalwaghole123@gmail.com', \"JSPM's Rajarshi Shahu College of Engineering Tathawade, Pune\", 'Female', '7.55E+09', 'CS/IT', '2014', '89.2', '', '', '2017', '84.63', '2021', '70.75', 'Radhika Modi', 'modi.tpo@gmail.com', '7755933085']\n",
      "['Pratik Sagare', 'pratiksagare40@gmail.com', \"JSPM's Rajarshi Shahu College of Engineering Tathawade, Pune\", 'Male', '8.67E+09', 'CS/IT', '2015', '77.4', '', '', '2018', '74.38', '2021', '58.44', 'Radhika Modi', 'modi.tpo@gmail.com', '7755933085']\n",
      "['UJWAL ZOJE', 'ujwalzoje1999@gmail.com', \"JSPM's Rajarshi Shahu College of Engineering Tathawade, Pune\", 'Male', '9.51E+09', 'CS/IT', '2015', '76', '2017', '66', '', '', '2021', '63', 'Radhika Modi', 'modi.tpo@gmail.com', '7755933085']\n",
      "['Mahesh Shirsat', 'mahesh.shirsat.b@gmail.com', \"JSPM's Rajarshi Shahu College of Engineering Tathawade, Pune\", 'Male', '9.37E+09', 'CS/IT', '2015', '73.3', '2017', '62', '', '', '2021', '66.08', 'Radhika Modi', 'modi.tpo@gmail.com', '7755933085']\n",
      "['Harshad Marathe', 'harshadnmarathe@gmail.com', \"JSPM's Rajarshi Shahu College of Engineering Tathawade, Pune\", 'Male', '7.35E+09', 'CS/IT', '2015', '77.8', '2017', '60', '', '', '2021', '67.4', 'Radhika Modi', 'modi.tpo@gmail.com', '7755933085']\n",
      "['Akanksha Bhase', 'ambhase@gmail.com', \"JSPM's Rajarshi Shahu College of Engineering Tathawade, Pune\", 'Female', '7.74E+09', 'CS/IT', '2015', '78.4', '2017', '76.14', '', '', '2021', '71.1', 'Radhika Modi', 'modi.tpo@gmail.com', '7755933085']\n",
      "['Prathmesh Patil', 'prathmesh.patil699@gmail.com', \"JSPM's Rajarshi Shahu College of Engineering Tathawade, Pune\", 'Male', '7.71E+09', 'CS/IT', '2015', '65.4', '', '', '2018', '75.06', '2021', '64.82', 'Radhika Modi', 'modi.tpo@gmail.com', '7755933085']\n",
      "['Siddhi Jamdar', 'siddhijamdar26@gmail.com', \"JSPM's Rajarshi Shahu College of Engineering Tathawade, Pune\", 'Female', '9.86E+09', 'CS/IT', '2015', '88', '2017', '70.77', '', '', '2021', '69.69', 'Radhika Modi', 'modi.tpo@gmail.com', '7755933085']\n",
      "['Pranali Gabale', 'gabalepranali@gmail.com', \"JSPM's Rajarshi Shahu College of Engineering Tathawade, Pune\", 'Female', '8.63E+09', 'CS/IT', '2015', '92.2', '2017', '81.69', '', '', '2021', '79.72', 'Radhika Modi', 'modi.tpo@gmail.com', '7755933085']\n",
      "['Monali Gan', 'monali.gangane@gmail.com', \"JSPM's Rajarshi Shahu College of Engineering Tathawade, Pune\", 'Female', '9.83E+09', 'CS/IT', '2015', '85.6', '2017', '67.54', '', '', '2018', '73.34', 'Radhika Modi', 'modi.tpo@gmail.com', '7755933085']\n",
      "['Shruti Khedkar', 'khedkarshruti411@gmail.com', \"JSPM's Rajarshi Shahu College of Engineering Tathawade, Pune\", 'Female', '9.86E+09', 'CS/IT', '2015', '91', '', '', '2018', '79.38', '2021', '67.76', 'Radhika Modi', 'modi.tpo@gmail.com', '7755933085']\n",
      "['Gaurav Gaur', 'gaurgaurav568@gmail.com', \"JSPM's Rajarshi Shahu College of Engineering Tathawade, Pune\", 'Male', '8.79E+09', 'CS/IT', '2014', '69', '2016', '60.4', '', '', '2021', '62.25', 'Radhika Modi', 'modi.tpo@gmail.com', '7755933085']\n",
      "['Rutuja Sonawane', 'rutujasonawane0512@gmail.com', \"JSPM's Rajarshi Shahu College of Engineering Tathawade, Pune\", 'Female', '7.56E+09', 'CS/IT', '2015', '77', '2017', '68', '', '', '2021', '68', 'Radhika Modi', 'modi.tpo@gmail.com', '7755933085']\n",
      "['SHANTANU DUDHANE', 'shantanududhane4@gmail.com', \"JSPM's Rajarshi Shahu College of Engineering Tathawade, Pune\", 'Male', '9.62E+09', 'CS/IT', '2015', '81', '2017', '67', '', '', '2021', '68', 'Radhika Modi', 'modi.tpo@gmail.com', '7755933085']\n",
      "['Suyog Gatkal', 'suyoggatkal20@gmail.com', \"JSPM's Narhe Technical Campus, Pune\", 'Male', '8.31E+09', 'CS/IT', '2015', '86.6', '2017', '72', '0', '0', '2021', '81.48', 'Sachin Kangutkar', 's.kangutkar@gmail.com', '9822646293']\n",
      "['Kunal Gije', 'kunalgije1999@gmail.com', \"JSPM's Jayawantrao Sawant College of Engineering Hadapsar, Pune\", 'Male', '9.55E+09', 'CS/IT', '2015', '85.2', '0', '0', '2018', '73.7', '2021', '61.03', 'Sachin Kangutkar', 's.kangutkar@gmail.com', '9822646293']\n",
      "['Manisha Dukare', 'manishadukare777@gmail.com', \"JSPM's Jayawantrao Sawant College of Engineering Hadapsar, Pune\", 'Female', '9.85E+09', 'CS/IT', '2014', '92', '2016', '80.31', '0', '0', '2021', '68.11', 'Sachin Kangutkar', 's.kangutkar@gmail.com', '9822646293']\n",
      "['Ayesha Shaikh', 'ayesha.sk707@gmail.com', \"JSPM's Jayawantrao Sawant College of Engineering Hadapsar, Pune\", 'Female', '8.33E+09', 'CS/IT', '2015', '95.8', '2017', '80', '0', '0', '2021', '81.23', 'Sachin Kangutkar', 's.kangutkar@gmail.com', '9822646293']\n",
      "['Dhaval Lakhani', 'dhavallakhani8499@gmail.com', \"JSPM's Narhe Technical Campus, Pune\", 'Male', '7.06E+09', 'CS/IT', '2015', '74', '2017', '64.46', '0', '0', '2021', '59.31', 'Sachin Kangutkar', 's.kangutkar@gmail.com', '9822646293']\n",
      "['Gaurav Katkar', 'gauravkatkar1000@gmail.com', \"JSPM's Jayawantrao Sawant College of Engineering Hadapsar, Pune\", 'Male', '9.60E+09', 'CS/IT', '2015', '92.4', '2017', '69.07', '0', '0', '2021', '65.15', 'Sachin Kangutkar', 's.kangutkar@gmail.com', '9822646293']\n",
      "['Omkar Tikar', 'omkartikar007@gmail.com', \"JSPM's Jayawantrao Sawant College of Engineering Hadapsar, Pune\", 'Male', '9.17E+09', 'CS/IT', '2015', '87.7', '2017', '60', '0', '0', '2021', '70.43', 'Sachin Kangutkar', 's.kangutkar@gmail.com', '9822646293']\n",
      "['Farhan Shaikh', 'farhanshaikh199913@gmail.com', \"JSPM's Jayawantrao Sawant College of Engineering Hadapsar, Pune\", 'Male', '8.83E+09', 'CS/IT', '2015', '90.4', '2017', '78.46', '0', '0', '2021', '66.7', 'Sachin Kangutkar', 's.kangutkar@gmail.com', '9822646293']\n",
      "['Nehul Chaudhari', 'nehulc1011@gmail.com', \"JSPM's Narhe Technical Campus, Pune\", 'Male', '9.82E+09', 'CS/IT', '2015', '73.5', '2017', '67.23', '0', '0', '2021', '66.06', 'Sachin Kangutkar', 's.kangutkar@gmail.com', '9822646293']\n",
      "['Aditya Sharma', 'adityasharma527@gmail.com', \"JSPM's Jayawantrao Sawant College of Engineering Hadapsar, Pune\", 'Male', '8.98E+09', 'CS/IT', '2015', '81', '2017', '76.6', '0', '0', '2021', '63', 'Sachin Kangutkar', 's.kangutkar@gmail.com', '9822646293']\n",
      "['Omkar Bhandar', 'omkarbhandar2856@gmail.com', \"JSPM's Jayawantrao Sawant College of Engineering Hadapsar, Pune\", 'Male', '9.66E+09', 'CS/IT', '2015', '85.8', '2017', '74.77', '0', '0', '2021', '71.02', 'Sachin Kangutkar', 's.kangutkar@gmail.com', '9822646293']\n",
      "['Ashutosh Gulame', 'ashutosh1447@gmail.com', \"JSPM's Jayawantrao Sawant College of Engineering Hadapsar, Pune\", 'Male', '9.28E+09', 'CS/IT', '2015', '90.2', '2017', '77.54', '0', '0', '2021', '78.8', 'Sachin Kangutkar', 's.kangutkar@gmail.com', '9822646293']\n",
      "['TRUPTI PADMAWAR', 'truptipad17@gmail.com', \"JSPM's Narhe Technical Campus, Pune\", 'Female', '7.07E+09', 'CS/IT', '2015', '84.4', '2017', '62.62', '0', '0', '2021', '63.77', 'Sachin Kangutkar', 's.kangutkar@gmail.com', '9822646293']\n",
      "['Amruta Lohar', 'amrutalohar91099@gmail.com', \"JSPM's Jayawantrao Sawant College of Engineering Hadapsar, Pune\", 'Female', '9.89E+09', 'CS/IT', '2015', '83.8', '0', '0', '2018', '88.94', '2021', '70.4', 'Sachin Kangutkar', 's.kangutkar@gmail.com', '9822646293']\n",
      "['VARAD KIRAD', 'varadkirad1999@gmail.com', \"JSPM's Jayawantrao Sawant College of Engineering Hadapsar, Pune\", 'Male', '7.26E+09', 'CS/IT', '2015', '83.8', '2017', '69.23', '0', '0', '2021', '73', 'Sachin Kangutkar', 's.kangutkar@gmail.com', '9822646293']\n",
      "['Devendra Ingale', 'devendraingale2@gmail.com', \"JSPM's Narhe Technical Campus, Pune\", 'Male', '9.52E+09', 'CS/IT', '2015', '92', '2017', '65.85', '0', '0', '2021', '71.89', 'Sachin Kangutkar', 's.kangutkar@gmail.com', '9822646293']\n",
      "['Sourabh Shinde', 'sourabhraje100.ss@gmail.com', \"JSPM's Jayawantrao Sawant College of Engineering Hadapsar, Pune\", 'Male', '9.98E+09', 'CS/IT', '2015', '86.6', '2017', '76.46', '0', '0', '2021', '67.85', 'Sachin Kangutkar', 's.kangutkar@gmail.com', '9822646293']\n",
      "['Sanket Hole', 'sankethole2000@gmail.com', \"JSPM's Jayawantrao Sawant College of Engineering Hadapsar, Pune\", 'Male', '9.07E+09', 'CS/IT', '2015', '89.4', '2017', '66.92', '0', '0', '2021', '68.64', 'Sachin Kangutkar', 's.kangutkar@gmail.com', '9822646293']\n",
      "['Prasad Wakchoure', 'prasad323122@gmail.com', \"JSPM's Jayawantrao Sawant College of Engineering Hadapsar, Pune\", 'Male', '8.18E+09', 'CS/IT', '2015', '84.6', '2017', '73.04', '0', '0', '2021', '65', 'Sachin Kangutkar', 's.kangutkar@gmail.com', '9822646293']\n",
      "['Shruti Gujar', 'gujarshruri36@gmail.com', \"JSPM's Jayawantrao Sawant College of Engineering Hadapsar, Pune\", 'Female', '7.26E+09', 'CS/IT', '2015', '93', '0', '0', '2018', '78', '2021', '70.07', 'Sachin Kangutkar', 's.kangutkar@gmail.com', '9822646293']\n",
      "['Asmita Jadhav', 'asmita111jadhav@gmail.com', \"JSPM's Jayawantrao Sawant College of Engineering Hadapsar, Pune\", 'Female', '7.97E+09', 'CS/IT', '2015', '94.2', '2017', '81.38', '0', '0', '2021', '69', 'Sachin Kangutkar', 's.kangutkar@gmail.com', '9822646293']\n",
      "['Bhushan Dhimate', 'jarvisbhd@gmail.com', \"JSPM's Narhe Technical Campus, Pune\", 'Male', '7.74E+09', 'CS/IT', '2015', '83.4', '2017', '64.31', '0', '0', '2021', '76.47', 'Sachin Kangutkar', 's.kangutkar@gmail.com', '9822646293']\n",
      "['Pranali Patil', 'pranalipatil3620@gmail.com', \"JSPM's Narhe Technical Campus, Pune\", 'Female', '9.83E+09', 'CS/IT', '2015', '93.2', '2017', '71.85', '0', '0', '2021', '70.33', 'Sachin Kangutkar', 's.kangutkar@gmail.com', '9822646293']\n",
      "['Rutuja Kurhade', 'rutukurhade18@gmail.com', \"JSPM's Jayawantrao Sawant College of Engineering Hadapsar, Pune\", 'Female', '8.21E+09', 'CS/IT', '2015', '86.4', '0', '0', '2018', '78.5', '2021', '65', 'Sachin Kangutkar', 's.kangutkar@gmail.com', '9822646293']\n",
      "['Harshal Jaware', 'jspmprct@gmail.com', \"JSPM's Narhe Technical Campus, Pune\", 'Male', '8.70E+09', 'CS/IT', '2014', '65.4', '0', '0', '2018', '72.75', '2021', '64.63', 'Sachin Kangutkar', 's.kangutkar@gmail.com', '9822646293']\n",
      "['Mohammad Qureshi', 'zabeeh1132000@gmail.com', \"JSPM's Jayawantrao Sawant College of Engineering Hadapsar, Pune\", 'Male', '9.17E+09', 'CS/IT', '2015', '78', '2017', '71.69', '0', '0', '2021', '63.36', 'Sachin Kangutkar', 's.kangutkar@gmail.com', '9822646293']\n",
      "['Anurag Mahajan', 'anuragmahajan64@gmail.com', \"JSPM's Jayawantrao Sawant College of Engineering Hadapsar, Pune\", 'Male', '9.07E+09', 'CS/IT', '2015', '90.8', '2017', '74.62', '0', '0', '2021', '68.54', 'Sachin Kangutkar', 's.kangutkar@gmail.com', '9822646293']\n",
      "['Vinayak Dhage', 'vinayakdhage1234@gmail.com', \"JSPM's Narhe Technical Campus, Pune\", 'Male', '7.35E+09', 'CS/IT', '2015', '86.6', '2017', '68', '0', '0', '2021', '73.21', 'Sachin Kangutkar', 's.kangutkar@gmail.com', '9822646293']\n",
      "['Shubhada Surgude', 'shubhadasurgude@gmail.com', \"JSPM's Jayawantrao Sawant College of Engineering Hadapsar, Pune\", 'Female', '9.97E+09', 'CS/IT', '2015', '82.8', '2017', '64', '0', '0', '2021', '63.18', 'Sachin Kangutkar', 's.kangutkar@gmail.com', '9822646293']\n",
      "['Madhura Khetre', 'madhurakhetre622@gmail.com', \"JSPM's Jayawantrao Sawant College of Engineering Hadapsar, Pune\", 'Female', '9.83E+09', 'CS/IT', '2015', '88.2', '2017', '66.31', '0', '0', '2021', '63.2', 'Sachin Kangutkar', 's.kangutkar@gmail.com', '9822646293']\n",
      "['Vishwanath Ukale', 'vishwanathukale99@gmail.com', \"JSPM's Jayawantrao Sawant College of Engineering Hadapsar, Pune\", 'Male', '7.72E+09', 'CS/IT', '2015', '90.8', '2017', '67.38', '0', '0', '2021', '70.06', 'Sachin Kangutkar', 's.kangutkar@gmail.com', '9822646293']\n",
      "['Swapnil Jori', 'swapniljori007@gmail.com', \"JSPM's Narhe Technical Campus, Pune\", 'Male', '8.24E+09', 'CS/IT', '2015', '86.6', '0', '0', '2018', '86.47', '2021', '73.1', 'Sachin Kangutkar', 's.kangutkar@gmail.com', '9822646293']\n",
      "['Prachi Kadam', 'prachikadam1819@gmail.com', \"TSSM's Bhivarabai Sawant College of Engineering and Research Narhe, Pune\", 'Female', '9.28E+09', 'CS/IT', '2015', '92.6', '2017', '83.85', '0', '0', '2021', '77.3', 'Sachin Kangutkar', 's.kangutkar@gmail.com', '9822646293']\n",
      "['Amit Shinde', 'amitcs196@gmail.com', \"TSSM's Bhivarabai Sawant College of Engineering and Research Narhe, Pune\", 'Male', '9.56E+09', 'CS/IT', '2015', '90.2', '2017', '68.92', '0', '0', '2021', '73.68', 'Sachin Kangutkar', 's.kangutkar@gmail.com', '9822646293']\n",
      "['Sohan Chougule', 'chougulesohan1399@gmail.com', \"TSSM's Bhivarabai Sawant College of Engineering and Research Narhe, Pune\", 'Male', '8.48E+09', 'CS/IT', '2015', '79.6', '2017', '63.38', '0', '0', '2021', '68.46', 'Sachin Kangutkar', 's.kangutkar@gmail.com', '9822646293']\n",
      "['Aishwarya Phalke', 'aishwaryaphalke2322@gmail.com', \"JSPM's Narhe Technical Campus, Pune\", 'Female', '9.76E+09', 'CS/IT', '2015', '89.2', '2017', '65.08', '0', '0', '2021', '69.25', 'Sachin Kangutkar', 's.kangutkar@gmail.com', '9822646293']\n",
      "['Jyoti Chaudhary', 'jyotikrjc@gmail.com', \"JSPM's Imperial College of Engineering and Research Wagholi, Pune\", 'Female', '7.03E+09', 'CS/IT', '2015', '93.8', '2017', '83.38', '', '', '2021', '71.6', 'Amol Baviskar', 'baviskar.amol06@gmail.com', '9970842072']\n",
      "['Ketan Pande', 'ketanpande309@gmail.com', \"JSPM's Imperial College of Engineering and Research Wagholi, Pune\", 'Male', '7.03E+09', 'CS/IT', '2015', '93', '2017', '70.84', '', '', '2021', '71.9', 'Amol Baviskar', 'baviskar.amol06@gmail.com', '9970842072']\n",
      "['Amruta Chaher', 'amrutachaher2909@gmail.com', \"JSPM's Bhivarabai Sawant Institute of Technology and Research Wagholi, Pune\", 'Female', '9.76E+09', 'CS/IT', '2015', '89.6', '2017', '68.12', '', '', '2021', '71.45', 'Amol Baviskar', 'baviskar.amol06@gmail.com', '9970842072']\n",
      "['Shruti Daundkar', 'shrutivd135@gmail.com', \"JSPM's Bhivarabai Sawant Institute of Technology and Research Wagholi, Pune\", 'Female', '9.97E+09', 'CS/IT', '2015', '93.2', '', '', '2018', '75.86', '2021', '74.24', 'Amol Baviskar', 'baviskar.amol06@gmail.com', '9970842072']\n",
      "['Darshan Jadhav', 'darshanjadhav0101@gmail.com', \"JSPM's Imperial College of Engineering and Research Wagholi, Pune\", 'Male', '8.81E+09', 'CS/IT', '2014', '80.8', '2016', '61.85', '2018', '78.82', '2021', '60.02', 'Amol Baviskar', 'baviskar.amol06@gmail.com', '9970842072']\n",
      "['Arti Sikhwal', 'arti.sikhwal.2001@gmail.com', \"JSPM's Imperial College of Engineering and Research Wagholi, Pune\", 'Female', '7.03E+09', 'CS/IT', '2015', '80.83', '2017', '66', '', '', '2021', '68.5', 'Amol Baviskar', 'baviskar.amol06@gmail.com', '9970842072']\n",
      "['Avinash Kore', 'avinashkore00001@gmail.com', \"JSPM's Bhivarabai Sawant Institute of Technology and Research Wagholi, Pune\", 'Male', '9.60E+09', 'CS/IT', '2015', '87.4', '2017', '71.8', '', '', '2021', '74.41', 'Amol Baviskar', 'baviskar.amol06@gmail.com', '9970842072']\n",
      "['Atul Yadav', 'atulyadav9021@gmail.com', \"JSPM's Bhivarabai Sawant Institute of Technology and Research Wagholi, Pune\", 'Male', '8.98E+09', 'CS/IT', '2015', '85.5', '2017', '80.6', '', '', '2021', '75.68', 'Amol Baviskar', 'baviskar.amol06@gmail.com', '9970842072']\n",
      "['Akash Vishwakarma', 'beastboy7.7.k@gmail.com', \"JSPM's Bhivarabai Sawant Institute of Technology and Research Wagholi, Pune\", 'Male', '8.33E+09', 'CS/IT', '2015', '70.3', '2017', '69.54', '', '', '2021', '76.29', 'Amol Baviskar', 'baviskar.amol06@gmail.com', '9970842072']\n",
      "['Pooja Bhagat', 'pooja160699@gmail.com', \"JSPM's Imperial College of Engineering and Research Wagholi, Pune\", 'Female', '7.74E+09', 'CS/IT', '2015', '90', '', '', '2018', '82.19', '2021', '79.9', 'Amol Baviskar', 'baviskar.amol06@gmail.com', '9970842072']\n",
      "['Rushikesh Bawake', 'rushi.bawake18@gmail.com', \"JSPM's Imperial College of Engineering and Research Wagholi, Pune\", 'Male', '9.13E+09', 'CS/IT', '2014', '91.2', '', '', '2018', '78.65', '2019', '58.98', 'Amol Baviskar', 'baviskar.amol06@gmail.com', '9970842072']\n",
      "['Venkatesh Parge', 'venkatesh.parge2000@gmail.com', \"JSPM's Bhivarabai Sawant Institute of Technology and Research Wagholi, Pune\", 'Male', '8.83E+09', 'CS/IT', '2015', '82', '2017', '93.3', '', '', '2021', '70.77', 'Amol Baviskar', 'baviskar.amol06@gmail.com', '9970842072']\n",
      "['Akshay Bhandare', 'akshaybhandare0520@gmail.com', \"JSPM's Imperial College of Engineering and Research Wagholi, Pune\", 'Male', '7.74E+09', 'CS/IT', '2015', '81.8', '', '', '2018', '67.24', '2021', '58', 'Amol Baviskar', 'baviskar.amol06@gmail.com', '9970842072']\n",
      "['Abhijit Sonawane', 'sonawane.abhijit58@gmail.com', \"JSPM's Imperial College of Engineering and Research Wagholi, Pune\", 'Male', '9.89E+09', 'CS/IT', '2014', '79.6', '2016', '60', '2018', '80.75', '2021', '60.02', 'Amol Baviskar', 'baviskar.amol06@gmail.com', '9970842072']\n",
      "['Sushant Bhingare', 'sushb49@gmail.com', \"JSPM's Imperial College of Engineering and Research Wagholi, Pune\", 'Male', '8.46E+09', 'CS/IT', '2014', '74.57', '', '', '2018', '73.47', '2021', '62.83', 'Amol Baviskar', 'baviskar.amol06@gmail.com', '9970842072']\n",
      "['Raj Patil', 'silent.quotes.2151@gmail.com', \"JSPM's Imperial College of Engineering and Research Wagholi, Pune\", 'Male', '7.04E+09', 'CS/IT', '2015', '83.6', '', '', '2018', '76.25', '2021', '69.34', 'Amol Baviskar', 'baviskar.amol06@gmail.com', '9970842072']\n",
      "['RAHUL MAHURKAR', 'rrmahurkar7@gmail.com', \"JSPM's Bhivarabai Sawant Institute of Technology and Research Wagholi, Pune\", 'Male', '9.73E+09', 'CS/IT', '2015', '83.06', '2017', '68', '', '', '2021', '71.19', 'Amol Baviskar', 'baviskar.amol06@gmail.com', '9970842072']\n",
      "['Sadik Pathan', 'sadikpathan9876@gmail.com', \"JSPM's Imperial College of Engineering and Research Wagholi, Pune\", 'Male', '9.59E+09', 'CS/IT', '2015', '92.2', '2017', '80.92', '', '', '2021', '69.52', 'Amol Baviskar', 'baviskar.amol06@gmail.com', '9970842072']\n",
      "['Digvijay Sathe', 'irondigvijay@gmail.com', \"JSPM's Imperial College of Engineering and Research Wagholi, Pune\", 'Male', '9.56E+09', 'CS/IT', '2015', '88.2', '2017', '72.31', '', '', '2021', '64.92', 'Amol Baviskar', 'baviskar.amol06@gmail.com', '9970842072']\n",
      "['Jagadish Navale', 'ajnavale25101998@gmail.com', \"JSPM's Bhivarabai Sawant Institute of Technology and Research Wagholi, Pune\", 'Male', '7.41E+09', 'CS/IT', '2015', '79', '', '', '2018', '66.41', '2021', '69.87', 'Amol Baviskar', 'baviskar.amol06@gmail.com', '9970842072']\n",
      "['Gaurav Pingale', 'gauravpingale4@gmail.com', \"JSPM's Bhivarabai Sawant Institute of Technology and Research Wagholi, Pune\", 'Male', '9.77E+09', 'CS/IT', '2015', '89.2', '2017', '71.23', '', '', '2021', '75.68', 'Amol Baviskar', 'baviskar.amol06@gmail.com', '9970842072']\n",
      "['Nehal Patil', 'nehal.d.patil7@gmail.com', \"JSPM's Imperial College of Engineering and Research Wagholi, Pune\", 'Male', '7.39E+09', 'CS/IT', '2015', '87.4', '', '', '2018', '72.76', '2021', '61.77', 'Amol Baviskar', 'baviskar.amol06@gmail.com', '9970842072']\n",
      "['Pratiksha Magar', 'pratikshamagar91@gmail.com', \"JSPM's Bhivarabai Sawant Institute of Technology and Research Wagholi, Pune\", 'Female', '9.15E+09', 'CS/IT', '2015', '90.8', '2017', '82.31', '', '', '2021', '76.7', 'Amol Baviskar', 'baviskar.amol06@gmail.com', '9970842072']\n",
      "['Akanksha Tripathi', 'tripathiakanksha308@gmail.com', \"JSPM's Bhivarabai Sawant Institute of Technology and Research Wagholi, Pune\", 'Female', '7.45E+09', 'CS/IT', '2015', '81.69', '2017', '61.69', '', '', '2021', '68.63', 'Amol Baviskar', 'baviskar.amol06@gmail.com', '9970842072']\n",
      "['Pooja Kapse', 'kapsepooja7@gmail.com', \"JSPM's Bhivarabai Sawant Institute of Technology and Research Wagholi, Pune\", 'Female', '9.56E+09', 'CS/IT', '2015', '87.4', '2017', '66.9', '', '', '2021', '73.16', 'Amol Baviskar', 'baviskar.amol06@gmail.com', '9970842072']\n",
      "['Harshada Pasalkar', 'harshadapasalkar96@gmail.com', \"JSPM's Bhivarabai Sawant Institute of Technology and Research Wagholi, Pune\", 'Female', '9.85E+09', 'CS/IT', '2015', '87.8', '2017', '64.15', '', '', '2021', '62.12', 'Amol Baviskar', 'baviskar.amol06@gmail.com', '9970842072']\n",
      "['Shital Kekan', 'skshitalkekan@gmail.com', \"JSPM's Bhivarabai Sawant Institute of Technology and Research Wagholi, Pune\", 'Female', '9.92E+09', 'CS/IT', '2015', '92.6', '2017', '75.08', '', '', '2021', '77.3', 'Amol Baviskar', 'baviskar.amol06@gmail.com', '9970842072']\n",
      "['Raghwendra Chouhan', 'chouhan2017raj@gmail.com', 'Chameli Devi Group of Institutions, Indore', 'Male', '8.84E+09', 'CS/IT', '2015', '79.8', '2017', '62', '0', '0', '2021', '76.3', 'Aishwary Mendke', 'aishwary.mendke@cdgi.edu.in', '7879833468']\n",
      "['Ayush Mahajan', 'ayush.24mahajan@gmail.com', 'Chameli Devi Group of Institutions, Indore', 'Male', '8.88E+09', 'CS/IT', '2015', '88', '2017', '86', '0', '0', '2021', '73', 'Aishwary Mendke', 'aishwary.mendke@cdgi.edu.in', '7879833468']\n",
      "['Manish Talreja', 'manishtalreja0510@gmail.com', 'Chameli Devi Group of Institutions, Indore', 'Male', '9.34E+09', 'CS/IT', '2015', '66.5', '2017', '64.6', '0', '0', '2021', '60.07', 'Aishwary Mendke', 'aishwary.mendke@cdgi.edu.in', '7879833468']\n",
      "['Jhalak Surve', 'jhalaksurve@gmail.com', 'Chameli Devi Group of Institutions, Indore', 'Female', '8.89E+09', 'CS/IT', '2015', '79', '2017', '76', '0', '0', '2021', '73', 'Aishwary Mendke', 'aishwary.mendke@cdgi.edu.in', '7879833468']\n",
      "['Prateek Chauhan', 'prateek454@gmail.com', 'Chameli Devi Group of Institutions, Indore', 'Male', '7.42E+09', 'CS/IT', '2015', '89.3', '2017', '78.4', '0', '0', '2021', '70', 'Aishwary Mendke', 'aishwary.mendke@cdgi.edu.in', '7879833468']\n",
      "['Vidhi Bhawsar', 'vidhibhawsar1999@gmail.com', 'Chameli Devi Group of Institutions, Indore', 'Female', '8.96E+09', 'CS/IT', '2015', '83.16', '2017', '78.4', '0', '0', '2021', '75.3', 'Aishwary Mendke', 'aishwary.mendke@cdgi.edu.in', '7879833468']\n",
      "['Mayank Vaidya', 'mayankvaidya1999@gmail.com', 'Chameli Devi Group of Institutions, Indore', 'Male', '7.61E+09', 'CS/IT', '2015', '64', '2017', '73.4', '0', '0', '2021', '71.12', 'Aishwary Mendke', 'aishwary.mendke@cdgi.edu.in', '7879833468']\n",
      "['Sakshi Parihar', 'pariharsakshi204@gmail.com', 'Chameli Devi Group of Institutions, Indore', 'Female', '8.32E+09', 'CS/IT', '2015', '89.6', '2017', '68.3', '0', '0', '2021', '81.3', 'Aishwary Mendke', 'aishwary.mendke@cdgi.edu.in', '7879833468']\n",
      "['Anil Bhadoria', 'anilbhadoriya1011@gmail.com', 'Chameli Devi Group of Institutions, Indore', 'Male', '7.69E+09', 'CS/IT', '2015', '70.3', '2017', '73.4', '0', '0', '2021', '64.7', 'Aishwary Mendke', 'aishwary.mendke@cdgi.edu.in', '7879833468']\n",
      "['Divya Chhabra', 'divya140100chhabra@gmail.com', 'Chameli Devi Group of Institutions, Indore', 'Female', '9.04E+09', 'CS/IT', '2015', '82', '2017', '73.8', '0', '0', '2021', '82.5', 'Aishwary Mendke', 'aishwary.mendke@cdgi.edu.in', '7879833468']\n",
      "['Shivam Chouhan', 'shivamchouhan9630@gmail.com', 'Chameli Devi Group of Institutions, Indore', 'Male', '9.34E+09', 'CS/IT', '2014', '79.5', '2016', '73.8', '0', '0', '2021', '70.4', 'Aishwary Mendke', 'aishwary.mendke@cdgi.edu.in', '7879833468']\n",
      "['Hardi Parikh', 'hardiparikh1999@gmail.com', 'Chameli Devi Group of Institutions, Indore', 'Female', '9.34E+09', 'CS/IT', '2015', '91.5', '2017', '72.5', '0', '0', '2021', '83.3', 'Aishwary Mendke', 'aishwary.mendke@cdgi.edu.in', '7879833468']\n",
      "['Saloni Mahajan', 'saloni9699@gmail.com', 'Chameli Devi Group of Institutions, Indore', 'Female', '7.70E+09', 'CS/IT', '2015', '88', '2017', '82', '0', '0', '2021', '78', 'Aishwary Mendke', 'aishwary.mendke@cdgi.edu.in', '7879833468']\n",
      "['Sadafnoor Rehmani', 'noorsadaf183@gmail.com', 'Chameli Devi Group of Institutions, Indore', 'Female', '9.63E+09', 'CS/IT', '2015', '74.7', '2017', '62.5', '0', '0', '2021', '64.6', 'Aishwary Mendke', 'aishwary.mendke@cdgi.edu.in', '7879833468']\n",
      "['Monal Patel', 'monalcdgi@gmail.com', 'Chameli Devi Group of Institutions, Indore', 'Female', '8.83E+09', 'CS/IT', '2015', '81.33', '2017', '78', '0', '0', '2021', '80.8', 'Aishwary Mendke', 'aishwary.mendke@cdgi.edu.in', '7879833468']\n",
      "['Mekhala Namjoshi', 'mekhala.namjoshi@gmail.com', 'Chameli Devi Group of Institutions, Indore', 'Female', '9.75E+09', 'CS/IT', '2014', '68.5', '2016', '61.5', '0', '0', '2021', '80', 'Aishwary Mendke', 'aishwary.mendke@cdgi.edu.in', '7879833468']\n",
      "['Sakshi Ojha', 'sakshi.ojha.sbg@gmail.com', 'Sushila Devi Bansal College of Engineering, Indore', 'Female', '9.34E+09', 'CS/IT', '2015', '72.2', '2017', '63.03', '0', '0', '2021', '71.03', 'Kapil Suchdeo', 'headcr@sdbc.ac.in', '+91 819 901 0901']\n",
      "['Kirti Chavan', 'kirtic1921@gmail.com', 'Sushila Devi Bansal College of Technology, Indore', 'Female', '6.26E+09', 'CS/IT', '2015', '74.1', '2017', '62', '0', '0', '2021', '70.3', 'Kapil Suchdeo', 'headcr@sdbc.ac.in', '+91 819 901 0901']\n",
      "['Simran Jain', 'simran31jain@gmail.com', 'Sushila Devi Bansal College of Technology, Indore', 'Female', '9.34E+09', 'CS/IT', '2015', '82', '2017', '78', '0', '0', '2021', '78', 'Kapil Suchdeo', 'headcr@sdbc.ac.in', '+91 819 901 0901']\n",
      "['Vaibhav Agrawal', 'vaibhavrja@gmail.com', 'Sushila Devi Bansal College of Technology, Indore', 'Male', '8.00E+09', 'CS/IT', '2015', '80.66', '2017', '84.8', '0', '0', '2021', '86', 'Kapil Suchdeo', 'headcr@sdbc.ac.in', '+91 819 901 0901']\n",
      "['Prashant Bhawsar', 'prashant.bhawsar.sdbc@gmail.com', 'Sushila Devi Bansal College of Technology, Indore', 'Male', '7.97E+09', 'CS/IT', '2015', '84', '2017', '81', '0', '0', '2021', '64', 'Kapil Suchdeo', 'headcr@sdbc.ac.in', '+91 819 901 0901']\n",
      "['Mohit Mourya', 'mohit.mourya.sbg@gmail.com', 'Sushila Devi Bansal College of Engineering, Indore', 'Male', '7.59E+09', 'CS/IT', '2014', '77.67', '2016', '67', '0', '0', '2021', '61', 'Kapil Suchdeo', 'headcr@sdbc.ac.in', '+91 819 901 0901']\n",
      "['Surabhi Mishra', 'surabhi291999@gmail.com', 'Sushila Devi Bansal College of Engineering, Indore', 'Female', '8.77E+09', 'CS/IT', '2015', '74.99', '2017', '63', '0', '0', '2021', '69.99', 'Kapil Suchdeo', 'headcr@sdbc.ac.in', '+91 819 901 0901']\n",
      "['Beauty Singh', 'beauty.singh.sbg@gmail.com', 'Sushila Devi Bansal College of Engineering, Indore', 'Female', '9.13E+09', 'CS/IT', '2015', '82.99', '2017', '68.79', '0', '0', '2021', '72.89', 'Kapil Suchdeo', 'headcr@sdbc.ac.in', '+91 819 901 0901']\n",
      "['Kapil Rathore', 'kmrathore98@gmail.com', 'Sushila Devi Bansal College of Technology, Indore', 'Male', '9.40E+09', 'CS/IT', '2014', '83.6', '2017', '84.8', '0', '0', '2021', '60.3', 'Kapil Suchdeo', 'headcr@sdbc.ac.in', '+91 819 901 0901']\n",
      "['Swati Pandey', 'swatipandey1220@gmail.com', 'Sushila Devi Bansal College of Technology, Indore', 'Female', '9.17E+09', 'CS/IT', '2015', '87.2', '2017', '89', '0', '0', '2021', '79.2', 'Kapil Suchdeo', 'headcr@sdbc.ac.in', '+91 819 901 0901']\n",
      "['Sidharth Paliwal', 'sidpaliwal1999@gmail.com', 'Sushila Devi Bansal College of Technology, Indore', 'Male', '9.11E+09', 'CS/IT', '2015', '74.1', '2017', '84.4', '0', '0', '2021', '68.9', 'Kapil Suchdeo', 'headcr@sdbc.ac.in', '+91 819 901 0901']\n",
      "['Ajay Barfa', 'akshaybarfa11@gmail.com', 'Sushila Devi Bansal College of Technology, Indore', 'Male', '9.69E+09', 'CS/IT', '2014', '71.1', '2017', '75', '0', '0', '2021', '69', 'Kapil Suchdeo', 'headcr@sdbc.ac.in', '+91 819 901 0901']\n",
      "['Khushboo Nirmal', 'nirmalkhushboo123@gmail.com', 'Sushila Devi Bansal College of Technology, Indore', 'Female', '8.46E+09', 'CS/IT', '2015', '79.5', '2017', '77', '0', '0', '2021', '74', 'Kapil Suchdeo', 'headcr@sdbc.ac.in', '+91 819 901 0901']\n",
      "['Shubham Gurjar', 'shubhamgurjar6822@gmail.com', 'Sushila Devi Bansal College of Technology, Indore', 'Male', '9.69E+09', 'CS/IT', '2015', '82', '2017', '79', '0', '0', '2021', '73', 'Kapil Suchdeo', 'headcr@sdbc.ac.in', '+91 819 901 0901']\n",
      "['Bhushan Bedre', 'bhshanbedre75@gmail.com', 'Sushila Devi Bansal College of Engineering, Indore', 'Male', '7.51E+09', 'CS/IT', '2015', '76.8', '2017', '74.6', '0', '0', '2021', '67', 'Kapil Suchdeo', 'headcr@sdbc.ac.in', '+91 819 901 0901']\n",
      "['Shivani Jha', 'jhashivani5920@gmail.com', 'Sushila Devi Bansal College of Technology, Indore', 'Female', '8.98E+09', 'CS/IT', '2015', '92.5', '2017', '88.59', '0', '0', '2021', '80.3', 'Kapil Suchdeo', 'headcr@sdbc.ac.in', '+91 819 901 0901']\n",
      "['Dolly Verma', 'vermadolly835@gmail.com', 'Sushila Devi Bansal College of Technology, Indore', 'Female', '8.36E+09', 'CS/IT', '2015', '60', '2017', '74.9', '0', '0', '2021', '64.6', 'Kapil Suchdeo', 'headcr@sdbc.ac.in', '+91 819 901 0901']\n",
      "['Nandini Mandloi', 'nandini.mandloisdbct@gmail.com', 'Sushila Devi Bansal College of Technology, Indore', 'Female', '8.87E+09', 'CS/IT', '2015', '89.3', '2017', '70', '0', '0', '2021', '76.3', 'Kapil Suchdeo', 'headcr@sdbc.ac.in', '+91 819 901 0901']\n",
      "['Kashish Gadwal', 'kashish.gadwalsdbc@gmail.com', 'Sushila Devi Bansal College of Technology, Indore', 'Female', '9.34E+09', 'CS/IT', '2015', '94', '2017', '81.6', '0', '0', '2021', '74', 'Kapil Suchdeo', 'headcr@sdbc.ac.in', '+91 819 901 0901']\n",
      "['JITENDRA PATIL', 'jitendra.patil.sbg@gmail.com', 'Sushila Devi Bansal College of Engineering, Indore', 'Male', '9.34E+09', 'CS/IT', '2015', '85', '2017', '84.8', '0', '0', '2021', '69.7', 'Kapil Suchdeo', 'headcr@sdbc.ac.in', '+91 819 901 0901']\n",
      "['Pooja Patidar', 'patidar.pooja3122@gmail.com', 'Sushila Devi Bansal College of Technology, Indore', 'Female', '8.77E+09', 'CS/IT', '2015', '70', '2017', '80.2', '0', '0', '2021', '59.99', 'Kapil Suchdeo', 'headcr@sdbc.ac.in', '+91 819 901 0901']\n",
      "['Shrashti Pal', 'shrashti391@gmail.com', 'Sushila Devi Bansal College of Engineering, Indore', 'Female', '8.09E+09', 'CS/IT', '2015', '75', '2017', '81', '0', '0', '2021', '76', 'Kapil Suchdeo', 'headcr@sdbc.ac.in', '+91 819 901 0901']\n",
      "['AYUSH PRAJAPATI', 'ayush.prajapati.sbg@gmail.com', 'Sushila Devi Bansal College of Engineering, Indore', 'Male', '9.13E+09', 'CS/IT', '2015', '80', '2017', '79.6', '0', '0', '2021', '66', 'Kapil Suchdeo', 'headcr@sdbc.ac.in', '+91 819 901 0901']\n",
      "['Yukti Morghode', 'yuktimorghode1510@gmail.com', 'Sushila Devi Bansal College of Engineering, Indore', 'Female', '8.00E+09', 'CS/IT', '2015', '88', '2017', '85', '0', '0', '2021', '78', 'Kapil Suchdeo', 'headcr@sdbc.ac.in', '+91 819 901 0901']\n",
      "['Vasudev Chouhan', 'vasudev.chouhan.sbg@gmail.com', 'Sushila Devi Bansal College of Engineering, Indore', 'Male', '8.00E+09', 'CS/IT', '2015', '62', '2017', '75', '0', '0', '2021', '65.4', 'Kapil Suchdeo', 'headcr@sdbc.ac.in', '+91 819 901 0901']\n",
      "['Govind Singh', 'govindsc99@gmail.com', 'Sushila Devi Bansal College of Technology, Indore', 'Male', '9.64E+09', 'CS/IT', '2014', '72', '2016', '82', '0', '0', '2021', '74.5', 'Kapil Suchdeo', 'headcr@sdbc.ac.in', '+91 819 901 0901']\n",
      "['Shivshankar Yadav', 'shivyadav5055@gmail.com', 'Sushila Devi Bansal College of Technology, Indore', 'Male', '7.90E+09', 'CS/IT', '2014', '68', '2017', '67.8', '0', '0', '2021', '64.2', 'Kapil Suchdeo', 'headcr@sdbc.ac.in', '+91 819 901 0901']\n",
      "['Rohan Agrawal', 'rohan.agrawal327@gmail.com', 'Sushila Devi Bansal College of Technology, Indore', 'Male', '8.99E+09', 'CS/IT', '2015', '64.6', '2017', '62.2', '0', '0', '2021', '70', 'Kapil Suchdeo', 'headcr@sdbc.ac.in', '+91 819 901 0901']\n",
      "['Nayan Sontiya', 'sontiya.nayan@gmail.com', 'Sushila Devi Bansal College of Technology, Indore', 'Male', '9.17E+09', 'CS/IT', '2015', '82.7', '2017', '76', '0', '0', '2021', '62', 'Kapil Suchdeo', 'headcr@sdbc.ac.in', '+91 819 901 0901']\n",
      "['Yash Solanki', 'yash.solanki.sbg@gmail.com', 'Sushila Devi Bansal College of Engineering, Indore', 'Male', '9.13E+09', 'CS/IT', '2015', '86', '2017', '85.8', '0', '0', '2021', '62', 'Kapil Suchdeo', 'headcr@sdbc.ac.in', '+91 819 901 0901']\n",
      "['Archit Maheshwari', 'maheshwariarchit27@gmail.com', 'Sushila Devi Bansal College of Technology, Indore', 'Male', '6.23E+09', 'CS/IT', '2015', '80', '2017', '83', '0', '0', '2021', '70', 'Kapil Suchdeo', 'headcr@sdbc.ac.in', '+91 819 901 0901']\n",
      "['Riya Rajput', 'riyarajput180899@gmail.com', 'Sushila Devi Bansal College of Technology, Indore', 'Female', '7.69E+09', 'CS/IT', '2015', '85', '2017', '87', '0', '0', '2021', '79', 'Kapil Suchdeo', 'headcr@sdbc.ac.in', '+91 819 901 0901']\n",
      "['Gayatri Rathore', 'gayatri.rathore.sbg@gmail.com', 'Sushila Devi Bansal College of Engineering, Indore', 'Female', '9.34E+09', 'CS/IT', '2015', '60', '2017', '67', '0', '0', '2021', '63.3', 'Kapil Suchdeo', 'headcr@sdbc.ac.in', '+91 819 901 0901']\n",
      "['Harsh Kadu', 'harshkadu0605@gmail.com', 'Rajiv Gandhi College of Engineering and Research, Nagpur', 'Male', '7.88E+09', 'CS/IT', '2015', '81.7', '2017', '69', '0', '0', '2021', '64.21', 'Mr Jaykar', 'rgcertpo@gmail.com', '9975775632']\n",
      "['Adwait Dani', 'adwait.s.dani@gmail.com', 'Rajiv Gandhi College of Engineering and Research, Nagpur', 'Male', '9.89E+09', 'CS/IT', '2015', '88.4', '2017', '63.85', '0', '0', '2021', '63.97', 'Mr Jaykar', 'rgcertpo@gmail.com', '9975775632']\n",
      "['Priyanka Mahato', 'priyankamahato514@gmail.com', 'Rajiv Gandhi College of Engineering and Research, Nagpur', 'Female', '7.28E+09', 'CS/IT', '2015', '87.8', '2017', '62.15', '0', '0', '2021', '65.69', 'Mr Jaykar', 'rgcertpo@gmail.com', '9975775632']\n",
      "['Anshul Maske', 'anshmaske743@gmail.com', 'Rajiv Gandhi College of Engineering and Research, Nagpur', 'Male', '8.15E+09', 'CS/IT', '2015', '86', '2017', '80.6', '0', '0', '2021', '68.3', 'Mr Jaykar', 'rgcertpo@gmail.com', '9975775632']\n",
      "['SANCHI BARSAGADE', 'sanchibarsagade25@gmail.com', 'Rajiv Gandhi College of Engineering and Research, Nagpur', 'Female', '9.15E+09', 'CS/IT', '2015', '78', '2017', '67', '0', '0', '2021', '64.64', 'Mr Jaykar', 'rgcertpo@gmail.com', '9975775632']\n",
      "['Payal Kewate', 'payalkewate@gmail.com', 'Rajiv Gandhi College of Engineering and Research, Nagpur', 'Female', '8.42E+09', 'CS/IT', '2015', '88.8', '2017', '76', '0', '0', '2021', '64.7', 'Mr Jaykar', 'rgcertpo@gmail.com', '9975775632']\n",
      "['Swaroopa Ravikumar', 'sravikumar923@gmail.com', 'Rajiv Gandhi College of Engineering and Research, Nagpur', 'Female', '9.51E+09', 'CS/IT', '2015', '82', '2017', '63', '0', '0', '2021', '63.07', 'Mr Jaykar', 'rgcertpo@gmail.com', '9975775632']\n",
      "['AMIT SATPUTE', 'amitcap88@gmail.com', 'Rajiv Gandhi College of Engineering and Research, Nagpur', 'Male', '9.15E+09', 'CS/IT', '2015', '88', '2017', '72', '0', '0', '2021', '64.66', 'Mr Jaykar', 'rgcertpo@gmail.com', '9975775632']\n",
      "['Nikhil Wandhare', 'nikhilwandhare021@gmail.com', 'Rajiv Gandhi College of Engineering and Research, Nagpur', 'Male', '9.60E+09', 'CS/IT', '2015', '77.6', '2017', '65', '0', '0', '2021', '68.14', 'Mr Jaykar', 'rgcertpo@gmail.com', '9975775632']\n",
      "['Sanjana Khaire', 'sanjanakhaire1999@gmail.com', 'Rajiv Gandhi College of Engineering and Research, Nagpur', 'Female', '8.31E+09', 'CS/IT', '2015', '82', '2017', '75', '0', '0', '2021', '74.46', 'Mr Jaykar', 'rgcertpo@gmail.com', '9975775632']\n",
      "['Jyoti Gajbhiye', 'jyotigajbhiye99@gmail.com', 'Rajiv Gandhi College of Engineering and Research, Nagpur', 'Female', '8.79E+09', 'CS/IT', '2015', '87.4', '2017', '67.2', '0', '0', '2021', '69', 'Mr Jaykar', 'rgcertpo@gmail.com', '9975775632']\n",
      "['Shweta Kadam', 'shweta17kadam@gmail.com', 'Rajiv Gandhi College of Engineering and Research, Nagpur', 'Female', '7.41E+09', 'CS/IT', '2015', '81.16', '2017', '65.85', '0', '0', '2021', '64', 'Mr Jaykar', 'rgcertpo@gmail.com', '9975775632']\n",
      "['TEJAS THAKRE', 'thakretejas2016@gmail.com', 'Rajiv Gandhi College of Engineering and Research, Nagpur', 'Male', '9.73E+09', 'CS/IT', '2015', '86', '2017', '71.5', '0', '0', '2021', '63', 'Mr Jaykar', 'rgcertpo@gmail.com', '9975775632']\n",
      "['AKASH YEOLE', 'theakash123@gmail.com', 'Rajiv Gandhi College of Engineering and Research, Nagpur', 'Male', '9.69E+09', 'CS/IT', '2014', '71', '2016', '64.46', '0', '0', '2021', '65', 'Mr Jaykar', 'rgcertpo@gmail.com', '9975775632']\n",
      "['Deepratna Awale', 'awale.deep@gmail.com', 'Rajiv Gandhi College of Engineering and Research, Nagpur', 'Male', '7.03E+09', 'CS/IT', '2015', '85.4', '2017', '71.1', '0', '0', '2021', '64', 'Mr Jaykar', 'rgcertpo@gmail.com', '9975775632']\n",
      "['Achal Paunikar', 'anchal.paunikar@yahoo.in', 'Rajiv Gandhi College of Engineering and Research, Nagpur', 'Female', '9.15E+09', 'CS/IT', '2015', '83.8', '2017', '76.62', '0', '0', '2021', '79.68', 'Mr Jaykar', 'rgcertpo@gmail.com', '9975775632']\n",
      "['TANMAY PHADNIS', 'tanmay.s.phadnis@gmail.com', 'Rajiv Gandhi College of Engineering and Research, Nagpur', 'Male', '7.89E+09', 'CS/IT', '2015', '80', '2017', '63', '0', '0', '2021', '69.01', 'Mr Jaykar', 'rgcertpo@gmail.com', '9975775632']\n",
      "['Vishal Shende', 'vbshende122333@gmail.com', 'Rajiv Gandhi College of Engineering and Research, Nagpur', 'Male', '9.83E+09', 'CS/IT', '2015', '67', '2017', '61.38', '0', '0', '2021', '64.26', 'Mr Jaykar', 'rgcertpo@gmail.com', '9975775632']\n",
      "['Faiyaz Mujawar', 'fayazmujawar7@gmail.com', 'Zeal College of Engineering and Research, Pune', 'Male', '8.80E+09', 'CS/IT', '2015', '91.8', '2017', '81.38', '0', '0', '2021', '78.76', 'Prof.Viraj Barge', 'placement.dcoer@zealeducation.com', '-9763108251']\n",
      "['Aslesha Kumbhar', 'asleshakumbhar@gmail.com', 'Zeal College of Engineering and Research, Pune', 'Female', '7.80E+09', 'CS/IT', '2015', '81.6', '2017', '69.6', '0', '0', '2021', '73.57', 'Prof.Viraj Barge', 'placement.dcoer@zealeducation.com', '-9763108251']\n",
      "['Swapnil Nevase', 'swapnilnevse8105@gmail.com', 'Zeal College of Engineering and Research, Pune', 'Male', '8.31E+09', 'CS/IT', '2013', '83.45', '2015', '53.25', '2018', '75', '2021', '66.52', 'Prof.Viraj Barge', 'placement.dcoer@zealeducation.com', '-9763108251']\n",
      "['Pratiksha Makeshwar', 'pratikshamakeshwar5@gmail.com', 'Zeal College of Engineering and Research, Pune', 'Female', '9.16E+09', 'CS/IT', '2015', '91.4', '2017', '74', '0', '0', '2021', '78.58', 'Prof.Viraj Barge', 'placement.dcoer@zealeducation.com', '-9763108251']\n",
      "['Ritvij Naram', 'ritvijnaram@gmail.com', 'Zeal College of Engineering and Research, Pune', 'Male', '9.42E+09', 'CS/IT', '2015', '78.48', '2017', '61', '0', '0', '2021', '69', 'Prof.Viraj Barge', 'placement.dcoer@zealeducation.com', '-9763108251']\n",
      "['Vivek Kate', 'vivekkate999@gmail.com', 'Zeal College of Engineering and Research, Pune', 'Male', '9.40E+09', 'CS/IT', '2015', '90.6', '2017', '71.54', '0', '0', '2021', '64.15', 'Prof.Viraj Barge', 'placement.dcoer@zealeducation.com', '-9763108251']\n",
      "['Meghnad Pandit', 'mp230797@gmail.com', 'Zeal College of Engineering and Research, Pune', 'Male', '7.76E+09', 'CS/IT', '2013', '81.2', '0', '0', '2018', '76.56', '2021', '72.68', 'Prof.Viraj Barge', 'placement.dcoer@zealeducation.com', '-9763108251']\n",
      "['Shruti Kashid', 'shrutikashid98@gmail.com', 'Zeal College of Engineering and Research, Pune', 'Female', '8.48E+09', 'CS/IT', '2015', '86.2', '0', '0', '2018', '80.13', '2021', '66.7', 'Prof.Viraj Barge', 'placement.dcoer@zealeducation.com', '-9763108251']\n",
      "['Manasi Tilekar', 'tilekarmanasi23@gmail.com', 'Zeal College of Engineering and Research, Pune', 'Female', '8.83E+09', 'CS/IT', '2015', '90', '2017', '66.15', '0', '0', '2021', '68.46', 'Prof.Viraj Barge', 'placement.dcoer@zealeducation.com', '-9763108251']\n",
      "['Mangesh Kachare', 'mangeshkachars6777@gmail.com', 'Zeal College of Engineering and Research, Pune', 'Male', '9.08E+09', 'CS/IT', '2015', '84.8', '2017', '63.85', '0', '0', '2021', '66.99', 'Prof.Viraj Barge', 'placement.dcoer@zealeducation.com', '-9763108251']\n",
      "['ASHWATHY PANIKER', 'ashwathyraghunath@gmail.com', 'Zeal College of Engineering and Research, Pune', 'Female', '9.86E+09', 'CS/IT', '2015', '86.8', '2017', '69.08', '0', '0', '2021', '69.52', 'Prof.Viraj Barge', 'placement.dcoer@zealeducation.com', '-9763108251']\n",
      "['Yogesh Jadhav', 'jadhavyogesh0018@gmail.com', 'Zeal College of Engineering and Research, Pune', 'Male', '9.28E+09', 'CS/IT', '2015', '77.8', '0', '0', '2018', '77', '2021', '71.46', 'Prof.Viraj Barge', 'placement.dcoer@zealeducation.com', '-9763108251']\n",
      "['Saurabh Sonar', 'saurabh.sonar120@gmail.com', 'Zeal College of Engineering and Research, Pune', 'Male', '7.78E+09', 'CS/IT', '2014', '68.8', '0', '0', '2018', '72.24', '2021', '62.3', 'Prof.Viraj Barge', 'placement.dcoer@zealeducation.com', '-9763108251']\n",
      "['Tejaswini Lande', 'tejaswinilande1@gmail.com', 'Zeal College of Engineering and Research, Pune', 'Female', '7.76E+09', 'CS/IT', '2014', '84.2', '2016', '77.02', '0', '0', '2021', '72.33', 'Prof.Viraj Barge', 'placement.dcoer@zealeducation.com', '-9763108251']\n",
      "['Pradnya Mane', 'mpradnya20@gmail.com', 'Zeal College of Engineering and Research, Pune', 'Female', '7.35E+09', 'CS/IT', '2015', '85.6', '0', '0', '2018', '70.19', '2021', '56.08', 'Prof.Viraj Barge', 'placement.dcoer@zealeducation.com', '-9763108251']\n",
      "['Pooja Nimbalkar', 'prnimbalkar123@gmail.com', 'Zeal College of Engineering and Research, Pune', 'Female', '9.82E+09', 'CS/IT', '2015', '85.2', '0', '0', '2018', '75.13', '2021', '65.64', 'Prof.Viraj Barge', 'placement.dcoer@zealeducation.com', '-9763108251']\n",
      "['Megha Gurav', 'meghagurav55@gmail.com', 'Zeal College of Engineering and Research, Pune', 'Female', '8.31E+09', 'CS/IT', '2015', '80.4', '0', '0', '2018', '80.56', '2021', '65.29', 'Prof.Viraj Barge', 'placement.dcoer@zealeducation.com', '-9763108251']\n",
      "['Aditi Pawar', 'adpawar18@gmail.com', 'Zeal College of Engineering and Research, Pune', 'Female', '8.15E+09', 'CS/IT', '2015', '78.2', '0', '0', '2018', '80.44', '2021', '66.7', 'Prof.Viraj Barge', 'placement.dcoer@zealeducation.com', '-9763108251']\n",
      "['Damodar Dikonda', 'damodar5dikonda@gmail.com', 'Zeal College of Engineering and Research, Pune', 'Male', '9.00E+09', 'CS/IT', '2015', '87.6', '0', '0', '2018', '71.87', '2021', '63.89', 'Prof.Viraj Barge', 'placement.dcoer@zealeducation.com', '-9763108251']\n",
      "['Anudeep Rokade', 'anudeeprokade1317@gmail.com', 'Zeal College of Engineering and Research, Pune', 'Male', '7.06E+09', 'CS/IT', '2015', '83.6', '2017', '67.3', '0', '0', '2021', '60.72', 'Prof.Viraj Barge', 'placement.dcoer@zealeducation.com', '-9763108251']\n",
      "['Abhishek Dhadge', 'abhishekdhadge123@gmail.com', 'Zeal College of Engineering and Research, Pune', 'Male', '8.31E+09', 'CS/IT', '2015', '78.6', '2017', '67.38', '0', '0', '2021', '63.36', 'Prof.Viraj Barge', 'placement.dcoer@zealeducation.com', '-9763108251']\n",
      "['Shital Bhosle', 'shitalbhosleer123@gmail.com', 'Zeal College of Engineering and Research, Pune', 'Female', '9.59E+09', 'CS/IT', '2015', '88', '0', '0', '2018', '83.31', '2021', '63.9', 'Prof.Viraj Barge', 'placement.dcoer@zealeducation.com', '-9763108251']\n",
      "['Aishwarya Mankar', 'aishwaryamankar2000@gmail.com', 'Zeal College of Engineering and Research, Pune', 'Female', '8.44E+09', 'CS/IT', '2015', '74.1', '2017', '77.6', '0', '0', '2021', '71.46', 'Prof.Viraj Barge', 'placement.dcoer@zealeducation.com', '-9763108251']\n",
      "['Chetan Bhikule', 'chetanbhikule123@gmail.com', 'Zeal College of Engineering and Research, Pune', 'Male', '7.04E+09', 'CS/IT', '2015', '83.6', '2017', '60', '0', '0', '2021', '63.36', 'Prof.Viraj Barge', 'placement.dcoer@zealeducation.com', '-9763108251']\n",
      "['Omkar Jori', 'omkar.jori123@gmail.com', 'Zeal College of Engineering and Research, Pune', 'Male', '8.81E+09', 'CS/IT', '2015', '78.4', '0', '0', '2018', '82.06', '2021', '63.71', 'Prof.Viraj Barge', 'placement.dcoer@zealeducation.com', '-9763108251']\n",
      "['Sumit Ghadi', 'sumitghadi15@gmail.com', 'Zeal College of Engineering and Research, Pune', 'Male', '7.35E+09', 'CS/IT', '2015', '82.4', '0', '0', '2018', '75.88', '2021', '62.48', 'Prof.Viraj Barge', 'placement.dcoer@zealeducation.com', '-9763108251']\n",
      "['Ravina Zalte', 'zalteravina11@gmail.com', \"Vishwaniketan's Institute of Management Entrepreneurship and Engineering Technology\", 'Female', '9.08E+09', 'CS/IT', '2015', '86', '2017', '62.77', '0', '0', '2021', '70', 'Deepak S Patil', 'dspatil@vishwaniketan.edu.in', '9604487875']\n",
      "['Ajay Vishwakarma', 'ajay.bmws@gmail.com', \"Vishwaniketan's Institute of Management Entrepreneurship and Engineering Technology\", 'Male', '8.41E+09', 'CS/IT', '2015', '73.4', '2017', '69.69', '0', '0', '2021', '64.49', 'Deepak S Patil', 'dspatil@vishwaniketan.edu.in', '9604487875']\n",
      "['Naresh Patel', 'er.choudharynaresh@gmail.com', \"Vishwaniketan's Institute of Management Entrepreneurship and Engineering Technology\", 'Male', '8.77E+09', 'CS/IT', '2015', '78.8', '2017', '69.23', '0', '0', '2021', '62.36', 'Deepak S Patil', 'dspatil@vishwaniketan.edu.in', '9604487875']\n",
      "['Akash Jadhav', 'jadhavakash2110@gmail.com', \"Vishwaniketan's Institute of Management Entrepreneurship and Engineering Technology\", 'Male', '8.65E+09', 'CS/IT', '2015', '83.2', '2017', '67.5', '0', '0', '2021', '56.1', 'Deepak S Patil', 'dspatil@vishwaniketan.edu.in', '9604487875']\n",
      "['Samiksha Gurav', 'guravsamiksha17@gmail.com', \"Vishwaniketan's Institute of Management Entrepreneurship and Engineering Technology\", 'Female', '7.26E+09', 'CS/IT', '2015', '86.2', '2017', '59.04', '0', '0', '2021', '63.2', 'Deepak S Patil', 'dspatil@vishwaniketan.edu.in', '9604487875']\n",
      "['Vineet Patil', 'vineetpatil65@gmail.com', \"Vishwaniketan's Institute of Management Entrepreneurship and Engineering Technology\", 'Male', '9.08E+09', 'CS/IT', '2015', '76', '2017', '62.46', '0', '0', '2021', '53.4', 'Deepak S Patil', 'dspatil@vishwaniketan.edu.in', '9604487875']\n",
      "['Srushti Thale', 'srushti.thale@outlook.com', \"Vishwaniketan's Institute of Management Entrepreneurship and Engineering Technology\", 'Female', '7.39E+09', 'CS/IT', '2015', '86.4', '2017', '72.31', '0', '0', '2021', '69.3', 'Deepak S Patil', 'dspatil@vishwaniketan.edu.in', '9604487875']\n",
      "['Ajinkya Kapse', 'ajinkyakapse385@gmail.com', \"Vishwaniketan's Institute of Management Entrepreneurship and Engineering Technology\", 'Male', '7.02E+09', 'CS/IT', '2015', '91.6', '2017', '74.63', '0', '0', '2021', '63.61', 'Deepak S Patil', 'dspatil@vishwaniketan.edu.in', '9604487875']\n",
      "['Swagat Mokal', 'swagatmokal95@gmail.com', \"Vishwaniketan's Institute of Management Entrepreneurship and Engineering Technology\", 'Male', '7.02E+09', 'CS/IT', '2015', '90.2', '2017', '81.38', '0', '0', '2021', '56.5', 'Deepak S Patil', 'dspatil@vishwaniketan.edu.in', '9604487875']\n",
      "['Nutan Patole', 'nutanpatole22@gmail.com', \"Vishwaniketan's Institute of Management Entrepreneurship and Engineering Technology\", 'Female', '7.22E+09', 'CS/IT', '2015', '87.8', '2017', '77.08', '0', '0', '2021', '73.13', 'Deepak S Patil', 'dspatil@vishwaniketan.edu.in', '9604487875']\n",
      "['Kiran Bhosale', 'kbhosale035@gmail.com', \"Vishwaniketan's Institute of Management Entrepreneurship and Engineering Technology\", 'Male', '8.79E+09', 'CS/IT', '2015', '76', '2017', '70', '0', '0', '2021', '70.9', 'Deepak S Patil', 'dspatil@vishwaniketan.edu.in', '9604487875']\n",
      "['Vaishnavi Mokal', 'vaishnavimokal5@gmail.com', \"Vishwaniketan's Institute of Management Entrepreneurship and Engineering Technology\", 'Female', '8.36E+09', 'CS/IT', '2015', '87.6', '2017', '60.77', '0', '0', '2021', '58.4', 'Deepak S Patil', 'dspatil@vishwaniketan.edu.in', '9604487875']\n",
      "['Aashutosh Rawate', 'enaashutoshrawate1999@gmail.com', \"Vishwaniketan's Institute of Management Entrepreneurship and Engineering Technology\", 'Male', '7.68E+09', 'CS/IT', '2015', '89.9', '2017', '65.5', '0', '0', '2021', '62.9', 'Deepak S Patil', 'dspatil@vishwaniketan.edu.in', '9604487875']\n",
      "['Najuka Shelar', 'najukashelar321@gmail.com', \"Vishwaniketan's Institute of Management Entrepreneurship and Engineering Technology\", 'Female', '7.38E+09', 'CS/IT', '2015', '85.6', '2017', '60', '0', '0', '2021', '57.16', 'Deepak S Patil', 'dspatil@vishwaniketan.edu.in', '9604487875']\n",
      "['Suchitra Sathe', 'suchitras473@gmail.com', \"Vishwaniketan's Institute of Management Entrepreneurship and Engineering Technology\", 'Female', '8.88E+09', 'CS/IT', '2015', '87.88', '2017', '78', '0', '0', '2021', '70.2', 'Deepak S Patil', 'dspatil@vishwaniketan.edu.in', '9604487875']\n",
      "['Siddhi Bhagat', 'siddhib166@gmail.com', \"Vishwaniketan's Institute of Management Entrepreneurship and Engineering Technology\", 'Female', '8.24E+09', 'CS/IT', '2015', '76.4', '0', '0', '2018', '67.35', '2021', '57.06', 'Deepak S Patil', 'dspatil@vishwaniketan.edu.in', '9604487875']\n",
      "['Jayesh Patil', 'jayesh001patil@gmail.com', \"Vishwaniketan's Institute of Management Entrepreneurship and Engineering Technology\", 'Male', '7.74E+09', 'CS/IT', '2015', '68', '2017', '64.6', '0', '0', '2021', '60', 'Deepak S Patil', 'dspatil@vishwaniketan.edu.in', '9604487875']\n",
      "['Daksh Maan', 'dakshmaan10@gmail.com', \"Vishwaniketan's Institute of Management Entrepreneurship and Engineering Technology\", 'Male', '9.63E+09', 'CS/IT', '2015', '82.83', '2017', '79.8', '0', '0', '2021', '56.04', 'Deepak S Patil', 'dspatil@vishwaniketan.edu.in', '9604487875']\n",
      "['Nikita Patil', 'nikipatil199917@gmail.com', \"Vishwaniketan's Institute of Management Entrepreneurship and Engineering Technology\", 'Female', '9.82E+09', 'CS/IT', '2015', '97.2', '2017', '87.2', '0', '0', '2021', '78.43', 'Deepak S Patil', 'dspatil@vishwaniketan.edu.in', '9604487875']\n",
      "['Sanket Pawar', 'pawarsanket181@gmail.com', \"Vishwaniketan's Institute of Management Entrepreneurship and Engineering Technology\", 'Male', '9.99E+09', 'CS/IT', '2015', '94.6', '2017', '73.8', '0', '0', '2021', '59.88', 'Deepak S Patil', 'dspatil@vishwaniketan.edu.in', '9604487875']\n",
      "['Ashish Ahire', 'ashishahire15@gmail.com', \"Vishwaniketan's Institute of Management Entrepreneurship and Engineering Technology\", 'Male', '9.53E+09', 'CS/IT', '2015', '83', '2017', '65.59', '0', '0', '2021', '57', 'Deepak S Patil', 'dspatil@vishwaniketan.edu.in', '9604487875']\n",
      "['Swagata Kawale', 'swagatakawale@gmail.com', \"Vishwaniketan's Institute of Management Entrepreneurship and Engineering Technology\", 'Female', '8.24E+09', 'CS/IT', '2014', '81.6', '2016', '59.08', '0', '0', '2021', '55.45', 'Deepak S Patil', 'dspatil@vishwaniketan.edu.in', '9604487875']\n",
      "['Neha Raut', 'rautneha3007@gmail.com', \"Vishwaniketan's Institute of Management Entrepreneurship and Engineering Technology\", 'Female', '8.41E+09', 'CS/IT', '2015', '85.4', '2017', '61.38', '0', '0', '2021', '60.2', 'Deepak S Patil', 'dspatil@vishwaniketan.edu.in', '9604487875']\n",
      "['Riya Juikar', 'rhjuikar1319@gmail.com', \"Vishwaniketan's Institute of Management Entrepreneurship and Engineering Technology\", 'Female', '7.89E+09', 'CS/IT', '2015', '83.8', '0', '0', '2018', '65.29', '2021', '60.2', 'Deepak S Patil', 'dspatil@vishwaniketan.edu.in', '9604487875']\n",
      "['Tirth Upadhyay', 'tirth222222@gmail.com', \"Vishwaniketan's Institute of Management Entrepreneurship and Engineering Technology\", 'Male', '9.08E+09', 'CS/IT', '2015', '91.5', '2017', '74', '0', '0', '2021', '64', 'Deepak S Patil', 'dspatil@vishwaniketan.edu.in', '9604487875']\n",
      "['Dhanashree Bhosale', 'dhanashreebhosale91@gmail.com', \"Vishwaniketan's Institute of Management Entrepreneurship and Engineering Technology\", 'Female', '9.61E+09', 'CS/IT', '2015', '86.8', '2017', '63.54', '0', '0', '2021', '62.94', 'Deepak S Patil', 'dspatil@vishwaniketan.edu.in', '9604487875']\n",
      "['Sushant Garg', 'sgarg776@gmail.com', 'Bharati Vidyapeeth, Katraj, Pune', 'Male', '9.47E+09', 'EnTC', '2014', '84', '2016', '72.8', '0', '0', '2021', '67.24', 'Prof. Nachiket Kulkarni', 'tpo@bvucoep.edu.in', '7558630861']\n",
      "['PINAGANI SURAJ', 'surajpinagani183@gmail.com', 'Bharati Vidyapeeth, Katraj, Pune', 'Male', '9.55E+09', 'EnTC', '2015', '95', '2017', '94.9', '0', '0', '2021', '80.8', 'Prof. Nachiket Kulkarni', 'tpo@bvucoep.edu.in', '7558630861']\n",
      "['Karn Singh', 'kpsingh8960@gmail.com', 'Bharati Vidyapeeth, Katraj, Pune', 'Male', '8.46E+09', 'EnTC', '2014', '95', '2016', '94', '0', '0', '2021', '81', 'Prof. Nachiket Kulkarni', 'tpo@bvucoep.edu.in', '7558630861']\n",
      "['Ena Nigam', 'enanigam8@gmai.com', 'Bharati Vidyapeeth, Katraj, Pune', 'Female', '9.13E+09', 'EnTC', '2016', '75.2', '2017', '59.6', '0', '0', '2021', '62.82', 'Prof. Nachiket Kulkarni', 'tpo@bvucoep.edu.in', '7558630861']\n",
      "['Suresh Kumar', 'suresh2398kumar@gmail.com', 'Bharati Vidyapeeth, Katraj, Pune', 'Male', '7.67E+09', 'EnTC', '2014', '73', '2016', '70', '0', '0', '2021', '63', 'Prof. Nachiket Kulkarni', 'tpo@bvucoep.edu.in', '7558630861']\n",
      "['Samridhi Shree', 'ridhiraina1998@gmail.com', 'Bharati Vidyapeeth, Katraj, Pune', 'Female', '9.91E+09', 'EnTC', '2015', '84', '2017', '59', '0', '0', '2021', '63.5', 'Prof. Nachiket Kulkarni', 'tpo@bvucoep.edu.in', '7558630861']\n",
      "['Swarna Ray', 'swarnaray1999@gmail.com', 'Bharati Vidyapeeth, Katraj, Pune', 'Female', '9.51E+09', 'CS/IT', '2014', '95', '2016', '78', '0', '0', '2021', '81', 'Prof. Nachiket Kulkarni', 'tpo@bvucoep.edu.in', '7558630861']\n",
      "['Binish Lone', 'binishlone@gmail.com', 'Bharati Vidyapeeth, Katraj, Pune', 'Female', '7.03E+09', 'CS/IT', '2012', '68.2', '2014', '60', '0', '0', '2019', '58', 'Prof. Nachiket Kulkarni', 'tpo@bvucoep.edu.in', '7558630861']\n",
      "['Satyam Arya', 'satyamarya1999@gmail.com', 'Bharati Vidyapeeth, Katraj, Pune', 'Male', '7.70E+09', 'CS/IT', '2015', '91', '2017', '72.5', '0', '0', '2021', '67', 'Prof. Nachiket Kulkarni', 'tpo@bvucoep.edu.in', '7558630861']\n",
      "['Ankana Mukherjee', 'ankanamukherjee7@gmail.com', 'Bharati Vidyapeeth, Katraj, Pune', 'Female', '1.00E+10', 'CS/IT', '2015', '81', '2017', '70.2', '0', '0', '2021', '66.6', 'Prof. Nachiket Kulkarni', 'tpo@bvucoep.edu.in', '7558630861']\n",
      "['Soubhagya Ajwani', 'ajwanisoubhagya@gmail.com', 'Bharati Vidyapeeth, Katraj, Pune', 'Male', '9.04E+09', 'CS/IT', '2015', '92', '2017', '62.5', '0', '0', '2021', '65.1', 'Prof. Nachiket Kulkarni', 'tpo@bvucoep.edu.in', '7558630861']\n",
      "['ASHIVANI SINGH', 'ashivani.singh2017@gmail.com', 'Bharati Vidyapeeth, Katraj, Pune', 'Male', '9.64E+09', 'CS/IT', '2014', '86.66', '2016', '79', '0', '0', '2021', '75.5', 'Prof. Nachiket Kulkarni', 'tpo@bvucoep.edu.in', '7558630861']\n",
      "['Astha Agnihotri', 'asthaagnihotri45@gmail.com', 'Bharati Vidyapeeth, Katraj, Pune', 'Female', '9.13E+09', 'CS/IT', '2015', '81', '2017', '87', '0', '0', '2021', '63', 'Prof. Nachiket Kulkarni', 'tpo@bvucoep.edu.in', '7558630861']\n",
      "['Somay Trivedi', 'somaysomaysomay@gmail.com', 'Bharati Vidyapeeth, Katraj, Pune', 'Male', '9.61E+09', 'CS/IT', '2015', '82', '2017', '68', '0', '0', '2021', '72', 'Prof. Nachiket Kulkarni', 'tpo@bvucoep.edu.in', '7558630861']\n",
      "['Anindya Gupta', 'atg.anindthegreat@gmail.com', 'Bharati Vidyapeeth, Katraj, Pune', 'Male', '9.17E+09', 'CS/IT', '2015', '92.2', '2017', '85', '0', '0', '2021', '73.15', 'Prof. Nachiket Kulkarni', 'tpo@bvucoep.edu.in', '7558630861']\n",
      "['SIDDHANT SINGH', 'siddhantsingh01021998@gmail.com', 'Bharati Vidyapeeth, Katraj, Pune', 'Male', '7.36E+09', 'CS/IT', '2014', '74', '2016', '63.5', '0', '0', '2021', '62', 'Prof. Nachiket Kulkarni', 'tpo@bvucoep.edu.in', '7558630861']\n",
      "['Km Pratistha', 'pratistharai03@gmail.com', 'Bharati Vidyapeeth, Katraj, Pune', 'Female', '7.36E+09', 'CS/IT', '2014', '84.7', '2016', '80', '0', '0', '2021', '70.3', 'Prof. Nachiket Kulkarni', 'tpo@bvucoep.edu.in', '7558630861']\n",
      "['Devshree Mukherjee', 'devshreempr@gmail.com', 'Bharati Vidyapeeth, Katraj, Pune', 'Female', '9.13E+09', 'CS/IT', '2015', '67', '2017', '65', '0', '0', '2021', '66', 'Prof. Nachiket Kulkarni', 'tpo@bvucoep.edu.in', '7558630861']\n",
      "['Atulya Kumari', 'atulyap1234@gmail.com', 'Bharati Vidyapeeth, Katraj, Pune', 'Female', '9.12E+09', 'CS/IT', '2015', '89.3', '2017', '70', '0', '0', '2021', '64.41', 'Prof. Nachiket Kulkarni', 'tpo@bvucoep.edu.in', '7558630861']\n",
      "['PRAKHAR SACHAN', 'sachanricky@gmail.com', 'Bharati Vidyapeeth, Katraj, Pune', 'Male', '9.79E+09', 'CS/IT', '2014', '95', '2016', '83.6', '0', '0', '2021', '73', 'Prof. Nachiket Kulkarni', 'tpo@bvucoep.edu.in', '7558630861']\n",
      "['Raunak Verma', 'vermaraunak700@gmail.com', 'Bharati Vidyapeeth, Katraj, Pune', 'Male', '7.25E+09', 'CS/IT', '2014', '70', '2016', '70', '0', '0', '2021', '67', 'Prof. Nachiket Kulkarni', 'tpo@bvucoep.edu.in', '7558630861']\n",
      "['Sahil Keshri', 'sahilkeshri1704@gmail.com', 'Bharati Vidyapeeth, Katraj, Pune', 'Male', '7.03E+09', 'CS/IT', '2015', '74', '2017', '59.6', '0', '0', '2021', '67', 'Prof. Nachiket Kulkarni', 'tpo@bvucoep.edu.in', '7558630861']\n",
      "['Sonal Kumar', 'sonalkumar8991@gmail.com', 'Bharati Vidyapeeth, Katraj, Pune', 'Male', '9.83E+09', 'CS/IT', '2014', '85.5', '2016', '69.8', '0', '0', '2021', '77.1', 'Prof. Nachiket Kulkarni', 'tpo@bvucoep.edu.in', '7558630861']\n",
      "['Ananya Rai', 'arai32524@gmail.com', 'Bharati Vidyapeeth, Katraj, Pune', 'Female', '9.31E+09', 'CS/IT', '2014', '87.4', '2016', '68', '0', '0', '2021', '76', 'Prof. Nachiket Kulkarni', 'tpo@bvucoep.edu.in', '7558630861']\n",
      "['Pooja Ghadge', 'poojaghadge7516@gmail.com', 'Bharati Vidyapeeth, Katraj, Pune', 'Female', '9.55E+09', 'CS/IT', '2013', '90', '2015', '74', '0', '0', '2019', '58', 'Prof. Nachiket Kulkarni', 'tpo@bvucoep.edu.in', '7558630861']\n",
      "['KOMAL RANI', 'krani4729@gmail.com', 'Bharati Vidyapeeth, Katraj, Pune', 'Female', '8.71E+09', 'CS/IT', '2014', '85', '2016', '55', '0', '0', '2021', '82.5', 'Prof. Nachiket Kulkarni', 'tpo@bvucoep.edu.in', '7558630861']\n",
      "['SHRUTI PATIL', 'shruti.patil009@gmail.com', \"Bharati Vidyapeeth's College of Engineering for Women, Dhankawadi, Pune\", 'Female', '8.24E+09', 'EnTC', '2015', '94.5', '2017', '70.6', '0', '0', '2021', '73.12', 'Prof. Kale Pranoti', 'kpranoti2005@yahoo.com', '9890164361']\n",
      "['Bhagyashree Raut', 'bhagyashreeraut1002@gmail.com', \"Bharati Vidyapeeth's College of Engineering for Women, Dhankawadi, Pune\", 'Female', '7.26E+09', 'EnTC', '2015', '86.8', '2017', '68.62', '0', '0', '2021', '69.52', 'Prof. Kale Pranoti', 'kpranoti2005@yahoo.com', '9890164361']\n",
      "['Rasika Patil', 'rasikapatil06rocks@gmail.com', \"Bharati Vidyapeeth's College of Engineering for Women, Dhankawadi, Pune\", 'Female', '9.67E+09', 'EnTC', '2014', '82.15', '2016', '62.2', '0', '0', '2021', '64.5', 'Prof. Kale Pranoti', 'kpranoti2005@yahoo.com', '9890164361']\n",
      "['Pragati Kamthe', 'pragati.kamthe99@gmail.com', \"Bharati Vidyapeeth's College of Engineering for Women, Dhankawadi, Pune\", 'Female', '8.98E+09', 'EnTC', '2015', '95', '2017', '71.02', '0', '0', '2021', '78.85', 'Prof. Kale Pranoti', 'kpranoti2005@yahoo.com', '9890164361']\n",
      "['Gargi Nigade', 'gargi.vr11@gmail.com', \"Bharati Vidyapeeth's College of Engineering for Women, Dhankawadi, Pune\", 'Female', '7.02E+09', 'EnTC', '2015', '93.17', '2017', '63.23', '0', '0', '2021', '73.83', 'Prof. Kale Pranoti', 'kpranoti2005@yahoo.com', '9890164361']\n",
      "['Prabha Adsul', 'adsul.prabha1@gmail.com', \"Bharati Vidyapeeth's College of Engineering for Women, Dhankawadi, Pune\", 'Female', '7.06E+09', 'EnTC', '2014', '78', '2016', '61.85', '0', '0', '2021', '62.04', 'Prof. Kale Pranoti', 'kpranoti2005@yahoo.com', '9890164361']\n",
      "['Seemarn Parate', 'seemranparate9@gmail.com', \"Bharati Vidyapeeth's College of Engineering for Women, Dhankawadi, Pune\", 'Female', '7.97E+09', 'EnTC', '2014', '83.23', '2016', '65.26', '0', '0', '2021', '65.89', 'Prof. Kale Pranoti', 'kpranoti2005@yahoo.com', '9890164361']\n",
      "['Samruddhi ManeDeshmukh', 'samrudhimd999@gmail.com', \"Bharati Vidyapeeth's College of Engineering for Women, Dhankawadi, Pune\", 'Female', '7.08E+09', 'EnTC', '2015', '88', '2017', '71', '0', '0', '2021', '64.82', 'Prof. Kale Pranoti', 'kpranoti2005@yahoo.com', '9890164361']\n",
      "['Alisha Bhiwgade', 'alishabhiwgade1112@gmail.com', \"Bharati Vidyapeeth's College of Engineering for Women, Dhankawadi, Pune\", 'Female', '9.83E+09', 'EnTC', '2015', '93.6', '2017', '74.9', '0', '0', '2021', '61.51', 'Prof. Kale Pranoti', 'kpranoti2005@yahoo.com', '9890164361']\n",
      "['Ankita Mandke', 'admandke@gmail.com', \"Bharati Vidyapeeth's College of Engineering for Women, Dhankawadi, Pune\", 'Female', '8.01E+09', 'EnTC', '2015', '90.2', '2017', '61.23', '0', '0', '2021', '57.64', 'Prof. Kale Pranoti', 'kpranoti2005@yahoo.com', '9890164361']\n",
      "['Mayuri Deshmukh', 'mayurideshmukh7747@gmail.com', \"Bharati Vidyapeeth's College of Engineering for Women, Dhankawadi, Pune\", 'Female', '9.58E+09', 'EnTC', '2015', '95.8', '2017', '78.31', '0', '0', '2021', '68.71', 'Prof. Kale Pranoti', 'kpranoti2005@yahoo.com', '9890164361']\n",
      "['Sujata Kumari', 'sujatakc19@gmail.com', \"Bharati Vidyapeeth's College of Engineering for Women, Dhankawadi, Pune\", 'Female', '8.10E+09', 'EnTC', '2015', '91.2', '2017', '74', '0', '0', '2021', '72.33', 'Prof. Kale Pranoti', 'kpranoti2005@yahoo.com', '9890164361']\n",
      "['Pranali Nanaware', 'pranalinanaware100@gmail.com', \"Bharati Vidyapeeth's College of Engineering for Women, Dhankawadi, Pune\", 'Female', '7.38E+09', 'EnTC', '2015', '89.6', '2017', '72.15', '0', '0', '2021', '65.73', 'Prof. Kale Pranoti', 'kpranoti2005@yahoo.com', '9890164361']\n",
      "['Pranita Dharmadhikari', 'pranitadharma98@gmail.com', \"Bharati Vidyapeeth's College of Engineering for Women, Dhankawadi, Pune\", 'Female', '9.66E+09', 'EnTC', '2014', '87.4', '2016', '57.38', '0', '0', '2021', '62.27', 'Prof. Kale Pranoti', 'kpranoti2005@yahoo.com', '9890164361']\n",
      "['Deepika Patil', 'deepikapatil018@gmail.com', \"Bharati Vidyapeeth's College of Engineering for Women, Dhankawadi, Pune\", 'Female', '7.08E+09', 'EnTC', '2015', '85.5', '2017', '61', '0', '0', '2021', '65.12', 'Prof. Kale Pranoti', 'kpranoti2005@yahoo.com', '9890164361']\n",
      "['Priyanka Tripathi', 'soniatripathi1999@gmail.com', \"Bharati Vidyapeeth's College of Engineering for Women, Dhankawadi, Pune\", 'Female', '7.26E+09', 'EnTC', '2015', '85.5', '2017', '74.2', '0', '0', '2021', '75.76', 'Prof. Kale Pranoti', 'kpranoti2005@yahoo.com', '9890164361']\n",
      "['Madhu Mule', 'mulemadhu20@gmail.com', \"Bharati Vidyapeeth's College of Engineering for Women, Dhankawadi, Pune\", 'Female', '8.28E+09', 'EnTC', '2015', '95', '2017', '79.85', '0', '0', '2021', '76.73', 'Prof. Kale Pranoti', 'kpranoti2005@yahoo.com', '9890164361']\n",
      "['Samiksha Barbhai', 'samikshabarbhai18@gmail.com', \"Bharati Vidyapeeth's College of Engineering for Women, Dhankawadi, Pune\", 'Female', '7.04E+09', 'EnTC', '2015', '89.22', '2017', '68.77', '0', '0', '2021', '57.71', 'Prof. Kale Pranoti', 'kpranoti2005@yahoo.com', '9890164361']\n",
      "['Dnyaneshvari Vedpathak', 'dsvedpathak50@gmail.com', \"Bharati Vidyapeeth's College of Engineering for Women, Dhankawadi, Pune\", 'Female', '8.46E+09', 'EnTC', '2015', '81.6', '2017', '66.15', '0', '0', '2018', '60.19', 'Prof. Kale Pranoti', 'kpranoti2005@yahoo.com', '9890164361']\n",
      "['Sharayu Parakh', 'sharayup1999@gmail.com', \"Bharati Vidyapeeth's College of Engineering for Women, Dhankawadi, Pune\", 'Female', '7.25E+09', 'EnTC', '2015', '82.8', '2017', '60.7', '0', '0', '2021', '61.95', 'Prof. Kale Pranoti', 'kpranoti2005@yahoo.com', '9890164361']\n",
      "['Gauri Janawade', 'gaurijanawade@gmail.com', \"Bharati Vidyapeeth's College of Engineering for Women, Dhankawadi, Pune\", 'Female', '9.97E+09', 'EnTC', '2015', '88', '2017', '77.38', '0', '0', '2021', '69.25', 'Prof. Kale Pranoti', 'kpranoti2005@yahoo.com', '9890164361']\n",
      "['ACHAL YEDE', 'achalyede107@gmail.com', \"Bharati Vidyapeeth's College of Engineering for Women, Dhankawadi, Pune\", 'Female', '7.26E+09', 'EnTC', '2015', '83.03', '2017', '62', '0', '0', '2021', '65.3', 'Prof. Kale Pranoti', 'kpranoti2005@yahoo.com', '9890164361']\n",
      "['Divya Bharti', 'divyabharti1101@gmail.com', \"Bharati Vidyapeeth's College of Engineering for Women, Dhankawadi, Pune\", 'Female', '8.80E+09', 'EnTC', '2014', '90', '2016', '76.4', '0', '0', '2021', '76.56', 'Prof. Kale Pranoti', 'kpranoti2005@yahoo.com', '9890164361']\n",
      "['Varsha Saindane', 'varshasaindane8640@gmail.com', \"Bharati Vidyapeeth's College of Engineering for Women, Dhankawadi, Pune\", 'Female', '8.24E+09', 'EnTC', '2015', '85.8', '0', '0', '2018', '77.53', '2021', '58.26', 'Prof. Kale Pranoti', 'kpranoti2005@yahoo.com', '9890164361']\n",
      "['Sindhu M', 'sindhum5600@gmail.com', \"Bharati Vidyapeeth's College of Engineering for Women, Dhankawadi, Pune\", 'Female', '9.76E+09', 'EnTC', '2015', '77.9', '2017', '77.8', '0', '0', '2021', '62', 'Prof. Kale Pranoti', 'kpranoti2005@yahoo.com', '9890164361']\n",
      "['Vishvali Kusangwar', 'vishnk07@gmail.com', \"Bharati Vidyapeeth's College of Engineering for Women, Dhankawadi, Pune\", 'Female', '8.49E+09', 'EnTC', '2015', '91.2', '2017', '64.98', '0', '0', '2021', '71.5', 'Prof. Kale Pranoti', 'kpranoti2005@yahoo.com', '9890164361']\n",
      "['Mayuri Khadke', 'mayurivkhadke@gmail.com', \"Bharati Vidyapeeth's College of Engineering for Women, Dhankawadi, Pune\", 'Female', '9.40E+09', 'EnTC', '2015', '86.8', '2017', '64', '0', '0', '2021', '55.44', 'Prof. Kale Pranoti', 'kpranoti2005@yahoo.com', '9890164361']\n",
      "['Nayan Vyas', 'nayanvyas09@gmail.com', \"Bharati Vidyapeeth's College Of Engineering Lavale, Pune\", 'Male', '8.23E+09', 'EnTC', '2015', '92', '2017', '87.37', '0', '0', '2021', '59.5', 'Ajay Katkar', 'ajayakatkar@gmail.com', '9920699090 / 9226337736']\n",
      "['Amey Raghatate', 'raghuraghatate@gmail.com', \"Bharati Vidyapeeth's College Of Engineering Lavale, Pune\", 'Male', '9.55E+09', 'EnTC', '2015', '86.4', '2017', '65', '0', '0', '2021', '59', 'Ajay Katkar', 'ajayakatkar@gmail.com', '9920699090 / 9226337736']\n",
      "['Chandrakant Desai', 'desaics259@gmail.com', \"Bharati Vidyapeeth's College Of Engineering Lavale, Pune\", 'Male', '7.22E+09', 'EnTC', '2015', '89', '2017', '74.47', '0', '0', '2021', '69', 'Ajay Katkar', 'ajayakatkar@gmail.com', '9920699090 / 9226337736']\n",
      "['Neha Sarode', 'nehasarode699@gmail.com', \"Bharati Vidyapeeth's College of Engineering for Women, Dhankawadi, Pune\", 'Female', '8.43E+09', 'CS/IT', '2015', '94.2', '2017', '71.68', '0', '0', '2021', '64.24', 'Prof. Kale Pranoti', 'kpranoti2005@yahoo.com', '9890164361']\n",
      "['Shweta Chindhe', 'swetaschindhe@gmail.com', \"Bharati Vidyapeeth's College of Engineering for Women, Dhankawadi, Pune\", 'Female', '9.77E+09', 'CS/IT', '2015', '93.2', '2017', '81.67', '0', '0', '2021', '76.39', 'Prof. Kale Pranoti', 'kpranoti2005@yahoo.com', '9890164361']\n",
      "['Sayali Kedar', 'sayaliskedar@gmail.com', \"Bharati Vidyapeeth's College of Engineering for Women, Dhankawadi, Pune\", 'Female', '9.77E+09', 'CS/IT', '2015', '80', '2017', '60.4', '0', '0', '2021', '71.8', 'Prof. Kale Pranoti', 'kpranoti2005@yahoo.com', '9890164361']\n",
      "['Chaitali Bagal', 'chaitalibagal24@gmail.com', \"Bharati Vidyapeeth's College of Engineering for Women, Dhankawadi, Pune\", 'Female', '9.52E+09', 'CS/IT', '2015', '92.4', '2017', '76.66', '0', '0', '2021', '75.41', 'Prof. Kale Pranoti', 'kpranoti2005@yahoo.com', '9890164361']\n",
      "['Payal Taralekar', 'payaltaralekar123@gmail.com', \"Bharati Vidyapeeth's College of Engineering for Women, Dhankawadi, Pune\", 'Female', '7.39E+09', 'CS/IT', '2015', '81', '2017', '74.95', '0', '0', '2021', '69.52', 'Prof. Kale Pranoti', 'kpranoti2005@yahoo.com', '9890164361']\n",
      "['Aarti Bhat', 'aartibhat1010@gmail.com', \"Bharati Vidyapeeth's College of Engineering for Women, Dhankawadi, Pune\", 'Female', '9.83E+09', 'CS/IT', '2015', '90.8', '2017', '79.54', '0', '0', '2021', '68.44', 'Prof. Kale Pranoti', 'kpranoti2005@yahoo.com', '9890164361']\n",
      "['Meenakshi Sinha', 'meenakshisinha2012@gmail.com', \"Bharati Vidyapeeth's College of Engineering for Women, Dhankawadi, Pune\", 'Female', '9.10E+09', 'CS/IT', '2015', '77', '2017', '79.86', '0', '0', '2021', '77.88', 'Prof. Kale Pranoti', 'kpranoti2005@yahoo.com', '9890164361']\n",
      "['Pooja Varghat', 'varghatpooja15@gmail.com', \"Bharati Vidyapeeth's College of Engineering for Women, Dhankawadi, Pune\", 'Female', '7.89E+09', 'CS/IT', '2015', '91.8', '0', '0', '2018', '74.43', '2021', '71.2', 'Prof. Kale Pranoti', 'kpranoti2005@yahoo.com', '9890164361']\n",
      "['Asmita Khatate', 'asmikhatate23@gmail.com', \"Bharati Vidyapeeth's College of Engineering for Women, Dhankawadi, Pune\", 'Female', '9.76E+09', 'CS/IT', '2015', '90', '2017', '83.23', '0', '0', '2021', '68.51', 'Prof. Kale Pranoti', 'kpranoti2005@yahoo.com', '9890164361']\n",
      "['Kavya G', 'kavyasruthi916@gmail.com', \"Bharati Vidyapeeth's College of Engineering for Women, Dhankawadi, Pune\", 'Female', '9.28E+09', 'CS/IT', '2015', '85.5', '2017', '78', '0', '0', '2021', '75.49', 'Prof. Kale Pranoti', 'kpranoti2005@yahoo.com', '9890164361']\n",
      "['Shraddha Thorve', 'shraddhathorve203@gmail.com', \"Bharati Vidyapeeth's College of Engineering for Women, Dhankawadi, Pune\", 'Female', '7.06E+09', 'CS/IT', '2014', '92.8', '2017', '79.52', '0', '0', '2021', '74.18', 'Prof. Kale Pranoti', 'kpranoti2005@yahoo.com', '9890164361']\n",
      "['Himani Jangale', 'jangalehimani08@gmail.com', \"Bharati Vidyapeeth's College of Engineering for Women, Dhankawadi, Pune\", 'Female', '7.56E+09', 'CS/IT', '2015', '94.2', '2017', '81.46', '0', '0', '2021', '77.17', 'Prof. Kale Pranoti', 'kpranoti2005@yahoo.com', '9890164361']\n",
      "['Rajshree Ghatkar', 'rajshreeghatkar25@gmail.com', \"Bharati Vidyapeeth's College of Engineering for Women, Dhankawadi, Pune\", 'Female', '7.88E+09', 'CS/IT', '2015', '81.2', '2017', '70.26', '0', '0', '2021', '74.09', 'Prof. Kale Pranoti', 'kpranoti2005@yahoo.com', '9890164361']\n",
      "['Shubhangi Birajdar', 'shubhangibirajdar9423@gmail.com', \"Bharati Vidyapeeth's College of Engineering for Women, Dhankawadi, Pune\", 'Female', '9.62E+09', 'CS/IT', '2015', '93.2', '0', '0', '2018', '85.94', '2021', '76.03', 'Prof. Kale Pranoti', 'kpranoti2005@yahoo.com', '9890164361']\n",
      "['Arati Khopade', 'aratikhopade0909@gmail.com', \"Bharati Vidyapeeth's College of Engineering for Women, Dhankawadi, Pune\", 'Female', '9.73E+09', 'CS/IT', '2015', '90.6', '2017', '73.69', '0', '0', '2021', '69.69', 'Prof. Kale Pranoti', 'kpranoti2005@yahoo.com', '9890164361']\n",
      "['Khushabu Khinvasara', 'khushabukhinvasara@gmail.com', \"Bharati Vidyapeeth's College of Engineering for Women, Dhankawadi, Pune\", 'Female', '7.04E+09', 'CS/IT', '2015', '93.8', '0', '0', '2018', '86.93', '2021', '76.91', 'Prof. Kale Pranoti', 'kpranoti2005@yahoo.com', '9890164361']\n",
      "['Priyanka Bagal', 'bagalpiyu@gmail.com', \"Bharati Vidyapeeth's College of Engineering for Women, Dhankawadi, Pune\", 'Female', '9.28E+09', 'CS/IT', '2015', '92.8', '2017', '85', '0', '0', '2021', '74.88', 'Prof. Kale Pranoti', 'kpranoti2005@yahoo.com', '9890164361']\n",
      "['Shubhangi Gund', 'shubhangigund1999@gmail.com', \"Bharati Vidyapeeth's College of Engineering for Women, Dhankawadi, Pune\", 'Female', '9.28E+09', 'CS/IT', '2015', '88.6', '2017', '82.99', '0', '0', '2021', '80.17', 'Prof. Kale Pranoti', 'kpranoti2005@yahoo.com', '9890164361']\n",
      "['Harshada Jedhe', 'harshadamj5@gmail.com', \"Bharati Vidyapeeth's College of Engineering for Women, Dhankawadi, Pune\", 'Female', '8.89E+09', 'CS/IT', '2015', '92.2', '2017', '75.23', '0', '0', '2021', '71.27', 'Prof. Kale Pranoti', 'kpranoti2005@yahoo.com', '9890164361']\n",
      "['Priyanka Bodke', 'priyankabodke345@gmail.com', \"Bharati Vidyapeeth's College of Engineering for Women, Dhankawadi, Pune\", 'Female', '8.98E+09', 'CS/IT', '2015', '87', '2017', '68.59', '0', '0', '2021', '68', 'Prof. Kale Pranoti', 'kpranoti2005@yahoo.com', '9890164361']\n",
      "['Pradnya Dolthade', 'pradnyadolthade236@gmail.com', \"Bharati Vidyapeeth's College of Engineering for Women, Dhankawadi, Pune\", 'Female', '8.70E+09', 'CS/IT', '2015', '90.8', '2017', '78', '0', '0', '2021', '64.06', 'Prof. Kale Pranoti', 'kpranoti2005@yahoo.com', '9890164361']\n",
      "['Siddhant Kulkarni', 'siddhantpk@gmail.com', 'Dr. D.Y. Patil Institute of Engineering, Management and Research, Akurdi, Pune', 'Male', '9.00E+09', 'EnTC', '2014', '93', '2016', '70', '0', '0', '2021', '70', 'Heeresh Khatri', 'tpo@dypcoeakurdi.ac.in', '9923963332']\n",
      "['Aditi Sinha', 'aditisinha906@gmail.com', 'Dr. D.Y. Patil Institute of Engineering, Management and Research, Akurdi, Pune', 'Female', '8.10E+09', 'EnTC', '2015', '85', '2017', '89', '0', '0', '2021', '66.9', 'Heeresh Khatri', 'tpo@dypcoeakurdi.ac.in', '9923963332']\n",
      "['Anju Sailas', 'anjucdas09@gmail.com', 'D.Y. Patil College of Engineering, Akurdi, Pune', 'Female', '9.92E+09', 'EnTC', '2013', '91.09', '2015', '81.85', '0', '0', '2021', '71.24', 'Heeresh Khatri', 'tpo@dypcoeakurdi.ac.in', '9923963332']\n",
      "['Vedant Phulkar', 'vedantphulkar123@gmail.com', 'Dr. D.Y. Patil Institute of Engineering, Management and Research, Akurdi, Pune', 'Male', '8.38E+09', 'EnTC', '2015', '85.2', '2017', '66.6', '0', '0', '2021', '70', 'Heeresh Khatri', 'tpo@dypcoeakurdi.ac.in', '9923963332']\n",
      "['Kedar Shiral', 'shiralkedar@gmail.com', 'D.Y. Patil College of Engineering, Akurdi, Pune', 'Male', '7.25E+09', 'EnTC', '2015', '91.8', '2017', '71.85', '0', '0', '2021', '69.71', 'Heeresh Khatri', 'tpo@dypcoeakurdi.ac.in', '9923963332']\n",
      "['RAHUL MATHAPATI', 'rahul.mathapati09@gmail.com', 'D.Y. Patil College of Engineering, Akurdi, Pune', 'Male', '9.56E+09', 'EnTC', '2015', '81', '2017', '76.92', '0', '0', '2021', '71', 'Heeresh Khatri', 'tpo@dypcoeakurdi.ac.in', '9923963332']\n",
      "['Monika Bhat', 'monikabhat57@gmail.com', 'Dr. D.Y. Patil Institute of Engineering, Management and Research, Akurdi, Pune', 'Female', '7.08E+09', 'EnTC', '2015', '88', '2017', '82', '0', '0', '2021', '69', 'Heeresh Khatri', 'tpo@dypcoeakurdi.ac.in', '9923963332']\n",
      "['Pawan Srivastava', 'pawansrivastava.1234@gmail.com', 'D.Y. Patil College of Engineering, Akurdi, Pune', 'Male', '9.65E+09', 'EnTC', '2014', '82.2', '2016', '74', '0', '0', '2021', '64', 'Heeresh Khatri', 'tpo@dypcoeakurdi.ac.in', '9923963332']\n",
      "['Sarang Tawale', 'sarangtawale08@gmail.com', 'Dr. D.Y. Patil Institute of Engineering, Management and Research, Akurdi, Pune', 'Male', '9.13E+09', 'EnTC', '2015', '95', '2017', '82', '0', '0', '2021', '70', 'Heeresh Khatri', 'tpo@dypcoeakurdi.ac.in', '9923963332']\n",
      "['Ashish Giri', 'ashishgiri.1999@gmail.com', 'D.Y. Patil College of Engineering, Akurdi, Pune', 'Male', '9.15E+09', 'EnTC', '2015', '83.8', '2017', '80.6', '0', '0', '2021', '69.4', 'Heeresh Khatri', 'tpo@dypcoeakurdi.ac.in', '9923963332']\n",
      "['PRANAV SHAH', 'pranav98shah@gmail.com', 'Dr. D.Y. Patil Institute of Engineering, Management and Research, Akurdi, Pune', 'Male', '9.89E+09', 'EnTC', '2015', '82', '2017', '86', '0', '0', '2021', '69', 'Heeresh Khatri', 'tpo@dypcoeakurdi.ac.in', '9923963332']\n",
      "['Shubham Kumarbhardwaj', 'shubhammanas98@gmail.com', 'D.Y. Patil College of Engineering, Akurdi, Pune', 'Male', '7.99E+09', 'EnTC', '2015', '93.1', '2017', '78.4', '0', '0', '2021', '72.34', 'Heeresh Khatri', 'tpo@dypcoeakurdi.ac.in', '9923963332']\n",
      "['Swaleha Momin', 'swalehamomin6@gmail.com', 'Dr. D.Y. Patil Institute of Engineering, Management and Research, Akurdi, Pune', 'Female', '7.52E+09', 'EnTC', '2014', '89.2', '2016', '83.05', '0', '0', '2021', '62', 'Heeresh Khatri', 'tpo@dypcoeakurdi.ac.in', '9923963332']\n",
      "['Shubham Arle', 'shubhamarle@gmail.com', 'D.Y. Patil College of Engineering, Akurdi, Pune', 'Male', '9.82E+09', 'CS/IT', '2015', '92', '2017', '78', '0', '0', '2021', '70.55', 'Heeresh Khatri', 'tpo@dypcoeakurdi.ac.in', '9923963332']\n",
      "['Karan Dhangar', 'karandhangar999@gmail.com', 'D.Y. Patil College of Engineering, Akurdi, Pune', 'Male', '9.67E+09', 'CS/IT', '2015', '92.64', '2017', '74.74', '0', '0', '2021', '80.6', 'Heeresh Khatri', 'tpo@dypcoeakurdi.ac.in', '9923963332']\n",
      "['Shrirang Diwakar', 'shrirang4444@gmail.com', 'D.Y. Patil College of Engineering, Akurdi, Pune', 'Male', '9.31E+09', 'CS/IT', '2015', '91', '2017', '78', '0', '0', '2021', '81.02', 'Heeresh Khatri', 'tpo@dypcoeakurdi.ac.in', '9923963332']\n",
      "['Shipra Banerjee', 'banerjeeshipra28@gmail.com', 'Trinity Academy of Engineering, Pune', 'Female', '8.61E+09', 'CS/IT', '2015', '90.01', '2017', '69.71', '0', '0', '2021', '61.23', 'Anil S. Agrawal', 'asagrawal@yahoo.com', '9422287243']\n",
      "['Smita Chavan', 'chavansmita8084@gmail.com', 'Trinity College of Engineering and Research, Pune', 'Female', '9.12E+09', 'CS/IT', '2015', '77', '2017', '74.92', '0', '0', '2021', '70', 'Anil S. Agrawal', 'asagrawal@yahoo.com', '9422287243']\n",
      "['Pooja Tilekar', 'poojadtilekar@gmail.com', 'Trinity Academy of Engineering, Pune', 'Female', '7.04E+09', 'CS/IT', '2015', '90.6', '2017', '68', '0', '0', '2021', '57', 'Anil S. Agrawal', 'asagrawal@yahoo.com', '9422287243']\n",
      "['Bhavik Khatri', 'bhavik11khatri@gmail.com', 'K. J. College of Engineering and Management Research, Pune', 'Male', '8.41E+09', 'CS/IT', '2015', '83.5', '2017', '64.6', '0', '0', '2021', '66.7', 'Anil S. Agrawal', 'asagrawal@yahoo.com', '9422287243']\n",
      "['Bharat Choudhary', 'choudharybharat9988@gmail.com', 'K. J. College of Engineering and Management Research, Pune', 'Male', '9.55E+09', 'CS/IT', '2015', '85.5', '2017', '60.77', '0', '0', '2021', '65.51', 'Anil S. Agrawal', 'asagrawal@yahoo.com', '9422287243']\n",
      "['Pratiksha Dhavale', 'pratikshabdhavale@gmail.com', 'K. J. College of Engineering and Management Research, Pune', 'Female', '7.06E+09', 'CS/IT', '2015', '92.4', '2017', '75.85', '0', '0', '2021', '70', 'Anil S. Agrawal', 'asagrawal@yahoo.com', '9422287243']\n",
      "['Sarthak Tejale', 'sarthaktejale@gmail.com', 'K. J. College of Engineering and Management Research, Pune', 'Male', '8.60E+09', 'CS/IT', '2012', '78', '2014', '60', '0', '0', '2021', '60.4', 'Anil S. Agrawal', 'asagrawal@yahoo.com', '9422287243']\n",
      "['Vinayak Tupe', 'vinayakphadtare9822@gmail.com', 'Trinity Academy of Engineering, Pune', 'Male', '8.67E+09', 'CS/IT', '2015', '74.6', '0', '0', '2018', '87.5', '2021', '75.68', 'Anil S. Agrawal', 'asagrawal@yahoo.com', '']\n",
      "['Adarsh Pawar', 'ramganeshpawar@gmail.com', 'Trinity Academy of Engineering, Pune', 'Male', '8.89E+09', 'CS/IT', '2015', '78', '2017', '76', '0', '0', '2021', '60', 'Anil S. Agrawal', 'asagrawal@yahoo.com', '']\n",
      "['Rajshekhar Swami', 'rs03461@gmail.com', 'Trinity Academy of Engineering, Pune', 'Male', '9.86E+09', 'CS/IT', '2008', '70.61', '0', '0', '2018', '68.12', '2021', '57', 'Anil S. Agrawal', 'asagrawal@yahoo.com', '']\n",
      "['Yuvraj Jadhav', 'yuvrajjadhav28@gmail.com', 'Trinity College of Engineering and Research, Pune', 'Male', '7.77E+09', 'CS/IT', '2015', '73.33', '0', '0', '2018', '76.35', '2021', '70.75', 'Anil S. Agrawal', 'asagrawal@yahoo.com', '']\n",
      "['Rohan Bhalerao', 'rohandbhalerao7906@gmail.com', 'Trinity Academy of Engineering, Pune', 'Male', '7.77E+09', 'CS/IT', '2013', '81.8', '2015', '80', '2018', '85.56', '2021', '58', 'Anil S. Agrawal', 'asagrawal@yahoo.com', '']\n",
      "['Nilesh Ramteke', 'nileshramteke07@gmail.com', 'K. J. College of Engineering and Management Research, Pune', 'Male', '8.15E+09', 'CS/IT', '2012', '60.36', '0', '0', '2016', '66', '2021', '65', 'Anil S. Agrawal', 'asagrawal@yahoo.com', '9422287243']\n",
      "['SAHIL MEMON', 'sahilmemon988@gmail.com', 'K. J. College of Engineering and Management Research, Pune', 'Male', '9.69E+09', 'CS/IT', '2013', '60', '2015', '56', '0', '0', '2021', '65', 'Anil S. Agrawal', 'asagrawal@yahoo.com', '9422287243']\n",
      "['Abhishek Padalklar', 'abhipadalkar8335@gmail.com', 'K. J. College of Engineering and Management Research, Pune', 'Male', '8.55E+09', 'CS/IT', '2014', '79.8', '2016', '56', '0', '0', '2021', '60', 'Anil S. Agrawal', 'asagrawal@yahoo.com', '9422287243']\n",
      "['Priya Jadhav', 'priyajadhav51@gmail.com', 'Trinity Academy of Engineering, Pune', 'Female', '8.38E+09', 'CS/IT', '2015', '78', '2017', '68.2', '0', '0', '2021', '65.82', 'Anil S. Agrawal', 'asagrawal@yahoo.com', '']\n",
      "['Rohit Kadam', 'kadamr0604@gmail.com', 'Trinity Academy of Engineering, Pune', 'Male', '7.35E+09', 'CS/IT', '2014', '87', '2016', '58', '0', '0', '2021', '57.02', 'Anil S. Agrawal', 'asagrawal@yahoo.com', '']\n",
      "['Shruti Karad', 'karadshruti1699@gmail.com', 'Trinity College of Engineering and Research, Pune', 'Female', '9.66E+09', 'CS/IT', '2015', '88.8', '2017', '76.92', '0', '0', '2021', '64.76', 'Anil S. Agrawal', 'asagrawal@yahoo.com', '']\n",
      "['Pratiksha Raut', 'pratiksharaut180@gmail.com', 'K. J. College of Engineering and Management Research, Pune', 'Female', '8.46E+09', 'CS/IT', '2015', '89.8', '2017', '71.23', '0', '0', '2021', '68.55', 'Anil S. Agrawal', 'asagrawal@yahoo.com', '9422287243']\n",
      "['Sayyam Darzi', 'sayyamd1999@gmail.com', 'Trinity College of Engineering and Research, Pune', 'Male', '9.50E+09', 'CS/IT', '2015', '79.2', '2017', '68.92', '0', '0', '2021', '61', 'Anil S. Agrawal', 'asagrawal@yahoo.com', '']\n",
      "['Aditya Dongre', 'dongre.khed@gmail.com', 'Trinity College of Engineering and Research, Pune', 'Male', '9.55E+09', 'CS/IT', '2015', '91.8', '2017', '73.23', '0', '0', '2021', '68.88', 'Anil S. Agrawal', 'asagrawal@yahoo.com', '']\n",
      "['Azhar Hakim', 'azarhakim55@gmail.com', 'Trinity Academy of Engineering, Pune', 'Male', '9.86E+09', 'CS/IT', '2014', '75', '0', '0', '2018', '70.4', '2021', '60', 'Anil S. Agrawal', 'asagrawal@yahoo.com', '']\n",
      "['Afeef Shaikh', 'afeefshaikh01@gmail.com', 'Trinity College of Engineering and Research, Pune', 'Male', '9.83E+09', 'CS/IT', '2014', '82.8', '2016', '67', '0', '0', '2021', '61', 'Anil S. Agrawal', 'asagrawal@yahoo.com', '']\n",
      "['Abhishek Ubare', 'abhiubare7758048782@gmail.com', 'K. J. College of Engineering and Management Research, Pune', 'Male', '8.33E+09', 'CS/IT', '2015', '87', '2017', '70', '0', '0', '2021', '66', 'Anil S. Agrawal', 'asagrawal@yahoo.com', '9422287243']\n",
      "['Vishwanath Kalshetti', 'vishalkalshetti2@gmail.com', 'K. J. College of Engineering and Management Research, Pune', 'Male', '7.02E+09', 'CS/IT', '2015', '74.6', '2017', '55.92', '0', '0', '2021', '56.32', 'Anil S. Agrawal', 'asagrawal@yahoo.com', '9422287243']\n",
      "['Harsh Shah', 'harshshah7060@gmail.com', 'Trinity Academy of Engineering, Pune', 'Male', '8.79E+09', 'CS/IT', '2015', '70.2', '2017', '60', '0', '0', '2021', '73.92', 'Anil S. Agrawal', 'asagrawal@yahoo.com', '']\n",
      "['Sanket Rasal', 'sanketwin@gmail.com', 'K. J. College of Engineering and Management Research, Pune', 'Male', '9.77E+09', 'CS/IT', '2013', '83.64', '2015', '62.62', '0', '0', '2021', '61.4', 'Anil S. Agrawal', 'asagrawal@yahoo.com', '9422287243']\n",
      "['Karthik Moolya', 'kartikkulal@gmail.com', 'K. J. College of Engineering and Management Research, Pune', 'Male', '9.67E+09', 'CS/IT', '2013', '72.96', '2015', '59.69', '0', '0', '2021', '56.23', 'Anil S. Agrawal', 'asagrawal@yahoo.com', '9422287243']\n",
      "['Karan Mangla', 'karan.mangla73@gmail.com', 'Trinity College of Engineering and Research, Pune', 'Male', '8.96E+09', 'CS/IT', '2014', '78', '2016', '67', '0', '0', '2021', '56.6', 'Anil S. Agrawal', 'asagrawal@yahoo.com', '']\n",
      "['SAIF MULLA', 'saifmulla444@gmail.com', 'K. J. College of Engineering and Management Research, Pune', 'Male', '7.07E+09', 'CS/IT', '2015', '82.2', '2017', '69.29', '0', '0', '2021', '66.21', 'Anil S. Agrawal', 'asagrawal@yahoo.com', '9422287243']\n",
      "['Musarrat Bakali', 'musarrat.bakali@gmail.com', 'Trinity College of Engineering and Research, Pune', 'Female', '8.67E+09', 'CS/IT', '2014', '87.4', '2016', '61', '0', '0', '2021', '66.8', 'Anil S. Agrawal', 'asagrawal@yahoo.com', '']\n",
      "['Vaishnavi Kocheta', 'unnatikocheta@gmail.com', 'Trinity College of Engineering and Research, Pune', 'Female', '8.83E+09', 'CS/IT', '2014', '82', '2016', '63.69', '0', '0', '2021', '60', 'Anil S. Agrawal', 'asagrawal@yahoo.com', '']\n",
      "['Aishwarya Kardile', 'aishwaryakardile2000@gmail.com', 'Trinity Academy of Engineering, Pune', 'Female', '7.35E+09', 'CS/IT', '2015', '88', '2017', '65.38', '0', '0', '2021', '62.12', 'Anil S. Agrawal', 'asagrawal@yahoo.com', '']\n",
      "['Rahul Chavan', 'rc69764@gmail.com', 'K. J. College of Engineering and Management Research, Pune', 'Male', '9.51E+09', 'CS/IT', '2015', '74.78', '2017', '58.6', '0', '0', '2021', '58', 'Anil S. Agrawal', 'asagrawal@yahoo.com', '9422287243']\n",
      "['Sohail Shaikh', 'sohailkool850@gmail.com', 'K. J. College of Engineering and Management Research, Pune', 'Male', '9.51E+09', 'CS/IT', '2015', '84.6', '2017', '58.6', '0', '0', '2021', '57.55', 'Anil S. Agrawal', 'asagrawal@yahoo.com', '9422287243']\n",
      "['Priya Ghadge', 'priyaghadge59@gmail.com', 'Trinity College of Engineering and Research, Pune', 'Female', '7.22E+09', 'CS/IT', '2015', '88.6', '2017', '68', '0', '0', '2021', '56', 'Anil S. Agrawal', 'asagrawal@yahoo.com', '']\n",
      "['Swarnim Razdan', 'razdan.swarnim@gmail.com', 'Trinity College of Engineering and Research, Pune', 'Male', '9.82E+09', 'CS/IT', '2013', '90', '2015', '70', '0', '0', '2021', '60', 'Anil S. Agrawal', 'asagrawal@yahoo.com', '']\n",
      "['REHAAN DAFEDAR', 'dafedarray@gmail.com', 'K. J. College of Engineering and Management Research, Pune', 'Male', '9.03E+09', 'CS/IT', '2014', '83.5', '2016', '74.15', '0', '0', '2021', '62.54', 'Anil S. Agrawal', 'asagrawal@yahoo.com', '9422287243']\n",
      "['SHUBHAM MANDHARE', 'shubhammandhare11@gmail.com', 'K. J. College of Engineering and Management Research, Pune', 'Male', '9.77E+09', 'CS/IT', '2014', '72', '2016', '58', '0', '0', '2021', '62', 'Anil S. Agrawal', 'asagrawal@yahoo.com', '9422287243']\n",
      "['Damini Khedekar', 'khedekardamini15@gmail.com', 'Trinity College of Engineering and Research, Pune', 'Female', '9.66E+09', 'CS/IT', '2015', '84', '0', '0', '2018', '70', '2021', '61', 'Anil S. Agrawal', 'asagrawal@yahoo.com', '']\n",
      "['Mansi Sharma', 'mansisharma1299@gmail.com', 'K. J. College of Engineering and Management Research, Pune', 'Female', '9.60E+09', 'CS/IT', '2015', '86', '2017', '66', '0', '0', '2021', '58', 'Anil S. Agrawal', 'asagrawal@yahoo.com', '9422287243']\n",
      "['MOHINI LOKHANDE', 'mohinilokhande2309@gmail.com', 'Trinity College of Engineering and Research, Pune', 'Female', '9.77E+09', 'CS/IT', '2015', '80.4', '2017', '56.92', '0', '0', '2021', '56', 'Anil S. Agrawal', 'asagrawal@yahoo.com', '']\n",
      "['Pornima Shirsat', 'pornimashirsat25@gmail.com', 'Trinity College of Engineering and Research, Pune', 'Female', '9.60E+09', 'CS/IT', '2015', '85', '2017', '57.32', '0', '0', '2021', '60', 'Anil S. Agrawal', 'asagrawal@yahoo.com', '']\n",
      "['Snehal Jambhulkar', 'snehaljmbhlkr22@gmail.com', 'Trinity College of Engineering and Research, Pune', 'Female', '8.61E+09', 'CS/IT', '2015', '80.8', '2017', '57.08', '0', '0', '2021', '59.45', 'Anil S. Agrawal', 'asagrawal@yahoo.com', '']\n",
      "['Sonali Bhingarkar', 'bhingarkarsonali106@gmail.com', 'K. J. College of Engineering and Management Research, Pune', 'Female', '7.22E+09', 'CS/IT', '2015', '88', '2017', '56.46', '0', '0', '2021', '65', 'Anil S. Agrawal', 'asagrawal@yahoo.com', '9422287243']\n",
      "['Nilam Divekar', 'divekarnilam9@gmail.com', 'K. J. College of Engineering and Management Research, Pune', 'Female', '7.03E+09', 'CS/IT', '2014', '74.8', '2016', '60', '0', '0', '2021', '58', 'Anil S. Agrawal', 'asagrawal@yahoo.com', '9422287243']\n",
      "['SAMIKSHA KAD', 'kadsamiksha347@gmail.com', 'K. J. College of Engineering and Management Research, Pune', 'Female', '9.52E+09', 'CS/IT', '2015', '78', '2017', '78', '0', '0', '2021', '60', 'Anil S. Agrawal', 'asagrawal@yahoo.com', '9422287243']\n",
      "['Anisha Chavan', 'ani10.benj@gmail.com', 'K. J. College of Engineering and Management Research, Pune', 'Female', '8.86E+09', 'CS/IT', '2015', '80', '2017', '62.5', '0', '0', '2021', '56', 'Anil S. Agrawal', 'asagrawal@yahoo.com', '9422287243']\n",
      "['Neha Jadhav', 'neha05jadhav@gmail.com', 'Trinity College of Engineering and Research, Pune', 'Female', '9.55E+09', 'CS/IT', '2015', '88.15', '0', '0', '2018', '81.53', '2021', '69.69', 'Anil S. Agrawal', 'asagrawal@yahoo.com', '']\n",
      "['Swaroopa Kanse', 'swarupak297@gmail.com', 'Trinity Academy of Engineering, Pune', 'Female', '8.86E+09', 'CS/IT', '2013', '76.49', '2015', '63', '0', '0', '2021', '55.4', 'Anil S. Agrawal', 'asagrawal@yahoo.com', '']\n",
      "['NEHA JAGADALE', 'nehajagadale8@gmail.com', 'Trinity Academy of Engineering, Pune', 'Female', '7.74E+09', 'CS/IT', '2015', '88.2', '0', '0', '2018', '79.2', '2021', '67.76', 'Anil S. Agrawal', 'asagrawal@yahoo.com', '']\n",
      "['Kajal Kudale', 'kajalkudale22@gmail.com', 'Trinity College of Engineering and Research, Pune', 'Female', '7.72E+09', 'CS/IT', '2015', '83.4', '2017', '76.92', '0', '0', '2021', '70.48', 'Anil S. Agrawal', 'asagrawal@yahoo.com', '']\n",
      "['Harshada Patil', 'harshadapatilh6574@gmail.com', 'Keystone School of Engineering, Pune', 'Female', '9.03E+09', 'CS/IT', '2015', '89.6', '2017', '73.5', '0', '0', '2021', '70.84', 'Bharat Bhushan', 'bbsud1@gmail.com', '9822038944']\n",
      "['Shrutik Vikhe', 'shrutikvikhe99@gmail.com', 'Keystone School of Engineering, Pune', 'Male', '7.72E+09', 'CS/IT', '2015', '70.4', '2017', '69.6', '0', '0', '2021', '62.65', 'Bharat Bhushan', 'bbsud1@gmail.com', '9822038944']\n",
      "['Mayuri Phadtare', 'phadtaremayuri7342@gmaol.com', 'Keystone School of Engineering, Pune', 'Female', '7.25E+09', 'CS/IT', '2014', '91.6', '2016', '63.68', '0', '0', '2021', '69.7', 'Bharat Bhushan', 'bbsud1@gmail.com', '9822038944']\n",
      "['Sabari Karmakar', 'sabari.karmakar@gmail.com', 'Keystone School of Engineering, Pune', 'Female', '7.04E+09', 'CS/IT', '2015', '82.6', '2017', '62.2', '0', '0', '2021', '63', 'Bharat Bhushan', 'bbsud1@gmail.com', '9822038944']\n",
      "['Atharva Pathak', 'atharvapathak28@gmail.com', 'Keystone School of Engineering, Pune', 'Male', '7.52E+09', 'CS/IT', '2015', '90', '2017', '67.34', '0', '0', '2021', '70.28', 'Bharat Bhushan', 'bbsud1@gmail.com', '9822038944']\n",
      "['Kunal Mohta', 'kunalmohta@gmail.com', 'Keystone School of Engineering, Pune', 'Male', '9.55E+09', 'CS/IT', '2015', '92', '2017', '70', '0', '0', '2021', '75', 'Bharat Bhushan', 'bbsud1@gmail.com', '9822038944']\n",
      "['Jitendra Choudhary', 'jit44455@gmail.com', 'Keystone School of Engineering, Pune', 'Male', '8.33E+09', 'CS/IT', '2015', '83', '2017', '65', '0', '0', '2021', '73.05', 'Bharat Bhushan', 'bbsud1@gmail.com', '9822038944']\n",
      "['Neha Bhoite', 'neha03bhoite@gmail.com', 'Keystone School of Engineering, Pune', 'Female', '8.69E+09', 'CS/IT', '2015', '86', '2017', '63', '0', '0', '2021', '66.44', 'Bharat Bhushan', 'bbsud1@gmail.com', '9822038944']\n",
      "['Shivani Mane', 'shivani.mane0209@gmail.com', 'Keystone School of Engineering, Pune', 'Female', '7.45E+09', 'CS/IT', '2015', '76.2', '2017', '60.16', '0', '0', '2021', '64.68', 'Bharat Bhushan', 'bbsud1@gmail.com', '9822038944']\n",
      "['ADVAIT TILAK', 'advaittilak@gmail.com', 'Keystone School of Engineering, Pune', 'Male', '9.51E+09', 'CS/IT', '2015', '80.21', '2017', '74', '0', '0', '2021', '72.16', 'Bharat Bhushan', 'bbsud1@gmail.com', '9822038944']\n",
      "['Siddhant Khopade', 'sidkhopade@gmail.com', 'Keystone School of Engineering, Pune', 'Male', '8.55E+09', 'CS/IT', '2015', '80.4', '2017', '61', '0', '0', '2021', '61.95', 'Bharat Bhushan', 'bbsud1@gmail.com', '9822038944']\n",
      "['Sidharth Joshi', 'sidjoshi60@gmail.com', 'Keystone School of Engineering, Pune', 'Male', '7.74E+09', 'CS/IT', '2015', '80', '2017', '57.68', '0', '0', '2021', '58.68', 'Bharat Bhushan', 'bbsud1@gmail.com', '9822038944']\n",
      "['Siddharth Pansare', 'sidhu.pansare@gmail.com', 'Keystone School of Engineering, Pune', 'Male', '7.28E+09', 'CS/IT', '2015', '91.8', '2017', '71.54', '0', '0', '2021', '73.92', 'Bharat Bhushan', 'bbsud1@gmail.com', '9822038944']\n",
      "['Bhagyashree Rane', 'ranebhagyashree18@gmail.com', 'Keystone School of Engineering, Pune', 'Female', '9.92E+09', 'CS/IT', '2015', '84.95', '2017', '69.23', '0', '0', '2021', '63.88', 'Bharat Bhushan', 'bbsud1@gmail.com', '9822038944']\n",
      "['Neeraj Mourya', 'neerajmourya9165@gmail.com', 'Keystone School of Engineering, Pune', 'Male', '9.67E+09', 'CS/IT', '2014', '72', '2016', '62', '0', '0', '2021', '57', 'Bharat Bhushan', 'bbsud1@gmail.com', '9822038944']\n",
      "['Vaishnavi Devkar', 'vaishnavidevkar43@gmail.com', 'Keystone School of Engineering, Pune', 'Female', '9.01E+09', 'CS/IT', '2014', '84.6', '2016', '56', '0', '0', '2021', '72.68', 'Bharat Bhushan', 'bbsud1@gmail.com', '9822038944']\n",
      "['Snehal Kadam', 'snehalkadam.1999@gmail.com', 'Keystone School of Engineering, Pune', 'Female', '8.45E+09', 'CS/IT', '2015', '81.2', '0', '0', '2018', '75', '2021', '63.4', 'Bharat Bhushan', 'bbsud1@gmail.com', '9822038944']\n",
      "['Akshay Sanas', 'akshaysanas0107@gmail.com', 'Keystone School of Engineering, Pune', 'Male', '7.97E+09', 'CS/IT', '2015', '89', '2017', '80', '0', '0', '2021', '77.35', 'Bharat Bhushan', 'bbsud1@gmail.com', '9822038944']\n",
      "['YASH NITAVE', 'nitavey@gmail.com', 'Dr. D.Y. Patil Institute of Technology, Pimpri', 'Male', '9.92E+09', 'EnTC', '2015', '86.8', '2017', '76.15', '0', '0', '2021', '68.7', 'Dheeraj Agrawal', 'dypiet.tpo@gmail.com', '8600219510']\n",
      "['Tanisha Rao', 'rtanisha215@gmail.com', 'Dr. D.Y. Patil Institute of Technology, Pimpri', 'Female', '7.39E+09', 'EnTC', '2015', '91.2', '2017', '70.15', '0', '0', '2021', '67.93', 'Dheeraj Agrawal', 'dypiet.tpo@gmail.com', '8600219510']\n",
      "['Siddhi Shedge', 'siddhi.shedge99@gmail.com', 'Dr. D.Y. Patil Institute of Technology, Pimpri', 'Female', '9.92E+09', 'EnTC', '2015', '83.4', '2017', '61.23', '0', '0', '2021', '67.94', 'Dheeraj Agrawal', 'dypiet.tpo@gmail.com', '8600219510']\n",
      "['Yukta Brijpuria', 'yuktamb@gmail.com', 'Dr. D.Y. Patil Institute of Technology, Pimpri', 'Female', '8.31E+09', 'EnTC', '2015', '83.6', '2017', '79.8', '0', '0', '2021', '68.73', 'Dheeraj Agrawal', 'dypiet.tpo@gmail.com', '8600219510']\n",
      "['VISHAL SHELAR', 'shelarvishal02@gmail.com', 'Dr. D.Y. Patil Institute of Technology, Pimpri', 'Male', '9.64E+09', 'EnTC', '2015', '92.6', '2017', '77.57', '0', '0', '2021', '76.47', 'Dheeraj Agrawal', 'dypiet.tpo@gmail.com', '8600219510']\n",
      "['Hiteshwar Dalpatia', 'hiteshwarjamwal6@gmail.com', 'Dr. D.Y. Patil Institute of Technology, Pimpri', 'Male', '9.80E+09', 'EnTC', '2015', '91.6', '2017', '88.6', '0', '0', '2021', '73.04', 'Dheeraj Agrawal', 'dypiet.tpo@gmail.com', '8600219510']\n",
      "['Simran Gautam', 'simran.gautam204@gmail.com', 'Dr. D.Y. Patil Institute of Technology, Pimpri', 'Female', '7.28E+09', 'EnTC', '2014', '78', '2016', '70', '0', '0', '2021', '69.99', 'Dheeraj Agrawal', 'dypiet.tpo@gmail.com', '8600219510']\n",
      "['Nihar Naik', 'niharn17121998@gmail.com', 'Dr. D.Y. Patil Institute of Technology, Pimpri', 'Male', '9.53E+09', 'CS/IT', '2014', '85.5', '2016', '90.3', '0', '0', '2021', '62.21', 'Dheeraj Agrawal', 'dypiet.tpo@gmail.com', '8600219510']\n",
      "['Tanuja Bhagat', 'tanujabhagat689@gmail.com', 'Dr. D.Y. Patil Institute of Technology, Pimpri', 'Female', '9.10E+09', 'CS/IT', '2015', '83.6', '2017', '63.69', '0', '0', '2021', '60.1', 'Dheeraj Agrawal', 'dypiet.tpo@gmail.com', '8600219510']\n",
      "['Snehpriya Khul', 'snehakhul@gmail.com', 'Dr. D.Y. Patil Institute of Technology, Pimpri', 'Female', '9.40E+09', 'CS/IT', '2015', '94.6', '2017', '73.08', '0', '0', '2021', '69.17', 'Dheeraj Agrawal', 'dypiet.tpo@gmail.com', '8600219510']\n",
      "['Rutuja Pande', 'rutujapande157@gmail.com', 'Dr. D.Y. Patil Institute of Technology, Pimpri', 'Female', '9.83E+09', 'CS/IT', '2015', '79.6', '0', '0', '2018', '84.18', '2021', '63.01', 'Dheeraj Agrawal', 'dypiet.tpo@gmail.com', '8600219510']\n",
      "['Shrutika Bansode', 'shrutikadbansode14@gmail.com', 'Dr. D.Y. Patil Institute of Technology, Pimpri', 'Female', '7.72E+09', 'CS/IT', '2015', '77', '2017', '60.62', '0', '0', '2021', '61.56', 'Dheeraj Agrawal', 'dypiet.tpo@gmail.com', '8600219510']\n",
      "['Renuka Sirsat', 'renukasirsat.it@gmail.com', 'Dr. D.Y. Patil Institute of Technology, Pimpri', 'Female', '8.89E+09', 'CS/IT', '2015', '85.4', '0', '0', '2018', '81', '2021', '63.36', 'Dheeraj Agrawal', 'dypiet.tpo@gmail.com', '8600219510']\n",
      "['Radha Dadge', 'radhadadge11@gmail.com', 'Pimpri Chinchwad College of Engineering and Research Ravet, Pune', 'Female', '9.92E+09', 'EnTC', '2015', '84.4', '0', '0', '2018', '84', '2021', '67.56', 'Sonali Lunawat', 'sonali.lunawat@pccoer.in', '8087472177']\n",
      "['Rameshwar Waykule', 'ram.waykule7171@gmail.com', 'Pimpri Chinchwad College of Engineering and Research Ravet, Pune', 'Male', '9.69E+09', 'EnTC', '2015', '79', '0', '0', '2018', '78.79', '2021', '58.85', 'Sonali Lunawat', 'sonali.lunawat@pccoer.in', '8087472177']\n",
      "['Shubham Patil', 'shubhampatilraje476@gmail.com', 'Pimpri Chinchwad College of Engineering and Research Ravet, Pune', 'Male', '9.33E+09', 'EnTC', '2015', '85.8', '2017', '64', '0', '0', '2021', '64.06', 'Sonali Lunawat', 'sonali.lunawat@pccoer.in', '8087472177']\n",
      "['Omkar Jagtap', 'jagtapomkar555@gmail.com', 'Pimpri Chinchwad College of Engineering and Research Ravet, Pune', 'Male', '7.39E+09', 'CS/IT', '2015', '88.4', '2017', '68.15', '0', '0', '2021', '69.18', 'Sonali Lunawat', 'sonali.lunawat@pccoer.in', '8087472177']\n",
      "['Gitesh Ghorpade', 'giteshghorpade2508@gmail.com', 'Pimpri Chinchwad College of Engineering and Research Ravet, Pune', 'Male', '9.61E+09', 'CS/IT', '2015', '69.68', '0', '0', '2018', '69.63', '2021', '60', 'Sonali Lunawat', 'sonali.lunawat@pccoer.in', '8087472177']\n",
      "['Vishal Sonar', 'vibrus77@gmail.com', 'Pimpri Chinchwad College of Engineering and Research Ravet, Pune', 'Male', '7.51E+09', 'CS/IT', '2015', '92.8', '2017', '66', '0', '0', '2021', '68.84', 'Sonali Lunawat', 'sonali.lunawat@pccoer.in', '8087472177']\n",
      "['Dhruvi Patel', 'dhruvibp0@gmail.com', 'Pimpri Chinchwad College of Engineering and Research Ravet, Pune', 'Female', '8.48E+09', 'CS/IT', '2014', '86.6', '2016', '68.31', '0', '0', '2021', '78.14', 'Sonali Lunawat', 'sonali.lunawat@pccoer.in', '8087472177']\n",
      "['Rohit Shirsath', 'rohitshirsat2182@gmail.com', 'Pimpri Chinchwad College of Engineering and Research Ravet, Pune', 'Male', '9.00E+09', 'CS/IT', '2015', '70', '2017', '61', '0', '0', '2021', '60.1', 'Sonali Lunawat', 'sonali.lunawat@pccoer.in', '8087472177']\n",
      "['Siddharth Gelada', 'jainsiddharth968@gmail.com', \"SNJB's College of Engineering, Nashik\", 'Male', '8.31E+09', 'CS/IT', '2015', '91.2', '2017', '78.8', '0', '0', '2021', '79.72', 'Pankaj Kapse', 'placementsnjb@gmail.com', '8149529587']\n",
      "['Nisha Ushir', 'nishaushir99@gmail.com', \"SNJB's College of Engineering, Nashik\", 'Female', '9.92E+09', 'CS/IT', '2015', '85', '2017', '65', '0', '0', '2021', '60', 'Pankaj Kapse', 'placementsnjb@gmail.com', '8149529587']\n",
      "['Apurva Jain', 'apurvajain8698@gmail.com', \"SNJB's College of Engineering, Nashik\", 'Female', '9.40E+09', 'CS/IT', '2012', '79.89', '2015', '60.41', '0', '0', '2021', '61.2', 'Pankaj Kapse', 'placementsnjb@gmail.com', '8149529587']\n",
      "['Pallavi Savkar', 'pallusavkar@gmail.com', \"SNJB's College of Engineering, Nashik\", 'Female', '7.74E+09', 'CS/IT', '2015', '81', '2017', '69', '0', '0', '2021', '77.9', 'Pankaj Kapse', 'placementsnjb@gmail.com', '8149529587']\n",
      "['Sourav Pardeshi', 'sourav11vpardeshi@gmail.com', \"SNJB's College of Engineering, Nashik\", 'Male', '9.76E+09', 'CS/IT', '2014', '82', '2016', '65', '0', '0', '2021', '66.59', 'Pankaj Kapse', 'placementsnjb@gmail.com', '8149529587']\n",
      "['Sonal Bhalerao', 'sonalbhalerao7800@gmail.com', \"SNJB's College of Engineering, Nashik\", 'Female', '9.50E+09', 'CS/IT', '2014', '81.99', '2016', '62.71', '0', '0', '2021', '62.98', 'Pankaj Kapse', 'placementsnjb@gmail.com', '8149529587']\n",
      "['Tushar Bhamare', 'tubhamare29@gmail.com', \"SNJB's College of Engineering, Nashik\", 'Male', '9.96E+09', 'CS/IT', '2015', '87.2', '2017', '67.2', '0', '0', '2021', '83.4', 'Pankaj Kapse', 'placementsnjb@gmail.com', '8149529587']\n",
      "['Hrutika Bhosale', 'bhosalehritu143@gmail.com', \"SNJB's College of Engineering, Nashik\", 'Female', '9.28E+09', 'CS/IT', '2015', '85.8', '2017', '65.4', '0', '0', '2021', '73.72', 'Pankaj Kapse', 'placementsnjb@gmail.com', '8149529587']\n",
      "['Tushar Gangurde', 'tusharsg3412@gmail.com', \"SNJB's College of Engineering, Nashik\", 'Male', '7.74E+09', 'CS/IT', '2014', '77.4', '2016', '50.62', '2018', '71.88', '2021', '72.73', 'Pankaj Kapse', 'placementsnjb@gmail.com', '8149529587']\n",
      "['Pravin Deshmane', 'pravindeshmane1998@gmail.com', \"SNJB's College of Engineering, Nashik\", 'Male', '8.48E+09', 'CS/IT', '2015', '88', '2017', '66', '0', '0', '2021', '67', 'Pankaj Kapse', 'placementsnjb@gmail.com', '8149529587']\n",
      "['SUYASH MAHAJAN', 'suyashtm@gmail.com', \"SNJB's College of Engineering, Nashik\", 'Male', '8.41E+09', 'CS/IT', '2014', '87.8', '0', '0', '2018', '77.82', '2021', '68.02', 'Pankaj Kapse', 'placementsnjb@gmail.com', '8149529587']\n",
      "['Aishwarya Ghate', 'aishwaryaghate321@gmail.com', \"SNJB's College of Engineering, Nashik\", 'Female', '9.66E+09', 'CS/IT', '2015', '80.6', '0', '0', '2018', '74.12', '2021', '63.87', 'Pankaj Kapse', 'placementsnjb@gmail.com', '8149529587']\n",
      "['Amruta Kothari', 'amruta5597@gmail.com', \"SNJB's College of Engineering, Nashik\", 'Female', '9.76E+09', 'CS/IT', '2014', '80', '2016', '60', '0', '0', '2021', '65.8', 'Pankaj Kapse', 'placementsnjb@gmail.com', '8149529587']\n",
      "['Kajal Gholap', 'gholapkajal98@gmail.com', \"SNJB's College of Engineering, Nashik\", 'Female', '8.79E+09', 'CS/IT', '2014', '80.8', '2016', '61.7', '0', '0', '2021', '62', 'Pankaj Kapse', 'placementsnjb@gmail.com', '8149529587']\n",
      "['Chetana Bafna', 'chetanabafna123@gmail.com', \"SNJB's College of Engineering, Nashik\", 'Female', '7.71E+09', 'CS/IT', '2015', '88.8', '0', '0', '2018', '87.12', '2021', '77.4', 'Pankaj Kapse', 'placementsnjb@gmail.com', '8149529587']\n",
      "['Kalpesh Gangurde', 'kalpeshgangurede6298@gmail.com', \"SNJB's College of Engineering, Nashik\", 'Male', '7.03E+09', 'CS/IT', '2014', '81.45', '2016', '60.15', '0', '0', '2021', '59.54', 'Pankaj Kapse', 'placementsnjb@gmail.com', '8149529587']\n",
      "['Saavan Gajjar', 'saavangajjar@gmail.com', \"SNJB's College of Engineering, Nashik\", 'Male', '9.02E+09', 'CS/IT', '2015', '70.33', '0', '0', '2018', '86.88', '2021', '81.89', 'Pankaj Kapse', 'placementsnjb@gmail.com', '8149529587']\n",
      "['Kaveri Wakchoure', 'kaveriwakchaure999@gmail.com', \"SNJB's College of Engineering, Nashik\", 'Female', '8.41E+09', 'CS/IT', '2014', '85.2', '2016', '74', '0', '0', '2021', '64.98', 'Pankaj Kapse', 'placementsnjb@gmail.com', '8149529587']\n",
      "['Tejal Kadam', 'tejalkadam57@gmail.com', \"SNJB's College of Engineering, Nashik\", 'Female', '8.33E+09', 'CS/IT', '2015', '93.2', '2017', '76.77', '0', '0', '2021', '79.77', 'Pankaj Kapse', 'placementsnjb@gmail.com', '8149529587']\n",
      "['Shivam Gujrathi', 'shivamgujrathi007@gmail.com', \"SNJB's College of Engineering, Nashik\", 'Male', '8.98E+09', 'CS/IT', '2014', '69', '0', '0', '2018', '74.48', '2021', '58', 'Pankaj Kapse', 'placementsnjb@gmail.com', '8149529587']\n",
      "['Prasad Dhole', 'dholeprasad143@gmail.com', \"SNJB's College of Engineering, Nashik\", 'Male', '9.62E+09', 'CS/IT', '2015', '86.8', '2017', '66.15', '0', '0', '2021', '64.03', 'Pankaj Kapse', 'placementsnjb@gmail.com', '8149529587']\n",
      "['Suraj Shukla', 'shuklasuraj1701@gmail.com', \"SNJB's College of Engineering, Nashik\", 'Male', '8.46E+09', 'CS/IT', '2014', '60', '0', '0', '2018', '71.35', '2021', '69.62', 'Pankaj Kapse', 'placementsnjb@gmail.com', '8149529587']\n",
      "['Pranoti Pawar', 'pawarpranotib1999@gmail.com', \"SNJB's College of Engineering, Nashik\", 'Female', '7.26E+09', 'CS/IT', '2015', '80.6', '0', '0', '2018', '77', '2021', '63.07', 'Pankaj Kapse', 'placementsnjb@gmail.com', '8149529587']\n",
      "['Madhura Wagh', 'madhuramwagh15@gmail.com', \"SNJB's College of Engineering, Nashik\", 'Female', '9.37E+09', 'CS/IT', '2015', '77.6', '0', '0', '2018', '78.65', '2021', '61.58', 'Pankaj Kapse', 'placementsnjb@gmail.com', '8149529587']\n",
      "['Monika Kotkar', 'monikakotkar1999@gmail.com', \"SNJB's College of Engineering, Nashik\", 'Female', '7.06E+09', 'CS/IT', '2015', '87', '2017', '70.46', '0', '0', '2021', '60.55', 'Pankaj Kapse', 'placementsnjb@gmail.com', '8149529587']\n",
      "['Radhika Mor', 'radhikamor29@gmail.com', \"SNJB's College of Engineering, Nashik\", 'Female', '7.84E+09', 'CS/IT', '2015', '94', '2017', '67.08', '0', '0', '2021', '60.7', 'Pankaj Kapse', 'placementsnjb@gmail.com', '8149529587']\n",
      "['Urmila Shinde', 'shindeurmila2016@gmail.com', \"SNJB's College of Engineering, Nashik\", 'Female', '7.22E+09', 'CS/IT', '2014', '89.6', '2016', '62.4', '0', '0', '2021', '60', 'Pankaj Kapse', 'placementsnjb@gmail.com', '8149529587']\n",
      "['Saloni Jain', 'suhanij7599@gmail.com', \"SNJB's College of Engineering, Nashik\", 'Female', '9.61E+09', 'CS/IT', '2015', '79.8', '2017', '65.52', '0', '0', '2021', '64.1', 'Pankaj Kapse', 'placementsnjb@gmail.com', '8149529587']\n",
      "['Sachin Chandgude', 'sachinchandgude8@gmail.com', \"SNJB's College of Engineering, Nashik\", 'Male', '7.04E+09', 'CS/IT', '2014', '79.7', '2016', '70.77', '2018', '75.59', '2021', '75', 'Pankaj Kapse', 'placementsnjb@gmail.com', '8149529587']\n",
      "['Samiksha Jain', 'jainsamiksha741@gmail.com', \"SNJB's College of Engineering, Nashik\", 'Female', '7.26E+09', 'CS/IT', '2014', '80.8', '2016', '72.15', '0', '0', '2021', '61.03', 'Pankaj Kapse', 'placementsnjb@gmail.com', '8149529587']\n",
      "['Pratiksha Chavan', 'pratiksha9860129764@gmail.com', \"SNJB's College of Engineering, Nashik\", 'Female', '9.07E+09', 'CS/IT', '2015', '79.4', '0', '0', '2018', '77.24', '2021', '66', 'Pankaj Kapse', 'placementsnjb@gmail.com', '8149529587']\n",
      "['Vishakha More', 'vishakhabmore1212@gmail.com', \"SNJB's College of Engineering, Nashik\", 'Female', '8.55E+09', 'CS/IT', '2015', '90.99', '0', '0', '2018', '75.06', '2021', '60', 'Pankaj Kapse', 'placementsnjb@gmail.com', '8149529587']\n",
      "['Sakshi Junnare', 'junnaresakshi@gmail.com', \"Sandip Foundation's Sandip Institute Of Engineering & Management, Nashik\", 'Female', '9.28E+09', 'CS/IT', '2015', '92.2', '2017', '74.77', '0', '0', '2021', '71.54', 'Nagma Shaikh', 'placements@sandipuniversity.edu.in', '959552255/7720933822']\n",
      "['Mayur Kawle', 'mayurkawlemk@gmail.com', \"Sandip Foundation's Sandip Institute Of Engineering & Management, Nashik\", 'Male', '9.76E+09', 'CS/IT', '2015', '82.8', '2017', '70', '0', '0', '2021', '61.87', 'Nagma Shaikh', 'placements@sandipuniversity.edu.in', '959552255/7720933822']\n",
      "['Poonam Katarnavare', 'katarnavarepoonam@gmail.com', \"Sandip Foundation's Sandip Institute Of Engineering & Management, Nashik\", 'Female', '7.51E+09', 'CS/IT', '2015', '78', '0', '0', '2018', '66', '2021', '60', 'Nagma Shaikh', 'placements@sandipuniversity.edu.in', '959552255/7720933822']\n",
      "['Niketan Pawar', 'niketanpwr@gmail.com', \"Sandip Foundation's Sandip Institute Of Engineering & Management, Nashik\", 'Male', '9.83E+09', 'CS/IT', '2015', '82.8', '2017', '71.6', '0', '0', '2021', '73.4', 'Nagma Shaikh', 'placements@sandipuniversity.edu.in', '959552255/7720933822']\n",
      "['Sayali Handore', 'sayalihandore111@gmail.com', \"Sandip Foundation's Sandip Institute Of Engineering & Management, Nashik\", 'Female', '9.37E+09', 'CS/IT', '2014', '70.6', '0', '0', '2018', '80.19', '2021', '61.5', 'Nagma Shaikh', 'placements@sandipuniversity.edu.in', '959552255/7720933822']\n",
      "['Aarti Shah', 'aartishah227@gmail.com', \"Sandip Foundation's Sandip Institute Of Engineering & Management, Nashik\", 'Female', '8.86E+09', 'CS/IT', '2015', '90.4', '2017', '68.39', '0', '0', '2021', '61', 'Nagma Shaikh', 'placements@sandipuniversity.edu.in', '959552255/7720933822']\n",
      "['Janhavi Raut', 'janhaviraut2000@gmail.com', \"Sandip Foundation's Sandip Institute Of Engineering & Management, Nashik\", 'Female', '9.18E+09', 'CS/IT', '2015', '89.8', '2017', '74.34', '0', '0', '2021', '71.15', 'Nagma Shaikh', 'placements@sandipuniversity.edu.in', '959552255/7720933822']\n",
      "['Tulsi Harel', 'tulsiharel5@gmail.com', \"Sandip Foundation's Sandip Institute Of Engineering & Management, Nashik\", 'Female', '9.37E+09', 'CS/IT', '2014', '80.4', '0', '0', '2018', '74', '2021', '61', 'Nagma Shaikh', 'placements@sandipuniversity.edu.in', '959552255/7720933822']\n",
      "['Nikeeta Ingale', 'nikeeing99@gmail.com', 'Sandip Institute of Technology and Research Centre, Nashik', 'Female', '7.38E+09', 'CS/IT', '2015', '87.6', '2017', '74.77', '0', '0', '2021', '76.5', 'Nagma Shaikh', 'placements@sandipuniversity.edu.in', '959552255/7720933822']\n",
      "['Saad Ansari', 'ansarisaad944@gmail.com', 'Sandip Institute of Technology and Research Centre, Nashik', 'Male', '9.96E+09', 'CS/IT', '2015', '76.6', '2017', '67.08', '0', '0', '2021', '67.23', 'Nagma Shaikh', 'placements@sandipuniversity.edu.in', '959552255/7720933822']\n",
      "['Shweta Malpure', 'shwetawani212@gmail.com', 'Sandip Institute of Technology and Research Centre, Nashik', 'Female', '8.81E+09', 'CS/IT', '2015', '81', '2017', '65.85', '0', '0', '2021', '58.4', 'Nagma Shaikh', 'placements@sandipuniversity.edu.in', '959552255/7720933822']\n",
      "['Jay Jadhav', 'jadhav.jay0253@gmail.com', 'Sandip Institute of Technology and Research Centre, Nashik', 'Male', '7.77E+09', 'CS/IT', '2014', '68.4', '0', '0', '2018', '77.69', '2021', '61.8', 'Nagma Shaikh', 'placements@sandipuniversity.edu.in', '959552255/7720933822']\n",
      "['Kajal Patil', 'patilkajal140@gmail.com', 'Sandip Institute of Technology and Research Centre, Nashik', 'Female', '7.39E+09', 'CS/IT', '2015', '93', '2017', '72.34', '0', '0', '2021', '68', 'Nagma Shaikh', 'placements@sandipuniversity.edu.in', '959552255/7720933822']\n",
      "['Shubham Kedar', 'shubhamkedar14@gmail.com', 'Sandip Institute of Technology and Research Centre, Nashik', 'Male', '9.17E+09', 'CS/IT', '2015', '85.6', '2017', '73', '0', '0', '2021', '60', 'Nagma Shaikh', 'placements@sandipuniversity.edu.in', '959552255/7720933822']\n",
      "['Sachin Mehta', 'sachinmehta6789@gmail.com', 'Sandip School of Computer Science and Engineering, Nashik', 'Male', '7.71E+09', 'CS/IT', '2015', '82', '2017', '70.4', '0', '0', '2021', '69.89', 'Nagma Shaikh', 'placements@sandipuniversity.edu.in', '959552255/7720933822']\n",
      "['Prasanna Jain', 'prasannajain265@gmail.com', 'Sandip School of Computer Science and Engineering, Nashik', 'Male', '7.06E+09', 'CS/IT', '2015', '90.4', '2017', '69.38', '0', '0', '2021', '75.62', 'Nagma Shaikh', 'placements@sandipuniversity.edu.in', '959552255/7720933822']\n",
      "['Aniket Paul', 'aniketpaul446@gmail.com', 'Sandip School of Computer Science and Engineering, Nashik', 'Male', '8.78E+09', 'CS/IT', '2015', '79.8', '2017', '71.8', '0', '0', '2021', '86.25', 'Nagma Shaikh', 'placements@sandipuniversity.edu.in', '959552255/7720933822']\n",
      "['Gayatri Chaudhari', 'gayatrichaudhari85@gmail.com', 'Sandip School of Computer Science and Engineering, Nashik', 'Female', '7.62E+09', 'CS/IT', '2015', '88', '0', '0', '2018', '88.88', '2019', '74.52', 'Nagma Shaikh', 'placements@sandipuniversity.edu.in', '959552255/7720933822']\n",
      "['Suraj Mandhane', 'surajmandhane40@gmail.com', 'Sandip School of Computer Science and Engineering, Nashik', 'Male', '7.71E+09', 'CS/IT', '2015', '88.8', '2017', '64.15', '0', '0', '2021', '65.31', 'Nagma Shaikh', 'placements@sandipuniversity.edu.in', '959552255/7720933822']\n",
      "['Nikhun Jena', 'likunjena26@gmail.com', 'Sandip School of Computer Science and Engineering, Nashik', 'Male', '9.60E+09', 'CS/IT', '2012', '76.28', '2014', '60.04', '0', '0', '2021', '78', 'Nagma Shaikh', 'placements@sandipuniversity.edu.in', '959552255/7720933822']\n",
      "['Hasnath Khan', 'khanhasnath16@gmail.com', 'Sandip School of Computer Science and Engineering, Nashik', 'Female', '8.39E+09', 'CS/IT', '2015', '80.6', '2017', '64.92', '0', '0', '2021', '71.98', 'Nagma Shaikh', 'placements@sandipuniversity.edu.in', '959552255/7720933822']\n",
      "['Pooja Gaikwad', 'poojasgaikwad.32@gmail.com', 'Sandip School of Computer Science and Engineering, Nashik', 'Female', '7.45E+09', 'CS/IT', '2015', '67.4', '0', '0', '2018', '76', '2021', '70.77', 'Nagma Shaikh', 'placements@sandipuniversity.edu.in', '959552255/7720933822']\n",
      "['Rohan Joshi', 'rohanj835@gmail.com', 'Sandip School of Computer Science and Engineering, Nashik', 'Male', '7.39E+09', 'CS/IT', '2015', '68.4', '2017', '74.4', '0', '0', '2021', '74.55', 'Nagma Shaikh', 'placements@sandipuniversity.edu.in', '959552255/7720933822']\n",
      "['Nishant Dabhade', 'nishantddabhade@gmail.com', 'Sandip School of Computer Science and Engineering, Nashik', 'Male', '8.24E+09', 'CS/IT', '2015', '84.58', '2017', '68.69', '0', '0', '2021', '73.19', 'Nagma Shaikh', 'placements@sandipuniversity.edu.in', '959552255/7720933822']\n",
      "['Kavita Narawade', 'kknarwade1998@gmail.com', 'MET BKC Institute of Engineering, Nashik', 'Female', '9.33E+09', 'CS/IT', '2014', '76.2', '2016', '62.92', '0', '0', '2021', '59.09', 'Prof.Shailendra Vidhate', 'shailendrav_ioe@bkc.met.edu', '9372938921']\n",
      "['Safwan Bardolia', 'safvanbardolia@gmail.com', 'MET BKC Institute of Engineering, Nashik', 'Male', '9.00E+09', 'CS/IT', '2015', '80.6', '2017', '71.23', '0', '0', '2021', '77.05', 'Prof.Shailendra Vidhate', 'shailendrav_ioe@bkc.met.edu', '9372938921']\n",
      "['Gauri Brahme', 'gauribrahme20@gmail.com', 'MET BKC Institute of Engineering, Nashik', 'Female', '8.66E+09', 'CS/IT', '2015', '81.67', '2017', '76.8', '0', '0', '2021', '79.9', 'Prof.Shailendra Vidhate', 'shailendrav_ioe@bkc.met.edu', '9372938921']\n",
      "['Ritika Kale', 'ritikakale76@gmail.com', 'MET BKC Institute of Engineering, Nashik', 'Female', '9.92E+09', 'CS/IT', '2015', '92.4', '2017', '76.31', '0', '0', '2021', '75.62', 'Prof.Shailendra Vidhate', 'shailendrav_ioe@bkc.met.edu', '9372938921']\n",
      "['RISHAV MISHRA', 'rishavmishra2000@gmail.com', 'MET BKC Institute of Engineering, Nashik', 'Male', '9.37E+09', 'CS/IT', '2015', '67.4', '2017', '68.6', '0', '0', '2021', '70.3', 'Prof.Shailendra Vidhate', 'shailendrav_ioe@bkc.met.edu', '9372938921']\n",
      "['Pranita Thube', 'thubep2904@gmail.com', 'MET BKC Institute of Engineering, Nashik', 'Female', '8.38E+09', 'CS/IT', '2015', '83.4', '2017', '67.38', '0', '0', '2021', '74.64', 'Prof.Shailendra Vidhate', 'shailendrav_ioe@bkc.met.edu', '9372938921']\n",
      "['Jayshri Mankar', 'mankarjayshri@gmail.com', 'MET BKC Institute of Engineering, Nashik', 'Female', '7.06E+09', 'CS/IT', '2014', '83.8', '2016', '71.05', '2018', '75', '2021', '60.31', 'Prof.Shailendra Vidhate', 'shailendrav_ioe@bkc.met.edu', '9372938921']\n",
      "['Snehal Phad', 'snehalphad99@gmail.com', 'MET BKC Institute of Engineering, Nashik', 'Female', '9.13E+09', 'CS/IT', '2015', '77.24', '2017', '63.34', '0', '0', '2021', '62.54', 'Prof.Shailendra Vidhate', 'shailendrav_ioe@bkc.met.edu', '9372938921']\n",
      "['Kunal Mogal', 'kunalsmogal125@gmail.com', 'MET BKC Institute of Engineering, Nashik', 'Male', '7.03E+09', 'CS/IT', '2015', '92.6', '2017', '77.38', '0', '0', '2021', '73.53', 'Prof.Shailendra Vidhate', 'shailendrav_ioe@bkc.met.edu', '9372938921']\n",
      "['Darshan Gade', 'darshangade1999@gmail.com', 'MET BKC Institute of Engineering, Nashik', 'Male', '7.28E+09', 'CS/IT', '2015', '87.8', '2017', '64.8', '0', '0', '2021', '68.5', 'Prof.Shailendra Vidhate', 'shailendrav_ioe@bkc.met.edu', '9372938921']\n",
      "['Rutuja Wagh', 'rutujawagh121@gmail.com', 'MET BKC Institute of Engineering, Nashik', 'Female', '9.89E+09', 'CS/IT', '2015', '87.4', '2017', '79.54', '0', '0', '2021', '74.09', 'Prof.Shailendra Vidhate', 'shailendrav_ioe@bkc.met.edu', '9372938921']\n",
      "['Kajal Thakare', 'thakarekajal08@gmail.com', 'MET BKC Institute of Engineering, Nashik', 'Female', '9.92E+09', 'CS/IT', '2014', '83.4', '2016', '61.69', '0', '0', '2021', '59.28', 'Prof.Shailendra Vidhate', 'shailendrav_ioe@bkc.met.edu', '9372938921']\n",
      "['Vishakha Patil', 'pvishakha90@gmail.com', 'MET BKC Institute of Engineering, Nashik', 'Female', '9.31E+09', 'CS/IT', '2015', '85.58', '2017', '69.35', '0', '0', '2021', '71.94', 'Prof.Shailendra Vidhate', 'shailendrav_ioe@bkc.met.edu', '9372938921']\n",
      "['Rameshwar Biradar', 'rameshwarbiradar458@gmail.com', 'MET BKC Institute of Engineering, Nashik', 'Male', '8.67E+09', 'CS/IT', '2015', '74.1', '2017', '62', '0', '0', '2021', '60.94', 'Prof.Shailendra Vidhate', 'shailendrav_ioe@bkc.met.edu', '9372938921']\n",
      "['Kalyani Borse', 'borsekalyani29@gmail.com', 'MET BKC Institute of Engineering, Nashik', 'Female', '9.60E+09', 'CS/IT', '2015', '85.2', '0', '0', '2018', '77', '2021', '63.58', 'Prof.Shailendra Vidhate', 'shailendrav_ioe@bkc.met.edu', '9372938921']\n",
      "['Chaitali Tarle', 'tarlechait184@gmail.com', 'MET BKC Institute of Engineering, Nashik', 'Female', '8.61E+09', 'CS/IT', '2015', '85.2', '0', '0', '2018', '75', '2021', '59.85', 'Prof.Shailendra Vidhate', 'shailendrav_ioe@bkc.met.edu', '9372938921']\n",
      "['SAYALI CHAVAN', 'sayalichavan1802@gmail.com', 'GES R.H. Sapat College of Engineering, Management Studies and Research, Nashik', 'Female', '8.01E+09', 'CS/IT', '2015', '82.2', '2017', '66.46', '0', '0', '2021', '62.59', 'Dhanraj Deshpande', 'dhanraj.deshpande@ges-coengg.org', '8329586331']\n",
      "['Rahul Joshi', 'rj246266@gmail.com', 'GES R.H. Sapat College of Engineering, Management Studies and Research, Nashik', 'Male', '7.41E+09', 'CS/IT', '2015', '81.66', '2017', '77', '0', '0', '2021', '81.53', 'Dhanraj Deshpande', 'dhanraj.deshpande@ges-coengg.org', '8329586331']\n",
      "['Shraddha Bhalerao', 'shraddhab196@gmail.com', 'GES R.H. Sapat College of Engineering, Management Studies and Research, Nashik', 'Female', '9.66E+09', 'CS/IT', '2014', '82', '2016', '61', '0', '0', '2021', '58.19', 'Dhanraj Deshpande', 'dhanraj.deshpande@ges-coengg.org', '8329586331']\n",
      "['Anuja Sonawane', 'sonawaneanuja99@gmail.com', 'GES R.H. Sapat College of Engineering, Management Studies and Research, Nashik', 'Female', '9.77E+09', 'CS/IT', '2015', '81.82', '2017', '72.66', '0', '0', '2021', '66.79', 'Dhanraj Deshpande', 'dhanraj.deshpande@ges-coengg.org', '8329586331']\n",
      "['Falguni Patel', 'falgunipatel13299@gmail.com', 'GES R.H. Sapat College of Engineering, Management Studies and Research, Nashik', 'Female', '8.15E+09', 'CS/IT', '2015', '85.76', '0', '0', '2018', '84.53', '2021', '73.39', 'Dhanraj Deshpande', 'dhanraj.deshpande@ges-coengg.org', '8329586331']\n",
      "['Nikhil Karpe', 'karpenikhil99@gmail.com', 'GES R.H. Sapat College of Engineering, Management Studies and Research, Nashik', 'Male', '7.39E+09', 'CS/IT', '2015', '88.6', '2017', '71.3', '0', '0', '2021', '64.58', 'Dhanraj Deshpande', 'dhanraj.deshpande@ges-coengg.org', '8329586331']\n",
      "['Resham Joshi', 'reshamjoshi30@gmail.com', 'GES R.H. Sapat College of Engineering, Management Studies and Research, Nashik', 'Female', '7.97E+09', 'CS/IT', '2015', '94.8', '2017', '82.31', '0', '0', '2021', '76.22', 'Dhanraj Deshpande', 'dhanraj.deshpande@ges-coengg.org', '8329586331']\n",
      "['Harshal Daive', 'hdharshal611@gmail.com', 'GES R.H. Sapat College of Engineering, Management Studies and Research, Nashik', 'Male', '9.52E+09', 'CS/IT', '2015', '94.8', '2017', '82.15', '0', '0', '2021', '72', 'Dhanraj Deshpande', 'dhanraj.deshpande@ges-coengg.org', '8329586331']\n",
      "['Neel Bhadkamkar', 'neel.bhadkamkar.1998@gmail.com', 'GES R.H. Sapat College of Engineering, Management Studies and Research, Nashik', 'Male', '7.72E+09', 'CS/IT', '2014', '87.2', '2016', '63.85', '0', '0', '2021', '58', 'Dhanraj Deshpande', 'dhanraj.deshpande@ges-coengg.org', '8329586331']\n",
      "['Kamini Bhor', 'kaminibhor.1999@gmail.com', 'GES R.H. Sapat College of Engineering, Management Studies and Research, Nashik', 'Female', '7.26E+09', 'CS/IT', '2015', '88.8', '2017', '66.64', '0', '0', '2021', '62.83', 'Dhanraj Deshpande', 'dhanraj.deshpande@ges-coengg.org', '8329586331']\n",
      "['Akash Shewale', 'akashshewale0801@gmail.com', 'GES R.H. Sapat College of Engineering, Management Studies and Research, Nashik', 'Male', '8.86E+09', 'CS/IT', '2015', '75.4', '0', '0', '2018', '77.29', '2020', '67.71', 'Dhanraj Deshpande', 'dhanraj.deshpande@ges-coengg.org', '8329586331']\n",
      "['Saurabhi Kulkarni', 'saurabhicoolkarni1899@gmail.com', 'GES R.H. Sapat College of Engineering, Management Studies and Research, Nashik', 'Female', '9.05E+09', 'CS/IT', '2015', '88', '0', '0', '2018', '81', '2021', '70.63', 'Dhanraj Deshpande', 'dhanraj.deshpande@ges-coengg.org', '8329586331']\n",
      "['Aniket Patil', 'aniketp26399@gmail.com', 'GES R.H. Sapat College of Engineering, Management Studies and Research, Nashik', 'Male', '8.01E+09', 'CS/IT', '2015', '87.02', '2017', '64', '0', '0', '2021', '67.03', 'Dhanraj Deshpande', 'dhanraj.deshpande@ges-coengg.org', '8329586331']\n",
      "['Yash Kewlani', 'yashkewlani2800@gmail.com', \"NDMVP's Karmaveer Baburao Thakare College of Engineering, Nashik\", 'Male', '7.72E+09', 'CS/IT', '2015', '81', '2017', '73.4', '', '', '2021', '68.34', 'Vineet Deore', 'tpo.ndmvpcoe@gmail.com', '9987377436']\n",
      "['Puja Sali', 'poojasali36@gmail.com', \"NDMVP's Karmaveer Baburao Thakare College of Engineering, Nashik\", 'Female', '7.88E+09', 'CS/IT', '2015', '86.8', '', '', '2018', '84.38', '2021', '76.9', 'Vineet Deore', 'tpo.ndmvpcoe@gmail.com', '9987377436']\n",
      "['Aishwarya Brahmankar', 'aishwaryabrahmankar@gmail.com', \"NDMVP's Karmaveer Baburao Thakare College of Engineering, Nashik\", 'Female', '7.38E+09', 'CS/IT', '2015', '86.2', '2017', '65.39', '', '', '2021', '64.5', 'Vineet Deore', 'tpo.ndmvpcoe@gmail.com', '9987377436']\n",
      "['Rutuja Mali', 'rutuja1999mali@gmail.com', \"NDMVP's Karmaveer Baburao Thakare College of Engineering, Nashik\", 'Female', '9.62E+09', 'CS/IT', '2015', '94', '2017', '78.9', '', '', '2021', '81.34', 'Vineet Deore', 'tpo.ndmvpcoe@gmail.com', '9987377436']\n",
      "['Nikhilkumar Marathe', 'marathen37@gmail.com', \"NDMVP's Karmaveer Baburao Thakare College of Engineering, Nashik\", 'Male', '9.36E+09', 'CS/IT', '2013', '83.45', '2015', '61.38', '', '', '2021', '60', 'Vineet Deore', 'tpo.ndmvpcoe@gmail.com', '9987377436']\n",
      "['Devesh Gujarathi', 'deveshguj39@gmail.com', \"NDMVP's Karmaveer Baburao Thakare College of Engineering, Nashik\", 'Male', '9.13E+09', 'CS/IT', '2015', '80.8', '2017', '60.13', '', '', '2021', '60', 'Vineet Deore', 'tpo.ndmvpcoe@gmail.com', '9987377436']\n",
      "['Chinmay Ghodke', 'chinmayghodke777@gmail.com', \"NDMVP's Karmaveer Baburao Thakare College of Engineering, Nashik\", 'Male', '8.79E+09', 'CS/IT', '2015', '94.2', '2017', '72.13', '', '', '2021', '86.83', 'Vineet Deore', 'tpo.ndmvpcoe@gmail.com', '9987377436']\n",
      "['Dhanali Khairnar', 'dhanalikhairnar99@gmail.com', \"NDMVP's Karmaveer Baburao Thakare College of Engineering, Nashik\", 'Female', '9.77E+09', 'CS/IT', '2015', '87.45', '2017', '65.97', '', '', '2021', '58.01', 'Vineet Deore', 'tpo.ndmvpcoe@gmail.com', '9987377436']\n",
      "['SHIVANI KAGLIWAL', 'shivanikagliwal@gmail.com', \"NDMVP's Karmaveer Baburao Thakare College of Engineering, Nashik\", 'Female', '9.89E+09', 'CS/IT', '2015', '92.2', '2017', '77.49', '', '', '2021', '72.56', 'Vineet Deore', 'tpo.ndmvpcoe@gmail.com', '9987377436']\n",
      "['Sarang Suryawanshi', 'sarangsuryawanshi1@gmail.com', \"NDMVP's Karmaveer Baburao Thakare College of Engineering, Nashik\", 'Male', '9.05E+09', 'CS/IT', '2015', '85.2', '2017', '66.3', '', '', '2021', '66.52', 'Vineet Deore', 'tpo.ndmvpcoe@gmail.com', '9987377436']\n",
      "['Prajakta Khaire', 'kprajakta36@gmail.com', \"NDMVP's Karmaveer Baburao Thakare College of Engineering, Nashik\", 'Female', '9.62E+09', 'CS/IT', '2015', '91.4', '2017', '80.62', '', '', '2021', '80.7', 'Vineet Deore', 'tpo.ndmvpcoe@gmail.com', '9987377436']\n",
      "['Bhumi Soni', 'bhumihsoni011@gmail.com', \"NDMVP's Karmaveer Baburao Thakare College of Engineering, Nashik\", 'Female', '8.21E+09', 'CS/IT', '2013', '80.2', '2015', '60', '', '', '2021', '58', 'Vineet Deore', 'tpo.ndmvpcoe@gmail.com', '9987377436']\n",
      "['Shivani Rane', 'raneshivani24@gmail.com', \"NDMVP's Karmaveer Baburao Thakare College of Engineering, Nashik\", 'Female', '9.40E+09', 'CS/IT', '2015', '94.4', '2017', '76', '', '', '2021', '76.27', 'Vineet Deore', 'tpo.ndmvpcoe@gmail.com', '9987377436']\n",
      "['Renuka Wagh', 'renukawagh1628@gmail.com', \"NDMVP's Karmaveer Baburao Thakare College of Engineering, Nashik\", 'Female', '8.28E+09', 'CS/IT', '2015', '84.2', '', '', '2018', '80', '2021', '65.88', 'Vineet Deore', 'tpo.ndmvpcoe@gmail.com', '9987377436']\n",
      "['Anuja Wanwe', 'anujawanwe2000@gmail.com', \"NDMVP's Karmaveer Baburao Thakare College of Engineering, Nashik\", 'Female', '8.21E+09', 'CS/IT', '2015', '88.6', '', '', '2018', '83.71', '2021', '74.8', 'Vineet Deore', 'tpo.ndmvpcoe@gmail.com', '9987377436']\n",
      "['Apurva Patil', 'patilapurva39@gmail.com', 'KK Wagh', 'Female', '9.51E+09', 'CS/IT', '2015', '95', '2017', '72', '0', '0', '2021', '69.7', 'Prof. Shahbadkar', 'tpo-engg@kkwagh.edu.in', '9822907468']\n",
      "['HRUSHIKESH JOSHI', 'bronkx10@gmail.com', 'KK Wagh', 'Male', '7.77E+09', 'CS/IT', '2015', '92', '2017', '87', '0', '0', '2021', '85.28', 'Prof. Shahbadkar', 'tpo-engg@kkwagh.edu.in', '9822907468']\n",
      "['Mayuresh Malhar', 'mayureshmalhar138@gmail.com', 'KK Wagh', 'Male', '7.28E+09', 'CS/IT', '2015', '89', '2017', '74.92', '0', '0', '2021', '62.21', 'Prof. Shahbadkar', 'tpo-engg@kkwagh.edu.in', '9822907468']\n",
      "['Ankita Shende', 'ankitashende512@gmail.com', 'KK Wagh', 'Female', '8.79E+09', 'CS/IT', '2015', '82.2', '0', '0', '2018', '84.2', '2021', '61.23', 'Prof. Shahbadkar', 'tpo-engg@kkwagh.edu.in', '9822907468']\n",
      "['Abhijit Bankar', 'abhijitbankar348@gmail.com', 'KK Wagh', 'Male', '9.83E+09', 'CS/IT', '2015', '88.35', '2017', '65', '0', '0', '2021', '71.55', 'Prof. Shahbadkar', 'tpo-engg@kkwagh.edu.in', '9822907468']\n",
      "['Pratiksha Ghongte', 'pratikshargh1999@gmail.com', 'KK Wagh', 'Female', '9.11E+09', 'CS/IT', '2015', '88.4', '0', '0', '2018', '83.36', '2021', '70', 'Prof. Shahbadkar', 'tpo-engg@kkwagh.edu.in', '9822907468']\n",
      "['Unnati Dadhich', 'unnati.dadhich@gmail.com', 'KK Wagh', 'Female', '9.05E+09', 'CS/IT', '2014', '74', '2016', '66.97', '0', '0', '2021', '60', 'Prof. Shahbadkar', 'tpo-engg@kkwagh.edu.in', '9822907468']\n",
      "['Rohit Jana', 'rohitjana007@gmail.com', 'Walchand Institute of Technology, Solapur', 'Male', '8.53E+09', 'EnTC', '2015', '89', '2017', '72', '0', '0', '2021', '72.5', 'Dr Satish Lakde', 'tpo@witsolapur.org', '7798250677']\n",
      "['Saish Gadekar', 'saish.gadekar@gmail.com', 'Walchand Institute of Technology, Solapur', 'Male', '7.50E+09', 'EnTC', '2014', '81', '2016', '87', '0', '0', '2021', '61', 'Dr Satish Lakde', 'tpo@witsolapur.org', '7798250677']\n",
      "['Komal Chavan', 'kchavan056@gmail.com', 'Walchand Institute of Technology, Solapur', 'Female', '8.21E+09', 'EnTC', '2015', '82.8', '2017', '64', '0', '0', '2021', '77.95', 'Dr Satish Lakde', 'tpo@witsolapur.org', '7798250677']\n",
      "['Ajinkya Shidore', 'meajinkyashidore@gmail.com', 'Walchand Institute of Technology, Solapur', 'Male', '9.41E+09', 'EnTC', '2015', '77.8', '0', '0', '2018', '75.88', '2021', '70.44', 'Dr Satish Lakde', 'tpo@witsolapur.org', '7798250677']\n",
      "['Arya Umbrajkar', 'aryaumbrajkar@gmail.com', 'Walchand Institute of Technology, Solapur', 'Female', '7.77E+09', 'EnTC', '2015', '89', '2017', '60', '0', '0', '2021', '67', 'Dr Satish Lakde', 'tpo@witsolapur.org', '7798250677']\n",
      "['Amruta Nanaware', 'nanawareamruta10@gmail.com', 'Walchand Institute of Technology, Solapur', 'Female', '7.22E+09', 'EnTC', '2015', '95.4', '2017', '78.96', '0', '0', '2021', '68.06', 'Dr Satish Lakde', 'tpo@witsolapur.org', '7798250677']\n",
      "['Venkat Dammanagari', 'venkat.dammanagari@gmail.com', 'Walchand Institute of Technology, Solapur', 'Male', '9.52E+09', 'EnTC', '2015', '86', '2017', '70', '0', '0', '2021', '69.92', 'Dr Satish Lakde', 'tpo@witsolapur.org', '7798250677']\n",
      "['Tushar Mangave', 'tusharmangave29@gmail.com', 'Walchand Institute of Technology, Solapur', 'Male', '9.82E+09', 'EnTC', '2015', '83.4', '2017', '69.85', '0', '0', '2021', '73.47', 'Dr Satish Lakde', 'tpo@witsolapur.org', '7798250677']\n",
      "['Giriraj Gutti', 'girirajgutti@gmail.com', 'Walchand Institute of Technology, Solapur', 'Male', '8.81E+09', 'EnTC', '2015', '88.2', '0', '0', '2018', '83', '2021', '81.15', 'Dr Satish Lakde', 'tpo@witsolapur.org', '7798250677']\n",
      "['Aparna Gore', 'aparnagore123@gmail.com', 'Walchand Institute of Technology, Solapur', 'Female', '9.83E+09', 'EnTC', '2015', '91.2', '2017', '82', '0', '0', '2021', '82', 'Dr Satish Lakde', 'tpo@witsolapur.org', '7798250677']\n",
      "['Jyoti Zingade', 'jyotizingade10@gmail.com', 'Walchand Institute of Technology, Solapur', 'Female', '8.86E+09', 'EnTC', '2015', '82', '0', '0', '2018', '83.47', '2021', '77.39', 'Dr Satish Lakde', 'tpo@witsolapur.org', '7798250677']\n",
      "['Saba Mujawar', 'mujawarsaba143@gmail.com', 'Walchand Institute of Technology, Solapur', 'Female', '9.83E+09', 'EnTC', '2015', '82.8', '0', '0', '2018', '78', '2021', '77.27', 'Dr Satish Lakde', 'tpo@witsolapur.org', '7798250677']\n",
      "['Sanyogi Gosavi', 'sanyogigosavi04@gmail.com', 'Walchand Institute of Technology, Solapur', 'Female', '9.52E+09', 'EnTC', '2015', '88.8', '2017', '74.44', '0', '0', '2021', '78.96', 'Dr Satish Lakde', 'tpo@witsolapur.org', '7798250677']\n",
      "['Piyusha Junavane', 'piyushajunavane@gmail.com', 'Walchand Institute of Technology, Solapur', 'Female', '9.00E+09', 'EnTC', '2015', '90.6', '0', '0', '2018', '90.31', '2021', '81.03', 'Dr Satish Lakde', 'tpo@witsolapur.org', '7798250677']\n",
      "['Shruti Mahindrakar', 'shruti.mahindrakar04@gmail.com', 'Walchand Institute of Technology, Solapur', 'Female', '8.33E+09', 'EnTC', '2015', '86', '2017', '78', '0', '0', '2021', '74', 'Dr Satish Lakde', 'tpo@witsolapur.org', '7798250677']\n",
      "['Abhinav Nandgaonkar', 'abhi11an@gmail.com', 'Walchand Institute of Technology, Solapur', 'Male', '8.81E+09', 'CS/IT', '2015', '89.8', '2017', '80.92', '0', '0', '2021', '70.38', 'Dr Satish Lakde', 'tpo@witsolapur.org', '7798250677']\n",
      "['Suraj Kondubhairy', 'surajkondubhairy@gmail.com', 'Walchand Institute of Technology, Solapur', 'Male', '9.42E+09', 'CS/IT', '2015', '87', '2017', '75', '0', '0', '2021', '72.5', 'Dr Satish Lakde', 'tpo@witsolapur.org', '7798250677']\n",
      "['Nazmin Gilki', 'its_nazmin@gmail.com', 'Walchand Institute of Technology, Solapur', 'Female', '9.00E+09', 'CS/IT', '2015', '85.4', '0', '0', '2019', '84.11', '2021', '79', 'Dr Satish Lakde', 'tpo@witsolapur.org', '7798250677']\n",
      "['Monika Tiwari', 'monikaatiwari11@gmail.com', 'Walchand Institute of Technology, Solapur', 'Female', '7.91E+09', 'CS/IT', '2014', '98', '2017', '64', '0', '0', '2021', '62', 'Dr Satish Lakde', 'tpo@witsolapur.org', '7798250677']\n",
      "['Praful Chambalwar', 'prafulchambalwar777@gmail.com', 'Walchand Institute of Technology, Solapur', 'Male', '7.78E+09', 'CS/IT', '2015', '79', '2017', '68', '0', '0', '2021', '63.72', 'Dr Satish Lakde', 'tpo@witsolapur.org', '7798250677']\n",
      "['MdIkhlas Patel', 'ikhlaspatel98@gmail.com', 'Walchand Institute of Technology, Solapur', 'Male', '8.45E+09', 'CS/IT', '2014', '91.4', '2016', '98', '0', '0', '2021', '64.47', 'Dr Satish Lakde', 'tpo@witsolapur.org', '7798250677']\n",
      "['Vaishnavi Vallal', 'vaishnavivallal2@gmail.com', 'Walchand Institute of Technology, Solapur', 'Female', '7.35E+09', 'CS/IT', '2015', '86.2', '2017', '65.53', '0', '0', '2021', '79', 'Dr Satish Lakde', 'tpo@witsolapur.org', '7798250677']\n",
      "['Shrawani Burla', 'shrawaniburla01@gmail.com', 'NK Orchid College of Engineering & Technology, Solapur', 'Female', '7.89E+09', 'EnTC', '2015', '74.4', '2017', '62', '0', '0', '2021', '78.09', 'Ravindra Patil', 'tpo@orchidengg.ac.in', '9767107293']\n",
      "['Kartik Madur', 'kartikmadur111@gmail.com', 'NK Orchid College of Engineering & Technology, Solapur', 'Male', '9.03E+09', 'EnTC', '2014', '73', '2016', '58', '2018', '72', '2021', '65', 'Ravindra Patil', 'tpo@orchidengg.ac.in', '9767107293']\n",
      "['Pratiksha Fand', 'fandpratiksha20@gmail.com', 'NK Orchid College of Engineering & Technology, Solapur', 'Female', '8.46E+09', 'EnTC', '2015', '80', '0', '0', '2018', '72.06', '2021', '65', 'Ravindra Patil', 'tpo@orchidengg.ac.in', '9767107293']\n",
      "['Rajan Shinde', 'rajanpshinde123@gmail.com', 'NK Orchid College of Engineering & Technology, Solapur', 'Male', '9.77E+09', 'EnTC', '2015', '61.2', '0', '0', '2017', '69.8', '2021', '60.2', 'Ravindra Patil', 'tpo@orchidengg.ac.in', '9767107293']\n",
      "['Priyanka Hiremath', 'priyanka.h0221@gmail.com', 'NK Orchid College of Engineering & Technology, Solapur', 'Female', '7.50E+09', 'EnTC', '2015', '84.01', '0', '0', '2018', '85', '2021', '82.99', 'Ravindra Patil', 'tpo@orchidengg.ac.in', '9767107293']\n",
      "['Jidnya Shah', 'jidnyanshah11@gmail.com', 'NK Orchid College of Engineering & Technology, Solapur', 'Female', '7.52E+09', 'EnTC', '2015', '82', '2017', '60.31', '0', '0', '2021', '73.39', 'Ravindra Patil', 'tpo@orchidengg.ac.in', '9767107293']\n",
      "['Amruta Jawale', 'amrutajawale08@gmail.com', 'NK Orchid College of Engineering & Technology, Solapur', 'Female', '7.59E+09', 'EnTC', '2014', '62.25', '0', '0', '2018', '68.89', '2021', '75', 'Ravindra Patil', 'tpo@orchidengg.ac.in', '9767107293']\n",
      "['Brijesh Patange', 'brijeshpatange2407@gmail.com', 'NK Orchid College of Engineering & Technology, Solapur', 'Male', '8.15E+09', 'EnTC', '2015', '77.8', '2017', '64.14', '0', '0', '2021', '79.04', 'Ravindra Patil', 'tpo@orchidengg.ac.in', '9767107293']\n",
      "['Shruti Bamane', 'shrutibamane444@gmail.com', 'NK Orchid College of Engineering & Technology, Solapur', 'Female', '9.76E+09', 'EnTC', '2015', '69.2', '0', '0', '2018', '72', '2021', '74.67', 'Ravindra Patil', 'tpo@orchidengg.ac.in', '9767107293']\n",
      "['Ashwini Shelage', 'ashwinishelage27@gmail.com', 'NK Orchid College of Engineering & Technology, Solapur', 'Female', '9.02E+09', 'EnTC', '2015', '79', '2017', '67.88', '0', '0', '2021', '72.58', 'Ravindra Patil', 'tpo@orchidengg.ac.in', '9767107293']\n",
      "['Prasanna Hanamgaon', 'prasannah5267@gmail.com', 'NK Orchid College of Engineering & Technology, Solapur', 'Male', '9.31E+09', 'EnTC', '2015', '86.6', '2017', '78.61', '0', '0', '2021', '82.99', 'Ravindra Patil', 'tpo@orchidengg.ac.in', '9767107293']\n",
      "['Vani Anbattul', 'vanianbattul2000@gmail.com', 'NK Orchid College of Engineering & Technology, Solapur', 'Female', '7.62E+09', 'EnTC', '2015', '69.4', '0', '0', '2018', '76.82', '2021', '73.43', 'Ravindra Patil', 'tpo@orchidengg.ac.in', '9767107293']\n",
      "['Laxmi Chinta', 'laxmidc99@gmail.com', 'NK Orchid College of Engineering & Technology, Solapur', 'Female', '8.21E+09', 'EnTC', '2015', '78.21', '2017', '60.23', '0', '0', '2021', '78.18', 'Ravindra Patil', 'tpo@orchidengg.ac.in', '9767107293']\n",
      "['Sanika Ghanate', 'sanikaghanate@gmail.com', 'NK Orchid College of Engineering & Technology, Solapur', 'Female', '7.74E+09', 'EnTC', '2015', '68', '0', '0', '2018', '75', '2021', '76.85', 'Ravindra Patil', 'tpo@orchidengg.ac.in', '9767107293']\n",
      "['Pratiksha Patil', 'pratikshapatil27699@gmail.com', 'NK Orchid College of Engineering & Technology, Solapur', 'Female', '9.82E+09', 'EnTC', '2015', '85', '0', '0', '2018', '79.41', '2021', '77.71', 'Ravindra Patil', 'tpo@orchidengg.ac.in', '9767107293']\n",
      "['Shireen Peerzade', 'shireenpeerzade1999@gmail.com', 'NK Orchid College of Engineering & Technology, Solapur', 'Female', '7.50E+09', 'EnTC', '2014', '79', '0', '0', '2018', '75', '2021', '65.38', 'Ravindra Patil', 'tpo@orchidengg.ac.in', '9767107293']\n",
      "['Shreya Awate', 'shreyaawate7@gmail.com', 'NK Orchid College of Engineering & Technology, Solapur', 'Female', '7.08E+09', 'EnTC', '2015', '86.8', '0', '0', '2018', '78.35', '2021', '81.65', 'Ravindra Patil', 'tpo@orchidengg.ac.in', '9767107293']\n",
      "['Akanksha Bhandari', 'akanshabhandari1236@gmail.com', 'NK Orchid College of Engineering & Technology, Solapur', 'Female', '7.22E+09', 'EnTC', '2015', '80', '0', '0', '2018', '75.71', '2021', '73.43', 'Ravindra Patil', 'tpo@orchidengg.ac.in', '9767107293']\n",
      "['Ankita Yalgunde', 'yalgundeankita@gmail.com', 'NK Orchid College of Engineering & Technology, Solapur', 'Female', '7.02E+09', 'EnTC', '2015', '74', '0', '0', '2018', '78', '2021', '81.6', 'Ravindra Patil', 'tpo@orchidengg.ac.in', '9767107293']\n",
      "['SHRADDHA KORACHGAON', 'shradhakorachgova63@gmail.com', 'NK Orchid College of Engineering & Technology, Solapur', 'Female', '7.25E+09', 'EnTC', '2015', '73', '0', '0', '2018', '76', '2021', '75.33', 'Ravindra Patil', 'tpo@orchidengg.ac.in', '9767107293']\n",
      "['Snehal Chavan', 'sc326507@gmail.com', 'NK Orchid College of Engineering & Technology, Solapur', 'Female', '9.08E+09', 'EnTC', '2015', '89.2', '0', '0', '2018', '87', '2021', '86.16', 'Ravindra Patil', 'tpo@orchidengg.ac.in', '9767107293']\n",
      "['Aishwarya Patil', 'aishwaryapatilsolapur1998@gmail.com', 'NK Orchid College of Engineering & Technology, Solapur', 'Female', '7.45E+09', 'EnTC', '2014', '67.6', '0', '0', '2018', '77.53', '2021', '80.07', 'Ravindra Patil', 'tpo@orchidengg.ac.in', '9767107293']\n",
      "['Akanksha Tathe', 'aktathe@gmail.com', 'NK Orchid College of Engineering & Technology, Solapur', 'Female', '9.42E+09', 'CS/IT', '2015', '84.8', '2017', '63', '0', '0', '2021', '79', 'Ravindra Patil', 'tpo@orchidengg.ac.in', '9767107293']\n",
      "['Shifaara Soudagar', 'shifaara84@gmail.com', 'NK Orchid College of Engineering & Technology, Solapur', 'Female', '9.56E+09', 'CS/IT', '2015', '71.6', '0', '0', '2018', '81.16', '2019', '79.04', 'Ravindra Patil', 'tpo@orchidengg.ac.in', '9767107293']\n",
      "['Aayesha Bagalkote', 'aayeshabagalkote@gmail.com', 'NK Orchid College of Engineering & Technology, Solapur', 'Female', '8.53E+09', 'CS/IT', '2015', '89.4', '0', '0', '2018', '80', '2021', '84', 'Ravindra Patil', 'tpo@orchidengg.ac.in', '9767107293']\n",
      "['Umesh Udata', 'umeshudata123@gmail.com', 'NK Orchid College of Engineering & Technology, Solapur', 'Male', '7.80E+09', 'CS/IT', '2014', '69', '2016', '50.31', '2018', '76.06', '2021', '80.8', 'Ravindra Patil', 'tpo@orchidengg.ac.in', '9767107293']\n",
      "['Tejas Bhosale', 'tejasbhosale0007@gmail.com', 'NK Orchid College of Engineering & Technology, Solapur', 'Male', '9.96E+09', 'CS/IT', '2015', '71', '2017', '61', '0', '0', '2021', '81', 'Ravindra Patil', 'tpo@orchidengg.ac.in', '9767107293']\n",
      "['Rushabh Kamble', 'rushabkamble1rk@gmail.com', 'NK Orchid College of Engineering & Technology, Solapur', 'Male', '7.97E+09', 'CS/IT', '2015', '73.8', '0', '0', '2018', '72.81', '2021', '74.76', 'Ravindra Patil', 'tpo@orchidengg.ac.in', '9767107293']\n",
      "['Sharad Kolhapure', 'sharad00kolhapure@gmail.com', 'NK Orchid College of Engineering & Technology, Solapur', 'Male', '7.02E+09', 'CS/IT', '2015', '77.8', '0', '0', '2018', '77.94', '2021', '78.9', 'Ravindra Patil', 'tpo@orchidengg.ac.in', '9767107293']\n",
      "['Pratibha Chippa', 'pratibhachippa9@gmail.com', 'NK Orchid College of Engineering & Technology, Solapur', 'Female', '9.37E+09', 'CS/IT', '2015', '71', '0', '0', '2018', '78.9', '2021', '77', 'Ravindra Patil', 'tpo@orchidengg.ac.in', '9767107293']\n",
      "['Shivanjali Deshmukh', 'deshmukhshivanjali09@gmail.com', 'NK Orchid College of Engineering & Technology, Solapur', 'Female', '9.52E+09', 'CS/IT', '2015', '78', '2017', '61', '0', '0', '2021', '73.26', 'Ravindra Patil', 'tpo@orchidengg.ac.in', '9767107293']\n",
      "['Bhavana Mushan', 'bhavanamushan@gmail.com', 'NK Orchid College of Engineering & Technology, Solapur', 'Female', '9.51E+09', 'CS/IT', '2015', '67', '0', '0', '2018', '78', '2021', '77', 'Ravindra Patil', 'tpo@orchidengg.ac.in', '9767107293']\n",
      "['Sankalp Korishetti', 'rajesankalp@gmail.com', 'NK Orchid College of Engineering & Technology, Solapur', 'Male', '8.79E+09', 'CS/IT', '2011', '64.8', '0', '0', '2018', '77.44', '2021', '79.13', 'Ravindra Patil', 'tpo@orchidengg.ac.in', '9767107293']\n",
      "['Anjali Kumari', 'anjalithakur3768@gmail.com', \"Bharati Vidyapeeth's College Of Engineering Lavale, Pune\", 'Female', '8.46E+09', 'CS/IT', '2015', '85.5', '2017', '86.8', '0', '0', '2021', '65.55', 'Ajay Katkar', 'ajayakatkar@gmail.com', '9920699090 / 9226337736']\n",
      "['BISHAL PAL', 'agk.bkp@gmail.com', \"Bharati Vidyapeeth's College Of Engineering Lavale, Pune\", 'Male', '8.46E+09', 'CS/IT', '2014', '91.4', '2016', '72.77', '0', '0', '2021', '78.76', 'Ajay Katkar', 'ajayakatkar@gmail.com', '9920699090 / 9226337736']\n",
      "['Sandesh Kale', 'sandeshrkp@gmail.com', \"Bharati Vidyapeeth's College Of Engineering Lavale, Pune\", 'Male', '7.45E+09', 'CS/IT', '2015', '89', '2017', '70.31', '0', '0', '2021', '66.56', 'Ajay Katkar', 'ajayakatkar@gmail.com', '9920699090 / 9226337736']\n",
      "['Shruti Kashyap', 'kashyap.shruti11@gmail.com', \"Bharati Vidyapeeth's College Of Engineering Lavale, Pune\", 'Female', '9.17E+09', 'CS/IT', '2015', '95', '2017', '92', '0', '0', '2021', '71.3', 'Ajay Katkar', 'ajayakatkar@gmail.com', '9920699090 / 9226337736']\n",
      "['Pooja Shitole', 'poojashitole257@gmail.com', \"Bharati Vidyapeeth's College Of Engineering Lavale, Pune\", 'Female', '9.67E+09', 'CS/IT', '2015', '85.6', '2017', '70.46', '0', '0', '2021', '72.19', 'Ajay Katkar', 'ajayakatkar@gmail.com', '9920699090 / 9226337736']\n",
      "['Samiraj Shirsat', 'samirajshirsat@gmail.com', \"Bharati Vidyapeeth's College Of Engineering Lavale, Pune\", 'Male', '7.80E+09', 'CS/IT', '2015', '78.2', '0', '0', '2018', '72.4', '2021', '58', 'Ajay Katkar', 'ajayakatkar@gmail.com', '9920699090 / 9226337736']\n",
      "['Akanksha Yadav', 'yadavakanksha.akki98@gmail.com', \"Bharati Vidyapeeth's College Of Engineering Lavale, Pune\", 'Female', '9.92E+09', 'CS/IT', '2015', '88', '2017', '79.87', '0', '0', '2021', '72.69', 'Ajay Katkar', 'ajayakatkar@gmail.com', '9920699090 / 9226337736']\n",
      "['Yashasvi Ayane', 'aartiayane@gmail.com', \"Bharati Vidyapeeth's College Of Engineering Lavale, Pune\", 'Female', '9.07E+09', 'CS/IT', '2015', '83.3', '2017', '62', '0', '0', '2021', '62', 'Ajay Katkar', 'ajayakatkar@gmail.com', '9920699090 / 9226337736']\n",
      "['Pratik Zimbre', 'pratikzimbre12@gmail.com', \"Bharati Vidyapeeth's College Of Engineering Lavale, Pune\", 'Male', '7.78E+09', 'CS/IT', '2015', '85', '2017', '63', '0', '0', '2021', '58.67', 'Ajay Katkar', 'ajayakatkar@gmail.com', '9920699090 / 9226337736']\n",
      "['Utkarsh Shukla', 'shuklautkarsh73@gmail.com', \"Bharati Vidyapeeth's College Of Engineering Lavale, Pune\", 'Male', '9.77E+09', 'CS/IT', '2015', '76', '2017', '61.96', '0', '0', '2021', '69.99', 'Ajay Katkar', 'ajayakatkar@gmail.com', '9920699090 / 9226337736']\n",
      "['Nikhil Nerkar', 'nerkar.nikhil98@gmail.com', \"Bharati Vidyapeeth's College Of Engineering Lavale, Pune\", 'Male', '8.86E+09', 'CS/IT', '2014', '76', '2016', '65', '2018', '71.5', '2019', '60', 'Ajay Katkar', 'ajayakatkar@gmail.com', '9920699090 / 9226337736']\n",
      "['Bhavesh Bardiya', 'gauravbardiya12@gmail.com', \"Bharati Vidyapeeth's College Of Engineering Lavale, Pune\", 'Male', '7.22E+09', 'CS/IT', '2015', '89.6', '0', '0', '2018', '78.44', '2021', '64', 'Ajay Katkar', 'ajayakatkar@gmail.com', '9920699090 / 9226337736']\n",
      "['GAURAV BORADE', 'gauravsbk6@gmail.com', \"Bharati Vidyapeeth's College Of Engineering Lavale, Pune\", 'Male', '7.97E+09', 'CS/IT', '2015', '96', '2017', '72.4', '0', '0', '2021', '68.8', 'Ajay Katkar', 'ajayakatkar@gmail.com', '9920699090 / 9226337736']\n",
      "['Jitendra Choudhary', 'jitendrachoudhary8975@gmail.com', \"Bharati Vidyapeeth's College Of Engineering Lavale, Pune\", 'Male', '8.98E+09', 'CS/IT', '2015', '76', '2017', '70', '0', '0', '2021', '66', 'Ajay Katkar', 'ajayakatkar@gmail.com', '9920699090 / 9226337736']\n",
      "['Atharv Jangam', 'atharvjangam30@gmail.com', \"Bharati Vidyapeeth's College Of Engineering Lavale, Pune\", 'Male', '9.07E+09', 'CS/IT', '2015', '81', '2017', '68.2', '0', '0', '2021', '65.25', 'Ajay Katkar', 'ajayakatkar@gmail.com', '9920699090 / 9226337736']\n",
      "['Vaishnavi Nagare', 'nagarevaishnavi17@gmail.com', \"Bharati Vidyapeeth's College Of Engineering Lavale, Pune\", 'Female', '9.76E+09', 'CS/IT', '2015', '88.8', '2017', '70.4', '0', '0', '2021', '67.05', 'Ajay Katkar', 'ajayakatkar@gmail.com', '9920699090 / 9226337736']\n",
      "['Rajnandini Kuberkar', 'rajnandinikuberkar9763@gmail.com', \"Bharati Vidyapeeth's College Of Engineering Lavale, Pune\", 'Female', '9.69E+09', 'CS/IT', '2015', '88', '0', '0', '2018', '70', '2021', '57', 'Ajay Katkar', 'ajayakatkar@gmail.com', '9920699090 / 9226337736']\n",
      "['Omkar BIradar', 'omkarbiradar93@gmail.com', \"Bharati Vidyapeeth's College Of Engineering Lavale, Pune\", 'Male', '7.72E+09', 'CS/IT', '2014', '68.8', '0', '0', '2018', '69.4', '2021', '58', 'Ajay Katkar', 'ajayakatkar@gmail.com', '9920699090 / 9226337736']\n",
      "['Darshan Kulthe', 'darshankulthe55@gmail.com', \"Bharati Vidyapeeth's College Of Engineering Lavale, Pune\", 'Male', '8.09E+09', 'CS/IT', '2015', '84.6', '2017', '63.38', '0', '0', '2021', '60', 'Ajay Katkar', 'ajayakatkar@gmail.com', '9920699090 / 9226337736']\n",
      "['Gaurav Sathe', 'gauravsathe49@gmail.com', \"Bharati Vidyapeeth's College Of Engineering Lavale, Pune\", 'Male', '7.06E+09', 'CS/IT', '2015', '86.6', '2017', '69.8', '0', '0', '2021', '65', 'Ajay Katkar', 'ajayakatkar@gmail.com', '9920699090 / 9226337736']\n",
      "['Shubham Bharti', 'srbharti309@gmail.com', \"Bharati Vidyapeeth's College Of Engineering Lavale, Pune\", 'Male', '9.31E+09', 'CS/IT', '2015', '85.4', '0', '0', '2018', '73.63', '2021', '55', 'Ajay Katkar', 'ajayakatkar@gmail.com', '9920699090 / 9226337736']\n",
      "['Sneha Menon', 'menonsneha56@gmail.com', \"Bharati Vidyapeeth's College Of Engineering Lavale, Pune\", 'Female', '8.31E+09', 'CS/IT', '2014', '85.5', '2016', '68.9', '0', '0', '2021', '59', 'Ajay Katkar', 'ajayakatkar@gmail.com', '9920699090 / 9226337736']\n",
      "['Maheshwar Kumbhar', 'maheshwarmkumbhar@gmail.com', \"Bharati Vidyapeeth's College Of Engineering Lavale, Pune\", 'Male', '9.77E+09', 'CS/IT', '2014', '84', '2016', '61', '2018', '70.56', '2021', '65', 'Ajay Katkar', 'ajayakatkar@gmail.com', '9920699090 / 9226337736']\n",
      "['Shwetali Bhagwat', 'shwetalisbhagwat@gmail.com', \"Bharati Vidyapeeth's College Of Engineering Lavale, Pune\", 'Female', '8.81E+09', 'CS/IT', '2015', '93.4', '2017', '75.69', '0', '0', '2021', '68.02', 'Ajay Katkar', 'ajayakatkar@gmail.com', '9920699090 / 9226337736']\n",
      "['Sukanya Reddy', 'sukanyar756@gmail.com', \"Bharati Vidyapeeth's College Of Engineering Lavale, Pune\", 'Female', '7.07E+09', 'CS/IT', '2015', '80.2', '0', '0', '2018', '79.63', '2021', '57.26', 'Ajay Katkar', 'ajayakatkar@gmail.com', '9920699090 / 9226337736']\n",
      "['Shubham Birari', 'shubhambirari54@gmail.com', \"Bharati Vidyapeeth's College Of Engineering Lavale, Pune\", 'Male', '8.45E+09', 'CS/IT', '2014', '80.8', '0', '0', '2018', '74.31', '2021', '55.31', 'Ajay Katkar', 'ajayakatkar@gmail.com', '9920699090 / 9226337736']\n",
      "['Megha Ghatol', 'meghaghatolo1998@gmail.com', \"Bharati Vidyapeeth's College Of Engineering Lavale, Pune\", 'Female', '9.15E+09', 'CS/IT', '2014', '80.69', '2016', '60.78', '0', '0', '2021', '60.79', 'Ajay Katkar', 'ajayakatkar@gmail.com', '9920699090 / 9226337736']\n",
      "['Manasi Bais', 'manasibais62771@gmail.com', 'Cummins College of Engineering for Women, Nagpur', 'Female', '8.33E+09', 'CS/IT', '2015', '83.8', '0', '0', '2018', '66.76', '2021', '63.22', 'Mr Manish Raut', 'manish.raut@cumminscollege.edu.in', '8411915585']\n",
      "['Samruddhi Patil', 'samruddhipatil2811@gmail.com', 'Cummins College of Engineering for Women, Nagpur', 'Female', '8.61E+09', 'CS/IT', '2015', '85', '2017', '70', '0', '0', '2021', '65.74', 'Mr Manish Raut', 'manish.raut@cumminscollege.edu.in', '8411915585']\n",
      "['Jagruti Pancham', 'jagruti.pancham@cumminscollege.edu.in', 'Cummins College of Engineering for Women, Nagpur', 'Female', '9.96E+09', 'CS/IT', '2015', '88.4', '2017', '62', '0', '0', '2021', '63.76', 'Mr Manish Raut', 'manish.raut@cumminscollege.edu.in', '8411915585']\n",
      "['Apeksha Dhanaskar', 'apekshadhanaskar40@gmail.com', 'Cummins College of Engineering for Women, Nagpur', 'Female', '7.06E+09', 'CS/IT', '2015', '84.6', '2017', '69.69', '0', '0', '2021', '61', 'Mr Manish Raut', 'manish.raut@cumminscollege.edu.in', '8411915585']\n",
      "['Vaishnavi Battuwar', 'vaishnavibattuwar007@gmail.com', 'Cummins College of Engineering for Women, Nagpur', 'Female', '8.64E+09', 'CS/IT', '2015', '75.66', '2017', '95.08', '0', '0', '2021', '73.76', 'Mr Manish Raut', 'manish.raut@cumminscollege.edu.in', '8411915585']\n",
      "['Madhura Shastry', 'madhurashastry14@gmail.com', 'Cummins College of Engineering for Women, Nagpur', 'Female', '8.61E+09', 'CS/IT', '2015', '95.6', '2017', '74.8', '0', '0', '2021', '68', 'Mr Manish Raut', 'manish.raut@cumminscollege.edu.in', '8411915585']\n",
      "['Urvashi Kowe', 'urvashikowe10@gmail.com', 'Cummins College of Engineering for Women, Nagpur', 'Female', '8.77E+09', 'CS/IT', '2015', '81.4', '2017', '61.69', '0', '0', '2021', '58.25', 'Mr Manish Raut', 'manish.raut@cumminscollege.edu.in', '8411915585']\n",
      "['Snehal Warade', 'snehalwarade1020@gmail.com', 'Cummins College of Engineering for Women, Nagpur', 'Female', '8.79E+09', 'CS/IT', '2015', '75', '0', '0', '2018', '63.4', '2021', '56.6', 'Mr Manish Raut', 'manish.raut@cumminscollege.edu.in', '8411915585']\n",
      "['Apeksha Ganorkar', 'apekshaganorkar@gmail.com', 'Cummins College of Engineering for Women, Nagpur', 'Female', '9.53E+09', 'CS/IT', '2015', '88.4', '0', '0', '2018', '64.63', '2021', '59.65', 'Mr Manish Raut', 'manish.raut@cumminscollege.edu.in', '8411915585']\n",
      "['Roshni Lonbale', 'lonbalerosha1799@gmail.com', 'Cummins College of Engineering for Women, Nagpur', 'Female', '7.52E+09', 'CS/IT', '2015', '86', '2017', '62.76', '0', '0', '2021', '63.76', 'Mr Manish Raut', 'manish.raut@cumminscollege.edu.in', '8411915585']\n",
      "['Disha Dhole', 'dishadhole263@gmail.com', 'Cummins College of Engineering for Women, Nagpur', 'Female', '9.83E+09', 'CS/IT', '2015', '73.23', '2017', '64', '0', '0', '2021', '65.92', 'Mr Manish Raut', 'manish.raut@cumminscollege.edu.in', '8411915585']\n",
      "['Bhagyashree Gaikwad', 'bhagyashree.06997@gmail.com', 'Cummins College of Engineering for Women, Nagpur', 'Female', '7.71E+09', 'CS/IT', '2013', '77.8', '0', '0', '2018', '71.53', '2021', '58', 'Mr Manish Raut', 'manish.raut@cumminscollege.edu.in', '8411915585']\n"
     ]
    }
   ],
   "source": [
    "import csv\n",
    " \n",
    "with open(\"CSVFile.csv\",'r') as csvfile:\n",
    "    reader = csv.reader(csvfile)\n",
    "    for row in reader:\n",
    "        print(row)"
   ]
  },
  {
   "cell_type": "markdown",
   "metadata": {},
   "source": [
    "Problem 31: Generalize the above implementation of csv parser to support any delimiter and comments."
   ]
  },
  {
   "cell_type": "code",
   "execution_count": 6,
   "metadata": {},
   "outputs": [
    {
     "name": "stdout",
     "output_type": "stream",
     "text": [
      "['Name,E mail,College,Gender,Mobile No,Branch,10th YOP,10th Score,12th YOP,12th Score,Diploma YOP,Diploma Score,Degree YOP,Degree Score,TPO Name,TPO Email,TPO Contact no']\n",
      "['Shraddha Vhanmane,shraddhavh123@gmail.com,\"NK Orchid College of Engineering & Technology, Solapur\",Female,9607563070,CS/IT,2015,78,0,0,2018,83.06,2021,80,Ravindra Patil,tpo@orchidengg.ac.in,9767107293']\n",
      "['Namratakshi Dikonda,namratadikonda53@gmail.com,\"NK Orchid College of Engineering & Technology, Solapur\",Female,7219339332,CS/IT,2015,76,0,0,2018,78,2021,81,Ravindra Patil,tpo@orchidengg.ac.in,9767107293']\n",
      "['LAXMI MALI,ashumali20898@gmail.com,\"NK Orchid College of Engineering & Technology, Solapur\",Female,7028920898,CS/IT,2014,66.4,0,0,2017,72,2021,78.47,Ravindra Patil,tpo@orchidengg.ac.in,9767107293']\n",
      "['Swarada Lele,leleswarada@gmail.com,\"NK Orchid College of Engineering & Technology, Solapur\",Female,8793292203,CS/IT,2013,78.8,2015,63.69,2017,79.88,2022,63.81,Ravindra Patil,tpo@orchidengg.ac.in,9767107293']\n",
      "['Sonali Boddhul,sonaliboddhul@gmail.com,\"NK Orchid College of Engineering & Technology, Solapur\",Female,8668342508,CS/IT,2015,92.8,2017,79.8,0,0,2021,87.68,Ravindra Patil,tpo@orchidengg.ac.in,9767107293']\n",
      "['Shreyas Mirajkar,shreyasrmirajkar98@gmail.com,\"NK Orchid College of Engineering & Technology, Solapur\",Male,8421035886,CS/IT,2014,60,0,0,2017,78,2020,73,Ravindra Patil,tpo@orchidengg.ac.in,9767107293']\n",
      "['Balchandra Samleti,balsamleti@gmail.com,\"NK Orchid College of Engineering & Technology, Solapur\",Male,9175416700,CS/IT,2015,75.2,2017,75.69,0,0,2021,78.39,Ravindra Patil,tpo@orchidengg.ac.in,9767107293']\n",
      "['Rakesh Boddul,rakeshboddul18@gmail.com,\"NK Orchid College of Engineering & Technology, Solapur\",Male,9834206138,CS/IT,2015,81.8,2017,65.81,0,0,2021,73.15,Ravindra Patil,tpo@orchidengg.ac.in,9767107293']\n",
      "['RAGEBALEEM SHAIKH,ragebaleem99@gmail.com,\"NK Orchid College of Engineering & Technology, Solapur\",Male,8668276232,CS/IT,2015,85.4,2017,60.77,0,0,2021,69.35,Ravindra Patil,tpo@orchidengg.ac.in,9767107293']\n",
      "['Anand Gaikwad,anand.g4121999@gmail.com,\"NK Orchid College of Engineering & Technology, Solapur\",Male,9822306457,CS/IT,2014,60,0,0,2018,73,2021,73.4,Ravindra Patil,tpo@orchidengg.ac.in,9767107293']\n",
      "['Uzefa Soudagar,uzefasoudager95@gmail.com,\"NK Orchid College of Engineering & Technology, Solapur\",Female,8956265205,CS/IT,2015,63.64,0,0,2018,79.69,2021,74.29,Ravindra Patil,tpo@orchidengg.ac.in,9767107293']\n",
      "['Mayuri Rathod,mayurirathod619@gmail.com,\"NK Orchid College of Engineering & Technology, Solapur\",Female,9309917770,CS/IT,2015,80.8,2018,67.37,0,0,2022,83.87,Ravindra Patil,tpo@orchidengg.ac.in,9767107293']\n",
      "['Komal Khandare,komalkhandare9@gmail.com,\"NK Orchid College of Engineering & Technology, Solapur\",Female,9767883838,CS/IT,2014,80.18,0,0,2017,72.12,2021,73,Ravindra Patil,tpo@orchidengg.ac.in,9767107293']\n",
      "['Sucheta Bhaskar,spbhaskar2000@gmail.com,\"NK Orchid College of Engineering & Technology, Solapur\",Female,9363739329,CS/IT,2015,79.4,0,0,2018,69,2021,80.18,Ravindra Patil,tpo@orchidengg.ac.in,9767107293']\n",
      "['Deepak Mench,deepakmench18@gmail.com,\"NK Orchid College of Engineering & Technology, Solapur\",Male,7038716093,EnTC,2015,72.6,0,0,2018,63.6,2021,74,Ravindra Patil,tpo@orchidengg.ac.in,9767107293']\n",
      "['Nivedita Shripuram,shrinivu@gmail.com,\"NK Orchid College of Engineering & Technology, Solapur\",Female,9765561002,EnTC,2015,89,0,0,2018,80.06,2021,78.56,Ravindra Patil,tpo@orchidengg.ac.in,9767107293']\n",
      "['Vanishka Jain,vanishka57@gmail.com,\"Walchand Institute of Technology, Solapur\",Female,7024506050,CS/IT,2015,95,2017,82,0,0,2021,84,Dr Satish Lakde,tpo@witsolapur.org,7798250677']\n",
      "['Mohrish Bitla,bitlamohrish@gmail.com,\"Walchand Institute of Technology, Solapur\",Male,8625902830,CS/IT,2015,87.2,2017,74.62,0,0,2021,80,Dr Satish Lakde,tpo@witsolapur.org,7798250677']\n",
      "['Priyanka Donaj,priyankadonaj11@gmail.com,\"Walchand Institute of Technology, Solapur\",Female,9834374121,CS/IT,2015,93,2017,83,0,0,2021,89,Dr Satish Lakde,tpo@witsolapur.org,7798250677']\n",
      "['Keyur Sawot,keyurjain2000@gmail.com,\"Walchand Institute of Technology, Solapur\",Male,9680946535,CS/IT,2015,77.7,2017,65.4,0,0,2021,60.9,Dr Satish Lakde,tpo@witsolapur.org,7798250677']\n",
      "['Ashish Kulkarni,ashishkulkarni612@gmail.com,\"Walchand Institute of Technology, Solapur\",Male,8669070065,EnTC,2015,84,0,0,2017,69.94,2021,61.5,Dr Satish Lakde,tpo@witsolapur.org,7798250677']\n",
      "['Priyadarshani Rachha,priyarachha123@gmail.com,\"Walchand Institute of Technology, Solapur\",Female,9372728293,EnTC,2015,67,0,0,2018,72,2019,65,Dr Satish Lakde,tpo@witsolapur.org,7798250677']\n",
      "['Balaji Dyavanpalli,balajidyavanpalli@gmail.com,\"Walchand Institute of Technology, Solapur\",Male,7030683072,EnTC,2015,84,2017,62,0,0,2021,75,Dr Satish Lakde,tpo@witsolapur.org,7798250677']\n",
      "['Bhagyashri Hingmire,hingmirebhagyashri@gmail.com,\"Walchand Institute of Technology, Solapur\",Female,9552672321,EnTC,2015,86.8,2017,69.5,0,0,2021,73.1,Dr Satish Lakde,tpo@witsolapur.org,7798250677']\n",
      "['Neha Madkar,nehamadkar40@gmail.com,\"Walchand Institute of Technology, Solapur\",Female,7776072588,EnTC,2015,91.8,2017,74.2,0,0,2021,74.56,Dr Satish Lakde,tpo@witsolapur.org,7798250677']\n",
      "['Akshita Shindore,akshishindore@gmail.com,KK Wagh,Female,7083669291,CS/IT,2015,87,2018,70,0,0,2021,62.76,Prof. Shahbadkar,tpo-engg@kkwagh.edu.in,9822907468']\n",
      "['Riya Mahajan,riyarmahajannsk@gmail.com,KK Wagh,Female,7588674117,CS/IT,2015,95,2017,88,0,0,2021,83,Prof. Shahbadkar,tpo-engg@kkwagh.edu.in,9822907468']\n",
      "['ANIKET KAMBLE,aniket231298kamble@gmail.com,\"NDMVP\\'s Karmaveer Baburao Thakare College of Engineering, Nashik\",Male,7774810236,CS/IT,2014,85.6,2016,60.26,,,2021,60.72,Vineet Deore,tpo.ndmvpcoe@gmail.com,9987377436']\n",
      "['Kajal Ahire,kajalahire2511@gmail.com,\"NDMVP\\'s Karmaveer Baburao Thakare College of Engineering, Nashik\",Female,7722073526,CS/IT,2015,81,2017,60,,,2021,63.77,Vineet Deore,tpo.ndmvpcoe@gmail.com,9987377436']\n",
      "['Shubham Borse,shubhamborse2011@gmail.com,\"NDMVP\\'s Karmaveer Baburao Thakare College of Engineering, Nashik\",Male,7038736443,CS/IT,2015,84.4,2017,72.46,,,2021,60,Vineet Deore,tpo.ndmvpcoe@gmail.com,9987377436']\n",
      "['Smrutika Bhawsar,smruti.bhawsar@gmail.com,\"NDMVP\\'s Karmaveer Baburao Thakare College of Engineering, Nashik\",Female,9075888506,CS/IT,2015,91,2017,78.92,,,2021,75.5,Vineet Deore,tpo.ndmvpcoe@gmail.com,9987377436']\n",
      "['SHRUTIKA KINGE,shrutikakinge123@gmail.com,\"NDMVP\\'s Karmaveer Baburao Thakare College of Engineering, Nashik\",Female,9119452186,CS/IT,2015,92,2017,76,,,2021,68.33,Vineet Deore,tpo.ndmvpcoe@gmail.com,9987377436']\n",
      "['Shivani Rashinkar,rashinkarshivani173@gmail.com,\"NDMVP\\'s Karmaveer Baburao Thakare College of Engineering, Nashik\",Female,8805871670,CS/IT,2014,84.6,2016,70,,,2021,59.56,Vineet Deore,tpo.ndmvpcoe@gmail.com,9987377436']\n",
      "['Aniket Chaudhari,www.aidx500@gmail.com,\"NDMVP\\'s Karmaveer Baburao Thakare College of Engineering, Nashik\",Male,9552699022,CS/IT,2015,90.2,2017,78.15,,,2021,65.22,Vineet Deore,tpo.ndmvpcoe@gmail.com,9987377436']\n",
      "['Nidhi Goda,nidhigoda99@gmail.com,\"NDMVP\\'s Karmaveer Baburao Thakare College of Engineering, Nashik\",Female,9834933358,CS/IT,2015,94.6,2017,78.68,,,2021,75.57,Vineet Deore,tpo.ndmvpcoe@gmail.com,9987377436']\n",
      "['Piyush Sonar,psonar816@gmail.com,\"NDMVP\\'s Karmaveer Baburao Thakare College of Engineering, Nashik\",Male,9075774008,CS/IT,2015,88.2,2017,62,,,2021,59.2,Vineet Deore,tpo.ndmvpcoe@gmail.com,9987377436']\n",
      "['Disha Bhavsar,dishabhavsar1504@gmail.com,\"NDMVP\\'s Karmaveer Baburao Thakare College of Engineering, Nashik\",Female,9922560722,CS/IT,2015,93.6,2017,70.3,,,2021,65.88,Vineet Deore,tpo.ndmvpcoe@gmail.com,9987377436']\n",
      "['Shweta Pingale,shwetapingale1999@gmail.com,\"NDMVP\\'s Karmaveer Baburao Thakare College of Engineering, Nashik\",Female,9763430995,CS/IT,2015,91,,,2018,82.51,2021,71,Vineet Deore,tpo.ndmvpcoe@gmail.com,9987377436']\n",
      "['Lokesh Bhavsar,lokeshbhavsar127@gmail.com,\"NDMVP\\'s Karmaveer Baburao Thakare College of Engineering, Nashik\",Male,9669975909,CS/IT,2015,95,2017,68.8,,,2021,67.52,Vineet Deore,tpo.ndmvpcoe@gmail.com,9987377436']\n",
      "['Rishikesh Dawalkar,rishi8975dawalkar@gmail.com,\"NDMVP\\'s Karmaveer Baburao Thakare College of Engineering, Nashik\",Male,7507907737,CS/IT,2015,78.2,2017,68.31,,,2021,61.85,Vineet Deore,tpo.ndmvpcoe@gmail.com,9987377436']\n",
      "['Yogesh Kale,yogeshkale2699@gmail.com,\"GES R.H. Sapat College of Engineering, Management Studies and Research, Nashik\",Male,7499397684,CS/IT,2015,70.4,0,0,2018,78.75,2021,64.5,Dhanraj Deshpande,dhanraj.deshpande@ges-coengg.org,8329586331']\n",
      "['Dhanashree Sali,dhanashree.sali26@gmail.com,\"GES R.H. Sapat College of Engineering, Management Studies and Research, Nashik\",Female,7057284981,CS/IT,2015,87,0,0,2018,79.38,2021,67.73,Dhanraj Deshpande,dhanraj.deshpande@ges-coengg.org,8329586331']\n",
      "['Parth Suryawanshi,suryawanshi.parth4@gmail.com,\"GES R.H. Sapat College of Engineering, Management Studies and Research, Nashik\",Male,9284505408,CS/IT,2015,84.37,2017,68.3,0,0,2021,73.2,Dhanraj Deshpande,dhanraj.deshpande@ges-coengg.org,8329586331']\n",
      "['Sakshi Aher,sakshiaher03@gmail.com,\"GES R.H. Sapat College of Engineering, Management Studies and Research, Nashik\",Female,9172840222,CS/IT,2015,93,2017,76,0,0,2021,68,Dhanraj Deshpande,dhanraj.deshpande@ges-coengg.org,8329586331']\n",
      "['Sakshi Mande,mandesakshi98@gmail.com,\"GES R.H. Sapat College of Engineering, Management Studies and Research, Nashik\",Female,8208635815,CS/IT,2014,89.6,0,0,2018,79.6,2021,58,Dhanraj Deshpande,dhanraj.deshpande@ges-coengg.org,8329586331']\n",
      "['Anjali Ghodke,ghodkeaanjali@gmail.com,\"GES R.H. Sapat College of Engineering, Management Studies and Research, Nashik\",Female,7588138731,CS/IT,2015,90.4,2017,74,0,0,2021,71.89,Dhanraj Deshpande,dhanraj.deshpande@ges-coengg.org,8329586331']\n",
      "['Vivek Sonawane,viveksonawane2050@gmail.com,\"GES R.H. Sapat College of Engineering, Management Studies and Research, Nashik\",Male,7887922685,CS/IT,2015,88.4,2017,71.2,0,0,2021,72.47,Dhanraj Deshpande,dhanraj.deshpande@ges-coengg.org,8329586331']\n",
      "['Snehal Sakhala,snehalgsakhala@gmail.com,\"GES R.H. Sapat College of Engineering, Management Studies and Research, Nashik\",Female,7741009537,CS/IT,2015,89,2017,71,0,0,2021,65.05,Dhanraj Deshpande,dhanraj.deshpande@ges-coengg.org,8329586331']\n",
      "['Nishigandha Dahe,nishigandhad3540@gmail.com,\"GES R.H. Sapat College of Engineering, Management Studies and Research, Nashik\",Female,9689095111,CS/IT,2015,67.71,2017,69.58,0,0,2021,62.95,Dhanraj Deshpande,dhanraj.deshpande@ges-coengg.org,8329586331']\n",
      "['Kirti Ahire,ahire.kirti22@gmail.com,\"GES R.H. Sapat College of Engineering, Management Studies and Research, Nashik\",Female,7517829085,CS/IT,2015,92,2017,70,0,0,2021,62.3,Dhanraj Deshpande,dhanraj.deshpande@ges-coengg.org,8329586331']\n",
      "['Vaidehi Dusane,dusanevaidehi2000@gmail.com,\"GES R.H. Sapat College of Engineering, Management Studies and Research, Nashik\",Female,7218844279,CS/IT,2015,87.4,0,0,2018,78,2021,60.93,Dhanraj Deshpande,dhanraj.deshpande@ges-coengg.org,8329586331']\n",
      "['Jidnyasa Bharambe,jidnyasa1999@gmail.com,\"GES R.H. Sapat College of Engineering, Management Studies and Research, Nashik\",Female,9890548783,CS/IT,2014,78,2016,69.22,0,0,2021,58,Dhanraj Deshpande,dhanraj.deshpande@ges-coengg.org,8329586331']\n",
      "['Mayuri Deore,deoremayuri09@gmail.com,\"GES R.H. Sapat College of Engineering, Management Studies and Research, Nashik\",Female,7083349407,CS/IT,2015,93.2,2017,75,0,0,2021,84.14,Dhanraj Deshpande,dhanraj.deshpande@ges-coengg.org,8329586331']\n",
      "['Tejashree Ahire,tejuahire28@gmail.com,\"GES R.H. Sapat College of Engineering, Management Studies and Research, Nashik\",Female,7887441272,CS/IT,2015,84.2,0,0,2018,67.5,2021,66.61,Dhanraj Deshpande,dhanraj.deshpande@ges-coengg.org,8329586331']\n",
      "['Pranjal Borale,pranjalborale1999@gmail.com,\"GES R.H. Sapat College of Engineering, Management Studies and Research, Nashik\",Female,8087749297,CS/IT,2015,86.4,0,0,2018,80.24,2021,67.71,Dhanraj Deshpande,dhanraj.deshpande@ges-coengg.org,8329586331']\n",
      "['Nikita Birari,nikitabirari09@gmail.com,\"GES R.H. Sapat College of Engineering, Management Studies and Research, Nashik\",Female,8698421927,CS/IT,2015,92.4,2017,69.08,0,0,2021,76.28,Dhanraj Deshpande,dhanraj.deshpande@ges-coengg.org,8329586331']\n",
      "['Mansi Shirore,mansishirore29@gmail.com,\"GES R.H. Sapat College of Engineering, Management Studies and Research, Nashik\",Female,9022227037,CS/IT,2015,89,2017,68,0,0,2021,66.33,Dhanraj Deshpande,dhanraj.deshpande@ges-coengg.org,8329586331']\n",
      "['Kirti Sagare,kirtip.sagare178@gmail.com,\"MET BKC Institute of Engineering, Nashik\",Female,9284745618,CS/IT,2014,80.6,2016,60.38,0,0,2021,61.27,Prof.Shailendra Vidhate,shailendrav_ioe@bkc.met.edu,9372938921']\n",
      "['Pratik Bharade,pratikbharade400@gmail.com,\"MET BKC Institute of Engineering, Nashik\",Male,9527377484,CS/IT,2014,82.2,2016,62.77,0,0,2021,58.71,Prof.Shailendra Vidhate,shailendrav_ioe@bkc.met.edu,9372938921']\n",
      "['Mohit Patil,mohitpatil443@gmail.com,\"MET BKC Institute of Engineering, Nashik\",Male,9511803814,CS/IT,2015,90.8,2017,80.15,0,0,2021,77.25,Prof.Shailendra Vidhate,shailendrav_ioe@bkc.met.edu,9372938921']\n",
      "['Bharat Ahire,bharatahire785@gmail.com,\"MET BKC Institute of Engineering, Nashik\",Male,8108415860,CS/IT,2013,63,2015,54.15,2018,80.31,2021,61.94,Prof.Shailendra Vidhate,shailendrav_ioe@bkc.met.edu,9372938921']\n",
      "['Rushikesh Thakare,rtrushi2441@gmail.com,\"MET BKC Institute of Engineering, Nashik\",Male,9595112215,CS/IT,2015,92.8,2017,77.69,0,0,2021,70.25,Prof.Shailendra Vidhate,shailendrav_ioe@bkc.met.edu,9372938921']\n",
      "['Priyanka Mule,piyumule18@gmail.com,\"MET BKC Institute of Engineering, Nashik\",Female,9112881257,CS/IT,2015,85.4,2017,64.92,0,0,2021,68.72,Prof.Shailendra Vidhate,shailendrav_ioe@bkc.met.edu,9372938921']\n",
      "['Harshal Borade,iamharshalb@gmail.com,\"MET BKC Institute of Engineering, Nashik\",Male,8380910020,CS/IT,2015,85.8,2017,69.85,0,0,2021,65.46,Prof.Shailendra Vidhate,shailendrav_ioe@bkc.met.edu,9372938921']\n",
      "['Vishal Wani,wanivishal1899@gmail.com,\"MET BKC Institute of Engineering, Nashik\",Male,9657976078,CS/IT,2015,87.6,2017,68.31,0,0,2021,60.81,Prof.Shailendra Vidhate,shailendrav_ioe@bkc.met.edu,9372938921']\n",
      "['Samyak Badjate,badjatesamyak8888@gmail.com,\"MET BKC Institute of Engineering, Nashik\",Male,8888645321,CS/IT,2015,94.6,2017,77.08,0,0,2021,62.7,Prof.Shailendra Vidhate,shailendrav_ioe@bkc.met.edu,9372938921']\n",
      "['Prashant Sonawane,sonawaneprashant2015@gmail.com,\"MET BKC Institute of Engineering, Nashik\",Male,7620853400,CS/IT,2013,61,2015,60,0,0,2021,60.6,Prof.Shailendra Vidhate,shailendrav_ioe@bkc.met.edu,9372938921']\n",
      "['Nishant Nair,nnnnishu123@gmail.com,\"Sandip Institute of Technology and Research Centre, Nashik\",Male,7875581865,CS/IT,2015,91.2,2017,79.39,0,0,2021,75.48,Nagma Shaikh,placements@sandipuniversity.edu.in,959552255/7720933822']\n",
      "['Saqlein Shaikh,saqleinsheikh43@gmail.com,\"Sandip Institute of Technology and Research Centre, Nashik\",Male,8237644836,CS/IT,2015,87.2,2017,69.69,0,0,2021,67.23,Nagma Shaikh,placements@sandipuniversity.edu.in,959552255/7720933822']\n",
      "['PRATHAMESH GIRI,prathameshgiri9@gmail.com,\"Sandip Institute of Technology and Research Centre, Nashik\",Male,8669033100,CS/IT,2015,98.6,2017,79.54,0,0,2021,78.71,Nagma Shaikh,placements@sandipuniversity.edu.in,959552255/7720933822']\n",
      "['Mayur Mahajan,mayurn1999@gmail.com,\"Sandip Institute of Technology and Research Centre, Nashik\",Male,9867941976,CS/IT,2015,78.6,2017,71.69,0,0,2021,67.41,Nagma Shaikh,placements@sandipuniversity.edu.in,959552255/7720933822']\n",
      "['Purva Mahajan,purvamahajan07@gmail.com,\"Sandip Institute of Technology and Research Centre, Nashik\",Female,9685153398,CS/IT,2015,83.59,2017,69.89,0,0,2021,67.49,Nagma Shaikh,placements@sandipuniversity.edu.in,959552255/7720933822']\n",
      "['Onkar Chaudhari,onkarchaudhari16@gmail.com,\"Sandip Institute of Technology and Research Centre, Nashik\",Male,9765146346,CS/IT,2015,80,2017,65.38,0,0,2021,67.27,Nagma Shaikh,placements@sandipuniversity.edu.in,959552255/7720933822']\n",
      "['Prathamesh Jadhav,jadhavprathamesh237@gmail.com,\"Sandip Institute of Technology and Research Centre, Nashik\",Male,8446851531,CS/IT,2015,83,2017,70,0,0,2021,60,Nagma Shaikh,placements@sandipuniversity.edu.in,959552255/7720933822']\n",
      "['Srushti Patil,srushtipatil038@gmail.com,\"Sandip Institute of Technology and Research Centre, Nashik\",Female,9146231993,CS/IT,2015,88.2,2017,67.54,0,0,2021,72.42,Nagma Shaikh,placements@sandipuniversity.edu.in,959552255/7720933822']\n",
      "['Sahil Sanghavi,s1999sahil@gmail.com,\"Sandip Institute of Technology and Research Centre, Nashik\",Male,8237031611,CS/IT,2015,87.6,0,0,2018,82,2021,73.04,Nagma Shaikh,placements@sandipuniversity.edu.in,959552255/7720933822']\n",
      "['Mansi Mahajan,mansimahajankkw@gmail.com,\"Sandip Institute of Technology and Research Centre, Nashik\",Female,9405177084,CS/IT,2015,85,0,0,2018,80.12,2021,64,Nagma Shaikh,placements@sandipuniversity.edu.in,959552255/7720933822']\n",
      "['Swami Kasar,swamikasar8910@gmail.com,\"Sandip Institute of Technology and Research Centre, Nashik\",Male,8623825861,CS/IT,2015,83.6,2017,70.77,0,0,2021,67.93,Nagma Shaikh,placements@sandipuniversity.edu.in,959552255/7720933822']\n",
      "['Jidnyasa Zambare,jidnyasazambare11@gmail.com,\"Sandip Institute of Technology and Research Centre, Nashik\",Female,9765303282,CS/IT,2015,95.2,2017,78.62,0,0,2021,63.62,Nagma Shaikh,placements@sandipuniversity.edu.in,959552255/7720933822']\n",
      "['Pushkar Thakur,pushkar.thakur28@gmail.com,\"Sandip Institute of Technology and Research Centre, Nashik\",Male,8856847140,CS/IT,2014,85.2,2016,70.01,0,0,2021,61.02,Nagma Shaikh,placements@sandipuniversity.edu.in,959552255/7720933822']\n",
      "['Raj Shinde,rajshinde2534@gmail.com,\"Sandip Institute of Technology and Research Centre, Nashik\",Male,9423166189,CS/IT,2015,81.6,0,0,2018,75,2021,62.62,Nagma Shaikh,placements@sandipuniversity.edu.in,959552255/7720933822']\n",
      "['Alquama Sayyed,sayyedalquama@gmail.com,\"Sandip Institute of Technology and Research Centre, Nashik\",Male,8983268556,CS/IT,2014,88.8,2016,78.48,0,0,2021,80.04,Nagma Shaikh,placements@sandipuniversity.edu.in,959552255/7720933822']\n",
      "['PRIYA PATIL,priyapatil737@gmail.com,\"Sandip Institute of Technology and Research Centre, Nashik\",Female,7387923981,CS/IT,2015,86,2017,70,0,0,2021,63.44,Nagma Shaikh,placements@sandipuniversity.edu.in,959552255/7720933822']\n",
      "['Shivesh Kumar,shiveshkr01999@gmail.com,\"Sandip Institute of Technology and Research Centre, Nashik\",Male,8434662315,CS/IT,2015,89.4,2017,67.4,0,0,2021,65,Nagma Shaikh,placements@sandipuniversity.edu.in,959552255/7720933822']\n",
      "['Swapnil Khairnar,swapnilkhairnar.78@gmail.com,\"Sandip Institute of Technology and Research Centre, Nashik\",Male,8320501915,CS/IT,2015,79.8,2017,68.4,0,0,2021,69.34,Nagma Shaikh,placements@sandipuniversity.edu.in,959552255/7720933822']\n",
      "['Shantanu Patil,snpatil1310@gmail.com,\"Sandip Institute of Technology and Research Centre, Nashik\",Male,8668478808,CS/IT,2015,79.8,0,0,2018,75.29,2021,60,Nagma Shaikh,placements@sandipuniversity.edu.in,959552255/7720933822']\n",
      "['Tanaya Bhagde,tanayabhagde7249@gmail.com,\"Sandip Institute of Technology and Research Centre, Nashik\",Female,9689609544,CS/IT,2015,70.3,2017,68.92,0,0,2021,62.08,Nagma Shaikh,placements@sandipuniversity.edu.in,959552255/7720933822']\n",
      "['Neha Tiwari,nehatiwari4105@gmail.com,\"Sandip Institute of Technology and Research Centre, Nashik\",Female,9890496714,CS/IT,2015,83.6,2017,85.4,0,0,2021,74.44,Nagma Shaikh,placements@sandipuniversity.edu.in,959552255/7720933822']\n",
      "['Neha Chavan,nehac3635@gmail.com,\"Sandip Institute of Technology and Research Centre, Nashik\",Female,9158693586,CS/IT,2015,79.6,0,0,2018,79,2021,59.67,Nagma Shaikh,placements@sandipuniversity.edu.in,959552255/7720933822']\n",
      "['Aditi Upadhyay,uaditi21@gmail.com,\"Sandip Institute of Technology and Research Centre, Nashik\",Female,9420573638,CS/IT,2015,94.8,2017,74.62,0,0,2021,77,Nagma Shaikh,placements@sandipuniversity.edu.in,959552255/7720933822']\n",
      "['Gauri Mandlik,gaurimandlik1999@gmail.com,\"Sandip Institute of Technology and Research Centre, Nashik\",Female,8208460234,CS/IT,2015,86.6,2017,64.62,0,0,2021,67.05,Nagma Shaikh,placements@sandipuniversity.edu.in,959552255/7720933822']\n",
      "['Rahul Shewale,rahulrajendrashewale@gmail.com,\"Sandip Institute of Technology and Research Centre, Nashik\",Male,9823454153,CS/IT,2015,93,2017,77.38,0,0,2021,65.9,Nagma Shaikh,placements@sandipuniversity.edu.in,959552255/7720933822']\n",
      "['Mahima Patel,mahima99patel@gmail.com,\"Sandip Institute of Technology and Research Centre, Nashik\",Female,8805655359,CS/IT,2015,83,2017,69,0,0,2021,59,Nagma Shaikh,placements@sandipuniversity.edu.in,959552255/7720933822']\n",
      "['Nutan Pandey,nutanpandey742@gmail.com,\"Sandip Institute of Technology and Research Centre, Nashik\",Female,9890648827,CS/IT,2014,83,2016,72.77,0,0,2021,68.99,Nagma Shaikh,placements@sandipuniversity.edu.in,959552255/7720933822']\n",
      "['Siddhant Jadhav,siddhantjadhav2000@gmail.com,\"Sandip Institute of Technology and Research Centre, Nashik\",Male,8554823731,CS/IT,2015,78,2017,70.15,0,0,2021,73.13,Nagma Shaikh,placements@sandipuniversity.edu.in,959552255/7720933822']\n",
      "['Ganesh Shinde,ganeshmarathe01@gmail.com,\"Sandip Institute of Technology and Research Centre, Nashik\",Male,8888047066,CS/IT,2015,77.9,0,0,2018,76.5,2021,64.39,Nagma Shaikh,placements@sandipuniversity.edu.in,959552255/7720933822']\n",
      "['Mansi Godse,mansigodse2000@gmail.com,\"Sandip Institute of Technology and Research Centre, Nashik\",Female,8788569003,CS/IT,2015,90.6,2017,63.69,0,0,2021,58.1,Nagma Shaikh,placements@sandipuniversity.edu.in,959552255/7720933822']\n",
      "['Shivani Bhutada,shivanibhutada21@gmail.com,\"Sandip Institute of Technology and Research Centre, Nashik\",Female,7744069201,CS/IT,2015,87.2,0,0,2018,80.29,2021,69.96,Nagma Shaikh,placements@sandipuniversity.edu.in,959552255/7720933822']\n",
      "['Charushila Bhadane,bhadanecharu7741@gmail.com,\"Sandip Institute of Technology and Research Centre, Nashik\",Female,9422788631,CS/IT,2015,81.4,0,0,2018,75.76,2021,60.39,Nagma Shaikh,placements@sandipuniversity.edu.in,959552255/7720933822']\n",
      "['Nandini Sonawane,nandinigsonawane84@gmail.com,\"Sandip Institute of Technology and Research Centre, Nashik\",Female,9552409937,CS/IT,2015,86.4,2017,62.2,0,0,2021,60.17,Nagma Shaikh,placements@sandipuniversity.edu.in,959552255/7720933822']\n",
      "['Sharmil Adroja,sharmiladroja17@gmail.com,\"Sandip Institute of Technology and Research Centre, Nashik\",Male,8805929891,CS/IT,2015,84.48,2017,74,0,0,2021,69.1,Nagma Shaikh,placements@sandipuniversity.edu.in,959552255/7720933822']\n",
      "['Harshada Patel,harashada08@gmail.com,\"Sandip Institute of Technology and Research Centre, Nashik\",Female,8390556441,CS/IT,2015,91.8,2017,74.6,0,0,2021,73.62,Nagma Shaikh,placements@sandipuniversity.edu.in,959552255/7720933822']\n",
      "['Sapana Medhane,sapanabmedhane@gmail.com,\"SNJB\\'s College of Engineering, Nashik\",Female,8329532783,CS/IT,2015,80.6,0,0,2018,78.56,2021,62,Pankaj Kapse,placementsnjb@gmail.com,8149529587']\n",
      "['Pratik Manjare,pratikmanjarekar21@gmail.com,\"Pimpri Chinchwad College of Engineering and Research Ravet, Pune\",Male,8805388974,CS/IT,2014,76,2016,64,0,0,2021,68.11,Sonali Lunawat,sonali.lunawat@pccoer.in,8087472177']\n",
      "['ISHA SAWANT,ishasawant6822@gmail.com,\"Pimpri Chinchwad College of Engineering and Research Ravet, Pune\",Female,7888047192,CS/IT,2015,91.06,2017,85.08,0,0,2021,73.87,Sonali Lunawat,sonali.lunawat@pccoer.in,8087472177']\n",
      "['Gauri Basutkar,basutkargauri@gmail.com,\"Pimpri Chinchwad College of Engineering and Research Ravet, Pune\",Female,7066224588,CS/IT,2015,82,0,0,2018,85.63,2021,76.92,Sonali Lunawat,sonali.lunawat@pccoer.in,8087472177']\n",
      "['SHUBHAM RAUT,shubhamraut5090.srsr@gmail.com,\"Pimpri Chinchwad College of Engineering and Research Ravet, Pune\",Male,7083405565,CS/IT,2014,76.6,2016,61,0,0,2021,64.7,Sonali Lunawat,sonali.lunawat@pccoer.in,8087472177']\n",
      "['Akash Gangule,akashgangule18@gmail.com,\"Pimpri Chinchwad College of Engineering and Research Ravet, Pune\",Male,8149760954,CS/IT,2015,76,2017,65,0,0,2021,62.02,Sonali Lunawat,sonali.lunawat@pccoer.in,8087472177']\n",
      "['Kalyani Patil,patil.n.kalyani@gmail.com,\"Pimpri Chinchwad College of Engineering and Research Ravet, Pune\",Female,9130091798,CS/IT,2015,76.8,0,0,2018,85.19,2021,72.68,Sonali Lunawat,sonali.lunawat@pccoer.in,8087472177']\n",
      "['Akash Shinde,shindeakash1013@gmail.com,\"Pimpri Chinchwad College of Engineering and Research Ravet, Pune\",Male,9689880871,CS/IT,2015,91.6,2017,67,0,0,2021,76.38,Sonali Lunawat,sonali.lunawat@pccoer.in,8087472177']\n",
      "['Sachin Patekar,sachinpatekar17@gmail.com,\"Pimpri Chinchwad College of Engineering and Research Ravet, Pune\",Male,7744036352,CS/IT,2015,88,2017,73.2,0,0,2021,78.23,Sonali Lunawat,sonali.lunawat@pccoer.in,8087472177']\n",
      "['Dharmesh Chaudhari,cdharmesh1999@gmail.com,\"Pimpri Chinchwad College of Engineering and Research Ravet, Pune\",Male,9730770957,EnTC,2015,74.1,2017,74.2,0,0,2021,66.82,Sonali Lunawat,sonali.lunawat@pccoer.in,8087472177']\n",
      "['Dnyaneshwari Jagtap,piyajagtap11@gmail.com,\"Pimpri Chinchwad College of Engineering and Research Ravet, Pune\",Female,8379988741,EnTC,2014,83.8,0,0,2018,87.8,2021,66,Sonali Lunawat,sonali.lunawat@pccoer.in,8087472177']\n",
      "['Gunjan Sali,gunjan.sali5300@gmail.com,\"Pimpri Chinchwad College of Engineering and Research Ravet, Pune\",Female,7776026582,EnTC,2015,85.8,0,0,2018,80.35,2021,58.96,Sonali Lunawat,sonali.lunawat@pccoer.in,8087472177']\n",
      "['Anshul Singh,anshulsingh1042440@gmail.com,\"Dr. D.Y. Patil Institute of Technology, Pimpri\",Male,9665147614,CS/IT,2015,91.2,2017,97.5,0,0,2021,80.08,Dheeraj Agrawal,dypiet.tpo@gmail.com,8600219510']\n",
      "['Priya Mhamunkar,priyamhamunkaradi@gmail.com,\"Dr. D.Y. Patil Institute of Technology, Pimpri\",Female,9623379052,CS/IT,2015,96.2,2017,91,0,0,2021,84.48,Dheeraj Agrawal,dypiet.tpo@gmail.com,8600219510']\n",
      "['Bishal Anand,anandbishal16@gmail.com,\"Dr. D.Y. Patil Institute of Technology, Pimpri\",Male,9304088188,CS/IT,2015,95,2017,69.52,0,0,2021,66.7,Dheeraj Agrawal,dypiet.tpo@gmail.com,8600219510']\n",
      "['Sejal Jain,sejal_j@yahoo.com,\"Dr. D.Y. Patil Institute of Technology, Pimpri\",Female,7397861855,CS/IT,2014,95,2016,82.4,0,0,2021,71.5,Dheeraj Agrawal,dypiet.tpo@gmail.com,8600219510']\n",
      "['Rohit Pillai,rohitpillai.100@gmail.com,\"Dr. D.Y. Patil Institute of Technology, Pimpri\",Male,8888619058,CS/IT,2015,94,2017,82.6,0,0,2021,68.73,Dheeraj Agrawal,dypiet.tpo@gmail.com,8600219510']\n",
      "['Trilok Kumar,trilokk61@gmail.com,\"Dr. D.Y. Patil Institute of Technology, Pimpri\",Male,7219596397,CS/IT,2015,87.4,2017,66,0,0,2021,73.04,Dheeraj Agrawal,dypiet.tpo@gmail.com,8600219510']\n",
      "['Rohit Rathore,rohitsinghrathore24@gmail.com,\"Dr. D.Y. Patil Institute of Technology, Pimpri\",Male,9765992742,CS/IT,2015,95,2017,91.6,0,0,2021,68.9,Dheeraj Agrawal,dypiet.tpo@gmail.com,8600219510']\n",
      "['Shailesh Gore,goreshailesh98@gmail.com,\"Dr. D.Y. Patil Institute of Technology, Pimpri\",Male,7057401880,CS/IT,2015,84.2,2017,70.15,0,0,2021,60.54,Dheeraj Agrawal,dypiet.tpo@gmail.com,8600219510']\n",
      "['Sara Nawghare,saranawghare@gmail.com,\"Dr. D.Y. Patil Institute of Technology, Pimpri\",Female,9767107882,CS/IT,2015,82.2,2017,67.7,0,0,2021,71.1,Dheeraj Agrawal,dypiet.tpo@gmail.com,8600219510']\n",
      "['Vaishnavi Mahadik,mahadikvaishnavi1999@gmail.com,\"Dr. D.Y. Patil Institute of Technology, Pimpri\",Female,7218390253,CS/IT,2015,94.8,2017,87.69,0,0,2021,83.95,Dheeraj Agrawal,dypiet.tpo@gmail.com,8600219510']\n",
      "['Varun Gyanchandani,varun.gyanchandani@gmail.com,\"Dr. D.Y. Patil Institute of Technology, Pimpri\",Male,7007679372,CS/IT,2015,77.9,2017,72.4,0,0,2021,72.6,Dheeraj Agrawal,dypiet.tpo@gmail.com,8600219510']\n",
      "['Adarsh Kumar,akloachn143@gmail.com,\"Dr. D.Y. Patil Institute of Technology, Pimpri\",Male,9622025016,CS/IT,2015,84,2017,89,0,0,2021,62.48,Dheeraj Agrawal,dypiet.tpo@gmail.com,8600219510']\n",
      "['Pratiksha Chouhan,pratikshachouhan902@gmail.com,\"Dr. D.Y. Patil Institute of Technology, Pimpri\",Female,9673988465,CS/IT,2015,82.3,0,0,2018,86.5,2021,62,Dheeraj Agrawal,dypiet.tpo@gmail.com,8600219510']\n",
      "['Mahesh Rathod,maheshrathod1951999@gmail.com,\"Dr. D.Y. Patil Institute of Technology, Pimpri\",Male,7774808326,CS/IT,2015,89.4,2017,70,0,0,2021,74.45,Dheeraj Agrawal,dypiet.tpo@gmail.com,8600219510']\n",
      "['Rutuja Ambhore,rutujambhore2112@gmail.com,\"Dr. D.Y. Patil Institute of Technology, Pimpri\",Female,7620506402,EnTC,2015,85,2017,66,0,0,2021,62.74,Dheeraj Agrawal,dypiet.tpo@gmail.com,8600219510']\n",
      "['Syed Danish,syeddanishn21@gmail.com,\"Dr. D.Y. Patil Institute of Technology, Pimpri\",Male,7030917984,EnTC,2014,81.7,2016,67,0,0,2021,64.24,Dheeraj Agrawal,dypiet.tpo@gmail.com,8600219510']\n",
      "['Shanu Mishra,shanu99mishra@gmail.com,\"Dr. D.Y. Patil Institute of Technology, Pimpri\",Female,9110903556,EnTC,2014,83,2016,66,0,0,2021,62.92,Dheeraj Agrawal,dypiet.tpo@gmail.com,8600219510']\n",
      "['Amruta Nakod,amrutanakod@gmail.com,\"Dr. D.Y. Patil Institute of Technology, Pimpri\",Female,7397861097,EnTC,2015,80.8,2017,60,0,0,2021,60.81,Dheeraj Agrawal,dypiet.tpo@gmail.com,8600219510']\n",
      "['Sumit Wagh,sumitwagh274@gmail.com,\"Dr. D.Y. Patil Institute of Technology, Pimpri\",Male,9607106548,EnTC,2014,80,2016,83,0,0,2021,58.96,Dheeraj Agrawal,dypiet.tpo@gmail.com,8600219510']\n",
      "['Swapnil Tembhurnikar,swapniltembhurnikar26@gmail.com,\"Dr. D.Y. Patil Institute of Technology, Pimpri\",Male,9921514261,EnTC,2015,91.2,2017,73.69,0,0,2021,62.56,Dheeraj Agrawal,dypiet.tpo@gmail.com,8600219510']\n",
      "['Shruti Chaudhari,shrutic279@gmail.com,\"Dr. D.Y. Patil Institute of Technology, Pimpri\",Female,9623268756,EnTC,2015,93.2,0,0,2018,77.47,2021,65.9,Dheeraj Agrawal,dypiet.tpo@gmail.com,8600219510']\n",
      "['Prajakta Thombre,prajaktathombre3570@gmail.com,\"Dr. D.Y. Patil Institute of Technology, Pimpri\",Female,8482804112,EnTC,2015,89.2,0,0,2018,68.82,2021,57.9,Dheeraj Agrawal,dypiet.tpo@gmail.com,8600219510']\n",
      "['Mohitrao Pathru,mohitraopathru123@gmail.com,\"Dr. D.Y. Patil Institute of Technology, Pimpri\",Male,9765188967,EnTC,2014,71.8,2016,66.46,2018,73.53,2021,59.31,Dheeraj Agrawal,dypiet.tpo@gmail.com,8600219510']\n",
      "['Rishima Kumari,dubeyrishima@gmail.com,\"Dr. D.Y. Patil Institute of Technology, Pimpri\",Female,7028649243,EnTC,2013,78,2015,66.67,0,0,2021,62.21,Dheeraj Agrawal,dypiet.tpo@gmail.com,8600219510']\n",
      "['Pooja Bhor,pbhor1607@gmail.com,\"Dr. D.Y. Patil Institute of Technology, Pimpri\",Female,9975498311,EnTC,2014,80.8,2016,60,0,0,2021,59.26,Dheeraj Agrawal,dypiet.tpo@gmail.com,8600219510']\n",
      "['Rohit Pawar,pawarrohit20499@gmail.com,\"Keystone School of Engineering, Pune\",Male,9834611702,CS/IT,2015,86,2017,80.48,0,0,2021,68.97,Bharat Bhushan,bbsud1@gmail.com,9822038944']\n",
      "['Sandip Gaikwad,sandipgaikwad1598@gmail.com,\"Keystone School of Engineering, Pune\",Male,8805774790,CS/IT,2014,73,2016,58,0,0,2021,56,Bharat Bhushan,bbsud1@gmail.com,9822038944']\n",
      "['Deepak Patil,deepakpatil244201@gmail.com,\"Keystone School of Engineering, Pune\",Male,9766495577,CS/IT,2015,78.8,2017,67.09,0,0,2021,61.77,Bharat Bhushan,bbsud1@gmail.com,9822038944']\n",
      "['Yash Garole,yash.garole99@gmail.com,\"Keystone School of Engineering, Pune\",Male,9922745160,CS/IT,2015,86.4,2017,67.38,0,0,2021,60.38,Bharat Bhushan,bbsud1@gmail.com,9822038944']\n",
      "['Vinayak Navghane,vinayak.navghane12@gmail.com,\"Keystone School of Engineering, Pune\",Male,8411015091,CS/IT,2014,70,0,0,2018,63.08,2021,55,Bharat Bhushan,bbsud1@gmail.com,9822038944']\n",
      "['Sunil Dhodmani,sunildhodmani143@gmail.com,\"Keystone School of Engineering, Pune\",Male,9552406671,CS/IT,2015,79.6,2017,56.54,0,0,2021,60,Bharat Bhushan,bbsud1@gmail.com,9822038944']\n",
      "['Azaruddin Mujawar,azaruddinmujawar9898@gmail.com,\"Keystone School of Engineering, Pune\",Male,9637181392,CS/IT,2014,64.6,0,0,2018,76.76,2021,60,Bharat Bhushan,bbsud1@gmail.com,9822038944']\n",
      "['SHREEYASH KARANDE,shriyash.karande6183@gmail.com,\"Keystone School of Engineering, Pune\",Male,8411888180,CS/IT,2015,64.99,2017,57,0,0,2021,57.81,Bharat Bhushan,bbsud1@gmail.com,9822038944']\n",
      "['Abhishek Barde,abhibarade37@gmail.com,\"Keystone School of Engineering, Pune\",Male,9834793091,CS/IT,2015,77,2017,68,0,0,2021,60.89,Bharat Bhushan,bbsud1@gmail.com,9822038944']\n",
      "['Tarini Chouhan,cktarini18@gmail.com,\"Keystone School of Engineering, Pune\",Female,9762639316,CS/IT,2015,80,2017,60,0,0,2021,69,Bharat Bhushan,bbsud1@gmail.com,9822038944']\n",
      "['Sagar Ghadage,sdghadage96@gmail.com,\"Keystone School of Engineering, Pune\",Male,9096954575,CS/IT,2015,83,2017,70.46,0,0,2021,60,Bharat Bhushan,bbsud1@gmail.com,9822038944']\n",
      "['Priyadarshan Ladkat,ladkatpriyadarshan@gmail.com,\"Keystone School of Engineering, Pune\",Male,7350022549,CS/IT,2013,60,0,0,2018,67.75,2021,65,Bharat Bhushan,bbsud1@gmail.com,9822038944']\n",
      "['Kirti Swami,kirtiswami27@gmail.com,\"Keystone School of Engineering, Pune\",Female,8830254789,CS/IT,2015,80.2,2017,60,0,0,2021,70,Bharat Bhushan,bbsud1@gmail.com,9822038944']\n",
      "['Jay Dhamale,jaydhamale3@gmail.com,\"Keystone School of Engineering, Pune\",Male,9561733322,CS/IT,2015,66,2017,73,0,0,2021,68,Bharat Bhushan,bbsud1@gmail.com,9822038944']\n",
      "['HARSHADA NANAWARE,harshadananaware266@gmail.com,\"Keystone School of Engineering, Pune\",Female,9823068153,CS/IT,2015,81.65,2017,60.3,0,0,2021,60.65,Bharat Bhushan,bbsud1@gmail.com,9822038944']\n",
      "['Aaquib Shaikh,aaquibshaikh8833@gmail.com,\"Trinity College of Engineering and Research, Pune\",Male,8390948846,CS/IT,2014,69,0,0,2018,66,2021,62,Anil S. Agrawal,asagrawal@yahoo.com,9422287243']\n",
      "['Sohel Shaikh,ssohel110@gmail.com,\"Trinity Academy of Engineering, Pune\",Male,8149484430,CS/IT,2014,56.8,2016,53.08,2018,82.56,2021,65.82,Anil S. Agrawal,asagrawal@yahoo.com,9422287243']\n",
      "['Rohan Bhapkar,rohanbhapkar99@gmail.com,\"K. J. College of Engineering and Management Research, Pune\",Male,9172023373,CS/IT,2014,87.2,2016,62.07,0,0,2021,62.2,Anil S. Agrawal,asagrawal@yahoo.com,9422287243']\n",
      "['Omkar Zende,omkarzende897@gmail.com,\"Trinity College of Engineering and Research, Pune\",Male,7058888766,CS/IT,2012,76,0,0,2015,67,2021,65,Anil S. Agrawal,asagrawal@yahoo.com,9422287243']\n",
      "['Shahid Khan,shahidk0028@gmail.com,\"Trinity Academy of Engineering, Pune\",Male,8793390790,CS/IT,2015,91.8,2017,78.9,0,0,2021,73.3,Anil S. Agrawal,asagrawal@yahoo.com,9422287243']\n",
      "['Prashant Shinde,prashantshindeaz3@gmail.com,\"K. J. College of Engineering and Management Research, Pune\",Male,7038936797,CS/IT,2015,77.6,2017,69.6,0,0,2021,56.5,Anil S. Agrawal,asagrawal@yahoo.com,9422287243']\n",
      "['Chetna Jeena,chetujeena@gmail.com,\"Trinity College of Engineering and Research, Pune\",Female,7773982680,CS/IT,2014,75,2016,60,0,0,2021,61,Anil S. Agrawal,asagrawal@yahoo.com,9422287243']\n",
      "['Shraddha Sonawane,shraddhasonawane1099@gmail.com,\"Trinity College of Engineering and Research, Pune\",Female,7447228193,CS/IT,2015,85.8,2017,76.66,0,0,2021,61,Anil S. Agrawal,asagrawal@yahoo.com,9422287243']\n",
      "['Tejal Raskar,tejal.raskar123@gmail.com,\"Trinity College of Engineering and Research, Pune\",Female,9527135114,CS/IT,2014,72.8,2016,60,0,0,2021,61,Anil S. Agrawal,asagrawal@yahoo.com,9422287243']\n",
      "['Ravindra Vasave,ravindravasave71@gmail.com,\"Trinity Academy of Engineering, Pune\",Male,7385747624,CS/IT,2014,78.75,2016,58.95,0,0,2021,67,Anil S. Agrawal,asagrawal@yahoo.com,9422287243']\n",
      "['Pranav Kavishwar,pranavgk99@gmail.com,\"Dr. D.Y. Patil Institute of Engineering, Management and Research, Akurdi, Pune\",Male,9975208623,CS/IT,2015,92.4,2017,72.92,0,0,2021,59,Heeresh Khatri,tpo@dypcoeakurdi.ac.in,9923963332']\n",
      "['Om Kale,kaleom410@gmail.com,\"Dr. D.Y. Patil Institute of Engineering, Management and Research, Akurdi, Pune\",Male,7249215813,CS/IT,2015,91,2017,76,0,0,2021,64,Heeresh Khatri,tpo@dypcoeakurdi.ac.in,9923963332']\n",
      "['Vanshica Koul,koulvanshica@gmail.com,\"D.Y. Patil College of Engineering, Akurdi, Pune\",Female,7028430035,CS/IT,2015,91.2,2017,81.6,0,0,2021,76.99,Heeresh Khatri,tpo@dypcoeakurdi.ac.in,9923963332']\n",
      "['Vishakha Nikumbh,vishakhanikumbh730@gmail.com,\"D.Y. Patil College of Engineering, Akurdi, Pune\",Female,7219559448,CS/IT,2015,94.4,2017,75.85,0,0,2021,71.34,Heeresh Khatri,tpo@dypcoeakurdi.ac.in,9923963332']\n",
      "['Saifulla Ansari,ansarisaifulla7@gmail.com,\"Dr. D.Y. Patil Institute of Engineering, Management and Research, Akurdi, Pune\",Male,8983533142,CS/IT,2015,86.2,2017,85.54,0,0,2021,76,Heeresh Khatri,tpo@dypcoeakurdi.ac.in,9923963332']\n",
      "['Aditi Singh,divaaadi@gmail.com,\"D.Y. Patil College of Engineering, Akurdi, Pune\",Female,9619449242,CS/IT,2015,80,2017,70,0,0,2021,63.36,Heeresh Khatri,tpo@dypcoeakurdi.ac.in,9923963332']\n",
      "['Vaishnavi Rahane,vaishnavi.04rahane@gmail.com,\"D.Y. Patil College of Engineering, Akurdi, Pune\",Female,7387519141,CS/IT,2015,93,2017,77.08,0,0,2021,68.97,Heeresh Khatri,tpo@dypcoeakurdi.ac.in,9923963332']\n",
      "['Deeba Shahab,deebashahab0817@gmail.com,\"Dr. D.Y. Patil Institute of Engineering, Management and Research, Akurdi, Pune\",Female,7743986371,CS/IT,2015,94,2017,88,0,0,2021,76.4,Heeresh Khatri,tpo@dypcoeakurdi.ac.in,9923963332']\n",
      "['MANJEET SINGH,manje6641@gmail.com,\"D.Y. Patil College of Engineering, Akurdi, Pune\",Male,7014018029,CS/IT,2014,89.6,2016,73.6,0,0,2021,78.21,Heeresh Khatri,tpo@dypcoeakurdi.ac.in,9923963332']\n",
      "['SAURABH PAWAR,saurabhpawar.sp1000@gmail.com,\"Dr. D.Y. Patil Institute of Engineering, Management and Research, Akurdi, Pune\",Male,7038866790,CS/IT,2015,96.4,2017,74.76,0,0,2021,70.62,Heeresh Khatri,tpo@dypcoeakurdi.ac.in,9923963332']\n",
      "['Shubham Aher,aher.shubham11@gmail.com,\"D.Y. Patil College of Engineering, Akurdi, Pune\",Male,7387263929,CS/IT,2015,87.8,2017,62.78,0,0,2021,66.8,Heeresh Khatri,tpo@dypcoeakurdi.ac.in,9923963332']\n",
      "['Divya Sukhiya,divyasukhiya@gmail.com,\"Dr. D.Y. Patil Institute of Engineering, Management and Research, Akurdi, Pune\",Female,7447757078,CS/IT,2015,89,2017,78.93,0,0,2021,64,Heeresh Khatri,tpo@dypcoeakurdi.ac.in,9923963332']\n",
      "['Kedar Kshatriya,kshatriyakedar@gmail.com,\"Dr. D.Y. Patil Institute of Engineering, Management and Research, Akurdi, Pune\",Male,9890408102,CS/IT,2015,87,2017,79,0,0,2021,75.68,Heeresh Khatri,tpo@dypcoeakurdi.ac.in,9923963332']\n",
      "['Kushagra Garg,kushgarg415@gmail.com,\"D.Y. Patil College of Engineering, Akurdi, Pune\",Male,9762674775,EnTC,2014,87.67,2016,79.6,0,0,2021,68,Heeresh Khatri,tpo@dypcoeakurdi.ac.in,9923963332']\n",
      "['Rohit Mali,rohitmali72667@gmail.com,\"Dr. D.Y. Patil Institute of Engineering, Management and Research, Akurdi, Pune\",Male,9834277453,EnTC,2015,89,2017,73.21,0,0,2021,68,Heeresh Khatri,tpo@dypcoeakurdi.ac.in,9923963332']\n",
      "['Keshav Kumar,keshavkrishnamurti33@gmail.com,\"D.Y. Patil College of Engineering, Akurdi, Pune\",Male,9534325043,EnTC,2015,91.2,2017,81.8,0,0,2021,85.7,Heeresh Khatri,tpo@dypcoeakurdi.ac.in,9923963332']\n",
      "['Dibyanshu Sharma,dibyanshusharma16@gmail.com,\"D.Y. Patil College of Engineering, Akurdi, Pune\",Male,7979858941,EnTC,2015,79.6,2017,76.45,0,0,2021,76.46,Heeresh Khatri,tpo@dypcoeakurdi.ac.in,9923963332']\n",
      "['Toleshwari Deotale,toleshwari.deotale@gmail.com,\"D.Y. Patil College of Engineering, Akurdi, Pune\",Female,9518724481,EnTC,2015,92,2017,75,0,0,2021,69.87,Heeresh Khatri,tpo@dypcoeakurdi.ac.in,9923963332']\n",
      "['YOGESH DESHMUKH,princeyvd3286@gmail.com,\"D.Y. Patil College of Engineering, Akurdi, Pune\",Male,8793067650,EnTC,2014,91.6,2016,70,0,0,2021,73,Heeresh Khatri,tpo@dypcoeakurdi.ac.in,9923963332']\n",
      "['Sanket Kale,kalesanket99@gmail.com,\"Dr. D.Y. Patil Institute of Engineering, Management and Research, Akurdi, Pune\",Male,7720060699,EnTC,2015,93.8,2017,93.59,0,0,2021,65,Heeresh Khatri,tpo@dypcoeakurdi.ac.in,9923963332']\n",
      "['CHETAN NIRADWAR,chetanniradwar@gmail.com,\"D.Y. Patil College of Engineering, Akurdi, Pune\",Male,9834257524,EnTC,2015,91.6,2017,82.3,0,0,2021,83.58,Heeresh Khatri,tpo@dypcoeakurdi.ac.in,9923963332']\n",
      "['RISHIKA SHARMA,rishikasharma082@gmail.com,\"Bharati Vidyapeeth\\'s College of Engineering for Women, Dhankawadi, Pune\",Female,8279427349,CS/IT,2015,85.5,2017,79.8,0,0,2021,70.84,Prof. Kale Pranoti,kpranoti2005@yahoo.com,9890164361']\n",
      "['Harshada Panhalkar,harsha14j99@gmail.com,\"Bharati Vidyapeeth\\'s College of Engineering for Women, Dhankawadi, Pune\",Female,8237676893,CS/IT,2015,87.87,2017,66.92,0,0,2021,60.78,Prof. Kale Pranoti,kpranoti2005@yahoo.com,9890164361']\n",
      "['Aditi Raina,aditi.raina.968@gmail.com,\"Bharati Vidyapeeth\\'s College of Engineering for Women, Dhankawadi, Pune\",Female,9682547623,CS/IT,2015,96,2017,67,0,0,2021,71.72,Prof. Kale Pranoti,kpranoti2005@yahoo.com,9890164361']\n",
      "['Ritika Andhare,ritikaandhare@gmail.com,\"Bharati Vidyapeeth\\'s College of Engineering for Women, Dhankawadi, Pune\",Female,8668319264,CS/IT,2015,85,2017,83,0,0,2021,64,Prof. Kale Pranoti,kpranoti2005@yahoo.com,9890164361']\n",
      "['Omkar Mahajan,omkarmahajan987@gmail.com,\"Bharati Vidyapeeth\\'s College Of Engineering Lavale, Pune\",Male,8149221441,CS/IT,2013,76.2,2015,63.69,0,0,2020,60,Ajay Katkar,ajayakatkar@gmail.com,9920699090 / 9226337736']\n",
      "['Swapnil Shreerame,swapnilshreerame@gmail.com,\"Bharati Vidyapeeth\\'s College Of Engineering Lavale, Pune\",Male,9309875623,CS/IT,2015,91,2017,70,0,0,2021,58.82,Ajay Katkar,ajayakatkar@gmail.com,9920699090 / 9226337736']\n",
      "['Ashlesha Gharge,ashleshagharge149@gmail.com,\"Bharati Vidyapeeth\\'s College Of Engineering Lavale, Pune\",Female,7218646558,CS/IT,2015,87.6,0,0,2018,78,2021,57.3,Ajay Katkar,ajayakatkar@gmail.com,9920699090 / 9226337736']\n",
      "['Rohansh Yaldandi,rohanshyaldandi@gmail.com,\"Bharati Vidyapeeth\\'s College Of Engineering Lavale, Pune\",Male,9112012069,CS/IT,2015,69.7,0,0,2018,72.29,2021,60,Ajay Katkar,ajayakatkar@gmail.com,9920699090 / 9226337736']\n",
      "['Bhushan Wani,falgunewani@gmail.com,\"Bharati Vidyapeeth\\'s College Of Engineering Lavale, Pune\",Male,7709745004,CS/IT,2015,90.2,2017,72.6,0,0,2021,58.6,Ajay Katkar,ajayakatkar@gmail.com,9920699090 / 9226337736']\n",
      "['Tushar Gouda,goudatushar78@gmail.com,\"Bharati Vidyapeeth\\'s College Of Engineering Lavale, Pune\",Male,9106991366,CS/IT,2014,80.5,2016,69,0,0,2021,65,Ajay Katkar,ajayakatkar@gmail.com,9920699090 / 9226337736']\n",
      "['Yashraj Tandon,yashrajtandon7@gmail.com,\"Bharati Vidyapeeth, Katraj, Pune\",Male,7007215585,CS/IT,2014,74,2016,64.5,0,0,2021,67.9,Prof. Nachiket Kulkarni,tpo@bvucoep.edu.in,7558630861']\n",
      "['Sarthak Raj,sarthak.hts@gmail.com,\"Bharati Vidyapeeth, Katraj, Pune\",Male,8896076817,CS/IT,2015,82,2017,80.02,0,0,2021,82.7,Prof. Nachiket Kulkarni,tpo@bvucoep.edu.in,7558630861']\n",
      "['Tripti Anand,triptianand83@gmail.com,\"Bharati Vidyapeeth, Katraj, Pune\",Female,7060084230,CS/IT,2015,72,2017,67,0,0,2021,70.2,Prof. Nachiket Kulkarni,tpo@bvucoep.edu.in,7558630861']\n",
      "['Aditi Kansal,aditikansal123@gmail.com,\"Bharati Vidyapeeth, Katraj, Pune\",Female,9673448495,CS/IT,2011,73.06,0,0,Computer science,0,2021,66,Prof. Nachiket Kulkarni,tpo@bvucoep.edu.in,7558630861']\n",
      "['Mritunjay Kumar,mritunjay50299@gmail.com,\"Bharati Vidyapeeth, Katraj, Pune\",Male,8208816825,CS/IT,2013,72,2016,74,0,0,2021,68.2,Prof. Nachiket Kulkarni,tpo@bvucoep.edu.in,7558630861']\n",
      "['Nehil Jain,nehiljain1805@gmail.com,\"Bharati Vidyapeeth, Katraj, Pune\",Male,9413056275,CS/IT,2014,78,2017,55,0,0,2021,66,Prof. Nachiket Kulkarni,tpo@bvucoep.edu.in,7558630861']\n",
      "['Akhil Aditya,akhil.aditya.90@gmail.com,\"Bharati Vidyapeeth, Katraj, Pune\",Male,8102661438,CS/IT,2013,69,2016,69,0,0,2021,71,Prof. Nachiket Kulkarni,tpo@bvucoep.edu.in,7558630861']\n",
      "['SamarthRajSingh Chouhan,samarthrajsinghchouhan@gmail.com,\"Bharati Vidyapeeth, Katraj, Pune\",Male,7772857700,CS/IT,2014,79.8,2016,81,0,0,2021,79.5,Prof. Nachiket Kulkarni,tpo@bvucoep.edu.in,7558630861']\n",
      "['Dhananjay Batra,mithoo439@rediffmail.com,\"Bharati Vidyapeeth, Katraj, Pune\",Male,9657366379,CS/IT,2015,95,2017,85.6,0,0,2021,82,Prof. Nachiket Kulkarni,tpo@bvucoep.edu.in,7558630861']\n",
      "['Saksham Agrawal,sakshamag550@gmail.com,\"Bharati Vidyapeeth, Katraj, Pune\",Male,9199008377,CS/IT,2014,85.5,2016,62.4,0,0,2021,71.5,Prof. Nachiket Kulkarni,tpo@bvucoep.edu.in,7558630861']\n",
      "['Ashutosh Srivastava,ashutosh141016@gmail.com,\"Bharati Vidyapeeth, Katraj, Pune\",Male,8853429737,CS/IT,2014,80.2,2016,82.3,0,0,2019,63.3,Prof. Nachiket Kulkarni,tpo@bvucoep.edu.in,7558630861']\n",
      "['Shivani Mishra,mishrashivani2301@gmail.com,\"Bharati Vidyapeeth, Katraj, Pune\",Female,8839486236,CS/IT,2015,83.9,2017,64.07,0,0,2021,74,Prof. Nachiket Kulkarni,tpo@bvucoep.edu.in,7558630861']\n",
      "['Siddhi Khanna,siddhirocks2012@gmail.com,\"Bharati Vidyapeeth, Katraj, Pune\",Female,8179858793,CS/IT,2015,70,2017,65,0,0,2021,65,Prof. Nachiket Kulkarni,tpo@bvucoep.edu.in,7558630861']\n",
      "['Shashank Tripathi,shashanktripathi99@outlook.com,\"Bharati Vidyapeeth, Katraj, Pune\",Male,8788062819,EnTC,2014,89,2016,85,0,0,2021,80,Prof. Nachiket Kulkarni,tpo@bvucoep.edu.in,7558630861']\n",
      "['Anshuman Bhadauria,anshumanbhadauria2908@gmail.com,\"Bharati Vidyapeeth, Katraj, Pune\",Male,9453586694,EnTC,2014,85.2,2016,90.8,0,0,2021,70.4,Prof. Nachiket Kulkarni,tpo@bvucoep.edu.in,7558630861']\n",
      "['Kuldeep Mahto,kuldeepmpop@gmail.com,\"Bharati Vidyapeeth, Katraj, Pune\",Male,8007228369,EnTC,2014,95,2016,89.4,0,0,2021,80,Prof. Nachiket Kulkarni,tpo@bvucoep.edu.in,7558630861']\n",
      "['Yash Kumar,yash.kumar45@yahoo.com,\"Bharati Vidyapeeth, Katraj, Pune\",Male,9067188684,EnTC,2014,95,2016,85.8,0,0,2021,78.4,Prof. Nachiket Kulkarni,tpo@bvucoep.edu.in,7558630861']\n",
      "['Varij Shukla,varij.12vj@gmail.com,\"Bharati Vidyapeeth, Katraj, Pune\",Male,8574614542,EnTC,2014,80,2016,88,0,0,2021,87,Prof. Nachiket Kulkarni,tpo@bvucoep.edu.in,7558630861']\n",
      "['Divyansh Singh,ddivyanshsingh@gmail.com,\"Bharati Vidyapeeth, Katraj, Pune\",Male,7860092065,EnTC,2015,71,2017,73,0,0,2021,68.32,Prof. Nachiket Kulkarni,tpo@bvucoep.edu.in,7558630861']\n",
      "['SURABHI JAIN,surabhijain1110@gmail.com,\"Bharati Vidyapeeth, Katraj, Pune\",Female,9131920767,EnTC,2015,83,2017,86.7,0,0,2021,78,Prof. Nachiket Kulkarni,tpo@bvucoep.edu.in,7558630861']\n",
      "['Chaitanya Kewadkar,chaitanyakewadkar11@gmail.com,\"Zeal College of Engineering and Research, Pune\",Male,9511891668,CS/IT,2015,92,2017,83.85,0,0,2021,70.84,Prof.Viraj Barge,placement.dcoer@zealeducation.com,-9763108251']\n",
      "['Neha Karadkar,nehakaradkar2000@gmail.com,\"Zeal College of Engineering and Research, Pune\",Female,7030994920,CS/IT,2015,89.4,2017,62.92,0,0,2021,66.44,Prof.Viraj Barge,placement.dcoer@zealeducation.com,-9763108251']\n",
      "['Vaishnavi Shinde,vaishnavi.shinde4188@gmail.com,\"Zeal College of Engineering and Research, Pune\",Female,9702734188,CS/IT,2015,92.6,2017,72.62,0,0,2021,67.58,Prof.Viraj Barge,placement.dcoer@zealeducation.com,-9763108251']\n",
      "['Abhay Patil,abhayspatil1998@gmail.com,\"Zeal College of Engineering and Research, Pune\",Male,7620613205,CS/IT,2014,91.8,2016,75.08,0,0,2021,63,Prof.Viraj Barge,placement.dcoer@zealeducation.com,-9763108251']\n",
      "['Shivangi Singh,shivangi1701singh@gmail.com,\"Zeal College of Engineering and Research, Pune\",Female,9067658146,CS/IT,2015,85.5,2017,75.6,0,0,2021,74.18,Prof.Viraj Barge,placement.dcoer@zealeducation.com,-9763108251']\n",
      "['Rutik Ursal,rutikursal10@gmail.com,\"Zeal College of Engineering and Research, Pune\",Male,8329699613,CS/IT,2015,87.6,2017,66.77,0,0,2021,73.04,Prof.Viraj Barge,placement.dcoer@zealeducation.com,-9763108251']\n",
      "['Adarsh Dubey,adarshdubey03021999@gmail.com,\"Zeal College of Engineering and Research, Pune\",Male,7984524591,CS/IT,2015,79.16,2017,71.06,0,0,2021,74.53,Prof.Viraj Barge,placement.dcoer@zealeducation.com,-9763108251']\n",
      "['Swapnil Bansude,swapbansude26@gmail.com,\"Zeal College of Engineering and Research, Pune\",Male,9049266058,CS/IT,2015,92.4,2017,73.54,0,0,2021,73.74,Prof.Viraj Barge,placement.dcoer@zealeducation.com,-9763108251']\n",
      "['Sanyukta Gogawale,sanyuktagogawale1999@gmail.com,\"Zeal College of Engineering and Research, Pune\",Female,8983829917,CS/IT,2015,92.2,2017,70,0,0,2021,64.5,Prof.Viraj Barge,placement.dcoer@zealeducation.com,-9763108251']\n",
      "['Gouri Ghanwat,gghanwat1999@gmail.com,\"Zeal College of Engineering and Research, Pune\",Female,9373673309,CS/IT,2015,92.4,0,0,2018,83.81,2020,66,Prof.Viraj Barge,placement.dcoer@zealeducation.com,-9763108251']\n",
      "['Devendra Ghadge,devenghadge13@gmail.com,\"Zeal College of Engineering and Research, Pune\",Male,8412807007,CS/IT,2015,79.2,0,0,2018,78.38,2021,62.13,Prof.Viraj Barge,placement.dcoer@zealeducation.com,-9763108251']\n",
      "['Roshani Chandak,roshanichandak196@gmail.com,\"Rajiv Gandhi College of Engineering and Research, Nagpur\",Female,9511869510,CS/IT,2015,77,2017,69,0,0,2021,61.75,Mr Jaykar,rgcertpo@gmail.com,9975775632']\n",
      "['Vaibhav Didmise,vaibhavdidmise1799sd@gmail.com,\"Rajiv Gandhi College of Engineering and Research, Nagpur\",Male,7972434378,CS/IT,2015,80,2017,62,0,0,2021,61,Mr Jaykar,rgcertpo@gmail.com,9975775632']\n",
      "['Sakshi Shegokar,sakshijshegokar@gmail.com,\"Rajiv Gandhi College of Engineering and Research, Nagpur\",Female,7378620163,CS/IT,2015,85.5,2017,76.15,0,0,2021,64.45,Mr Jaykar,rgcertpo@gmail.com,9975775632']\n",
      "['Tanmay Walke,tanmaywalke301@gmail.com,\"Rajiv Gandhi College of Engineering and Research, Nagpur\",Male,7020751783,CS/IT,2014,80.4,2017,64.31,0,0,2021,66.06,Mr Jaykar,rgcertpo@gmail.com,9975775632']\n",
      "['Rasika Ghonge,ghongerasika007@gmail.com,\"Rajiv Gandhi College of Engineering and Research, Nagpur\",Female,7507290808,CS/IT,2015,91.4,0,0,2017,83.69,2021,71.38,Mr Jaykar,rgcertpo@gmail.com,9975775632']\n",
      "['Arpit Menghre,menghre15@gmail.com,\"Rajiv Gandhi College of Engineering and Research, Nagpur\",Male,9145307453,CS/IT,2015,79,2017,76,0,0,2021,63,Mr Jaykar,rgcertpo@gmail.com,9975775632']\n",
      "['Jayashri Zilpe,jayashrizilpe300@gmail.com,\"Rajiv Gandhi College of Engineering and Research, Nagpur\",Female,7218677323,CS/IT,2015,88.16,2017,73.69,0,0,2021,74.29,Mr Jaykar,rgcertpo@gmail.com,9975775632']\n",
      "['Sakshi Gulhane,sakshigulhane22@gmail.com,\"Rajiv Gandhi College of Engineering and Research, Nagpur\",Female,7218975235,CS/IT,2015,75.6,2017,60.31,0,0,2021,62.5,Mr Jaykar,rgcertpo@gmail.com,9975775632']\n",
      "['Neha Dahare,nehadahare1@gmail.com,\"Rajiv Gandhi College of Engineering and Research, Nagpur\",Female,7588764678,CS/IT,2015,84.6,2017,61,0,0,2021,65.32,Mr Jaykar,rgcertpo@gmail.com,9975775632']\n",
      "['Vaishnobi Gogoi,vaishnobi.70@gmail.com,\"Cummins College of Engineering for Women, Nagpur\",Female,7086439719,CS/IT,2014,90,2016,83.4,0,0,2021,80.4,Mr Manish Raut,manish.raut@cumminscollege.edu.in,8411915585']\n",
      "['Ashwini Kapgate,ashwinikapgate145@gmail.com,\"Cummins College of Engineering for Women, Nagpur\",Female,9623347414,CS/IT,2015,77,2017,65.23,0,0,2021,70.72,Mr Manish Raut,manish.raut@cumminscollege.edu.in,8411915585']\n",
      "['Raksha Singhal,raksha.singhal230398@gmail.com,\"Cummins College of Engineering for Women, Nagpur\",Female,7972307788,CS/IT,2015,83.2,2017,61.08,0,0,2021,63.87,Mr Manish Raut,manish.raut@cumminscollege.edu.in,8411915585']\n",
      "['Nandini Menjoge,nsmenjoge522@gmail.com,\"Cummins College of Engineering for Women, Nagpur\",Female,7249434844,CS/IT,2015,93.4,2017,80.5,0,0,2021,78.9,Mr Manish Raut,manish.raut@cumminscollege.edu.in,8411915585']\n",
      "['Prajakta Bhakare,prajakta.bhakare1998@gmail.com,\"Cummins College of Engineering for Women, Nagpur\",Female,9284232173,CS/IT,2015,76.8,2017,61.69,0,0,2021,60.69,Mr Manish Raut,manish.raut@cumminscollege.edu.in,8411915585']\n",
      "['Sakshi Ubhal,sakshii.ubhal@gmail.com,\"Cummins College of Engineering for Women, Nagpur\",Female,9130971067,CS/IT,2015,72.04,2017,64.94,0,0,2021,63,Mr Manish Raut,manish.raut@cumminscollege.edu.in,8411915585']\n",
      "['Navdeep Ajmani,navdeepajmani1@gmail.com,\"Chameli Devi Group of Institutions, Indore\",Male,9340303314,CS/IT,2015,68.4,2017,70.2,0,0,2021,70,Aishwary Mendke,aishwary.mendke@cdgi.edu.in,7879833468']\n",
      "['Sarang Pal,saranng@gmail.com,\"Chameli Devi Group of Institutions, Indore\",Male,9993171180,CS/IT,2015,89.3,2017,74.8,0,0,2021,79,Aishwary Mendke,aishwary.mendke@cdgi.edu.in,7879833468']\n",
      "['Himanshu Mishra,hm39076@gmail.com,\"Chameli Devi Group of Institutions, Indore\",Male,7354091988,CS/IT,2015,75.83,2017,73.88,0,0,2021,79.8,Aishwary Mendke,aishwary.mendke@cdgi.edu.in,7879833468']\n",
      "['Bhumika Tikyani,bhumikatikyani109@gmail.com,\"Chameli Devi Group of Institutions, Indore\",Female,9669823773,CS/IT,2015,72.2,2017,67.8,0,0,2021,77.4,Aishwary Mendke,aishwary.mendke@cdgi.edu.in,7879833468']\n",
      "['Rohit Agrawal,arohit362@gmail.com,\"Chameli Devi Group of Institutions, Indore\",Male,9752294671,CS/IT,2015,62.4,2017,62,0,0,2021,75,Aishwary Mendke,aishwary.mendke@cdgi.edu.in,7879833468']\n",
      "['Anirudh Sadh,anirudhsadh179@gmail.com,\"Chameli Devi Group of Institutions, Indore\",Male,8463077834,CS/IT,2015,66.5,2017,61.6,0,0,2021,72,Aishwary Mendke,aishwary.mendke@cdgi.edu.in,7879833468']\n",
      "['Avani Shrivastava,avanishrivastava16@gmail.com,\"Chameli Devi Group of Institutions, Indore\",Female,8839748745,CS/IT,2015,76,2017,69,0,0,2021,69,Aishwary Mendke,aishwary.mendke@cdgi.edu.in,7879833468']\n",
      "['Suraj Rathore,cool.suraj2607@gmail.com,\"Chameli Devi Group of Institutions, Indore\",Male,9009729620,CS/IT,2015,74.1,2017,65.8,0,0,2021,74.7,Aishwary Mendke,aishwary.mendke@cdgi.edu.in,7879833468']\n",
      "['Anshika Jain,anshikajain280@gmail.com,\"Chameli Devi Group of Institutions, Indore\",Female,9977918812,CS/IT,2014,77.9,2016,77.2,0,0,2021,76.3,Aishwary Mendke,aishwary.mendke@cdgi.edu.in,7879833468']\n",
      "['Kajal Bhardwaj,kajalsharma7688@gmail.com,\"Chameli Devi Group of Institutions, Indore\",Female,8435014489,CS/IT,2015,74,2017,69,0,0,2021,60,Aishwary Mendke,aishwary.mendke@cdgi.edu.in,7879833468']\n",
      "['Kamini Yadav,kamini24699@gmail.com,\"Chameli Devi Group of Institutions, Indore\",Female,7970123712,CS/IT,2015,84.6,2017,82,0,0,2021,75.9,Aishwary Mendke,aishwary.mendke@cdgi.edu.in,7879833468']\n",
      "['Ayushi Verma,ayushiverma1041@gmail.com,\"Chameli Devi Group of Institutions, Indore\",Female,9340184194,CS/IT,2015,77.9,2017,73.6,0,0,2021,75.2,Aishwary Mendke,aishwary.mendke@cdgi.edu.in,7879833468']\n",
      "['ADITYA KARDILE,adi.kardile1599@gmail.com,\"JSPM\\'s Imperial College of Engineering and Research Wagholi, Pune\",Male,8788660996,CS/IT,2015,73.6,2017,68.46,,,2021,69.06,Amol Baviskar,baviskar.amol06@gmail.com,9970842072']\n",
      "['Santosh Punde,santoshpunde1999@gmail.com,\"JSPM\\'s Imperial College of Engineering and Research Wagholi, Pune\",Male,8605383261,CS/IT,2015,73.8,,,2018,75,2021,60.39,Amol Baviskar,baviskar.amol06@gmail.com,9970842072']\n",
      "['Yash Kolapkar,yashkolapkar7@gmail.com,\"JSPM\\'s Imperial College of Engineering and Research Wagholi, Pune\",Male,9552217663,CS/IT,2015,87.2,2017,69.69,,,2021,70.99,Amol Baviskar,baviskar.amol06@gmail.com,9970842072']\n",
      "['Sourabh Kumbhar,skumbhar125@gmail.com,\"JSPM\\'s Bhivarabai Sawant Institute of Technology and Research Wagholi, Pune\",Male,9595251595,CS/IT,2015,82.2,2017,60.77,,,2021,60.89,Amol Baviskar,baviskar.amol06@gmail.com,9970842072']\n",
      "['Tejaswini Landge,landgetejaswini24@gmail.com,\"JSPM\\'s Bhivarabai Sawant Institute of Technology and Research Wagholi, Pune\",Female,8600176781,CS/IT,2015,87,,,2018,89.13,2021,69.52,Amol Baviskar,baviskar.amol06@gmail.com,9970842072']\n",
      "['Sapana Supekar,supekar.sapana16@gmail.com,\"JSPM\\'s Imperial College of Engineering and Research Wagholi, Pune\",Female,7798793524,CS/IT,2015,85.8,2017,62.46,,,2021,64.06,Amol Baviskar,baviskar.amol06@gmail.com,9970842072']\n",
      "['Rutuja Bhandare,rutujabhandare7438@gmail.com,\"JSPM\\'s Imperial College of Engineering and Research Wagholi, Pune\",Female,7057520748,CS/IT,2015,87.6,2017,73.56,,,2021,71.45,Amol Baviskar,baviskar.amol06@gmail.com,9970842072']\n",
      "['Rohit Sav,rohitsav1305@gmail.com,\"JSPM\\'s Imperial College of Engineering and Research Wagholi, Pune\",Male,8208753086,CS/IT,2015,71,2017,64.15,,,2021,61.33,Amol Baviskar,baviskar.amol06@gmail.com,9970842072']\n",
      "['Pallavi Patil,patilpallavi183@gmail.com,\"JSPM\\'s Imperial College of Engineering and Research Wagholi, Pune\",Female,9665916597,CS/IT,2014,88,2016,60.77,,,2021,58.39,Amol Baviskar,baviskar.amol06@gmail.com,9970842072']\n",
      "['Saniya Shaikh,shaikhsaniya9906@gmail.com,\"JSPM\\'s Jayawantrao Sawant College of Engineering Hadapsar, Pune\",Female,7507526982,CS/IT,2015,85.4,2017,78,0,0,2021,60,Sachin Kangutkar,s.kangutkar@gmail.com,9822646293']\n",
      "['Avadhoot Dhere,avadhootd99@gmail.com,\"JSPM\\'s Narhe Technical Campus, Pune\",Male,9130455613,CS/IT,2015,92.8,2017,77.54,0,0,2021,82.54,Sachin Kangutkar,s.kangutkar@gmail.com,9822646293']\n",
      "['SAHIL BAJARE,sahilbajare25@gmail.com,\"JSPM\\'s Narhe Technical Campus, Pune\",Male,8975202579,CS/IT,2014,88.6,2016,64.4,0,0,2021,59.47,Sachin Kangutkar,s.kangutkar@gmail.com,9822646293']\n",
      "['Komal Mhaske,komalmhaske338@gmail.com,\"JSPM\\'s Jayawantrao Sawant College of Engineering Hadapsar, Pune\",Female,7517781392,CS/IT,2015,90,0,0,2018,68.8,2021,63.24,Sachin Kangutkar,s.kangutkar@gmail.com,9822646293']\n",
      "['Gayatri Inamdar,inamdargs14@gmail.com,\"TSSM\\'s Bhivarabai Sawant College of Engineering and Research Narhe, Pune\",Female,9130232622,CS/IT,2015,90,0,0,2018,69,2021,61.6,Sachin Kangutkar,s.kangutkar@gmail.com,9822646293']\n",
      "['Yash Kalwani,yashkalwani948@gmail.com,\"JSPM\\'s Narhe Technical Campus, Pune\",Male,9689559168,CS/IT,2015,81,2017,66.15,0,0,2021,76.11,Sachin Kangutkar,s.kangutkar@gmail.com,9822646293']\n",
      "['SANA MULANI,sanamulani45@gmail.com,\"TSSM\\'s Bhivarabai Sawant College of Engineering and Research Narhe, Pune\",Female,7030571999,CS/IT,2015,84.2,2017,71.38,0,0,2021,61.37,Sachin Kangutkar,s.kangutkar@gmail.com,9822646293']\n",
      "['NIKITA RAWOOL,nikira8086@gmail.com,\"JSPM\\'s Rajarshi Shahu College of Engineering Tathawade, Pune\",Female,7517558311,CS/IT,2015,89.2,2017,76.4,,,2021,72.36,Radhika Modi,modi.tpo@gmail.com,7755933085']\n",
      "['Aditya Chavan,adityachavan2019@gmail.com,\"JSPM\\'s Rajarshi Shahu College of Engineering Tathawade, Pune\",Male,9588614157,CS/IT,2015,85,2017,69.23,,,2021,66.44,Radhika Modi,modi.tpo@gmail.com,7755933085']\n",
      "['Shreya Gandhi,shreyagandhi1234@gmail.com,\"JSPM\\'s Rajarshi Shahu College of Engineering Tathawade, Pune\",Female,7775082211,CS/IT,2015,88.4,2017,80.46,,,2021,70.57,Radhika Modi,modi.tpo@gmail.com,7755933085']\n",
      "['Vishwajeet Patil,svishpatil@gmail.com,\"JSPM\\'s Rajarshi Shahu College of Engineering Tathawade, Pune\",Male,9156755854,CS/IT,2015,95,2017,76.62,,,2021,80.63,Radhika Modi,modi.tpo@gmail.com,7755933085']\n",
      "['Sanket Vetal,sanketv570@gmail.com,\"JSPM\\'s Rajarshi Shahu College of Engineering Tathawade, Pune\",Male,9834408935,CS/IT,2015,79,2017,70,,,2021,75,Radhika Modi,modi.tpo@gmail.com,7755933085']\n",
      "['Astha Kubavat,asthakubavat16@gmail.com,\"JSPM\\'s Rajarshi Shahu College of Engineering Tathawade, Pune\",Female,7405526423,CS/IT,2015,81.66,2017,79.69,,,2021,78.67,Radhika Modi,modi.tpo@gmail.com,7755933085']\n",
      "['Surekha Pardeshi,surekhapardeshi26@gmail.com,\"JSPM\\'s Rajarshi Shahu College of Engineering Tathawade, Pune\",Female,7387960919,CS/IT,2015,82,2017,60.15,,,2021,59.82,Radhika Modi,modi.tpo@gmail.com,7755933085']\n",
      "['Gautami Kharul,gautamikharulyolo22@gmail.com,\"JSPM\\'s Rajarshi Shahu College of Engineering Tathawade, Pune\",Female,7559398560,CS/IT,2015,84.2,2017,67.38,,,2021,71.63,Radhika Modi,modi.tpo@gmail.com,7755933085']\n",
      "['Harish Kalshetty,kalshettyh@gmail.com,\"JSPM\\'s Rajarshi Shahu College of Engineering Tathawade, Pune\",Male,8605151743,CS/IT,2015,83,2017,66,,,2021,62.3,Radhika Modi,modi.tpo@gmail.com,7755933085']\n",
      "['Ketaki Joshi,ketakipj4@gmail.com,\"JSPM\\'s Rajarshi Shahu College of Engineering Tathawade, Pune\",Female,8208649399,CS/IT,2015,90.6,2017,74.92,,,2021,72.95,Radhika Modi,modi.tpo@gmail.com,7755933085']\n",
      "['Monali Panchal,panchalmonali504@gmail.com,\"JSPM\\'s Rajarshi Shahu College of Engineering Tathawade, Pune\",Female,9172804570,CS/IT,2015,88.4,2017,78.76,,,2021,77.6,Radhika Modi,modi.tpo@gmail.com,7755933085']\n",
      "['Ravina Lodha,ravinalodha1999@gmail.com,\"JSPM\\'s Rajarshi Shahu College of Engineering Tathawade, Pune\",Female,7218315969,CS/IT,2015,91.4,2017,73.23,,,2021,73.29,Radhika Modi,modi.tpo@gmail.com,7755933085']\n",
      "['Rashmi Kodgire,rashmirk30599@gmail.com,\"JSPM\\'s Rajarshi Shahu College of Engineering Tathawade, Pune\",Female,7774929497,CS/IT,2015,94.8,2017,69.38,,,2021,65.78,Radhika Modi,modi.tpo@gmail.com,7755933085']\n",
      "['Divya Bafna,divyabafna9@gmail.com,\"JSPM\\'s Rajarshi Shahu College of Engineering Tathawade, Pune\",Female,7888260318,CS/IT,2015,93.2,2017,80,,,2021,72.68,Radhika Modi,modi.tpo@gmail.com,7755933085']\n",
      "['Shraddha Khedkar,khedkarshraddha10@gmail.com,\"JSPM\\'s Rajarshi Shahu College of Engineering Tathawade, Pune\",Female,9921848846,CS/IT,2015,91.2,2017,68.62,,,2021,67.32,Radhika Modi,modi.tpo@gmail.com,7755933085']\n",
      "['Kshitija Jawale,kshitijajawale1999@gmail.com,\"JSPM\\'s Rajarshi Shahu College of Engineering Tathawade, Pune\",Female,9518301580,EnTC,2015,83.6,2017,63.23,,,2021,60.8,Radhika Modi,modi.tpo@gmail.com,7755933085']\n",
      "['Vaishnavi Raut,rautvaishnavi6063@gmail.com,\"JSPM\\'s Rajarshi Shahu College of Engineering Tathawade, Pune\",Female,9823815021,EnTC,2015,88.8,2017,75.69,,,2021,64,Radhika Modi,modi.tpo@gmail.com,7755933085']\n",
      "['Shivani Ligade,shivaniligade15@gmail.com,\"JSPM\\'s Rajarshi Shahu College of Engineering Tathawade, Pune\",Female,8668265729,EnTC,2015,88,2017,73.54,,,2021,77.26,Radhika Modi,modi.tpo@gmail.com,7755933085']\n",
      "['NALAMKULANGARA RAHULKRISHNA,krishrahul121@gmail.com,\"CMR Engineering College (CMREC), Hyderabad\",Male,9550683735,CS/IT,2015,92,2017,95.9,0,0,2021,78,Himabindu,placements@cmrgroup.org,9704409222']\n",
      "['Mediboyina Manikanta,chintuyadav80509@gmail.com,\"CMR Engineering College (CMREC), Hyderabad\",Male,9182718564,CS/IT,2015,83,2017,70,0,0,2021,67,Himabindu,placements@cmrgroup.org,9704409222']\n",
      "['Kaushik Kumar,kaushikkumar004@gmail.com,\"CMR College of Engineering and Technology (CMRCET), Hyderabad\",Male,7903153097,CS/IT,2015,81.7,2017,92,0,0,2021,83.69,Himabindu,placements@cmrgroup.org,9704409222']\n",
      "['ALLE RAHUL,rahulalle55@gmail.com,\"CMR College of Engineering and Technology (CMRCET), Hyderabad\",Male,9492236251,CS/IT,2015,92,2017,98,0,0,2021,73,Himabindu,placements@cmrgroup.org,9704409222']\n",
      "['DIVAKARUNI SANDEEP,sandeep1505199@gmail.com,\"CMR College of Engineering and Technology (CMRCET), Hyderabad\",Male,9963295948,CS/IT,2015,92,2017,98,0,0,2021,80,Himabindu,placements@cmrgroup.org,9704409222']\n",
      "['Tejaswini Samala,saitejaswinisamala03@gmail.com,\"CMR College of Engineering and Technology (CMRCET), Hyderabad\",Female,8341148259,CS/IT,2015,90,2017,93,0,0,2021,83,Himabindu,placements@cmrgroup.org,9704409222']\n",
      "['Upputuri Ganesh,ganeshupputuri16@gmail.com,\"CMR College of Engineering and Technology (CMRCET), Hyderabad\",Male,8465011658,CS/IT,2015,93,2017,94,0,0,2021,86,Himabindu,placements@cmrgroup.org,9704409222']\n",
      "['Vangala Shanthan,shanthanreddyvangala@gmail.com,\"CMR College of Engineering and Technology (CMRCET), Hyderabad\",Male,9100205060,CS/IT,2015,86,2017,94,0,0,2021,83,Himabindu,placements@cmrgroup.org,9704409222']\n",
      "['Medapati Reshma,mnvreshma@gmail.com,\"CMR College of Engineering and Technology (CMRCET), Hyderabad\",Female,9849783555,CS/IT,2015,93,2017,95,0,0,2021,95,Himabindu,placements@cmrgroup.org,9704409222']\n",
      "['Mounika Kalakonda,mounikakalakonda98@gmail.com,\"CMR College of Engineering and Technology (CMRCET), Hyderabad\",Female,9849199422,CS/IT,2015,95,2017,96,0,0,2021,89,Himabindu,placements@cmrgroup.org,9704409222']\n",
      "['Gumastha Aishwraya,aishwaryagumastha18@gmail.com,\"CMR College of Engineering and Technology (CMRCET), Hyderabad\",Female,9666564411,CS/IT,2015,87.4,2017,97.8,0,0,2021,89.77,Himabindu,placements@cmrgroup.org,9704409222']\n",
      "['Nomula Nandini,nandinireddynomula@gmail.com,\"CMR College of Engineering and Technology (CMRCET), Hyderabad\",Female,9440882065,CS/IT,2014,97,2017,92,0,0,2020,85,Himabindu,placements@cmrgroup.org,9704409222']\n",
      "['Rohith Tatamsetty,177r1a05b3@gmail.com,\"CMR Technical Campus (CMRTC), Hyderabad\",Male,9700113203,CS/IT,2015,88,2017,91.7,0,0,2021,78,Himabindu,placements@cmrgroup.org,9704409222']\n",
      "['Alex Abrahim,177r1a0561@cmrtc.ac.in,\"CMR Technical Campus (CMRTC), Hyderabad\",Male,7095824555,CS/IT,2015,75,2017,77.4,0,0,2021,66.4,Himabindu,placements@cmrgroup.org,9704409222']\n",
      "['MAGANTI Prathyusha,prathyu889@gmail.com,\"CMR Technical Campus (CMRTC), Hyderabad\",Female,8897411064,CS/IT,2015,98,2017,97,0,0,2021,70,Himabindu,placements@cmrgroup.org,9704409222']\n",
      "['Ramayanam SaiVeerSuvesith,suvesith.ramayanam@gmail.com,\"St. Martin\\'s Engineering College, Hyderabad\",Male,9652283588,CS/IT,2015,92,2017,96.8,0,0,2021,78.85,P Sridevi,tpo.smec@gmail.com,9121345666 /9705133339']\n",
      "['Aishwarya Chennam,aishwaryachennam@gmail.com,\"St. Martin\\'s Engineering College, Hyderabad\",Female,7382396846,CS/IT,2015,90.25,2017,97.2,0,0,2021,79,P Sridevi,tpo.smec@gmail.com,9121345666 /9705133339']\n",
      "['Vallandas Ramya,ramyavallandas34@gmail.com,\"St. Martin\\'s Engineering College, Hyderabad\",Female,9652119246,CS/IT,2015,75,2017,93,0,0,2021,76,P Sridevi,tpo.smec@gmail.com,9121345666 /9705133339']\n",
      "['Vardhan CM,cmvardhan@gmail.com,\"St. Martin\\'s Engineering College, Hyderabad\",Male,9573079972,CS/IT,2015,90,2017,91.9,0,0,2021,66,P Sridevi,tpo.smec@gmail.com,9121345666 /9705133339']\n",
      "['Parvatam PavanKumar,pavankumar41299@gmail.com,\"St. Martin\\'s Engineering College, Hyderabad\",Male,9704565246,CS/IT,2015,95,2017,91.4,0,0,2021,67,P Sridevi,tpo.smec@gmail.com,9121345666 /9705133339']\n",
      "['Monika Kalaskar,monikakalaskar51@gmail.com,\"Vidya Pratishthan\\'s Kamalnayan Bajaj Institute of Engineering and Technology, Baramati\",Female,7385630853,CS/IT,2015,87.2,0,0,2018,72.4,2021,68,Vishal Kore,tpo@vpkbiet.org,8605254254']\n",
      "['OMKAR KHOT,omkar.khot.comp.2017@vpkbiet.org,\"Vidya Pratishthan\\'s Kamalnayan Bajaj Institute of Engineering and Technology, Baramati\",Male,8975391235,CS/IT,2015,93.8,2017,69.8,0,0,2022,70,Vishal Kore,tpo@vpkbiet.org,8605254254']\n",
      "['Rohit Jadhav,rohit2244jadhav@gmail.com,\"Vidya Pratishthan\\'s Kamalnayan Bajaj Institute of Engineering and Technology, Baramati\",Male,9673636464,CS/IT,2015,88.8,2017,72,0,0,2021,65,Vishal Kore,tpo@vpkbiet.org,8605254254']\n",
      "['Bharati Jadhav,bharatijadhav342@gmail.com,\"Vidya Pratishthan\\'s Kamalnayan Bajaj Institute of Engineering and Technology, Baramati\",Female,9067514516,CS/IT,2015,88.6,2017,76.92,0,0,2021,72.9,Vishal Kore,tpo@vpkbiet.org,8605254254']\n",
      "['Rajeshwari Atole,rajeshwariatole002@gmail.com,\"Vidya Pratishthan\\'s Kamalnayan Bajaj Institute of Engineering and Technology, Baramati\",Female,7057153707,CS/IT,2014,90.6,2016,62.77,2018,85.5,2021,65.1,Vishal Kore,tpo@vpkbiet.org,8605254254']\n",
      "['Sanika Patale,sanikapatale3535@gmail.com,\"Vidya Pratishthan\\'s Kamalnayan Bajaj Institute of Engineering and Technology, Baramati\",Female,9158743945,CS/IT,2015,90.2,2017,79.85,0,0,2021,71.89,Vishal Kore,tpo@vpkbiet.org,8605254254']\n",
      "['Yashshree Gadekar,yashashree.gadekar.it.2017@vpkbiet.org,\"Vidya Pratishthan\\'s Kamalnayan Bajaj Institute of Engineering and Technology, Baramati\",Female,9403317913,CS/IT,2015,92.2,2017,75.69,0,0,2021,63,Vishal Kore,tpo@vpkbiet.org,8605254254']\n",
      "['Shubham Bhosale,shubham22898b@gmail.com,\"Vidya Pratishthan\\'s Kamalnayan Bajaj Institute of Engineering and Technology, Baramati\",Male,7378982965,CS/IT,2015,85.4,2017,67.84,0,0,2021,61,Vishal Kore,tpo@vpkbiet.org,8605254254']\n",
      "['Trupti Jadhav,jadhavtrupti046@gmail.com,\"Vidya Pratishthan\\'s Kamalnayan Bajaj Institute of Engineering and Technology, Baramati\",Female,8637756401,CS/IT,2015,88.8,2017,80,0,0,2021,69,Vishal Kore,tpo@vpkbiet.org,8605254254']\n",
      "['Shivani Sul,shivani.sul123@gmail.com,\"Vidya Pratishthan\\'s Kamalnayan Bajaj Institute of Engineering and Technology, Baramati\",Female,9665696198,CS/IT,2015,82,0,0,2018,82.39,2021,66.7,Vishal Kore,tpo@vpkbiet.org,8605254254']\n",
      "['Shivkanya Kadam,shivkanya.kadam.it.2018@vpkbiet.org,\"Vidya Pratishthan\\'s Kamalnayan Bajaj Institute of Engineering and Technology, Baramati\",Female,7058380664,CS/IT,2014,75,0,0,2018,75.38,2021,59.86,Vishal Kore,tpo@vpkbiet.org,8605254254']\n",
      "['Aniket Goture,aniket.goture.comp.2017@vpkbiet.org,\"Vidya Pratishthan\\'s Kamalnayan Bajaj Institute of Engineering and Technology, Baramati\",Male,9657360961,EnTC,2015,87,2017,67.68,0,0,2021,64,Vishal Kore,tpo@vpkbiet.org,8605254254']\n",
      "['Sneha Navale,sneha.navale.entc.2017@vpkbiet.org,\"Vidya Pratishthan\\'s Kamalnayan Bajaj Institute of Engineering and Technology, Baramati\",Female,9834985311,EnTC,2015,92.6,2017,70.46,0,0,2021,60,Vishal Kore,tpo@vpkbiet.org,8605254254']\n",
      "['Vaishnavi Kanade,vaishnavi.kanade.entc.2017@vpkbiet.org,\"Vidya Pratishthan\\'s Kamalnayan Bajaj Institute of Engineering and Technology, Baramati\",Female,9503138774,EnTC,2015,92,2017,71.69,0,0,2021,74.95,Vishal Kore,tpo@vpkbiet.org,8605254254']\n",
      "['Harshada Ambale,ambleharshada2013@gmail.com,\"Vidya Pratishthan\\'s Kamalnayan Bajaj Institute of Engineering and Technology, Baramati\",Female,9.01E+09,CS/IT,2015,80.8,0,0,2018,83.5,2021,61.77,Vishal Kore,tpo@vpkbiet.org,8605254254']\n",
      "['Kajal Lambhate,kajallambhate143@gmail.com,\"Vidya Pratishthan\\'s Kamalnayan Bajaj Institute of Engineering and Technology, Baramati\",Female,8.55E+09,CS/IT,2014,69,0,0,2017,72.92,2021,59.84,Vishal Kore,tpo@vpkbiet.org,8605254254']\n",
      "['Tejaswinee Vetal,tejaswinee.vetal.it.2017@vpkbiet.org,\"Vidya Pratishthan\\'s Kamalnayan Bajaj Institute of Engineering and Technology, Baramati\",Female,9.10E+09,CS/IT,2015,94.8,2017,73.23,0,0,2021,72.2,Vishal Kore,tpo@vpkbiet.org,8605254254']\n",
      "['Samuel Salvi,samuelsalvi195@gmail.com,\"Vidya Pratishthan\\'s Kamalnayan Bajaj Institute of Engineering and Technology, Baramati\",Male,9.28E+09,CS/IT,2015,92.5,2017,72.15,0,0,2021,62.5,Vishal Kore,tpo@vpkbiet.org,8605254254']\n",
      "['Harshada Devadhe,harshada.devadhe.it.2017@vpkbiet.org,\"Vidya Pratishthan\\'s Kamalnayan Bajaj Institute of Engineering and Technology, Baramati\",Female,8.33E+09,CS/IT,2015,93.4,2017,83.08,0,0,2021,67.06,Vishal Kore,tpo@vpkbiet.org,8605254254']\n",
      "['SIMRAN SARKALE,simran.sarkale.it.2017@vpkbiet.org,\"Vidya Pratishthan\\'s Kamalnayan Bajaj Institute of Engineering and Technology, Baramati\",Female,7.40E+09,CS/IT,2015,88.4,2017,69.09,0,0,2021,70.57,Vishal Kore,tpo@vpkbiet.org,8605254254']\n",
      "['Snehal Godase,snehalgodase99@gmail.com,\"Vidya Pratishthan\\'s Kamalnayan Bajaj Institute of Engineering and Technology, Baramati\",Female,7.74E+09,CS/IT,2013,80,0,0,2017,73.18,2021,60.83,Vishal Kore,tpo@vpkbiet.org,8605254254']\n",
      "['Vaishnavi Gaikwad,vaishnaviig08@gmail.com,\"Vidya Pratishthan\\'s Kamalnayan Bajaj Institute of Engineering and Technology, Baramati\",Female,7.26E+09,CS/IT,2015,85.8,0,0,2018,83.13,2021,60.36,Vishal Kore,tpo@vpkbiet.org,8605254254']\n",
      "['Vishwa Akolkar,vishwa.akolkar.it.2017@vpkbiet.org,\"Vidya Pratishthan\\'s Kamalnayan Bajaj Institute of Engineering and Technology, Baramati\",Female,9.83E+09,CS/IT,2015,87,2017,63.08,0,0,2021,60.67,Vishal Kore,tpo@vpkbiet.org,8605254254']\n",
      "['Shubhangi Shinde,shubhangishinde291999@gmail.com,\"Vidya Pratishthan\\'s Kamalnayan Bajaj Institute of Engineering and Technology, Baramati\",Female,8.81E+09,CS/IT,2015,79.8,0,0,2018,86.94,2021,68.09,Vishal Kore,tpo@vpkbiet.org,8605254254']\n",
      "['Akshata Chaudhari,akshatachaudhari5699@gmail.com,\"Vidya Pratishthan\\'s Kamalnayan Bajaj Institute of Engineering and Technology, Baramati\",Female,8.81E+09,CS/IT,2015,89,2017,79,0,0,2021,71.63,Vishal Kore,tpo@vpkbiet.org,8605254254']\n",
      "['Namrata Gapat,namratagapat20@gmail.com,\"Vidya Pratishthan\\'s Kamalnayan Bajaj Institute of Engineering and Technology, Baramati\",Female,9.92E+09,CS/IT,2015,92.6,2017,74.31,0,0,2021,72.8,Vishal Kore,tpo@vpkbiet.org,8605254254']\n",
      "['PRASHANT MALUSARE,prashant.malusare.comp.2017@vpkbiet.org,\"Vidya Pratishthan\\'s Kamalnayan Bajaj Institute of Engineering and Technology, Baramati\",Male,8.81E+09,CS/IT,2015,81.8,2017,75.23,0,0,2021,71,Vishal Kore,tpo@vpkbiet.org,8605254254']\n",
      "['Amit Verma,amitpth028@gmail.com,\"Vidya Pratishthan\\'s Kamalnayan Bajaj Institute of Engineering and Technology, Baramati\",Male,9.15E+09,CS/IT,2015,87,2017,74,0,0,2021,60,Vishal Kore,tpo@vpkbiet.org,8605254254']\n",
      "['Abhishek Kulkarni,kulkarniabhi004@gmail.com,\"Vidya Pratishthan\\'s Kamalnayan Bajaj Institute of Engineering and Technology, Baramati\",Male,8.81E+09,CS/IT,2015,87,2017,68,0,0,2021,68,Vishal Kore,tpo@vpkbiet.org,8605254254']\n",
      "['Bhakti Dunakhe,bhakti.dunakhe.it.2017@vpkbiet.org,\"Vidya Pratishthan\\'s Kamalnayan Bajaj Institute of Engineering and Technology, Baramati\",Female,7.56E+09,CS/IT,2015,91.45,2017,74,0,0,2021,68.9,Vishal Kore,tpo@vpkbiet.org,8605254254']\n",
      "['Pradnya Katkar,katkarpradnya98@gmail.com,\"Vidya Pratishthan\\'s Kamalnayan Bajaj Institute of Engineering and Technology, Baramati\",Female,8.70E+09,CS/IT,2014,90.2,0,0,2018,81.59,2021,58.96,Vishal Kore,tpo@vpkbiet.org,8605254254']\n",
      "['Sourabh Vadje,sourabhvadje999@gmail.com,\"Vidya Pratishthan\\'s Kamalnayan Bajaj Institute of Engineering and Technology, Baramati\",Male,8.18E+09,CS/IT,2015,83.2,2017,62.4,0,0,2021,63.03,Vishal Kore,tpo@vpkbiet.org,8605254254']\n",
      "['SWARANJALI ADSUL,swaranjaliadsul@gmail.com,\"Vidya Pratishthan\\'s Kamalnayan Bajaj Institute of Engineering and Technology, Baramati\",Female,9.69E+09,CS/IT,2015,95.56,2017,78.26,0,0,2021,75.07,Vishal Kore,tpo@vpkbiet.org,8605254254']\n",
      "['Gaurav Jagtap,gauravjagtap034@gmail.com,\"Vidya Pratishthan\\'s Kamalnayan Bajaj Institute of Engineering and Technology, Baramati\",Male,8.89E+09,CS/IT,2015,91,2017,81.34,0,0,2021,69.89,Vishal Kore,tpo@vpkbiet.org,8605254254']\n",
      "['Sanket Morgaonkar,sanketmorgaonkar444@gmail.com,\"Vidya Pratishthan\\'s Kamalnayan Bajaj Institute of Engineering and Technology, Baramati\",Male,9.85E+09,CS/IT,2015,90.2,2017,72.64,0,0,2021,64,Vishal Kore,tpo@vpkbiet.org,8605254254']\n",
      "['Sonali Kolape,sonalikolape0123@gmail.com,\"Vidya Pratishthan\\'s Kamalnayan Bajaj Institute of Engineering and Technology, Baramati\",Female,7.51E+09,CS/IT,2015,85.8,0,0,2018,76,2021,59,Vishal Kore,tpo@vpkbiet.org,8605254254']\n",
      "['Anuradha Shelar,anuradha.shelar.it.2017@vpkbiet.org,\"Vidya Pratishthan\\'s Kamalnayan Bajaj Institute of Engineering and Technology, Baramati\",Female,9.28E+09,CS/IT,2015,90.6,2017,78.23,0,0,2021,60,Vishal Kore,tpo@vpkbiet.org,8605254254']\n",
      "['Shivpriya Yadav,shivpriya.yadav.entc.2017@vpkbiet.org,\"Vidya Pratishthan\\'s Kamalnayan Bajaj Institute of Engineering and Technology, Baramati\",Female,7.38E+09,EnTC,2015,92.8,2017,83.69,0,0,2021,66,Vishal Kore,tpo@vpkbiet.org,8605254254']\n",
      "['Mayur Shinde,mayurshinde13899@gmail.com,\"Vidya Pratishthan\\'s Kamalnayan Bajaj Institute of Engineering and Technology, Baramati\",Male,9.15E+09,EnTC,2015,88,2017,70.46,0,0,2021,58.96,Vishal Kore,tpo@vpkbiet.org,8605254254']\n",
      "['Nikita Nawale,nikitanawale4@gmail.com,\"Vidya Pratishthan\\'s Kamalnayan Bajaj Institute of Engineering and Technology, Baramati\",Female,9.08E+09,EnTC,2015,84.8,2017,67.38,0,0,2021,59.75,Vishal Kore,tpo@vpkbiet.org,8605254254']\n",
      "['Komal Dhaygude,komal.dhaygude.entc.2018@vpkbiet.org,\"Vidya Pratishthan\\'s Kamalnayan Bajaj Institute of Engineering and Technology, Baramati\",Female,9.51E+09,EnTC,2015,81.2,0,0,2018,75.43,2021,60,Vishal Kore,tpo@vpkbiet.org,8605254254']\n",
      "['Swanand Khaladkar,khaladkarswanand@gmail.com,\"Vidya Pratishthan\\'s Kamalnayan Bajaj Institute of Engineering and Technology, Baramati\",Male,9.42E+09,EnTC,2015,86.6,2017,71.3,0,0,2021,63.6,Vishal Kore,tpo@vpkbiet.org,8605254254']\n",
      "['Shivanjali Bhosale,shivanjalibhosale185@gmail.com,\"Vidya Pratishthan\\'s Kamalnayan Bajaj Institute of Engineering and Technology, Baramati\",Female,9.50E+09,EnTC,2015,82.21,0,0,2018,83.68,2020,61.22,Vishal Kore,tpo@vpkbiet.org,8605254254']\n",
      "['Pradnya Lokhande,pradnya.lokhande.entc.2018@vpkbiet.org,\"Vidya Pratishthan\\'s Kamalnayan Bajaj Institute of Engineering and Technology, Baramati\",Female,9.83E+09,EnTC,2015,73.6,0,0,2018,84.65,2021,64.28,Vishal Kore,tpo@vpkbiet.org,8605254254']\n",
      "['Shivani Khilari,shivani.khilari.entc.2017@vpkbiet.org,\"Vidya Pratishthan\\'s Kamalnayan Bajaj Institute of Engineering and Technology, Baramati\",Female,9.76E+09,EnTC,2015,91.2,2017,68.39,0,0,2021,70,Vishal Kore,tpo@vpkbiet.org,8605254254']\n",
      "['Shubham Nale,naleshubham@gmail.com,\"Vidya Pratishthan\\'s Kamalnayan Bajaj Institute of Engineering and Technology, Baramati\",Male,9.88E+09,EnTC,2014,83.4,2016,66.46,0,0,2021,64.22,Vishal Kore,tpo@vpkbiet.org,8605254254']\n",
      "['AKSHADA BHOITE,akshada.bhoite.entc.2019@vokbiet.org,\"Vidya Pratishthan\\'s Kamalnayan Bajaj Institute of Engineering and Technology, Baramati\",Female,9.64E+09,EnTC,2014,88.4,2016,62.62,2018,78,2021,57.52,Vishal Kore,tpo@vpkbiet.org,8605254254']\n",
      "['Vishal Jadhav,vmjadhav152@gmail.com,\"Vidya Pratishthan\\'s Kamalnayan Bajaj Institute of Engineering and Technology, Baramati\",Male,8.81E+09,EnTC,2014,83.8,2016,76,0,0,2021,66.79,Vishal Kore,tpo@vpkbiet.org,8605254254']\n",
      "['Poonam Jadhav,poonamjadhav22111999@gmail.com,\"Vidya Pratishthan\\'s Kamalnayan Bajaj Institute of Engineering and Technology, Baramati\",Female,7.75E+09,EnTC,2015,95.2,2017,83.85,0,0,2021,75.97,Vishal Kore,tpo@vpkbiet.org,8605254254']\n",
      "['Mauli Shinde,mvshinde21@gmail.com,\"Vidya Pratishthan\\'s Kamalnayan Bajaj Institute of Engineering and Technology, Baramati\",Male,8.79E+09,EnTC,2015,82.4,2017,68.4,0,0,2021,61,Vishal Kore,tpo@vpkbiet.org,8605254254']\n",
      "['Swapnil Jadhav,swapnil.jadhav.entc.2017@vpkbiet.org,\"Vidya Pratishthan\\'s Kamalnayan Bajaj Institute of Engineering and Technology, Baramati\",Male,8.33E+09,EnTC,2015,88.2,2017,75.85,0,0,2021,73.56,Vishal Kore,tpo@vpkbiet.org,8605254254']\n",
      "['Prachi Kulkarni,prachi.kulkarni.entc.2017@vpkbiet.org,\"Vidya Pratishthan\\'s Kamalnayan Bajaj Institute of Engineering and Technology, Baramati\",Female,9.83E+09,EnTC,2015,89.99,2017,72,0,0,2021,61.76,Vishal Kore,tpo@vpkbiet.org,8605254254']\n",
      "['Nikita Khapale,nikita.khapale.entc.2018@vpkbiet.org,\"Vidya Pratishthan\\'s Kamalnayan Bajaj Institute of Engineering and Technology, Baramati\",Female,7.62E+09,EnTC,2013,71,0,0,2018,85.84,2021,64,Vishal Kore,tpo@vpkbiet.org,8605254254']\n",
      "['Shubham Nandkhile,shubhamnandkhile7@gmail.com,\"Vidya Pratishthan\\'s Kamalnayan Bajaj Institute of Engineering and Technology, Baramati\",Male,9.42E+09,EnTC,2015,90.8,2017,70.15,0,0,2021,65.74,Vishal Kore,tpo@vpkbiet.org,8605254254']\n",
      "['Suyash Powar,suyashpowar393@gmail.com,\"Vidya Pratishthan\\'s Kamalnayan Bajaj Institute of Engineering and Technology, Baramati\",Male,9.56E+09,EnTC,2015,73,2017,60,0,0,2021,60.72,Vishal Kore,tpo@vpkbiet.org,8605254254']\n",
      "['Shivani Divekar,shivanidivekar1@gmail.com,\"Vidya Pratishthan\\'s Kamalnayan Bajaj Institute of Engineering and Technology, Baramati\",Female,9.83E+09,EnTC,2015,93.4,2017,81.08,0,0,2021,70.22,Vishal Kore,tpo@vpkbiet.org,8605254254']\n",
      "['Pratidnya Harke,pratidnyaharke2@gmail.com,\"Vidya Pratishthan\\'s Kamalnayan Bajaj Institute of Engineering and Technology, Baramati\",Female,7.39E+09,EnTC,2015,83.4,0,0,2018,79.35,2021,64.24,Vishal Kore,tpo@vpkbiet.org,8605254254']\n",
      "['Divya Jawale,divya.jawale.comp.2018@vpkbiet.org,\"Vidya Pratishthan\\'s Kamalnayan Bajaj Institute of Engineering and Technology, Baramati\",Female,9.67E+09,EnTC,2015,72.6,0,0,2018,68,2021,58.33,Vishal Kore,tpo@vpkbiet.org,8605254254']\n",
      "['Shruti Dagade,sdagade10@gmail.com,\"Vidya Pratishthan\\'s Kamalnayan Bajaj Institute of Engineering and Technology, Baramati\",Female,9.28E+09,EnTC,2015,90.8,2017,76.15,0,0,2021,77.48,Vishal Kore,tpo@vpkbiet.org,8605254254']\n",
      "['ANKITA JAGTAP,ankitajagtap3344@gmail.com,\"Vidya Pratishthan\\'s Kamalnayan Bajaj Institute of Engineering and Technology, Baramati\",Female,9.88E+09,EnTC,2015,87.4,2017,66.62,0,0,2021,66.62,Vishal Kore,tpo@vpkbiet.org,8605254254']\n",
      "['Mayuri Gurav,mayurigurav2179@gmail.com,\"Vidya Pratishthan\\'s Kamalnayan Bajaj Institute of Engineering and Technology, Baramati\",Female,7.52E+09,EnTC,2015,81.2,0,0,2018,75.18,2021,59,Vishal Kore,tpo@vpkbiet.org,8605254254']\n",
      "['Swati Awale,swatiawale1999@gmail.com,\"Vidya Pratishthan\\'s Kamalnayan Bajaj Institute of Engineering and Technology, Baramati\",Female,7.06E+09,EnTC,2015,79.8,0,0,2018,82.06,2021,70.22,Vishal Kore,tpo@vpkbiet.org,8605254254']\n",
      "['Divya Sree,psdivyasree143@gmail.com,\"Geethanjali College of Engineering and Technology, Hyderabad\",Female,8.01E+09,CS/IT,2015,87,2017,94.6,0,0,2021,83.57,Prashanth,prashanthgctc@gmail.com,9849961322']\n",
      "['Sarabudla VidyaReddy,vidyareddy2662@gmail.com,\"Geethanjali College of Engineering and Technology, Hyderabad\",Female,9.12E+09,CS/IT,2015,93,2017,97,0,0,2021,88,Abhilash,gcet2005placements@gmail.com,9391312121']\n",
      "['SATYAGAAYATHRI BRAHMANAPALLY,sat3vi@gmail.com,\"Geethanjali College of Engineering and Technology, Hyderabad\",Female,7.78E+09,CS/IT,2015,93,2017,97.2,0,0,2021,84.6,Abhilash,gcet2005placements@gmail.com,9391312121']\n",
      "['Saketh Ram,saketh.tipparthi@gmail.com,\"Geethanjali College of Engineering and Technology, Hyderabad\",Male,9.97E+09,CS/IT,2015,64,2017,75.5,0,0,2021,69,Abhilash,gcet2005placements@gmail.com,9391312121']\n",
      "['Bharadwaj Varma,bharadwajvarma1999@gmail.com,\"Geethanjali College of Engineering and Technology, Hyderabad\",Male,8.80E+09,CS/IT,2015,92.1,2017,92.8,0,0,2021,85.7,Abhilash,gcet2005placements@gmail.com,9391312121']\n",
      "['Sivani Chekuri,shivanichekuri546@gmail.com,\"Geethanjali College of Engineering and Technology, Hyderabad\",Female,7.03E+09,CS/IT,2015,80,2017,69.9,0,0,2021,66.5,Abhilash,gcet2005placements@gmail.com,9391312121']\n",
      "['Saigopal Cheela,cheelasaigopal@gmail.com,\"Geethanjali College of Engineering and Technology, Hyderabad\",Male,9.11E+09,CS/IT,2015,97,2017,95.4,0,0,2021,82.9,Abhilash,gcet2005placements@gmail.com,9391312121']\n",
      "['Sindhu Hanumanthu,sindhuhanumanthu16@gmail.com,\"Geethanjali College of Engineering and Technology, Hyderabad\",Female,9.10E+09,CS/IT,2015,98,2017,90.2,0,0,2021,89.2,Abhilash,gcet2005placements@gmail.com,9391312121']\n",
      "['Girish Allam,girish10rockz@gmail.com,\"Geethanjali College of Engineering and Technology, Hyderabad\",Male,8.47E+09,CS/IT,2015,93.1,2017,95,0,0,2021,88.16,Abhilash,gcet2005placements@gmail.com,9391312121']\n",
      "['Yamsani Rachna,rachnamili@gmail.com,\"Geethanjali College of Engineering and Technology, Hyderabad\",Female,7.70E+09,CS/IT,2015,88,2017,98,0,0,2021,86.09,Abhilash,gcet2005placements@gmail.com,9391312121']\n",
      "['Cheemakurthi LakshmiKavya,kavyali1107@gmail.com,\"Geethanjali College of Engineering and Technology, Hyderabad\",Female,7.67E+09,CS/IT,2015,95,2017,93.3,0,0,2021,83.03,Abhilash,gcet2005placements@gmail.com,9391312121']\n",
      "['Gayathri Chitumadugula,ch.gayathri234@gmail.com,\"Geethanjali College of Engineering and Technology, Hyderabad\",Female,9.18E+09,CS/IT,2015,97,2017,95.7,0,0,2021,81.13,Abhilash,gcet2005placements@gmail.com,9391312121']\n",
      "['Pranathi Kola,pranathikola2016@gmail.com,\"Geethanjali College of Engineering and Technology, Hyderabad\",Female,8.00E+09,CS/IT,2015,98,2017,94,0,0,2021,81.51,Abhilash,gcet2005placements@gmail.com,9391312121']\n",
      "['KANDIKONDA VEERAMANIKANTAN,kkmani5399@gmail.com,\"Geethanjali College of Engineering and Technology, Hyderabad\",Male,9.40E+09,CS/IT,2015,92,2017,97,0,0,2021,88.92,Abhilash,gcet2005placements@gmail.com,9391312121']\n",
      "['OMKAR RAYALA,omkar.rayala@gmail.com,\"Geethanjali College of Engineering and Technology, Hyderabad\",Male,9.49E+09,CS/IT,2014,90.25,2016,95.7,0,0,2021,75,Abhilash,gcet2005placements@gmail.com,9391312121']\n",
      "['Rohit NSS,nssrohit44@gmail.com,\"Geethanjali College of Engineering and Technology, Hyderabad\",Male,8.98E+09,CS/IT,2015,97,2017,95.7,0,0,2021,83.6,Abhilash,gcet2005placements@gmail.com,9391312121']\n",
      "['Vineeth Datta,k.v.datta.3091999@gmail.com,\"Geethanjali College of Engineering and Technology, Hyderabad\",Male,9.70E+09,CS/IT,2015,82.6,2017,86.5,0,0,2021,76.4,Abhilash,gcet2005placements@gmail.com,9391312121']\n",
      "['Sahithya Gade,sahithya.kirani@gmail.com,\"Geethanjali College of Engineering and Technology, Hyderabad\",Female,9.58E+09,CS/IT,2015,97,2017,93.8,0,0,2021,85.21,Abhilash,gcet2005placements@gmail.com,9391312121']\n",
      "['Sravyasri Sirikonda,srvsirikonda@gmail.com,\"Geethanjali College of Engineering and Technology, Hyderabad\",Female,6.30E+09,CS/IT,2015,90,2017,91,0,0,2021,77,Abhilash,gcet2005placements@gmail.com,9391312121']\n",
      "['Harsha Vardhan,harshavardhanrebba@gmail.com,\"Geethanjali College of Engineering and Technology, Hyderabad\",Male,8.64E+09,CS/IT,2015,88,2017,96,0,0,2021,78.09,Abhilash,gcet2005placements@gmail.com,9391312121']\n",
      "['Aniudh Chowdary,anirudhchowdary123@gmail.com,\"Geethanjali College of Engineering and Technology, Hyderabad\",Male,7.21E+09,CS/IT,2014,97,2016,90,0,0,2021,87,Abhilash,gcet2005placements@gmail.com,9391312121']\n",
      "['Kartheek Bayyapuneedi,muralikartheek23@gmail.com,\"Geethanjali College of Engineering and Technology, Hyderabad\",Male,8.18E+09,CS/IT,2015,85.5,2017,89.4,0,0,2021,80,Abhilash,gcet2005placements@gmail.com,9391312121']\n",
      "['Vishnu Vardhan,vishnuvardhan9183@gmail.com,\"Geethanjali College of Engineering and Technology, Hyderabad\",Male,9.38E+09,CS/IT,2015,96,2017,96.1,0,0,2021,86.26,Abhilash,gcet2005placements@gmail.com,9391312121']\n",
      "['Abhinav Reddy,abhinav669901@gmail.com,\"Geethanjali College of Engineering and Technology, Hyderabad\",Male,8.69E+09,CS/IT,2015,88,2017,97,0,0,2021,76.7,Abhilash,gcet2005placements@gmail.com,9391312121']\n",
      "['Vainala Anooshma,anooshmavainala@gmail.com,\"Geethanjali College of Engineering and Technology, Hyderabad\",Female,9.68E+09,CS/IT,2015,93,2017,90.6,0,0,2021,77,Abhilash,gcet2005placements@gmail.com,9391312121']\n",
      "['Tarun Sowrikar,tarun.sowrikar@gmail.com,\"Geethanjali College of Engineering and Technology, Hyderabad\",Male,9.12E+09,CS/IT,2015,97,2017,97.5,0,0,2021,89.2,Abhilash,gcet2005placements@gmail.com,9391312121']\n",
      "['Sanjana Reddy,sanjana.singireddy@gmail.com,\"Geethanjali College of Engineering and Technology, Hyderabad\",Female,9.70E+09,CS/IT,2015,91,2017,86.7,0,0,2021,76.07,Abhilash,gcet2005placements@gmail.com,9391312121']\n",
      "['Ghais Rahman,ghaiss5@yahoo.com,\"Geethanjali College of Engineering and Technology, Hyderabad\",Male,8.14E+09,CS/IT,2015,78,2017,80.6,0,0,2021,62.1,Abhilash,gcet2005placements@gmail.com,9391312121']\n",
      "['LaxmiMeghana Bharthipudi,meghanabharthipudi14@gmail.com,\"Geethanjali College of Engineering and Technology, Hyderabad\",Female,8.25E+09,CS/IT,2015,78,2017,85,0,0,2021,78.3,Abhilash,gcet2005placements@gmail.com,9391312121']\n",
      "['Rohith Shetty,prohithshetty@gmail.com,\"St. Martin\\'s Engineering College, Hyderabad\",Male,7.10E+09,CS/IT,2015,88.35,2017,96.7,0,0,2021,71.63,P Sridevi,tpo.smec@gmail.com,9121345666 /9705133339']\n",
      "['ROHITH REDDY,rohith.kashireddy@gmail.com,\"St. Martin\\'s Engineering College, Hyderabad\",Male,9.10E+09,CS/IT,2015,93,2017,97.4,0,0,2021,76.47,P Sridevi,tpo.smec@gmail.com,9121345666 /9705133339']\n",
      "['Ashwitha Talakokkula,ashwithatalakokkula@gmail.com,\"St. Martin\\'s Engineering College, Hyderabad\",Female,8.90E+09,CS/IT,2015,80.75,2017,94,0,0,2021,70,P Sridevi,tpo.smec@gmail.com,9121345666 /9705133339']\n",
      "['Amith Krishna,amithkrish555@gmail.com,\"St. Martin\\'s Engineering College, Hyderabad\",Male,7.21E+09,CS/IT,2015,85,2017,95.4,0,0,2021,68.6,P Sridevi,tpo.smec@gmail.com,9121345666 /9705133339']\n",
      "['Vemula Bhoomika,bhoomikavemula@gmail.com,\"St. Martin\\'s Engineering College, Hyderabad\",Female,6.30E+09,CS/IT,2015,92,2017,94.4,0,0,2021,70,P Sridevi,tpo.smec@gmail.com,9121345666 /9705133339']\n",
      "['KOTHAPALLI SAISRIRAM,saisriramkothapalli007@gmail.com,\"St. Martin\\'s Engineering College, Hyderabad\",Male,7.98E+09,CS/IT,2015,85,2017,95.6,0,0,2021,71.82,P Sridevi,tpo.smec@gmail.com,9121345666 /9705133339']\n",
      "['Singam Maneesha,singam.maneesha232@gmail.com,\"St. Martin\\'s Engineering College, Hyderabad\",Female,9.62E+09,CS/IT,2015,92,2017,97.9,0,0,2021,72.77,P Sridevi,tpo.smec@gmail.com,9121345666 /9705133339']\n",
      "['Rohan Katkam,rohankatkam1698@gmail.com,\"St. Martin\\'s Engineering College, Hyderabad\",Male,9.62E+09,CS/IT,2015,66,0,0,2017,77,2021,65.8,P Sridevi,tpo.smec@gmail.com,9121345666 /9705133339']\n",
      "['Sripriya Sri,dandamrajusrirpiya07@gmail.com,\"St. Martin\\'s Engineering College, Hyderabad\",Female,8.25E+09,CS/IT,2015,98,2017,97,0,0,2021,73,P Sridevi,tpo.smec@gmail.com,9121345666 /9705133339']\n",
      "['Akanksha Garipelli,garipellivenkatlaxmi@gmail.com,\"St. Martin\\'s Engineering College, Hyderabad\",Female,6.28E+09,CS/IT,2015,93,2017,94.5,0,0,2021,72,P Sridevi,tpo.smec@gmail.com,9121345666 /9705133339']\n",
      "['LOHAN VADDEPALLY,lohanvaddepally777@gmail.com,\"St. Martin\\'s Engineering College, Hyderabad\",Male,7.99E+09,CS/IT,2015,94,2017,92.7,0,0,2021,61,P Sridevi,tpo.smec@gmail.com,9121345666 /9705133339']\n",
      "['Ponnala RajeshKumar,rajeshkumarponnala.1999@gmail.com,\"St. Martin\\'s Engineering College, Hyderabad\",Male,7.80E+09,CS/IT,2015,90,2017,92.3,0,0,2021,67.45,P Sridevi,tpo.smec@gmail.com,9121345666 /9705133339']\n",
      "['Akanksha Velanky,aakulu99@gmail.com,\"St. Martin\\'s Engineering College, Hyderabad\",Female,9.91E+09,CS/IT,2015,93,2017,93,0,0,2021,64.6,P Sridevi,tpo.smec@gmail.com,9121345666 /9705133339']\n",
      "['Akash Rawat,rawatakash678@gmail.com,\"St. Martin\\'s Engineering College, Hyderabad\",Male,7.78E+09,CS/IT,2015,81.7,2017,74.56,0,0,2021,70.1,P Sridevi,tpo.smec@gmail.com,9121345666 /9705133339']\n",
      "['ARVIND CHARY,arvind.chary1999@gmail.com,\"St. Martin\\'s Engineering College, Hyderabad\",Male,9.11E+09,CS/IT,2015,95,2017,94,0,0,2021,72,P Sridevi,tpo.smec@gmail.com,9121345666 /9705133339']\n",
      "['Terala Ramya,ramyaterala31@gmail.com,\"St. Martin\\'s Engineering College, Hyderabad\",Female,9.52E+09,CS/IT,2015,92,2017,95.7,0,0,2021,78.7,P Sridevi,tpo.smec@gmail.com,9121345666 /9705133339']\n",
      "['Raja Shekar,rajashekar04798@gmail.com,\"St. Martin\\'s Engineering College, Hyderabad\",Male,9.99E+09,CS/IT,2015,92.15,2017,92.9,0,0,2021,67.45,P Sridevi,tpo.smec@gmail.com,9121345666 /9705133339']\n",
      "['Sana Naaz,sana08naaz@gmail.com,\"St. Martin\\'s Engineering College, Hyderabad\",Female,6.30E+09,CS/IT,2015,92.15,2017,90,0,0,2021,60,P Sridevi,tpo.smec@gmail.com,9121345666 /9705133339']\n",
      "['Venkat Snehith,venkatsnehith@gmail.com,\"St. Martin\\'s Engineering College, Hyderabad\",Male,8.33E+09,CS/IT,2015,85,2017,78,0,0,2021,60.42,P Sridevi,tpo.smec@gmail.com,9121345666 /9705133339']\n",
      "['Medida Harshini,sriharshini0606@gmail.com,\"St. Martin\\'s Engineering College, Hyderabad\",Female,9.12E+09,CS/IT,2015,83,2017,90,0,0,2021,58.9,P Sridevi,tpo.smec@gmail.com,9121345666 /9705133339']\n",
      "['Sheela Dusa,sheeladusa9@gmail.com,\"St. Martin\\'s Engineering College, Hyderabad\",Female,6.30E+09,CS/IT,2015,88,2017,89.5,0,0,2021,68,P Sridevi,tpo.smec@gmail.com,9121345666 /9705133339']\n",
      "['Saba Sowmya,sowmyapatel1999@gmail.com,\"St. Martin\\'s Engineering College, Hyderabad\",Female,9.10E+09,CS/IT,2015,88.35,2017,96,0,0,2021,67.43,P Sridevi,tpo.smec@gmail.com,9121345666 /9705133339']\n",
      "['Vedha Kalyan,vedhakalyan20145@gmail.com,\"St. Martin\\'s Engineering College, Hyderabad\",Male,9.13E+09,CS/IT,2015,85.5,2017,92.1,0,0,2021,60,P Sridevi,tpo.smec@gmail.com,9121345666 /9705133339']\n",
      "['Rohan Raj,rohanraj6810@gmail.com,\"St. Martin\\'s Engineering College, Hyderabad\",Male,9.12E+09,CS/IT,2015,78.85,2017,90.6,0,0,2021,62.03,P Sridevi,tpo.smec@gmail.com,9121345666 /9705133339']\n",
      "['SINDHUJA R,ranipetsindhujareddy@gmail.com,\"St. Martin\\'s Engineering College, Hyderabad\",Female,8.10E+09,CS/IT,2015,68.4,2017,96,0,0,2021,69.35,P Sridevi,tpo.smec@gmail.com,9121345666 /9705133339']\n",
      "['Venkannagari Athiksha,athiksha08@gmail.com,\"St. Martin\\'s Engineering College, Hyderabad\",Female,9.60E+09,CS/IT,2015,87,2017,95.1,0,0,2021,71,P Sridevi,tpo.smec@gmail.com,9121345666 /9705133339']\n",
      "['Mohith Bundey,mohithbundey@gmail.com,\"St. Martin\\'s Engineering College, Hyderabad\",Male,8.37E+09,CS/IT,2014,85,2017,84.6,0,0,2021,59.85,P Sridevi,tpo.smec@gmail.com,9121345666 /9705133339']\n",
      "['Odnam Chakradhar,chakra0500@gmail.com,\"St. Martin\\'s Engineering College, Hyderabad\",Male,9.95E+09,CS/IT,2015,75,2017,70,0,0,2021,60,P Sridevi,tpo.smec@gmail.com,9121345666 /9705133339']\n",
      "['SHIKAKOLLI SANDEEP,shikakollisandeep645@gmail.com,\"St. Martin\\'s Engineering College, Hyderabad\",Male,9.67E+09,CS/IT,2015,68,2017,84.3,0,0,2021,63.08,P Sridevi,tpo.smec@gmail.com,9121345666 /9705133339']\n",
      "['Rajeshwar Adarla,adarlanani01@gmail.com,\"St. Martin\\'s Engineering College, Hyderabad\",Male,8.37E+09,CS/IT,2015,83,2017,87,0,0,2021,69.72,P Sridevi,tpo.smec@gmail.com,9121345666 /9705133339']\n",
      "['NIKHIL REDDY,nikhilreddy0803@gmail.com,\"St. Martin\\'s Engineering College, Hyderabad\",Male,8.14E+09,CS/IT,2015,87.4,2017,97.5,0,0,2021,81.7,P Sridevi,tpo.smec@gmail.com,9121345666 /9705133339']\n",
      "['Abhishek Jena,abhishekjena93@gmail.com,\"St. Martin\\'s Engineering College, Hyderabad\",Male,8.18E+09,CS/IT,2014,87.4,2016,87.6,0,0,2021,66.56,P Sridevi,tpo.smec@gmail.com,9121345666 /9705133339']\n",
      "['J Pravalika,pravalikasri599@gmail.com,\"St. Martin\\'s Engineering College, Hyderabad\",Female,9.06E+09,CS/IT,2015,83,2017,96.5,0,0,2021,73,P Sridevi,tpo.smec@gmail.com,9121345666 /9705133339']\n",
      "['Jahnavi Reddy,mattajahnavireddy@gmail.com,\"St. Martin\\'s Engineering College, Hyderabad\",Female,9.91E+09,CS/IT,2015,88.35,2017,96.2,0,0,2021,67.5,P Sridevi,tpo.smec@gmail.com,9121345666 /9705133339']\n",
      "['LAVANYA PRODDUTURI,prodduturilavanya699@gmail.com,\"St. Martin\\'s Engineering College, Hyderabad\",Female,9.12E+09,CS/IT,2015,91,2017,95,0,0,2021,73.53,P Sridevi,tpo.smec@gmail.com,9121345666 /9705133339']\n",
      "['PALUTLA HARISH,palutlaharish555@gmail.com,\"CMR Engineering College (CMREC), Hyderabad\",Male,7.33E+09,CS/IT,2015,85,2017,95,0,0,2021,70,Himabindu,placements@cmrgroup.org,9704409222']\n",
      "['Deekshith Kumar,178r1a1203@gmail.com,\"CMR Engineering College (CMREC), Hyderabad\",Male,6.31E+09,CS/IT,2015,73,2017,85,0,0,2021,65,Himabindu,placements@cmrgroup.org,9704409222']\n",
      "['Sreekar Etekela,etekelasreekar@gmail.com,\"CMR Engineering College (CMREC), Hyderabad\",Male,7.70E+09,CS/IT,2015,80,2017,72,0,0,2021,78,Himabindu,placements@cmrgroup.org,9704409222']\n",
      "['Singireddy Nikithareddy,singireddynikitha38@gmail.com,\"CMR Engineering College (CMREC), Hyderabad\",Female,8.00E+09,CS/IT,2015,92,2017,93,0,0,2021,70,Himabindu,placements@cmrgroup.org,9704409222']\n",
      "['Tankasala Saiteja,tankasalateja@gmail.com,\"CMR Engineering College (CMREC), Hyderabad\",Male,7.03E+09,CS/IT,2015,89,2017,83,0,0,2021,65,Himabindu,placements@cmrgroup.org,9704409222']\n",
      "['ChinthaMahitha Reddy,mahithareddy7529@gmail.com,\"CMR Engineering College (CMREC), Hyderabad\",Female,8.00E+09,CS/IT,2015,90,2017,93,0,0,2021,65,Himabindu,placements@cmrgroup.org,9704409222']\n",
      "['Pegallapatinagasai Akhil,pnagasai11@gmail.com,\"CMR Engineering College (CMREC), Hyderabad\",Male,8.79E+09,CS/IT,2015,90,2017,89.8,0,0,2021,70,Himabindu,placements@cmrgroup.org,9704409222']\n",
      "['Biradhar Kavyareddy,kavyareddy96419@gmail.com,\"CMR Engineering College (CMREC), Hyderabad\",Female,8.31E+09,CS/IT,2015,72,2017,78,0,0,2021,65,Himabindu,placements@cmrgroup.org,9704409222']\n",
      "['Keesari Nithinkumar,keesarinithinkumar@gmail.com,\"CMR Engineering College (CMREC), Hyderabad\",Male,9.53E+09,CS/IT,2014,87,2016,70,0,0,2021,64.99,Himabindu,placements@cmrgroup.org,9704409222']\n",
      "['Keshav Jha,jhakeshav610@gmail.com,\"CMR Engineering College (CMREC), Hyderabad\",Male,8.52E+09,CS/IT,2014,97,2016,95,0,0,2021,70,Himabindu,placements@cmrgroup.org,9704409222']\n",
      "['MaheshRao Kokkirala,maheshrao2508@gmail.com,\"CMR Engineering College (CMREC), Hyderabad\",Male,9.70E+09,CS/IT,2015,81,2017,92,0,0,2021,65,Himabindu,placements@cmrgroup.org,9704409222']\n",
      "['Dhyuthi Sirigiri,dhyuthisirigiri99@gmail.com,\"CMR Engineering College (CMREC), Hyderabad\",Female,8.25E+09,CS/IT,2015,79.1,2017,67.26,0,0,2021,69.05,Himabindu,placements@cmrgroup.org,9704409222']\n",
      "['Monica Dantu,monicadantu@gmail.com,\"CMR Engineering College (CMREC), Hyderabad\",Female,9.85E+09,CS/IT,2015,90,2017,70,0,0,2021,60,Himabindu,placements@cmrgroup.org,9704409222']\n",
      "['VenkataSaiRaviTeja Pakanati,pvsrteja77@gmail.com,\"CMR Engineering College (CMREC), Hyderabad\",Male,9.49E+09,CS/IT,2015,83,2017,88,0,0,2021,70,Himabindu,placements@cmrgroup.org,9704409222']\n",
      "['Hemanth Kanneti,kanni0712@gmail.com,\"CMR Engineering College (CMREC), Hyderabad\",Male,9.40E+09,CS/IT,2015,90,2017,96,0,0,2021,77,Himabindu,placements@cmrgroup.org,9704409222']\n",
      "['Akaash Pandey,akashpandey4557@gmail.com,\"CMR College of Engineering and Technology (CMRCET), Hyderabad\",Male,8.00E+09,CS/IT,2014,70,2016,78,0,0,2021,65,Himabindu,placements@cmrgroup.org,9704409222']\n",
      "['SAIMANIKANTA MANGEENA,manikantamani5566@gmail.com,\"CMR College of Engineering and Technology (CMRCET), Hyderabad\",Male,7.09E+09,CS/IT,2015,90,2017,91,0,0,2021,78,Himabindu,placements@cmrgroup.org,9704409222']\n",
      "['Sagar Gangani,ganganisagar33@gmail.com,\"CMR College of Engineering and Technology (CMRCET), Hyderabad\",Male,8.46E+09,CS/IT,2015,79,2017,85,0,0,2021,81,Himabindu,placements@cmrgroup.org,9704409222']\n",
      "['Shivasai Yembari,shivasaiyembari@gmail.com,\"CMR College of Engineering and Technology (CMRCET), Hyderabad\",Male,7.80E+09,CS/IT,2015,95,2017,95,0,0,2021,75,Himabindu,placements@cmrgroup.org,9704409222']\n",
      "['Goparapu VamshiKrishna,vamshik661@gmail.com,\"CMR Institute of Technology (CMRIT), Hyderabad\",Male,9.85E+09,CS/IT,2015,90.25,2017,95.8,0,0,2021,80,Himabindu,placements@cmrgroup.org,9704409222']\n",
      "['Kalakonda Haripriya,kalakondaharipriya@gmail.com,\"CMR Institute of Technology (CMRIT), Hyderabad\",Female,9.95E+09,CS/IT,2015,87,2017,74.9,0,0,2021,70,Himabindu,placements@cmrgroup.org,9704409222']\n",
      "['MAKTHALA SAIARJUN,makthala.arjun@gmail.com,\"CMR Institute of Technology (CMRIT), Hyderabad\",Male,8.64E+09,CS/IT,2015,92.15,2017,93,0,0,2021,74.44,Himabindu,placements@cmrgroup.org,9704409222']\n",
      "['Koppulavenkat Suhashanreddy,laddu99899@gmail.com,\"CMR Institute of Technology (CMRIT), Hyderabad\",Male,9.99E+09,CS/IT,2015,90,2017,70,0,0,2021,65,Himabindu,placements@cmrgroup.org,9704409222']\n",
      "['APURVA VIKRAMA,apurvamaddikera@gmail.com,\"CMR Institute of Technology (CMRIT), Hyderabad\",Female,8.11E+09,CS/IT,2015,93,2017,80,0,0,2021,70,Himabindu,placements@cmrgroup.org,9704409222']\n",
      "['Sai Sriram,saisriram17@gmail.com,\"CMR Institute of Technology (CMRIT), Hyderabad\",Male,7.42E+09,CS/IT,2015,77,2017,60,0,0,2021,60,Himabindu,placements@cmrgroup.org,9704409222']\n",
      "['Devidas Jadhav,jadhavdevidas777@gmail.com,\"CMR Institute of Technology (CMRIT), Hyderabad\",Male,8.01E+09,CS/IT,2015,74.1,2017,92.6,0,0,2021,72.4,Himabindu,placements@cmrgroup.org,9704409222']\n",
      "['Revanth Goud,revanthgoud315@gmail.com,\"CMR Institute of Technology (CMRIT), Hyderabad\",Male,9.96E+09,CS/IT,2015,83.6,2017,95.3,0,0,2021,68.4,Himabindu,placements@cmrgroup.org,9704409222']\n",
      "['Bollam Pranay,pranaybollam.99@gmail.com,\"CMR Institute of Technology (CMRIT), Hyderabad\",Male,8.98E+09,CS/IT,2015,82,2017,84,0,0,2021,71,Himabindu,placements@cmrgroup.org,9704409222']\n",
      "['THIPPARAPU NAGARAJU,17r01a05h0@gmail.com,\"CMR Institute of Technology (CMRIT), Hyderabad\",Male,9.70E+09,CS/IT,2015,88.35,2017,88.4,0,0,2021,74.9,Himabindu,placements@cmrgroup.org,9704409222']\n",
      "['Kandukuri Aravind,kandukuriaravind99@gmail.com,\"CMR Institute of Technology (CMRIT), Hyderabad\",Male,9.68E+09,CS/IT,2015,80,2017,88.1,0,0,2021,70,Himabindu,placements@cmrgroup.org,9704409222']\n",
      "['Varun Kalyan,vkgot95@gmail.com,\"CMR Institute of Technology (CMRIT), Hyderabad\",Male,9.49E+09,CS/IT,2015,85.5,2017,74,0,0,2021,63,Himabindu,placements@cmrgroup.org,9704409222']\n",
      "['RAKESH DEVARAKONDA,rakeshr402@gmail.com,\"CMR Institute of Technology (CMRIT), Hyderabad\",Male,8.71E+09,CS/IT,2015,82.6,2017,92.4,0,0,2021,76,Himabindu,placements@cmrgroup.org,9704409222']\n",
      "['Harshanand Halwale,halwaleharshanand@gmail.com,\"CMR Institute of Technology (CMRIT), Hyderabad\",Male,9.64E+09,CS/IT,2015,90,2017,88,0,0,2021,64,Himabindu,placements@cmrgroup.org,9704409222']\n",
      "['Sampath Reddy,ksreddy1602@gmail.com,\"CMR Institute of Technology (CMRIT), Hyderabad\",Male,8.01E+09,CS/IT,2015,75,0,0,2018,78,2021,66,Himabindu,placements@cmrgroup.org,9704409222']\n",
      "['Vara Prasad,nvaraprasad234@gmail.com,\"CMR Institute of Technology (CMRIT), Hyderabad\",Male,9.49E+09,CS/IT,2015,92.15,2017,96.2,0,0,2021,78,Himabindu,placements@cmrgroup.org,9704409222']\n",
      "['ANNAM AKSHITHA,annamakshitha2@gmail.com,\"CMR Institute of Technology (CMRIT), Hyderabad\",Female,9.10E+09,CS/IT,2015,93,2017,93,0,0,2021,76,Himabindu,placements@cmrgroup.org,9704409222']\n",
      "['Sai Pratham,prathamsai071@gmail.com,\"CMR Institute of Technology (CMRIT), Hyderabad\",Male,8.79E+09,CS/IT,2015,93,2017,92.3,0,0,2021,81,Himabindu,placements@cmrgroup.org,9704409222']\n",
      "['Saishakrithika Culli,saishaculli@gmail.com,\"CMR Technical Campus (CMRTC), Hyderabad\",Female,8.64E+09,CS/IT,2015,93.1,2017,91.9,0,0,2021,70,Himabindu,placements@cmrgroup.org,9704409222']\n",
      "['SAIKRISHNA MANNEPALLI,177r1a05f9@gmail.com,\"CMR Technical Campus (CMRTC), Hyderabad\",Male,9.01E+09,CS/IT,2015,85,2017,82.1,0,0,2021,65,Himabindu,placements@cmrgroup.org,9704409222']\n",
      "['VARANGANTI SHIVAKUMAR,177r1a05h2@gmail.com,\"CMR Technical Campus (CMRTC), Hyderabad\",Male,8.19E+09,CS/IT,2015,87,2017,94,0,0,2021,70,Himabindu,placements@cmrgroup.org,9704409222']\n",
      "['C Sairam,sairam170505@gmail.com,\"CMR Technical Campus (CMRTC), Hyderabad\",Male,9.12E+09,CS/IT,2015,90,2017,95,0,0,2021,70,Himabindu,placements@cmrgroup.org,9704409222']\n",
      "['Pramod Reddy,pramodreddy170515@gmail.com,\"CMR Technical Campus (CMRTC), Hyderabad\",Male,9.39E+09,CS/IT,2015,95,2017,72,0,0,2021,70,Himabindu,placements@cmrgroup.org,9704409222']\n",
      "['Anshika Nill,vermaanshika599@gmail.com,\"CMR Technical Campus (CMRTC), Hyderabad\",Female,8.33E+09,CS/IT,2015,90,2017,70.04,0,0,2021,70,Himabindu,placements@cmrgroup.org,9704409222']\n",
      "['Ashish Dalal,ashish1705d2@gmail.com,\"CMR Technical Campus (CMRTC), Hyderabad\",Male,9.68E+09,CS/IT,2015,72,2017,75,0,0,2021,69,Himabindu,placements@cmrgroup.org,9704409222']\n",
      "['Sneha Chilla,177r1a0569@gmail.com,\"CMR Technical Campus (CMRTC), Hyderabad\",Female,8.79E+09,CS/IT,2015,96,2017,67,0,0,2021,65,Himabindu,placements@cmrgroup.org,9704409222']\n",
      "['Bhavana Goud,bhavanagoudr@gmail.com,\"CMR Technical Campus (CMRTC), Hyderabad\",Female,9.85E+09,CS/IT,2015,92,2017,96,0,0,2021,73.5,Himabindu,placements@cmrgroup.org,9704409222']\n",
      "['Prathik Reddy,prathikreddyc11@gmail.com,\"CMR Technical Campus (CMRTC), Hyderabad\",Male,9.87E+09,CS/IT,2015,85,2017,89,0,0,2021,70,Himabindu,placements@cmrgroup.org,9704409222']\n",
      "['Anirudh Ankem,anirudh171201@gmail.com,\"CMR Technical Campus (CMRTC), Hyderabad\",Male,9.99E+09,CS/IT,2015,87.4,2017,84,0,0,2021,67,Himabindu,placements@cmrgroup.org,9704409222']\n",
      "['Razzak Abdul,abdulrazzak17o5g7@gmail.com,\"CMR Technical Campus (CMRTC), Hyderabad\",Male,7.84E+09,CS/IT,2015,75,2017,92,0,0,2021,61,Himabindu,placements@cmrgroup.org,9704409222']\n",
      "['Gampala Ramlikhith,ramlikhithgampala@gmail.com,\"CMR Technical Campus (CMRTC), Hyderabad\",Male,9.01E+09,CS/IT,2015,90,2017,84,0,0,2021,68,Himabindu,placements@cmrgroup.org,9704409222']\n",
      "['Vantari Akhila,177r1a05c0@gmail.com,\"CMR Technical Campus (CMRTC), Hyderabad\",Female,8.37E+09,CS/IT,2015,82,2017,71.5,0,0,2021,60,Himabindu,placements@cmrgroup.org,9704409222']\n",
      "['Shivani Gutti,shivani171210@gmail.com,\"CMR Technical Campus (CMRTC), Hyderabad\",Female,9.68E+09,CS/IT,2015,92,2017,94,0,0,2021,64,Himabindu,placements@cmrgroup.org,9704409222']\n",
      "['GODALA SAIKIRAN,177r1a05e2@gmail.com,\"CMR Technical Campus (CMRTC), Hyderabad\",Male,9.71E+09,CS/IT,2015,92,2017,96,0,0,2021,81,Himabindu,placements@cmrgroup.org,9704409222']\n",
      "['BODDUPALLY PRANEETH,rockpraneeth1999@gmail.com,\"CMR College of Engineering and Technology (CMRCET), Hyderabad\",Male,7.03E+09,CS/IT,2015,83,2017,81.8,0,0,2021,60,Himabindu,placements@cmrgroup.org,9704409222']\n",
      "['Porika Dhanrajnath,porikadhanrajnath@gmail.com,\"CMR College of Engineering and Technology (CMRCET), Hyderabad\",Male,7.99E+09,CS/IT,2015,87.03,2017,89.77,0,0,2021,83.3,Himabindu,placements@cmrgroup.org,9704409222']\n",
      "['Shazia Sultana,shazi.smart09@gmail.com,\"CMR Institute of Technology (CMRIT), Hyderabad\",Female,9.55E+09,CS/IT,2015,90.25,2017,84.4,0,0,2021,63.5,Himabindu,placements@cmrgroup.org,9704409222']\n",
      "['Vamsi Munjuluri,nagavamsi694@gmail.com,\"CMR Institute of Technology (CMRIT), Hyderabad\",Male,8.89E+09,CS/IT,2015,87.5,2017,79,0,0,2021,73,Himabindu,placements@cmrgroup.org,9704409222']\n",
      "['Vallakati Kalyan,kalyansam224@gmail.com,\"CMR Institute of Technology (CMRIT), Hyderabad\",Male,9.00E+09,CS/IT,2015,88,2017,88.8,0,0,2021,74,Himabindu,placements@cmrgroup.org,9704409222']\n",
      "['Aravakantha Harikrishna,krishnahari195@gmail.com,\"CMR Institute of Technology (CMRIT), Hyderabad\",Male,9.55E+09,CS/IT,2015,80,2017,95.4,0,0,2021,75,Himabindu,placements@cmrgroup.org,9704409222']\n",
      "['Yashwanth Kumar,yashwanth.415@gmail.com,\"CMR Institute of Technology (CMRIT), Hyderabad\",Male,7.80E+09,CS/IT,2015,78,2017,61,0,0,2021,64,Himabindu,placements@cmrgroup.org,9704409222']\n",
      "['Likitha Jupally,jupallylikitha99999@gmail.com,\"CMR Institute of Technology (CMRIT), Hyderabad\",Female,9.50E+09,CS/IT,2015,85,2017,80,0,0,2021,70,Himabindu,placements@cmrgroup.org,9704409222']\n",
      "['KADECHURI VISHALADIVYA,vishaladivya7@gmail.com,\"CMR Institute of Technology (CMRIT), Hyderabad\",Female,9.44E+09,CS/IT,2015,90.25,0,0,2018,88.76,2021,80.6,Himabindu,placements@cmrgroup.org,9704409222']\n",
      "['Rajeshwari Ravikumar,rlily792@gmail.com,\"CMR Technical Campus (CMRTC), Hyderabad\",Female,8.79E+09,CS/IT,2015,74,2017,81,0,0,2021,65,Himabindu,placements@cmrgroup.org,9704409222']\n",
      "['Sumanth Kothamasu,sumanthkothamasu@gmail.com,\"CMR Technical Campus (CMRTC), Hyderabad\",Male,9.70E+09,CS/IT,2015,95,2017,96,0,0,2021,75,Himabindu,placements@cmrgroup.org,9704409222']\n",
      "['Suraj Jadhav,suraj.business0704@gmail.com,\"JSPM\\'s Rajarshi Shahu College of Engineering Tathawade, Pune\",Male,8.98E+09,EnTC,2015,93.6,2017,70.15,,,2021,68.12,Radhika Modi,modi.tpo@gmail.com,7755933085']\n",
      "['Vijaykumar Mahajan,vijaykumar316591@gmail.com,\"JSPM\\'s Rajarshi Shahu College of Engineering Tathawade, Pune\",Male,9.97E+09,EnTC,2015,88.8,2017,76.31,,,2021,78.14,Radhika Modi,modi.tpo@gmail.com,7755933085']\n",
      "['Ankita Jagtap,ankita.jagtap136@gmail.com,\"JSPM\\'s Rajarshi Shahu College of Engineering Tathawade, Pune\",Female,9.37E+09,EnTC,2015,90,2017,71,,,2021,67.76,Radhika Modi,modi.tpo@gmail.com,7755933085']\n",
      "['Shubhangi Joshi,shubhangijoshi510@gmail.com,\"JSPM\\'s Rajarshi Shahu College of Engineering Tathawade, Pune\",Female,7.74E+09,EnTC,2015,95,2017,67.38,,,2021,69.8,Radhika Modi,modi.tpo@gmail.com,7755933085']\n",
      "['Vaishnavi Jadhav,vaishnavijadhav67@gmail.com,\"JSPM\\'s Rajarshi Shahu College of Engineering Tathawade, Pune\",Female,9.02E+09,EnTC,2015,87.4,2017,66.67,,,2021,60.47,Radhika Modi,modi.tpo@gmail.com,7755933085']\n",
      "['Anjali Chavan,anjalichavan7799@gmail.com,\"JSPM\\'s Rajarshi Shahu College of Engineering Tathawade, Pune\",Female,7.06E+09,EnTC,2015,84.2,2017,66.46,,,2021,75.41,Radhika Modi,modi.tpo@gmail.com,7755933085']\n",
      "['Shubham Selukar,shubh98.ss@gmail.com,\"JSPM\\'s Rajarshi Shahu College of Engineering Tathawade, Pune\",Male,7.28E+09,EnTC,2015,89.7,,,2018,74.67,2021,67.68,Radhika Modi,modi.tpo@gmail.com,7755933085']\n",
      "['Yuga Ugle,ugleyuga@gmail.com,\"JSPM\\'s Rajarshi Shahu College of Engineering Tathawade, Pune\",Female,9.83E+09,EnTC,2015,78,2017,67.69,,,2021,66.4,Radhika Modi,modi.tpo@gmail.com,7755933085']\n",
      "['Nilesh Kulkarni,nileshkulkarni52839@gmail.com,\"JSPM\\'s Rajarshi Shahu College of Engineering Tathawade, Pune\",Male,9.50E+09,EnTC,2015,95,2017,70.15,,,2021,70.66,Radhika Modi,modi.tpo@gmail.com,7755933085']\n",
      "['Shraddha Mundlik,shraddhamundlik1999@gmail.com,\"JSPM\\'s Rajarshi Shahu College of Engineering Tathawade, Pune\",Female,8.31E+09,EnTC,2015,85.4,,,2018,77.04,2021,73.04,Radhika Modi,modi.tpo@gmail.com,7755933085']\n",
      "['Samruddhi Mahale,mahalesamruddhi7@gmail.com,\"JSPM\\'s Rajarshi Shahu College of Engineering Tathawade, Pune\",Female,9.28E+09,EnTC,2015,85,2017,60,,,2021,60.72,Radhika Modi,modi.tpo@gmail.com,7755933085']\n",
      "['Aditi Patil,aditipatil4500@gmail.com,\"JSPM\\'s Rajarshi Shahu College of Engineering Tathawade, Pune\",Female,9.83E+09,EnTC,2015,88.2,2017,90.9,,,2021,65.11,Radhika Modi,modi.tpo@gmail.com,7755933085']\n",
      "['ROHIT BADE,rohitbade24@gmail.com,\"JSPM\\'s Rajarshi Shahu College of Engineering Tathawade, Pune\",Male,9.76E+09,EnTC,2015,80.6,2017,66.77,,,2021,65.34,Radhika Modi,modi.tpo@gmail.com,7755933085']\n",
      "['POOJA CHAMLE,chamlepooja1999@gmail.com,\"JSPM\\'s Rajarshi Shahu College of Engineering Tathawade, Pune\",Female,9.16E+09,EnTC,2015,78.6,,,2018,78.56,2021,70.04,Radhika Modi,modi.tpo@gmail.com,7755933085']\n",
      "['OMKAR BHOPI,omkarbhopi2005@gmail.com,\"JSPM\\'s Rajarshi Shahu College of Engineering Tathawade, Pune\",Male,9.36E+09,CS/IT,2015,83.4,2017,70.77,,,2021,75.16,Radhika Modi,modi.tpo@gmail.com,7755933085']\n",
      "['Vaibhav Patil,pvaibhav1999@gmail.com,\"JSPM\\'s Rajarshi Shahu College of Engineering Tathawade, Pune\",Male,7.04E+09,CS/IT,2015,86.8,2017,78.92,,,2021,79,Radhika Modi,modi.tpo@gmail.com,7755933085']\n",
      "['Ankita Manjare,ankitamanjare16@gmail.com,\"JSPM\\'s Rajarshi Shahu College of Engineering Tathawade, Pune\",Female,8.18E+09,CS/IT,2014,90.8,2017,71.23,,,2021,67.87,Radhika Modi,modi.tpo@gmail.com,7755933085']\n",
      "['Shubham Sonawane,shubham.v.sonawane@gmail.com,\"JSPM\\'s Rajarshi Shahu College of Engineering Tathawade, Pune\",Male,7.06E+09,CS/IT,2015,66.5,2017,60,,,2021,60,Radhika Modi,modi.tpo@gmail.com,7755933085']\n",
      "['Shruti Shinde,shrutimukundshinde@gmail.com,\"JSPM\\'s Rajarshi Shahu College of Engineering Tathawade, Pune\",Female,8.61E+09,CS/IT,2015,78.2,2017,71.08,,,2021,65.12,Radhika Modi,modi.tpo@gmail.com,7755933085']\n",
      "['Pranjali Gaikwad,pranjalikg1012000@gmail.com,\"JSPM\\'s Rajarshi Shahu College of Engineering Tathawade, Pune\",Female,8.67E+09,CS/IT,2015,91.2,2017,81.23,,,2021,76.21,Radhika Modi,modi.tpo@gmail.com,7755933085']\n",
      "['PREM MAMADGE,premmamadge999@gmail.com,\"JSPM\\'s Rajarshi Shahu College of Engineering Tathawade, Pune\",Male,7.35E+09,CS/IT,2015,91,2017,75.85,,,2021,63,Radhika Modi,modi.tpo@gmail.com,7755933085']\n",
      "['Pratiksha Khandagale,pratikshakhandagale68@gmail.com,\"JSPM\\'s Rajarshi Shahu College of Engineering Tathawade, Pune\",Female,9.51E+09,CS/IT,2015,86.8,2017,60.92,,,2021,62.3,Radhika Modi,modi.tpo@gmail.com,7755933085']\n",
      "['Payal Waghole,payalwaghole123@gmail.com,\"JSPM\\'s Rajarshi Shahu College of Engineering Tathawade, Pune\",Female,7.55E+09,CS/IT,2014,89.2,,,2017,84.63,2021,70.75,Radhika Modi,modi.tpo@gmail.com,7755933085']\n",
      "['Pratik Sagare,pratiksagare40@gmail.com,\"JSPM\\'s Rajarshi Shahu College of Engineering Tathawade, Pune\",Male,8.67E+09,CS/IT,2015,77.4,,,2018,74.38,2021,58.44,Radhika Modi,modi.tpo@gmail.com,7755933085']\n",
      "['UJWAL ZOJE,ujwalzoje1999@gmail.com,\"JSPM\\'s Rajarshi Shahu College of Engineering Tathawade, Pune\",Male,9.51E+09,CS/IT,2015,76,2017,66,,,2021,63,Radhika Modi,modi.tpo@gmail.com,7755933085']\n",
      "['Mahesh Shirsat,mahesh.shirsat.b@gmail.com,\"JSPM\\'s Rajarshi Shahu College of Engineering Tathawade, Pune\",Male,9.37E+09,CS/IT,2015,73.3,2017,62,,,2021,66.08,Radhika Modi,modi.tpo@gmail.com,7755933085']\n",
      "['Harshad Marathe,harshadnmarathe@gmail.com,\"JSPM\\'s Rajarshi Shahu College of Engineering Tathawade, Pune\",Male,7.35E+09,CS/IT,2015,77.8,2017,60,,,2021,67.4,Radhika Modi,modi.tpo@gmail.com,7755933085']\n",
      "['Akanksha Bhase,ambhase@gmail.com,\"JSPM\\'s Rajarshi Shahu College of Engineering Tathawade, Pune\",Female,7.74E+09,CS/IT,2015,78.4,2017,76.14,,,2021,71.1,Radhika Modi,modi.tpo@gmail.com,7755933085']\n",
      "['Prathmesh Patil,prathmesh.patil699@gmail.com,\"JSPM\\'s Rajarshi Shahu College of Engineering Tathawade, Pune\",Male,7.71E+09,CS/IT,2015,65.4,,,2018,75.06,2021,64.82,Radhika Modi,modi.tpo@gmail.com,7755933085']\n",
      "['Siddhi Jamdar,siddhijamdar26@gmail.com,\"JSPM\\'s Rajarshi Shahu College of Engineering Tathawade, Pune\",Female,9.86E+09,CS/IT,2015,88,2017,70.77,,,2021,69.69,Radhika Modi,modi.tpo@gmail.com,7755933085']\n",
      "['Pranali Gabale,gabalepranali@gmail.com,\"JSPM\\'s Rajarshi Shahu College of Engineering Tathawade, Pune\",Female,8.63E+09,CS/IT,2015,92.2,2017,81.69,,,2021,79.72,Radhika Modi,modi.tpo@gmail.com,7755933085']\n",
      "['Monali Gan,monali.gangane@gmail.com,\"JSPM\\'s Rajarshi Shahu College of Engineering Tathawade, Pune\",Female,9.83E+09,CS/IT,2015,85.6,2017,67.54,,,2018,73.34,Radhika Modi,modi.tpo@gmail.com,7755933085']\n",
      "['Shruti Khedkar,khedkarshruti411@gmail.com,\"JSPM\\'s Rajarshi Shahu College of Engineering Tathawade, Pune\",Female,9.86E+09,CS/IT,2015,91,,,2018,79.38,2021,67.76,Radhika Modi,modi.tpo@gmail.com,7755933085']\n",
      "['Gaurav Gaur,gaurgaurav568@gmail.com,\"JSPM\\'s Rajarshi Shahu College of Engineering Tathawade, Pune\",Male,8.79E+09,CS/IT,2014,69,2016,60.4,,,2021,62.25,Radhika Modi,modi.tpo@gmail.com,7755933085']\n",
      "['Rutuja Sonawane,rutujasonawane0512@gmail.com,\"JSPM\\'s Rajarshi Shahu College of Engineering Tathawade, Pune\",Female,7.56E+09,CS/IT,2015,77,2017,68,,,2021,68,Radhika Modi,modi.tpo@gmail.com,7755933085']\n",
      "['SHANTANU DUDHANE,shantanududhane4@gmail.com,\"JSPM\\'s Rajarshi Shahu College of Engineering Tathawade, Pune\",Male,9.62E+09,CS/IT,2015,81,2017,67,,,2021,68,Radhika Modi,modi.tpo@gmail.com,7755933085']\n",
      "['Suyog Gatkal,suyoggatkal20@gmail.com,\"JSPM\\'s Narhe Technical Campus, Pune\",Male,8.31E+09,CS/IT,2015,86.6,2017,72,0,0,2021,81.48,Sachin Kangutkar,s.kangutkar@gmail.com,9822646293']\n",
      "['Kunal Gije,kunalgije1999@gmail.com,\"JSPM\\'s Jayawantrao Sawant College of Engineering Hadapsar, Pune\",Male,9.55E+09,CS/IT,2015,85.2,0,0,2018,73.7,2021,61.03,Sachin Kangutkar,s.kangutkar@gmail.com,9822646293']\n",
      "['Manisha Dukare,manishadukare777@gmail.com,\"JSPM\\'s Jayawantrao Sawant College of Engineering Hadapsar, Pune\",Female,9.85E+09,CS/IT,2014,92,2016,80.31,0,0,2021,68.11,Sachin Kangutkar,s.kangutkar@gmail.com,9822646293']\n",
      "['Ayesha Shaikh,ayesha.sk707@gmail.com,\"JSPM\\'s Jayawantrao Sawant College of Engineering Hadapsar, Pune\",Female,8.33E+09,CS/IT,2015,95.8,2017,80,0,0,2021,81.23,Sachin Kangutkar,s.kangutkar@gmail.com,9822646293']\n",
      "['Dhaval Lakhani,dhavallakhani8499@gmail.com,\"JSPM\\'s Narhe Technical Campus, Pune\",Male,7.06E+09,CS/IT,2015,74,2017,64.46,0,0,2021,59.31,Sachin Kangutkar,s.kangutkar@gmail.com,9822646293']\n",
      "['Gaurav Katkar,gauravkatkar1000@gmail.com,\"JSPM\\'s Jayawantrao Sawant College of Engineering Hadapsar, Pune\",Male,9.60E+09,CS/IT,2015,92.4,2017,69.07,0,0,2021,65.15,Sachin Kangutkar,s.kangutkar@gmail.com,9822646293']\n",
      "['Omkar Tikar,omkartikar007@gmail.com,\"JSPM\\'s Jayawantrao Sawant College of Engineering Hadapsar, Pune\",Male,9.17E+09,CS/IT,2015,87.7,2017,60,0,0,2021,70.43,Sachin Kangutkar,s.kangutkar@gmail.com,9822646293']\n",
      "['Farhan Shaikh,farhanshaikh199913@gmail.com,\"JSPM\\'s Jayawantrao Sawant College of Engineering Hadapsar, Pune\",Male,8.83E+09,CS/IT,2015,90.4,2017,78.46,0,0,2021,66.7,Sachin Kangutkar,s.kangutkar@gmail.com,9822646293']\n",
      "['Nehul Chaudhari,nehulc1011@gmail.com,\"JSPM\\'s Narhe Technical Campus, Pune\",Male,9.82E+09,CS/IT,2015,73.5,2017,67.23,0,0,2021,66.06,Sachin Kangutkar,s.kangutkar@gmail.com,9822646293']\n",
      "['Aditya Sharma,adityasharma527@gmail.com,\"JSPM\\'s Jayawantrao Sawant College of Engineering Hadapsar, Pune\",Male,8.98E+09,CS/IT,2015,81,2017,76.6,0,0,2021,63,Sachin Kangutkar,s.kangutkar@gmail.com,9822646293']\n",
      "['Omkar Bhandar,omkarbhandar2856@gmail.com,\"JSPM\\'s Jayawantrao Sawant College of Engineering Hadapsar, Pune\",Male,9.66E+09,CS/IT,2015,85.8,2017,74.77,0,0,2021,71.02,Sachin Kangutkar,s.kangutkar@gmail.com,9822646293']\n",
      "['Ashutosh Gulame,ashutosh1447@gmail.com,\"JSPM\\'s Jayawantrao Sawant College of Engineering Hadapsar, Pune\",Male,9.28E+09,CS/IT,2015,90.2,2017,77.54,0,0,2021,78.8,Sachin Kangutkar,s.kangutkar@gmail.com,9822646293']\n",
      "['TRUPTI PADMAWAR,truptipad17@gmail.com,\"JSPM\\'s Narhe Technical Campus, Pune\",Female,7.07E+09,CS/IT,2015,84.4,2017,62.62,0,0,2021,63.77,Sachin Kangutkar,s.kangutkar@gmail.com,9822646293']\n",
      "['Amruta Lohar,amrutalohar91099@gmail.com,\"JSPM\\'s Jayawantrao Sawant College of Engineering Hadapsar, Pune\",Female,9.89E+09,CS/IT,2015,83.8,0,0,2018,88.94,2021,70.4,Sachin Kangutkar,s.kangutkar@gmail.com,9822646293']\n",
      "['VARAD KIRAD,varadkirad1999@gmail.com,\"JSPM\\'s Jayawantrao Sawant College of Engineering Hadapsar, Pune\",Male,7.26E+09,CS/IT,2015,83.8,2017,69.23,0,0,2021,73,Sachin Kangutkar,s.kangutkar@gmail.com,9822646293']\n",
      "['Devendra Ingale,devendraingale2@gmail.com,\"JSPM\\'s Narhe Technical Campus, Pune\",Male,9.52E+09,CS/IT,2015,92,2017,65.85,0,0,2021,71.89,Sachin Kangutkar,s.kangutkar@gmail.com,9822646293']\n",
      "['Sourabh Shinde,sourabhraje100.ss@gmail.com,\"JSPM\\'s Jayawantrao Sawant College of Engineering Hadapsar, Pune\",Male,9.98E+09,CS/IT,2015,86.6,2017,76.46,0,0,2021,67.85,Sachin Kangutkar,s.kangutkar@gmail.com,9822646293']\n",
      "['Sanket Hole,sankethole2000@gmail.com,\"JSPM\\'s Jayawantrao Sawant College of Engineering Hadapsar, Pune\",Male,9.07E+09,CS/IT,2015,89.4,2017,66.92,0,0,2021,68.64,Sachin Kangutkar,s.kangutkar@gmail.com,9822646293']\n",
      "['Prasad Wakchoure,prasad323122@gmail.com,\"JSPM\\'s Jayawantrao Sawant College of Engineering Hadapsar, Pune\",Male,8.18E+09,CS/IT,2015,84.6,2017,73.04,0,0,2021,65,Sachin Kangutkar,s.kangutkar@gmail.com,9822646293']\n",
      "['Shruti Gujar,gujarshruri36@gmail.com,\"JSPM\\'s Jayawantrao Sawant College of Engineering Hadapsar, Pune\",Female,7.26E+09,CS/IT,2015,93,0,0,2018,78,2021,70.07,Sachin Kangutkar,s.kangutkar@gmail.com,9822646293']\n",
      "['Asmita Jadhav,asmita111jadhav@gmail.com,\"JSPM\\'s Jayawantrao Sawant College of Engineering Hadapsar, Pune\",Female,7.97E+09,CS/IT,2015,94.2,2017,81.38,0,0,2021,69,Sachin Kangutkar,s.kangutkar@gmail.com,9822646293']\n",
      "['Bhushan Dhimate,jarvisbhd@gmail.com,\"JSPM\\'s Narhe Technical Campus, Pune\",Male,7.74E+09,CS/IT,2015,83.4,2017,64.31,0,0,2021,76.47,Sachin Kangutkar,s.kangutkar@gmail.com,9822646293']\n",
      "['Pranali Patil,pranalipatil3620@gmail.com,\"JSPM\\'s Narhe Technical Campus, Pune\",Female,9.83E+09,CS/IT,2015,93.2,2017,71.85,0,0,2021,70.33,Sachin Kangutkar,s.kangutkar@gmail.com,9822646293']\n",
      "['Rutuja Kurhade,rutukurhade18@gmail.com,\"JSPM\\'s Jayawantrao Sawant College of Engineering Hadapsar, Pune\",Female,8.21E+09,CS/IT,2015,86.4,0,0,2018,78.5,2021,65,Sachin Kangutkar,s.kangutkar@gmail.com,9822646293']\n",
      "['Harshal Jaware,jspmprct@gmail.com,\"JSPM\\'s Narhe Technical Campus, Pune\",Male,8.70E+09,CS/IT,2014,65.4,0,0,2018,72.75,2021,64.63,Sachin Kangutkar,s.kangutkar@gmail.com,9822646293']\n",
      "['Mohammad Qureshi,zabeeh1132000@gmail.com,\"JSPM\\'s Jayawantrao Sawant College of Engineering Hadapsar, Pune\",Male,9.17E+09,CS/IT,2015,78,2017,71.69,0,0,2021,63.36,Sachin Kangutkar,s.kangutkar@gmail.com,9822646293']\n",
      "['Anurag Mahajan,anuragmahajan64@gmail.com,\"JSPM\\'s Jayawantrao Sawant College of Engineering Hadapsar, Pune\",Male,9.07E+09,CS/IT,2015,90.8,2017,74.62,0,0,2021,68.54,Sachin Kangutkar,s.kangutkar@gmail.com,9822646293']\n",
      "['Vinayak Dhage,vinayakdhage1234@gmail.com,\"JSPM\\'s Narhe Technical Campus, Pune\",Male,7.35E+09,CS/IT,2015,86.6,2017,68,0,0,2021,73.21,Sachin Kangutkar,s.kangutkar@gmail.com,9822646293']\n",
      "['Shubhada Surgude,shubhadasurgude@gmail.com,\"JSPM\\'s Jayawantrao Sawant College of Engineering Hadapsar, Pune\",Female,9.97E+09,CS/IT,2015,82.8,2017,64,0,0,2021,63.18,Sachin Kangutkar,s.kangutkar@gmail.com,9822646293']\n",
      "['Madhura Khetre,madhurakhetre622@gmail.com,\"JSPM\\'s Jayawantrao Sawant College of Engineering Hadapsar, Pune\",Female,9.83E+09,CS/IT,2015,88.2,2017,66.31,0,0,2021,63.2,Sachin Kangutkar,s.kangutkar@gmail.com,9822646293']\n",
      "['Vishwanath Ukale,vishwanathukale99@gmail.com,\"JSPM\\'s Jayawantrao Sawant College of Engineering Hadapsar, Pune\",Male,7.72E+09,CS/IT,2015,90.8,2017,67.38,0,0,2021,70.06,Sachin Kangutkar,s.kangutkar@gmail.com,9822646293']\n",
      "['Swapnil Jori,swapniljori007@gmail.com,\"JSPM\\'s Narhe Technical Campus, Pune\",Male,8.24E+09,CS/IT,2015,86.6,0,0,2018,86.47,2021,73.1,Sachin Kangutkar,s.kangutkar@gmail.com,9822646293']\n",
      "['Prachi Kadam,prachikadam1819@gmail.com,\"TSSM\\'s Bhivarabai Sawant College of Engineering and Research Narhe, Pune\",Female,9.28E+09,CS/IT,2015,92.6,2017,83.85,0,0,2021,77.3,Sachin Kangutkar,s.kangutkar@gmail.com,9822646293']\n",
      "['Amit Shinde,amitcs196@gmail.com,\"TSSM\\'s Bhivarabai Sawant College of Engineering and Research Narhe, Pune\",Male,9.56E+09,CS/IT,2015,90.2,2017,68.92,0,0,2021,73.68,Sachin Kangutkar,s.kangutkar@gmail.com,9822646293']\n",
      "['Sohan Chougule,chougulesohan1399@gmail.com,\"TSSM\\'s Bhivarabai Sawant College of Engineering and Research Narhe, Pune\",Male,8.48E+09,CS/IT,2015,79.6,2017,63.38,0,0,2021,68.46,Sachin Kangutkar,s.kangutkar@gmail.com,9822646293']\n",
      "['Aishwarya Phalke,aishwaryaphalke2322@gmail.com,\"JSPM\\'s Narhe Technical Campus, Pune\",Female,9.76E+09,CS/IT,2015,89.2,2017,65.08,0,0,2021,69.25,Sachin Kangutkar,s.kangutkar@gmail.com,9822646293']\n",
      "['Jyoti Chaudhary,jyotikrjc@gmail.com,\"JSPM\\'s Imperial College of Engineering and Research Wagholi, Pune\",Female,7.03E+09,CS/IT,2015,93.8,2017,83.38,,,2021,71.6,Amol Baviskar,baviskar.amol06@gmail.com,9970842072']\n",
      "['Ketan Pande,ketanpande309@gmail.com,\"JSPM\\'s Imperial College of Engineering and Research Wagholi, Pune\",Male,7.03E+09,CS/IT,2015,93,2017,70.84,,,2021,71.9,Amol Baviskar,baviskar.amol06@gmail.com,9970842072']\n",
      "['Amruta Chaher,amrutachaher2909@gmail.com,\"JSPM\\'s Bhivarabai Sawant Institute of Technology and Research Wagholi, Pune\",Female,9.76E+09,CS/IT,2015,89.6,2017,68.12,,,2021,71.45,Amol Baviskar,baviskar.amol06@gmail.com,9970842072']\n",
      "['Shruti Daundkar,shrutivd135@gmail.com,\"JSPM\\'s Bhivarabai Sawant Institute of Technology and Research Wagholi, Pune\",Female,9.97E+09,CS/IT,2015,93.2,,,2018,75.86,2021,74.24,Amol Baviskar,baviskar.amol06@gmail.com,9970842072']\n",
      "['Darshan Jadhav,darshanjadhav0101@gmail.com,\"JSPM\\'s Imperial College of Engineering and Research Wagholi, Pune\",Male,8.81E+09,CS/IT,2014,80.8,2016,61.85,2018,78.82,2021,60.02,Amol Baviskar,baviskar.amol06@gmail.com,9970842072']\n",
      "['Arti Sikhwal,arti.sikhwal.2001@gmail.com,\"JSPM\\'s Imperial College of Engineering and Research Wagholi, Pune\",Female,7.03E+09,CS/IT,2015,80.83,2017,66,,,2021,68.5,Amol Baviskar,baviskar.amol06@gmail.com,9970842072']\n",
      "['Avinash Kore,avinashkore00001@gmail.com,\"JSPM\\'s Bhivarabai Sawant Institute of Technology and Research Wagholi, Pune\",Male,9.60E+09,CS/IT,2015,87.4,2017,71.8,,,2021,74.41,Amol Baviskar,baviskar.amol06@gmail.com,9970842072']\n",
      "['Atul Yadav,atulyadav9021@gmail.com,\"JSPM\\'s Bhivarabai Sawant Institute of Technology and Research Wagholi, Pune\",Male,8.98E+09,CS/IT,2015,85.5,2017,80.6,,,2021,75.68,Amol Baviskar,baviskar.amol06@gmail.com,9970842072']\n",
      "['Akash Vishwakarma,beastboy7.7.k@gmail.com,\"JSPM\\'s Bhivarabai Sawant Institute of Technology and Research Wagholi, Pune\",Male,8.33E+09,CS/IT,2015,70.3,2017,69.54,,,2021,76.29,Amol Baviskar,baviskar.amol06@gmail.com,9970842072']\n",
      "['Pooja Bhagat,pooja160699@gmail.com,\"JSPM\\'s Imperial College of Engineering and Research Wagholi, Pune\",Female,7.74E+09,CS/IT,2015,90,,,2018,82.19,2021,79.9,Amol Baviskar,baviskar.amol06@gmail.com,9970842072']\n",
      "['Rushikesh Bawake,rushi.bawake18@gmail.com,\"JSPM\\'s Imperial College of Engineering and Research Wagholi, Pune\",Male,9.13E+09,CS/IT,2014,91.2,,,2018,78.65,2019,58.98,Amol Baviskar,baviskar.amol06@gmail.com,9970842072']\n",
      "['Venkatesh Parge,venkatesh.parge2000@gmail.com,\"JSPM\\'s Bhivarabai Sawant Institute of Technology and Research Wagholi, Pune\",Male,8.83E+09,CS/IT,2015,82,2017,93.3,,,2021,70.77,Amol Baviskar,baviskar.amol06@gmail.com,9970842072']\n",
      "['Akshay Bhandare,akshaybhandare0520@gmail.com,\"JSPM\\'s Imperial College of Engineering and Research Wagholi, Pune\",Male,7.74E+09,CS/IT,2015,81.8,,,2018,67.24,2021,58,Amol Baviskar,baviskar.amol06@gmail.com,9970842072']\n",
      "['Abhijit Sonawane,sonawane.abhijit58@gmail.com,\"JSPM\\'s Imperial College of Engineering and Research Wagholi, Pune\",Male,9.89E+09,CS/IT,2014,79.6,2016,60,2018,80.75,2021,60.02,Amol Baviskar,baviskar.amol06@gmail.com,9970842072']\n",
      "['Sushant Bhingare,sushb49@gmail.com,\"JSPM\\'s Imperial College of Engineering and Research Wagholi, Pune\",Male,8.46E+09,CS/IT,2014,74.57,,,2018,73.47,2021,62.83,Amol Baviskar,baviskar.amol06@gmail.com,9970842072']\n",
      "['Raj Patil,silent.quotes.2151@gmail.com,\"JSPM\\'s Imperial College of Engineering and Research Wagholi, Pune\",Male,7.04E+09,CS/IT,2015,83.6,,,2018,76.25,2021,69.34,Amol Baviskar,baviskar.amol06@gmail.com,9970842072']\n",
      "['RAHUL MAHURKAR,rrmahurkar7@gmail.com,\"JSPM\\'s Bhivarabai Sawant Institute of Technology and Research Wagholi, Pune\",Male,9.73E+09,CS/IT,2015,83.06,2017,68,,,2021,71.19,Amol Baviskar,baviskar.amol06@gmail.com,9970842072']\n",
      "['Sadik Pathan,sadikpathan9876@gmail.com,\"JSPM\\'s Imperial College of Engineering and Research Wagholi, Pune\",Male,9.59E+09,CS/IT,2015,92.2,2017,80.92,,,2021,69.52,Amol Baviskar,baviskar.amol06@gmail.com,9970842072']\n",
      "['Digvijay Sathe,irondigvijay@gmail.com,\"JSPM\\'s Imperial College of Engineering and Research Wagholi, Pune\",Male,9.56E+09,CS/IT,2015,88.2,2017,72.31,,,2021,64.92,Amol Baviskar,baviskar.amol06@gmail.com,9970842072']\n",
      "['Jagadish Navale,ajnavale25101998@gmail.com,\"JSPM\\'s Bhivarabai Sawant Institute of Technology and Research Wagholi, Pune\",Male,7.41E+09,CS/IT,2015,79,,,2018,66.41,2021,69.87,Amol Baviskar,baviskar.amol06@gmail.com,9970842072']\n",
      "['Gaurav Pingale,gauravpingale4@gmail.com,\"JSPM\\'s Bhivarabai Sawant Institute of Technology and Research Wagholi, Pune\",Male,9.77E+09,CS/IT,2015,89.2,2017,71.23,,,2021,75.68,Amol Baviskar,baviskar.amol06@gmail.com,9970842072']\n",
      "['Nehal Patil,nehal.d.patil7@gmail.com,\"JSPM\\'s Imperial College of Engineering and Research Wagholi, Pune\",Male,7.39E+09,CS/IT,2015,87.4,,,2018,72.76,2021,61.77,Amol Baviskar,baviskar.amol06@gmail.com,9970842072']\n",
      "['Pratiksha Magar,pratikshamagar91@gmail.com,\"JSPM\\'s Bhivarabai Sawant Institute of Technology and Research Wagholi, Pune\",Female,9.15E+09,CS/IT,2015,90.8,2017,82.31,,,2021,76.7,Amol Baviskar,baviskar.amol06@gmail.com,9970842072']\n",
      "['Akanksha Tripathi,tripathiakanksha308@gmail.com,\"JSPM\\'s Bhivarabai Sawant Institute of Technology and Research Wagholi, Pune\",Female,7.45E+09,CS/IT,2015,81.69,2017,61.69,,,2021,68.63,Amol Baviskar,baviskar.amol06@gmail.com,9970842072']\n",
      "['Pooja Kapse,kapsepooja7@gmail.com,\"JSPM\\'s Bhivarabai Sawant Institute of Technology and Research Wagholi, Pune\",Female,9.56E+09,CS/IT,2015,87.4,2017,66.9,,,2021,73.16,Amol Baviskar,baviskar.amol06@gmail.com,9970842072']\n",
      "['Harshada Pasalkar,harshadapasalkar96@gmail.com,\"JSPM\\'s Bhivarabai Sawant Institute of Technology and Research Wagholi, Pune\",Female,9.85E+09,CS/IT,2015,87.8,2017,64.15,,,2021,62.12,Amol Baviskar,baviskar.amol06@gmail.com,9970842072']\n",
      "['Shital Kekan,skshitalkekan@gmail.com,\"JSPM\\'s Bhivarabai Sawant Institute of Technology and Research Wagholi, Pune\",Female,9.92E+09,CS/IT,2015,92.6,2017,75.08,,,2021,77.3,Amol Baviskar,baviskar.amol06@gmail.com,9970842072']\n",
      "['Raghwendra Chouhan,chouhan2017raj@gmail.com,\"Chameli Devi Group of Institutions, Indore\",Male,8.84E+09,CS/IT,2015,79.8,2017,62,0,0,2021,76.3,Aishwary Mendke,aishwary.mendke@cdgi.edu.in,7879833468']\n",
      "['Ayush Mahajan,ayush.24mahajan@gmail.com,\"Chameli Devi Group of Institutions, Indore\",Male,8.88E+09,CS/IT,2015,88,2017,86,0,0,2021,73,Aishwary Mendke,aishwary.mendke@cdgi.edu.in,7879833468']\n",
      "['Manish Talreja,manishtalreja0510@gmail.com,\"Chameli Devi Group of Institutions, Indore\",Male,9.34E+09,CS/IT,2015,66.5,2017,64.6,0,0,2021,60.07,Aishwary Mendke,aishwary.mendke@cdgi.edu.in,7879833468']\n",
      "['Jhalak Surve,jhalaksurve@gmail.com,\"Chameli Devi Group of Institutions, Indore\",Female,8.89E+09,CS/IT,2015,79,2017,76,0,0,2021,73,Aishwary Mendke,aishwary.mendke@cdgi.edu.in,7879833468']\n",
      "['Prateek Chauhan,prateek454@gmail.com,\"Chameli Devi Group of Institutions, Indore\",Male,7.42E+09,CS/IT,2015,89.3,2017,78.4,0,0,2021,70,Aishwary Mendke,aishwary.mendke@cdgi.edu.in,7879833468']\n",
      "['Vidhi Bhawsar,vidhibhawsar1999@gmail.com,\"Chameli Devi Group of Institutions, Indore\",Female,8.96E+09,CS/IT,2015,83.16,2017,78.4,0,0,2021,75.3,Aishwary Mendke,aishwary.mendke@cdgi.edu.in,7879833468']\n",
      "['Mayank Vaidya,mayankvaidya1999@gmail.com,\"Chameli Devi Group of Institutions, Indore\",Male,7.61E+09,CS/IT,2015,64,2017,73.4,0,0,2021,71.12,Aishwary Mendke,aishwary.mendke@cdgi.edu.in,7879833468']\n",
      "['Sakshi Parihar,pariharsakshi204@gmail.com,\"Chameli Devi Group of Institutions, Indore\",Female,8.32E+09,CS/IT,2015,89.6,2017,68.3,0,0,2021,81.3,Aishwary Mendke,aishwary.mendke@cdgi.edu.in,7879833468']\n",
      "['Anil Bhadoria,anilbhadoriya1011@gmail.com,\"Chameli Devi Group of Institutions, Indore\",Male,7.69E+09,CS/IT,2015,70.3,2017,73.4,0,0,2021,64.7,Aishwary Mendke,aishwary.mendke@cdgi.edu.in,7879833468']\n",
      "['Divya Chhabra,divya140100chhabra@gmail.com,\"Chameli Devi Group of Institutions, Indore\",Female,9.04E+09,CS/IT,2015,82,2017,73.8,0,0,2021,82.5,Aishwary Mendke,aishwary.mendke@cdgi.edu.in,7879833468']\n",
      "['Shivam Chouhan,shivamchouhan9630@gmail.com,\"Chameli Devi Group of Institutions, Indore\",Male,9.34E+09,CS/IT,2014,79.5,2016,73.8,0,0,2021,70.4,Aishwary Mendke,aishwary.mendke@cdgi.edu.in,7879833468']\n",
      "['Hardi Parikh,hardiparikh1999@gmail.com,\"Chameli Devi Group of Institutions, Indore\",Female,9.34E+09,CS/IT,2015,91.5,2017,72.5,0,0,2021,83.3,Aishwary Mendke,aishwary.mendke@cdgi.edu.in,7879833468']\n",
      "['Saloni Mahajan,saloni9699@gmail.com,\"Chameli Devi Group of Institutions, Indore\",Female,7.70E+09,CS/IT,2015,88,2017,82,0,0,2021,78,Aishwary Mendke,aishwary.mendke@cdgi.edu.in,7879833468']\n",
      "['Sadafnoor Rehmani,noorsadaf183@gmail.com,\"Chameli Devi Group of Institutions, Indore\",Female,9.63E+09,CS/IT,2015,74.7,2017,62.5,0,0,2021,64.6,Aishwary Mendke,aishwary.mendke@cdgi.edu.in,7879833468']\n",
      "['Monal Patel,monalcdgi@gmail.com,\"Chameli Devi Group of Institutions, Indore\",Female,8.83E+09,CS/IT,2015,81.33,2017,78,0,0,2021,80.8,Aishwary Mendke,aishwary.mendke@cdgi.edu.in,7879833468']\n",
      "['Mekhala Namjoshi,mekhala.namjoshi@gmail.com,\"Chameli Devi Group of Institutions, Indore\",Female,9.75E+09,CS/IT,2014,68.5,2016,61.5,0,0,2021,80,Aishwary Mendke,aishwary.mendke@cdgi.edu.in,7879833468']\n",
      "['Sakshi Ojha,sakshi.ojha.sbg@gmail.com,\"Sushila Devi Bansal College of Engineering, Indore\",Female,9.34E+09,CS/IT,2015,72.2,2017,63.03,0,0,2021,71.03,Kapil Suchdeo,headcr@sdbc.ac.in,+91 819 901 0901']\n",
      "['Kirti Chavan,kirtic1921@gmail.com,\"Sushila Devi Bansal College of Technology, Indore\",Female,6.26E+09,CS/IT,2015,74.1,2017,62,0,0,2021,70.3,Kapil Suchdeo,headcr@sdbc.ac.in,+91 819 901 0901']\n",
      "['Simran Jain,simran31jain@gmail.com,\"Sushila Devi Bansal College of Technology, Indore\",Female,9.34E+09,CS/IT,2015,82,2017,78,0,0,2021,78,Kapil Suchdeo,headcr@sdbc.ac.in,+91 819 901 0901']\n",
      "['Vaibhav Agrawal,vaibhavrja@gmail.com,\"Sushila Devi Bansal College of Technology, Indore\",Male,8.00E+09,CS/IT,2015,80.66,2017,84.8,0,0,2021,86,Kapil Suchdeo,headcr@sdbc.ac.in,+91 819 901 0901']\n",
      "['Prashant Bhawsar,prashant.bhawsar.sdbc@gmail.com,\"Sushila Devi Bansal College of Technology, Indore\",Male,7.97E+09,CS/IT,2015,84,2017,81,0,0,2021,64,Kapil Suchdeo,headcr@sdbc.ac.in,+91 819 901 0901']\n",
      "['Mohit Mourya,mohit.mourya.sbg@gmail.com,\"Sushila Devi Bansal College of Engineering, Indore\",Male,7.59E+09,CS/IT,2014,77.67,2016,67,0,0,2021,61,Kapil Suchdeo,headcr@sdbc.ac.in,+91 819 901 0901']\n",
      "['Surabhi Mishra,surabhi291999@gmail.com,\"Sushila Devi Bansal College of Engineering, Indore\",Female,8.77E+09,CS/IT,2015,74.99,2017,63,0,0,2021,69.99,Kapil Suchdeo,headcr@sdbc.ac.in,+91 819 901 0901']\n",
      "['Beauty Singh,beauty.singh.sbg@gmail.com,\"Sushila Devi Bansal College of Engineering, Indore\",Female,9.13E+09,CS/IT,2015,82.99,2017,68.79,0,0,2021,72.89,Kapil Suchdeo,headcr@sdbc.ac.in,+91 819 901 0901']\n",
      "['Kapil Rathore,kmrathore98@gmail.com,\"Sushila Devi Bansal College of Technology, Indore\",Male,9.40E+09,CS/IT,2014,83.6,2017,84.8,0,0,2021,60.3,Kapil Suchdeo,headcr@sdbc.ac.in,+91 819 901 0901']\n",
      "['Swati Pandey,swatipandey1220@gmail.com,\"Sushila Devi Bansal College of Technology, Indore\",Female,9.17E+09,CS/IT,2015,87.2,2017,89,0,0,2021,79.2,Kapil Suchdeo,headcr@sdbc.ac.in,+91 819 901 0901']\n",
      "['Sidharth Paliwal,sidpaliwal1999@gmail.com,\"Sushila Devi Bansal College of Technology, Indore\",Male,9.11E+09,CS/IT,2015,74.1,2017,84.4,0,0,2021,68.9,Kapil Suchdeo,headcr@sdbc.ac.in,+91 819 901 0901']\n",
      "['Ajay Barfa,akshaybarfa11@gmail.com,\"Sushila Devi Bansal College of Technology, Indore\",Male,9.69E+09,CS/IT,2014,71.1,2017,75,0,0,2021,69,Kapil Suchdeo,headcr@sdbc.ac.in,+91 819 901 0901']\n",
      "['Khushboo Nirmal,nirmalkhushboo123@gmail.com,\"Sushila Devi Bansal College of Technology, Indore\",Female,8.46E+09,CS/IT,2015,79.5,2017,77,0,0,2021,74,Kapil Suchdeo,headcr@sdbc.ac.in,+91 819 901 0901']\n",
      "['Shubham Gurjar,shubhamgurjar6822@gmail.com,\"Sushila Devi Bansal College of Technology, Indore\",Male,9.69E+09,CS/IT,2015,82,2017,79,0,0,2021,73,Kapil Suchdeo,headcr@sdbc.ac.in,+91 819 901 0901']\n",
      "['Bhushan Bedre,bhshanbedre75@gmail.com,\"Sushila Devi Bansal College of Engineering, Indore\",Male,7.51E+09,CS/IT,2015,76.8,2017,74.6,0,0,2021,67,Kapil Suchdeo,headcr@sdbc.ac.in,+91 819 901 0901']\n",
      "['Shivani Jha,jhashivani5920@gmail.com,\"Sushila Devi Bansal College of Technology, Indore\",Female,8.98E+09,CS/IT,2015,92.5,2017,88.59,0,0,2021,80.3,Kapil Suchdeo,headcr@sdbc.ac.in,+91 819 901 0901']\n",
      "['Dolly Verma,vermadolly835@gmail.com,\"Sushila Devi Bansal College of Technology, Indore\",Female,8.36E+09,CS/IT,2015,60,2017,74.9,0,0,2021,64.6,Kapil Suchdeo,headcr@sdbc.ac.in,+91 819 901 0901']\n",
      "['Nandini Mandloi,nandini.mandloisdbct@gmail.com,\"Sushila Devi Bansal College of Technology, Indore\",Female,8.87E+09,CS/IT,2015,89.3,2017,70,0,0,2021,76.3,Kapil Suchdeo,headcr@sdbc.ac.in,+91 819 901 0901']\n",
      "['Kashish Gadwal,kashish.gadwalsdbc@gmail.com,\"Sushila Devi Bansal College of Technology, Indore\",Female,9.34E+09,CS/IT,2015,94,2017,81.6,0,0,2021,74,Kapil Suchdeo,headcr@sdbc.ac.in,+91 819 901 0901']\n",
      "['JITENDRA PATIL,jitendra.patil.sbg@gmail.com,\"Sushila Devi Bansal College of Engineering, Indore\",Male,9.34E+09,CS/IT,2015,85,2017,84.8,0,0,2021,69.7,Kapil Suchdeo,headcr@sdbc.ac.in,+91 819 901 0901']\n",
      "['Pooja Patidar,patidar.pooja3122@gmail.com,\"Sushila Devi Bansal College of Technology, Indore\",Female,8.77E+09,CS/IT,2015,70,2017,80.2,0,0,2021,59.99,Kapil Suchdeo,headcr@sdbc.ac.in,+91 819 901 0901']\n",
      "['Shrashti Pal,shrashti391@gmail.com,\"Sushila Devi Bansal College of Engineering, Indore\",Female,8.09E+09,CS/IT,2015,75,2017,81,0,0,2021,76,Kapil Suchdeo,headcr@sdbc.ac.in,+91 819 901 0901']\n",
      "['AYUSH PRAJAPATI,ayush.prajapati.sbg@gmail.com,\"Sushila Devi Bansal College of Engineering, Indore\",Male,9.13E+09,CS/IT,2015,80,2017,79.6,0,0,2021,66,Kapil Suchdeo,headcr@sdbc.ac.in,+91 819 901 0901']\n",
      "['Yukti Morghode,yuktimorghode1510@gmail.com,\"Sushila Devi Bansal College of Engineering, Indore\",Female,8.00E+09,CS/IT,2015,88,2017,85,0,0,2021,78,Kapil Suchdeo,headcr@sdbc.ac.in,+91 819 901 0901']\n",
      "['Vasudev Chouhan,vasudev.chouhan.sbg@gmail.com,\"Sushila Devi Bansal College of Engineering, Indore\",Male,8.00E+09,CS/IT,2015,62,2017,75,0,0,2021,65.4,Kapil Suchdeo,headcr@sdbc.ac.in,+91 819 901 0901']\n",
      "['Govind Singh,govindsc99@gmail.com,\"Sushila Devi Bansal College of Technology, Indore\",Male,9.64E+09,CS/IT,2014,72,2016,82,0,0,2021,74.5,Kapil Suchdeo,headcr@sdbc.ac.in,+91 819 901 0901']\n",
      "['Shivshankar Yadav,shivyadav5055@gmail.com,\"Sushila Devi Bansal College of Technology, Indore\",Male,7.90E+09,CS/IT,2014,68,2017,67.8,0,0,2021,64.2,Kapil Suchdeo,headcr@sdbc.ac.in,+91 819 901 0901']\n",
      "['Rohan Agrawal,rohan.agrawal327@gmail.com,\"Sushila Devi Bansal College of Technology, Indore\",Male,8.99E+09,CS/IT,2015,64.6,2017,62.2,0,0,2021,70,Kapil Suchdeo,headcr@sdbc.ac.in,+91 819 901 0901']\n",
      "['Nayan Sontiya,sontiya.nayan@gmail.com,\"Sushila Devi Bansal College of Technology, Indore\",Male,9.17E+09,CS/IT,2015,82.7,2017,76,0,0,2021,62,Kapil Suchdeo,headcr@sdbc.ac.in,+91 819 901 0901']\n",
      "['Yash Solanki,yash.solanki.sbg@gmail.com,\"Sushila Devi Bansal College of Engineering, Indore\",Male,9.13E+09,CS/IT,2015,86,2017,85.8,0,0,2021,62,Kapil Suchdeo,headcr@sdbc.ac.in,+91 819 901 0901']\n",
      "['Archit Maheshwari,maheshwariarchit27@gmail.com,\"Sushila Devi Bansal College of Technology, Indore\",Male,6.23E+09,CS/IT,2015,80,2017,83,0,0,2021,70,Kapil Suchdeo,headcr@sdbc.ac.in,+91 819 901 0901']\n",
      "['Riya Rajput,riyarajput180899@gmail.com,\"Sushila Devi Bansal College of Technology, Indore\",Female,7.69E+09,CS/IT,2015,85,2017,87,0,0,2021,79,Kapil Suchdeo,headcr@sdbc.ac.in,+91 819 901 0901']\n",
      "['Gayatri Rathore,gayatri.rathore.sbg@gmail.com,\"Sushila Devi Bansal College of Engineering, Indore\",Female,9.34E+09,CS/IT,2015,60,2017,67,0,0,2021,63.3,Kapil Suchdeo,headcr@sdbc.ac.in,+91 819 901 0901']\n",
      "['Harsh Kadu,harshkadu0605@gmail.com,\"Rajiv Gandhi College of Engineering and Research, Nagpur\",Male,7.88E+09,CS/IT,2015,81.7,2017,69,0,0,2021,64.21,Mr Jaykar,rgcertpo@gmail.com,9975775632']\n",
      "['Adwait Dani,adwait.s.dani@gmail.com,\"Rajiv Gandhi College of Engineering and Research, Nagpur\",Male,9.89E+09,CS/IT,2015,88.4,2017,63.85,0,0,2021,63.97,Mr Jaykar,rgcertpo@gmail.com,9975775632']\n",
      "['Priyanka Mahato,priyankamahato514@gmail.com,\"Rajiv Gandhi College of Engineering and Research, Nagpur\",Female,7.28E+09,CS/IT,2015,87.8,2017,62.15,0,0,2021,65.69,Mr Jaykar,rgcertpo@gmail.com,9975775632']\n",
      "['Anshul Maske,anshmaske743@gmail.com,\"Rajiv Gandhi College of Engineering and Research, Nagpur\",Male,8.15E+09,CS/IT,2015,86,2017,80.6,0,0,2021,68.3,Mr Jaykar,rgcertpo@gmail.com,9975775632']\n",
      "['SANCHI BARSAGADE,sanchibarsagade25@gmail.com,\"Rajiv Gandhi College of Engineering and Research, Nagpur\",Female,9.15E+09,CS/IT,2015,78,2017,67,0,0,2021,64.64,Mr Jaykar,rgcertpo@gmail.com,9975775632']\n",
      "['Payal Kewate,payalkewate@gmail.com,\"Rajiv Gandhi College of Engineering and Research, Nagpur\",Female,8.42E+09,CS/IT,2015,88.8,2017,76,0,0,2021,64.7,Mr Jaykar,rgcertpo@gmail.com,9975775632']\n",
      "['Swaroopa Ravikumar,sravikumar923@gmail.com,\"Rajiv Gandhi College of Engineering and Research, Nagpur\",Female,9.51E+09,CS/IT,2015,82,2017,63,0,0,2021,63.07,Mr Jaykar,rgcertpo@gmail.com,9975775632']\n",
      "['AMIT SATPUTE,amitcap88@gmail.com,\"Rajiv Gandhi College of Engineering and Research, Nagpur\",Male,9.15E+09,CS/IT,2015,88,2017,72,0,0,2021,64.66,Mr Jaykar,rgcertpo@gmail.com,9975775632']\n",
      "['Nikhil Wandhare,nikhilwandhare021@gmail.com,\"Rajiv Gandhi College of Engineering and Research, Nagpur\",Male,9.60E+09,CS/IT,2015,77.6,2017,65,0,0,2021,68.14,Mr Jaykar,rgcertpo@gmail.com,9975775632']\n",
      "['Sanjana Khaire,sanjanakhaire1999@gmail.com,\"Rajiv Gandhi College of Engineering and Research, Nagpur\",Female,8.31E+09,CS/IT,2015,82,2017,75,0,0,2021,74.46,Mr Jaykar,rgcertpo@gmail.com,9975775632']\n",
      "['Jyoti Gajbhiye,jyotigajbhiye99@gmail.com,\"Rajiv Gandhi College of Engineering and Research, Nagpur\",Female,8.79E+09,CS/IT,2015,87.4,2017,67.2,0,0,2021,69,Mr Jaykar,rgcertpo@gmail.com,9975775632']\n",
      "['Shweta Kadam,shweta17kadam@gmail.com,\"Rajiv Gandhi College of Engineering and Research, Nagpur\",Female,7.41E+09,CS/IT,2015,81.16,2017,65.85,0,0,2021,64,Mr Jaykar,rgcertpo@gmail.com,9975775632']\n",
      "['TEJAS THAKRE,thakretejas2016@gmail.com,\"Rajiv Gandhi College of Engineering and Research, Nagpur\",Male,9.73E+09,CS/IT,2015,86,2017,71.5,0,0,2021,63,Mr Jaykar,rgcertpo@gmail.com,9975775632']\n",
      "['AKASH YEOLE,theakash123@gmail.com,\"Rajiv Gandhi College of Engineering and Research, Nagpur\",Male,9.69E+09,CS/IT,2014,71,2016,64.46,0,0,2021,65,Mr Jaykar,rgcertpo@gmail.com,9975775632']\n",
      "['Deepratna Awale,awale.deep@gmail.com,\"Rajiv Gandhi College of Engineering and Research, Nagpur\",Male,7.03E+09,CS/IT,2015,85.4,2017,71.1,0,0,2021,64,Mr Jaykar,rgcertpo@gmail.com,9975775632']\n",
      "['Achal Paunikar,anchal.paunikar@yahoo.in,\"Rajiv Gandhi College of Engineering and Research, Nagpur\",Female,9.15E+09,CS/IT,2015,83.8,2017,76.62,0,0,2021,79.68,Mr Jaykar,rgcertpo@gmail.com,9975775632']\n",
      "['TANMAY PHADNIS,tanmay.s.phadnis@gmail.com,\"Rajiv Gandhi College of Engineering and Research, Nagpur\",Male,7.89E+09,CS/IT,2015,80,2017,63,0,0,2021,69.01,Mr Jaykar,rgcertpo@gmail.com,9975775632']\n",
      "['Vishal Shende,vbshende122333@gmail.com,\"Rajiv Gandhi College of Engineering and Research, Nagpur\",Male,9.83E+09,CS/IT,2015,67,2017,61.38,0,0,2021,64.26,Mr Jaykar,rgcertpo@gmail.com,9975775632']\n",
      "['Faiyaz Mujawar,fayazmujawar7@gmail.com,\"Zeal College of Engineering and Research, Pune\",Male,8.80E+09,CS/IT,2015,91.8,2017,81.38,0,0,2021,78.76,Prof.Viraj Barge,placement.dcoer@zealeducation.com,-9763108251']\n",
      "['Aslesha Kumbhar,asleshakumbhar@gmail.com,\"Zeal College of Engineering and Research, Pune\",Female,7.80E+09,CS/IT,2015,81.6,2017,69.6,0,0,2021,73.57,Prof.Viraj Barge,placement.dcoer@zealeducation.com,-9763108251']\n",
      "['Swapnil Nevase,swapnilnevse8105@gmail.com,\"Zeal College of Engineering and Research, Pune\",Male,8.31E+09,CS/IT,2013,83.45,2015,53.25,2018,75,2021,66.52,Prof.Viraj Barge,placement.dcoer@zealeducation.com,-9763108251']\n",
      "['Pratiksha Makeshwar,pratikshamakeshwar5@gmail.com,\"Zeal College of Engineering and Research, Pune\",Female,9.16E+09,CS/IT,2015,91.4,2017,74,0,0,2021,78.58,Prof.Viraj Barge,placement.dcoer@zealeducation.com,-9763108251']\n",
      "['Ritvij Naram,ritvijnaram@gmail.com,\"Zeal College of Engineering and Research, Pune\",Male,9.42E+09,CS/IT,2015,78.48,2017,61,0,0,2021,69,Prof.Viraj Barge,placement.dcoer@zealeducation.com,-9763108251']\n",
      "['Vivek Kate,vivekkate999@gmail.com,\"Zeal College of Engineering and Research, Pune\",Male,9.40E+09,CS/IT,2015,90.6,2017,71.54,0,0,2021,64.15,Prof.Viraj Barge,placement.dcoer@zealeducation.com,-9763108251']\n",
      "['Meghnad Pandit,mp230797@gmail.com,\"Zeal College of Engineering and Research, Pune\",Male,7.76E+09,CS/IT,2013,81.2,0,0,2018,76.56,2021,72.68,Prof.Viraj Barge,placement.dcoer@zealeducation.com,-9763108251']\n",
      "['Shruti Kashid,shrutikashid98@gmail.com,\"Zeal College of Engineering and Research, Pune\",Female,8.48E+09,CS/IT,2015,86.2,0,0,2018,80.13,2021,66.7,Prof.Viraj Barge,placement.dcoer@zealeducation.com,-9763108251']\n",
      "['Manasi Tilekar,tilekarmanasi23@gmail.com,\"Zeal College of Engineering and Research, Pune\",Female,8.83E+09,CS/IT,2015,90,2017,66.15,0,0,2021,68.46,Prof.Viraj Barge,placement.dcoer@zealeducation.com,-9763108251']\n",
      "['Mangesh Kachare,mangeshkachars6777@gmail.com,\"Zeal College of Engineering and Research, Pune\",Male,9.08E+09,CS/IT,2015,84.8,2017,63.85,0,0,2021,66.99,Prof.Viraj Barge,placement.dcoer@zealeducation.com,-9763108251']\n",
      "['ASHWATHY PANIKER,ashwathyraghunath@gmail.com,\"Zeal College of Engineering and Research, Pune\",Female,9.86E+09,CS/IT,2015,86.8,2017,69.08,0,0,2021,69.52,Prof.Viraj Barge,placement.dcoer@zealeducation.com,-9763108251']\n",
      "['Yogesh Jadhav,jadhavyogesh0018@gmail.com,\"Zeal College of Engineering and Research, Pune\",Male,9.28E+09,CS/IT,2015,77.8,0,0,2018,77,2021,71.46,Prof.Viraj Barge,placement.dcoer@zealeducation.com,-9763108251']\n",
      "['Saurabh Sonar,saurabh.sonar120@gmail.com,\"Zeal College of Engineering and Research, Pune\",Male,7.78E+09,CS/IT,2014,68.8,0,0,2018,72.24,2021,62.3,Prof.Viraj Barge,placement.dcoer@zealeducation.com,-9763108251']\n",
      "['Tejaswini Lande,tejaswinilande1@gmail.com,\"Zeal College of Engineering and Research, Pune\",Female,7.76E+09,CS/IT,2014,84.2,2016,77.02,0,0,2021,72.33,Prof.Viraj Barge,placement.dcoer@zealeducation.com,-9763108251']\n",
      "['Pradnya Mane,mpradnya20@gmail.com,\"Zeal College of Engineering and Research, Pune\",Female,7.35E+09,CS/IT,2015,85.6,0,0,2018,70.19,2021,56.08,Prof.Viraj Barge,placement.dcoer@zealeducation.com,-9763108251']\n",
      "['Pooja Nimbalkar,prnimbalkar123@gmail.com,\"Zeal College of Engineering and Research, Pune\",Female,9.82E+09,CS/IT,2015,85.2,0,0,2018,75.13,2021,65.64,Prof.Viraj Barge,placement.dcoer@zealeducation.com,-9763108251']\n",
      "['Megha Gurav,meghagurav55@gmail.com,\"Zeal College of Engineering and Research, Pune\",Female,8.31E+09,CS/IT,2015,80.4,0,0,2018,80.56,2021,65.29,Prof.Viraj Barge,placement.dcoer@zealeducation.com,-9763108251']\n",
      "['Aditi Pawar,adpawar18@gmail.com,\"Zeal College of Engineering and Research, Pune\",Female,8.15E+09,CS/IT,2015,78.2,0,0,2018,80.44,2021,66.7,Prof.Viraj Barge,placement.dcoer@zealeducation.com,-9763108251']\n",
      "['Damodar Dikonda,damodar5dikonda@gmail.com,\"Zeal College of Engineering and Research, Pune\",Male,9.00E+09,CS/IT,2015,87.6,0,0,2018,71.87,2021,63.89,Prof.Viraj Barge,placement.dcoer@zealeducation.com,-9763108251']\n",
      "['Anudeep Rokade,anudeeprokade1317@gmail.com,\"Zeal College of Engineering and Research, Pune\",Male,7.06E+09,CS/IT,2015,83.6,2017,67.3,0,0,2021,60.72,Prof.Viraj Barge,placement.dcoer@zealeducation.com,-9763108251']\n",
      "['Abhishek Dhadge,abhishekdhadge123@gmail.com,\"Zeal College of Engineering and Research, Pune\",Male,8.31E+09,CS/IT,2015,78.6,2017,67.38,0,0,2021,63.36,Prof.Viraj Barge,placement.dcoer@zealeducation.com,-9763108251']\n",
      "['Shital Bhosle,shitalbhosleer123@gmail.com,\"Zeal College of Engineering and Research, Pune\",Female,9.59E+09,CS/IT,2015,88,0,0,2018,83.31,2021,63.9,Prof.Viraj Barge,placement.dcoer@zealeducation.com,-9763108251']\n",
      "['Aishwarya Mankar,aishwaryamankar2000@gmail.com,\"Zeal College of Engineering and Research, Pune\",Female,8.44E+09,CS/IT,2015,74.1,2017,77.6,0,0,2021,71.46,Prof.Viraj Barge,placement.dcoer@zealeducation.com,-9763108251']\n",
      "['Chetan Bhikule,chetanbhikule123@gmail.com,\"Zeal College of Engineering and Research, Pune\",Male,7.04E+09,CS/IT,2015,83.6,2017,60,0,0,2021,63.36,Prof.Viraj Barge,placement.dcoer@zealeducation.com,-9763108251']\n",
      "['Omkar Jori,omkar.jori123@gmail.com,\"Zeal College of Engineering and Research, Pune\",Male,8.81E+09,CS/IT,2015,78.4,0,0,2018,82.06,2021,63.71,Prof.Viraj Barge,placement.dcoer@zealeducation.com,-9763108251']\n",
      "['Sumit Ghadi,sumitghadi15@gmail.com,\"Zeal College of Engineering and Research, Pune\",Male,7.35E+09,CS/IT,2015,82.4,0,0,2018,75.88,2021,62.48,Prof.Viraj Barge,placement.dcoer@zealeducation.com,-9763108251']\n",
      "[\"Ravina Zalte,zalteravina11@gmail.com,Vishwaniketan's Institute of Management Entrepreneurship and Engineering Technology,Female,9.08E+09,CS/IT,2015,86,2017,62.77,0,0,2021,70,Deepak S Patil,dspatil@vishwaniketan.edu.in,9604487875\"]\n",
      "[\"Ajay Vishwakarma,ajay.bmws@gmail.com,Vishwaniketan's Institute of Management Entrepreneurship and Engineering Technology,Male,8.41E+09,CS/IT,2015,73.4,2017,69.69,0,0,2021,64.49,Deepak S Patil,dspatil@vishwaniketan.edu.in,9604487875\"]\n",
      "[\"Naresh Patel,er.choudharynaresh@gmail.com,Vishwaniketan's Institute of Management Entrepreneurship and Engineering Technology,Male,8.77E+09,CS/IT,2015,78.8,2017,69.23,0,0,2021,62.36,Deepak S Patil,dspatil@vishwaniketan.edu.in,9604487875\"]\n",
      "[\"Akash Jadhav,jadhavakash2110@gmail.com,Vishwaniketan's Institute of Management Entrepreneurship and Engineering Technology,Male,8.65E+09,CS/IT,2015,83.2,2017,67.5,0,0,2021,56.1,Deepak S Patil,dspatil@vishwaniketan.edu.in,9604487875\"]\n",
      "[\"Samiksha Gurav,guravsamiksha17@gmail.com,Vishwaniketan's Institute of Management Entrepreneurship and Engineering Technology,Female,7.26E+09,CS/IT,2015,86.2,2017,59.04,0,0,2021,63.2,Deepak S Patil,dspatil@vishwaniketan.edu.in,9604487875\"]\n",
      "[\"Vineet Patil,vineetpatil65@gmail.com,Vishwaniketan's Institute of Management Entrepreneurship and Engineering Technology,Male,9.08E+09,CS/IT,2015,76,2017,62.46,0,0,2021,53.4,Deepak S Patil,dspatil@vishwaniketan.edu.in,9604487875\"]\n",
      "[\"Srushti Thale,srushti.thale@outlook.com,Vishwaniketan's Institute of Management Entrepreneurship and Engineering Technology,Female,7.39E+09,CS/IT,2015,86.4,2017,72.31,0,0,2021,69.3,Deepak S Patil,dspatil@vishwaniketan.edu.in,9604487875\"]\n",
      "[\"Ajinkya Kapse,ajinkyakapse385@gmail.com,Vishwaniketan's Institute of Management Entrepreneurship and Engineering Technology,Male,7.02E+09,CS/IT,2015,91.6,2017,74.63,0,0,2021,63.61,Deepak S Patil,dspatil@vishwaniketan.edu.in,9604487875\"]\n",
      "[\"Swagat Mokal,swagatmokal95@gmail.com,Vishwaniketan's Institute of Management Entrepreneurship and Engineering Technology,Male,7.02E+09,CS/IT,2015,90.2,2017,81.38,0,0,2021,56.5,Deepak S Patil,dspatil@vishwaniketan.edu.in,9604487875\"]\n",
      "[\"Nutan Patole,nutanpatole22@gmail.com,Vishwaniketan's Institute of Management Entrepreneurship and Engineering Technology,Female,7.22E+09,CS/IT,2015,87.8,2017,77.08,0,0,2021,73.13,Deepak S Patil,dspatil@vishwaniketan.edu.in,9604487875\"]\n",
      "[\"Kiran Bhosale,kbhosale035@gmail.com,Vishwaniketan's Institute of Management Entrepreneurship and Engineering Technology,Male,8.79E+09,CS/IT,2015,76,2017,70,0,0,2021,70.9,Deepak S Patil,dspatil@vishwaniketan.edu.in,9604487875\"]\n",
      "[\"Vaishnavi Mokal,vaishnavimokal5@gmail.com,Vishwaniketan's Institute of Management Entrepreneurship and Engineering Technology,Female,8.36E+09,CS/IT,2015,87.6,2017,60.77,0,0,2021,58.4,Deepak S Patil,dspatil@vishwaniketan.edu.in,9604487875\"]\n",
      "[\"Aashutosh Rawate,enaashutoshrawate1999@gmail.com,Vishwaniketan's Institute of Management Entrepreneurship and Engineering Technology,Male,7.68E+09,CS/IT,2015,89.9,2017,65.5,0,0,2021,62.9,Deepak S Patil,dspatil@vishwaniketan.edu.in,9604487875\"]\n",
      "[\"Najuka Shelar,najukashelar321@gmail.com,Vishwaniketan's Institute of Management Entrepreneurship and Engineering Technology,Female,7.38E+09,CS/IT,2015,85.6,2017,60,0,0,2021,57.16,Deepak S Patil,dspatil@vishwaniketan.edu.in,9604487875\"]\n",
      "[\"Suchitra Sathe,suchitras473@gmail.com,Vishwaniketan's Institute of Management Entrepreneurship and Engineering Technology,Female,8.88E+09,CS/IT,2015,87.88,2017,78,0,0,2021,70.2,Deepak S Patil,dspatil@vishwaniketan.edu.in,9604487875\"]\n",
      "[\"Siddhi Bhagat,siddhib166@gmail.com,Vishwaniketan's Institute of Management Entrepreneurship and Engineering Technology,Female,8.24E+09,CS/IT,2015,76.4,0,0,2018,67.35,2021,57.06,Deepak S Patil,dspatil@vishwaniketan.edu.in,9604487875\"]\n",
      "[\"Jayesh Patil,jayesh001patil@gmail.com,Vishwaniketan's Institute of Management Entrepreneurship and Engineering Technology,Male,7.74E+09,CS/IT,2015,68,2017,64.6,0,0,2021,60,Deepak S Patil,dspatil@vishwaniketan.edu.in,9604487875\"]\n",
      "[\"Daksh Maan,dakshmaan10@gmail.com,Vishwaniketan's Institute of Management Entrepreneurship and Engineering Technology,Male,9.63E+09,CS/IT,2015,82.83,2017,79.8,0,0,2021,56.04,Deepak S Patil,dspatil@vishwaniketan.edu.in,9604487875\"]\n",
      "[\"Nikita Patil,nikipatil199917@gmail.com,Vishwaniketan's Institute of Management Entrepreneurship and Engineering Technology,Female,9.82E+09,CS/IT,2015,97.2,2017,87.2,0,0,2021,78.43,Deepak S Patil,dspatil@vishwaniketan.edu.in,9604487875\"]\n",
      "[\"Sanket Pawar,pawarsanket181@gmail.com,Vishwaniketan's Institute of Management Entrepreneurship and Engineering Technology,Male,9.99E+09,CS/IT,2015,94.6,2017,73.8,0,0,2021,59.88,Deepak S Patil,dspatil@vishwaniketan.edu.in,9604487875\"]\n",
      "[\"Ashish Ahire,ashishahire15@gmail.com,Vishwaniketan's Institute of Management Entrepreneurship and Engineering Technology,Male,9.53E+09,CS/IT,2015,83,2017,65.59,0,0,2021,57,Deepak S Patil,dspatil@vishwaniketan.edu.in,9604487875\"]\n",
      "[\"Swagata Kawale,swagatakawale@gmail.com,Vishwaniketan's Institute of Management Entrepreneurship and Engineering Technology,Female,8.24E+09,CS/IT,2014,81.6,2016,59.08,0,0,2021,55.45,Deepak S Patil,dspatil@vishwaniketan.edu.in,9604487875\"]\n",
      "[\"Neha Raut,rautneha3007@gmail.com,Vishwaniketan's Institute of Management Entrepreneurship and Engineering Technology,Female,8.41E+09,CS/IT,2015,85.4,2017,61.38,0,0,2021,60.2,Deepak S Patil,dspatil@vishwaniketan.edu.in,9604487875\"]\n",
      "[\"Riya Juikar,rhjuikar1319@gmail.com,Vishwaniketan's Institute of Management Entrepreneurship and Engineering Technology,Female,7.89E+09,CS/IT,2015,83.8,0,0,2018,65.29,2021,60.2,Deepak S Patil,dspatil@vishwaniketan.edu.in,9604487875\"]\n",
      "[\"Tirth Upadhyay,tirth222222@gmail.com,Vishwaniketan's Institute of Management Entrepreneurship and Engineering Technology,Male,9.08E+09,CS/IT,2015,91.5,2017,74,0,0,2021,64,Deepak S Patil,dspatil@vishwaniketan.edu.in,9604487875\"]\n",
      "[\"Dhanashree Bhosale,dhanashreebhosale91@gmail.com,Vishwaniketan's Institute of Management Entrepreneurship and Engineering Technology,Female,9.61E+09,CS/IT,2015,86.8,2017,63.54,0,0,2021,62.94,Deepak S Patil,dspatil@vishwaniketan.edu.in,9604487875\"]\n",
      "['Sushant Garg,sgarg776@gmail.com,\"Bharati Vidyapeeth, Katraj, Pune\",Male,9.47E+09,EnTC,2014,84,2016,72.8,0,0,2021,67.24,Prof. Nachiket Kulkarni,tpo@bvucoep.edu.in,7558630861']\n",
      "['PINAGANI SURAJ,surajpinagani183@gmail.com,\"Bharati Vidyapeeth, Katraj, Pune\",Male,9.55E+09,EnTC,2015,95,2017,94.9,0,0,2021,80.8,Prof. Nachiket Kulkarni,tpo@bvucoep.edu.in,7558630861']\n",
      "['Karn Singh,kpsingh8960@gmail.com,\"Bharati Vidyapeeth, Katraj, Pune\",Male,8.46E+09,EnTC,2014,95,2016,94,0,0,2021,81,Prof. Nachiket Kulkarni,tpo@bvucoep.edu.in,7558630861']\n",
      "['Ena Nigam,enanigam8@gmai.com,\"Bharati Vidyapeeth, Katraj, Pune\",Female,9.13E+09,EnTC,2016,75.2,2017,59.6,0,0,2021,62.82,Prof. Nachiket Kulkarni,tpo@bvucoep.edu.in,7558630861']\n",
      "['Suresh Kumar,suresh2398kumar@gmail.com,\"Bharati Vidyapeeth, Katraj, Pune\",Male,7.67E+09,EnTC,2014,73,2016,70,0,0,2021,63,Prof. Nachiket Kulkarni,tpo@bvucoep.edu.in,7558630861']\n",
      "['Samridhi Shree,ridhiraina1998@gmail.com,\"Bharati Vidyapeeth, Katraj, Pune\",Female,9.91E+09,EnTC,2015,84,2017,59,0,0,2021,63.5,Prof. Nachiket Kulkarni,tpo@bvucoep.edu.in,7558630861']\n",
      "['Swarna Ray,swarnaray1999@gmail.com,\"Bharati Vidyapeeth, Katraj, Pune\",Female,9.51E+09,CS/IT,2014,95,2016,78,0,0,2021,81,Prof. Nachiket Kulkarni,tpo@bvucoep.edu.in,7558630861']\n",
      "['Binish Lone,binishlone@gmail.com,\"Bharati Vidyapeeth, Katraj, Pune\",Female,7.03E+09,CS/IT,2012,68.2,2014,60,0,0,2019,58,Prof. Nachiket Kulkarni,tpo@bvucoep.edu.in,7558630861']\n",
      "['Satyam Arya,satyamarya1999@gmail.com,\"Bharati Vidyapeeth, Katraj, Pune\",Male,7.70E+09,CS/IT,2015,91,2017,72.5,0,0,2021,67,Prof. Nachiket Kulkarni,tpo@bvucoep.edu.in,7558630861']\n",
      "['Ankana Mukherjee,ankanamukherjee7@gmail.com,\"Bharati Vidyapeeth, Katraj, Pune\",Female,1.00E+10,CS/IT,2015,81,2017,70.2,0,0,2021,66.6,Prof. Nachiket Kulkarni,tpo@bvucoep.edu.in,7558630861']\n",
      "['Soubhagya Ajwani,ajwanisoubhagya@gmail.com,\"Bharati Vidyapeeth, Katraj, Pune\",Male,9.04E+09,CS/IT,2015,92,2017,62.5,0,0,2021,65.1,Prof. Nachiket Kulkarni,tpo@bvucoep.edu.in,7558630861']\n",
      "['ASHIVANI SINGH,ashivani.singh2017@gmail.com,\"Bharati Vidyapeeth, Katraj, Pune\",Male,9.64E+09,CS/IT,2014,86.66,2016,79,0,0,2021,75.5,Prof. Nachiket Kulkarni,tpo@bvucoep.edu.in,7558630861']\n",
      "['Astha Agnihotri,asthaagnihotri45@gmail.com,\"Bharati Vidyapeeth, Katraj, Pune\",Female,9.13E+09,CS/IT,2015,81,2017,87,0,0,2021,63,Prof. Nachiket Kulkarni,tpo@bvucoep.edu.in,7558630861']\n",
      "['Somay Trivedi,somaysomaysomay@gmail.com,\"Bharati Vidyapeeth, Katraj, Pune\",Male,9.61E+09,CS/IT,2015,82,2017,68,0,0,2021,72,Prof. Nachiket Kulkarni,tpo@bvucoep.edu.in,7558630861']\n",
      "['Anindya Gupta,atg.anindthegreat@gmail.com,\"Bharati Vidyapeeth, Katraj, Pune\",Male,9.17E+09,CS/IT,2015,92.2,2017,85,0,0,2021,73.15,Prof. Nachiket Kulkarni,tpo@bvucoep.edu.in,7558630861']\n",
      "['SIDDHANT SINGH,siddhantsingh01021998@gmail.com,\"Bharati Vidyapeeth, Katraj, Pune\",Male,7.36E+09,CS/IT,2014,74,2016,63.5,0,0,2021,62,Prof. Nachiket Kulkarni,tpo@bvucoep.edu.in,7558630861']\n",
      "['Km Pratistha,pratistharai03@gmail.com,\"Bharati Vidyapeeth, Katraj, Pune\",Female,7.36E+09,CS/IT,2014,84.7,2016,80,0,0,2021,70.3,Prof. Nachiket Kulkarni,tpo@bvucoep.edu.in,7558630861']\n",
      "['Devshree Mukherjee,devshreempr@gmail.com,\"Bharati Vidyapeeth, Katraj, Pune\",Female,9.13E+09,CS/IT,2015,67,2017,65,0,0,2021,66,Prof. Nachiket Kulkarni,tpo@bvucoep.edu.in,7558630861']\n",
      "['Atulya Kumari,atulyap1234@gmail.com,\"Bharati Vidyapeeth, Katraj, Pune\",Female,9.12E+09,CS/IT,2015,89.3,2017,70,0,0,2021,64.41,Prof. Nachiket Kulkarni,tpo@bvucoep.edu.in,7558630861']\n",
      "['PRAKHAR SACHAN,sachanricky@gmail.com,\"Bharati Vidyapeeth, Katraj, Pune\",Male,9.79E+09,CS/IT,2014,95,2016,83.6,0,0,2021,73,Prof. Nachiket Kulkarni,tpo@bvucoep.edu.in,7558630861']\n",
      "['Raunak Verma,vermaraunak700@gmail.com,\"Bharati Vidyapeeth, Katraj, Pune\",Male,7.25E+09,CS/IT,2014,70,2016,70,0,0,2021,67,Prof. Nachiket Kulkarni,tpo@bvucoep.edu.in,7558630861']\n",
      "['Sahil Keshri,sahilkeshri1704@gmail.com,\"Bharati Vidyapeeth, Katraj, Pune\",Male,7.03E+09,CS/IT,2015,74,2017,59.6,0,0,2021,67,Prof. Nachiket Kulkarni,tpo@bvucoep.edu.in,7558630861']\n",
      "['Sonal Kumar,sonalkumar8991@gmail.com,\"Bharati Vidyapeeth, Katraj, Pune\",Male,9.83E+09,CS/IT,2014,85.5,2016,69.8,0,0,2021,77.1,Prof. Nachiket Kulkarni,tpo@bvucoep.edu.in,7558630861']\n",
      "['Ananya Rai,arai32524@gmail.com,\"Bharati Vidyapeeth, Katraj, Pune\",Female,9.31E+09,CS/IT,2014,87.4,2016,68,0,0,2021,76,Prof. Nachiket Kulkarni,tpo@bvucoep.edu.in,7558630861']\n",
      "['Pooja Ghadge,poojaghadge7516@gmail.com,\"Bharati Vidyapeeth, Katraj, Pune\",Female,9.55E+09,CS/IT,2013,90,2015,74,0,0,2019,58,Prof. Nachiket Kulkarni,tpo@bvucoep.edu.in,7558630861']\n",
      "['KOMAL RANI,krani4729@gmail.com,\"Bharati Vidyapeeth, Katraj, Pune\",Female,8.71E+09,CS/IT,2014,85,2016,55,0,0,2021,82.5,Prof. Nachiket Kulkarni,tpo@bvucoep.edu.in,7558630861']\n",
      "['SHRUTI PATIL,shruti.patil009@gmail.com,\"Bharati Vidyapeeth\\'s College of Engineering for Women, Dhankawadi, Pune\",Female,8.24E+09,EnTC,2015,94.5,2017,70.6,0,0,2021,73.12,Prof. Kale Pranoti,kpranoti2005@yahoo.com,9890164361']\n",
      "['Bhagyashree Raut,bhagyashreeraut1002@gmail.com,\"Bharati Vidyapeeth\\'s College of Engineering for Women, Dhankawadi, Pune\",Female,7.26E+09,EnTC,2015,86.8,2017,68.62,0,0,2021,69.52,Prof. Kale Pranoti,kpranoti2005@yahoo.com,9890164361']\n",
      "['Rasika Patil,rasikapatil06rocks@gmail.com,\"Bharati Vidyapeeth\\'s College of Engineering for Women, Dhankawadi, Pune\",Female,9.67E+09,EnTC,2014,82.15,2016,62.2,0,0,2021,64.5,Prof. Kale Pranoti,kpranoti2005@yahoo.com,9890164361']\n",
      "['Pragati Kamthe,pragati.kamthe99@gmail.com,\"Bharati Vidyapeeth\\'s College of Engineering for Women, Dhankawadi, Pune\",Female,8.98E+09,EnTC,2015,95,2017,71.02,0,0,2021,78.85,Prof. Kale Pranoti,kpranoti2005@yahoo.com,9890164361']\n",
      "['Gargi Nigade,gargi.vr11@gmail.com,\"Bharati Vidyapeeth\\'s College of Engineering for Women, Dhankawadi, Pune\",Female,7.02E+09,EnTC,2015,93.17,2017,63.23,0,0,2021,73.83,Prof. Kale Pranoti,kpranoti2005@yahoo.com,9890164361']\n",
      "['Prabha Adsul,adsul.prabha1@gmail.com,\"Bharati Vidyapeeth\\'s College of Engineering for Women, Dhankawadi, Pune\",Female,7.06E+09,EnTC,2014,78,2016,61.85,0,0,2021,62.04,Prof. Kale Pranoti,kpranoti2005@yahoo.com,9890164361']\n",
      "['Seemarn Parate,seemranparate9@gmail.com,\"Bharati Vidyapeeth\\'s College of Engineering for Women, Dhankawadi, Pune\",Female,7.97E+09,EnTC,2014,83.23,2016,65.26,0,0,2021,65.89,Prof. Kale Pranoti,kpranoti2005@yahoo.com,9890164361']\n",
      "['Samruddhi ManeDeshmukh,samrudhimd999@gmail.com,\"Bharati Vidyapeeth\\'s College of Engineering for Women, Dhankawadi, Pune\",Female,7.08E+09,EnTC,2015,88,2017,71,0,0,2021,64.82,Prof. Kale Pranoti,kpranoti2005@yahoo.com,9890164361']\n",
      "['Alisha Bhiwgade,alishabhiwgade1112@gmail.com,\"Bharati Vidyapeeth\\'s College of Engineering for Women, Dhankawadi, Pune\",Female,9.83E+09,EnTC,2015,93.6,2017,74.9,0,0,2021,61.51,Prof. Kale Pranoti,kpranoti2005@yahoo.com,9890164361']\n",
      "['Ankita Mandke,admandke@gmail.com,\"Bharati Vidyapeeth\\'s College of Engineering for Women, Dhankawadi, Pune\",Female,8.01E+09,EnTC,2015,90.2,2017,61.23,0,0,2021,57.64,Prof. Kale Pranoti,kpranoti2005@yahoo.com,9890164361']\n",
      "['Mayuri Deshmukh,mayurideshmukh7747@gmail.com,\"Bharati Vidyapeeth\\'s College of Engineering for Women, Dhankawadi, Pune\",Female,9.58E+09,EnTC,2015,95.8,2017,78.31,0,0,2021,68.71,Prof. Kale Pranoti,kpranoti2005@yahoo.com,9890164361']\n",
      "['Sujata Kumari,sujatakc19@gmail.com,\"Bharati Vidyapeeth\\'s College of Engineering for Women, Dhankawadi, Pune\",Female,8.10E+09,EnTC,2015,91.2,2017,74,0,0,2021,72.33,Prof. Kale Pranoti,kpranoti2005@yahoo.com,9890164361']\n",
      "['Pranali Nanaware,pranalinanaware100@gmail.com,\"Bharati Vidyapeeth\\'s College of Engineering for Women, Dhankawadi, Pune\",Female,7.38E+09,EnTC,2015,89.6,2017,72.15,0,0,2021,65.73,Prof. Kale Pranoti,kpranoti2005@yahoo.com,9890164361']\n",
      "['Pranita Dharmadhikari,pranitadharma98@gmail.com,\"Bharati Vidyapeeth\\'s College of Engineering for Women, Dhankawadi, Pune\",Female,9.66E+09,EnTC,2014,87.4,2016,57.38,0,0,2021,62.27,Prof. Kale Pranoti,kpranoti2005@yahoo.com,9890164361']\n",
      "['Deepika Patil,deepikapatil018@gmail.com,\"Bharati Vidyapeeth\\'s College of Engineering for Women, Dhankawadi, Pune\",Female,7.08E+09,EnTC,2015,85.5,2017,61,0,0,2021,65.12,Prof. Kale Pranoti,kpranoti2005@yahoo.com,9890164361']\n",
      "['Priyanka Tripathi,soniatripathi1999@gmail.com,\"Bharati Vidyapeeth\\'s College of Engineering for Women, Dhankawadi, Pune\",Female,7.26E+09,EnTC,2015,85.5,2017,74.2,0,0,2021,75.76,Prof. Kale Pranoti,kpranoti2005@yahoo.com,9890164361']\n",
      "['Madhu Mule,mulemadhu20@gmail.com,\"Bharati Vidyapeeth\\'s College of Engineering for Women, Dhankawadi, Pune\",Female,8.28E+09,EnTC,2015,95,2017,79.85,0,0,2021,76.73,Prof. Kale Pranoti,kpranoti2005@yahoo.com,9890164361']\n",
      "['Samiksha Barbhai,samikshabarbhai18@gmail.com,\"Bharati Vidyapeeth\\'s College of Engineering for Women, Dhankawadi, Pune\",Female,7.04E+09,EnTC,2015,89.22,2017,68.77,0,0,2021,57.71,Prof. Kale Pranoti,kpranoti2005@yahoo.com,9890164361']\n",
      "['Dnyaneshvari Vedpathak,dsvedpathak50@gmail.com,\"Bharati Vidyapeeth\\'s College of Engineering for Women, Dhankawadi, Pune\",Female,8.46E+09,EnTC,2015,81.6,2017,66.15,0,0,2018,60.19,Prof. Kale Pranoti,kpranoti2005@yahoo.com,9890164361']\n",
      "['Sharayu Parakh,sharayup1999@gmail.com,\"Bharati Vidyapeeth\\'s College of Engineering for Women, Dhankawadi, Pune\",Female,7.25E+09,EnTC,2015,82.8,2017,60.7,0,0,2021,61.95,Prof. Kale Pranoti,kpranoti2005@yahoo.com,9890164361']\n",
      "['Gauri Janawade,gaurijanawade@gmail.com,\"Bharati Vidyapeeth\\'s College of Engineering for Women, Dhankawadi, Pune\",Female,9.97E+09,EnTC,2015,88,2017,77.38,0,0,2021,69.25,Prof. Kale Pranoti,kpranoti2005@yahoo.com,9890164361']\n",
      "['ACHAL YEDE,achalyede107@gmail.com,\"Bharati Vidyapeeth\\'s College of Engineering for Women, Dhankawadi, Pune\",Female,7.26E+09,EnTC,2015,83.03,2017,62,0,0,2021,65.3,Prof. Kale Pranoti,kpranoti2005@yahoo.com,9890164361']\n",
      "['Divya Bharti,divyabharti1101@gmail.com,\"Bharati Vidyapeeth\\'s College of Engineering for Women, Dhankawadi, Pune\",Female,8.80E+09,EnTC,2014,90,2016,76.4,0,0,2021,76.56,Prof. Kale Pranoti,kpranoti2005@yahoo.com,9890164361']\n",
      "['Varsha Saindane,varshasaindane8640@gmail.com,\"Bharati Vidyapeeth\\'s College of Engineering for Women, Dhankawadi, Pune\",Female,8.24E+09,EnTC,2015,85.8,0,0,2018,77.53,2021,58.26,Prof. Kale Pranoti,kpranoti2005@yahoo.com,9890164361']\n",
      "['Sindhu M,sindhum5600@gmail.com,\"Bharati Vidyapeeth\\'s College of Engineering for Women, Dhankawadi, Pune\",Female,9.76E+09,EnTC,2015,77.9,2017,77.8,0,0,2021,62,Prof. Kale Pranoti,kpranoti2005@yahoo.com,9890164361']\n",
      "['Vishvali Kusangwar,vishnk07@gmail.com,\"Bharati Vidyapeeth\\'s College of Engineering for Women, Dhankawadi, Pune\",Female,8.49E+09,EnTC,2015,91.2,2017,64.98,0,0,2021,71.5,Prof. Kale Pranoti,kpranoti2005@yahoo.com,9890164361']\n",
      "['Mayuri Khadke,mayurivkhadke@gmail.com,\"Bharati Vidyapeeth\\'s College of Engineering for Women, Dhankawadi, Pune\",Female,9.40E+09,EnTC,2015,86.8,2017,64,0,0,2021,55.44,Prof. Kale Pranoti,kpranoti2005@yahoo.com,9890164361']\n",
      "['Nayan Vyas,nayanvyas09@gmail.com,\"Bharati Vidyapeeth\\'s College Of Engineering Lavale, Pune\",Male,8.23E+09,EnTC,2015,92,2017,87.37,0,0,2021,59.5,Ajay Katkar,ajayakatkar@gmail.com,9920699090 / 9226337736']\n",
      "['Amey Raghatate,raghuraghatate@gmail.com,\"Bharati Vidyapeeth\\'s College Of Engineering Lavale, Pune\",Male,9.55E+09,EnTC,2015,86.4,2017,65,0,0,2021,59,Ajay Katkar,ajayakatkar@gmail.com,9920699090 / 9226337736']\n",
      "['Chandrakant Desai,desaics259@gmail.com,\"Bharati Vidyapeeth\\'s College Of Engineering Lavale, Pune\",Male,7.22E+09,EnTC,2015,89,2017,74.47,0,0,2021,69,Ajay Katkar,ajayakatkar@gmail.com,9920699090 / 9226337736']\n",
      "['Neha Sarode,nehasarode699@gmail.com,\"Bharati Vidyapeeth\\'s College of Engineering for Women, Dhankawadi, Pune\",Female,8.43E+09,CS/IT,2015,94.2,2017,71.68,0,0,2021,64.24,Prof. Kale Pranoti,kpranoti2005@yahoo.com,9890164361']\n",
      "['Shweta Chindhe,swetaschindhe@gmail.com,\"Bharati Vidyapeeth\\'s College of Engineering for Women, Dhankawadi, Pune\",Female,9.77E+09,CS/IT,2015,93.2,2017,81.67,0,0,2021,76.39,Prof. Kale Pranoti,kpranoti2005@yahoo.com,9890164361']\n",
      "['Sayali Kedar,sayaliskedar@gmail.com,\"Bharati Vidyapeeth\\'s College of Engineering for Women, Dhankawadi, Pune\",Female,9.77E+09,CS/IT,2015,80,2017,60.4,0,0,2021,71.8,Prof. Kale Pranoti,kpranoti2005@yahoo.com,9890164361']\n",
      "['Chaitali Bagal,chaitalibagal24@gmail.com,\"Bharati Vidyapeeth\\'s College of Engineering for Women, Dhankawadi, Pune\",Female,9.52E+09,CS/IT,2015,92.4,2017,76.66,0,0,2021,75.41,Prof. Kale Pranoti,kpranoti2005@yahoo.com,9890164361']\n",
      "['Payal Taralekar,payaltaralekar123@gmail.com,\"Bharati Vidyapeeth\\'s College of Engineering for Women, Dhankawadi, Pune\",Female,7.39E+09,CS/IT,2015,81,2017,74.95,0,0,2021,69.52,Prof. Kale Pranoti,kpranoti2005@yahoo.com,9890164361']\n",
      "['Aarti Bhat,aartibhat1010@gmail.com,\"Bharati Vidyapeeth\\'s College of Engineering for Women, Dhankawadi, Pune\",Female,9.83E+09,CS/IT,2015,90.8,2017,79.54,0,0,2021,68.44,Prof. Kale Pranoti,kpranoti2005@yahoo.com,9890164361']\n",
      "['Meenakshi Sinha,meenakshisinha2012@gmail.com,\"Bharati Vidyapeeth\\'s College of Engineering for Women, Dhankawadi, Pune\",Female,9.10E+09,CS/IT,2015,77,2017,79.86,0,0,2021,77.88,Prof. Kale Pranoti,kpranoti2005@yahoo.com,9890164361']\n",
      "['Pooja Varghat,varghatpooja15@gmail.com,\"Bharati Vidyapeeth\\'s College of Engineering for Women, Dhankawadi, Pune\",Female,7.89E+09,CS/IT,2015,91.8,0,0,2018,74.43,2021,71.2,Prof. Kale Pranoti,kpranoti2005@yahoo.com,9890164361']\n",
      "['Asmita Khatate,asmikhatate23@gmail.com,\"Bharati Vidyapeeth\\'s College of Engineering for Women, Dhankawadi, Pune\",Female,9.76E+09,CS/IT,2015,90,2017,83.23,0,0,2021,68.51,Prof. Kale Pranoti,kpranoti2005@yahoo.com,9890164361']\n",
      "['Kavya G,kavyasruthi916@gmail.com,\"Bharati Vidyapeeth\\'s College of Engineering for Women, Dhankawadi, Pune\",Female,9.28E+09,CS/IT,2015,85.5,2017,78,0,0,2021,75.49,Prof. Kale Pranoti,kpranoti2005@yahoo.com,9890164361']\n",
      "['Shraddha Thorve,shraddhathorve203@gmail.com,\"Bharati Vidyapeeth\\'s College of Engineering for Women, Dhankawadi, Pune\",Female,7.06E+09,CS/IT,2014,92.8,2017,79.52,0,0,2021,74.18,Prof. Kale Pranoti,kpranoti2005@yahoo.com,9890164361']\n",
      "['Himani Jangale,jangalehimani08@gmail.com,\"Bharati Vidyapeeth\\'s College of Engineering for Women, Dhankawadi, Pune\",Female,7.56E+09,CS/IT,2015,94.2,2017,81.46,0,0,2021,77.17,Prof. Kale Pranoti,kpranoti2005@yahoo.com,9890164361']\n",
      "['Rajshree Ghatkar,rajshreeghatkar25@gmail.com,\"Bharati Vidyapeeth\\'s College of Engineering for Women, Dhankawadi, Pune\",Female,7.88E+09,CS/IT,2015,81.2,2017,70.26,0,0,2021,74.09,Prof. Kale Pranoti,kpranoti2005@yahoo.com,9890164361']\n",
      "['Shubhangi Birajdar,shubhangibirajdar9423@gmail.com,\"Bharati Vidyapeeth\\'s College of Engineering for Women, Dhankawadi, Pune\",Female,9.62E+09,CS/IT,2015,93.2,0,0,2018,85.94,2021,76.03,Prof. Kale Pranoti,kpranoti2005@yahoo.com,9890164361']\n",
      "['Arati Khopade,aratikhopade0909@gmail.com,\"Bharati Vidyapeeth\\'s College of Engineering for Women, Dhankawadi, Pune\",Female,9.73E+09,CS/IT,2015,90.6,2017,73.69,0,0,2021,69.69,Prof. Kale Pranoti,kpranoti2005@yahoo.com,9890164361']\n",
      "['Khushabu Khinvasara,khushabukhinvasara@gmail.com,\"Bharati Vidyapeeth\\'s College of Engineering for Women, Dhankawadi, Pune\",Female,7.04E+09,CS/IT,2015,93.8,0,0,2018,86.93,2021,76.91,Prof. Kale Pranoti,kpranoti2005@yahoo.com,9890164361']\n",
      "['Priyanka Bagal,bagalpiyu@gmail.com,\"Bharati Vidyapeeth\\'s College of Engineering for Women, Dhankawadi, Pune\",Female,9.28E+09,CS/IT,2015,92.8,2017,85,0,0,2021,74.88,Prof. Kale Pranoti,kpranoti2005@yahoo.com,9890164361']\n",
      "['Shubhangi Gund,shubhangigund1999@gmail.com,\"Bharati Vidyapeeth\\'s College of Engineering for Women, Dhankawadi, Pune\",Female,9.28E+09,CS/IT,2015,88.6,2017,82.99,0,0,2021,80.17,Prof. Kale Pranoti,kpranoti2005@yahoo.com,9890164361']\n",
      "['Harshada Jedhe,harshadamj5@gmail.com,\"Bharati Vidyapeeth\\'s College of Engineering for Women, Dhankawadi, Pune\",Female,8.89E+09,CS/IT,2015,92.2,2017,75.23,0,0,2021,71.27,Prof. Kale Pranoti,kpranoti2005@yahoo.com,9890164361']\n",
      "['Priyanka Bodke,priyankabodke345@gmail.com,\"Bharati Vidyapeeth\\'s College of Engineering for Women, Dhankawadi, Pune\",Female,8.98E+09,CS/IT,2015,87,2017,68.59,0,0,2021,68,Prof. Kale Pranoti,kpranoti2005@yahoo.com,9890164361']\n",
      "['Pradnya Dolthade,pradnyadolthade236@gmail.com,\"Bharati Vidyapeeth\\'s College of Engineering for Women, Dhankawadi, Pune\",Female,8.70E+09,CS/IT,2015,90.8,2017,78,0,0,2021,64.06,Prof. Kale Pranoti,kpranoti2005@yahoo.com,9890164361']\n",
      "['Siddhant Kulkarni,siddhantpk@gmail.com,\"Dr. D.Y. Patil Institute of Engineering, Management and Research, Akurdi, Pune\",Male,9.00E+09,EnTC,2014,93,2016,70,0,0,2021,70,Heeresh Khatri,tpo@dypcoeakurdi.ac.in,9923963332']\n",
      "['Aditi Sinha,aditisinha906@gmail.com,\"Dr. D.Y. Patil Institute of Engineering, Management and Research, Akurdi, Pune\",Female,8.10E+09,EnTC,2015,85,2017,89,0,0,2021,66.9,Heeresh Khatri,tpo@dypcoeakurdi.ac.in,9923963332']\n",
      "['Anju Sailas,anjucdas09@gmail.com,\"D.Y. Patil College of Engineering, Akurdi, Pune\",Female,9.92E+09,EnTC,2013,91.09,2015,81.85,0,0,2021,71.24,Heeresh Khatri,tpo@dypcoeakurdi.ac.in,9923963332']\n",
      "['Vedant Phulkar,vedantphulkar123@gmail.com,\"Dr. D.Y. Patil Institute of Engineering, Management and Research, Akurdi, Pune\",Male,8.38E+09,EnTC,2015,85.2,2017,66.6,0,0,2021,70,Heeresh Khatri,tpo@dypcoeakurdi.ac.in,9923963332']\n",
      "['Kedar Shiral,shiralkedar@gmail.com,\"D.Y. Patil College of Engineering, Akurdi, Pune\",Male,7.25E+09,EnTC,2015,91.8,2017,71.85,0,0,2021,69.71,Heeresh Khatri,tpo@dypcoeakurdi.ac.in,9923963332']\n",
      "['RAHUL MATHAPATI,rahul.mathapati09@gmail.com,\"D.Y. Patil College of Engineering, Akurdi, Pune\",Male,9.56E+09,EnTC,2015,81,2017,76.92,0,0,2021,71,Heeresh Khatri,tpo@dypcoeakurdi.ac.in,9923963332']\n",
      "['Monika Bhat,monikabhat57@gmail.com,\"Dr. D.Y. Patil Institute of Engineering, Management and Research, Akurdi, Pune\",Female,7.08E+09,EnTC,2015,88,2017,82,0,0,2021,69,Heeresh Khatri,tpo@dypcoeakurdi.ac.in,9923963332']\n",
      "['Pawan Srivastava,pawansrivastava.1234@gmail.com,\"D.Y. Patil College of Engineering, Akurdi, Pune\",Male,9.65E+09,EnTC,2014,82.2,2016,74,0,0,2021,64,Heeresh Khatri,tpo@dypcoeakurdi.ac.in,9923963332']\n",
      "['Sarang Tawale,sarangtawale08@gmail.com,\"Dr. D.Y. Patil Institute of Engineering, Management and Research, Akurdi, Pune\",Male,9.13E+09,EnTC,2015,95,2017,82,0,0,2021,70,Heeresh Khatri,tpo@dypcoeakurdi.ac.in,9923963332']\n",
      "['Ashish Giri,ashishgiri.1999@gmail.com,\"D.Y. Patil College of Engineering, Akurdi, Pune\",Male,9.15E+09,EnTC,2015,83.8,2017,80.6,0,0,2021,69.4,Heeresh Khatri,tpo@dypcoeakurdi.ac.in,9923963332']\n",
      "['PRANAV SHAH,pranav98shah@gmail.com,\"Dr. D.Y. Patil Institute of Engineering, Management and Research, Akurdi, Pune\",Male,9.89E+09,EnTC,2015,82,2017,86,0,0,2021,69,Heeresh Khatri,tpo@dypcoeakurdi.ac.in,9923963332']\n",
      "['Shubham Kumarbhardwaj,shubhammanas98@gmail.com,\"D.Y. Patil College of Engineering, Akurdi, Pune\",Male,7.99E+09,EnTC,2015,93.1,2017,78.4,0,0,2021,72.34,Heeresh Khatri,tpo@dypcoeakurdi.ac.in,9923963332']\n",
      "['Swaleha Momin,swalehamomin6@gmail.com,\"Dr. D.Y. Patil Institute of Engineering, Management and Research, Akurdi, Pune\",Female,7.52E+09,EnTC,2014,89.2,2016,83.05,0,0,2021,62,Heeresh Khatri,tpo@dypcoeakurdi.ac.in,9923963332']\n",
      "['Shubham Arle,shubhamarle@gmail.com,\"D.Y. Patil College of Engineering, Akurdi, Pune\",Male,9.82E+09,CS/IT,2015,92,2017,78,0,0,2021,70.55,Heeresh Khatri,tpo@dypcoeakurdi.ac.in,9923963332']\n",
      "['Karan Dhangar,karandhangar999@gmail.com,\"D.Y. Patil College of Engineering, Akurdi, Pune\",Male,9.67E+09,CS/IT,2015,92.64,2017,74.74,0,0,2021,80.6,Heeresh Khatri,tpo@dypcoeakurdi.ac.in,9923963332']\n",
      "['Shrirang Diwakar,shrirang4444@gmail.com,\"D.Y. Patil College of Engineering, Akurdi, Pune\",Male,9.31E+09,CS/IT,2015,91,2017,78,0,0,2021,81.02,Heeresh Khatri,tpo@dypcoeakurdi.ac.in,9923963332']\n",
      "['Shipra Banerjee,banerjeeshipra28@gmail.com,\"Trinity Academy of Engineering, Pune\",Female,8.61E+09,CS/IT,2015,90.01,2017,69.71,0,0,2021,61.23,Anil S. Agrawal,asagrawal@yahoo.com,9422287243']\n",
      "['Smita Chavan,chavansmita8084@gmail.com,\"Trinity College of Engineering and Research, Pune\",Female,9.12E+09,CS/IT,2015,77,2017,74.92,0,0,2021,70,Anil S. Agrawal,asagrawal@yahoo.com,9422287243']\n",
      "['Pooja Tilekar,poojadtilekar@gmail.com,\"Trinity Academy of Engineering, Pune\",Female,7.04E+09,CS/IT,2015,90.6,2017,68,0,0,2021,57,Anil S. Agrawal,asagrawal@yahoo.com,9422287243']\n",
      "['Bhavik Khatri,bhavik11khatri@gmail.com,\"K. J. College of Engineering and Management Research, Pune\",Male,8.41E+09,CS/IT,2015,83.5,2017,64.6,0,0,2021,66.7,Anil S. Agrawal,asagrawal@yahoo.com,9422287243']\n",
      "['Bharat Choudhary,choudharybharat9988@gmail.com,\"K. J. College of Engineering and Management Research, Pune\",Male,9.55E+09,CS/IT,2015,85.5,2017,60.77,0,0,2021,65.51,Anil S. Agrawal,asagrawal@yahoo.com,9422287243']\n",
      "['Pratiksha Dhavale,pratikshabdhavale@gmail.com,\"K. J. College of Engineering and Management Research, Pune\",Female,7.06E+09,CS/IT,2015,92.4,2017,75.85,0,0,2021,70,Anil S. Agrawal,asagrawal@yahoo.com,9422287243']\n",
      "['Sarthak Tejale,sarthaktejale@gmail.com,\"K. J. College of Engineering and Management Research, Pune\",Male,8.60E+09,CS/IT,2012,78,2014,60,0,0,2021,60.4,Anil S. Agrawal,asagrawal@yahoo.com,9422287243']\n",
      "['Vinayak Tupe,vinayakphadtare9822@gmail.com,\"Trinity Academy of Engineering, Pune\",Male,8.67E+09,CS/IT,2015,74.6,0,0,2018,87.5,2021,75.68,Anil S. Agrawal,asagrawal@yahoo.com,']\n",
      "['Adarsh Pawar,ramganeshpawar@gmail.com,\"Trinity Academy of Engineering, Pune\",Male,8.89E+09,CS/IT,2015,78,2017,76,0,0,2021,60,Anil S. Agrawal,asagrawal@yahoo.com,']\n",
      "['Rajshekhar Swami,rs03461@gmail.com,\"Trinity Academy of Engineering, Pune\",Male,9.86E+09,CS/IT,2008,70.61,0,0,2018,68.12,2021,57,Anil S. Agrawal,asagrawal@yahoo.com,']\n",
      "['Yuvraj Jadhav,yuvrajjadhav28@gmail.com,\"Trinity College of Engineering and Research, Pune\",Male,7.77E+09,CS/IT,2015,73.33,0,0,2018,76.35,2021,70.75,Anil S. Agrawal,asagrawal@yahoo.com,']\n",
      "['Rohan Bhalerao,rohandbhalerao7906@gmail.com,\"Trinity Academy of Engineering, Pune\",Male,7.77E+09,CS/IT,2013,81.8,2015,80,2018,85.56,2021,58,Anil S. Agrawal,asagrawal@yahoo.com,']\n",
      "['Nilesh Ramteke,nileshramteke07@gmail.com,\"K. J. College of Engineering and Management Research, Pune\",Male,8.15E+09,CS/IT,2012,60.36,0,0,2016,66,2021,65,Anil S. Agrawal,asagrawal@yahoo.com,9422287243']\n",
      "['SAHIL MEMON,sahilmemon988@gmail.com,\"K. J. College of Engineering and Management Research, Pune\",Male,9.69E+09,CS/IT,2013,60,2015,56,0,0,2021,65,Anil S. Agrawal,asagrawal@yahoo.com,9422287243']\n",
      "['Abhishek Padalklar,abhipadalkar8335@gmail.com,\"K. J. College of Engineering and Management Research, Pune\",Male,8.55E+09,CS/IT,2014,79.8,2016,56,0,0,2021,60,Anil S. Agrawal,asagrawal@yahoo.com,9422287243']\n",
      "['Priya Jadhav,priyajadhav51@gmail.com,\"Trinity Academy of Engineering, Pune\",Female,8.38E+09,CS/IT,2015,78,2017,68.2,0,0,2021,65.82,Anil S. Agrawal,asagrawal@yahoo.com,']\n",
      "['Rohit Kadam,kadamr0604@gmail.com,\"Trinity Academy of Engineering, Pune\",Male,7.35E+09,CS/IT,2014,87,2016,58,0,0,2021,57.02,Anil S. Agrawal,asagrawal@yahoo.com,']\n",
      "['Shruti Karad,karadshruti1699@gmail.com,\"Trinity College of Engineering and Research, Pune\",Female,9.66E+09,CS/IT,2015,88.8,2017,76.92,0,0,2021,64.76,Anil S. Agrawal,asagrawal@yahoo.com,']\n",
      "['Pratiksha Raut,pratiksharaut180@gmail.com,\"K. J. College of Engineering and Management Research, Pune\",Female,8.46E+09,CS/IT,2015,89.8,2017,71.23,0,0,2021,68.55,Anil S. Agrawal,asagrawal@yahoo.com,9422287243']\n",
      "['Sayyam Darzi,sayyamd1999@gmail.com,\"Trinity College of Engineering and Research, Pune\",Male,9.50E+09,CS/IT,2015,79.2,2017,68.92,0,0,2021,61,Anil S. Agrawal,asagrawal@yahoo.com,']\n",
      "['Aditya Dongre,dongre.khed@gmail.com,\"Trinity College of Engineering and Research, Pune\",Male,9.55E+09,CS/IT,2015,91.8,2017,73.23,0,0,2021,68.88,Anil S. Agrawal,asagrawal@yahoo.com,']\n",
      "['Azhar Hakim,azarhakim55@gmail.com,\"Trinity Academy of Engineering, Pune\",Male,9.86E+09,CS/IT,2014,75,0,0,2018,70.4,2021,60,Anil S. Agrawal,asagrawal@yahoo.com,']\n",
      "['Afeef Shaikh,afeefshaikh01@gmail.com,\"Trinity College of Engineering and Research, Pune\",Male,9.83E+09,CS/IT,2014,82.8,2016,67,0,0,2021,61,Anil S. Agrawal,asagrawal@yahoo.com,']\n",
      "['Abhishek Ubare,abhiubare7758048782@gmail.com,\"K. J. College of Engineering and Management Research, Pune\",Male,8.33E+09,CS/IT,2015,87,2017,70,0,0,2021,66,Anil S. Agrawal,asagrawal@yahoo.com,9422287243']\n",
      "['Vishwanath Kalshetti,vishalkalshetti2@gmail.com,\"K. J. College of Engineering and Management Research, Pune\",Male,7.02E+09,CS/IT,2015,74.6,2017,55.92,0,0,2021,56.32,Anil S. Agrawal,asagrawal@yahoo.com,9422287243']\n",
      "['Harsh Shah,harshshah7060@gmail.com,\"Trinity Academy of Engineering, Pune\",Male,8.79E+09,CS/IT,2015,70.2,2017,60,0,0,2021,73.92,Anil S. Agrawal,asagrawal@yahoo.com,']\n",
      "['Sanket Rasal,sanketwin@gmail.com,\"K. J. College of Engineering and Management Research, Pune\",Male,9.77E+09,CS/IT,2013,83.64,2015,62.62,0,0,2021,61.4,Anil S. Agrawal,asagrawal@yahoo.com,9422287243']\n",
      "['Karthik Moolya,kartikkulal@gmail.com,\"K. J. College of Engineering and Management Research, Pune\",Male,9.67E+09,CS/IT,2013,72.96,2015,59.69,0,0,2021,56.23,Anil S. Agrawal,asagrawal@yahoo.com,9422287243']\n",
      "['Karan Mangla,karan.mangla73@gmail.com,\"Trinity College of Engineering and Research, Pune\",Male,8.96E+09,CS/IT,2014,78,2016,67,0,0,2021,56.6,Anil S. Agrawal,asagrawal@yahoo.com,']\n",
      "['SAIF MULLA,saifmulla444@gmail.com,\"K. J. College of Engineering and Management Research, Pune\",Male,7.07E+09,CS/IT,2015,82.2,2017,69.29,0,0,2021,66.21,Anil S. Agrawal,asagrawal@yahoo.com,9422287243']\n",
      "['Musarrat Bakali,musarrat.bakali@gmail.com,\"Trinity College of Engineering and Research, Pune\",Female,8.67E+09,CS/IT,2014,87.4,2016,61,0,0,2021,66.8,Anil S. Agrawal,asagrawal@yahoo.com,']\n",
      "['Vaishnavi Kocheta,unnatikocheta@gmail.com,\"Trinity College of Engineering and Research, Pune\",Female,8.83E+09,CS/IT,2014,82,2016,63.69,0,0,2021,60,Anil S. Agrawal,asagrawal@yahoo.com,']\n",
      "['Aishwarya Kardile,aishwaryakardile2000@gmail.com,\"Trinity Academy of Engineering, Pune\",Female,7.35E+09,CS/IT,2015,88,2017,65.38,0,0,2021,62.12,Anil S. Agrawal,asagrawal@yahoo.com,']\n",
      "['Rahul Chavan,rc69764@gmail.com,\"K. J. College of Engineering and Management Research, Pune\",Male,9.51E+09,CS/IT,2015,74.78,2017,58.6,0,0,2021,58,Anil S. Agrawal,asagrawal@yahoo.com,9422287243']\n",
      "['Sohail Shaikh,sohailkool850@gmail.com,\"K. J. College of Engineering and Management Research, Pune\",Male,9.51E+09,CS/IT,2015,84.6,2017,58.6,0,0,2021,57.55,Anil S. Agrawal,asagrawal@yahoo.com,9422287243']\n",
      "['Priya Ghadge,priyaghadge59@gmail.com,\"Trinity College of Engineering and Research, Pune\",Female,7.22E+09,CS/IT,2015,88.6,2017,68,0,0,2021,56,Anil S. Agrawal,asagrawal@yahoo.com,']\n",
      "['Swarnim Razdan,razdan.swarnim@gmail.com,\"Trinity College of Engineering and Research, Pune\",Male,9.82E+09,CS/IT,2013,90,2015,70,0,0,2021,60,Anil S. Agrawal,asagrawal@yahoo.com,']\n",
      "['REHAAN DAFEDAR,dafedarray@gmail.com,\"K. J. College of Engineering and Management Research, Pune\",Male,9.03E+09,CS/IT,2014,83.5,2016,74.15,0,0,2021,62.54,Anil S. Agrawal,asagrawal@yahoo.com,9422287243']\n",
      "['SHUBHAM MANDHARE,shubhammandhare11@gmail.com,\"K. J. College of Engineering and Management Research, Pune\",Male,9.77E+09,CS/IT,2014,72,2016,58,0,0,2021,62,Anil S. Agrawal,asagrawal@yahoo.com,9422287243']\n",
      "['Damini Khedekar,khedekardamini15@gmail.com,\"Trinity College of Engineering and Research, Pune\",Female,9.66E+09,CS/IT,2015,84,0,0,2018,70,2021,61,Anil S. Agrawal,asagrawal@yahoo.com,']\n",
      "['Mansi Sharma,mansisharma1299@gmail.com,\"K. J. College of Engineering and Management Research, Pune\",Female,9.60E+09,CS/IT,2015,86,2017,66,0,0,2021,58,Anil S. Agrawal,asagrawal@yahoo.com,9422287243']\n",
      "['MOHINI LOKHANDE,mohinilokhande2309@gmail.com,\"Trinity College of Engineering and Research, Pune\",Female,9.77E+09,CS/IT,2015,80.4,2017,56.92,0,0,2021,56,Anil S. Agrawal,asagrawal@yahoo.com,']\n",
      "['Pornima Shirsat,pornimashirsat25@gmail.com,\"Trinity College of Engineering and Research, Pune\",Female,9.60E+09,CS/IT,2015,85,2017,57.32,0,0,2021,60,Anil S. Agrawal,asagrawal@yahoo.com,']\n",
      "['Snehal Jambhulkar,snehaljmbhlkr22@gmail.com,\"Trinity College of Engineering and Research, Pune\",Female,8.61E+09,CS/IT,2015,80.8,2017,57.08,0,0,2021,59.45,Anil S. Agrawal,asagrawal@yahoo.com,']\n",
      "['Sonali Bhingarkar,bhingarkarsonali106@gmail.com,\"K. J. College of Engineering and Management Research, Pune\",Female,7.22E+09,CS/IT,2015,88,2017,56.46,0,0,2021,65,Anil S. Agrawal,asagrawal@yahoo.com,9422287243']\n",
      "['Nilam Divekar,divekarnilam9@gmail.com,\"K. J. College of Engineering and Management Research, Pune\",Female,7.03E+09,CS/IT,2014,74.8,2016,60,0,0,2021,58,Anil S. Agrawal,asagrawal@yahoo.com,9422287243']\n",
      "['SAMIKSHA KAD,kadsamiksha347@gmail.com,\"K. J. College of Engineering and Management Research, Pune\",Female,9.52E+09,CS/IT,2015,78,2017,78,0,0,2021,60,Anil S. Agrawal,asagrawal@yahoo.com,9422287243']\n",
      "['Anisha Chavan,ani10.benj@gmail.com,\"K. J. College of Engineering and Management Research, Pune\",Female,8.86E+09,CS/IT,2015,80,2017,62.5,0,0,2021,56,Anil S. Agrawal,asagrawal@yahoo.com,9422287243']\n",
      "['Neha Jadhav,neha05jadhav@gmail.com,\"Trinity College of Engineering and Research, Pune\",Female,9.55E+09,CS/IT,2015,88.15,0,0,2018,81.53,2021,69.69,Anil S. Agrawal,asagrawal@yahoo.com,']\n",
      "['Swaroopa Kanse,swarupak297@gmail.com,\"Trinity Academy of Engineering, Pune\",Female,8.86E+09,CS/IT,2013,76.49,2015,63,0,0,2021,55.4,Anil S. Agrawal,asagrawal@yahoo.com,']\n",
      "['NEHA JAGADALE,nehajagadale8@gmail.com,\"Trinity Academy of Engineering, Pune\",Female,7.74E+09,CS/IT,2015,88.2,0,0,2018,79.2,2021,67.76,Anil S. Agrawal,asagrawal@yahoo.com,']\n",
      "['Kajal Kudale,kajalkudale22@gmail.com,\"Trinity College of Engineering and Research, Pune\",Female,7.72E+09,CS/IT,2015,83.4,2017,76.92,0,0,2021,70.48,Anil S. Agrawal,asagrawal@yahoo.com,']\n",
      "['Harshada Patil,harshadapatilh6574@gmail.com,\"Keystone School of Engineering, Pune\",Female,9.03E+09,CS/IT,2015,89.6,2017,73.5,0,0,2021,70.84,Bharat Bhushan,bbsud1@gmail.com,9822038944']\n",
      "['Shrutik Vikhe,shrutikvikhe99@gmail.com,\"Keystone School of Engineering, Pune\",Male,7.72E+09,CS/IT,2015,70.4,2017,69.6,0,0,2021,62.65,Bharat Bhushan,bbsud1@gmail.com,9822038944']\n",
      "['Mayuri Phadtare,phadtaremayuri7342@gmaol.com,\"Keystone School of Engineering, Pune\",Female,7.25E+09,CS/IT,2014,91.6,2016,63.68,0,0,2021,69.7,Bharat Bhushan,bbsud1@gmail.com,9822038944']\n",
      "['Sabari Karmakar,sabari.karmakar@gmail.com,\"Keystone School of Engineering, Pune\",Female,7.04E+09,CS/IT,2015,82.6,2017,62.2,0,0,2021,63,Bharat Bhushan,bbsud1@gmail.com,9822038944']\n",
      "['Atharva Pathak,atharvapathak28@gmail.com,\"Keystone School of Engineering, Pune\",Male,7.52E+09,CS/IT,2015,90,2017,67.34,0,0,2021,70.28,Bharat Bhushan,bbsud1@gmail.com,9822038944']\n",
      "['Kunal Mohta,kunalmohta@gmail.com,\"Keystone School of Engineering, Pune\",Male,9.55E+09,CS/IT,2015,92,2017,70,0,0,2021,75,Bharat Bhushan,bbsud1@gmail.com,9822038944']\n",
      "['Jitendra Choudhary,jit44455@gmail.com,\"Keystone School of Engineering, Pune\",Male,8.33E+09,CS/IT,2015,83,2017,65,0,0,2021,73.05,Bharat Bhushan,bbsud1@gmail.com,9822038944']\n",
      "['Neha Bhoite,neha03bhoite@gmail.com,\"Keystone School of Engineering, Pune\",Female,8.69E+09,CS/IT,2015,86,2017,63,0,0,2021,66.44,Bharat Bhushan,bbsud1@gmail.com,9822038944']\n",
      "['Shivani Mane,shivani.mane0209@gmail.com,\"Keystone School of Engineering, Pune\",Female,7.45E+09,CS/IT,2015,76.2,2017,60.16,0,0,2021,64.68,Bharat Bhushan,bbsud1@gmail.com,9822038944']\n",
      "['ADVAIT TILAK,advaittilak@gmail.com,\"Keystone School of Engineering, Pune\",Male,9.51E+09,CS/IT,2015,80.21,2017,74,0,0,2021,72.16,Bharat Bhushan,bbsud1@gmail.com,9822038944']\n",
      "['Siddhant Khopade,sidkhopade@gmail.com,\"Keystone School of Engineering, Pune\",Male,8.55E+09,CS/IT,2015,80.4,2017,61,0,0,2021,61.95,Bharat Bhushan,bbsud1@gmail.com,9822038944']\n",
      "['Sidharth Joshi,sidjoshi60@gmail.com,\"Keystone School of Engineering, Pune\",Male,7.74E+09,CS/IT,2015,80,2017,57.68,0,0,2021,58.68,Bharat Bhushan,bbsud1@gmail.com,9822038944']\n",
      "['Siddharth Pansare,sidhu.pansare@gmail.com,\"Keystone School of Engineering, Pune\",Male,7.28E+09,CS/IT,2015,91.8,2017,71.54,0,0,2021,73.92,Bharat Bhushan,bbsud1@gmail.com,9822038944']\n",
      "['Bhagyashree Rane,ranebhagyashree18@gmail.com,\"Keystone School of Engineering, Pune\",Female,9.92E+09,CS/IT,2015,84.95,2017,69.23,0,0,2021,63.88,Bharat Bhushan,bbsud1@gmail.com,9822038944']\n",
      "['Neeraj Mourya,neerajmourya9165@gmail.com,\"Keystone School of Engineering, Pune\",Male,9.67E+09,CS/IT,2014,72,2016,62,0,0,2021,57,Bharat Bhushan,bbsud1@gmail.com,9822038944']\n",
      "['Vaishnavi Devkar,vaishnavidevkar43@gmail.com,\"Keystone School of Engineering, Pune\",Female,9.01E+09,CS/IT,2014,84.6,2016,56,0,0,2021,72.68,Bharat Bhushan,bbsud1@gmail.com,9822038944']\n",
      "['Snehal Kadam,snehalkadam.1999@gmail.com,\"Keystone School of Engineering, Pune\",Female,8.45E+09,CS/IT,2015,81.2,0,0,2018,75,2021,63.4,Bharat Bhushan,bbsud1@gmail.com,9822038944']\n",
      "['Akshay Sanas,akshaysanas0107@gmail.com,\"Keystone School of Engineering, Pune\",Male,7.97E+09,CS/IT,2015,89,2017,80,0,0,2021,77.35,Bharat Bhushan,bbsud1@gmail.com,9822038944']\n",
      "['YASH NITAVE,nitavey@gmail.com,\"Dr. D.Y. Patil Institute of Technology, Pimpri\",Male,9.92E+09,EnTC,2015,86.8,2017,76.15,0,0,2021,68.7,Dheeraj Agrawal,dypiet.tpo@gmail.com,8600219510']\n",
      "['Tanisha Rao,rtanisha215@gmail.com,\"Dr. D.Y. Patil Institute of Technology, Pimpri\",Female,7.39E+09,EnTC,2015,91.2,2017,70.15,0,0,2021,67.93,Dheeraj Agrawal,dypiet.tpo@gmail.com,8600219510']\n",
      "['Siddhi Shedge,siddhi.shedge99@gmail.com,\"Dr. D.Y. Patil Institute of Technology, Pimpri\",Female,9.92E+09,EnTC,2015,83.4,2017,61.23,0,0,2021,67.94,Dheeraj Agrawal,dypiet.tpo@gmail.com,8600219510']\n",
      "['Yukta Brijpuria,yuktamb@gmail.com,\"Dr. D.Y. Patil Institute of Technology, Pimpri\",Female,8.31E+09,EnTC,2015,83.6,2017,79.8,0,0,2021,68.73,Dheeraj Agrawal,dypiet.tpo@gmail.com,8600219510']\n",
      "['VISHAL SHELAR,shelarvishal02@gmail.com,\"Dr. D.Y. Patil Institute of Technology, Pimpri\",Male,9.64E+09,EnTC,2015,92.6,2017,77.57,0,0,2021,76.47,Dheeraj Agrawal,dypiet.tpo@gmail.com,8600219510']\n",
      "['Hiteshwar Dalpatia,hiteshwarjamwal6@gmail.com,\"Dr. D.Y. Patil Institute of Technology, Pimpri\",Male,9.80E+09,EnTC,2015,91.6,2017,88.6,0,0,2021,73.04,Dheeraj Agrawal,dypiet.tpo@gmail.com,8600219510']\n",
      "['Simran Gautam,simran.gautam204@gmail.com,\"Dr. D.Y. Patil Institute of Technology, Pimpri\",Female,7.28E+09,EnTC,2014,78,2016,70,0,0,2021,69.99,Dheeraj Agrawal,dypiet.tpo@gmail.com,8600219510']\n",
      "['Nihar Naik,niharn17121998@gmail.com,\"Dr. D.Y. Patil Institute of Technology, Pimpri\",Male,9.53E+09,CS/IT,2014,85.5,2016,90.3,0,0,2021,62.21,Dheeraj Agrawal,dypiet.tpo@gmail.com,8600219510']\n",
      "['Tanuja Bhagat,tanujabhagat689@gmail.com,\"Dr. D.Y. Patil Institute of Technology, Pimpri\",Female,9.10E+09,CS/IT,2015,83.6,2017,63.69,0,0,2021,60.1,Dheeraj Agrawal,dypiet.tpo@gmail.com,8600219510']\n",
      "['Snehpriya Khul,snehakhul@gmail.com,\"Dr. D.Y. Patil Institute of Technology, Pimpri\",Female,9.40E+09,CS/IT,2015,94.6,2017,73.08,0,0,2021,69.17,Dheeraj Agrawal,dypiet.tpo@gmail.com,8600219510']\n",
      "['Rutuja Pande,rutujapande157@gmail.com,\"Dr. D.Y. Patil Institute of Technology, Pimpri\",Female,9.83E+09,CS/IT,2015,79.6,0,0,2018,84.18,2021,63.01,Dheeraj Agrawal,dypiet.tpo@gmail.com,8600219510']\n",
      "['Shrutika Bansode,shrutikadbansode14@gmail.com,\"Dr. D.Y. Patil Institute of Technology, Pimpri\",Female,7.72E+09,CS/IT,2015,77,2017,60.62,0,0,2021,61.56,Dheeraj Agrawal,dypiet.tpo@gmail.com,8600219510']\n",
      "['Renuka Sirsat,renukasirsat.it@gmail.com,\"Dr. D.Y. Patil Institute of Technology, Pimpri\",Female,8.89E+09,CS/IT,2015,85.4,0,0,2018,81,2021,63.36,Dheeraj Agrawal,dypiet.tpo@gmail.com,8600219510']\n",
      "['Radha Dadge,radhadadge11@gmail.com,\"Pimpri Chinchwad College of Engineering and Research Ravet, Pune\",Female,9.92E+09,EnTC,2015,84.4,0,0,2018,84,2021,67.56,Sonali Lunawat,sonali.lunawat@pccoer.in,8087472177']\n",
      "['Rameshwar Waykule,ram.waykule7171@gmail.com,\"Pimpri Chinchwad College of Engineering and Research Ravet, Pune\",Male,9.69E+09,EnTC,2015,79,0,0,2018,78.79,2021,58.85,Sonali Lunawat,sonali.lunawat@pccoer.in,8087472177']\n",
      "['Shubham Patil,shubhampatilraje476@gmail.com,\"Pimpri Chinchwad College of Engineering and Research Ravet, Pune\",Male,9.33E+09,EnTC,2015,85.8,2017,64,0,0,2021,64.06,Sonali Lunawat,sonali.lunawat@pccoer.in,8087472177']\n",
      "['Omkar Jagtap,jagtapomkar555@gmail.com,\"Pimpri Chinchwad College of Engineering and Research Ravet, Pune\",Male,7.39E+09,CS/IT,2015,88.4,2017,68.15,0,0,2021,69.18,Sonali Lunawat,sonali.lunawat@pccoer.in,8087472177']\n",
      "['Gitesh Ghorpade,giteshghorpade2508@gmail.com,\"Pimpri Chinchwad College of Engineering and Research Ravet, Pune\",Male,9.61E+09,CS/IT,2015,69.68,0,0,2018,69.63,2021,60,Sonali Lunawat,sonali.lunawat@pccoer.in,8087472177']\n",
      "['Vishal Sonar,vibrus77@gmail.com,\"Pimpri Chinchwad College of Engineering and Research Ravet, Pune\",Male,7.51E+09,CS/IT,2015,92.8,2017,66,0,0,2021,68.84,Sonali Lunawat,sonali.lunawat@pccoer.in,8087472177']\n",
      "['Dhruvi Patel,dhruvibp0@gmail.com,\"Pimpri Chinchwad College of Engineering and Research Ravet, Pune\",Female,8.48E+09,CS/IT,2014,86.6,2016,68.31,0,0,2021,78.14,Sonali Lunawat,sonali.lunawat@pccoer.in,8087472177']\n",
      "['Rohit Shirsath,rohitshirsat2182@gmail.com,\"Pimpri Chinchwad College of Engineering and Research Ravet, Pune\",Male,9.00E+09,CS/IT,2015,70,2017,61,0,0,2021,60.1,Sonali Lunawat,sonali.lunawat@pccoer.in,8087472177']\n",
      "['Siddharth Gelada,jainsiddharth968@gmail.com,\"SNJB\\'s College of Engineering, Nashik\",Male,8.31E+09,CS/IT,2015,91.2,2017,78.8,0,0,2021,79.72,Pankaj Kapse,placementsnjb@gmail.com,8149529587']\n",
      "['Nisha Ushir,nishaushir99@gmail.com,\"SNJB\\'s College of Engineering, Nashik\",Female,9.92E+09,CS/IT,2015,85,2017,65,0,0,2021,60,Pankaj Kapse,placementsnjb@gmail.com,8149529587']\n",
      "['Apurva Jain,apurvajain8698@gmail.com,\"SNJB\\'s College of Engineering, Nashik\",Female,9.40E+09,CS/IT,2012,79.89,2015,60.41,0,0,2021,61.2,Pankaj Kapse,placementsnjb@gmail.com,8149529587']\n",
      "['Pallavi Savkar,pallusavkar@gmail.com,\"SNJB\\'s College of Engineering, Nashik\",Female,7.74E+09,CS/IT,2015,81,2017,69,0,0,2021,77.9,Pankaj Kapse,placementsnjb@gmail.com,8149529587']\n",
      "['Sourav Pardeshi,sourav11vpardeshi@gmail.com,\"SNJB\\'s College of Engineering, Nashik\",Male,9.76E+09,CS/IT,2014,82,2016,65,0,0,2021,66.59,Pankaj Kapse,placementsnjb@gmail.com,8149529587']\n",
      "['Sonal Bhalerao,sonalbhalerao7800@gmail.com,\"SNJB\\'s College of Engineering, Nashik\",Female,9.50E+09,CS/IT,2014,81.99,2016,62.71,0,0,2021,62.98,Pankaj Kapse,placementsnjb@gmail.com,8149529587']\n",
      "['Tushar Bhamare,tubhamare29@gmail.com,\"SNJB\\'s College of Engineering, Nashik\",Male,9.96E+09,CS/IT,2015,87.2,2017,67.2,0,0,2021,83.4,Pankaj Kapse,placementsnjb@gmail.com,8149529587']\n",
      "['Hrutika Bhosale,bhosalehritu143@gmail.com,\"SNJB\\'s College of Engineering, Nashik\",Female,9.28E+09,CS/IT,2015,85.8,2017,65.4,0,0,2021,73.72,Pankaj Kapse,placementsnjb@gmail.com,8149529587']\n",
      "['Tushar Gangurde,tusharsg3412@gmail.com,\"SNJB\\'s College of Engineering, Nashik\",Male,7.74E+09,CS/IT,2014,77.4,2016,50.62,2018,71.88,2021,72.73,Pankaj Kapse,placementsnjb@gmail.com,8149529587']\n",
      "['Pravin Deshmane,pravindeshmane1998@gmail.com,\"SNJB\\'s College of Engineering, Nashik\",Male,8.48E+09,CS/IT,2015,88,2017,66,0,0,2021,67,Pankaj Kapse,placementsnjb@gmail.com,8149529587']\n",
      "['SUYASH MAHAJAN,suyashtm@gmail.com,\"SNJB\\'s College of Engineering, Nashik\",Male,8.41E+09,CS/IT,2014,87.8,0,0,2018,77.82,2021,68.02,Pankaj Kapse,placementsnjb@gmail.com,8149529587']\n",
      "['Aishwarya Ghate,aishwaryaghate321@gmail.com,\"SNJB\\'s College of Engineering, Nashik\",Female,9.66E+09,CS/IT,2015,80.6,0,0,2018,74.12,2021,63.87,Pankaj Kapse,placementsnjb@gmail.com,8149529587']\n",
      "['Amruta Kothari,amruta5597@gmail.com,\"SNJB\\'s College of Engineering, Nashik\",Female,9.76E+09,CS/IT,2014,80,2016,60,0,0,2021,65.8,Pankaj Kapse,placementsnjb@gmail.com,8149529587']\n",
      "['Kajal Gholap,gholapkajal98@gmail.com,\"SNJB\\'s College of Engineering, Nashik\",Female,8.79E+09,CS/IT,2014,80.8,2016,61.7,0,0,2021,62,Pankaj Kapse,placementsnjb@gmail.com,8149529587']\n",
      "['Chetana Bafna,chetanabafna123@gmail.com,\"SNJB\\'s College of Engineering, Nashik\",Female,7.71E+09,CS/IT,2015,88.8,0,0,2018,87.12,2021,77.4,Pankaj Kapse,placementsnjb@gmail.com,8149529587']\n",
      "['Kalpesh Gangurde,kalpeshgangurede6298@gmail.com,\"SNJB\\'s College of Engineering, Nashik\",Male,7.03E+09,CS/IT,2014,81.45,2016,60.15,0,0,2021,59.54,Pankaj Kapse,placementsnjb@gmail.com,8149529587']\n",
      "['Saavan Gajjar,saavangajjar@gmail.com,\"SNJB\\'s College of Engineering, Nashik\",Male,9.02E+09,CS/IT,2015,70.33,0,0,2018,86.88,2021,81.89,Pankaj Kapse,placementsnjb@gmail.com,8149529587']\n",
      "['Kaveri Wakchoure,kaveriwakchaure999@gmail.com,\"SNJB\\'s College of Engineering, Nashik\",Female,8.41E+09,CS/IT,2014,85.2,2016,74,0,0,2021,64.98,Pankaj Kapse,placementsnjb@gmail.com,8149529587']\n",
      "['Tejal Kadam,tejalkadam57@gmail.com,\"SNJB\\'s College of Engineering, Nashik\",Female,8.33E+09,CS/IT,2015,93.2,2017,76.77,0,0,2021,79.77,Pankaj Kapse,placementsnjb@gmail.com,8149529587']\n",
      "['Shivam Gujrathi,shivamgujrathi007@gmail.com,\"SNJB\\'s College of Engineering, Nashik\",Male,8.98E+09,CS/IT,2014,69,0,0,2018,74.48,2021,58,Pankaj Kapse,placementsnjb@gmail.com,8149529587']\n",
      "['Prasad Dhole,dholeprasad143@gmail.com,\"SNJB\\'s College of Engineering, Nashik\",Male,9.62E+09,CS/IT,2015,86.8,2017,66.15,0,0,2021,64.03,Pankaj Kapse,placementsnjb@gmail.com,8149529587']\n",
      "['Suraj Shukla,shuklasuraj1701@gmail.com,\"SNJB\\'s College of Engineering, Nashik\",Male,8.46E+09,CS/IT,2014,60,0,0,2018,71.35,2021,69.62,Pankaj Kapse,placementsnjb@gmail.com,8149529587']\n",
      "['Pranoti Pawar,pawarpranotib1999@gmail.com,\"SNJB\\'s College of Engineering, Nashik\",Female,7.26E+09,CS/IT,2015,80.6,0,0,2018,77,2021,63.07,Pankaj Kapse,placementsnjb@gmail.com,8149529587']\n",
      "['Madhura Wagh,madhuramwagh15@gmail.com,\"SNJB\\'s College of Engineering, Nashik\",Female,9.37E+09,CS/IT,2015,77.6,0,0,2018,78.65,2021,61.58,Pankaj Kapse,placementsnjb@gmail.com,8149529587']\n",
      "['Monika Kotkar,monikakotkar1999@gmail.com,\"SNJB\\'s College of Engineering, Nashik\",Female,7.06E+09,CS/IT,2015,87,2017,70.46,0,0,2021,60.55,Pankaj Kapse,placementsnjb@gmail.com,8149529587']\n",
      "['Radhika Mor,radhikamor29@gmail.com,\"SNJB\\'s College of Engineering, Nashik\",Female,7.84E+09,CS/IT,2015,94,2017,67.08,0,0,2021,60.7,Pankaj Kapse,placementsnjb@gmail.com,8149529587']\n",
      "['Urmila Shinde,shindeurmila2016@gmail.com,\"SNJB\\'s College of Engineering, Nashik\",Female,7.22E+09,CS/IT,2014,89.6,2016,62.4,0,0,2021,60,Pankaj Kapse,placementsnjb@gmail.com,8149529587']\n",
      "['Saloni Jain,suhanij7599@gmail.com,\"SNJB\\'s College of Engineering, Nashik\",Female,9.61E+09,CS/IT,2015,79.8,2017,65.52,0,0,2021,64.1,Pankaj Kapse,placementsnjb@gmail.com,8149529587']\n",
      "['Sachin Chandgude,sachinchandgude8@gmail.com,\"SNJB\\'s College of Engineering, Nashik\",Male,7.04E+09,CS/IT,2014,79.7,2016,70.77,2018,75.59,2021,75,Pankaj Kapse,placementsnjb@gmail.com,8149529587']\n",
      "['Samiksha Jain,jainsamiksha741@gmail.com,\"SNJB\\'s College of Engineering, Nashik\",Female,7.26E+09,CS/IT,2014,80.8,2016,72.15,0,0,2021,61.03,Pankaj Kapse,placementsnjb@gmail.com,8149529587']\n",
      "['Pratiksha Chavan,pratiksha9860129764@gmail.com,\"SNJB\\'s College of Engineering, Nashik\",Female,9.07E+09,CS/IT,2015,79.4,0,0,2018,77.24,2021,66,Pankaj Kapse,placementsnjb@gmail.com,8149529587']\n",
      "['Vishakha More,vishakhabmore1212@gmail.com,\"SNJB\\'s College of Engineering, Nashik\",Female,8.55E+09,CS/IT,2015,90.99,0,0,2018,75.06,2021,60,Pankaj Kapse,placementsnjb@gmail.com,8149529587']\n",
      "['Sakshi Junnare,junnaresakshi@gmail.com,\"Sandip Foundation\\'s Sandip Institute Of Engineering & Management, Nashik\",Female,9.28E+09,CS/IT,2015,92.2,2017,74.77,0,0,2021,71.54,Nagma Shaikh,placements@sandipuniversity.edu.in,959552255/7720933822']\n",
      "['Mayur Kawle,mayurkawlemk@gmail.com,\"Sandip Foundation\\'s Sandip Institute Of Engineering & Management, Nashik\",Male,9.76E+09,CS/IT,2015,82.8,2017,70,0,0,2021,61.87,Nagma Shaikh,placements@sandipuniversity.edu.in,959552255/7720933822']\n",
      "['Poonam Katarnavare,katarnavarepoonam@gmail.com,\"Sandip Foundation\\'s Sandip Institute Of Engineering & Management, Nashik\",Female,7.51E+09,CS/IT,2015,78,0,0,2018,66,2021,60,Nagma Shaikh,placements@sandipuniversity.edu.in,959552255/7720933822']\n",
      "['Niketan Pawar,niketanpwr@gmail.com,\"Sandip Foundation\\'s Sandip Institute Of Engineering & Management, Nashik\",Male,9.83E+09,CS/IT,2015,82.8,2017,71.6,0,0,2021,73.4,Nagma Shaikh,placements@sandipuniversity.edu.in,959552255/7720933822']\n",
      "['Sayali Handore,sayalihandore111@gmail.com,\"Sandip Foundation\\'s Sandip Institute Of Engineering & Management, Nashik\",Female,9.37E+09,CS/IT,2014,70.6,0,0,2018,80.19,2021,61.5,Nagma Shaikh,placements@sandipuniversity.edu.in,959552255/7720933822']\n",
      "['Aarti Shah,aartishah227@gmail.com,\"Sandip Foundation\\'s Sandip Institute Of Engineering & Management, Nashik\",Female,8.86E+09,CS/IT,2015,90.4,2017,68.39,0,0,2021,61,Nagma Shaikh,placements@sandipuniversity.edu.in,959552255/7720933822']\n",
      "['Janhavi Raut,janhaviraut2000@gmail.com,\"Sandip Foundation\\'s Sandip Institute Of Engineering & Management, Nashik\",Female,9.18E+09,CS/IT,2015,89.8,2017,74.34,0,0,2021,71.15,Nagma Shaikh,placements@sandipuniversity.edu.in,959552255/7720933822']\n",
      "['Tulsi Harel,tulsiharel5@gmail.com,\"Sandip Foundation\\'s Sandip Institute Of Engineering & Management, Nashik\",Female,9.37E+09,CS/IT,2014,80.4,0,0,2018,74,2021,61,Nagma Shaikh,placements@sandipuniversity.edu.in,959552255/7720933822']\n",
      "['Nikeeta Ingale,nikeeing99@gmail.com,\"Sandip Institute of Technology and Research Centre, Nashik\",Female,7.38E+09,CS/IT,2015,87.6,2017,74.77,0,0,2021,76.5,Nagma Shaikh,placements@sandipuniversity.edu.in,959552255/7720933822']\n",
      "['Saad Ansari,ansarisaad944@gmail.com,\"Sandip Institute of Technology and Research Centre, Nashik\",Male,9.96E+09,CS/IT,2015,76.6,2017,67.08,0,0,2021,67.23,Nagma Shaikh,placements@sandipuniversity.edu.in,959552255/7720933822']\n",
      "['Shweta Malpure,shwetawani212@gmail.com,\"Sandip Institute of Technology and Research Centre, Nashik\",Female,8.81E+09,CS/IT,2015,81,2017,65.85,0,0,2021,58.4,Nagma Shaikh,placements@sandipuniversity.edu.in,959552255/7720933822']\n",
      "['Jay Jadhav,jadhav.jay0253@gmail.com,\"Sandip Institute of Technology and Research Centre, Nashik\",Male,7.77E+09,CS/IT,2014,68.4,0,0,2018,77.69,2021,61.8,Nagma Shaikh,placements@sandipuniversity.edu.in,959552255/7720933822']\n",
      "['Kajal Patil,patilkajal140@gmail.com,\"Sandip Institute of Technology and Research Centre, Nashik\",Female,7.39E+09,CS/IT,2015,93,2017,72.34,0,0,2021,68,Nagma Shaikh,placements@sandipuniversity.edu.in,959552255/7720933822']\n",
      "['Shubham Kedar,shubhamkedar14@gmail.com,\"Sandip Institute of Technology and Research Centre, Nashik\",Male,9.17E+09,CS/IT,2015,85.6,2017,73,0,0,2021,60,Nagma Shaikh,placements@sandipuniversity.edu.in,959552255/7720933822']\n",
      "['Sachin Mehta,sachinmehta6789@gmail.com,\"Sandip School of Computer Science and Engineering, Nashik\",Male,7.71E+09,CS/IT,2015,82,2017,70.4,0,0,2021,69.89,Nagma Shaikh,placements@sandipuniversity.edu.in,959552255/7720933822']\n",
      "['Prasanna Jain,prasannajain265@gmail.com,\"Sandip School of Computer Science and Engineering, Nashik\",Male,7.06E+09,CS/IT,2015,90.4,2017,69.38,0,0,2021,75.62,Nagma Shaikh,placements@sandipuniversity.edu.in,959552255/7720933822']\n",
      "['Aniket Paul,aniketpaul446@gmail.com,\"Sandip School of Computer Science and Engineering, Nashik\",Male,8.78E+09,CS/IT,2015,79.8,2017,71.8,0,0,2021,86.25,Nagma Shaikh,placements@sandipuniversity.edu.in,959552255/7720933822']\n",
      "['Gayatri Chaudhari,gayatrichaudhari85@gmail.com,\"Sandip School of Computer Science and Engineering, Nashik\",Female,7.62E+09,CS/IT,2015,88,0,0,2018,88.88,2019,74.52,Nagma Shaikh,placements@sandipuniversity.edu.in,959552255/7720933822']\n",
      "['Suraj Mandhane,surajmandhane40@gmail.com,\"Sandip School of Computer Science and Engineering, Nashik\",Male,7.71E+09,CS/IT,2015,88.8,2017,64.15,0,0,2021,65.31,Nagma Shaikh,placements@sandipuniversity.edu.in,959552255/7720933822']\n",
      "['Nikhun Jena,likunjena26@gmail.com,\"Sandip School of Computer Science and Engineering, Nashik\",Male,9.60E+09,CS/IT,2012,76.28,2014,60.04,0,0,2021,78,Nagma Shaikh,placements@sandipuniversity.edu.in,959552255/7720933822']\n",
      "['Hasnath Khan,khanhasnath16@gmail.com,\"Sandip School of Computer Science and Engineering, Nashik\",Female,8.39E+09,CS/IT,2015,80.6,2017,64.92,0,0,2021,71.98,Nagma Shaikh,placements@sandipuniversity.edu.in,959552255/7720933822']\n",
      "['Pooja Gaikwad,poojasgaikwad.32@gmail.com,\"Sandip School of Computer Science and Engineering, Nashik\",Female,7.45E+09,CS/IT,2015,67.4,0,0,2018,76,2021,70.77,Nagma Shaikh,placements@sandipuniversity.edu.in,959552255/7720933822']\n",
      "['Rohan Joshi,rohanj835@gmail.com,\"Sandip School of Computer Science and Engineering, Nashik\",Male,7.39E+09,CS/IT,2015,68.4,2017,74.4,0,0,2021,74.55,Nagma Shaikh,placements@sandipuniversity.edu.in,959552255/7720933822']\n",
      "['Nishant Dabhade,nishantddabhade@gmail.com,\"Sandip School of Computer Science and Engineering, Nashik\",Male,8.24E+09,CS/IT,2015,84.58,2017,68.69,0,0,2021,73.19,Nagma Shaikh,placements@sandipuniversity.edu.in,959552255/7720933822']\n",
      "['Kavita Narawade,kknarwade1998@gmail.com,\"MET BKC Institute of Engineering, Nashik\",Female,9.33E+09,CS/IT,2014,76.2,2016,62.92,0,0,2021,59.09,Prof.Shailendra Vidhate,shailendrav_ioe@bkc.met.edu,9372938921']\n",
      "['Safwan Bardolia,safvanbardolia@gmail.com,\"MET BKC Institute of Engineering, Nashik\",Male,9.00E+09,CS/IT,2015,80.6,2017,71.23,0,0,2021,77.05,Prof.Shailendra Vidhate,shailendrav_ioe@bkc.met.edu,9372938921']\n",
      "['Gauri Brahme,gauribrahme20@gmail.com,\"MET BKC Institute of Engineering, Nashik\",Female,8.66E+09,CS/IT,2015,81.67,2017,76.8,0,0,2021,79.9,Prof.Shailendra Vidhate,shailendrav_ioe@bkc.met.edu,9372938921']\n",
      "['Ritika Kale,ritikakale76@gmail.com,\"MET BKC Institute of Engineering, Nashik\",Female,9.92E+09,CS/IT,2015,92.4,2017,76.31,0,0,2021,75.62,Prof.Shailendra Vidhate,shailendrav_ioe@bkc.met.edu,9372938921']\n",
      "['RISHAV MISHRA,rishavmishra2000@gmail.com,\"MET BKC Institute of Engineering, Nashik\",Male,9.37E+09,CS/IT,2015,67.4,2017,68.6,0,0,2021,70.3,Prof.Shailendra Vidhate,shailendrav_ioe@bkc.met.edu,9372938921']\n",
      "['Pranita Thube,thubep2904@gmail.com,\"MET BKC Institute of Engineering, Nashik\",Female,8.38E+09,CS/IT,2015,83.4,2017,67.38,0,0,2021,74.64,Prof.Shailendra Vidhate,shailendrav_ioe@bkc.met.edu,9372938921']\n",
      "['Jayshri Mankar,mankarjayshri@gmail.com,\"MET BKC Institute of Engineering, Nashik\",Female,7.06E+09,CS/IT,2014,83.8,2016,71.05,2018,75,2021,60.31,Prof.Shailendra Vidhate,shailendrav_ioe@bkc.met.edu,9372938921']\n",
      "['Snehal Phad,snehalphad99@gmail.com,\"MET BKC Institute of Engineering, Nashik\",Female,9.13E+09,CS/IT,2015,77.24,2017,63.34,0,0,2021,62.54,Prof.Shailendra Vidhate,shailendrav_ioe@bkc.met.edu,9372938921']\n",
      "['Kunal Mogal,kunalsmogal125@gmail.com,\"MET BKC Institute of Engineering, Nashik\",Male,7.03E+09,CS/IT,2015,92.6,2017,77.38,0,0,2021,73.53,Prof.Shailendra Vidhate,shailendrav_ioe@bkc.met.edu,9372938921']\n",
      "['Darshan Gade,darshangade1999@gmail.com,\"MET BKC Institute of Engineering, Nashik\",Male,7.28E+09,CS/IT,2015,87.8,2017,64.8,0,0,2021,68.5,Prof.Shailendra Vidhate,shailendrav_ioe@bkc.met.edu,9372938921']\n",
      "['Rutuja Wagh,rutujawagh121@gmail.com,\"MET BKC Institute of Engineering, Nashik\",Female,9.89E+09,CS/IT,2015,87.4,2017,79.54,0,0,2021,74.09,Prof.Shailendra Vidhate,shailendrav_ioe@bkc.met.edu,9372938921']\n",
      "['Kajal Thakare,thakarekajal08@gmail.com,\"MET BKC Institute of Engineering, Nashik\",Female,9.92E+09,CS/IT,2014,83.4,2016,61.69,0,0,2021,59.28,Prof.Shailendra Vidhate,shailendrav_ioe@bkc.met.edu,9372938921']\n",
      "['Vishakha Patil,pvishakha90@gmail.com,\"MET BKC Institute of Engineering, Nashik\",Female,9.31E+09,CS/IT,2015,85.58,2017,69.35,0,0,2021,71.94,Prof.Shailendra Vidhate,shailendrav_ioe@bkc.met.edu,9372938921']\n",
      "['Rameshwar Biradar,rameshwarbiradar458@gmail.com,\"MET BKC Institute of Engineering, Nashik\",Male,8.67E+09,CS/IT,2015,74.1,2017,62,0,0,2021,60.94,Prof.Shailendra Vidhate,shailendrav_ioe@bkc.met.edu,9372938921']\n",
      "['Kalyani Borse,borsekalyani29@gmail.com,\"MET BKC Institute of Engineering, Nashik\",Female,9.60E+09,CS/IT,2015,85.2,0,0,2018,77,2021,63.58,Prof.Shailendra Vidhate,shailendrav_ioe@bkc.met.edu,9372938921']\n",
      "['Chaitali Tarle,tarlechait184@gmail.com,\"MET BKC Institute of Engineering, Nashik\",Female,8.61E+09,CS/IT,2015,85.2,0,0,2018,75,2021,59.85,Prof.Shailendra Vidhate,shailendrav_ioe@bkc.met.edu,9372938921']\n",
      "['SAYALI CHAVAN,sayalichavan1802@gmail.com,\"GES R.H. Sapat College of Engineering, Management Studies and Research, Nashik\",Female,8.01E+09,CS/IT,2015,82.2,2017,66.46,0,0,2021,62.59,Dhanraj Deshpande,dhanraj.deshpande@ges-coengg.org,8329586331']\n",
      "['Rahul Joshi,rj246266@gmail.com,\"GES R.H. Sapat College of Engineering, Management Studies and Research, Nashik\",Male,7.41E+09,CS/IT,2015,81.66,2017,77,0,0,2021,81.53,Dhanraj Deshpande,dhanraj.deshpande@ges-coengg.org,8329586331']\n",
      "['Shraddha Bhalerao,shraddhab196@gmail.com,\"GES R.H. Sapat College of Engineering, Management Studies and Research, Nashik\",Female,9.66E+09,CS/IT,2014,82,2016,61,0,0,2021,58.19,Dhanraj Deshpande,dhanraj.deshpande@ges-coengg.org,8329586331']\n",
      "['Anuja Sonawane,sonawaneanuja99@gmail.com,\"GES R.H. Sapat College of Engineering, Management Studies and Research, Nashik\",Female,9.77E+09,CS/IT,2015,81.82,2017,72.66,0,0,2021,66.79,Dhanraj Deshpande,dhanraj.deshpande@ges-coengg.org,8329586331']\n",
      "['Falguni Patel,falgunipatel13299@gmail.com,\"GES R.H. Sapat College of Engineering, Management Studies and Research, Nashik\",Female,8.15E+09,CS/IT,2015,85.76,0,0,2018,84.53,2021,73.39,Dhanraj Deshpande,dhanraj.deshpande@ges-coengg.org,8329586331']\n",
      "['Nikhil Karpe,karpenikhil99@gmail.com,\"GES R.H. Sapat College of Engineering, Management Studies and Research, Nashik\",Male,7.39E+09,CS/IT,2015,88.6,2017,71.3,0,0,2021,64.58,Dhanraj Deshpande,dhanraj.deshpande@ges-coengg.org,8329586331']\n",
      "['Resham Joshi,reshamjoshi30@gmail.com,\"GES R.H. Sapat College of Engineering, Management Studies and Research, Nashik\",Female,7.97E+09,CS/IT,2015,94.8,2017,82.31,0,0,2021,76.22,Dhanraj Deshpande,dhanraj.deshpande@ges-coengg.org,8329586331']\n",
      "['Harshal Daive,hdharshal611@gmail.com,\"GES R.H. Sapat College of Engineering, Management Studies and Research, Nashik\",Male,9.52E+09,CS/IT,2015,94.8,2017,82.15,0,0,2021,72,Dhanraj Deshpande,dhanraj.deshpande@ges-coengg.org,8329586331']\n",
      "['Neel Bhadkamkar,neel.bhadkamkar.1998@gmail.com,\"GES R.H. Sapat College of Engineering, Management Studies and Research, Nashik\",Male,7.72E+09,CS/IT,2014,87.2,2016,63.85,0,0,2021,58,Dhanraj Deshpande,dhanraj.deshpande@ges-coengg.org,8329586331']\n",
      "['Kamini Bhor,kaminibhor.1999@gmail.com,\"GES R.H. Sapat College of Engineering, Management Studies and Research, Nashik\",Female,7.26E+09,CS/IT,2015,88.8,2017,66.64,0,0,2021,62.83,Dhanraj Deshpande,dhanraj.deshpande@ges-coengg.org,8329586331']\n",
      "['Akash Shewale,akashshewale0801@gmail.com,\"GES R.H. Sapat College of Engineering, Management Studies and Research, Nashik\",Male,8.86E+09,CS/IT,2015,75.4,0,0,2018,77.29,2020,67.71,Dhanraj Deshpande,dhanraj.deshpande@ges-coengg.org,8329586331']\n",
      "['Saurabhi Kulkarni,saurabhicoolkarni1899@gmail.com,\"GES R.H. Sapat College of Engineering, Management Studies and Research, Nashik\",Female,9.05E+09,CS/IT,2015,88,0,0,2018,81,2021,70.63,Dhanraj Deshpande,dhanraj.deshpande@ges-coengg.org,8329586331']\n",
      "['Aniket Patil,aniketp26399@gmail.com,\"GES R.H. Sapat College of Engineering, Management Studies and Research, Nashik\",Male,8.01E+09,CS/IT,2015,87.02,2017,64,0,0,2021,67.03,Dhanraj Deshpande,dhanraj.deshpande@ges-coengg.org,8329586331']\n",
      "['Yash Kewlani,yashkewlani2800@gmail.com,\"NDMVP\\'s Karmaveer Baburao Thakare College of Engineering, Nashik\",Male,7.72E+09,CS/IT,2015,81,2017,73.4,,,2021,68.34,Vineet Deore,tpo.ndmvpcoe@gmail.com,9987377436']\n",
      "['Puja Sali,poojasali36@gmail.com,\"NDMVP\\'s Karmaveer Baburao Thakare College of Engineering, Nashik\",Female,7.88E+09,CS/IT,2015,86.8,,,2018,84.38,2021,76.9,Vineet Deore,tpo.ndmvpcoe@gmail.com,9987377436']\n",
      "['Aishwarya Brahmankar,aishwaryabrahmankar@gmail.com,\"NDMVP\\'s Karmaveer Baburao Thakare College of Engineering, Nashik\",Female,7.38E+09,CS/IT,2015,86.2,2017,65.39,,,2021,64.5,Vineet Deore,tpo.ndmvpcoe@gmail.com,9987377436']\n",
      "['Rutuja Mali,rutuja1999mali@gmail.com,\"NDMVP\\'s Karmaveer Baburao Thakare College of Engineering, Nashik\",Female,9.62E+09,CS/IT,2015,94,2017,78.9,,,2021,81.34,Vineet Deore,tpo.ndmvpcoe@gmail.com,9987377436']\n",
      "['Nikhilkumar Marathe,marathen37@gmail.com,\"NDMVP\\'s Karmaveer Baburao Thakare College of Engineering, Nashik\",Male,9.36E+09,CS/IT,2013,83.45,2015,61.38,,,2021,60,Vineet Deore,tpo.ndmvpcoe@gmail.com,9987377436']\n",
      "['Devesh Gujarathi,deveshguj39@gmail.com,\"NDMVP\\'s Karmaveer Baburao Thakare College of Engineering, Nashik\",Male,9.13E+09,CS/IT,2015,80.8,2017,60.13,,,2021,60,Vineet Deore,tpo.ndmvpcoe@gmail.com,9987377436']\n",
      "['Chinmay Ghodke,chinmayghodke777@gmail.com,\"NDMVP\\'s Karmaveer Baburao Thakare College of Engineering, Nashik\",Male,8.79E+09,CS/IT,2015,94.2,2017,72.13,,,2021,86.83,Vineet Deore,tpo.ndmvpcoe@gmail.com,9987377436']\n",
      "['Dhanali Khairnar,dhanalikhairnar99@gmail.com,\"NDMVP\\'s Karmaveer Baburao Thakare College of Engineering, Nashik\",Female,9.77E+09,CS/IT,2015,87.45,2017,65.97,,,2021,58.01,Vineet Deore,tpo.ndmvpcoe@gmail.com,9987377436']\n",
      "['SHIVANI KAGLIWAL,shivanikagliwal@gmail.com,\"NDMVP\\'s Karmaveer Baburao Thakare College of Engineering, Nashik\",Female,9.89E+09,CS/IT,2015,92.2,2017,77.49,,,2021,72.56,Vineet Deore,tpo.ndmvpcoe@gmail.com,9987377436']\n",
      "['Sarang Suryawanshi,sarangsuryawanshi1@gmail.com,\"NDMVP\\'s Karmaveer Baburao Thakare College of Engineering, Nashik\",Male,9.05E+09,CS/IT,2015,85.2,2017,66.3,,,2021,66.52,Vineet Deore,tpo.ndmvpcoe@gmail.com,9987377436']\n",
      "['Prajakta Khaire,kprajakta36@gmail.com,\"NDMVP\\'s Karmaveer Baburao Thakare College of Engineering, Nashik\",Female,9.62E+09,CS/IT,2015,91.4,2017,80.62,,,2021,80.7,Vineet Deore,tpo.ndmvpcoe@gmail.com,9987377436']\n",
      "['Bhumi Soni,bhumihsoni011@gmail.com,\"NDMVP\\'s Karmaveer Baburao Thakare College of Engineering, Nashik\",Female,8.21E+09,CS/IT,2013,80.2,2015,60,,,2021,58,Vineet Deore,tpo.ndmvpcoe@gmail.com,9987377436']\n",
      "['Shivani Rane,raneshivani24@gmail.com,\"NDMVP\\'s Karmaveer Baburao Thakare College of Engineering, Nashik\",Female,9.40E+09,CS/IT,2015,94.4,2017,76,,,2021,76.27,Vineet Deore,tpo.ndmvpcoe@gmail.com,9987377436']\n",
      "['Renuka Wagh,renukawagh1628@gmail.com,\"NDMVP\\'s Karmaveer Baburao Thakare College of Engineering, Nashik\",Female,8.28E+09,CS/IT,2015,84.2,,,2018,80,2021,65.88,Vineet Deore,tpo.ndmvpcoe@gmail.com,9987377436']\n",
      "['Anuja Wanwe,anujawanwe2000@gmail.com,\"NDMVP\\'s Karmaveer Baburao Thakare College of Engineering, Nashik\",Female,8.21E+09,CS/IT,2015,88.6,,,2018,83.71,2021,74.8,Vineet Deore,tpo.ndmvpcoe@gmail.com,9987377436']\n",
      "['Apurva Patil,patilapurva39@gmail.com,KK Wagh,Female,9.51E+09,CS/IT,2015,95,2017,72,0,0,2021,69.7,Prof. Shahbadkar,tpo-engg@kkwagh.edu.in,9822907468']\n",
      "['HRUSHIKESH JOSHI,bronkx10@gmail.com,KK Wagh,Male,7.77E+09,CS/IT,2015,92,2017,87,0,0,2021,85.28,Prof. Shahbadkar,tpo-engg@kkwagh.edu.in,9822907468']\n",
      "['Mayuresh Malhar,mayureshmalhar138@gmail.com,KK Wagh,Male,7.28E+09,CS/IT,2015,89,2017,74.92,0,0,2021,62.21,Prof. Shahbadkar,tpo-engg@kkwagh.edu.in,9822907468']\n",
      "['Ankita Shende,ankitashende512@gmail.com,KK Wagh,Female,8.79E+09,CS/IT,2015,82.2,0,0,2018,84.2,2021,61.23,Prof. Shahbadkar,tpo-engg@kkwagh.edu.in,9822907468']\n",
      "['Abhijit Bankar,abhijitbankar348@gmail.com,KK Wagh,Male,9.83E+09,CS/IT,2015,88.35,2017,65,0,0,2021,71.55,Prof. Shahbadkar,tpo-engg@kkwagh.edu.in,9822907468']\n",
      "['Pratiksha Ghongte,pratikshargh1999@gmail.com,KK Wagh,Female,9.11E+09,CS/IT,2015,88.4,0,0,2018,83.36,2021,70,Prof. Shahbadkar,tpo-engg@kkwagh.edu.in,9822907468']\n",
      "['Unnati Dadhich,unnati.dadhich@gmail.com,KK Wagh,Female,9.05E+09,CS/IT,2014,74,2016,66.97,0,0,2021,60,Prof. Shahbadkar,tpo-engg@kkwagh.edu.in,9822907468']\n",
      "['Rohit Jana,rohitjana007@gmail.com,\"Walchand Institute of Technology, Solapur\",Male,8.53E+09,EnTC,2015,89,2017,72,0,0,2021,72.5,Dr Satish Lakde,tpo@witsolapur.org,7798250677']\n",
      "['Saish Gadekar,saish.gadekar@gmail.com,\"Walchand Institute of Technology, Solapur\",Male,7.50E+09,EnTC,2014,81,2016,87,0,0,2021,61,Dr Satish Lakde,tpo@witsolapur.org,7798250677']\n",
      "['Komal Chavan,kchavan056@gmail.com,\"Walchand Institute of Technology, Solapur\",Female,8.21E+09,EnTC,2015,82.8,2017,64,0,0,2021,77.95,Dr Satish Lakde,tpo@witsolapur.org,7798250677']\n",
      "['Ajinkya Shidore,meajinkyashidore@gmail.com,\"Walchand Institute of Technology, Solapur\",Male,9.41E+09,EnTC,2015,77.8,0,0,2018,75.88,2021,70.44,Dr Satish Lakde,tpo@witsolapur.org,7798250677']\n",
      "['Arya Umbrajkar,aryaumbrajkar@gmail.com,\"Walchand Institute of Technology, Solapur\",Female,7.77E+09,EnTC,2015,89,2017,60,0,0,2021,67,Dr Satish Lakde,tpo@witsolapur.org,7798250677']\n",
      "['Amruta Nanaware,nanawareamruta10@gmail.com,\"Walchand Institute of Technology, Solapur\",Female,7.22E+09,EnTC,2015,95.4,2017,78.96,0,0,2021,68.06,Dr Satish Lakde,tpo@witsolapur.org,7798250677']\n",
      "['Venkat Dammanagari,venkat.dammanagari@gmail.com,\"Walchand Institute of Technology, Solapur\",Male,9.52E+09,EnTC,2015,86,2017,70,0,0,2021,69.92,Dr Satish Lakde,tpo@witsolapur.org,7798250677']\n",
      "['Tushar Mangave,tusharmangave29@gmail.com,\"Walchand Institute of Technology, Solapur\",Male,9.82E+09,EnTC,2015,83.4,2017,69.85,0,0,2021,73.47,Dr Satish Lakde,tpo@witsolapur.org,7798250677']\n",
      "['Giriraj Gutti,girirajgutti@gmail.com,\"Walchand Institute of Technology, Solapur\",Male,8.81E+09,EnTC,2015,88.2,0,0,2018,83,2021,81.15,Dr Satish Lakde,tpo@witsolapur.org,7798250677']\n",
      "['Aparna Gore,aparnagore123@gmail.com,\"Walchand Institute of Technology, Solapur\",Female,9.83E+09,EnTC,2015,91.2,2017,82,0,0,2021,82,Dr Satish Lakde,tpo@witsolapur.org,7798250677']\n",
      "['Jyoti Zingade,jyotizingade10@gmail.com,\"Walchand Institute of Technology, Solapur\",Female,8.86E+09,EnTC,2015,82,0,0,2018,83.47,2021,77.39,Dr Satish Lakde,tpo@witsolapur.org,7798250677']\n",
      "['Saba Mujawar,mujawarsaba143@gmail.com,\"Walchand Institute of Technology, Solapur\",Female,9.83E+09,EnTC,2015,82.8,0,0,2018,78,2021,77.27,Dr Satish Lakde,tpo@witsolapur.org,7798250677']\n",
      "['Sanyogi Gosavi,sanyogigosavi04@gmail.com,\"Walchand Institute of Technology, Solapur\",Female,9.52E+09,EnTC,2015,88.8,2017,74.44,0,0,2021,78.96,Dr Satish Lakde,tpo@witsolapur.org,7798250677']\n",
      "['Piyusha Junavane,piyushajunavane@gmail.com,\"Walchand Institute of Technology, Solapur\",Female,9.00E+09,EnTC,2015,90.6,0,0,2018,90.31,2021,81.03,Dr Satish Lakde,tpo@witsolapur.org,7798250677']\n",
      "['Shruti Mahindrakar,shruti.mahindrakar04@gmail.com,\"Walchand Institute of Technology, Solapur\",Female,8.33E+09,EnTC,2015,86,2017,78,0,0,2021,74,Dr Satish Lakde,tpo@witsolapur.org,7798250677']\n",
      "['Abhinav Nandgaonkar,abhi11an@gmail.com,\"Walchand Institute of Technology, Solapur\",Male,8.81E+09,CS/IT,2015,89.8,2017,80.92,0,0,2021,70.38,Dr Satish Lakde,tpo@witsolapur.org,7798250677']\n",
      "['Suraj Kondubhairy,surajkondubhairy@gmail.com,\"Walchand Institute of Technology, Solapur\",Male,9.42E+09,CS/IT,2015,87,2017,75,0,0,2021,72.5,Dr Satish Lakde,tpo@witsolapur.org,7798250677']\n",
      "['Nazmin Gilki,its_nazmin@gmail.com,\"Walchand Institute of Technology, Solapur\",Female,9.00E+09,CS/IT,2015,85.4,0,0,2019,84.11,2021,79,Dr Satish Lakde,tpo@witsolapur.org,7798250677']\n",
      "['Monika Tiwari,monikaatiwari11@gmail.com,\"Walchand Institute of Technology, Solapur\",Female,7.91E+09,CS/IT,2014,98,2017,64,0,0,2021,62,Dr Satish Lakde,tpo@witsolapur.org,7798250677']\n",
      "['Praful Chambalwar,prafulchambalwar777@gmail.com,\"Walchand Institute of Technology, Solapur\",Male,7.78E+09,CS/IT,2015,79,2017,68,0,0,2021,63.72,Dr Satish Lakde,tpo@witsolapur.org,7798250677']\n",
      "['MdIkhlas Patel,ikhlaspatel98@gmail.com,\"Walchand Institute of Technology, Solapur\",Male,8.45E+09,CS/IT,2014,91.4,2016,98,0,0,2021,64.47,Dr Satish Lakde,tpo@witsolapur.org,7798250677']\n",
      "['Vaishnavi Vallal,vaishnavivallal2@gmail.com,\"Walchand Institute of Technology, Solapur\",Female,7.35E+09,CS/IT,2015,86.2,2017,65.53,0,0,2021,79,Dr Satish Lakde,tpo@witsolapur.org,7798250677']\n",
      "['Shrawani Burla,shrawaniburla01@gmail.com,\"NK Orchid College of Engineering & Technology, Solapur\",Female,7.89E+09,EnTC,2015,74.4,2017,62,0,0,2021,78.09,Ravindra Patil,tpo@orchidengg.ac.in,9767107293']\n",
      "['Kartik Madur,kartikmadur111@gmail.com,\"NK Orchid College of Engineering & Technology, Solapur\",Male,9.03E+09,EnTC,2014,73,2016,58,2018,72,2021,65,Ravindra Patil,tpo@orchidengg.ac.in,9767107293']\n",
      "['Pratiksha Fand,fandpratiksha20@gmail.com,\"NK Orchid College of Engineering & Technology, Solapur\",Female,8.46E+09,EnTC,2015,80,0,0,2018,72.06,2021,65,Ravindra Patil,tpo@orchidengg.ac.in,9767107293']\n",
      "['Rajan Shinde,rajanpshinde123@gmail.com,\"NK Orchid College of Engineering & Technology, Solapur\",Male,9.77E+09,EnTC,2015,61.2,0,0,2017,69.8,2021,60.2,Ravindra Patil,tpo@orchidengg.ac.in,9767107293']\n",
      "['Priyanka Hiremath,priyanka.h0221@gmail.com,\"NK Orchid College of Engineering & Technology, Solapur\",Female,7.50E+09,EnTC,2015,84.01,0,0,2018,85,2021,82.99,Ravindra Patil,tpo@orchidengg.ac.in,9767107293']\n",
      "['Jidnya Shah,jidnyanshah11@gmail.com,\"NK Orchid College of Engineering & Technology, Solapur\",Female,7.52E+09,EnTC,2015,82,2017,60.31,0,0,2021,73.39,Ravindra Patil,tpo@orchidengg.ac.in,9767107293']\n",
      "['Amruta Jawale,amrutajawale08@gmail.com,\"NK Orchid College of Engineering & Technology, Solapur\",Female,7.59E+09,EnTC,2014,62.25,0,0,2018,68.89,2021,75,Ravindra Patil,tpo@orchidengg.ac.in,9767107293']\n",
      "['Brijesh Patange,brijeshpatange2407@gmail.com,\"NK Orchid College of Engineering & Technology, Solapur\",Male,8.15E+09,EnTC,2015,77.8,2017,64.14,0,0,2021,79.04,Ravindra Patil,tpo@orchidengg.ac.in,9767107293']\n",
      "['Shruti Bamane,shrutibamane444@gmail.com,\"NK Orchid College of Engineering & Technology, Solapur\",Female,9.76E+09,EnTC,2015,69.2,0,0,2018,72,2021,74.67,Ravindra Patil,tpo@orchidengg.ac.in,9767107293']\n",
      "['Ashwini Shelage,ashwinishelage27@gmail.com,\"NK Orchid College of Engineering & Technology, Solapur\",Female,9.02E+09,EnTC,2015,79,2017,67.88,0,0,2021,72.58,Ravindra Patil,tpo@orchidengg.ac.in,9767107293']\n",
      "['Prasanna Hanamgaon,prasannah5267@gmail.com,\"NK Orchid College of Engineering & Technology, Solapur\",Male,9.31E+09,EnTC,2015,86.6,2017,78.61,0,0,2021,82.99,Ravindra Patil,tpo@orchidengg.ac.in,9767107293']\n",
      "['Vani Anbattul,vanianbattul2000@gmail.com,\"NK Orchid College of Engineering & Technology, Solapur\",Female,7.62E+09,EnTC,2015,69.4,0,0,2018,76.82,2021,73.43,Ravindra Patil,tpo@orchidengg.ac.in,9767107293']\n",
      "['Laxmi Chinta,laxmidc99@gmail.com,\"NK Orchid College of Engineering & Technology, Solapur\",Female,8.21E+09,EnTC,2015,78.21,2017,60.23,0,0,2021,78.18,Ravindra Patil,tpo@orchidengg.ac.in,9767107293']\n",
      "['Sanika Ghanate,sanikaghanate@gmail.com,\"NK Orchid College of Engineering & Technology, Solapur\",Female,7.74E+09,EnTC,2015,68,0,0,2018,75,2021,76.85,Ravindra Patil,tpo@orchidengg.ac.in,9767107293']\n",
      "['Pratiksha Patil,pratikshapatil27699@gmail.com,\"NK Orchid College of Engineering & Technology, Solapur\",Female,9.82E+09,EnTC,2015,85,0,0,2018,79.41,2021,77.71,Ravindra Patil,tpo@orchidengg.ac.in,9767107293']\n",
      "['Shireen Peerzade,shireenpeerzade1999@gmail.com,\"NK Orchid College of Engineering & Technology, Solapur\",Female,7.50E+09,EnTC,2014,79,0,0,2018,75,2021,65.38,Ravindra Patil,tpo@orchidengg.ac.in,9767107293']\n",
      "['Shreya Awate,shreyaawate7@gmail.com,\"NK Orchid College of Engineering & Technology, Solapur\",Female,7.08E+09,EnTC,2015,86.8,0,0,2018,78.35,2021,81.65,Ravindra Patil,tpo@orchidengg.ac.in,9767107293']\n",
      "['Akanksha Bhandari,akanshabhandari1236@gmail.com,\"NK Orchid College of Engineering & Technology, Solapur\",Female,7.22E+09,EnTC,2015,80,0,0,2018,75.71,2021,73.43,Ravindra Patil,tpo@orchidengg.ac.in,9767107293']\n",
      "['Ankita Yalgunde,yalgundeankita@gmail.com,\"NK Orchid College of Engineering & Technology, Solapur\",Female,7.02E+09,EnTC,2015,74,0,0,2018,78,2021,81.6,Ravindra Patil,tpo@orchidengg.ac.in,9767107293']\n",
      "['SHRADDHA KORACHGAON,shradhakorachgova63@gmail.com,\"NK Orchid College of Engineering & Technology, Solapur\",Female,7.25E+09,EnTC,2015,73,0,0,2018,76,2021,75.33,Ravindra Patil,tpo@orchidengg.ac.in,9767107293']\n",
      "['Snehal Chavan,sc326507@gmail.com,\"NK Orchid College of Engineering & Technology, Solapur\",Female,9.08E+09,EnTC,2015,89.2,0,0,2018,87,2021,86.16,Ravindra Patil,tpo@orchidengg.ac.in,9767107293']\n",
      "['Aishwarya Patil,aishwaryapatilsolapur1998@gmail.com,\"NK Orchid College of Engineering & Technology, Solapur\",Female,7.45E+09,EnTC,2014,67.6,0,0,2018,77.53,2021,80.07,Ravindra Patil,tpo@orchidengg.ac.in,9767107293']\n",
      "['Akanksha Tathe,aktathe@gmail.com,\"NK Orchid College of Engineering & Technology, Solapur\",Female,9.42E+09,CS/IT,2015,84.8,2017,63,0,0,2021,79,Ravindra Patil,tpo@orchidengg.ac.in,9767107293']\n",
      "['Shifaara Soudagar,shifaara84@gmail.com,\"NK Orchid College of Engineering & Technology, Solapur\",Female,9.56E+09,CS/IT,2015,71.6,0,0,2018,81.16,2019,79.04,Ravindra Patil,tpo@orchidengg.ac.in,9767107293']\n",
      "['Aayesha Bagalkote,aayeshabagalkote@gmail.com,\"NK Orchid College of Engineering & Technology, Solapur\",Female,8.53E+09,CS/IT,2015,89.4,0,0,2018,80,2021,84,Ravindra Patil,tpo@orchidengg.ac.in,9767107293']\n",
      "['Umesh Udata,umeshudata123@gmail.com,\"NK Orchid College of Engineering & Technology, Solapur\",Male,7.80E+09,CS/IT,2014,69,2016,50.31,2018,76.06,2021,80.8,Ravindra Patil,tpo@orchidengg.ac.in,9767107293']\n",
      "['Tejas Bhosale,tejasbhosale0007@gmail.com,\"NK Orchid College of Engineering & Technology, Solapur\",Male,9.96E+09,CS/IT,2015,71,2017,61,0,0,2021,81,Ravindra Patil,tpo@orchidengg.ac.in,9767107293']\n",
      "['Rushabh Kamble,rushabkamble1rk@gmail.com,\"NK Orchid College of Engineering & Technology, Solapur\",Male,7.97E+09,CS/IT,2015,73.8,0,0,2018,72.81,2021,74.76,Ravindra Patil,tpo@orchidengg.ac.in,9767107293']\n",
      "['Sharad Kolhapure,sharad00kolhapure@gmail.com,\"NK Orchid College of Engineering & Technology, Solapur\",Male,7.02E+09,CS/IT,2015,77.8,0,0,2018,77.94,2021,78.9,Ravindra Patil,tpo@orchidengg.ac.in,9767107293']\n",
      "['Pratibha Chippa,pratibhachippa9@gmail.com,\"NK Orchid College of Engineering & Technology, Solapur\",Female,9.37E+09,CS/IT,2015,71,0,0,2018,78.9,2021,77,Ravindra Patil,tpo@orchidengg.ac.in,9767107293']\n",
      "['Shivanjali Deshmukh,deshmukhshivanjali09@gmail.com,\"NK Orchid College of Engineering & Technology, Solapur\",Female,9.52E+09,CS/IT,2015,78,2017,61,0,0,2021,73.26,Ravindra Patil,tpo@orchidengg.ac.in,9767107293']\n",
      "['Bhavana Mushan,bhavanamushan@gmail.com,\"NK Orchid College of Engineering & Technology, Solapur\",Female,9.51E+09,CS/IT,2015,67,0,0,2018,78,2021,77,Ravindra Patil,tpo@orchidengg.ac.in,9767107293']\n",
      "['Sankalp Korishetti,rajesankalp@gmail.com,\"NK Orchid College of Engineering & Technology, Solapur\",Male,8.79E+09,CS/IT,2011,64.8,0,0,2018,77.44,2021,79.13,Ravindra Patil,tpo@orchidengg.ac.in,9767107293']\n",
      "['Anjali Kumari,anjalithakur3768@gmail.com,\"Bharati Vidyapeeth\\'s College Of Engineering Lavale, Pune\",Female,8.46E+09,CS/IT,2015,85.5,2017,86.8,0,0,2021,65.55,Ajay Katkar,ajayakatkar@gmail.com,9920699090 / 9226337736']\n",
      "['BISHAL PAL,agk.bkp@gmail.com,\"Bharati Vidyapeeth\\'s College Of Engineering Lavale, Pune\",Male,8.46E+09,CS/IT,2014,91.4,2016,72.77,0,0,2021,78.76,Ajay Katkar,ajayakatkar@gmail.com,9920699090 / 9226337736']\n",
      "['Sandesh Kale,sandeshrkp@gmail.com,\"Bharati Vidyapeeth\\'s College Of Engineering Lavale, Pune\",Male,7.45E+09,CS/IT,2015,89,2017,70.31,0,0,2021,66.56,Ajay Katkar,ajayakatkar@gmail.com,9920699090 / 9226337736']\n",
      "['Shruti Kashyap,kashyap.shruti11@gmail.com,\"Bharati Vidyapeeth\\'s College Of Engineering Lavale, Pune\",Female,9.17E+09,CS/IT,2015,95,2017,92,0,0,2021,71.3,Ajay Katkar,ajayakatkar@gmail.com,9920699090 / 9226337736']\n",
      "['Pooja Shitole,poojashitole257@gmail.com,\"Bharati Vidyapeeth\\'s College Of Engineering Lavale, Pune\",Female,9.67E+09,CS/IT,2015,85.6,2017,70.46,0,0,2021,72.19,Ajay Katkar,ajayakatkar@gmail.com,9920699090 / 9226337736']\n",
      "['Samiraj Shirsat,samirajshirsat@gmail.com,\"Bharati Vidyapeeth\\'s College Of Engineering Lavale, Pune\",Male,7.80E+09,CS/IT,2015,78.2,0,0,2018,72.4,2021,58,Ajay Katkar,ajayakatkar@gmail.com,9920699090 / 9226337736']\n",
      "['Akanksha Yadav,yadavakanksha.akki98@gmail.com,\"Bharati Vidyapeeth\\'s College Of Engineering Lavale, Pune\",Female,9.92E+09,CS/IT,2015,88,2017,79.87,0,0,2021,72.69,Ajay Katkar,ajayakatkar@gmail.com,9920699090 / 9226337736']\n",
      "['Yashasvi Ayane,aartiayane@gmail.com,\"Bharati Vidyapeeth\\'s College Of Engineering Lavale, Pune\",Female,9.07E+09,CS/IT,2015,83.3,2017,62,0,0,2021,62,Ajay Katkar,ajayakatkar@gmail.com,9920699090 / 9226337736']\n",
      "['Pratik Zimbre,pratikzimbre12@gmail.com,\"Bharati Vidyapeeth\\'s College Of Engineering Lavale, Pune\",Male,7.78E+09,CS/IT,2015,85,2017,63,0,0,2021,58.67,Ajay Katkar,ajayakatkar@gmail.com,9920699090 / 9226337736']\n",
      "['Utkarsh Shukla,shuklautkarsh73@gmail.com,\"Bharati Vidyapeeth\\'s College Of Engineering Lavale, Pune\",Male,9.77E+09,CS/IT,2015,76,2017,61.96,0,0,2021,69.99,Ajay Katkar,ajayakatkar@gmail.com,9920699090 / 9226337736']\n",
      "['Nikhil Nerkar,nerkar.nikhil98@gmail.com,\"Bharati Vidyapeeth\\'s College Of Engineering Lavale, Pune\",Male,8.86E+09,CS/IT,2014,76,2016,65,2018,71.5,2019,60,Ajay Katkar,ajayakatkar@gmail.com,9920699090 / 9226337736']\n",
      "['Bhavesh Bardiya,gauravbardiya12@gmail.com,\"Bharati Vidyapeeth\\'s College Of Engineering Lavale, Pune\",Male,7.22E+09,CS/IT,2015,89.6,0,0,2018,78.44,2021,64,Ajay Katkar,ajayakatkar@gmail.com,9920699090 / 9226337736']\n",
      "['GAURAV BORADE,gauravsbk6@gmail.com,\"Bharati Vidyapeeth\\'s College Of Engineering Lavale, Pune\",Male,7.97E+09,CS/IT,2015,96,2017,72.4,0,0,2021,68.8,Ajay Katkar,ajayakatkar@gmail.com,9920699090 / 9226337736']\n",
      "['Jitendra Choudhary,jitendrachoudhary8975@gmail.com,\"Bharati Vidyapeeth\\'s College Of Engineering Lavale, Pune\",Male,8.98E+09,CS/IT,2015,76,2017,70,0,0,2021,66,Ajay Katkar,ajayakatkar@gmail.com,9920699090 / 9226337736']\n",
      "['Atharv Jangam,atharvjangam30@gmail.com,\"Bharati Vidyapeeth\\'s College Of Engineering Lavale, Pune\",Male,9.07E+09,CS/IT,2015,81,2017,68.2,0,0,2021,65.25,Ajay Katkar,ajayakatkar@gmail.com,9920699090 / 9226337736']\n",
      "['Vaishnavi Nagare,nagarevaishnavi17@gmail.com,\"Bharati Vidyapeeth\\'s College Of Engineering Lavale, Pune\",Female,9.76E+09,CS/IT,2015,88.8,2017,70.4,0,0,2021,67.05,Ajay Katkar,ajayakatkar@gmail.com,9920699090 / 9226337736']\n",
      "['Rajnandini Kuberkar,rajnandinikuberkar9763@gmail.com,\"Bharati Vidyapeeth\\'s College Of Engineering Lavale, Pune\",Female,9.69E+09,CS/IT,2015,88,0,0,2018,70,2021,57,Ajay Katkar,ajayakatkar@gmail.com,9920699090 / 9226337736']\n",
      "['Omkar BIradar,omkarbiradar93@gmail.com,\"Bharati Vidyapeeth\\'s College Of Engineering Lavale, Pune\",Male,7.72E+09,CS/IT,2014,68.8,0,0,2018,69.4,2021,58,Ajay Katkar,ajayakatkar@gmail.com,9920699090 / 9226337736']\n",
      "['Darshan Kulthe,darshankulthe55@gmail.com,\"Bharati Vidyapeeth\\'s College Of Engineering Lavale, Pune\",Male,8.09E+09,CS/IT,2015,84.6,2017,63.38,0,0,2021,60,Ajay Katkar,ajayakatkar@gmail.com,9920699090 / 9226337736']\n",
      "['Gaurav Sathe,gauravsathe49@gmail.com,\"Bharati Vidyapeeth\\'s College Of Engineering Lavale, Pune\",Male,7.06E+09,CS/IT,2015,86.6,2017,69.8,0,0,2021,65,Ajay Katkar,ajayakatkar@gmail.com,9920699090 / 9226337736']\n",
      "['Shubham Bharti,srbharti309@gmail.com,\"Bharati Vidyapeeth\\'s College Of Engineering Lavale, Pune\",Male,9.31E+09,CS/IT,2015,85.4,0,0,2018,73.63,2021,55,Ajay Katkar,ajayakatkar@gmail.com,9920699090 / 9226337736']\n",
      "['Sneha Menon,menonsneha56@gmail.com,\"Bharati Vidyapeeth\\'s College Of Engineering Lavale, Pune\",Female,8.31E+09,CS/IT,2014,85.5,2016,68.9,0,0,2021,59,Ajay Katkar,ajayakatkar@gmail.com,9920699090 / 9226337736']\n",
      "['Maheshwar Kumbhar,maheshwarmkumbhar@gmail.com,\"Bharati Vidyapeeth\\'s College Of Engineering Lavale, Pune\",Male,9.77E+09,CS/IT,2014,84,2016,61,2018,70.56,2021,65,Ajay Katkar,ajayakatkar@gmail.com,9920699090 / 9226337736']\n",
      "['Shwetali Bhagwat,shwetalisbhagwat@gmail.com,\"Bharati Vidyapeeth\\'s College Of Engineering Lavale, Pune\",Female,8.81E+09,CS/IT,2015,93.4,2017,75.69,0,0,2021,68.02,Ajay Katkar,ajayakatkar@gmail.com,9920699090 / 9226337736']\n",
      "['Sukanya Reddy,sukanyar756@gmail.com,\"Bharati Vidyapeeth\\'s College Of Engineering Lavale, Pune\",Female,7.07E+09,CS/IT,2015,80.2,0,0,2018,79.63,2021,57.26,Ajay Katkar,ajayakatkar@gmail.com,9920699090 / 9226337736']\n",
      "['Shubham Birari,shubhambirari54@gmail.com,\"Bharati Vidyapeeth\\'s College Of Engineering Lavale, Pune\",Male,8.45E+09,CS/IT,2014,80.8,0,0,2018,74.31,2021,55.31,Ajay Katkar,ajayakatkar@gmail.com,9920699090 / 9226337736']\n",
      "['Megha Ghatol,meghaghatolo1998@gmail.com,\"Bharati Vidyapeeth\\'s College Of Engineering Lavale, Pune\",Female,9.15E+09,CS/IT,2014,80.69,2016,60.78,0,0,2021,60.79,Ajay Katkar,ajayakatkar@gmail.com,9920699090 / 9226337736']\n",
      "['Manasi Bais,manasibais62771@gmail.com,\"Cummins College of Engineering for Women, Nagpur\",Female,8.33E+09,CS/IT,2015,83.8,0,0,2018,66.76,2021,63.22,Mr Manish Raut,manish.raut@cumminscollege.edu.in,8411915585']\n",
      "['Samruddhi Patil,samruddhipatil2811@gmail.com,\"Cummins College of Engineering for Women, Nagpur\",Female,8.61E+09,CS/IT,2015,85,2017,70,0,0,2021,65.74,Mr Manish Raut,manish.raut@cumminscollege.edu.in,8411915585']\n",
      "['Jagruti Pancham,jagruti.pancham@cumminscollege.edu.in,\"Cummins College of Engineering for Women, Nagpur\",Female,9.96E+09,CS/IT,2015,88.4,2017,62,0,0,2021,63.76,Mr Manish Raut,manish.raut@cumminscollege.edu.in,8411915585']\n",
      "['Apeksha Dhanaskar,apekshadhanaskar40@gmail.com,\"Cummins College of Engineering for Women, Nagpur\",Female,7.06E+09,CS/IT,2015,84.6,2017,69.69,0,0,2021,61,Mr Manish Raut,manish.raut@cumminscollege.edu.in,8411915585']\n",
      "['Vaishnavi Battuwar,vaishnavibattuwar007@gmail.com,\"Cummins College of Engineering for Women, Nagpur\",Female,8.64E+09,CS/IT,2015,75.66,2017,95.08,0,0,2021,73.76,Mr Manish Raut,manish.raut@cumminscollege.edu.in,8411915585']\n",
      "['Madhura Shastry,madhurashastry14@gmail.com,\"Cummins College of Engineering for Women, Nagpur\",Female,8.61E+09,CS/IT,2015,95.6,2017,74.8,0,0,2021,68,Mr Manish Raut,manish.raut@cumminscollege.edu.in,8411915585']\n",
      "['Urvashi Kowe,urvashikowe10@gmail.com,\"Cummins College of Engineering for Women, Nagpur\",Female,8.77E+09,CS/IT,2015,81.4,2017,61.69,0,0,2021,58.25,Mr Manish Raut,manish.raut@cumminscollege.edu.in,8411915585']\n",
      "['Snehal Warade,snehalwarade1020@gmail.com,\"Cummins College of Engineering for Women, Nagpur\",Female,8.79E+09,CS/IT,2015,75,0,0,2018,63.4,2021,56.6,Mr Manish Raut,manish.raut@cumminscollege.edu.in,8411915585']\n",
      "['Apeksha Ganorkar,apekshaganorkar@gmail.com,\"Cummins College of Engineering for Women, Nagpur\",Female,9.53E+09,CS/IT,2015,88.4,0,0,2018,64.63,2021,59.65,Mr Manish Raut,manish.raut@cumminscollege.edu.in,8411915585']\n",
      "['Roshni Lonbale,lonbalerosha1799@gmail.com,\"Cummins College of Engineering for Women, Nagpur\",Female,7.52E+09,CS/IT,2015,86,2017,62.76,0,0,2021,63.76,Mr Manish Raut,manish.raut@cumminscollege.edu.in,8411915585']\n",
      "['Disha Dhole,dishadhole263@gmail.com,\"Cummins College of Engineering for Women, Nagpur\",Female,9.83E+09,CS/IT,2015,73.23,2017,64,0,0,2021,65.92,Mr Manish Raut,manish.raut@cumminscollege.edu.in,8411915585']\n",
      "['Bhagyashree Gaikwad,bhagyashree.06997@gmail.com,\"Cummins College of Engineering for Women, Nagpur\",Female,7.71E+09,CS/IT,2013,77.8,0,0,2018,71.53,2021,58,Mr Manish Raut,manish.raut@cumminscollege.edu.in,8411915585']\n"
     ]
    }
   ],
   "source": [
    "import csv\n",
    " \n",
    "with open(\"CSVFile.csv\",'r') as csvfile:\n",
    "    reader = csv.reader(csvfile, delimiter = '|')\n",
    "    for row in reader:\n",
    "        print(row)"
   ]
  },
  {
   "cell_type": "markdown",
   "metadata": {},
   "source": [
    "Problem 32: Write a function mutate to compute all words generated by a single mutation on a given word. A mutation is defined as inserting a character, deleting a character, replacing a character, or swapping 2 consecutive characters in a string. For simplicity consider only letters from a to z."
   ]
  },
  {
   "cell_type": "code",
   "execution_count": null,
   "metadata": {},
   "outputs": [],
   "source": []
  },
  {
   "cell_type": "markdown",
   "metadata": {},
   "source": [
    "Problem 33: Write a function nearly_equal to test whether two strings are nearly equal. Two strings a and b are nearly equal when a can be generated by a single mutation on b."
   ]
  },
  {
   "cell_type": "code",
   "execution_count": null,
   "metadata": {},
   "outputs": [],
   "source": []
  },
  {
   "cell_type": "markdown",
   "metadata": {},
   "source": [
    "# Dictionaries"
   ]
  },
  {
   "cell_type": "markdown",
   "metadata": {},
   "source": [
    "Word Frequency"
   ]
  },
  {
   "cell_type": "code",
   "execution_count": 64,
   "metadata": {},
   "outputs": [
    {
     "name": "stdout",
     "output_type": "stream",
     "text": [
      "{'It': 2, 'is': 2, 'used': 5, 'for:': 1, 'web': 2, 'development': 1, '(server-side),': 1, 'software': 3, 'development,': 1, 'mathematics,': 1, 'system': 1, 'scripting.': 1, 'What': 1, 'can': 10, 'Python': 11, 'do?': 1, 'be': 7, 'on': 3, 'a': 4, 'server': 1, 'to': 6, 'create': 2, 'applications.': 1, 'alongside': 1, 'workflows.': 1, 'connect': 1, 'database': 1, 'systems.': 1, 'also': 1, 'read': 1, 'and': 2, 'modify': 1, 'files.': 1, 'handle': 1, 'big': 1, 'data': 1, 'perform': 1, 'complex': 1, 'mathematics.': 1, 'for': 2, 'rapid': 1, 'prototyping,': 1, 'or': 2, 'production-ready': 1, 'development.': 1, 'Why': 1, 'Python?': 1, 'works': 1, 'different': 1, 'platforms': 1, '(Windows,': 1, 'Mac,': 1, 'Linux,': 1, 'Raspberry': 1, 'Pi,': 1, 'etc).': 1, 'has': 2, 'simple': 1, 'syntax': 2, 'similar': 1, 'the': 1, 'English': 1, 'language.': 1, 'that': 3, 'allows': 1, 'developers': 1, 'write': 1, 'programs': 1, 'with': 1, 'fewer': 1, 'lines': 1, 'than': 1, 'some': 1, 'other': 1, 'programming': 1, 'languages.': 1, 'runs': 1, 'an': 2, 'interpreter': 1, 'system,': 1, 'meaning': 1, 'code': 1, 'executed': 1, 'as': 2, 'soon': 1, 'it': 1, 'written.': 1, 'This': 1, 'means': 1, 'prototyping': 1, 'very': 1, 'quick.': 1, 'treated': 1, 'in': 1, 'procedural': 1, 'way,': 1, 'object-oriented': 1, 'way': 1, 'functional': 1, 'way.': 1}\n"
     ]
    }
   ],
   "source": [
    "def word_frequency(words):\n",
    "    frequency = {}\n",
    "    for w in words:\n",
    "        frequency[w] = frequency.get(w, 0) + 1\n",
    "    return frequency\n",
    "\n",
    "def read_words(filename):\n",
    "    return open(filename).read().split()\n",
    "\n",
    "words = read_words(\"python.txt\")\n",
    "print(word_frequency(words))\n"
   ]
  },
  {
   "cell_type": "markdown",
   "metadata": {},
   "source": [
    "Problem 34: Improve the above program to print the words in the descending order of the number of occurrences."
   ]
  },
  {
   "cell_type": "code",
   "execution_count": 65,
   "metadata": {},
   "outputs": [
    {
     "name": "stdout",
     "output_type": "stream",
     "text": [
      "[('Python', 11), ('can', 10), ('be', 7), ('to', 6), ('used', 5), ('a', 4), ('that', 3), ('on', 3), ('software', 3), ('as', 2), ('an', 2), ('syntax', 2), ('has', 2), ('or', 2), ('for', 2), ('and', 2), ('create', 2), ('web', 2), ('is', 2), ('It', 2), ('way.', 1), ('functional', 1), ('way', 1), ('object-oriented', 1), ('way,', 1), ('procedural', 1), ('in', 1), ('treated', 1), ('quick.', 1), ('very', 1), ('prototyping', 1), ('means', 1), ('This', 1), ('written.', 1), ('it', 1), ('soon', 1), ('executed', 1), ('code', 1), ('meaning', 1), ('system,', 1), ('interpreter', 1), ('runs', 1), ('languages.', 1), ('programming', 1), ('other', 1), ('some', 1), ('than', 1), ('lines', 1), ('fewer', 1), ('with', 1), ('programs', 1), ('write', 1), ('developers', 1), ('allows', 1), ('language.', 1), ('English', 1), ('the', 1), ('similar', 1), ('simple', 1), ('etc).', 1), ('Pi,', 1), ('Raspberry', 1), ('Linux,', 1), ('Mac,', 1), ('(Windows,', 1), ('platforms', 1), ('different', 1), ('works', 1), ('Python?', 1), ('Why', 1), ('development.', 1), ('production-ready', 1), ('prototyping,', 1), ('rapid', 1), ('mathematics.', 1), ('complex', 1), ('perform', 1), ('data', 1), ('big', 1), ('handle', 1), ('files.', 1), ('modify', 1), ('read', 1), ('also', 1), ('systems.', 1), ('database', 1), ('connect', 1), ('workflows.', 1), ('alongside', 1), ('applications.', 1), ('server', 1), ('do?', 1), ('What', 1), ('scripting.', 1), ('system', 1), ('mathematics,', 1), ('development,', 1), ('(server-side),', 1), ('development', 1), ('for:', 1)]\n"
     ]
    }
   ],
   "source": [
    "frequency = word_frequency(words)\n",
    "copy =[]\n",
    "for(k,v) in frequency.items():\n",
    "    copy.append((k,v))\n",
    "    \n",
    "copy.sort(key=lambda x:x[1])\n",
    "print(copy[::-1])\n",
    "    \n"
   ]
  },
  {
   "cell_type": "markdown",
   "metadata": {},
   "source": [
    "Problem 35: Write a program to count frequency of characters in a given file. Can you use character frequency to tell whether the given file is a Python program file, C program file or a text file?"
   ]
  },
  {
   "cell_type": "code",
   "execution_count": 66,
   "metadata": {},
   "outputs": [
    {
     "data": {
      "text/plain": [
       "970"
      ]
     },
     "execution_count": 66,
     "metadata": {},
     "output_type": "execute_result"
    }
   ],
   "source": [
    "def charcount(filename):\n",
    "    return len(open(filename).read())\n",
    "charcount('python.txt')"
   ]
  },
  {
   "cell_type": "markdown",
   "metadata": {},
   "source": [
    "Problem 36: Write a program to find anagrams in a given list of words. Two words are called anagrams if one word can be formed by rearranging letters of another. For example 'eat', 'ate' and 'tea' are anagrams."
   ]
  },
  {
   "cell_type": "code",
   "execution_count": 68,
   "metadata": {},
   "outputs": [],
   "source": [
    "# def anagrams(words):\n",
    "#     for i in words:\n",
    "#        pass"
   ]
  },
  {
   "cell_type": "markdown",
   "metadata": {},
   "source": [
    "Problem 37: Write a function valuesort to sort values of a dictionary based on the key.\n",
    "\n"
   ]
  },
  {
   "cell_type": "code",
   "execution_count": 69,
   "metadata": {},
   "outputs": [
    {
     "name": "stdout",
     "output_type": "stream",
     "text": [
      "[3, 1, 2]\n"
     ]
    }
   ],
   "source": [
    "def valuesort(dic):\n",
    "    copy = []\n",
    "    result = []\n",
    "    for k,v in dic.items():\n",
    "        copy.append((k,v))\n",
    "    \n",
    "    copy.sort()\n",
    "    for i in copy:\n",
    "        result.append(i[1])\n",
    "    return result\n",
    "\n",
    "print(valuesort({'x': 1, 'y': 2, 'a': 3}))"
   ]
  },
  {
   "cell_type": "markdown",
   "metadata": {},
   "source": [
    "Problem 38: Write a function invertdict to interchange keys and values in a dictionary. For simplicity, assume that all values are unique."
   ]
  },
  {
   "cell_type": "code",
   "execution_count": 70,
   "metadata": {},
   "outputs": [
    {
     "name": "stdout",
     "output_type": "stream",
     "text": [
      "{1: 'x', 2: 'y', 3: 'a'}\n"
     ]
    }
   ],
   "source": [
    "\n",
    "def invertdict(dic):\n",
    "    copy = {}\n",
    "    result = []\n",
    "    for k,v in dic.items():\n",
    "        copy[v] = k\n",
    "    return copy\n",
    "    \n",
    "\n",
    "\n",
    "print(invertdict({'x': 1, 'y': 2, 'a': 3}))"
   ]
  },
  {
   "cell_type": "markdown",
   "metadata": {},
   "source": [
    "# Modules"
   ]
  },
  {
   "cell_type": "markdown",
   "metadata": {},
   "source": [
    "Problem 1: Write a program to list all files in the given directory."
   ]
  },
  {
   "cell_type": "code",
   "execution_count": 9,
   "metadata": {
    "scrolled": true
   },
   "outputs": [
    {
     "name": "stdout",
     "output_type": "stream",
     "text": [
      "['final-hpc-unit-i(1).pdf', 'final-hpc-unit-ii.pdf', 'HPC Assignment 01.pdf', 'HPC Assignment 02.pdf', 'HPC Assignment 03.pdf', 'HPC ASSIGNMENT 05.pdf', 'HPC ASSIGNMENT 06.pdf', 'HPC ASSIGNMENT O4.pdf', 'hpc-unit-iii-2018.pdf', 'unit 3.ppt']\n"
     ]
    }
   ],
   "source": [
    "import os\n",
    "\n",
    "files_list = [f for f in os.listdir('F:\\BE\\HPC') if os.path.isfile(os.path.join('F:\\BE\\HPC', f))]\n",
    "print(files_list);"
   ]
  },
  {
   "cell_type": "markdown",
   "metadata": {},
   "source": [
    "Problem 2: Write a program extcount.py to count number of files for each extension in the given directory. The program should take a directory name as argument and print count and extension for each available file extension.\n"
   ]
  },
  {
   "cell_type": "code",
   "execution_count": 17,
   "metadata": {},
   "outputs": [
    {
     "name": "stdout",
     "output_type": "stream",
     "text": [
      "{'pdf': 9, 'ppt': 1}\n"
     ]
    }
   ],
   "source": [
    "import os\n",
    "extension={}\n",
    "files_list = [f for f in os.listdir('F:\\BE\\HPC') if os.path.isfile(os.path.join('F:\\BE\\HPC', f))]\n",
    "for f in files_list:\n",
    "    ext = f.split(\".\")[1]\n",
    "    extension[ext] = extension.get(ext,0) + 1\n",
    "        \n",
    "print(extension)\n",
    "        "
   ]
  },
  {
   "cell_type": "code",
   "execution_count": 35,
   "metadata": {},
   "outputs": [
    {
     "name": "stdout",
     "output_type": "stream",
     "text": [
      ".txt \t 996\t2021-04-29\n",
      "add.py \t 35\t2021-05-04\n",
      "b.py \t 170\t2021-05-04\n",
      "CSVFile.csv \t 61430\t2021-05-03\n",
      "File Handling.ipynb \t 8004\t2021-04-30\n",
      "file1.txt \t 355\t2021-04-30\n",
      "foo.txt \t 522\t2021-04-29\n",
      "Iterators & Generators.ipynb \t 7294\t2021-05-04\n",
      "Object Oriented Programming.ipynb \t 3239\t2021-05-03\n",
      "Python Assignment 01.ipynb \t 586651\t2021-05-04\n",
      "Python Assignment02.ipynb \t 6108\t2021-04-30\n",
      "python.txt \t 970\t2021-04-29\n",
      "Untitled.ipynb \t 24859\t2021-05-04\n"
     ]
    }
   ],
   "source": [
    "import os\n",
    "from datetime import date\n",
    "\n",
    "cwd = os.getcwd()\n",
    "files_list = [f for f in os.listdir(cwd) if os.path.isfile(os.path.join(cwd, f))]\n",
    "#print(files_list);\n",
    "for f in files_list:\n",
    "    date = date.fromtimestamp(os.stat(f).st_mtime)\n",
    "    print(f\"{f} \\t {os.stat(f).st_size}\\t{date}\")"
   ]
  },
  {
   "cell_type": "code",
   "execution_count": 34,
   "metadata": {},
   "outputs": [
    {
     "name": "stdout",
     "output_type": "stream",
     "text": [
      "Date = 2021-04-29\n"
     ]
    }
   ],
   "source": [
    "\n",
    "from datetime import date\n",
    "\n",
    "timestamp = date.fromtimestamp(1619709178.279987)\n",
    "print(\"Date =\", timestamp)\n"
   ]
  },
  {
   "cell_type": "code",
   "execution_count": null,
   "metadata": {},
   "outputs": [],
   "source": []
  }
 ],
 "metadata": {
  "kernelspec": {
   "display_name": "Python 3",
   "language": "python",
   "name": "python3"
  },
  "language_info": {
   "codemirror_mode": {
    "name": "ipython",
    "version": 3
   },
   "file_extension": ".py",
   "mimetype": "text/x-python",
   "name": "python",
   "nbconvert_exporter": "python",
   "pygments_lexer": "ipython3",
   "version": "3.8.3"
  }
 },
 "nbformat": 4,
 "nbformat_minor": 4
}

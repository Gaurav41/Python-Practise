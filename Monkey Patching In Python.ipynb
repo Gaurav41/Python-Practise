{
 "cells": [
  {
   "cell_type": "code",
   "execution_count": 7,
   "metadata": {},
   "outputs": [
    {
     "name": "stdout",
     "output_type": "stream",
     "text": [
      "7\n",
      "-3\n"
     ]
    }
   ],
   "source": [
    "class abc:\n",
    "    def __init__(self,a,b):\n",
    "        self.a = a\n",
    "        self.b = b\n",
    "    def add(self):\n",
    "        return self.a + self.b\n",
    "    \n",
    "obj = abc(2,5)\n",
    "print(obj.add())\n",
    "\n",
    "def sub(self):\n",
    "    return self.a - self.b \n",
    "\n",
    "abc.sub = sub\n",
    "\n",
    "print(obj.sub())"
   ]
  },
  {
   "cell_type": "code",
   "execution_count": 10,
   "metadata": {},
   "outputs": [
    {
     "data": {
      "text/plain": [
       "[('__init__',\n",
       "  <bound method abc.__init__ of <__main__.abc object at 0x000001D1D0414FA0>>),\n",
       " ('add',\n",
       "  <bound method abc.add of <__main__.abc object at 0x000001D1D0414FA0>>),\n",
       " ('sub', <bound method sub of <__main__.abc object at 0x000001D1D0414FA0>>)]"
      ]
     },
     "execution_count": 10,
     "metadata": {},
     "output_type": "execute_result"
    }
   ],
   "source": [
    "import inspect\n",
    "inspect.getmembers(obj, predicate=inspect.ismethod)  "
   ]
  },
  {
   "cell_type": "code",
   "execution_count": null,
   "metadata": {},
   "outputs": [],
   "source": []
  },
  {
   "cell_type": "code",
   "execution_count": null,
   "metadata": {},
   "outputs": [],
   "source": []
  }
 ],
 "metadata": {
  "kernelspec": {
   "display_name": "Python 3",
   "language": "python",
   "name": "python3"
  },
  "language_info": {
   "codemirror_mode": {
    "name": "ipython",
    "version": 3
   },
   "file_extension": ".py",
   "mimetype": "text/x-python",
   "name": "python",
   "nbconvert_exporter": "python",
   "pygments_lexer": "ipython3",
   "version": "3.8.3"
  }
 },
 "nbformat": 4,
 "nbformat_minor": 4
}

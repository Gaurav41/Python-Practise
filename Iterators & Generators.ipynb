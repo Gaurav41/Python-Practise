{
 "cells": [
  {
   "cell_type": "markdown",
   "metadata": {},
   "source": [
    "# Iterators"
   ]
  },
  {
   "cell_type": "markdown",
   "metadata": {},
   "source": [
    "Problem 1: Write an iterator class reverse_iter, that takes a list and iterates it from the reverse direction. ::"
   ]
  },
  {
   "cell_type": "code",
   "execution_count": 5,
   "metadata": {},
   "outputs": [
    {
     "name": "stdout",
     "output_type": "stream",
     "text": [
      "4\n",
      "3\n",
      "2\n",
      "1\n"
     ]
    }
   ],
   "source": [
    "class reverse_iter:\n",
    "    def __init__(self, l):\n",
    "        self.l = l[::-1]\n",
    "        self.i = 0\n",
    "\n",
    "    def __iter__(self):\n",
    "        return self\n",
    "\n",
    "    def __next__(self):\n",
    "        if self.i < len(self.l):\n",
    "            i = self.i\n",
    "            self.i += 1\n",
    "            return self.l[i]\n",
    "        else:\n",
    "            raise StopIteration()\n",
    "    def next(self):\n",
    "        return self.__next__()\n",
    "    \n",
    "    \n",
    "it = reverse_iter([1, 2, 3, 4])\n",
    "print(it.next())\n",
    "print(it.next())\n",
    "print(it.next())\n",
    "print(it.next())\n"
   ]
  },
  {
   "cell_type": "markdown",
   "metadata": {},
   "source": [
    "# Generators"
   ]
  },
  {
   "cell_type": "markdown",
   "metadata": {},
   "source": [
    "Problem 2: Write a program that takes one or more filenames as arguments and prints all the lines which are longer than 40 characters."
   ]
  },
  {
   "cell_type": "code",
   "execution_count": 104,
   "metadata": {},
   "outputs": [
    {
     "name": "stdout",
     "output_type": "stream",
     "text": [
      "<generator object readfiles at 0x000001BA2D157D60>\n",
      "\n",
      "\n",
      "Python can be used alongside software to create workflows.\n",
      "\n",
      "Python can connect to database systems. It can also read and modify files.\n",
      "\n",
      "Python can be used to handle big data and perform complex mathematics.\n",
      "\n",
      "Python can be used for rapid prototyping, or for production-ready software development.\n",
      "\n",
      "\n",
      "\n",
      "\n",
      "\n",
      "\n",
      "\n",
      "\n",
      "\n",
      "\n",
      "\n",
      "Python can be used on a server to create web applications.\n",
      "\n",
      "Python can be used alongside software to create workflows.\n",
      "\n",
      "Python can connect to database systems. It can also read and modify files.\n",
      "\n",
      "Python can be used to handle big data and perform complex mathematics.\n",
      "\n",
      "Python can be used for rapid prototyping, or for production-ready software development.\n"
     ]
    }
   ],
   "source": [
    "import re\n",
    "def readfiles(filenames):\n",
    "    for f in filenames:\n",
    "        for line in open(f):\n",
    "            yield line\n",
    "\n",
    "def grep(pattern, lines):\n",
    "    #return (line for line in lines if re.match(pattern, line) )\n",
    "    for line in lines:\n",
    "        #result = re.match(\"[\\w]\", line)\n",
    "        #if result:\n",
    "        if len(line) > 40:\n",
    "            print(line)\n",
    "        else:\n",
    "            print(\"\")\n",
    "\n",
    "def main(pattern, filenames):\n",
    "    lines = readfiles(filenames)\n",
    "   # for i in lines:\n",
    "    #    print(i)\n",
    "    grep(pattern, lines)\n",
    "      \n",
    "    \n",
    "    \n",
    "filenames = [\"file1.txt\",\"foo.txt\"]\n",
    "main(\"\\s+\",filenames)"
   ]
  },
  {
   "cell_type": "markdown",
   "metadata": {},
   "source": [
    "Problem 3: Write a function findfiles that recursively descends the directory tree for the specified directory and generates paths of all the files in the tree."
   ]
  },
  {
   "cell_type": "code",
   "execution_count": 84,
   "metadata": {},
   "outputs": [
    {
     "ename": "SyntaxError",
     "evalue": "unexpected EOF while parsing (<ipython-input-84-c3e9a0aec23f>, line 11)",
     "output_type": "error",
     "traceback": [
      "\u001b[1;36m  File \u001b[1;32m\"<ipython-input-84-c3e9a0aec23f>\"\u001b[1;36m, line \u001b[1;32m11\u001b[0m\n\u001b[1;33m    \u001b[0m\n\u001b[1;37m    ^\u001b[0m\n\u001b[1;31mSyntaxError\u001b[0m\u001b[1;31m:\u001b[0m unexpected EOF while parsing\n"
     ]
    }
   ],
   "source": [
    "import os\n",
    "\n",
    "def findfiles(path):\n",
    "   \n",
    "    for root,dirs,files in os.walk(path):\n",
    "        print(files)\n",
    "        \n",
    "        \n",
    "myPath = os.getcwd()\n",
    "print(findfiles(myPath)\n",
    "    "
   ]
  },
  {
   "cell_type": "markdown",
   "metadata": {},
   "source": [
    "Problem 3: Write a function to compute the number of python files (.py extension) in a specified directory recursively."
   ]
  },
  {
   "cell_type": "code",
   "execution_count": 83,
   "metadata": {},
   "outputs": [
    {
     "name": "stdout",
     "output_type": "stream",
     "text": [
      "1\n"
     ]
    }
   ],
   "source": [
    "import os\n",
    "\n",
    "def numOfPy(path):\n",
    "    count = 0\n",
    "    \n",
    "    for _,_,files in os.walk(path):\n",
    "        for f in files:\n",
    "            if f.endswith(\".py\"):\n",
    "                count +=1\n",
    "    return (count)\n",
    "\n",
    "myPath= os.getcwd()\n",
    "print(numOfPy(myPath))\n",
    "    "
   ]
  },
  {
   "cell_type": "code",
   "execution_count": 102,
   "metadata": {},
   "outputs": [
    {
     "name": "stdout",
     "output_type": "stream",
     "text": [
      "['add.py', 'b.py']\n",
      "<generator object readfiles at 0x000001BA2D157A50>\n"
     ]
    }
   ],
   "source": [
    "import os\n",
    "\n",
    "def numOfPy(path):\n",
    "    filenames = []\n",
    "    for _,_,files in os.walk(path):\n",
    "        for f in files:\n",
    "            if f.endswith(\".py\"):\n",
    "                filenames.append(f)\n",
    "                                    \n",
    "    return filenames\n",
    "                \n",
    "                \n",
    "    \n",
    "def readfiles(filenames):\n",
    "    count = 0;\n",
    "    for f in filenames:\n",
    "        for line in open(f):\n",
    "            #count += 1\n",
    "            yield line\n",
    "\n",
    "\n",
    "def main():\n",
    "    myPath= os.getcwd()\n",
    "    filenames = numOfPy(myPath)\n",
    "    print(filenames)\n",
    "    lines = readfiles(filenames)\n",
    "    print(lines)\n",
    "    \n",
    "    \n",
    "main()"
   ]
  },
  {
   "cell_type": "code",
   "execution_count": null,
   "metadata": {},
   "outputs": [],
   "source": []
  },
  {
   "cell_type": "code",
   "execution_count": null,
   "metadata": {},
   "outputs": [],
   "source": []
  }
 ],
 "metadata": {
  "kernelspec": {
   "display_name": "Python 3",
   "language": "python",
   "name": "python3"
  },
  "language_info": {
   "codemirror_mode": {
    "name": "ipython",
    "version": 3
   },
   "file_extension": ".py",
   "mimetype": "text/x-python",
   "name": "python",
   "nbconvert_exporter": "python",
   "pygments_lexer": "ipython3",
   "version": "3.8.3"
  }
 },
 "nbformat": 4,
 "nbformat_minor": 4
}
